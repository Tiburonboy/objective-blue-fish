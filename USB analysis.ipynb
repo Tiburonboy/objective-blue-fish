{
 "cells": [
  {
   "cell_type": "markdown",
   "metadata": {},
   "source": [
    "# U.S. Bancorp\n",
    "Last update: 10 Oct 2021  \n",
    "annual report: 2020  \n",
    "share price data from: 9-26-2021  \n",
    "\n",
    "## Abstract\n",
    "This notebook was developed to use as a template to analyze dividend paying companies as potential investments. This company was selected for analysis because it is on the Dividend Aristocrat list and passes the quick look tests.  \n",
    "\n",
    "## Introduction\n",
    "[U.S. Bancorp](https://ir.usbank.com/), a financial services holding company, provides various financial services\n",
    "in the United States. It operates in Corporate and Commercial Banking, Consumer and Business Banking, Wealth Management and Investment Services, Payment Services, and Treasury and Corporate Support segments.\n",
    "\n",
    "Sector(s): Financial Services  \n",
    "Industry: Banks-Regional  \n",
    "Earnings Date: Oct 14, 2021  \n",
    "Ex-Dividend Date: Sep 29, 2021  \n",
    "  \n",
    "## Bottom line up front\n",
    "Recommendation: Buy - Follow the link to the [Conclusion](#section11).\n",
    "\n",
    "## Company description\n",
    "[U.S. Bancorp](https://en.wikipedia.org/wiki/U.S._Bancorp) is an American bank holding company based in Minneapolis, Minnesota, and incorporated in Delaware. It is the parent company of U.S. Bank National Association, and is the fifth largest banking institution in the United States. The company provides banking, investment, mortgage, trust, and payment services products to individuals, businesses, governmental entities, and other financial institutions. It has 3,106 branches and 4,842 automated teller machines, primarily in the Western and Midwestern United States. It is ranked 117th on the Fortune 500, and it is considered a systemically important bank by the Financial Stability Board. The company also owns Elavon, a processor of credit card transactions for merchants, and Elan Financial Services, a credit card issuer that issues credit card products on behalf of small credit unions and banks across the U.S.\n",
    "\n",
    "**Revision history:**  \n",
    "- 10/9/2021: Copied from FRT notebook\n",
    "- 12/7/2021: Updates for some bank specific items.  Current assets are total assets with goodwill and intangibles removed. Current liabilities include long term debt. Exploring removing deposits from current liabilities.  \n",
    "\n",
    "## Analysis\n",
    "The following sections of this notebook contain the financial analysis for the company.  \n",
    "\n",
    "**Contents** <a id=\"section0\"></a>  \n",
    "\n",
    "1. [Quick look](#section1)\n",
    "2. [Blank](#section2)\n",
    "3. [Load financial statement data](#section3)\n",
    "4. [NACI stock selection guide analysis](#section4)\n",
    "5. [Format financial statements data](#section5)\n",
    "6. [Discounted cash flow analysis, baseline](#section6)\n",
    "7. [DCF Scenarios](#section7)\n",
    "8. [Dividend Discount Model](#section8)\n",
    "9. [Value analysis](#section9)\n",
    "10. [Peer analysis](#section10) \n",
    "11. [Conclusion](#section11)\n",
    "12. [Notes](#section12)\n",
    "13. [References](#section13)\n",
    "14. [Additional plots](#section14)"
   ]
  },
  {
   "cell_type": "code",
   "execution_count": 226,
   "metadata": {},
   "outputs": [],
   "source": [
    "from datetime import datetime, timedelta\n",
    "from dateutil.relativedelta import relativedelta\n",
    "from dateutil.parser import parse\n",
    "import pandas as pd\n",
    "import numpy as np\n",
    "import matplotlib.pyplot as plt\n",
    "import matplotlib.dates as mdates\n",
    "from dateutil import parser\n",
    "import os\n",
    "from pandas.plotting import register_matplotlib_converters\n",
    "register_matplotlib_converters()"
   ]
  },
  {
   "cell_type": "markdown",
   "metadata": {},
   "source": [
    "## 1) Quick look <a id=\"section1\"></a>\n",
    "This section is completed first since the effort involved is much less compared to the other analysis sections in this notebook.  Some of the data looked at in this section is also available from the Fidelity company report.    \n",
    "\n",
    "**Update**  \n",
    "Think about streamlining the quick look to the following:  \n",
    "- examining trends in revenue, earnings, debt and dividends\n",
    "- news\n",
    "- quarterly results\n",
    "- Average daily volume\n",
    "- Dividend yield\n",
    "\n",
    "D/E and payout ratio don't seem to offer much value as a quick look when the data is from yahoo, a deeper dive is needed. \n",
    "\n",
    "**Current news**  \n",
    "A review of the financial news sites from [yahoo](https://finance.yahoo.com/quote/USB?p=USB&.tsrc=fin-srch) and [google](https://www.google.com/finance/quote/USB:NYSE) did not reveal any news items to be concerned about.\n",
    "\n",
    "**Review quarterly results**  \n",
    "Since this analysis mainly looks at the annual reports, a review of the quarterly reports and the most recent 12 months is needed to see if the recent quarterly trends match the yearly trends.\n",
    "- [yahoo finance](https://finance.yahoo.com/quote/USB/financials?p=USB) shows TTM Total Revenue is down from 2020, TTM Pretax Income is up from 2020.  \n",
    "- The Compustat Company Research from Fidelity (from Sep. 29, 2021) shows quarterly revenue down compared to 2020.\n",
    "\n",
    "**Average daily volume**  \n",
    "The average daily volume in the stock market needs to be high enough to be liquid and should be over 1 million.  \n",
    "Average daily volume: 5,333,353\n",
    "\n",
    "**Dividend yield**  \n",
    "Looking for a dividend yield between 2% to 6%."
   ]
  },
  {
   "cell_type": "code",
   "execution_count": 227,
   "metadata": {},
   "outputs": [
    {
     "name": "stdout",
     "output_type": "stream",
     "text": [
      "dividend yield: 3.0 %\n"
     ]
    }
   ],
   "source": [
    "# data from yahoo finance, on 9-26-2021\n",
    "share_price = 61.85\n",
    "dividend = 1.84 # Forward Dividend\n",
    "print('dividend yield: {:.1f} %'.format(dividend/share_price*100))"
   ]
  },
  {
   "cell_type": "markdown",
   "metadata": {},
   "source": [
    "**Debt to equity ratio**  \n",
    "The debt to equity ratio shows the proportion of equity and debt a company is using to finance its assets and signals the extent to which shareholder's equity can fulfill obligations to creditors, in the event of a business decline.\n",
    "\n",
    "The debt to equity ratio compares a company’s total liabilities to its shareholder equity and can be used to evaluate how much leverage a company is using. Higher-leverage ratios tend to indicate a company with higher risk to shareholders. However, the D/E ratio is difficult to compare across industry groups where ideal amounts of debt will vary. Investors will often modify the D/E ratio to focus on long-term debt only because the risks associated with long-term liabilities are different than short-term debt and payables.\n",
    "\n",
    "A good debt to equity ratio is around 1 to 1.5. However, the ideal debt to equity ratio will vary depending on the industry because some industries use more debt financing than others.  Here I'm looking for a value less than 2."
   ]
  },
  {
   "cell_type": "code",
   "execution_count": 228,
   "metadata": {},
   "outputs": [
    {
     "name": "stdout",
     "output_type": "stream",
     "text": [
      "debt to equity ratio: 0.78\n"
     ]
    }
   ],
   "source": [
    "# data from yahoo finance, on 10-10-2021\n",
    "debt = 41297000 # Long term Debt\n",
    "equity = 53095000 # Stockholders' Equity\n",
    "print('debt to equity ratio: {:.2f}'.format(debt/equity))"
   ]
  },
  {
   "cell_type": "markdown",
   "metadata": {},
   "source": [
    "The Fidelity report gives the Total Debt to Equity: 193.9x  \n",
    "For a financial company, the D/E metric is not used, later total liabilities less deposits divided by net operating profit is examined. "
   ]
  },
  {
   "cell_type": "markdown",
   "metadata": {},
   "source": [
    "**Dividend Payout Ratio Using Earnings**  \n",
    "The Dividend Payout Ratio (DPR) is the amount of dividends paid to shareholders in relation to the total amount of net income the company generates. In other words, the dividend payout ratio measures the percentage of net income that is distributed to shareholders in the form of dividends.\n",
    "\n",
    "$\\text{DPR} = \\frac {\\text{Total dividends}} {\\text{Net income}}$  \n",
    "\n",
    "For financially strong companies in these industries, a good dividend payout ratio is less than 75% of their earnings. However, companies in fast-growing sectors or those with more volatile cash flows and weaker balance sheets need a lower dividend payout ratio. Ideally, it should be below 50%.\n",
    "\n",
    "Therefore, a 25% dividend payout ratio shows that Company A is paying out 25% of its net income to shareholders. The remaining 75% of net income that is kept by the company for growth is called retained earnings."
   ]
  },
  {
   "cell_type": "code",
   "execution_count": 229,
   "metadata": {},
   "outputs": [
    {
     "name": "stdout",
     "output_type": "stream",
     "text": [
      "Dividend Payout Ratio Using Earnings: 0.58\n"
     ]
    }
   ],
   "source": [
    "dividend = 2852000 # Common Stock Dividend Paid\n",
    "earnings = 4959000 # Net income\n",
    "print('Dividend Payout Ratio Using Earnings: {:.2f}'.format(dividend/earnings))"
   ]
  },
  {
   "cell_type": "markdown",
   "metadata": {},
   "source": [
    "**Dividend Payout Ratio Using Cash Flow**  \n",
    "Free Cash Flow Payout is simply Annual Dividend divided by Free Cash Flow.\n",
    "\n",
    "$\\text{FCFP} = \\frac {\\text{Dividends}} {\\text{Free Cash Flow}}$  \n",
    "\n",
    "It should be 70% or less. However, this does not apply to a REIT since they are required to pay out 95%.\n",
    "\n",
    "https://seekingalpha.com/article/3148576-dividend-payout-vs-free-cash-flow-payout  \n",
    "https://www.dividend-growth-stocks.com/2007/10/dividend-stock-and-etfcef-holdings.html  \n",
    "https://dividendcultivator.com/2020/09/08/choose-your-dividend-payout-ratio-wisely-free-cash-flow-vs-income/  "
   ]
  },
  {
   "cell_type": "code",
   "execution_count": 230,
   "metadata": {},
   "outputs": [
    {
     "name": "stdout",
     "output_type": "stream",
     "text": [
      "Dividend Payout Ratio Using Cash Flow: 0.77\n"
     ]
    }
   ],
   "source": [
    "# Dividend Payout Ratio Using Cash Flow\n",
    "Cash_Flow = 3716000 # Cash, cash equivalents and restricted cash, end of year\n",
    "print('Dividend Payout Ratio Using Cash Flow: {:.2f}'.format(dividend/Cash_Flow))"
   ]
  },
  {
   "cell_type": "markdown",
   "metadata": {},
   "source": [
    "The quick look metrics didn't seem too useful in weeding out undesirable financial companies.  "
   ]
  },
  {
   "cell_type": "markdown",
   "metadata": {},
   "source": [
    "## 2) Blank <a id=\"section1\"></a>\n",
    "This section has been deleted. It was about [ValuePro](http://www.valuepro.net/index.shtml), an online intrinsic value calculator based on the discounted free cash to the firm model.  The calculations follow the method described in [2].  The results are useful as a quick look, but I've sometimes found the inputs to the model to be very different from what I would use and the calculated intrinsic value is suspect."
   ]
  },
  {
   "cell_type": "code",
   "execution_count": null,
   "metadata": {},
   "outputs": [],
   "source": []
  },
  {
   "cell_type": "markdown",
   "metadata": {},
   "source": [
    "## 3) Load financial statement data <a id=\"section3\"></a>\n",
    "Data from consolidated financial statements and annual reports was collected and entered into a spreadsheet. All numerical data is converted from thousands or millions of dollars to dollars.  The stock share price history was obtained from yahoo and is included as a tab in the spreadsheet.  Other tabs in the spreadsheet are various worksheets. "
   ]
  },
  {
   "cell_type": "code",
   "execution_count": 231,
   "metadata": {},
   "outputs": [],
   "source": [
    "ticker = 'USB' # company ticker symbol\n",
    "os.chdir('/home/jim/Documents/Dividend Investing/DCF data/')\n",
    "\n",
    "file_name = ticker+'_Financials.xlsx'\n",
    "df_financials = pd.read_excel(file_name,sheet_name='DCF data')\n",
    "df_NAIC_financials = pd.read_excel(file_name,sheet_name='NAIC data')\n",
    "df_metrics = pd.read_excel(file_name,sheet_name='metrics')\n",
    "df_price_history = pd.read_excel(file_name,sheet_name='Historical Prices')\n",
    "\n",
    "# change the working director back to the Jupyter folder\n",
    "os.chdir('/home/jim/Documents/JupyterLab/Discount Cash Flow Analysis/')"
   ]
  },
  {
   "cell_type": "code",
   "execution_count": 232,
   "metadata": {},
   "outputs": [],
   "source": [
    "# convert dates from string to datetime format\n",
    "price_date_list = []\n",
    "for i in range(len(df_price_history)):\n",
    "    price_date_list.append(datetime.strptime(str(df_price_history['Date'][i]), '%Y-%m-%d'))\n",
    "\n",
    "df_price_history.insert(0, 'datetime', price_date_list)  # insert a new column with datetime data\n",
    "df_price_history.sort_values(by=['datetime'], inplace=True) # sort data frame by datetime\n",
    "\n",
    "df_price_history.set_index('datetime',inplace=True)\n",
    "\n",
    "#df_price_history.head()"
   ]
  },
  {
   "cell_type": "code",
   "execution_count": null,
   "metadata": {},
   "outputs": [],
   "source": []
  },
  {
   "cell_type": "markdown",
   "metadata": {},
   "source": [
    "## 4) NACI stock selection guide analysis <a id=\"section4\"></a>\n",
    "This analysis follows the NAIC stock selection guide (SSG) [1].  The SSG relates revenue growth, EPS and share price history and makes a prediction about the future share price.    \n",
    "\n",
    "The National Association of Investors Clubs (NAIC) is a nonprofit organization dedicated to educating individual investors and investment clubs to become successful lifelong investors.  NAIC's Stock Selection Guide (SSG) is used in the following cells to analyze the company's growth and whether the stock is selling at a reasonable price.\n",
    "\n",
    "The SSG was originally developed in the 1950s as a paper worksheet by the not-for-profit National Association of Investors Corporation (NAIC). The SSG aims to aid individual investors in the fundamental analysis and selection of common stocks by reviewing components of a company's growth, quality, and value."
   ]
  },
  {
   "cell_type": "code",
   "execution_count": 233,
   "metadata": {},
   "outputs": [],
   "source": [
    "#column names: fiscal years \n",
    "years_list = df_NAIC_financials.columns[1:].values.astype('str')[::-1]\n",
    "\n",
    "# convert years to datetime format\n",
    "year_ended_list = []\n",
    "for i in years_list:\n",
    "    year_ended_list.append(datetime.strptime(i, '%Y'))\n",
    "\n",
    "#line 0: revenue  \n",
    "revenue = df_NAIC_financials.iloc[0].to_numpy()[1:].astype('float')[::-1]\n",
    "#line 1: earnings per share\n",
    "EPS = df_NAIC_financials.iloc[1].to_numpy()[1:].astype('float')[::-1]"
   ]
  },
  {
   "cell_type": "markdown",
   "metadata": {},
   "source": [
    "**High and low price history for each year**  \n",
    "From the daily price history obtained from yahoo finance, the high and low closing price for each is obtained and the data saved to the financial data frame as new columns."
   ]
  },
  {
   "cell_type": "code",
   "execution_count": 234,
   "metadata": {},
   "outputs": [],
   "source": [
    "fy_open = []\n",
    "fy_close = []\n",
    "fy_high = []\n",
    "fy_low = []\n",
    "\n",
    "for i in year_ended_list:\n",
    "    start = i\n",
    "    end = i + relativedelta(years=1)\n",
    "    p1 = df_price_history.truncate(before=start, after=end)\n",
    "    if len(p1) == 0:\n",
    "        fy_open.append(np.nan)\n",
    "        fy_close.append(np.nan)        \n",
    "        fy_high.append(np.nan)\n",
    "        fy_low.append(np.nan)\n",
    "    else:\n",
    "        fy_open.append(p1['Open'].iloc[0])\n",
    "        fy_close.append(p1['Close'].iloc[-1])        \n",
    "        fy_high.append(p1['Close'].max())\n",
    "        fy_low.append(p1['Close'].min())\n",
    "\n",
    "# convert from list to numpy array\n",
    "fy_open = np.asarray(fy_open)\n",
    "fy_close = np.asarray(fy_close)\n",
    "fy_high = np.asarray(fy_high)\n",
    "fy_low = np.asarray(fy_low)"
   ]
  },
  {
   "cell_type": "markdown",
   "metadata": {},
   "source": [
    "**Plotting the data**  \n",
    "The annual sales, EPS and the high and low share price is plotted on a semilog plot. A consistent percentage change in the data will plot on the semi-log chart as a straight line.\n",
    "\n",
    "The stock price is plotted separately from the sales and earnings for clarity.\n"
   ]
  },
  {
   "cell_type": "code",
   "execution_count": 235,
   "metadata": {},
   "outputs": [
    {
     "data": {
      "image/png": "[encoded data removed]",
      "text/plain": [
       "<Figure size 1080x360 with 2 Axes>"
      ]
     },
     "metadata": {
      "needs_background": "light"
     },
     "output_type": "display_data"
    }
   ],
   "source": [
    "# Set the locator\n",
    "locator = mdates.YearLocator()  # every year\n",
    "fmt = mdates.DateFormatter('%Y')\n",
    "\n",
    "# figsize() function to adjust the size\n",
    "plt.subplots(figsize=(15, 5))\n",
    "\n",
    "# using subplot function and creating\n",
    "# plot one\n",
    "plt.subplot(1, 2, 1)\n",
    "width = 3  # the width of the bars\n",
    "#plt.bar(year_ended_list,fy_high-fy_low, width,bottom=fy_low,label='price')\n",
    "j = 0\n",
    "for i in year_ended_list:\n",
    "    color = 'green'\n",
    "    if fy_open[j] > fy_close[j]: color= 'red'\n",
    "    # high/low lines\n",
    "    plt.plot([i,i],[fy_low[j],fy_high[j]],color=color, linewidth=width)\n",
    "    # open marker\n",
    "    plt.plot([i,i-relativedelta(months=1)], [fy_open[j],fy_open[j]], color=color, linewidth=width)\n",
    "    # close marker\n",
    "    plt.plot([i,i+relativedelta(months=1)], [fy_close[j],fy_close[j]], color=color, linewidth=width)\n",
    "    j += 1\n",
    "\n",
    "X = plt.gca().xaxis\n",
    "X.set_major_locator(locator)\n",
    "# Specify formatter\n",
    "X.set_major_formatter(fmt)\n",
    "plt.gcf().autofmt_xdate()\n",
    "\n",
    "plt.ylim((10,80))\n",
    "plt.title('Yearly stock high and low price range')\n",
    "plt.ylabel('stock price, $')\n",
    "#plt.legend()\n",
    "plt.grid()\n",
    "\n",
    "# using subplot function and creating plot two\n",
    "plt.subplot(1, 2, 2)\n",
    "\n",
    "plt.plot(year_ended_list,revenue/1e9,'+-',label='revenue, $B')\n",
    "plt.plot(year_ended_list,EPS,'+-',label='EPS, $')\n",
    "\n",
    "X = plt.gca().xaxis\n",
    "X.set_major_locator(locator)\n",
    "# Specify formatter\n",
    "X.set_major_formatter(fmt)\n",
    "plt.gcf().autofmt_xdate()\n",
    "\n",
    "#plt.yscale('log')\n",
    "#plt.yticks([0.1,1,10,100,1000,10000],['0.1','1','10','100','1000','10000'])\n",
    "#plt.ylim((0.1,1000))\n",
    "plt.title('Revenue and EPS')\n",
    "plt.ylabel('Revenue and EPS')\n",
    "plt.legend()\n",
    "\n",
    "plt.grid()\n",
    "\n",
    "# space between the plots\n",
    "plt.tight_layout(4)\n",
    "\n",
    "# show plot\n",
    "plt.show()"
   ]
  },
  {
   "cell_type": "markdown",
   "metadata": {},
   "source": [
    "**Observations:**  \n",
    "Share price is trading in an upward trend over the years 2020 to 2019. Then in 2020 the effects of the pandemic impact revenue. Revenues are increasing, except for 2020 and earnings are increasing."
   ]
  },
  {
   "cell_type": "code",
   "execution_count": null,
   "metadata": {},
   "outputs": [],
   "source": []
  },
  {
   "cell_type": "markdown",
   "metadata": {},
   "source": [
    "**Price earnings history**  \n",
    "Section 3 of the SSG is the Price-Earnings history.  The following table is built from the high and low prices each year and the earnings per share. The high and low Price/Earnings ratios are calculated for each year and are listed in the columns labeled h-per and l-per."
   ]
  },
  {
   "cell_type": "code",
   "execution_count": 236,
   "metadata": {},
   "outputs": [
    {
     "name": "stdout",
     "output_type": "stream",
     "text": [
      "year      high       low       eps     h-per     l-per\n",
      "2010     28.26     20.71      1.74     16.24     11.90\n",
      "2011     28.70     20.31      2.47     11.62      8.22\n",
      "2012     35.19     27.57      2.85     12.35      9.67\n",
      "2013     40.60     32.27      3.02     13.44     10.69\n",
      "2014     45.91     38.78      3.10     14.81     12.51\n",
      "2015     46.02     39.76      3.18     14.47     12.50\n",
      "2016     52.54     37.45      3.25     16.17     11.52\n",
      "2017     56.41     49.69      3.53     15.98     14.08\n",
      "2018     58.11     43.76      4.15     14.00     10.54\n",
      "2019     60.68     45.70      4.16     14.59     10.99\n",
      "2020     59.20     28.93      3.06     19.35      9.45\n"
     ]
    }
   ],
   "source": [
    "print('{:4s}{:>10s}{:>10s}{:>10s}{:>10s}{:>10s}'.format('year','high','low','eps',\n",
    "    'h-per','l-per'))\n",
    "for i in range(len(year_ended_list)):\n",
    "    print('{:s}{:10,.2f}{:10,.2f}{:10,.2f}{:10,.2f}{:10,.2f}'.format(year_ended_list[i].strftime(\"%Y\"),\n",
    "        fy_high[i], fy_low[i],EPS[i],\n",
    "        fy_high[i]/EPS[i],\n",
    "        fy_low[i]/EPS[i]))"
   ]
  },
  {
   "cell_type": "markdown",
   "metadata": {},
   "source": [
    "**Average high and P/E for select years**   \n",
    "The average price to earning ratio based on high and low stock prices is calculated."
   ]
  },
  {
   "cell_type": "code",
   "execution_count": 237,
   "metadata": {},
   "outputs": [
    {
     "name": "stdout",
     "output_type": "stream",
     "text": [
      "average high P/E 14.82\n",
      "average low P/E 11.10\n"
     ]
    }
   ],
   "source": [
    "#Average high P/E for years \n",
    "pe_avg_high = (fy_high/EPS).mean()\n",
    "print('average high P/E {:.2f}'.format(pe_avg_high))\n",
    "#Average low P/E for years \n",
    "pe_avg_low = (fy_low/EPS).mean()\n",
    "print('average low P/E {:.2f}'.format(pe_avg_low))"
   ]
  },
  {
   "cell_type": "markdown",
   "metadata": {},
   "source": [
    "**Estimate future EPS**  \n",
    "A least squares fit is used to get the slope of the EPS data points."
   ]
  },
  {
   "cell_type": "code",
   "execution_count": 238,
   "metadata": {},
   "outputs": [
    {
     "name": "stdout",
     "output_type": "stream",
     "text": [
      "EPS slope: 0.17\n"
     ]
    }
   ],
   "source": [
    "# get linear fit for eps\n",
    "y = EPS\n",
    "x = np.arange(len(y))\n",
    "A = np.vstack([x, np.ones(len(x))]).T\n",
    "m, c = np.linalg.lstsq(A, y, rcond=None)[0]\n",
    "print('EPS slope: {:.2f}'.format(m))\n",
    "\n",
    "lstsq_fit = m*x + c  # data points for each year"
   ]
  },
  {
   "cell_type": "code",
   "execution_count": 239,
   "metadata": {},
   "outputs": [
    {
     "data": {
      "image/png": "[encoded data removed]",
      "text/plain": [
       "<Figure size 432x288 with 1 Axes>"
      ]
     },
     "metadata": {
      "needs_background": "light"
     },
     "output_type": "display_data"
    }
   ],
   "source": [
    "# Set the locator\n",
    "locator = mdates.YearLocator()  # every year\n",
    "fmt = mdates.DateFormatter('%Y')\n",
    "\n",
    "fig, ax1 = plt.subplots()\n",
    "ax1.set_ylabel('dollars')\n",
    "\n",
    "ax1.plot(year_ended_list,EPS, 'o',label='EPS')\n",
    "ax1.plot(year_ended_list,lstsq_fit, '-',label='least squares fit')\n",
    "\n",
    "ax1.tick_params(axis='y')\n",
    "#ax1.set_ylim((0,4))\n",
    "ax1.legend()\n",
    "plt.grid()\n",
    "\n",
    "X = plt.gca().xaxis\n",
    "X.set_major_locator(locator)\n",
    "# Specify formatter\n",
    "X.set_major_formatter(fmt)\n",
    "plt.gcf().autofmt_xdate()\n",
    "\n",
    "plt.title('EPS and least squares fit')\n",
    "plt.show()"
   ]
  },
  {
   "cell_type": "markdown",
   "metadata": {},
   "source": [
    "Using the equation for the best fit line, find the y value for the EPS point at five years in the future."
   ]
  },
  {
   "cell_type": "code",
   "execution_count": 240,
   "metadata": {},
   "outputs": [
    {
     "name": "stdout",
     "output_type": "stream",
     "text": [
      "estimated EPS in 5 years: 4.8\n"
     ]
    }
   ],
   "source": [
    "# estimated eps in 5 years\n",
    "eps_5yr_est = m*(x[-1]+5) + c\n",
    "print('estimated EPS in 5 years: {:.1f}'.format(eps_5yr_est))"
   ]
  },
  {
   "cell_type": "markdown",
   "metadata": {},
   "source": [
    "Using the high and low price to earning ratio from above and the projected EPS, calculate the range of stock price in five years."
   ]
  },
  {
   "cell_type": "code",
   "execution_count": 241,
   "metadata": {},
   "outputs": [
    {
     "name": "stdout",
     "output_type": "stream",
     "text": [
      "estimated price range in 5 years: 53.41 to 71.32\n"
     ]
    }
   ],
   "source": [
    "#eps_5yr_est = 5  # user inputed value\n",
    "print('estimated price range in 5 years: {:.2f} to {:.2f}'.format(eps_5yr_est*pe_avg_low,eps_5yr_est*pe_avg_high))"
   ]
  },
  {
   "cell_type": "markdown",
   "metadata": {},
   "source": [
    "This is the estimated price range of the stock based on projected EPS and is a guide for what the stock price might be if conditions remain the same. The current stock price of \\\\$61.59 falls within this range, indicating that the stock is trading at a fair value. "
   ]
  },
  {
   "cell_type": "code",
   "execution_count": null,
   "metadata": {},
   "outputs": [],
   "source": []
  },
  {
   "cell_type": "markdown",
   "metadata": {},
   "source": [
    "## 5) Format financial statements data <a id=\"section5\"></a>\n",
    "Generate a new data frame that holds the financial data needed for the Discounted cash flow (DCF) model.  Data from financial statements is copied into a spreadsheet which contains the data used in the analysis.  The data in the DCF_data tab is in a consistent format for ease of use by this notebook.  Standard names are used for the rows and columns."
   ]
  },
  {
   "cell_type": "code",
   "execution_count": 242,
   "metadata": {},
   "outputs": [],
   "source": [
    "#column names: fiscal years \n",
    "fy_data = df_financials.columns[1:].values.astype('datetime64[Y]')-1970\n",
    "#line 0: Total revenue  \n",
    "revenue_data = df_financials.iloc[0].to_numpy()[1:].astype('float')\n",
    "#line 1: Cost of goods sold\n",
    "Cost_of_goods_sold_data = df_financials.iloc[1].to_numpy()[1:].astype('float')\n",
    "#line 2: General and administrative\n",
    "General_and_administrative_data = df_financials.iloc[2].to_numpy()[1:].astype('float')\n",
    "#line 3: Research and development\n",
    "Research_and_development_data = df_financials.iloc[3].to_numpy()[1:].astype('float')\n",
    "#line 4: Depreciation and amortization\n",
    "Depreciation_and_amortization_data = df_financials.iloc[4].to_numpy()[1:].astype('float')\n",
    "#line 5: Investment\n",
    "Investment_data = df_financials.iloc[5].to_numpy()[1:].astype('float')\n",
    "# line 6: Income before income taxes\n",
    "Income_before_income_taxes_data = df_financials.iloc[6].to_numpy()[1:].astype('float')\n",
    "# line 7: Income tax\n",
    "Income_tax_data = df_financials.iloc[7].to_numpy()[1:].astype('float')\n",
    "# line 8: Accounts receivable\n",
    "Accounts_receivable_data = df_financials.iloc[8].to_numpy()[1:].astype('float')\n",
    "# line 9: Inventories\n",
    "Inventories_data = df_financials.iloc[9].to_numpy()[1:].astype('float')\n",
    "# line 10: Accounts payable\n",
    "Accounts_payable_data = df_financials.iloc[10].to_numpy()[1:].astype('float')\n",
    "# line 11: Current assets\n",
    "Current_assets_data = df_financials.iloc[11].to_numpy()[1:].astype('float')\n",
    "# line 12: Current liabilities\n",
    "Current_liabilities_data = df_financials.iloc[12].to_numpy()[1:].astype('float')\n",
    "# line 13: Long term debt\n",
    "Long_term_debt_data = df_financials.iloc[13].to_numpy()[1:].astype('float')\n",
    "# line 14: Shares outstanding\n",
    "Shares_outstanding_data = df_financials.iloc[14].to_numpy()[1:].astype('float')"
   ]
  },
  {
   "cell_type": "code",
   "execution_count": 243,
   "metadata": {},
   "outputs": [],
   "source": [
    "# make a new data frame to store selected financial data\n",
    "df_dcf_data = pd.DataFrame(data={\n",
    "    'FY':fy_data[::-1],\n",
    "    'revenue':revenue_data[::-1],\n",
    "    'cost_of_goods_sold':Cost_of_goods_sold_data[::-1],\n",
    "    'general_and_administrative':General_and_administrative_data[::-1],\n",
    "    'research_and_development':Research_and_development_data[::-1],\n",
    "    'depreciation':Depreciation_and_amortization_data[::-1],\n",
    "    'investment':Investment_data[::-1],\n",
    "    'income_before_income_taxes':Income_before_income_taxes_data[::-1],\n",
    "    'income_tax':Income_tax_data[::-1],\n",
    "    'accounts_receivable':Accounts_receivable_data[::-1],\n",
    "    'inventories':Inventories_data[::-1],\n",
    "    'accounts_payable':Accounts_payable_data[::-1], \n",
    "    'current_assets':Current_assets_data[::-1],\n",
    "    'current_liabilities':Current_liabilities_data[::-1],\n",
    "    'long_term_debt':Long_term_debt_data[::-1],\n",
    "    'shares_outstanding':Shares_outstanding_data[::-1]\n",
    "    })\n",
    "\n",
    "#df_dcf_data"
   ]
  },
  {
   "cell_type": "code",
   "execution_count": null,
   "metadata": {},
   "outputs": [],
   "source": []
  },
  {
   "cell_type": "markdown",
   "metadata": {},
   "source": [
    "## 6) Discounted cash flow analysis, baseline <a id=\"section6\"></a>\n",
    "DCF is a valuation method used to estimate the value of an investment based on its expected future cash flows. DCF analysis attempts to figure out the value of an investment today, based on projections of how much money it will generate in the future. In finance, DCF analysis is a method of valuing a security, project, company, or asset using the concepts of the time value of money. The DCF method used in this notebook follows [2].  \n",
    "\n",
    "The value of any financial investment equals the present value of the expected future cash flows, discounted for risk and timing of these cash flows. The DCF method to value stocks is a four step process.  \n",
    "1. Develop a set of future free cash flows for the corporation based on revenue growth, net operating profit margin, income tax rate and fix and working capital requirements.\n",
    "2. Estimate the discount rate for the cash flows based on expected timing and risk.\n",
    "3. Discount the cash flows and total them to calculate the value for the corporation as a whole.\n",
    "4. Subtract the debt, preferred stock value and other claims and divide by the number of shares outstanding to get the intrinsic value.\n",
    "\n",
    "Sections\n",
    "- [Revenue growth rate](#section6-1) \n",
    "- [Net operating profit margin](#section6-2)\n",
    "- [Tax rate](#section6-3)\n",
    "- [Depreciation Rate](#section6-4)\n",
    "- [Investment Rate](#section6-5)\n",
    "- [Working Capital Rate](#section6-6)\n",
    "- [Current Assets](#section6-7)\n",
    "- [Current Liabilities](#section6-8)\n",
    "- [Value of Debt Outstanding](#section6-9)\n",
    "- [Current stock price](#section6-10)\n",
    "- [Shares outstanding](#section6-11)\n",
    "- [10 year treasury bond yield](#section6-12)\n",
    "- [Bond yield spread to treasury](#section6-13)\n",
    "- [Preferred stock yield](#section6-14)\n",
    "- [Equity risk premium](#section6-15)\n",
    "- [Company specific beta](#section6-16)\n",
    "- [DCF model inputs](#section6-17)\n",
    "- [Future cash flows](#section6-18)"
   ]
  },
  {
   "cell_type": "markdown",
   "metadata": {},
   "source": [
    "### Revenue growth rate <a id=\"section6-1\"></a>\n",
    "The revenue growth rate (also sometimes called net sales) of the corporation plus any other revenues associated with the main operations of the business. It does not include dividends, interest income or non-operating income. Historic revenue data is obtained from consolidated income statements. The year over year change in revenue is calculated and converted to a percent, then an average revenue growth rate is calculated. \n",
    "\n",
    "**Adjustments for a financial company**  \n",
    "Total revenue comes from the total interest and dividend income line on the income statement.  The calculation of operating income is more inclusive for a financial company than for an industrial or high tech company.  For financial companies, operating revenue includes all normal revenue items plus interest income, dividends received and other investment income.  \n",
    "\n",
    "$\\text{Total revenue} = \\text{Total interest and dividend income} +\\text{Total non-interest income}$"
   ]
  },
  {
   "cell_type": "code",
   "execution_count": 244,
   "metadata": {},
   "outputs": [
    {
     "data": {
      "image/png": "[encoded data removed]",
      "text/plain": [
       "<Figure size 432x288 with 2 Axes>"
      ]
     },
     "metadata": {
      "needs_background": "light"
     },
     "output_type": "display_data"
    }
   ],
   "source": [
    "# calculate the percent change in revenue\n",
    "pcr = np.zeros(len(df_dcf_data['revenue'].to_numpy())) # percent change in revenue\n",
    "for i in range(len(df_dcf_data['revenue'].to_numpy()[0:-1])):\n",
    "    pcr[i+1] = ((df_dcf_data['revenue'].to_numpy()[i+1] - df_dcf_data['revenue'].to_numpy()[i])/\n",
    "                df_dcf_data['revenue'].to_numpy()[i+1])*100\n",
    "\n",
    "width = 100\n",
    "\n",
    "# Set the locator\n",
    "locator = mdates.YearLocator()  # every year\n",
    "fmt = mdates.DateFormatter('%Y')\n",
    "\n",
    "fig, ax1 = plt.subplots()\n",
    "ax1.set_ylabel('Revenue, $B')\n",
    "\n",
    "# plot revenue as single bar\n",
    "plt.bar(df_dcf_data['FY'],df_dcf_data['revenue']/1e9, width,color='k')\n",
    "\n",
    "ax1.tick_params(axis='y')\n",
    "plt.grid()\n",
    "\n",
    "# instantiate a second y-axes that shares the same x-axis\n",
    "ax2 = ax1.twinx()\n",
    "color = 'tab:green'\n",
    "\n",
    "ax2.plot(df_dcf_data['FY'],pcr,'+-g')\n",
    "    \n",
    "ax2.set_ylabel('% Change in revenue',color=color)\n",
    "ax2.tick_params(axis='y', labelcolor=color)\n",
    "ax2.set_ylim((0,20))\n",
    "\n",
    "X = plt.gca().xaxis\n",
    "X.set_major_locator(locator)\n",
    "# Specify formatter\n",
    "X.set_major_formatter(fmt)\n",
    "plt.gcf().autofmt_xdate()\n",
    "\n",
    "plt.title('Revenue')\n",
    "plt.show()"
   ]
  },
  {
   "cell_type": "markdown",
   "metadata": {},
   "source": [
    "**Observation:**  \n",
    "In 2020 the revenue from loans was \\\\$12.018 billion, down from \\\\$14.099 billion in 2019. The average revenue growth rate over the period is 1.69%. \n",
    "\n",
    "The Company’s major lines of business are Corporate and Commercial Banking, Consumer and Business Banking, Wealth Management and Investment Services, Payment Services, and Treasury and Corporate Support.\n",
    "- Corporate and Commercial Banking contributed 31.4 percent of the Company’s net income in 2020, a decrease of 7.2 percent, compared with 2019.\n",
    "- Consumer and Business Banking contributed 56.1 percent of the Company’s net income in 2020, an increase of 18.0 percent, compared with 2019.\n",
    "- Wealth Management and Investment Services contributed 14.4 percent of the Company’s net income in 2020, a decrease of 19.9 percent, compared with 2019.\n",
    "- Payment Services contributed 25.6 percent of the Company’s net income in 2020, a decrease of 12.7 percent, compared with 2019.\n",
    "- Treasury and Corporate Support recorded a net loss of \\\\$1.4 billion in 2020, a decrease of \\\\$1.9 billion, compared with 2019.\n"
   ]
  },
  {
   "cell_type": "code",
   "execution_count": 245,
   "metadata": {},
   "outputs": [
    {
     "name": "stdout",
     "output_type": "stream",
     "text": [
      "average revenue growth rate: 1.69%\n"
     ]
    }
   ],
   "source": [
    "rgr_avg = pcr[2:].mean()/100\n",
    "print('average revenue growth rate: {:.2f}%'.format(rgr_avg*100))"
   ]
  },
  {
   "cell_type": "markdown",
   "metadata": {},
   "source": [
    "### Net operating profit margin <a id=\"section6-2\"></a>\n",
    "Net Operating Profit should reflect the future revenue generating ability and expense requirements of the operating business that comprise the ongoing operations of the company.\n",
    "\n",
    "$\\text{NOPM} = \\frac{\\text{Revenue} - \\text{Expenses}}{\\text{Revenue}}$  \n",
    " \n",
    "$\\text{Expenses} = \\text{Cost of Goods Sold (CGS)} + \\text{General and Administrative (G&A)} + \\text{Research and Development (R&D)}$\n",
    "\n",
    "General and Administrative (G&A) is also called Sales, General and Administrative (SG&A)\n",
    "\n",
    "**Adjustments for a financial company**  \n",
    "- $\\text{Cost of Goods Sold (CGS)} = \\text{Total interest expense} + \\text{Total non-interest expense}$  \n",
    "- General and Administrative (G&A) are set to zero since they are included in the interest expense line\n",
    "- A financial company has no traditional R&D costs"
   ]
  },
  {
   "cell_type": "code",
   "execution_count": 246,
   "metadata": {},
   "outputs": [
    {
     "data": {
      "image/png": "[encoded data removed]",
      "text/plain": [
       "<Figure size 432x288 with 2 Axes>"
      ]
     },
     "metadata": {},
     "output_type": "display_data"
    }
   ],
   "source": [
    "# NOP = (Revenue - Expenses)\n",
    "nop = (df_dcf_data['revenue'].to_numpy() - \\\n",
    "    (df_dcf_data['cost_of_goods_sold'].to_numpy() + \\\n",
    "    df_dcf_data['general_and_administrative'].to_numpy() + \\\n",
    "    df_dcf_data['research_and_development'].to_numpy()) )\n",
    "\n",
    "# net operating profit margin as percent of revenue\n",
    "nopm = nop/df_dcf_data['revenue'].to_numpy()\n",
    "\n",
    "# plot as four grouped bar chart with labels on right and working capital rate on left\n",
    "# calculate position of bars\n",
    "x1_bar_position = []\n",
    "x2_bar_position = []\n",
    "x3_bar_position = []\n",
    "x4_bar_position = []\n",
    "for i in df_dcf_data['FY']:\n",
    "    x1_bar_position.append(i-relativedelta(months=3))\n",
    "    x2_bar_position.append(i-relativedelta(months=1))\n",
    "    x3_bar_position.append(i+relativedelta(months=1))\n",
    "    x4_bar_position.append(i+relativedelta(months=3))\n",
    "    \n",
    "width = 40  # the width of the bars\n",
    "    \n",
    "# Set the locator\n",
    "locator = mdates.YearLocator()  # every year\n",
    "fmt = mdates.DateFormatter('%Y')\n",
    "\n",
    "fig, ax1 = plt.subplots()\n",
    "ax1.set_ylabel('Net operating profit, \\\\$B')\n",
    "\n",
    "ax1.bar(x1_bar_position,df_dcf_data['cost_of_goods_sold'].to_numpy()/1e9, width,label='CGS')\n",
    "ax1.bar(x2_bar_position,df_dcf_data['general_and_administrative'].to_numpy()/1e9, width,label='G&A')\n",
    "ax1.bar(x3_bar_position,df_dcf_data['research_and_development'].to_numpy()/1e9, width,label='R&D')\n",
    "ax1.bar(x4_bar_position,nop/1e9, width,label='NOP')\n",
    "\n",
    "ax1.tick_params(axis='y')\n",
    "ax1.set_ylim((0,20))\n",
    "ax1.legend()\n",
    "plt.grid()\n",
    "\n",
    "# instantiate a second y-axes that shares the same x-axis\n",
    "ax2 = ax1.twinx()\n",
    "color = 'tab:cyan'\n",
    "\n",
    "ax2.plot(df_dcf_data['FY'],nopm*100,'+-c')\n",
    "    \n",
    "ax2.set_ylabel('% NOPM',color=color)\n",
    "ax2.tick_params(axis='y', labelcolor=color)\n",
    "ax2.set_ylim((20,80))\n",
    "\n",
    "X = plt.gca().xaxis\n",
    "X.set_major_locator(locator)\n",
    "# Specify formatter\n",
    "X.set_major_formatter(fmt)\n",
    "plt.gcf().autofmt_xdate()\n",
    "\n",
    "plt.title('Net Operating Profit')\n",
    "plt.show()"
   ]
  },
  {
   "cell_type": "markdown",
   "metadata": {},
   "source": [
    "**Observation**  \n",
    "The NOPM has shown some variation over the years. From 2010 to 2016, the NOPM was consistent. Starting in 2017, the NOPM had declined a bit. In 2019 the total interest expense was higher. In 2020, provision for credit losses increased to \\\\$3.806 from \\\\$1.504 billion. The average NOPM for the past five years is 39%."
   ]
  },
  {
   "cell_type": "code",
   "execution_count": 247,
   "metadata": {},
   "outputs": [
    {
     "name": "stdout",
     "output_type": "stream",
     "text": [
      "average net operating profit margin: 38.72%\n"
     ]
    }
   ],
   "source": [
    "#Average net operating profit margin\n",
    "nopm_avg = nopm[-5:].mean()\n",
    "print('average net operating profit margin: {:.2f}%'.format(nopm_avg*100))"
   ]
  },
  {
   "cell_type": "markdown",
   "metadata": {},
   "source": [
    "### Tax rate <a id=\"section6-3\"></a>\n",
    "Tax payments are taken from the consolidated income statement, provision for income taxes.  The effect of taxes on profits is accounted for. \n",
    "\n",
    "$\\text{Tax rate} = \\frac{\\text{Income taxes}}{\\text{Income before income taxes}}$"
   ]
  },
  {
   "cell_type": "code",
   "execution_count": 248,
   "metadata": {},
   "outputs": [
    {
     "data": {
      "image/png": "[encoded data removed]",
      "text/plain": [
       "<Figure size 432x288 with 2 Axes>"
      ]
     },
     "metadata": {
      "needs_background": "light"
     },
     "output_type": "display_data"
    }
   ],
   "source": [
    "# plot as Grouped bar chart with labels on right and tax rate on left\n",
    "# calculate position of bars\n",
    "x1_bar_position = []\n",
    "x2_bar_position = []\n",
    "for i in df_dcf_data['FY']:\n",
    "    x1_bar_position.append(i-relativedelta(months=1))\n",
    "    x2_bar_position.append(i+relativedelta(months=1))\n",
    "\n",
    "# calculate tax rate\n",
    "tax_rate = df_dcf_data['income_tax']/df_dcf_data['income_before_income_taxes']\n",
    "\n",
    "width = 50  # the width of the bars\n",
    "\n",
    "# Set the locator\n",
    "locator = mdates.YearLocator()  # every year\n",
    "fmt = mdates.DateFormatter('%Y')\n",
    "\n",
    "fig, ax1 = plt.subplots()\n",
    "ax1.set_ylabel('dollars, \\\\$M')\n",
    "\n",
    "rects1 = ax1.bar(x1_bar_position,df_dcf_data['income_before_income_taxes']/1e6, width,\n",
    "    label='Income before income taxes')\n",
    "rects2 = ax1.bar(x2_bar_position,df_dcf_data['income_tax']/1e6, width,\n",
    "    label='Income taxes')\n",
    "\n",
    "ax1.tick_params(axis='y')\n",
    "#ax1.set_ylim((-2e3,2e3))\n",
    "ax1.legend()\n",
    "plt.grid()\n",
    "\n",
    "# instantiate a second y-axes that shares the same x-axis\n",
    "ax2 = ax1.twinx()\n",
    "color = 'tab:green'\n",
    "\n",
    "ax2.plot(df_dcf_data['FY'],tax_rate * 100,'+-g')\n",
    "    \n",
    "ax2.set_ylabel('% Tax rate',color=color)\n",
    "ax2.tick_params(axis='y', labelcolor=color)\n",
    "ax2.set_ylim((0,50))\n",
    "\n",
    "X = plt.gca().xaxis\n",
    "X.set_major_locator(locator)\n",
    "# Specify formatter\n",
    "X.set_major_formatter(fmt)\n",
    "plt.gcf().autofmt_xdate()\n",
    "\n",
    "plt.title('Tax Rate')\n",
    "plt.show()"
   ]
  },
  {
   "cell_type": "markdown",
   "metadata": {},
   "source": [
    "**Observations**:  \n",
    "The income taxes rate from 2017 to 2020 was lower than previous years. The average tax rate is calculated below.  "
   ]
  },
  {
   "cell_type": "code",
   "execution_count": 249,
   "metadata": {},
   "outputs": [
    {
     "name": "stdout",
     "output_type": "stream",
     "text": [
      "average tax rate: 23.23%\n"
     ]
    }
   ],
   "source": [
    "# Average tax rate\n",
    "tax_rate_avg = tax_rate.mean()\n",
    "print('average tax rate: {:.2f}%'.format(tax_rate_avg*100))"
   ]
  },
  {
   "cell_type": "code",
   "execution_count": null,
   "metadata": {},
   "outputs": [],
   "source": []
  },
  {
   "cell_type": "markdown",
   "metadata": {},
   "source": [
    "### Depreciation Rate <a id=\"section6-4\"></a>\n",
    "The depreciation rate is used to project the future net investment cash flows.  The effect is to reduce the amount of FCFF. Depreciation amounts are from the Consolidated Statement of Cash Flows, Depreciation and Amortization.  \n",
    "\n",
    "$\\text{Depreciation Rate}=\\frac{\\text{Depreciation and Amortization}}{\\text{Revenues}}$\n",
    "\n",
    "Depreciation is the write off or expensing of a percentage of the historical cost of an asset over the asset's useful life.  Property, plant and equipment (PP&E) are long term or non current assets owned or controlled by the company and used to manufacture and or sell the company's products.  The balance sheet typically shows all categories of PP&E grouped together, net of accumulated depreciation.  Depreciation represents wear and tear on an asset or the fact that an asset gets used up over time.  Companies record depreciation expense in the income statement every year for all depreciable assets in service or used by the company during the year.  The difference between GAAP and Tax Accounting methods is handled through deferred taxes.\n",
    "\n",
    "Amortization is the write off or expensing of the cost of a financial instrument or an intangible asset over the shorter of its useful life or legal life.  Amortization is similar to depreciation and reflects the declining useful life and value of the intangible asset over time.  Companies in research and development intensive fields typically have many patents.  Such industries include high technology, pharmaceuticals and chemicals. \n",
    "\n",
    "Depreciation and amortization amounts are included under the label depreciation.\n",
    "\n",
    "**Adjustments for a financial company**  \n",
    "New investment and Depreciation: Property, plant and equipment expenditures and depreciation charges are significantly lower for a financial company. Financial companies invest very little in the way of plant, property and equipment.  However, software, risk management systems and acquisitions of other businesses, need to be included.\n",
    "\n",
    "Depreciation and amortization of premises and equipment is from Consolidated Statements of Cash Flows. Amortization of intangibles is not included."
   ]
  },
  {
   "cell_type": "code",
   "execution_count": 250,
   "metadata": {},
   "outputs": [
    {
     "data": {
      "image/png": "[encoded data removed]",
      "text/plain": [
       "<Figure size 432x288 with 2 Axes>"
      ]
     },
     "metadata": {
      "needs_background": "light"
     },
     "output_type": "display_data"
    }
   ],
   "source": [
    "# depreciation rate\n",
    "depreciation_rate = df_dcf_data['depreciation'] / df_dcf_data['revenue'].to_numpy()\n",
    "\n",
    "# plot depreciation on left and rate on right\n",
    "# Set the locator\n",
    "locator = mdates.YearLocator()  # every year\n",
    "fmt = mdates.DateFormatter('%Y')\n",
    "\n",
    "fig, ax1 = plt.subplots()\n",
    "ax1.set_ylabel('dollars, $B')\n",
    "\n",
    "ax1.bar(df_dcf_data['FY'],df_dcf_data['depreciation']/1e9, width=100,color='k')\n",
    "\n",
    "ax1.tick_params(axis='y')\n",
    "plt.grid()\n",
    "\n",
    "# instantiate a second y-axes that shares the same x-axis\n",
    "ax2 = ax1.twinx()\n",
    "color = 'tab:Blue'\n",
    "\n",
    "ax2.plot(df_dcf_data['FY'],depreciation_rate*100,'+-')\n",
    "    \n",
    "ax2.set_ylabel('% Depreciation rate',color=color)\n",
    "ax2.tick_params(axis='y', labelcolor=color)\n",
    "ax2.set_ylim((0,5))\n",
    "\n",
    "X = plt.gca().xaxis\n",
    "X.set_major_locator(locator)\n",
    "# Specify formatter\n",
    "X.set_major_formatter(fmt)\n",
    "plt.gcf().autofmt_xdate()\n",
    "\n",
    "plt.title('Depreciation and amortization')\n",
    "plt.show()"
   ]
  },
  {
   "cell_type": "markdown",
   "metadata": {},
   "source": [
    "**Observations**:  \n",
    "The depreciation and amortization rate is low. PP&E is not identified as an expense."
   ]
  },
  {
   "cell_type": "code",
   "execution_count": 251,
   "metadata": {},
   "outputs": [
    {
     "name": "stdout",
     "output_type": "stream",
     "text": [
      "average depreciation rate: 1.32%\n"
     ]
    }
   ],
   "source": [
    "# average depreciation rate\n",
    "depreciation_rate_avg = depreciation_rate[2:].mean()\n",
    "print('average depreciation rate: {:.2f}%'.format(depreciation_rate_avg*100))"
   ]
  },
  {
   "cell_type": "code",
   "execution_count": null,
   "metadata": {},
   "outputs": [],
   "source": []
  },
  {
   "cell_type": "markdown",
   "metadata": {},
   "source": [
    "### Investment Rate <a id=\"section6-5\"></a>\n",
    "Taken from Consolidated Statement of Cash Flows, Cash used for investing activities.  Net investment in the dollar amount needed to support the growth of the firm.  Included investments in properties, plant equipment in excess of the depreciation expenses associated with past investments.  Net investment decreases the amount of money available to the stockholders.  Investment in property, plant and equipment is necessary to both maintain service and sales and also to grow revenues and profits.  Investment amounts should include capital expenditures and research and development. \n",
    "\n",
    "$Ir=\\frac {\\text {Capital Expenditures}}{\\text{Revenues}}$ \n",
    "\n",
    "For this company, the yearly investment amounts are taken from the Consolidated Statements of Cash Flows, \n",
    "Net Cash Used in Investing Activities.\n",
    "\n",
    "**Adjustments for a financial company**  \n",
    "Property, plant and equipment (PPE) expenditures are significantly lower for a financial company.  Financial companies invest very little in the way of PPE.  However, software, risk management systems and acquisitions of other businesses, need to be included."
   ]
  },
  {
   "cell_type": "code",
   "execution_count": 252,
   "metadata": {},
   "outputs": [
    {
     "data": {
      "image/png": "[encoded data removed]",
      "text/plain": [
       "<Figure size 432x288 with 2 Axes>"
      ]
     },
     "metadata": {
      "needs_background": "light"
     },
     "output_type": "display_data"
    }
   ],
   "source": [
    "# investment rate\n",
    "investment_rate = df_dcf_data['investment'] / df_dcf_data['revenue'].to_numpy()\n",
    "\n",
    "# plot investment on left and rate on right\n",
    "# Set the locator\n",
    "locator = mdates.YearLocator()  # every year\n",
    "fmt = mdates.DateFormatter('%Y')\n",
    "\n",
    "fig, ax1 = plt.subplots()\n",
    "ax1.set_ylabel('dollars, \\\\$B')\n",
    "\n",
    "ax1.bar(df_dcf_data['FY'],df_dcf_data['investment']/1e9, width=100,color='k')\n",
    "\n",
    "ax1.tick_params(axis='y')\n",
    "plt.grid()\n",
    "\n",
    "# instantiate a second y-axes that shares the same x-axis\n",
    "ax2 = ax1.twinx()\n",
    "color = 'tab:Blue'\n",
    "\n",
    "ax2.plot(df_dcf_data['FY'],investment_rate*100,'+-')\n",
    "    \n",
    "ax2.set_ylabel('% New Investment Rate',color=color)\n",
    "ax2.tick_params(axis='y', labelcolor=color)\n",
    "#ax2.set_ylim((0,50))\n",
    "\n",
    "X = plt.gca().xaxis\n",
    "X.set_major_locator(locator)\n",
    "# Specify formatter\n",
    "X.set_major_formatter(fmt)\n",
    "plt.gcf().autofmt_xdate()\n",
    "\n",
    "plt.title('New Investment')\n",
    "plt.show()"
   ]
  },
  {
   "cell_type": "markdown",
   "metadata": {},
   "source": [
    "**Observations**:  \n",
    "The financial statements do not break out purchases of premises, equipment or leased items. Investments by the bank are financial investments. New investments that could be depreciated or amortized are estimated by taking 10% of Net cash used in investing activities from the Consolidated Statements of Cash Flows. New investments should have some relationship to depreciation in the model, otherwise some of the future cash flows will be negative.  "
   ]
  },
  {
   "cell_type": "code",
   "execution_count": 253,
   "metadata": {},
   "outputs": [
    {
     "name": "stdout",
     "output_type": "stream",
     "text": [
      "average investment rate: 8.78%\n"
     ]
    }
   ],
   "source": [
    "# average investment rate\n",
    "investment_rate_avg = investment_rate.mean()\n",
    "print('average investment rate: {:.2f}%'.format(investment_rate_avg*100))"
   ]
  },
  {
   "cell_type": "code",
   "execution_count": null,
   "metadata": {},
   "outputs": [],
   "source": []
  },
  {
   "cell_type": "markdown",
   "metadata": {},
   "source": [
    "### Working Capital Rate <a id=\"section6-6\"></a>\n",
    "Working capital is needed to support the corporate sales effort of any company.  Often a company’s incremental change in net working capital either positive or negative is approximately proportional to its change in revenue.\n",
    "\n",
    "$\\text{Working capital} = \\text{Accounts Receivable} + \\text{Inventories} - \\text{Accounts Payable}$  \n",
    "\n",
    "Working capital is a company’s net investment in its accounts receivable and its inventories (cash outflows), minus its accounts payable (a cash inflow).  Working capital and taxes are cash outflows from the corporation that are not available to pay debts and stockholders.\n",
    "\n",
    "**Adjustments for a financial company**  \n",
    "Working capital supports manufacturing and service activities of nonfinancial companies.  For financial companies, their principal liabilities and assets are financial claims that take the place of working capital.  Because there is no differentiation between current and long term assets and liabilities for a financial company, we adjust working capital charges to zero.  A financial company generally invests all of its funds in other financial assets, which have characteristics of current assets rather than PP&E.  \n",
    "$\\text{Accounts Receivable} = 0$  \n",
    "$\\text{Inventories} = 0$  \n",
    "$\\text{Accounts Payable} = 0$  \n",
    "$\\text{working capital} = 0$ "
   ]
  },
  {
   "cell_type": "code",
   "execution_count": 254,
   "metadata": {},
   "outputs": [
    {
     "data": {
      "image/png": "[encoded data removed]",
      "text/plain": [
       "<Figure size 432x288 with 2 Axes>"
      ]
     },
     "metadata": {
      "needs_background": "light"
     },
     "output_type": "display_data"
    }
   ],
   "source": [
    "# plot as four grouped bar chart with labels on right and working capital rate on left\n",
    "# calculate position of bars\n",
    "x1_bar_position = []\n",
    "x2_bar_position = []\n",
    "x3_bar_position = []\n",
    "x4_bar_position = []\n",
    "for i in df_dcf_data['FY']:\n",
    "    x1_bar_position.append(i-relativedelta(months=3))\n",
    "    x2_bar_position.append(i-relativedelta(months=1))\n",
    "    x3_bar_position.append(i+relativedelta(months=1))\n",
    "    x4_bar_position.append(i+relativedelta(months=3))\n",
    "\n",
    "# calculate working capital rate\n",
    "working_capital = (df_dcf_data['accounts_receivable'] + df_dcf_data['inventories']) - \\\n",
    "    df_dcf_data['accounts_payable']\n",
    "working_capital_rate = working_capital / df_dcf_data['revenue']\n",
    "\n",
    "width = 40  # the width of the bars\n",
    "\n",
    "# Set the locator\n",
    "locator = mdates.YearLocator()  # every year\n",
    "fmt = mdates.DateFormatter('%Y')\n",
    "\n",
    "fig, ax1 = plt.subplots()\n",
    "ax1.set_ylabel('dollars, \\\\$M')\n",
    "\n",
    "rects1 = ax1.bar(x1_bar_position,df_dcf_data['accounts_receivable']/1e9, width,\\\n",
    "    label='Accounts Receivable')\n",
    "rects2 = ax1.bar(x2_bar_position,df_dcf_data['inventories']/1e9, width, label='Inventory')\n",
    "\n",
    "rects2 = ax1.bar(x3_bar_position,df_dcf_data['accounts_payable']/1e9, width, label='Accounts Payable')\n",
    "rects2 = ax1.bar(x4_bar_position,working_capital/1e9, width, label='Working Capital')\n",
    "\n",
    "ax1.tick_params(axis='y')\n",
    "#ax1.set_ylim((-50,200))\n",
    "ax1.legend()\n",
    "plt.grid()\n",
    "\n",
    "# instantiate a second y-axes that shares the same x-axis\n",
    "ax2 = ax1.twinx()\n",
    "color = 'tab:Blue'\n",
    "\n",
    "ax2.plot(df_dcf_data['FY'],working_capital_rate * 100,'+-')\n",
    "    \n",
    "ax2.set_ylabel('% Working Capital Rate',color=color)\n",
    "ax2.tick_params(axis='y', labelcolor=color)\n",
    "#ax2.set_ylim((-5,5))\n",
    "\n",
    "X = plt.gca().xaxis\n",
    "X.set_major_locator(locator)\n",
    "# Specify formatter\n",
    "X.set_major_formatter(fmt)\n",
    "plt.gcf().autofmt_xdate()\n",
    "\n",
    "plt.title('Working Capital')\n",
    "plt.show()"
   ]
  },
  {
   "cell_type": "markdown",
   "metadata": {},
   "source": [
    "**Observations:**  \n",
    "As stated above, the working capital is zero in this DCF model for a financial institution."
   ]
  },
  {
   "cell_type": "code",
   "execution_count": 255,
   "metadata": {},
   "outputs": [
    {
     "name": "stdout",
     "output_type": "stream",
     "text": [
      "average working capital rate: 0.00%\n"
     ]
    }
   ],
   "source": [
    "# average working capital rate\n",
    "working_capital_rate_avg = 0 # working_capital_rate[-5:].mean()\n",
    "print('average working capital rate: {:.2f}%'.format(working_capital_rate_avg*100))"
   ]
  },
  {
   "cell_type": "markdown",
   "metadata": {},
   "source": [
    "### Current assets <a id=\"section6-7\"></a>\n",
    "Total Current Assets from the most recent balance sheet statement of the company.  Current assets include inventory, cash and accounts receivables.\n",
    "\n",
    "**Adjustments for a financial company**  \n",
    "The balance sheets of most financial companies do not separate assets and liabilities into current and long term categories.  When calculating the short term assets take the total assets and subtract goodwill and intangible assets also subtract other assets of questionable value.  Subtract long term assets such as PP&E from total assets.  \n",
    "\n",
    "$\\text{Short term assets} = \\text{Total assets} - \\text{good will and others of questionable value} - \\text{Premises and equipment}$"
   ]
  },
  {
   "cell_type": "code",
   "execution_count": 256,
   "metadata": {},
   "outputs": [
    {
     "data": {
      "image/png": "[encoded data removed]",
      "text/plain": [
       "<Figure size 432x288 with 1 Axes>"
      ]
     },
     "metadata": {
      "needs_background": "light"
     },
     "output_type": "display_data"
    }
   ],
   "source": [
    "# plot Short Term Assets\n",
    "width = 100  # the width of the bars\n",
    "\n",
    "# Set the locator\n",
    "locator = mdates.YearLocator()  # every year\n",
    "fmt = mdates.DateFormatter('%Y')\n",
    "\n",
    "plt.bar(df_dcf_data['FY'],df_dcf_data['current_assets']/1e9, width)\n",
    "\n",
    "X = plt.gca().xaxis\n",
    "X.set_major_locator(locator)\n",
    "# Specify formatter\n",
    "X.set_major_formatter(fmt)\n",
    "plt.gcf().autofmt_xdate()\n",
    "\n",
    "plt.title('Current assets')\n",
    "plt.ylabel('dollars, \\\\$B')\n",
    "\n",
    "plt.grid()\n",
    "plt.show()"
   ]
  },
  {
   "cell_type": "markdown",
   "metadata": {},
   "source": [
    "**Observations:**  \n",
    "Current assets have been increasing every year."
   ]
  },
  {
   "cell_type": "code",
   "execution_count": 257,
   "metadata": {},
   "outputs": [
    {
     "name": "stdout",
     "output_type": "stream",
     "text": [
      "Current assets: $541.12B\n"
     ]
    }
   ],
   "source": [
    "sta = df_dcf_data['current_assets'].iloc[-1]\n",
    "print('Current assets: ${:.2f}B'.format(sta/1e9))"
   ]
  },
  {
   "cell_type": "markdown",
   "metadata": {},
   "source": [
    "### Current liabilities <a id=\"section6-8\"></a>\n",
    "Total Current Liabilities from the most recent balance sheet consolidated statement.\n",
    "\n",
    "**Adjustments for a financial company**  \n",
    "A financial company's principal liabilities are deposits, Federal funds purchased, trading account liabilities, insurance policy and claims reserves, contract holder funds and short term borrowing. To be consistent with the treatment of interest and an operating expense for financial companies, include long term debt in the short term liability category.  \n",
    "\n",
    "Deposits are included in liabilities.  This makes the ISV calculated result more in line with other intrinsic valuations."
   ]
  },
  {
   "cell_type": "code",
   "execution_count": 258,
   "metadata": {},
   "outputs": [
    {
     "data": {
      "image/png": "[encoded data removed]",
      "text/plain": [
       "<Figure size 432x288 with 1 Axes>"
      ]
     },
     "metadata": {
      "needs_background": "light"
     },
     "output_type": "display_data"
    }
   ],
   "source": [
    "# plot Short Term Liabilities\n",
    "\n",
    "width = 100  # the width of the bars\n",
    "\n",
    "# Set the locator\n",
    "locator = mdates.YearLocator()  # every year\n",
    "fmt = mdates.DateFormatter('%Y')\n",
    "\n",
    "plt.bar(df_dcf_data['FY'],df_dcf_data['current_liabilities']/1e9, width)\n",
    "\n",
    "X = plt.gca().xaxis\n",
    "X.set_major_locator(locator)\n",
    "# Specify formatter\n",
    "X.set_major_formatter(fmt)\n",
    "plt.gcf().autofmt_xdate()\n",
    "\n",
    "plt.title('Current liabilities')\n",
    "plt.ylabel('dollars, \\\\$B')\n",
    "\n",
    "plt.grid()\n",
    "plt.show()"
   ]
  },
  {
   "cell_type": "markdown",
   "metadata": {},
   "source": [
    "**Observations**:  \n",
    "Current liabilities include long term debt. Exploring the idea of removing deposits from current liabilities.  Deposits have reserve amounts are regulated.  The idea is that deposits are like resources for the bank and used to generate income.  The DCF spreadsheet now includes a line for total deposits in the liabilities section.\n",
    "\n",
    "With deposits included, 2020 current liabilities is \\\\$500B and without deposits \\\\$70B.\n",
    "\n",
    "Total assets and total liabilities plotted later in this notebook are the totals from the financial statements without adjustments."
   ]
  },
  {
   "cell_type": "code",
   "execution_count": 259,
   "metadata": {},
   "outputs": [
    {
     "name": "stdout",
     "output_type": "stream",
     "text": [
      "Current liabilities: $500.18B\n"
     ]
    }
   ],
   "source": [
    "stl = df_dcf_data['current_liabilities'].iloc[-1]\n",
    "print('Current liabilities: ${:.2f}B'.format(stl/1e9))"
   ]
  },
  {
   "cell_type": "markdown",
   "metadata": {},
   "source": [
    "### Value of Debt Outstanding <a id=\"section6-9\"></a>\n",
    "Amount of debt outstanding from the most recent balance sheet of the company.\n",
    "\n",
    "**Adjustments for a financial company**  \n",
    "As describe above, long term debt is included in current liabilities.\n",
    "\n",
    "$\\text{Long term debt} = 0$"
   ]
  },
  {
   "cell_type": "code",
   "execution_count": 260,
   "metadata": {},
   "outputs": [
    {
     "data": {
      "image/png": "[encoded data removed]",
      "text/plain": [
       "<Figure size 432x288 with 2 Axes>"
      ]
     },
     "metadata": {
      "needs_background": "light"
     },
     "output_type": "display_data"
    }
   ],
   "source": [
    "# calculate the percent change in debt, pcd\n",
    "pcd = np.zeros(len(df_dcf_data['long_term_debt'].to_numpy())) # percent change in debt\n",
    "for i in range(len(df_dcf_data['long_term_debt'].to_numpy()[0:-1])):\n",
    "    pcd[i+1] = ((df_dcf_data['long_term_debt'].to_numpy()[i+1] - df_dcf_data['long_term_debt'].to_numpy()[i])/\n",
    "                df_dcf_data['long_term_debt'].to_numpy()[i+1])*100\n",
    "\n",
    "width = 100\n",
    "\n",
    "# Set the locator\n",
    "locator = mdates.YearLocator()  # every year\n",
    "fmt = mdates.DateFormatter('%Y')\n",
    "\n",
    "fig, ax1 = plt.subplots()\n",
    "ax1.set_ylabel('dollars, $B')\n",
    "\n",
    "# plot revenue as single bar\n",
    "plt.bar(df_dcf_data['FY'],df_dcf_data['long_term_debt']/1e9, width,color='k')\n",
    "\n",
    "ax1.tick_params(axis='y')\n",
    "plt.grid()\n",
    "\n",
    "# instantiate a second y-axes that shares the same x-axis\n",
    "ax2 = ax1.twinx()\n",
    "color = 'tab:green'\n",
    "\n",
    "ax2.plot(df_dcf_data['FY'],pcd,'+-g')\n",
    "    \n",
    "ax2.set_ylabel('% Change in debt',color=color)\n",
    "ax2.tick_params(axis='y', labelcolor=color)\n",
    "ax2.set_ylim((-20,50))\n",
    "\n",
    "X = plt.gca().xaxis\n",
    "X.set_major_locator(locator)\n",
    "# Specify formatter\n",
    "X.set_major_formatter(fmt)\n",
    "plt.gcf().autofmt_xdate()\n",
    "\n",
    "plt.title('debt')\n",
    "plt.show()"
   ]
  },
  {
   "cell_type": "code",
   "execution_count": 261,
   "metadata": {},
   "outputs": [
    {
     "name": "stdout",
     "output_type": "stream",
     "text": [
      "average debt growth rate: 1.94%\n"
     ]
    }
   ],
   "source": [
    "dgr_avg = pcr[1:].mean()/100\n",
    "print('average debt growth rate: {:.2f}%'.format(dgr_avg*100))"
   ]
  },
  {
   "cell_type": "markdown",
   "metadata": {},
   "source": [
    "**Observations:**  \n",
    "Plotted above is LT debt. As described above, the value of debt is set to zero in the model."
   ]
  },
  {
   "cell_type": "code",
   "execution_count": 262,
   "metadata": {},
   "outputs": [
    {
     "name": "stdout",
     "output_type": "stream",
     "text": [
      "Total long term debt and other: $0.00B\n"
     ]
    }
   ],
   "source": [
    "vod = 0 #df_dcf_data['long_term_debt'].iloc[-1]\n",
    "print('Total long term debt and other: ${:.2f}B'.format(vod/1e9))"
   ]
  },
  {
   "cell_type": "markdown",
   "metadata": {},
   "source": [
    "### Current stock price <a id=\"section6-10\"></a>\n",
    "Most recent stock price for the [company](https://finance.yahoo.com/quote/T/?p=T).  The current stock price is used to calculate the market value of the firm. Use the market value when looking at market capitalization for common stock. "
   ]
  },
  {
   "cell_type": "code",
   "execution_count": 263,
   "metadata": {},
   "outputs": [
    {
     "name": "stdout",
     "output_type": "stream",
     "text": [
      "current stock price: $61.59\n"
     ]
    }
   ],
   "source": [
    "csp = 61.59 # current stock price, $\n",
    "print('current stock price: ${:,.2f}'.format(csp))"
   ]
  },
  {
   "cell_type": "markdown",
   "metadata": {},
   "source": [
    "### Shares outstanding <a id=\"section6-11\"></a>\n",
    "The number of shares outstanding is used to calculate the intrinsic stock value.  \n",
    "\n",
    "Authorized shares are the maximum number of shares a company is allowed to issue to investors, as laid out in its articles of incorporation. Outstanding shares are the actual shares issued or sold to investors from the available number of authorized shares."
   ]
  },
  {
   "cell_type": "code",
   "execution_count": 264,
   "metadata": {},
   "outputs": [
    {
     "name": "stdout",
     "output_type": "stream",
     "text": [
      "shares outstanding, basic: 1,509,000,000\n"
     ]
    }
   ],
   "source": [
    "so = df_dcf_data['shares_outstanding'].iloc[-1]               # shares outstanding\n",
    "print('shares outstanding, basic: {:,.0f}'.format(so))"
   ]
  },
  {
   "cell_type": "code",
   "execution_count": 265,
   "metadata": {},
   "outputs": [
    {
     "data": {
      "image/png": "[encoded data removed]",
      "text/plain": [
       "<Figure size 432x288 with 2 Axes>"
      ]
     },
     "metadata": {
      "needs_background": "light"
     },
     "output_type": "display_data"
    }
   ],
   "source": [
    "# calculate the percent change in shares outstanding, pcso\n",
    "pcso = np.zeros(len(df_dcf_data['shares_outstanding'].to_numpy())) # percent change in debt\n",
    "for i in range(len(df_dcf_data['shares_outstanding'].to_numpy()[0:-1])):\n",
    "    pcso[i+1] = ((df_dcf_data['shares_outstanding'].to_numpy()[i+1] - df_dcf_data['shares_outstanding'].to_numpy()[i])/\n",
    "                df_dcf_data['shares_outstanding'].to_numpy()[i+1])*100\n",
    "\n",
    "width = 100\n",
    "\n",
    "# Set the locator\n",
    "locator = mdates.YearLocator()  # every year\n",
    "fmt = mdates.DateFormatter('%Y')\n",
    "\n",
    "fig, ax1 = plt.subplots()\n",
    "ax1.set_ylabel('shares outstanding, M')\n",
    "\n",
    "# plot revenue as single bar\n",
    "plt.bar(df_dcf_data['FY'],df_dcf_data['shares_outstanding']/1e6, width,color='k')\n",
    "\n",
    "ax1.tick_params(axis='y')\n",
    "plt.grid()\n",
    "\n",
    "# instantiate a second y-axes that shares the same x-axis\n",
    "ax2 = ax1.twinx()\n",
    "color = 'tab:green'\n",
    "\n",
    "ax2.plot(df_dcf_data['FY'],pcso,'+-g')\n",
    "    \n",
    "ax2.set_ylabel('% Change in shares outstanding',color=color)\n",
    "ax2.tick_params(axis='y', labelcolor=color)\n",
    "ax2.set_ylim((-5,5))\n",
    "\n",
    "X = plt.gca().xaxis\n",
    "X.set_major_locator(locator)\n",
    "# Specify formatter\n",
    "X.set_major_formatter(fmt)\n",
    "plt.gcf().autofmt_xdate()\n",
    "\n",
    "plt.title('Shares outstanding')\n",
    "plt.show()"
   ]
  },
  {
   "cell_type": "code",
   "execution_count": 266,
   "metadata": {},
   "outputs": [
    {
     "name": "stdout",
     "output_type": "stream",
     "text": [
      "average shares outstanding growth rate: -2.40%\n"
     ]
    }
   ],
   "source": [
    "print('average shares outstanding growth rate: {:.2f}%'.format(pcso[1:].mean()))"
   ]
  },
  {
   "cell_type": "markdown",
   "metadata": {},
   "source": [
    "**Observation:**  \n",
    "From the Consolidated Income Sheet, average shares outstanding have been declining at an average rate -2.4%."
   ]
  },
  {
   "cell_type": "code",
   "execution_count": null,
   "metadata": {},
   "outputs": [],
   "source": []
  },
  {
   "cell_type": "markdown",
   "metadata": {},
   "source": [
    "### 10 year treasury bond yield <a id=\"section6-12\"></a>\n",
    "The [10 year treasury yield](https://finance.yahoo.com/quote/%5ETNX?p=^TNX&.tsrc=fin-srch) is used as a measure of the risk free rate.   "
   ]
  },
  {
   "cell_type": "code",
   "execution_count": 267,
   "metadata": {},
   "outputs": [
    {
     "name": "stdout",
     "output_type": "stream",
     "text": [
      "10 year treasury bond yield: 1.38%\n"
     ]
    }
   ],
   "source": [
    "tby = 1.38/100             # 10 year treasury bond yield\n",
    "print('10 year treasury bond yield: {:,.2f}%'.format(tby*100))"
   ]
  },
  {
   "cell_type": "markdown",
   "metadata": {},
   "source": [
    "### Bond yield spread to treasury <a id=\"section6-13\"></a>\n",
    "The spread to treasury implies that all corporate debt will have a higher yield than yields associated with comparable maturity US Treasury Bonds.  The best way to determine default risk is to see how a particular company's debt is trading in the market and compare it on a spread basis with comparable maturity yields.  \n",
    "\n",
    "Look at [PIMCO Active Bond Exchange-Traded Fund (BOND)](https://finance.yahoo.com/quote/BOND?p=BOND) or use a default rating systems that are published by the three major rating agencies, Standards and Poors Corp, Moody’s Investor Services and Fitch & Company.\n",
    "\n",
    "Web resources:\n",
    "- http://www.standardpoor.com/  \n",
    "- http://bond.yahoo.com/rates.html  \n",
    "- http://www.moodys.com/cust/default.asp  \n",
    "- http://www.fitchibca.com/corporate/index.cfm  "
   ]
  },
  {
   "cell_type": "code",
   "execution_count": 268,
   "metadata": {},
   "outputs": [
    {
     "name": "stdout",
     "output_type": "stream",
     "text": [
      "Bond yield spread to treasury: 1.15%\n"
     ]
    }
   ],
   "source": [
    "bystt = (2.53-1.38)/100           # bond yield spread to treasury spread\n",
    "print('Bond yield spread to treasury: {:,.2f}%'.format(bystt*100))"
   ]
  },
  {
   "cell_type": "markdown",
   "metadata": {},
   "source": [
    "### Preferred stock yield <a id=\"section6-14\"></a>\n",
    "Amount of preferred stock outstanding from the most recent balance sheet of the company. From the balance sheet, the preferred stock is \\\\$5.983 billion."
   ]
  },
  {
   "cell_type": "code",
   "execution_count": 269,
   "metadata": {},
   "outputs": [
    {
     "name": "stdout",
     "output_type": "stream",
     "text": [
      "preferred stock yield: 5.00%\n",
      "value of preferred stock: $5.98B\n"
     ]
    }
   ],
   "source": [
    "psy = 5/100  # preferred stock yield\n",
    "print('preferred stock yield: {:,.2f}%'.format(psy*100))\n",
    "\n",
    "vps = 5983000000 # value of preferred stock\n",
    "print('value of preferred stock: ${:,.2f}B'.format(vps/1e9))"
   ]
  },
  {
   "cell_type": "markdown",
   "metadata": {},
   "source": [
    "### Equity risk premium <a id=\"section6-15\"></a>\n",
    "The expected excess return a hypothetical average investor would require of a diversified portfolio of stock (assumed beta = 1.0) over the yield on the 10-year Treasury Bond.  The equity risk premium has been going down over the years.  \n",
    "- 1926 to 1990: 5.5%   \n",
    "- 1962 to 1990: 3.25%   \n",
    "- 1981 to 1990: 0.19%   \n",
    "\n",
    "In times of sustained economic growth the risk premium demanded by investors generally declines.   \n",
    "\n",
    "I'm going to use 3% as the equity risk premium."
   ]
  },
  {
   "cell_type": "code",
   "execution_count": 270,
   "metadata": {},
   "outputs": [
    {
     "name": "stdout",
     "output_type": "stream",
     "text": [
      "Equity risk premium: 3.00%\n"
     ]
    }
   ],
   "source": [
    "eq_rp = 3.0/100             # equity risk premium\n",
    "print('Equity risk premium: {:,.2f}%'.format(eq_rp*100))"
   ]
  },
  {
   "cell_type": "markdown",
   "metadata": {},
   "source": [
    "### Company specific beta <a id=\"section6-16\"></a>\n",
    "The Beta used is Beta of Equity. Beta is the monthly price change of a particular company relative to the monthly price change of the S&P 500. The time period for Beta is 5 years when available. This value can be obtained at [yahoo finance](https://finance.yahoo.com/quote/ED/?p=ED).  \n",
    "\n",
    "A measure of risk of an individual stock. It measures volatility of return - a higher beta means a higher risk. A financial model that uses Beta as its sole measure of risk (signal factor model) is called a Capital Asset Pricing Model (CAPM).\n",
    " "
   ]
  },
  {
   "cell_type": "code",
   "execution_count": 271,
   "metadata": {},
   "outputs": [
    {
     "name": "stdout",
     "output_type": "stream",
     "text": [
      "Company specific beta: 1.15\n"
     ]
    }
   ],
   "source": [
    "beta = 1.15 # company specific beta\n",
    "print('Company specific beta: {:,.2f}'.format(beta))"
   ]
  },
  {
   "cell_type": "markdown",
   "metadata": {},
   "source": [
    "### DCF model inputs <a id=\"section6-17\"></a>\n",
    "Below are the DCF model inputs.  These values were calculated above."
   ]
  },
  {
   "cell_type": "code",
   "execution_count": 272,
   "metadata": {},
   "outputs": [
    {
     "name": "stdout",
     "output_type": "stream",
     "text": [
      "revenue growth rate: 1.69%\n",
      "net operating profit margin: 38.72%\n",
      "tax rate: 23.23%\n",
      "depreciation rate: 1.32%\n",
      "investment rate: 8.78%\n",
      "working capital rate: 0.00%\n"
     ]
    }
   ],
   "source": [
    "# various rates\n",
    "rgr = rgr_avg              # revenue growth rate\n",
    "print('revenue growth rate: {:,.2f}%'.format(rgr*100))\n",
    "nopm = nopm_avg             # net operating profit margin\n",
    "print('net operating profit margin: {:,.2f}%'.format(nopm*100))\n",
    "tr = tax_rate_avg               # tax rate\n",
    "print('tax rate: {:,.2f}%'.format(tr*100))\n",
    "dr = depreciation_rate_avg              # depreciation rate (% of revenue)\n",
    "print('depreciation rate: {:,.2f}%'.format(dr*100))\n",
    "ir = investment_rate_avg              # investment rate (% of revenue)\n",
    "print('investment rate: {:,.2f}%'.format(ir*100))\n",
    "wcr = working_capital_rate_avg            # working capital rate (% of revenue)\n",
    "print('working capital rate: {:,.2f}%'.format(wcr*100))"
   ]
  },
  {
   "cell_type": "code",
   "execution_count": 273,
   "metadata": {},
   "outputs": [
    {
     "name": "stdout",
     "output_type": "stream",
     "text": [
      "starting revenues: $25.24B\n",
      "shares outstanding: 1,509,000,000\n"
     ]
    }
   ],
   "source": [
    "# General Inputs\n",
    "fy_start = df_dcf_data['FY'].iloc[-1].year # fiscal year to start excess return period\n",
    "erp = 10                  # excess return period, years\n",
    "rev_start = df_dcf_data['revenue'].to_numpy()[-1] # starting revenues for excess return period\n",
    "print('starting revenues: ${:,.2f}B'.format(rev_start/1e9))\n",
    "print('shares outstanding: {:,.0f}'.format(so))"
   ]
  },
  {
   "cell_type": "code",
   "execution_count": 274,
   "metadata": {},
   "outputs": [
    {
     "name": "stdout",
     "output_type": "stream",
     "text": [
      "preferred stock, market value : $5.98B\n",
      "common stock, market value: $92.94B\n"
     ]
    }
   ],
   "source": [
    "ps_mv = vps               # preferred stock, market value \n",
    "print('preferred stock, market value : ${:,.2f}B'.format(ps_mv/1e9))\n",
    "cs_mv = csp*so            # common stock, market value \n",
    "print('common stock, market value: ${:,.2f}B'.format(cs_mv/1e9))"
   ]
  },
  {
   "cell_type": "markdown",
   "metadata": {},
   "source": [
    "**Long Term Debt, Market Value, ltd_mv**  \n",
    "Use the book value for long term debt.  Various online resources can be used to research this item.\n",
    "These include, [Bondsonline](http://www.bondsonline.com/) and [Bloomberg](http://www.bloomberg.com/).  The book value of debt and preferred stock is an accounting measure that relates to how much money was raised by the company when each security was issued.  The market value of debt and the preferred and common stock is the price that specific obligations would trade at in today’s market. \n",
    "\n",
    "Long term debt for firms can take one of two forms.  It can be a long-term loan from a bank or other financial institution or it can be a long-term bond issued to financial markets, in which case the creditors are the investors in the bond.  Firms often have long term obligations that are not captured in the long term debt item.  These include obligations to lessors on assets that firms have leased, to employees in the form of pension fund and health care benefits yet to be paid, and to the government in the form of taxes deferred.  In the last two decades, accountants have increasingly moved towards quantifying these liabilities and showing them as long term liabilities."
   ]
  },
  {
   "cell_type": "code",
   "execution_count": 275,
   "metadata": {},
   "outputs": [
    {
     "name": "stdout",
     "output_type": "stream",
     "text": [
      "total market value: $98.92B\n"
     ]
    }
   ],
   "source": [
    "ltd_mv = vod              # market value of long term debt\n",
    "tmv = ltd_mv+ps_mv+cs_mv  # total market value \n",
    "print('total market value: ${:,.2f}B'.format(tmv/1e9))"
   ]
  },
  {
   "cell_type": "markdown",
   "metadata": {},
   "source": [
    "**Cost of Common Equity, cce**  \n",
    "The expected excess return a hypothetical average investor would require of a diversified portfolio of stock (assumed beta = 1.0) over the yield on the 10-year Treasury Bond.  The annual rate of return that an investor expects to earn when investing in shares of a company is known as the cost of common equity.  It includes dividends and increases in the market value."
   ]
  },
  {
   "cell_type": "code",
   "execution_count": 276,
   "metadata": {},
   "outputs": [
    {
     "name": "stdout",
     "output_type": "stream",
     "text": [
      "cost of common equity: 4.83%\n"
     ]
    }
   ],
   "source": [
    "cce = tby+beta*eq_rp      # cost of common equity or the expected return for the stock\n",
    "print('cost of common equity: {:,.2f}%'.format(cce*100))"
   ]
  },
  {
   "cell_type": "markdown",
   "metadata": {},
   "source": [
    "**Long Term Debt, Average Yield, ltd_ay**  \n",
    "The total cost of long term debt."
   ]
  },
  {
   "cell_type": "code",
   "execution_count": 277,
   "metadata": {},
   "outputs": [
    {
     "name": "stdout",
     "output_type": "stream",
     "text": [
      "long term debt average yield: 2.53%\n"
     ]
    }
   ],
   "source": [
    "ltd_ay = tby+bystt        # long term debt average yield\n",
    "print('long term debt average yield: {:,.2f}%'.format(ltd_ay*100))"
   ]
  },
  {
   "cell_type": "markdown",
   "metadata": {},
   "source": [
    "**Long Term Debt, After Tax Yield, ltd_aty**  \n",
    "The tax benefits of long term debt.  Interest payments are tax deductible for the company."
   ]
  },
  {
   "cell_type": "code",
   "execution_count": 278,
   "metadata": {},
   "outputs": [
    {
     "name": "stdout",
     "output_type": "stream",
     "text": [
      "long term debt after tax yield: 1.94%\n",
      "preferred stock, average yield: 5.00%\n",
      "common stock, after tax yield: 4.83%\n",
      "common stock, after tax effet: 4.54%\n",
      "total after tax effect: 4.84%\n",
      "total % Capital: 100.00%\n"
     ]
    }
   ],
   "source": [
    "ltd_aty = ltd_ay*(1-tr)   # long term debt after tax yield\n",
    "print('long term debt after tax yield: {:,.2f}%'.format(ltd_aty*100))\n",
    "\n",
    "ltd_pc = vod/tmv          # weight for long term debt \n",
    "ltd_ate = ltd_aty*ltd_pc  # after tax effect of long term debt \n",
    "ps_ay = psy               # preferred stock, average yield \n",
    "ps_aty = ps_ay            # preferred stock, average yield \n",
    "print('preferred stock, average yield: {:,.2f}%'.format(ps_aty*100))\n",
    "\n",
    "ps_pc = ps_mv/tmv         # preferred stock, % capital \n",
    "ps_ate = ps_aty*ps_pc     # preferred stock, after tax effect \n",
    "cs_ay = cce               # common stock, average yield \n",
    "cs_aty = cce              # common stock, after tax yield \n",
    "print('common stock, after tax yield: {:,.2f}%'.format(cs_aty*100))\n",
    "\n",
    "cs_pc = cs_mv/tmv         # common stock, % capital \n",
    "cs_ate = cs_aty*cs_pc     # common stock, after tax effect \n",
    "print('common stock, after tax effet: {:,.2f}%'.format(cs_ate*100))\n",
    "\n",
    "tate = ltd_ate+ps_ate+cs_ate # total after tax effect \n",
    "print('total after tax effect: {:,.2f}%'.format(tate*100))\n",
    "tpc = ltd_pc+ps_pc+cs_pc     # total % Capital\n",
    "print('total % Capital: {:,.2f}%'.format(tpc*100))"
   ]
  },
  {
   "cell_type": "markdown",
   "metadata": {},
   "source": [
    "**Weighted average cost of capital**  \n",
    "A company's weighted average cost of capital (WACC) is the weighted average of the company's current cost of debt and equity calculated by using current debt, preferred stock and common stock market values.  The WACC of the company, calculated after tax, is the discount rate used in the DCF valuation procedures. The WACC, which is the cost of the different components of financing used by the firm, weighted by their market value proportions.  These include debt, preferred stock, and common stock.\n",
    "\n",
    "WACC: Weighted Average Cost of Capital, the rate used to discount cash flows, based on the following three factors.\n",
    "1. Base rate of return.\n",
    "2. Expected return based on debt and preferred stock.\n",
    "3. Expected return on common stock and Beta.\n",
    "\n",
    "All adjusted for the tax advantage of interest payments and the percentage of debt, preferred stock and common stock."
   ]
  },
  {
   "cell_type": "code",
   "execution_count": 279,
   "metadata": {},
   "outputs": [
    {
     "name": "stdout",
     "output_type": "stream",
     "text": [
      "weighted average cost of capital: 4.8%\n"
     ]
    }
   ],
   "source": [
    "wacc = tate\n",
    "print('weighted average cost of capital: {:.1f}%'.format(wacc*100))"
   ]
  },
  {
   "cell_type": "markdown",
   "metadata": {},
   "source": [
    "### Future cash flows <a id=\"section6-18\"></a>\n",
    "The future cash flows to the firm are projected based on revenue growth.  The cash flows are then discounted using the WACC and the ISV is calculated."
   ]
  },
  {
   "cell_type": "code",
   "execution_count": 280,
   "metadata": {},
   "outputs": [
    {
     "name": "stdout",
     "output_type": "stream",
     "text": [
      "Year       Rev       NOP  AdjTaxes     NOPAT   Invest.   Deprec.  dInvest.       dWC      FCFF        DF   DF*FCFF\n",
      "2020    25,241         0         0         0         0         0         0         0         0    0.0000         0\n",
      "2021    25,669     9,939     2,309     7,630     2,254       338     1,916         0     5,714    0.9538     5,450\n",
      "2022    26,104    10,107     2,348     7,759     2,292       344     1,948         0     5,811    0.9098     5,287\n",
      "2023    26,546    10,279     2,388     7,891     2,331       349     1,981         0     5,909    0.8678     5,128\n",
      "2024    26,996    10,453     2,428     8,025     2,370       355     2,015         0     6,009    0.8277     4,974\n",
      "2025    27,453    10,630     2,469     8,161     2,410       361     2,049         0     6,111    0.7895     4,825\n",
      "2026    27,919    10,810     2,511     8,299     2,451       367     2,084         0     6,215    0.7531     4,680\n",
      "2027    28,392    10,993     2,554     8,439     2,493       374     2,119         0     6,320    0.7183     4,540\n",
      "2028    28,873    11,180     2,597     8,582     2,535       380     2,155         0     6,427    0.6851     4,404\n",
      "2029    29,362    11,369     2,641     8,728     2,578       386     2,192         0     6,536    0.6535     4,271\n",
      "2030    29,860    11,562     2,686     8,876     2,622       393     2,229         0     6,647    0.6233     4,143\n"
     ]
    }
   ],
   "source": [
    "# make a list of the fiscal years in excess return period \n",
    "fy = np.zeros(erp+1)\n",
    "fy[0] = fy_start\n",
    "for i in range(1,erp+1): \n",
    "    fy[i]=fy_start+i\n",
    "\n",
    "rev = np.zeros(len(fy))\n",
    "ciwc = np.zeros(len(fy))\n",
    "rev[0] = rev_start  #*rgr+rev_start   # find the future revenue using constant revenue growth rate \n",
    "\n",
    "for i in range(1,len(fy)): \n",
    "    rev[i] = rev[i-1]*rgr+rev[i-1]  # find the future revenue \n",
    "    ciwc[i] = (rev[i]-rev[i-1])*wcr  # find the change in working capital \n",
    "\n",
    "nop = np.zeros(len(fy))\n",
    "adj_taxes = np.zeros(len(fy))\n",
    "nopat = np.zeros(len(fy))\n",
    "invest = np.zeros(len(fy))\n",
    "depre = np.zeros(len(fy))\n",
    "net_invest = np.zeros(len(fy))\n",
    "fcff = np.zeros(len(fy))\n",
    "disc_fact = np.zeros(len(fy))\n",
    "disc_fcff = np.zeros(len(fy))                \n",
    "\n",
    "# calculate values in table \n",
    "for i in range(1,len(fy)): \n",
    "    nop[i] = rev[i]*nopm # net operating profit\n",
    "    adj_taxes[i] = nop[i]*tr # net operating profit adjusted for taxes\n",
    "    nopat[i] = nop[i]-adj_taxes[i] # after tax net operating profit\n",
    "    invest[i] = rev[i]*ir # future investments\n",
    "    depre[i] = rev[i]*dr # future depreciations\n",
    "    net_invest[i] = invest[i]-depre[i] # net investments\n",
    "    fcff[i] = nopat[i]-net_invest[i]-ciwc[i] # free cash flow to the firm\n",
    "    disc_fact[i] = 1/((1+wacc)**i) # discount factor\n",
    "    disc_fcff[i] = disc_fact[i]*fcff[i] # discounted free cash flow to the firm\n",
    "    \n",
    "dcrv = nopat[-1]/wacc*disc_fact[-1] # discounted corporate residual value\n",
    "derp_fcff = disc_fcff.sum() # discounted excess return period FCFF\n",
    "\n",
    "tcv = derp_fcff+dcrv+sta # total corporate value\n",
    "tvce = tcv-vod-vps-stl # total value of common equity\n",
    "isv = tvce/so # intrinsic stock value\n",
    "\n",
    "# print cash flows in a table\n",
    "print('{:4s}{:>10s}{:>10s}{:>10s}{:>10s}{:>10s}{:>10s}{:>10s}{:>10s}{:>10s}{:>10s}{:>10s}'.format('Year','Rev','NOP','AdjTaxes',\n",
    "    'NOPAT','Invest.','Deprec.','dInvest.','dWC','FCFF','DF','DF*FCFF'))\n",
    "for i in range(len(fy)):\n",
    "    print('{:4.0f}{:10,.0f}{:10,.0f}{:10,.0f}{:10,.0f}{:10,.0f}{:10,.0f}{:10,.0f}{:10,.0f}{:10,.0f}{:10,.4f}{:10,.0f}'.format(fy[i],\n",
    "        rev[i]/1e6,nop[i]/1e6,adj_taxes[i]/1e6,nopat[i]/1e6,invest[i]/1e6,depre[i]/1e6,(invest[i]-depre[i])/1e6,ciwc[i]/1e6,\n",
    "        fcff[i]/1e6,disc_fact[i],disc_fcff[i]/1e6))"
   ]
  },
  {
   "cell_type": "code",
   "execution_count": 281,
   "metadata": {},
   "outputs": [
    {
     "name": "stdout",
     "output_type": "stream",
     "text": [
      "discounted excess return period FCFF: $47.70B\n",
      "discounted corporate residual value: $114.30B\n",
      "total corporate value: $703.13B\n",
      "total value of common equity: $196.97B\n",
      "intrinsic stock value: $130.53\n",
      "current stock price: $61.59\n"
     ]
    }
   ],
   "source": [
    "# Intrinsic Value\n",
    "print('discounted excess return period FCFF: ${:,.2f}B'.format(derp_fcff/1e9))\n",
    "print('discounted corporate residual value: ${:,.2f}B'.format(dcrv/1e9))\n",
    "print('total corporate value: ${:,.2f}B'.format(tcv/1e9))\n",
    "print('total value of common equity: ${:,.2f}B'.format(tvce/1e9))\n",
    "print('intrinsic stock value: ${:,.2f}'.format(isv))\n",
    "print('current stock price: ${:,.2f}'.format(csp))"
   ]
  },
  {
   "cell_type": "markdown",
   "metadata": {},
   "source": [
    "**Observations:**  \n",
    "The base line DCF analysis produces an intrinsic stock value of \\\\$130."
   ]
  },
  {
   "cell_type": "markdown",
   "metadata": {},
   "source": [
    "### List of all inputs to the DCF model"
   ]
  },
  {
   "cell_type": "code",
   "execution_count": 282,
   "metadata": {},
   "outputs": [
    {
     "name": "stdout",
     "output_type": "stream",
     "text": [
      "excess return period: 10 years\n",
      "starting revenues: $25.241B\n",
      "Current assets: $541.123B\n",
      "Current liabilities: $500.180B\n",
      "Total long term debt and other: $0.000B\n",
      "current stock price: $61.59\n",
      "shares outstanding, basic: 1,509M\n",
      "10 year treasury bond yield: 1.38%\n",
      "Bond yield spread to treasury: 1.15%\n",
      "preferred stock yield: 5.00%\n",
      "value of preferred stock: 5.983B\n",
      "Equity risk premium: 3.00%\n",
      "Company specific beta: 1.15\n",
      "revenue growth rate: 1.695%\n",
      "net operating profit margin: 38.720%\n",
      "tax rate: 23.231%\n",
      "depreciation rate: 1.316%\n",
      "investment rate: 8.780%\n",
      "working capital rate: 0.000%\n",
      "starting revenues: $25.24B\n",
      "preferred stock, market value : $5.98B\n",
      "common stock, market value: $92.94B\n",
      "total market value: $98.92B\n",
      "cost of common equity: 4.83%\n",
      "long term debt average yield: 2.53%\n",
      "long term debt after tax yield: 1.94%\n",
      "preferred stock, average yield: 5.00%\n",
      "common stock, after tax yield: 4.83%\n",
      "common stock, after tax effect: 4.54%\n",
      "total after tax effect: 4.84%\n",
      "total % Capital: 100.00%\n",
      "weighted average cost of capital: 4.8%\n"
     ]
    }
   ],
   "source": [
    "print('excess return period: {:,.0f} years'.format(erp))\n",
    "print('starting revenues: ${:,.3f}B'.format(rev_start/1e9))\n",
    "\n",
    "# various inputs\n",
    "print('Current assets: ${:.3f}B'.format(sta/1e9))\n",
    "print('Current liabilities: ${:.3f}B'.format(stl/1e9))\n",
    "print('Total long term debt and other: ${:.3f}B'.format(vod/1e9))\n",
    "print('current stock price: ${:,.2f}'.format(csp))\n",
    "print('shares outstanding, basic: {:,.0f}M'.format(so/1e6))\n",
    "print('10 year treasury bond yield: {:,.2f}%'.format(tby*100))\n",
    "print('Bond yield spread to treasury: {:,.2f}%'.format(bystt*100))\n",
    "print('preferred stock yield: {:,.2f}%'.format(psy*100))\n",
    "print('value of preferred stock: {:,.3f}B'.format(vps/1e9))\n",
    "print('Equity risk premium: {:,.2f}%'.format(eq_rp*100))\n",
    "print('Company specific beta: {:,.2f}'.format(beta))\n",
    "\n",
    "# various rates\n",
    "print('revenue growth rate: {:,.3f}%'.format(rgr*100))\n",
    "print('net operating profit margin: {:,.3f}%'.format(nopm*100))\n",
    "print('tax rate: {:,.3f}%'.format(tr*100))\n",
    "print('depreciation rate: {:,.3f}%'.format(dr*100))\n",
    "print('investment rate: {:,.3f}%'.format(ir*100))\n",
    "print('working capital rate: {:,.3f}%'.format(wcr*100))\n",
    "\n",
    "# General Inputs\n",
    "print('starting revenues: ${:,.2f}B'.format(rev_start/1e9))\n",
    "print('preferred stock, market value : ${:,.2f}B'.format(ps_mv/1e9))\n",
    "print('common stock, market value: ${:,.2f}B'.format(cs_mv/1e9))\n",
    "print('total market value: ${:,.2f}B'.format(tmv/1e9))\n",
    "print('cost of common equity: {:,.2f}%'.format(cce*100))\n",
    "print('long term debt average yield: {:,.2f}%'.format(ltd_ay*100))\n",
    "print('long term debt after tax yield: {:,.2f}%'.format(ltd_aty*100))\n",
    "print('preferred stock, average yield: {:,.2f}%'.format(ps_aty*100))\n",
    "print('common stock, after tax yield: {:,.2f}%'.format(cs_aty*100))\n",
    "print('common stock, after tax effect: {:,.2f}%'.format(cs_ate*100))\n",
    "print('total after tax effect: {:,.2f}%'.format(tate*100))\n",
    "print('total % Capital: {:,.2f}%'.format(tpc*100))\n",
    "print('weighted average cost of capital: {:.1f}%'.format(wacc*100))"
   ]
  },
  {
   "cell_type": "code",
   "execution_count": null,
   "metadata": {},
   "outputs": [],
   "source": []
  },
  {
   "cell_type": "markdown",
   "metadata": {},
   "source": [
    "## 7) DCF Scenarios <a id=\"section7\"></a>\n",
    "Adjusting the weighted average cost of capital to 8.0% to reflect possible higher interest and inflation in the future and changing the revenue growth rate to a modest 1%."
   ]
  },
  {
   "cell_type": "code",
   "execution_count": 283,
   "metadata": {},
   "outputs": [
    {
     "name": "stdout",
     "output_type": "stream",
     "text": [
      "weighted average cost of capital: 8.0%\n",
      "revenue growth rate: 1.00%\n"
     ]
    }
   ],
   "source": [
    "wacc = 0.08 # weighted average cost of capital\n",
    "print('weighted average cost of capital: {:.1f}%'.format(wacc*100))\n",
    "\n",
    "rgr = 0.01  # revenue growth rate\n",
    "print('revenue growth rate: {:,.2f}%'.format(rgr*100))"
   ]
  },
  {
   "cell_type": "code",
   "execution_count": 284,
   "metadata": {},
   "outputs": [
    {
     "name": "stdout",
     "output_type": "stream",
     "text": [
      "Year       Rev       NOP  AdjTaxes     NOPAT   Invest.   Deprec.  dInvest.       dWC      FCFF        DF   DF*FCFF\n",
      "2020    25,241         0         0         0         0         0         0         0         0    0.0000         0\n",
      "2021    25,493     9,871     2,293     7,578     2,238       335     1,903         0     5,675    0.9259     5,255\n",
      "2022    25,748     9,970     2,316     7,654     2,261       339     1,922         0     5,732    0.8573     4,914\n",
      "2023    26,006    10,070     2,339     7,730     2,283       342     1,941         0     5,789    0.7938     4,596\n",
      "2024    26,266    10,170     2,363     7,808     2,306       346     1,961         0     5,847    0.7350     4,298\n",
      "2025    26,529    10,272     2,386     7,886     2,329       349     1,980         0     5,905    0.6806     4,019\n",
      "2026    26,794    10,375     2,410     7,964     2,353       353     2,000         0     5,964    0.6302     3,759\n",
      "2027    27,062    10,478     2,434     8,044     2,376       356     2,020         0     6,024    0.5835     3,515\n",
      "2028    27,332    10,583     2,459     8,125     2,400       360     2,040         0     6,084    0.5403     3,287\n",
      "2029    27,606    10,689     2,483     8,206     2,424       363     2,061         0     6,145    0.5002     3,074\n",
      "2030    27,882    10,796     2,508     8,288     2,448       367     2,081         0     6,207    0.4632     2,875\n"
     ]
    }
   ],
   "source": [
    "# make a list of the fiscal years in excess return period \n",
    "fy = np.zeros(erp+1)\n",
    "fy[0] = fy_start\n",
    "for i in range(1,erp+1): \n",
    "    fy[i]=fy_start+i\n",
    "\n",
    "rev = np.zeros(len(fy))\n",
    "ciwc = np.zeros(len(fy))\n",
    "rev[0] = rev_start  #*rgr+rev_start   # find the future revenue using constant revenue growth rate \n",
    "\n",
    "for i in range(1,len(fy)): \n",
    "    rev[i] = rev[i-1]*rgr+rev[i-1]  # find the future revenue \n",
    "    ciwc[i] = (rev[i]-rev[i-1])*wcr  # find the change in working capital \n",
    "\n",
    "nop = np.zeros(len(fy))\n",
    "adj_taxes = np.zeros(len(fy))\n",
    "nopat = np.zeros(len(fy))\n",
    "invest = np.zeros(len(fy))\n",
    "depre = np.zeros(len(fy))\n",
    "net_invest = np.zeros(len(fy))\n",
    "fcff = np.zeros(len(fy))\n",
    "disc_fact = np.zeros(len(fy))\n",
    "disc_fcff = np.zeros(len(fy))                \n",
    "\n",
    "# calculate values in table \n",
    "for i in range(1,len(fy)): \n",
    "    nop[i] = rev[i]*nopm # net operating profit\n",
    "    adj_taxes[i] = nop[i]*tr # net operating profit adjusted for taxes\n",
    "    nopat[i] = nop[i]-adj_taxes[i] # after tax net operating profit\n",
    "    invest[i] = rev[i]*ir # future investments\n",
    "    depre[i] = rev[i]*dr # future depreciations\n",
    "    net_invest[i] = invest[i]-depre[i] # net investments\n",
    "    fcff[i] = nopat[i]-net_invest[i]-ciwc[i] # free cash flow to the firm\n",
    "    disc_fact[i] = 1/((1+wacc)**i) # discount factor\n",
    "    disc_fcff[i] = disc_fact[i]*fcff[i] # discounted free cash flow to the firm\n",
    "    \n",
    "dcrv = nopat[-1]/wacc*disc_fact[-1] # discounted corporate residual value\n",
    "derp_fcff = disc_fcff.sum() # discounted excess return period FCFF\n",
    "\n",
    "tcv = derp_fcff+dcrv+sta # total corporate value\n",
    "tvce = tcv-vod-vps-stl # total value of common equity\n",
    "isv = tvce/so # intrinsic stock value\n",
    "\n",
    "# print cash flows in a table\n",
    "print('{:4s}{:>10s}{:>10s}{:>10s}{:>10s}{:>10s}{:>10s}{:>10s}{:>10s}{:>10s}{:>10s}{:>10s}'.format('Year','Rev','NOP','AdjTaxes',\n",
    "    'NOPAT','Invest.','Deprec.','dInvest.','dWC','FCFF','DF','DF*FCFF'))\n",
    "for i in range(len(fy)):\n",
    "    print('{:4.0f}{:10,.0f}{:10,.0f}{:10,.0f}{:10,.0f}{:10,.0f}{:10,.0f}{:10,.0f}{:10,.0f}{:10,.0f}{:10,.4f}{:10,.0f}'.format(fy[i],\n",
    "        rev[i]/1e6,nop[i]/1e6,adj_taxes[i]/1e6,nopat[i]/1e6,invest[i]/1e6,depre[i]/1e6,(invest[i]-depre[i])/1e6,ciwc[i]/1e6,\n",
    "        fcff[i]/1e6,disc_fact[i],disc_fcff[i]/1e6))"
   ]
  },
  {
   "cell_type": "code",
   "execution_count": 285,
   "metadata": {},
   "outputs": [
    {
     "name": "stdout",
     "output_type": "stream",
     "text": [
      "discounted excess return period FCFF: $39.59B\n",
      "discounted corporate residual value: $47.99B\n",
      "total corporate value: $628.70B\n",
      "total value of common equity: $122.54B\n",
      "intrinsic stock value: $81.20\n"
     ]
    }
   ],
   "source": [
    "# Intrinsic Value\n",
    "print('discounted excess return period FCFF: ${:,.2f}B'.format(derp_fcff/1e9))\n",
    "print('discounted corporate residual value: ${:,.2f}B'.format(dcrv/1e9))\n",
    "print('total corporate value: ${:,.2f}B'.format(tcv/1e9))\n",
    "print('total value of common equity: ${:,.2f}B'.format(tvce/1e9))\n",
    "print('intrinsic stock value: ${:,.2f}'.format(isv))"
   ]
  },
  {
   "cell_type": "markdown",
   "metadata": {},
   "source": [
    "The DCF model calculates with adjustments an intrinsic stock value of \\\\$81."
   ]
  },
  {
   "cell_type": "code",
   "execution_count": null,
   "metadata": {},
   "outputs": [],
   "source": []
  },
  {
   "cell_type": "markdown",
   "metadata": {},
   "source": [
    "### 8) Dividend Discount Model <a id=\"section8\"></a>\n",
    "In this section I look at the dividends paid as a series of cash flows. The historical dividends are plotted below and the average growth in dividend payments are calculated.    \n",
    "\n",
    "Since a dividend stock is primarily purchased for the stream of dividends, the present value and internal rate of return of the cash flows can be calculated. "
   ]
  },
  {
   "cell_type": "code",
   "execution_count": 286,
   "metadata": {},
   "outputs": [],
   "source": [
    "#column names: fiscal years \n",
    "years_list = df_metrics.columns[1:].values.astype('str')[::-1]\n",
    "\n",
    "# convert years to datetime format\n",
    "year_ended_list = []\n",
    "for i in years_list:\n",
    "    year_ended_list.append(datetime.strptime(i, '%Y'))"
   ]
  },
  {
   "cell_type": "code",
   "execution_count": 287,
   "metadata": {},
   "outputs": [],
   "source": [
    "#line 8: Dividends per share  \n",
    "dps = df_metrics.iloc[8].to_numpy()[1:].astype('float')[::-1]"
   ]
  },
  {
   "cell_type": "code",
   "execution_count": 288,
   "metadata": {},
   "outputs": [
    {
     "data": {
      "image/png": "[encoded data removed]",
      "text/plain": [
       "<Figure size 432x288 with 2 Axes>"
      ]
     },
     "metadata": {
      "needs_background": "light"
     },
     "output_type": "display_data"
    }
   ],
   "source": [
    "# calculate the percent change in dividends\n",
    "pcd = np.zeros(len(dps)) # percent change in dividend\n",
    "for i in range(len(dps[0:-1])):\n",
    "    pcd[i+1] = ((dps[i+1] - dps[i])/\n",
    "                dps[i+1])*100\n",
    "\n",
    "width = 100\n",
    "\n",
    "# Set the locator\n",
    "locator = mdates.YearLocator()  # every year\n",
    "fmt = mdates.DateFormatter('%Y')\n",
    "\n",
    "fig, ax1 = plt.subplots()\n",
    "ax1.set_ylabel('Dividend per share, $')\n",
    "\n",
    "# plot revenue as single bar\n",
    "plt.bar(year_ended_list,dps, width,color='k')\n",
    "\n",
    "ax1.tick_params(axis='y')\n",
    "plt.grid()\n",
    "\n",
    "# instantiate a second y-axes that shares the same x-axis\n",
    "ax2 = ax1.twinx()\n",
    "color = 'tab:green'\n",
    "\n",
    "ax2.plot(year_ended_list,pcd,'+-g')\n",
    "    \n",
    "ax2.set_ylabel('% Change in dividend',color=color)\n",
    "ax2.tick_params(axis='y', labelcolor=color)\n",
    "ax2.set_ylim((0,20))\n",
    "\n",
    "X = plt.gca().xaxis\n",
    "X.set_major_locator(locator)\n",
    "# Specify formatter\n",
    "X.set_major_formatter(fmt)\n",
    "plt.gcf().autofmt_xdate()\n",
    "\n",
    "plt.title('Dividend per share')\n",
    "plt.show()"
   ]
  },
  {
   "cell_type": "code",
   "execution_count": 289,
   "metadata": {},
   "outputs": [
    {
     "name": "stdout",
     "output_type": "stream",
     "text": [
      "average dividend growth rate: 8.95%\n"
     ]
    }
   ],
   "source": [
    "adgr = pcd[-6:].mean() #last 6 years\n",
    "print('average dividend growth rate: {:.2f}%'.format(adgr))"
   ]
  },
  {
   "cell_type": "markdown",
   "metadata": {},
   "source": [
    "### Future dividend estimate\n",
    "Using the average dividend growth rate calculated above, a series of estimated future dividend payments are generated. "
   ]
  },
  {
   "cell_type": "code",
   "execution_count": 290,
   "metadata": {},
   "outputs": [],
   "source": [
    "#adgr = 1/100 # changing the dividend growth rate to 1%\n",
    "\n",
    "fdp = np.zeros(len(dps)) # future dividend payments\n",
    "fdp[0] = dps[-1]\n",
    "for i in range(len(dps[0:-1])):\n",
    "    fdp[i+1] = fdp[i]+fdp[i]*adgr/100"
   ]
  },
  {
   "cell_type": "markdown",
   "metadata": {},
   "source": [
    "### Net Present Value (NPV) calculation\n",
    "Using the series of estimated future dividend payments and including the stock purchase price and the final sale price, the NPV is calculated using the discount rate. In the case when all future cash flows are positive, the only outflow of cash is the purchase price, the NPV is simply the PV of future cash flows minus the purchase price.\n",
    "\n",
    "The estimated price range in 10 years: 62.71 to 83.74.  This was determined by the NAIC SSG and setting the number of years to ten."
   ]
  },
  {
   "cell_type": "code",
   "execution_count": 291,
   "metadata": {},
   "outputs": [
    {
     "name": "stdout",
     "output_type": "stream",
     "text": [
      "current stock price: $61.59\n",
      "final stock price: $73.22\n"
     ]
    }
   ],
   "source": [
    "print('current stock price: ${:,.2f}'.format(csp))\n",
    "\n",
    "fsp = (62.71 + 83.74)/2 # final stock price, $\n",
    "print('final stock price: ${:,.2f}'.format(fsp))"
   ]
  },
  {
   "cell_type": "code",
   "execution_count": 292,
   "metadata": {},
   "outputs": [],
   "source": [
    "est_cf = np.copy(fdp) # make a copy of the estimated cash flow\n",
    "\n",
    "# cash flows, initial purchase, dividend payments and final sale\n",
    "est_cf[0] = est_cf[0] - csp # subtract purchase price from the first dividend payment\n",
    "est_cf[-1] = est_cf[-1] + fsp # include the sale price with the final dividend payment"
   ]
  },
  {
   "cell_type": "markdown",
   "metadata": {},
   "source": [
    "The discount rate used in the NPV calculation is the rate of return that I would currently expect for a safe investment such as an investment grade corporate bond. This can be the current rate or an estimated future rate.  "
   ]
  },
  {
   "cell_type": "code",
   "execution_count": 293,
   "metadata": {},
   "outputs": [
    {
     "name": "stdout",
     "output_type": "stream",
     "text": [
      "net present value of cash flows: $17.92\n"
     ]
    }
   ],
   "source": [
    "dr = 3/100 # discount rate\n",
    "print('net present value of cash flows: ${:.2f}'.format(np.npv(dr, est_cf)))"
   ]
  },
  {
   "cell_type": "markdown",
   "metadata": {},
   "source": [
    "Since the NPV is greater than zero, this would indicate that the stock and future dividends is trading below the fair price."
   ]
  },
  {
   "cell_type": "markdown",
   "metadata": {},
   "source": [
    "### Internal Rate of Return (IRR) calculations\n",
    "The internal rate of return (IRR) is the discount rate that makes the net present value (NPV) of all cash flows equal to zero in a discounted cash flow analysis. Generally speaking, the higher an internal rate of return, the more desirable an investment is to undertake.\n",
    "\n",
    "As explained above, the stock price has not changed by much over the years, even though the revenue and dividends have been increasing. The final stock price is set equal to the current price."
   ]
  },
  {
   "cell_type": "code",
   "execution_count": 294,
   "metadata": {},
   "outputs": [
    {
     "name": "stdout",
     "output_type": "stream",
     "text": [
      "IRR: 6.15%\n"
     ]
    }
   ],
   "source": [
    "print('IRR: {:.2f}%'.format(np.irr(est_cf)*100))"
   ]
  },
  {
   "cell_type": "markdown",
   "metadata": {},
   "source": [
    "According to global investment bank Goldman Sachs, 10-year stock market returns have averaged 9.2% over the past 140 years. and according to [10-Year Annualized Rolling Returns](https://static.fmgsuite.com/media/documents/bc618705-6161-4c00-be7f-c667c90c61b5.pdf), the long term average is about 10%. However there are many years where the rolling 10 year average return is below 4%.\n",
    "\n",
    "The calculated IRR is 6%, which is a decent return and significantly higher than current interest rates.  "
   ]
  },
  {
   "cell_type": "markdown",
   "metadata": {},
   "source": [
    "### The Gordon Growth Model\n",
    "The Gordon growth model can be used to value a firm that is in 'steady state' with dividends growing at a rate that can be sustained forever. Using a more conservative dividend growth rate, the value of the stock is calculated. "
   ]
  },
  {
   "cell_type": "code",
   "execution_count": 295,
   "metadata": {},
   "outputs": [
    {
     "name": "stdout",
     "output_type": "stream",
     "text": [
      "value of the stock: $86.25\n"
     ]
    }
   ],
   "source": [
    "# The Gordon Growth Model\n",
    "ke = 4/100 # Required rate of return for equity investors\n",
    "g = 2/100 # Growth rate in dividends forever\n",
    "DPS1 = dps[-1] + dps[-1]*g # Expected Dividends one year from now (next period)\n",
    "print('value of the stock: ${:.2f}'.format(DPS1/(ke-g)))"
   ]
  },
  {
   "cell_type": "markdown",
   "metadata": {},
   "source": [
    "**Observations:**  \n",
    "The Gordon growth model values the stock above the current price."
   ]
  },
  {
   "cell_type": "markdown",
   "metadata": {},
   "source": [
    "## 9) Value analysis  <a id=\"section9\"></a>\n",
    "The following analysis follows the Warren Buffett strategy as outlined in [3].  This strategy is essentially value investing where companies are chosen that meet a set of criteria and who's stock price is below the intrinsic value plus a margin of safety.  These investments are usually held for the long term.  \n",
    "\n",
    "Outline:   \n",
    "- [Business metrics](#section9-1)\n",
    " - simple and understandable\n",
    " - favorable long term prospects\n",
    "- [Management metrics](#section9-2)\n",
    " - consistent operating history\n",
    " - candor\n",
    " - rationality: focus on core aspects, only invest in high ROE businesses, focus on shareholder equity\n",
    "- [Financial metrics](#section9-3)\n",
    " - Dividend yield  \n",
    " - Payout ratio  \n",
    " - Return on equity  \n",
    " - Return on Assets  \n",
    " - Debt to equity  \n",
    " - Profit Margin  \n",
    " - Safety margin \n",
    " - One dollar premise\n",
    "- [Market metrics](#section9-4)\n",
    " - The price is determined by the market. The value is determined by the analyst.\n",
    " - What is the value of the business?\n",
    " - Can the business be purchased at a discount to it's value?"
   ]
  },
  {
   "cell_type": "code",
   "execution_count": null,
   "metadata": {},
   "outputs": [],
   "source": []
  },
  {
   "cell_type": "markdown",
   "metadata": {},
   "source": [
    "### Business metrics <a id=\"section9-1\"></a>\n",
    "\n",
    "**Simple and understandable**  \n",
    "The Company’s major lines of business are Corporate and Commercial Banking, Consumer and Business Banking, Wealth Management and Investment Services, Payment Services, and Treasury and Corporate Support.\n",
    "\n",
    "**Favorable long term prospects**  \n",
    "Not examined.  \n",
    "\n",
    "**Commodity Reliance**  \n",
    "Not examined.  \n",
    "\n",
    "### Management metrics <a id=\"section9-2\"></a>\n",
    "\n",
    "**Consistent operating history**  \n",
    "Return on equity, Return on Assets, Debt to equity and Profit Margin are plotted below. With some variation, these metrics are consistent over the past few years, with the exception of the 2020 on account of the pandemic.\n",
    "   \n",
    "**Candor**  \n",
    "Not examined.\n",
    "\n",
    "**Rationality**  \n",
    "Not examined.\n",
    "\n",
    "\n",
    "Back to [**Contents**](#section0)  \n"
   ]
  },
  {
   "cell_type": "code",
   "execution_count": null,
   "metadata": {},
   "outputs": [],
   "source": []
  },
  {
   "cell_type": "markdown",
   "metadata": {},
   "source": [
    "### Financial metrics <a id=\"section9-3\"></a>\n",
    "The following financial metrics are looked at over the evaluation period.  \n",
    "- Dividend yield  \n",
    "- Payout ratio  \n",
    "- Return on equity  \n",
    "- Return on Assets  \n",
    "- Debt to equity  \n",
    "- Profit Margin  \n",
    "- Safety margin \n",
    "- One dollar premise"
   ]
  },
  {
   "cell_type": "markdown",
   "metadata": {},
   "source": [
    "**Dividend yield**  \n",
    "Plot the dividend yield history over the evaluation period."
   ]
  },
  {
   "cell_type": "code",
   "execution_count": 296,
   "metadata": {},
   "outputs": [
    {
     "data": {
      "image/png": "[encoded data removed]",
      "text/plain": [
       "<Figure size 432x288 with 1 Axes>"
      ]
     },
     "metadata": {
      "needs_background": "light"
     },
     "output_type": "display_data"
    }
   ],
   "source": [
    "# Set the locator\n",
    "locator = mdates.YearLocator()  # every year\n",
    "fmt = mdates.DateFormatter('%Y')\n",
    "\n",
    "width = 50  # the width of the bars\n",
    "plt.bar(year_ended_list,(dps/fy_high-dps/fy_low)*100, width,bottom=dps/fy_low*100,label='yield')\n",
    "X = plt.gca().xaxis\n",
    "X.set_major_locator(locator)\n",
    "# Specify formatter\n",
    "X.set_major_formatter(fmt)\n",
    "plt.gcf().autofmt_xdate()\n",
    "\n",
    "plt.ylim((0,6))\n",
    "plt.title('Range of dividend yield each year')\n",
    "plt.ylabel('dividend yield, %')\n",
    "#plt.legend()\n",
    "plt.grid()\n",
    "\n",
    "# show plot\n",
    "plt.show()"
   ]
  },
  {
   "cell_type": "markdown",
   "metadata": {},
   "source": [
    "The dividend yield has been between 2 and 3 percent from 2012 to 2018.  The stock price has fallen in 2019 and 2020 pushing the dividend yield to a level approaching 6%."
   ]
  },
  {
   "cell_type": "markdown",
   "metadata": {},
   "source": [
    "**Payout ratio**  \n",
    "The payout ratio is plotted using net income and free cash flow (Net cash provided by operating activities)."
   ]
  },
  {
   "cell_type": "code",
   "execution_count": 297,
   "metadata": {},
   "outputs": [],
   "source": [
    "#line 0: Net income\n",
    "net_income = df_metrics.iloc[1].to_numpy()[1:].astype('float')[::-1]\n",
    "# line 3: Free cash flow, Net cash provided by operating activities \n",
    "free_cash_flow =  df_metrics.iloc[4].to_numpy()[1:].astype('float')[::-1]\n",
    "# line 4: Dividends\n",
    "dividends =  df_metrics.iloc[5].to_numpy()[1:].astype('float')[::-1]"
   ]
  },
  {
   "cell_type": "code",
   "execution_count": 298,
   "metadata": {},
   "outputs": [
    {
     "data": {
      "image/png": "[encoded data removed]",
      "text/plain": [
       "<Figure size 432x288 with 1 Axes>"
      ]
     },
     "metadata": {
      "needs_background": "light"
     },
     "output_type": "display_data"
    }
   ],
   "source": [
    "# Set the locator\n",
    "locator = mdates.YearLocator()  # every year\n",
    "fmt = mdates.DateFormatter('%Y')\n",
    "\n",
    "fig, ax1 = plt.subplots()\n",
    "ax1.set_ylabel('Payout ratio')\n",
    "\n",
    "ax1.plot(year_ended_list,dividends/net_income, '-+',label='Payout ratio using net income')\n",
    "ax1.plot(year_ended_list,dividends/free_cash_flow, '-*',label='Payout ratio using cash flow')\n",
    "\n",
    "ax1.tick_params(axis='y')\n",
    "ax1.set_ylim((0,1))\n",
    "ax1.legend()\n",
    "plt.grid()\n",
    "\n",
    "X = plt.gca().xaxis\n",
    "X.set_major_locator(locator)\n",
    "# Specify formatter\n",
    "X.set_major_formatter(fmt)\n",
    "plt.gcf().autofmt_xdate()\n",
    "\n",
    "plt.title('Payout ratio')\n",
    "plt.show()"
   ]
  },
  {
   "cell_type": "markdown",
   "metadata": {},
   "source": [
    "**Observation:** \n",
    "As can bee seen in the plot, the payout ratio is increasing over the past two years. This concerning trend is something to watch.  "
   ]
  },
  {
   "cell_type": "markdown",
   "metadata": {},
   "source": [
    "#### Various ratios: RoE, RoA, PM, D/E\n",
    "Various ratios can be used to judge management performance. Consistent favorable trends are an indication that management is taking care of the company.\n",
    "\n",
    "**Return on equity**  \n",
    "Sometimes return on equity (ROE) is referred to as stockholder's return on investment. It reveals the rate at which shareholders earn income on their shares. Buffett always looks at ROE to see whether a company has consistently performed well compared to other companies in the same industry. ROE is calculated as follows:\n",
    "\n",
    "$\\text{Return on Equity (ROE)} = \\frac {\\text{Net Income}} {\\text{Shareholder's Equity}}$\n",
    "\n",
    "Looking at the ROE in just the last year isn't enough. The investor should view the ROE from the past five to 10 years to analyze historical performance.\n",
    "\n",
    "$\\text{Shareholders’ Equity} = \\text{Total Assets} − \\text{Total Liabilities}$    \n",
    "\n",
    "For this company, this method of getting Shareholders’ Equity gives negative values.  On the Consolidated Balance Sheets, there is a line for Total stockholders’ equity, which is used.\n",
    "\n",
    "**Return on Assets**   \n",
    "Return on assets is a profitability ratio that provides how much profit a company is able to generate from its assets. In other words, return on assets (ROA) measures how efficient a company's management is in generating earnings from their economic resources or assets on their balance sheet.\n",
    "\n",
    "$\\text{Return on assets (ROA)} = \\frac {\\text{Net Income}} {\\text{Average Total Assets}}$\n",
    "\n",
    "Calculating the ROA of a company can be helpful in comparing a company's profitability over multiple quarters and years as well as comparing to similar companies. However, it's important to compare companies of similar size and industry.\n",
    "\n",
    "For example, banks tend to have a large number of total assets on their books in the form of loans, cash, and investments. A large bank could easily have over \\\\$2 trillion in assets while putting up a net income that's similar to companies in other industries. Although the bank's net income or profit might be similar to an unrelated company and the bank might have high-quality assets, the bank's ROA will be lower. The larger number of total assets must be divided into the net income, creating a lower ROA for the bank.\n",
    "\n",
    "Similarly, auto manufacturing requires huge facilities and specialized equipment. A lucrative software company that sells downloadable programs online may generate the same net profits, but it could have a significantly higher ROA than its more asset-heavy counterparts. When utilizing this metric to compare productivity across businesses, it's important to take into account what types of assets are required to function in a given industry, rather than simply comparing the figures.\n",
    "\n",
    "**Debt to equity**   \n",
    "The debt-to-equity ratio (D/E) is another key characteristic Buffett considers carefully. Buffett prefers to see a small amount of debt so that earnings growth is being generated from shareholders' equity as opposed to borrowed money. The D/E ratio is calculated as follows:\n",
    "\n",
    "$\\text{Debt-to-Equity Ratio} = \\frac {\\text{Total Liabilities}} {\\text{Shareholders' Equity}}$\n",
    "\n",
    "This ratio shows the proportion of equity and debt the company uses to finance its assets, and the higher the ratio, the more debt—rather than equity—is financing the company. A high debt level compared to equity can result in volatile earnings and large interest expenses. For a more stringent test, investors sometimes use only long-term debt instead of total liabilities in the calculation above.\n",
    "\n",
    "**Profit Margin**  \n",
    "A company's profitability depends not only on having a good profit margin, but also on consistently increasing it. This margin is calculated by dividing net income by net sales. For a good indication of historical profit margins, investors should look back at least five years. A high-profit margin indicates the company is executing its business well, but increasing margins mean management has been extremely efficient and successful at controlling expenses.\n",
    "\n",
    "$\\text{Profit margin} = \\frac {\\text{net income}} {\\text{net sales}}$\n"
   ]
  },
  {
   "cell_type": "code",
   "execution_count": 299,
   "metadata": {},
   "outputs": [],
   "source": [
    "#line 0: Total revenue\n",
    "total_revenue = df_metrics.iloc[0].to_numpy()[1:].astype('float')[::-1]\n",
    "\n",
    "# line 1: Shareholder equity\n",
    "shareholder_equity =  df_metrics.iloc[2].to_numpy()[1:].astype('float')[::-1]\n",
    "\n",
    "#line 2: Total liabilities\n",
    "total_liabilities = df_metrics.iloc[3].to_numpy()[1:].astype('float')[::-1]\n",
    "\n",
    "#line 6: Total assets\n",
    "total_assets = df_metrics.iloc[6].to_numpy()[1:].astype('float')[::-1]"
   ]
  },
  {
   "cell_type": "code",
   "execution_count": 300,
   "metadata": {},
   "outputs": [
    {
     "data": {
      "image/png": "[encoded data removed]",
      "text/plain": [
       "<Figure size 432x288 with 1 Axes>"
      ]
     },
     "metadata": {
      "needs_background": "light"
     },
     "output_type": "display_data"
    }
   ],
   "source": [
    "# Set the locator\n",
    "locator = mdates.YearLocator()  # every year\n",
    "fmt = mdates.DateFormatter('%Y')\n",
    "\n",
    "fig, ax1 = plt.subplots()\n",
    "ax1.set_ylabel('percent')\n",
    "\n",
    "ax1.plot(year_ended_list,net_income/shareholder_equity*100, '-+',label='RoE')\n",
    "ax1.plot(year_ended_list,net_income/total_assets*100, '-.',label='RoA')\n",
    "ax1.plot(year_ended_list,total_liabilities/shareholder_equity, '-^',label='D/E')\n",
    "ax1.plot(year_ended_list,net_income/total_revenue*100, '-<',label='Profit margin')\n",
    "\n",
    "ax1.tick_params(axis='y')\n",
    "ax1.set_ylim((0,30))\n",
    "#ax1.legend()\n",
    "ax1.legend(bbox_to_anchor=(1.05, 1))\n",
    "plt.grid()\n",
    "\n",
    "X = plt.gca().xaxis\n",
    "X.set_major_locator(locator)\n",
    "# Specify formatter\n",
    "X.set_major_formatter(fmt)\n",
    "plt.gcf().autofmt_xdate()\n",
    "\n",
    "plt.title('Various ratios')\n",
    "plt.show()"
   ]
  },
  {
   "cell_type": "markdown",
   "metadata": {},
   "source": [
    "**Observation**  \n",
    "The trends for RoE, RoA, D/E and profit margin appear stable except for 2020."
   ]
  },
  {
   "cell_type": "code",
   "execution_count": null,
   "metadata": {},
   "outputs": [],
   "source": []
  },
  {
   "cell_type": "markdown",
   "metadata": {},
   "source": [
    "**Safety margin**  \n",
    "A safety margin is the difference between the intrinsic stock value and the market price of the stock.  The margin accounts for uncertainty in the estimations and methods used in the analysis.  The safety margin doesn't always have to be the same number and can vary from company to company.\n",
    "\n",
    "The stock is trading at or below the various valuation calculations."
   ]
  },
  {
   "cell_type": "code",
   "execution_count": null,
   "metadata": {},
   "outputs": [],
   "source": []
  },
  {
   "cell_type": "markdown",
   "metadata": {},
   "source": [
    "**One dollar premise**  \n",
    "This is a financial test that shows the strength of the business and how well management has rationality allocated to the company's business.\n",
    "\n",
    "From a company's income, subtract all dividends paid to shareholders.  What is left over is the company's retained earnings.  Now add the company's retained earnings over a 10 year period.  Next determine the difference between the company's current market value and its market value 10 years ago.  If the business has employed retained earnings unproductively over this ten year period, the market eventually catches up and will set a lower price on the business. "
   ]
  },
  {
   "cell_type": "code",
   "execution_count": 301,
   "metadata": {},
   "outputs": [
    {
     "name": "stdout",
     "output_type": "stream",
     "text": [
      "retained earnings: $44.03B\n"
     ]
    }
   ],
   "source": [
    "retained_earnings = net_income.sum() - dividends.sum()\n",
    "print('retained earnings: ${:,.2f}B'.format(retained_earnings/1e9))"
   ]
  },
  {
   "cell_type": "markdown",
   "metadata": {},
   "source": [
    "The bank has retained earnings of \\\\$44B over the ten year period.  "
   ]
  },
  {
   "cell_type": "code",
   "execution_count": 302,
   "metadata": {},
   "outputs": [
    {
     "name": "stdout",
     "output_type": "stream",
     "text": [
      "Current market value: $43.66B to $89.33B\n"
     ]
    }
   ],
   "source": [
    "# Current market value, share price multiplied by number of shares\n",
    "cmv_high = df_dcf_data['shares_outstanding'].iloc[-1]*fy_high[-1]\n",
    "cmv_low = df_dcf_data['shares_outstanding'].iloc[-1]*fy_low[-1]\n",
    "print('Current market value: ${:,.2f}B to ${:,.2f}B'.format(cmv_low/1e9,cmv_high/1e9))"
   ]
  },
  {
   "cell_type": "code",
   "execution_count": 303,
   "metadata": {},
   "outputs": [
    {
     "name": "stdout",
     "output_type": "stream",
     "text": [
      "Past market value: $40B to $54B\n"
     ]
    }
   ],
   "source": [
    "# Past market value, share price multiplied by number of shares\n",
    "pmv_high = df_dcf_data['shares_outstanding'].iloc[0]*fy_high[0]\n",
    "pmv_low = df_dcf_data['shares_outstanding'].iloc[0]*fy_low[0]\n",
    "print('Past market value: ${:,.0f}B to ${:,.0f}B'.format(pmv_low/1e9,pmv_high/1e9))"
   ]
  },
  {
   "cell_type": "code",
   "execution_count": 304,
   "metadata": {},
   "outputs": [
    {
     "name": "stdout",
     "output_type": "stream",
     "text": [
      "Difference in market value: $4B to $35B\n"
     ]
    }
   ],
   "source": [
    "print('Difference in market value: ${:,.0f}B to ${:,.0f}B'.format((cmv_low-pmv_low)/1e9,(cmv_high-pmv_high)/1e9))"
   ]
  },
  {
   "cell_type": "markdown",
   "metadata": {},
   "source": [
    "The difference in market value over the ten year period is \\\\$17B to \\\\$66B. So the retained earnings of \\\\$44B was used to create additional market value of \\\\$17B to \\\\$66B. Only on the upper end of the market value does the retained earnings appear to have paid off."
   ]
  },
  {
   "cell_type": "markdown",
   "metadata": {},
   "source": [
    "**Plot share price vs EPS**  \n",
    "Looking at the one dollar premise in terms of share price and EPS.  \n",
    "\n",
    "The one dollar premise: one dollar of earning should translate into one dollar of market value - this seems the same as a plot of EPS versus share price."
   ]
  },
  {
   "cell_type": "code",
   "execution_count": 305,
   "metadata": {},
   "outputs": [
    {
     "data": {
      "image/png": "[encoded data removed]",
      "text/plain": [
       "<Figure size 432x288 with 1 Axes>"
      ]
     },
     "metadata": {
      "needs_background": "light"
     },
     "output_type": "display_data"
    }
   ],
   "source": [
    "# plotting the eps data points\n",
    "ax = plt.bar(EPS,fy_high-fy_low,width = .025,bottom=fy_low)\n",
    "plt.grid()\n",
    "plt.ylim((10,80))\n",
    "plt.ylabel('high and low share price range')\n",
    "plt.xlabel('EPS')\n",
    "plt.title('years from 2010 to 2020')\n",
    "\n",
    "rects = ax.patches\n",
    "\n",
    "# Make some labels.\n",
    "labels = [year_ended_list[i].strftime(\"%Y\") for i in range(len(year_ended_list))]\n",
    "for rect, label in zip(rects, labels):\n",
    "    y_top =  rect.get_y() + rect.get_height()\n",
    "    plt.text(rect.get_x(), y_top+1, label, rotation=90,va='bottom')    \n",
    "\n",
    "plt.show()"
   ]
  },
  {
   "cell_type": "markdown",
   "metadata": {},
   "source": [
    "**Observations:**  \n",
    "The high and low share price range for each year has been increasing when plotted against EPS (except for 2020).  This indicates that as the company earns more the market is placing a higher value on the company."
   ]
  },
  {
   "cell_type": "markdown",
   "metadata": {},
   "source": [
    "### Market metrics <a id=\"section9-4\"></a>\n",
    "The share price is determined by the market. The value is determined by the analyst. At the time of this analysis, the current stock price is \\\\$61.59.\n",
    "\n",
    "The NAIC SSG method estimates the five year price to be in the range of \\\\$53.41 to \\\\$71.32. The DCF base line model produces an intrinsic stock value of \\\\$130. The calculated IRR is 6%, which is a decent return compared to current interest rates. The Gordon Growth Model produces a stock price of \\\\$86.25.\n",
    "\n",
    "The current stock price of $61.59 falls within the NAIC range, is below the ISV and in line with the Gordon Growth Model, indicating that the stock is trading at a fair value."
   ]
  },
  {
   "cell_type": "raw",
   "metadata": {},
   "source": []
  },
  {
   "cell_type": "markdown",
   "metadata": {},
   "source": [
    "## 10) Peer analysis   <a id=\"section10\"></a>\n",
    "See the Fidelity report, the company seems to be in the middle of its peers."
   ]
  },
  {
   "cell_type": "code",
   "execution_count": null,
   "metadata": {},
   "outputs": [],
   "source": []
  },
  {
   "cell_type": "markdown",
   "metadata": {},
   "source": [
    "## 11) Conclusion  <a id=\"section11\"></a>\n",
    "Conclusions from each of the sections    \n",
    "- Quick look:\n",
    " - Current news: A review of the financial news sites from [yahoo](https://finance.yahoo.com/quote/USB?p=USB&.tsrc=fin-srch) and [google](https://www.google.com/finance/quote/USB:NYSE) did not reveal any news items to be concerned about.\n",
    " - Review quarterly results: Since this analysis mainly looks at the annual reports, a review of the quarterly reports and the most recent 12 months is needed to see if the recent quarterly trends match the yearly trends. [yahoo finance](https://finance.yahoo.com/quote/USB/financials?p=USB) shows TTM Total Revenue is down from 2020, TTM Pretax Income is up from 2020.  The Compustat Company Research from Fidelity (from Sep. 29, 2021) shows quarterly revenue down compared to 2020.\n",
    " - Average daily volume:  5,333,353\n",
    " - Dividend yield: The current dividend yield is 3%.\n",
    "- ValuePro: not included\n",
    "- NACI stock selection guide analysis: Share price is trading in an upward trend over the years 2020 to 2019. Then in 2020 the effects of the pandemic impact revenue. Revenues are increasing, except for 2020 and earnings are increasing. The estimated price range in 5 years: \\\\$53.41 to \\\\$71.32.  The current stock price of \\\\$61.59 falls within this range, indicating that the stock is trading at a fair value.\n",
    "- Discounted cash flow analysis, base line: intrinsic stock value = \\\\$130.53\n",
    " - DCF Scenarios: Adjusting the weighted average cost of capital to 8.0% to reflect possible higher interest and inflation in the future and changing the revenue growth rate to a modest 1%. The DCF model calculates with adjustments an intrinsic stock value of $81.\n",
    "- Dividend Discount Model: The average dividend growth rate is 8.95%.\n",
    " - Net Present Value (NPV) calculation: The net present value of cash flows: \\\\$17.92.\n",
    " - Internal Rate of Return (IRR) calculation: The IRR is 6.15%.\n",
    " - The Gordon Growth Model: The value of the stock is \\\\$86.25.\n",
    "- Value analysis: \n",
    " - Dividend yield: The dividend yield has been between 2 and 3 percent from 2012 to 2018. The stock price has fallen in 2019 and 2020 pushing the dividend yield to a level approaching 6%.\n",
    " - Payout ratio: The payout ratio is increasing over the past two years. This concerning trend is something to watch.  \n",
    " - Various ratios: RoE, RoA, PM, D/E - The trends for RoE, RoA, D/E and profit margin appear stable except for 2020.\n",
    " - Safety margin: The stock is trading at or below the various valuation calculations.\n",
    " - One dollar premise: The difference in market value over the ten year period is \\\\$17B to \\\\$66B. So the retained earnings of \\\\$44B was used to create additional market value of \\\\$17B to \\\\$66B. Only on the upper end of the market value does the retained earnings appear to have paid off.\n",
    "- Peer analysis: See the Fidelity report, the company seems to be in the middle of its peers.\n",
    "\n",
    "my concerns: \n",
    "- The payout ratio is increasing over the past two years.\n",
    "- Dividends paid are now at 25% of NOP and the ratio has been increasing over the past ten years. For the years from 2014 to 2018, dividends paid were at 20% of NOP, since then the percentage has been increasing and is a trend to keep an eye on.\n",
    "\n",
    "Recommendation: Buy - Purchased 35 shares at $55 on 12/1/2021\n",
    "\n",
    "\n",
    "## 12) Notes  <a id=\"section12\"></a>\n",
    "The following notes outline the changes to the DCF model for financial and REIT companies.  \n",
    "\n",
    "**Valuing a REIT**  \n",
    "Notes from Valuepro Book, page 237  \n",
    "\n",
    "- NOPM: To calculate operating income take rental revenue and subtracted total real estate expenses and G&A expenses. To arrive at the NOPM divide the adjusted income from real estate by real estate rental revenue. For the REIT, take income from real estate, which includes depreciation and amortization, and subtract GSA. Exclude other income, gains on sale of real estate and interest expenses.\n",
    "- REIT has no traditional R&D costs\n",
    "\n",
    "REIT is not taxed at the corporate level, tax rate: should be near zero.\n",
    "\n",
    "Depreciation and capital expenditures are significantly higher for REITs than in other companies.\n",
    "\n",
    "New property acquisitions are not directly accounted for in the DCF model for a REIT.\n",
    "\n",
    "- Working capitol: accounts payable, rents and security deposits\n",
    " - Short term assets: cash, rents and other receivables and prepaid expenses\n",
    " - Short term liabilities: accounts payable, advance rents security deposits\n",
    " \n",
    "Working capital is almost zero, which is similar to other financial companies.\n",
    "\n",
    "The consolidated balance sheet lists the assets as: \n",
    "- Real estate held for investment, at cost:\n",
    " - Land\n",
    " - Buildings and improvements\n",
    " - Total real estate held for investment, at cost\n",
    " - Less accumulated depreciation and amortization\n",
    " - Real estate held for investment, net\n",
    "- Real estate and lease intangibles held for sale, net\n",
    "- Cash and cash equivalents <- current asset\n",
    "- Accounts receivable, net <- current asset\n",
    "- Lease intangible assets, net\n",
    "- Other assets, net\n",
    "\n",
    "The line items indicated above have been taken to be the current assets. Intangibles and long term items have been excluded.\n",
    "\n",
    "The consolidated balance sheet lists the liabilities as: \n",
    "- Distributions payable <- current liabilities\n",
    "- Accounts payable and accrued expenses <- current liabilities\n",
    "- Lease intangible liabilities, net\n",
    "- Other liabilities\n",
    "- Line of credit payable and commercial paper <- current liabilities\n",
    "- Term loans, net\n",
    "- Mortgages payable, net <- current liabilities\n",
    "- Notes payable, net\n",
    "\n",
    "The line items indicated above have been taken to be the current liabilities.\n",
    "\n",
    "**Valuing a financial company**  \n",
    "Notes from Valuepro Book, page 206  \n",
    "\n",
    "- Total revenue comes from the total interest and dividend income line on the income statement.  The calculation of operating income is more inclusive for a financial company than for an industrial or high tech company.  For financial companies, operating revenue includes all normal revenue items plus interest income, dividends received and other investment income.\n",
    "\n",
    "- Cost of Goods Sold (CGS) comes from the Total interest expense line on the statement of income. \n",
    "- General and Administrative (G&A) are set to zero since they are included in the interest expense line\n",
    "- A financial company has no traditional R&D costs\n",
    "\n",
    "- $\\text{Cost of Goods Sold (CGS)} = \\text{Total interest expense} + \\text{Total non-interest expense}$  \n",
    "- General and Administrative (G&A) are set to zero since they are included in the interest expense line\n",
    "- A financial company has no traditional R&D costs\n",
    "\n",
    "- Depreciation and amortization of premises and equipment from Consolidated Statements of Cash Flows.  \n",
    "- Amortization of other acquisition-related intangible assets is not included.\n",
    "\n",
    "- New investment and Depreciation: Property, plant and equipment expenditures and depreciation charges are significantly lower for a financial company.  A typical manufacturing company, in order to grow its business, invests a significant portion of its revenues in plant, property and equipment (PPE).  Financial companies invest very little in the way of PPE.  However, software, risk management systems and acquisitions of other businesses, need to be included.\n",
    "\n",
    "From the Consolidated Statements of Cash Flows, under Cash Flows from Investing Activities\n",
    "- Purchases of premises and equipment\n",
    "- Purchases of leased equipment, net\n",
    "\n",
    "- Working capital supports manufacturing and service activities of nonfinancial companies.  For financial companies, their principal liabilities  and assets are financial claims that take the place of working capital.  Because there is no differentiation between current and long term assets and liabilities for a financial company, we adjust working capital charges to zero.  A financial company generally invests all of its funds in other financial assets, which have characteristics of current assets rather than PP&E.  \n",
    "$\\text{Accounts Receivable} = 0$  \n",
    "$\\text{Inventories} = 0$  \n",
    "$\\text{Accounts Payable} = 0$  \n",
    "$\\text{working capital} = 0$ \n",
    "\n",
    "- Short term assets:  The balance sheets of most financial companies do not separate assets and liabilities into current and long term categories.  When calculating the short term assets take the total assets and subtract goodwill and intangible assets also subtract other assets of questionable value.  Subtract long term assets such as PP&E from total assets.  \n",
    "\n",
    "$\\text{Short term assets} = \\text{Total assets} - \\text{good will and others of questionable value} - \\text{Premises and equipment}$\n",
    "\n",
    "- A financial company's principal liabilities are deposits, Federal funds purchased, trading account liabilities, insurance policy and claims reserves, contract holder funds and short term borrowing.  To be consistent with the treatment of interest and an operating expense for financial companies, include long term debt in the short term liability category.  \n",
    "- Short term liabilities:  Include long term debt.  \n",
    "\n",
    "$\\text{Long term debt} = 0$\n",
    "\n",
    "This company was selected for analysis because it is on the Dividend Aristocrat list and passes the quick look tests.  This notebook will be used as a template when analyzing other companies.\n",
    "\n",
    "Dividend: Aristocrat, Achiever & Champion\n",
    "- Aristocrat: S&P 500 Dividend Aristocrats is designed to measure the performance of S&P 500 index constituents that have followed a policy of consistently increasing dividends every year for at least 25 consecutive years.\n",
    "- Achiever: The Broad Dividend Achievers Index. Eligible companies must be incorporated in the U.S. or its territories, trade on the NYSE, NASDAQ or AMEX, and have increased its annual regular dividend payments for the last 10 or more consecutive years.\n",
    " - https://dividendvaluebuilder.com/dividend-achievers-list/\n",
    " - https://www.marketbeat.com/dividends/achievers/\n",
    "- Champion: This list includes companies that had increased their dividend for at least 25 consecutive years, and includes additional companies that had paid higher dividends without having increased the payout in every calendar year.\n",
    " - https://dividendvaluebuilder.com/dividend-champions-list/\n",
    " - https://www.dividendgrowthinvestor.com/p/dividend-champions-list.html"
   ]
  },
  {
   "cell_type": "code",
   "execution_count": null,
   "metadata": {},
   "outputs": [],
   "source": []
  },
  {
   "cell_type": "markdown",
   "metadata": {},
   "source": [
    "## 13) References  <a id=\"section13\"></a>\n",
    "\n",
    "1. O'Hara, Thomas E., and Ken Janke. Starting and Running a Profitable Investment Club: the Official Guide from the National Association of Investors Corporation. Times Business, 1998. \n",
    "2. Gray, Gary, et al. Streetsmart Guide to Valuing a Stock: the Savvy Investors Key to Beating the Market. McGraw-Hill, 2004. \n",
    "3. Robert G. Hagstrom, The Warren Buffett Way, Wiley, 2013"
   ]
  },
  {
   "cell_type": "code",
   "execution_count": null,
   "metadata": {},
   "outputs": [],
   "source": []
  },
  {
   "cell_type": "markdown",
   "metadata": {},
   "source": [
    "## 14) Additional plots <a id=\"section14\"></a>\n",
    "\n",
    "### Provision for credit losses"
   ]
  },
  {
   "cell_type": "code",
   "execution_count": 306,
   "metadata": {},
   "outputs": [],
   "source": [
    "# line 9: Provision for credit losses\n",
    "credit_losses =  df_metrics.iloc[9].to_numpy()[1:].astype('float')[::-1]"
   ]
  },
  {
   "cell_type": "code",
   "execution_count": 307,
   "metadata": {},
   "outputs": [
    {
     "data": {
      "image/png": "[encoded data removed]",
      "text/plain": [
       "<Figure size 432x288 with 1 Axes>"
      ]
     },
     "metadata": {
      "needs_background": "light"
     },
     "output_type": "display_data"
    }
   ],
   "source": [
    "# Set the locator\n",
    "locator = mdates.YearLocator()  # every year\n",
    "fmt = mdates.DateFormatter('%Y')\n",
    "\n",
    "fig, ax1 = plt.subplots()\n",
    "ax1.set_ylabel('dollars, $B')\n",
    "\n",
    "#ax1.plot(year_ended_list,credit_losses/1e9, '-+')\n",
    "# plot revenue as single bar\n",
    "ax1.bar(year_ended_list,credit_losses/1e9, width=100,color='k')\n",
    "\n",
    "ax1.tick_params(axis='y')\n",
    "ax1.set_ylim((0,5))\n",
    "#ax1.legend()\n",
    "plt.grid()\n",
    "\n",
    "X = plt.gca().xaxis\n",
    "X.set_major_locator(locator)\n",
    "# Specify formatter\n",
    "X.set_major_formatter(fmt)\n",
    "plt.gcf().autofmt_xdate()\n",
    "\n",
    "plt.title('Provision for credit losses')\n",
    "plt.show()"
   ]
  },
  {
   "cell_type": "markdown",
   "metadata": {},
   "source": [
    "Include this chart in the revenue write up section."
   ]
  },
  {
   "cell_type": "code",
   "execution_count": null,
   "metadata": {},
   "outputs": [],
   "source": []
  },
  {
   "cell_type": "markdown",
   "metadata": {},
   "source": [
    "### Book value\n",
    "Traditionally, a company's book value is its total assets minus intangible assets and liabilities. The book value can also be thought of as the net asset value (NAV) of a company, calculated as its total assets minus intangible assets (patents, goodwill) and liabilities. \n",
    "\n",
    "$\\text{book value} = \\text{total assets} - \\text{goodwill and intangibles} - \\text{preferred stock} - \\text{total liabilities}$\n",
    "\n",
    "Book value and shareholders' equity are the same, if goodwill and intangibles are included.\n",
    "\n",
    "In some versions of the calculations, current liabilities have the deposits removed."
   ]
  },
  {
   "cell_type": "code",
   "execution_count": 308,
   "metadata": {},
   "outputs": [],
   "source": [
    "# line 12: Preferred stock\n",
    "preferred_stock =  df_metrics.iloc[12].to_numpy()[1:].astype('float')[::-1]"
   ]
  },
  {
   "cell_type": "code",
   "execution_count": 309,
   "metadata": {},
   "outputs": [],
   "source": [
    "BV = df_dcf_data['current_assets'] - df_dcf_data['current_liabilities'] - preferred_stock"
   ]
  },
  {
   "cell_type": "code",
   "execution_count": 310,
   "metadata": {},
   "outputs": [
    {
     "data": {
      "image/png": "[encoded data removed]",
      "text/plain": [
       "<Figure size 432x288 with 1 Axes>"
      ]
     },
     "metadata": {
      "needs_background": "light"
     },
     "output_type": "display_data"
    }
   ],
   "source": [
    "# plot Book value\n",
    "\n",
    "width = 100  # the width of the bars\n",
    "\n",
    "# Set the locator\n",
    "locator = mdates.YearLocator()  # every year\n",
    "fmt = mdates.DateFormatter('%Y')\n",
    "\n",
    "plt.bar(df_dcf_data['FY'],BV/1e9, width)\n",
    "\n",
    "X = plt.gca().xaxis\n",
    "X.set_major_locator(locator)\n",
    "# Specify formatter\n",
    "X.set_major_formatter(fmt)\n",
    "plt.gcf().autofmt_xdate()\n",
    "\n",
    "plt.title('Book value')\n",
    "plt.ylabel('dollars, \\\\$B')\n",
    "\n",
    "plt.grid()\n",
    "plt.show()"
   ]
  },
  {
   "cell_type": "code",
   "execution_count": null,
   "metadata": {},
   "outputs": [],
   "source": []
  },
  {
   "cell_type": "markdown",
   "metadata": {},
   "source": [
    "### Short term borrowing and Long term debt\n",
    "\n",
    "On the DFC sheet, Current assets are Total assets with Goodwill and Other intangible assets removed.\n",
    "Current liabilities are Total liabilities with deposits removed.\n",
    "\n",
    "On the metrics sheet total assets and total liabilities are the total numbers from the annual report balance sheet.\n",
    "\n",
    "Researching ideas to tread debt at a bank.  See plots below.\n",
    "- (Total liabilities)/(total assets): almost steady 1:1\n",
    "- (LT+ST Debt)/BV ratio \n",
    "- (Total liabilities)/BV ratio\n",
    "\n",
    "Deposits are included in liabilities and are listed as a line item.  Regulations govern reserves the bank must have. So it would seem that deposits could be ignored when looking at debt. A useful ratio would be how long would it take for the banks to pay back Total liabilities less deposits. Two to five years seems reasonable. (Total liabilities less deposits)/(total assets less goodwill and intangibles) also seem like a useful benchmark. It would not make sense to buy a firm whose debt exceeds assets.    \n",
    "\n",
    "\n",
    "**Notes from Valuation Book, chapter 21**  \n",
    "In other words, debt is to a bank what steel is to General Motors, something to be molded into other financial products which can then be sold at a higher price and yield a profit. Consequently, capital at financial service firms seems to be more narrowly defined as including only equity capital.\n",
    "\n",
    "Equity capital is funds paid into a business by investors in exchange for common or preferred stock. This represents the core funding of a business, to which debt funding may be added. Once invested, these funds are at risk, since investors will not be repaid in the event of a corporate liquidation until the claims of all other creditors have first been settled. \n",
    "\n",
    "We value firms by discounting expected after tax cash flows prior to debt payments at the weighted average cost of capital. We value equity by discounting cash flows to equity investors at the cost of equity.\n",
    "\n",
    "Equity can be valued directly, however, by discounting cash flows to equity at the cost of equity. Consequently, we\n",
    "would argue for the latter approach for financial service firms.\n",
    "\n",
    "Equity multiples such as price to earnings or price to book ratios are a much better fit for financial service firms than value multiples such as value to EBITDA."
   ]
  },
  {
   "cell_type": "markdown",
   "metadata": {},
   "source": [
    "### LT and ST debt\n",
    "Long term and short term debt are just one part of the total liabilities. Looking at these two items probably does not provide that much useful information.   "
   ]
  },
  {
   "cell_type": "code",
   "execution_count": 311,
   "metadata": {},
   "outputs": [],
   "source": [
    "# line 10: Long term debt\n",
    "LT_debt =  df_metrics.iloc[10].to_numpy()[1:].astype('float')[::-1]\n",
    "\n",
    "# line 11: Short-term borrowing\n",
    "ST_debt =  df_metrics.iloc[11].to_numpy()[1:].astype('float')[::-1]"
   ]
  },
  {
   "cell_type": "code",
   "execution_count": 312,
   "metadata": {},
   "outputs": [
    {
     "data": {
      "image/png": "[encoded data removed]",
      "text/plain": [
       "<Figure size 432x288 with 1 Axes>"
      ]
     },
     "metadata": {
      "needs_background": "light"
     },
     "output_type": "display_data"
    }
   ],
   "source": [
    "# plot LT Debt and ST Debt\n",
    "# Set the locator\n",
    "locator = mdates.YearLocator()  # every year\n",
    "fmt = mdates.DateFormatter('%Y')\n",
    "\n",
    "fig, ax1 = plt.subplots()\n",
    "ax1.set_ylabel('Dollars, $B')\n",
    "\n",
    "ax1.plot(year_ended_list,LT_debt/1e9, '-+',label='LT debt')\n",
    "ax1.plot(year_ended_list,ST_debt/1e9, '-*',label='ST debt')\n",
    "#ax1.plot(year_ended_list,total_liabilities/1e9, '-o',label='total liabilities')\n",
    "ax1.plot(year_ended_list,(LT_debt+ST_debt)/1e9, '-^',label='LT debt+ST debt')\n",
    "\n",
    "ax1.tick_params(axis='y')\n",
    "ax1.set_ylim((0,80))\n",
    "ax1.legend()\n",
    "plt.grid()\n",
    "\n",
    "X = plt.gca().xaxis\n",
    "X.set_major_locator(locator)\n",
    "# Specify formatter\n",
    "X.set_major_formatter(fmt)\n",
    "plt.gcf().autofmt_xdate()\n",
    "\n",
    "plt.title('LT Debt and ST Debt')\n",
    "plt.show()"
   ]
  },
  {
   "cell_type": "code",
   "execution_count": null,
   "metadata": {},
   "outputs": [],
   "source": []
  },
  {
   "cell_type": "markdown",
   "metadata": {},
   "source": [
    "### Total liabilities and Total liabilities less deposits\n",
    "Need to remove deposits from total liabilities.  The reason being is that reserves on deposits are regulated and the deposits can be withdrawn at any time. "
   ]
  },
  {
   "cell_type": "code",
   "execution_count": 313,
   "metadata": {},
   "outputs": [],
   "source": [
    "Liabilities_wo_deposits = df_metrics.iloc[13].to_numpy()[1:].astype('float')[::-1]"
   ]
  },
  {
   "cell_type": "code",
   "execution_count": 314,
   "metadata": {},
   "outputs": [
    {
     "data": {
      "image/png": "[encoded data removed]",
      "text/plain": [
       "<Figure size 432x288 with 1 Axes>"
      ]
     },
     "metadata": {
      "needs_background": "light"
     },
     "output_type": "display_data"
    }
   ],
   "source": [
    "# Total liabilities\n",
    "# Set the locator\n",
    "locator = mdates.YearLocator()  # every year\n",
    "fmt = mdates.DateFormatter('%Y')\n",
    "\n",
    "fig, ax1 = plt.subplots()\n",
    "ax1.set_ylabel('Dollars, $B')\n",
    "\n",
    "#ax1.plot(year_ended_list,LT_debt/1e9, '-+',label='LT debt')\n",
    "#ax1.plot(year_ended_list,ST_debt/1e9, '-*',label='ST debt')\n",
    "ax1.plot(year_ended_list,total_liabilities/1e9, '-+',label='total liabilities')\n",
    "ax1.plot(year_ended_list,Liabilities_wo_deposits/1e9, '-*',label='total liabilities w/o deposits')\n",
    "#ax1.plot(year_ended_list,df_dcf_data['current_liabilities']/1e9, '-*',label='current liabilities')\n",
    "#plt.bar(df_dcf_data['FY'],df_dcf_data['current_liabilities']/1e9, width)\n",
    "\n",
    "#ax1.plot(year_ended_list,(total_liabilities-LT_debt-ST_debt)/1e9, '-o',label='x')\n",
    "\n",
    "ax1.tick_params(axis='y')\n",
    "ax1.set_ylim((0,600))\n",
    "ax1.legend()\n",
    "plt.grid()\n",
    "\n",
    "X = plt.gca().xaxis\n",
    "X.set_major_locator(locator)\n",
    "# Specify formatter\n",
    "X.set_major_formatter(fmt)\n",
    "plt.gcf().autofmt_xdate()\n",
    "\n",
    "plt.title('Liabilities')\n",
    "plt.show()"
   ]
  },
  {
   "cell_type": "markdown",
   "metadata": {},
   "source": [
    "The plot above indicates that liabilities less deposits have remained stable over the years. It is the deposits that have grown over the years which show up in the balance sheet under liabilities. But deposits are what a bank wants and are part of the business.  \n",
    "Include this chart in the debt write up section."
   ]
  },
  {
   "cell_type": "markdown",
   "metadata": {},
   "source": [
    "### (LT+ST Debt)/BV ratio \n",
    "Using this equation as a standin for debt/equity. Probably doesn't provide enough information."
   ]
  },
  {
   "cell_type": "code",
   "execution_count": 315,
   "metadata": {},
   "outputs": [
    {
     "data": {
      "image/png": "[encoded data removed]",
      "text/plain": [
       "<Figure size 432x288 with 1 Axes>"
      ]
     },
     "metadata": {
      "needs_background": "light"
     },
     "output_type": "display_data"
    }
   ],
   "source": [
    "# plot LT+ST Debt/BV ratio \n",
    "# Set the locator\n",
    "locator = mdates.YearLocator()  # every year\n",
    "fmt = mdates.DateFormatter('%Y')\n",
    "\n",
    "fig, ax1 = plt.subplots()\n",
    "ax1.set_ylabel('ratio')\n",
    "\n",
    "ax1.plot(year_ended_list,(LT_debt+ST_debt)/BV, '-+')\n",
    "\n",
    "ax1.tick_params(axis='y')\n",
    "ax1.set_ylim((0,5))\n",
    "#ax1.legend()\n",
    "plt.grid()\n",
    "\n",
    "X = plt.gca().xaxis\n",
    "X.set_major_locator(locator)\n",
    "# Specify formatter\n",
    "X.set_major_formatter(fmt)\n",
    "plt.gcf().autofmt_xdate()\n",
    "\n",
    "plt.title('(LT+ST Debt)/BV')\n",
    "plt.show()"
   ]
  },
  {
   "cell_type": "code",
   "execution_count": null,
   "metadata": {},
   "outputs": [],
   "source": []
  },
  {
   "cell_type": "markdown",
   "metadata": {},
   "source": [
    "### (Total liabilities)/BV ratio\n",
    "Need to remove deposits from liabilities and see what the chart looks like."
   ]
  },
  {
   "cell_type": "code",
   "execution_count": 316,
   "metadata": {},
   "outputs": [
    {
     "data": {
      "image/png": "[encoded data removed]",
      "text/plain": [
       "<Figure size 432x288 with 1 Axes>"
      ]
     },
     "metadata": {
      "needs_background": "light"
     },
     "output_type": "display_data"
    }
   ],
   "source": [
    "# plot Total liabilities/BV ratio \n",
    "# Set the locator\n",
    "locator = mdates.YearLocator()  # every year\n",
    "fmt = mdates.DateFormatter('%Y')\n",
    "\n",
    "fig, ax1 = plt.subplots()\n",
    "ax1.set_ylabel('ratio')\n",
    "\n",
    "ax1.plot(year_ended_list,total_liabilities/BV, '-+',label='total liabilities/BV')\n",
    "#ax1.plot(year_ended_list,df_dcf_data['current_liabilities']/BV, '-*',label='current liabilities/BV')\n",
    "\n",
    "ax1.tick_params(axis='y')\n",
    "#ax1.set_ylim((0,2))\n",
    "#ax1.legend()\n",
    "plt.grid()\n",
    "\n",
    "X = plt.gca().xaxis\n",
    "X.set_major_locator(locator)\n",
    "# Specify formatter\n",
    "X.set_major_formatter(fmt)\n",
    "plt.gcf().autofmt_xdate()\n",
    "\n",
    "plt.title('(Total liabilities)/BV')\n",
    "plt.show()"
   ]
  },
  {
   "cell_type": "markdown",
   "metadata": {},
   "source": [
    "BV calculation uses current assets and current liabilities, which are modified versions of total liabilities, so current liabilities/BV is more apples to apples. I think this is a better measure of debt load and along with current liabilities divided by NOP."
   ]
  },
  {
   "cell_type": "code",
   "execution_count": null,
   "metadata": {},
   "outputs": [],
   "source": []
  },
  {
   "cell_type": "markdown",
   "metadata": {},
   "source": [
    "### (Total liabilities)/(total assets)\n",
    "Try removing deposits from liabilities.  Goodwill and intangibles are already removed from assets. We want the number to be less than 1."
   ]
  },
  {
   "cell_type": "code",
   "execution_count": 317,
   "metadata": {},
   "outputs": [
    {
     "data": {
      "image/png": "[encoded data removed]",
      "text/plain": [
       "<Figure size 432x288 with 1 Axes>"
      ]
     },
     "metadata": {
      "needs_background": "light"
     },
     "output_type": "display_data"
    }
   ],
   "source": [
    "# plot Total liabilities/BV ratio \n",
    "# Set the locator\n",
    "locator = mdates.YearLocator()  # every year\n",
    "fmt = mdates.DateFormatter('%Y')\n",
    "\n",
    "fig, ax1 = plt.subplots()\n",
    "ax1.set_ylabel('ratio')\n",
    "\n",
    "ax1.plot(year_ended_list,total_liabilities/total_assets, '-+')\n",
    "\n",
    "ax1.tick_params(axis='y')\n",
    "ax1.set_ylim((0.8,1))\n",
    "#ax1.legend()\n",
    "plt.grid()\n",
    "\n",
    "X = plt.gca().xaxis\n",
    "X.set_major_locator(locator)\n",
    "# Specify formatter\n",
    "X.set_major_formatter(fmt)\n",
    "plt.gcf().autofmt_xdate()\n",
    "\n",
    "plt.title('(Total liabilities)/(Total assets)')\n",
    "plt.show()"
   ]
  },
  {
   "cell_type": "markdown",
   "metadata": {},
   "source": [
    "The ratio of liabilities to assets should not be above one, since this would mean the company owes more than it is worth.  Include this chart in the debt section."
   ]
  },
  {
   "cell_type": "markdown",
   "metadata": {},
   "source": [
    "### Combined RoE, RoA, and Profit Margin"
   ]
  },
  {
   "cell_type": "code",
   "execution_count": 318,
   "metadata": {},
   "outputs": [],
   "source": [
    "# line 2: Shareholder equity\n",
    "shareholder_equity =  df_metrics.iloc[2].to_numpy()[1:].astype('float')[::-1]\n",
    "#line 6: Total assets\n",
    "total_assets = df_metrics.iloc[6].to_numpy()[1:].astype('float')[::-1]\n",
    "#line 0: Total revenue\n",
    "total_revenue = df_metrics.iloc[0].to_numpy()[1:].astype('float')[::-1]"
   ]
  },
  {
   "cell_type": "code",
   "execution_count": 319,
   "metadata": {},
   "outputs": [
    {
     "data": {
      "image/png": "[encoded data removed]",
      "text/plain": [
       "<Figure size 432x288 with 1 Axes>"
      ]
     },
     "metadata": {
      "needs_background": "light"
     },
     "output_type": "display_data"
    }
   ],
   "source": [
    "# Set the locator\n",
    "locator = mdates.YearLocator()  # every year\n",
    "fmt = mdates.DateFormatter('%Y')\n",
    "\n",
    "fig, ax1 = plt.subplots()\n",
    "ax1.set_ylabel('percent')\n",
    "\n",
    "ax1.plot(year_ended_list,net_income/shareholder_equity*100, '-+',label='RoE')\n",
    "ax1.plot(year_ended_list,net_income/total_assets*100, '-+',label='RoA')\n",
    "ax1.plot(year_ended_list,net_income/total_revenue*100, '-+',label='Profit Margin')\n",
    "ax1.plot(year_ended_list,df_dcf_data['income_before_income_taxes']/df_dcf_data['revenue']*100, '-+',\n",
    "         label='income before taxes/rev')\n",
    "\n",
    "ax1.tick_params(axis='y')\n",
    "ax1.set_ylim((0,40))\n",
    "#ax1.legend()\n",
    "ax1.legend(bbox_to_anchor=(1.05, 1))\n",
    "plt.grid()\n",
    "\n",
    "X = plt.gca().xaxis\n",
    "X.set_major_locator(locator)\n",
    "# Specify formatter\n",
    "X.set_major_formatter(fmt)\n",
    "plt.gcf().autofmt_xdate()\n",
    "\n",
    "plt.title('RoE, RoA, Profit Margin & pretax profit on sales')\n",
    "plt.show()"
   ]
  },
  {
   "cell_type": "code",
   "execution_count": null,
   "metadata": {},
   "outputs": [],
   "source": []
  },
  {
   "cell_type": "markdown",
   "metadata": {},
   "source": [
    "### NAIC section 2: Evaluating management\n",
    "See page 86, figure 9-1.  \n",
    "- % pretax profit on sales, (net before taxes)/rev\n",
    "- % earned on equity (another way of saying RoE)"
   ]
  },
  {
   "cell_type": "code",
   "execution_count": 320,
   "metadata": {},
   "outputs": [
    {
     "data": {
      "image/png": "[encoded data removed]",
      "text/plain": [
       "<Figure size 432x288 with 1 Axes>"
      ]
     },
     "metadata": {
      "needs_background": "light"
     },
     "output_type": "display_data"
    }
   ],
   "source": [
    "# Set the locator\n",
    "locator = mdates.YearLocator()  # every year\n",
    "fmt = mdates.DateFormatter('%Y')\n",
    "\n",
    "fig, ax1 = plt.subplots()\n",
    "ax1.set_ylabel('percent')\n",
    "#ax1.plot(year_ended_list,net_income, '-+',label='net income')\n",
    "ax1.plot(year_ended_list,df_dcf_data['income_before_income_taxes']/df_dcf_data['revenue']*100, '-+',\n",
    "         label='income before taxes/rev')\n",
    "#ax1.plot(year_ended_list,df_dcf_data['revenue'], '-+',label='revenue')\n",
    "#ax1.plot(year_ended_list,free_cash_flow, '-*',label='free cash flow')\n",
    "\n",
    "ax1.tick_params(axis='y')\n",
    "ax1.set_ylim((0,50))\n",
    "#ax1.legend()\n",
    "plt.grid()\n",
    "\n",
    "X = plt.gca().xaxis\n",
    "X.set_major_locator(locator)\n",
    "# Specify formatter\n",
    "X.set_major_formatter(fmt)\n",
    "plt.gcf().autofmt_xdate()\n",
    "\n",
    "plt.title('% pretax profit on sales')\n",
    "plt.show()"
   ]
  },
  {
   "cell_type": "markdown",
   "metadata": {},
   "source": [
    "Over the years 2014 to 2020, pretax profit on sales has a downward trend. Ideally this trend should be increasing or at least flat. "
   ]
  },
  {
   "cell_type": "code",
   "execution_count": 321,
   "metadata": {},
   "outputs": [],
   "source": [
    "# line 1: Shareholder equity\n",
    "shareholder_equity =  df_metrics.iloc[2].to_numpy()[1:].astype('float')[::-1]"
   ]
  },
  {
   "cell_type": "code",
   "execution_count": 322,
   "metadata": {},
   "outputs": [
    {
     "data": {
      "image/png": "[encoded data removed]",
      "text/plain": [
       "<Figure size 432x288 with 1 Axes>"
      ]
     },
     "metadata": {
      "needs_background": "light"
     },
     "output_type": "display_data"
    }
   ],
   "source": [
    "# Set the locator\n",
    "locator = mdates.YearLocator()  # every year\n",
    "fmt = mdates.DateFormatter('%Y')\n",
    "\n",
    "fig, ax1 = plt.subplots()\n",
    "ax1.set_ylabel('percent')\n",
    "\n",
    "#ax1.plot(year_ended_list,shareholder_equity/df_dcf_data['revenue']*100, '-+k',\n",
    "#        label='shareholder equity/rev')\n",
    "ax1.plot(year_ended_list,net_income/shareholder_equity*100, '-+',label='RoE')\n",
    "\n",
    "ax1.tick_params(axis='y')\n",
    "ax1.set_ylim((0,20))\n",
    "#ax1.legend()\n",
    "plt.grid()\n",
    "\n",
    "X = plt.gca().xaxis\n",
    "X.set_major_locator(locator)\n",
    "# Specify formatter\n",
    "X.set_major_formatter(fmt)\n",
    "plt.gcf().autofmt_xdate()\n",
    "\n",
    "plt.title('% earned on equity')\n",
    "plt.show()"
   ]
  },
  {
   "cell_type": "markdown",
   "metadata": {},
   "source": [
    "Percent earned on equity (another way of saying RoE). Percent earned on equity trend has been flat except for 2020. Percent earned on equity is a measure of financial performance calculated by dividing net income by equity. Because equity is equal to a company’s assets minus its debt, percent earned on equity is considered the return on net assets. Percent earned on equity is considered a gauge of a corporation's profitability and how efficient it is in generating profits."
   ]
  },
  {
   "cell_type": "markdown",
   "metadata": {},
   "source": [
    "### NAIC section 3: 5 year estimated EPS, preferred method\n",
    "See page 87 and figure 10-1, Need the following data:  \n",
    "- estimate sales in 5 years based on sales growth\n",
    "- NOPM\n",
    "- Tax rate\n",
    "- shares outstanding  \n",
    "\n",
    "To get future EPS\n",
    "\n",
    "#### Revenue and least square fit"
   ]
  },
  {
   "cell_type": "code",
   "execution_count": 323,
   "metadata": {},
   "outputs": [
    {
     "name": "stdout",
     "output_type": "stream",
     "text": [
      "revenue slope: 593.31\n"
     ]
    }
   ],
   "source": [
    "# get linear fit for eps\n",
    "y = df_dcf_data['revenue']/1e6\n",
    "x = np.arange(len(y))\n",
    "A = np.vstack([x, np.ones(len(x))]).T\n",
    "m, c = np.linalg.lstsq(A, y, rcond=None)[0]\n",
    "print('revenue slope: {:.2f}'.format(m))\n",
    "\n",
    "lstsq_fit = m*x + c  # data points for each year"
   ]
  },
  {
   "cell_type": "code",
   "execution_count": 324,
   "metadata": {},
   "outputs": [
    {
     "data": {
      "image/png": "[encoded data removed]",
      "text/plain": [
       "<Figure size 432x288 with 1 Axes>"
      ]
     },
     "metadata": {
      "needs_background": "light"
     },
     "output_type": "display_data"
    }
   ],
   "source": [
    "# Set the locator\n",
    "locator = mdates.YearLocator()  # every year\n",
    "fmt = mdates.DateFormatter('%Y')\n",
    "\n",
    "fig, ax1 = plt.subplots()\n",
    "ax1.set_ylabel('dollars, $M')\n",
    "\n",
    "ax1.plot(year_ended_list,df_dcf_data['revenue']/1e6, 'o',label='revenue')\n",
    "ax1.plot(year_ended_list,lstsq_fit, '-',label='least squares fit')\n",
    "\n",
    "ax1.tick_params(axis='y')\n",
    "#ax1.set_ylim((0,4))\n",
    "ax1.legend()\n",
    "plt.grid()\n",
    "\n",
    "X = plt.gca().xaxis\n",
    "X.set_major_locator(locator)\n",
    "# Specify formatter\n",
    "X.set_major_formatter(fmt)\n",
    "plt.gcf().autofmt_xdate()\n",
    "\n",
    "plt.title('Revenue and least squares fit')\n",
    "plt.show()"
   ]
  },
  {
   "cell_type": "markdown",
   "metadata": {},
   "source": [
    "Using the equation for the best fit line, find the y value for the eps point at five years in the future."
   ]
  },
  {
   "cell_type": "code",
   "execution_count": 325,
   "metadata": {},
   "outputs": [
    {
     "name": "stdout",
     "output_type": "stream",
     "text": [
      "estimated rev in 5 years: $28,946.3M\n"
     ]
    }
   ],
   "source": [
    "# estimated revenue in 5 years\n",
    "rev_5yr_est = m*(x[-1]+5) + c\n",
    "print('estimated rev in 5 years: ${:,.1f}M'.format(rev_5yr_est))"
   ]
  },
  {
   "cell_type": "code",
   "execution_count": 326,
   "metadata": {},
   "outputs": [
    {
     "name": "stdout",
     "output_type": "stream",
     "text": [
      "using preferred method: estimated eps in 5 years: $7.43\n"
     ]
    }
   ],
   "source": [
    "#pm_eps_5yr_est = rev_5yr_est*nopm_avg*tax_rate_avg*1e6/df_dcf_data['shares_outstanding'].iloc[-1] \n",
    "pm_eps_5yr_est = rev_5yr_est*nopm_avg*1e6/df_dcf_data['shares_outstanding'].iloc[-1] \n",
    "print('using preferred method: estimated eps in 5 years: ${:.2f}'.format(pm_eps_5yr_est))"
   ]
  },
  {
   "cell_type": "code",
   "execution_count": 327,
   "metadata": {},
   "outputs": [
    {
     "name": "stdout",
     "output_type": "stream",
     "text": [
      "using historical eps trend: estimated eps in 5 years: $4.81\n"
     ]
    }
   ],
   "source": [
    "print('using historical eps trend: estimated eps in 5 years: ${:.2f}'.format(eps_5yr_est))"
   ]
  },
  {
   "cell_type": "markdown",
   "metadata": {},
   "source": [
    "Using the high and low price to earning ratio from above and the projected eps, calculate the range of stock price in five years."
   ]
  },
  {
   "cell_type": "code",
   "execution_count": 328,
   "metadata": {},
   "outputs": [
    {
     "name": "stdout",
     "output_type": "stream",
     "text": [
      "estimated price range in 5 years: 53.41 to 71.32\n"
     ]
    }
   ],
   "source": [
    "#eps_5yr_est = 5  # user inputed value\n",
    "print('estimated price range in 5 years: {:.2f} to {:.2f}'.format(eps_5yr_est*pe_avg_low,eps_5yr_est*pe_avg_high))"
   ]
  },
  {
   "cell_type": "markdown",
   "metadata": {},
   "source": [
    "The historical EPS and revenue trend both give the same estimated five year EPS and consequently the same range in predicted stock price."
   ]
  },
  {
   "cell_type": "markdown",
   "metadata": {},
   "source": [
    "### NOP and net income\n",
    "Comparing NOP with net income.  These should have the same trend."
   ]
  },
  {
   "cell_type": "code",
   "execution_count": 329,
   "metadata": {},
   "outputs": [],
   "source": [
    "#line 0: Net income\n",
    "net_income = df_metrics.iloc[1].to_numpy()[1:].astype('float')[::-1]\n",
    "# line 3: Free cash flow, Net cash provided by operating activities \n",
    "free_cash_flow =  df_metrics.iloc[4].to_numpy()[1:].astype('float')[::-1]\n",
    "# line 4: Dividends\n",
    "dividends =  df_metrics.iloc[5].to_numpy()[1:].astype('float')[::-1]\n",
    "\n",
    "# NOP = (Revenue - Expenses)\n",
    "nop = (df_dcf_data['revenue'].to_numpy() - \\\n",
    "    (df_dcf_data['cost_of_goods_sold'].to_numpy() + \\\n",
    "    df_dcf_data['general_and_administrative'].to_numpy() + \\\n",
    "    df_dcf_data['research_and_development'].to_numpy()) )"
   ]
  },
  {
   "cell_type": "code",
   "execution_count": 330,
   "metadata": {},
   "outputs": [
    {
     "data": {
      "image/png": "[encoded data removed]",
      "text/plain": [
       "<Figure size 432x288 with 1 Axes>"
      ]
     },
     "metadata": {
      "needs_background": "light"
     },
     "output_type": "display_data"
    }
   ],
   "source": [
    "# Set the locator\n",
    "locator = mdates.YearLocator()  # every year\n",
    "fmt = mdates.DateFormatter('%Y')\n",
    "\n",
    "fig, ax1 = plt.subplots()\n",
    "ax1.set_ylabel('dollars, $B')\n",
    "\n",
    "#ax1.plot(year_ended_list,EBITDA/1e6, '-+',label='EBITDA')\n",
    "ax1.plot(year_ended_list,net_income/1e9, '-+',label='net income')\n",
    "\n",
    "ax1.plot(year_ended_list,nop/1e9, '-+',label='NOP')\n",
    "#ax1.plot(year_ended_list,investment/1e6, '-+',label='investment')\n",
    "\n",
    "ax1.tick_params(axis='y')\n",
    "ax1.set_ylim((2,12))\n",
    "ax1.legend()\n",
    "plt.grid()\n",
    "\n",
    "X = plt.gca().xaxis\n",
    "X.set_major_locator(locator)\n",
    "# Specify formatter\n",
    "X.set_major_formatter(fmt)\n",
    "plt.gcf().autofmt_xdate()\n",
    "\n",
    "plt.title('NOP and net income')\n",
    "plt.show()"
   ]
  },
  {
   "cell_type": "markdown",
   "metadata": {},
   "source": [
    "As shown in the plot above, NOP and net income have several billion dollars difference. Net income comes from the income statement and NOP is calculated from revenue minus the cost or revenue. Here we are looking for consistency over the years. The decline in net income in 2020 is due to the increase in provision for credit losses."
   ]
  },
  {
   "cell_type": "markdown",
   "metadata": {},
   "source": [
    "### Debt and NOP\n",
    "Comparing D/E and LT debt/NOP.  D/E is the traditional way to look at a company's debt.  Some rules of thumb say that the D/E should not be above 2 or 3.  However the D/E company's typically vary by industry. The ratio of LT debt to NOP gives the number of years it would take the company to pay back debt from NOP, the lower the number the shorter amount of time.\n",
    "\n",
    "Try removing deposits from liabilities."
   ]
  },
  {
   "cell_type": "code",
   "execution_count": 331,
   "metadata": {},
   "outputs": [],
   "source": [
    "#line 2: Total liabilities\n",
    "total_liabilities = df_metrics.iloc[3].to_numpy()[1:].astype('float')[::-1]\n",
    "#Liabilities_wo_deposits = df_metrics.iloc[13].to_numpy()[1:].astype('float')[::-1]"
   ]
  },
  {
   "cell_type": "code",
   "execution_count": 332,
   "metadata": {},
   "outputs": [
    {
     "data": {
      "image/png": "[encoded data removed]",
      "text/plain": [
       "<Figure size 432x288 with 1 Axes>"
      ]
     },
     "metadata": {
      "needs_background": "light"
     },
     "output_type": "display_data"
    }
   ],
   "source": [
    "# Set the locator\n",
    "locator = mdates.YearLocator()  # every year\n",
    "fmt = mdates.DateFormatter('%Y')\n",
    "\n",
    "fig, ax1 = plt.subplots()\n",
    "ax1.set_ylabel('ratio')\n",
    "\n",
    "#ax1.plot(year_ended_list,(LT_debt+ST_debt)/nop, '-+',label='(LT+ST debt)/NOP')\n",
    "ax1.plot(year_ended_list,total_liabilities/shareholder_equity, '-*',label='(LT debt)/Equity')\n",
    "#ax1.plot(year_ended_list,total_liabilities/BV, '-^',label='(total liabilities)/BV')\n",
    "#ax1.plot(year_ended_list,total_liabilities/nop, '-o',label='(total liabilities)/NOP')\n",
    "#ax1.plot(year_ended_list,df_dcf_data['current_liabilities']/nop, '-*',label='(current liabilities)/nop')\n",
    "ax1.plot(year_ended_list,Liabilities_wo_deposits/nop, '-+',label='(Liabilities w/o deposits)/NOP')\n",
    "\n",
    "ax1.tick_params(axis='y')\n",
    "ax1.set_ylim((5,10))\n",
    "#ax1.legend()\n",
    "ax1.legend(bbox_to_anchor=(1.6, 1))\n",
    "plt.grid()\n",
    "\n",
    "X = plt.gca().xaxis\n",
    "X.set_major_locator(locator)\n",
    "# Specify formatter\n",
    "X.set_major_formatter(fmt)\n",
    "plt.gcf().autofmt_xdate()\n",
    "\n",
    "plt.title('Various debt ratios')\n",
    "plt.show()"
   ]
  },
  {
   "cell_type": "markdown",
   "metadata": {},
   "source": [
    "The graph above shows the ratios of LT debt equity and liabilities less deposits to NOP. These ratios provide an indication of the level of debt the bank is carrying. We are looking for some consistency over the years and that the level of debt is not outpacing earnings or equity. The ratio of liabilities less deposits to NOP is running about 8 or less, which says that the company can pay back debt with 8 years of NOP. A threshold of ten might be a good level to be concerned about. "
   ]
  },
  {
   "cell_type": "code",
   "execution_count": null,
   "metadata": {},
   "outputs": [],
   "source": []
  },
  {
   "cell_type": "markdown",
   "metadata": {},
   "source": [
    "### NOP/shares and EPS\n",
    "Plotting EPS and NOP/shares should show any differences in the trend.  "
   ]
  },
  {
   "cell_type": "code",
   "execution_count": 333,
   "metadata": {},
   "outputs": [],
   "source": [
    "#line 1: earnings per share\n",
    "EPS = df_NAIC_financials.iloc[1].to_numpy()[1:].astype('float')[::-1]"
   ]
  },
  {
   "cell_type": "code",
   "execution_count": 334,
   "metadata": {},
   "outputs": [
    {
     "data": {
      "image/png": "[encoded data removed]",
      "text/plain": [
       "<Figure size 432x288 with 1 Axes>"
      ]
     },
     "metadata": {
      "needs_background": "light"
     },
     "output_type": "display_data"
    }
   ],
   "source": [
    "# Set the locator\n",
    "locator = mdates.YearLocator()  # every year\n",
    "fmt = mdates.DateFormatter('%Y')\n",
    "\n",
    "fig, ax1 = plt.subplots()\n",
    "ax1.set_ylabel('dollars')\n",
    "\n",
    "ax1.plot(year_ended_list,nop/df_dcf_data['shares_outstanding'], '-+',label='NOP/shares')\n",
    "plt.plot(year_ended_list,EPS,'+-',label='EPS')\n",
    "\n",
    "ax1.tick_params(axis='y')\n",
    "ax1.set_ylim((0,7))\n",
    "ax1.legend()\n",
    "plt.grid()\n",
    "\n",
    "X = plt.gca().xaxis\n",
    "X.set_major_locator(locator)\n",
    "# Specify formatter\n",
    "X.set_major_formatter(fmt)\n",
    "plt.gcf().autofmt_xdate()\n",
    "\n",
    "plt.title('NOP/share & Earnings per share')\n",
    "plt.show()"
   ]
  },
  {
   "cell_type": "markdown",
   "metadata": {},
   "source": [
    "EPS share has been increasing from 2010 to 2018, while during the same period the NOP/share has been consistent. In 2020 the bank increased the provision for loss by several billion dollars which affected EPS. This provision is not included in the NOP. EPS is affected by lots of items in the income statement, but NOP is a more direct calculation, revenue less the cost of revenue.    \n",
    "\n",
    "### NAIC plot that includes NOP\n",
    "NOP & Earnings per share is plotted on the SSG NAIC chart."
   ]
  },
  {
   "cell_type": "code",
   "execution_count": 335,
   "metadata": {},
   "outputs": [
    {
     "data": {
      "image/png": "[encoded data removed]",
      "text/plain": [
       "<Figure size 1080x360 with 2 Axes>"
      ]
     },
     "metadata": {
      "needs_background": "light"
     },
     "output_type": "display_data"
    }
   ],
   "source": [
    "# Set the locator\n",
    "locator = mdates.YearLocator()  # every year\n",
    "fmt = mdates.DateFormatter('%Y')\n",
    "\n",
    "# figsize() function to adjust the size\n",
    "plt.subplots(figsize=(15, 5))\n",
    "\n",
    "# using subplot function and creating\n",
    "# plot one\n",
    "plt.subplot(1, 2, 1)\n",
    "width = 3  # the width of the bars\n",
    "#plt.bar(year_ended_list,fy_high-fy_low, width,bottom=fy_low,label='price')\n",
    "j = 0\n",
    "for i in year_ended_list:\n",
    "    color = 'green'\n",
    "    if fy_open[j] > fy_close[j]: color= 'red'\n",
    "    # high/low lines\n",
    "    plt.plot([i,i],[fy_low[j],fy_high[j]],color=color, linewidth=width)\n",
    "    # open marker\n",
    "    plt.plot([i,i-relativedelta(months=1)], [fy_open[j],fy_open[j]], color=color, linewidth=width)\n",
    "    # close marker\n",
    "    plt.plot([i,i+relativedelta(months=1)], [fy_close[j],fy_close[j]], color=color, linewidth=width)\n",
    "    j += 1\n",
    "\n",
    "X = plt.gca().xaxis\n",
    "X.set_major_locator(locator)\n",
    "# Specify formatter\n",
    "X.set_major_formatter(fmt)\n",
    "plt.gcf().autofmt_xdate()\n",
    "\n",
    "plt.ylim((10,80))\n",
    "plt.title('Yearly stock high and low price range')\n",
    "plt.ylabel('stock price, dollars')\n",
    "#plt.legend()\n",
    "plt.grid()\n",
    "\n",
    "# using subplot function and creating plot two\n",
    "plt.subplot(1, 2, 2)\n",
    "\n",
    "plt.plot(year_ended_list,revenue/1e9,'+-',label='revenue, $B')\n",
    "plt.plot(year_ended_list,EPS,'+-',label='EPS, $')\n",
    "plt.plot(year_ended_list,nop/df_dcf_data['shares_outstanding'], '-+',label='NOP/share, $')\n",
    "\n",
    "X = plt.gca().xaxis\n",
    "X.set_major_locator(locator)\n",
    "# Specify formatter\n",
    "X.set_major_formatter(fmt)\n",
    "plt.gcf().autofmt_xdate()\n",
    "\n",
    "#plt.yscale('log')\n",
    "#plt.yticks([0.1,1,10,100,1000,10000],['0.1','1','10','100','1000','10000'])\n",
    "#plt.ylim((0.1,1000))\n",
    "plt.title('Revenue, EPS & NOP/share')\n",
    "plt.ylabel('Revenue, EPS & NOP/share')\n",
    "plt.legend()\n",
    "\n",
    "plt.grid()\n",
    "\n",
    "# space between the plots\n",
    "plt.tight_layout(4)\n",
    "\n",
    "# show plot\n",
    "plt.show()"
   ]
  },
  {
   "cell_type": "markdown",
   "metadata": {},
   "source": [
    "The yearly stock price is plotted on the left.  The high, low, opening and closing prices are shown.\n",
    "Revenue, EPS & NOP/share are plotted on the right.  NOP/share and EPS should have the same trend. Except for 2020, then revenue and EPS trend has been increasing. NOP/share has also been increasing every year. "
   ]
  },
  {
   "cell_type": "code",
   "execution_count": null,
   "metadata": {},
   "outputs": [],
   "source": []
  },
  {
   "cell_type": "markdown",
   "metadata": {},
   "source": [
    "### Dividends/NOP  \n",
    "Another way to look at dividend payout and the ability of the company to support dividend payments is to look at the ratio of dividends to NOP. The ratio should be low and less than 25%, since it needs cash to support growth and other business activities.  "
   ]
  },
  {
   "cell_type": "code",
   "execution_count": 336,
   "metadata": {},
   "outputs": [],
   "source": [
    "dividends = df_metrics.iloc[5].to_numpy()[1:].astype('float')[::-1]"
   ]
  },
  {
   "cell_type": "code",
   "execution_count": 337,
   "metadata": {},
   "outputs": [
    {
     "data": {
      "image/png": "[encoded data removed]",
      "text/plain": [
       "<Figure size 432x288 with 1 Axes>"
      ]
     },
     "metadata": {
      "needs_background": "light"
     },
     "output_type": "display_data"
    }
   ],
   "source": [
    "# Set the locator\n",
    "locator = mdates.YearLocator()  # every year\n",
    "fmt = mdates.DateFormatter('%Y')\n",
    "\n",
    "fig, ax1 = plt.subplots()\n",
    "ax1.set_ylabel('percent')\n",
    "\n",
    "#ax1.plot(year_ended_list,nop/dividends, '-+',label='NOP/dividends')\n",
    "ax1.plot(year_ended_list,dividends/nop*100, '-+',label='dividends/NOP')\n",
    "\n",
    "ax1.tick_params(axis='y')\n",
    "ax1.set_ylim((0,30))\n",
    "#ax1.legend()\n",
    "plt.grid()\n",
    "\n",
    "X = plt.gca().xaxis\n",
    "X.set_major_locator(locator)\n",
    "# Specify formatter\n",
    "X.set_major_formatter(fmt)\n",
    "plt.gcf().autofmt_xdate()\n",
    "\n",
    "#plt.title('NOP per dividends')\n",
    "plt.title('dividends/NOP')\n",
    "plt.show()"
   ]
  },
  {
   "cell_type": "markdown",
   "metadata": {},
   "source": [
    "Dividends paid are now at 25% of NOP and the ratio has been increasing over the past ten years. For the years from 2014 to 2018, dividends paid were at 20% of NOP, since then the percentage has been increasing and is a trend to keep an eye on. Put this chart in the report under dividends."
   ]
  },
  {
   "cell_type": "code",
   "execution_count": null,
   "metadata": {},
   "outputs": [],
   "source": []
  }
 ],
 "metadata": {
  "kernelspec": {
   "display_name": "Python 3",
   "language": "python",
   "name": "python3"
  },
  "language_info": {
   "codemirror_mode": {
    "name": "ipython",
    "version": 3
   },
   "file_extension": ".py",
   "mimetype": "text/x-python",
   "name": "python",
   "nbconvert_exporter": "python",
   "pygments_lexer": "ipython3",
   "version": "3.7.3"
  }
 },
 "nbformat": 4,
 "nbformat_minor": 2
}
