{
 "cells": [
  {
   "cell_type": "markdown",
   "metadata": {},
   "source": [
    "# Bristol-Myers Squibb Company (BMY)  \n",
    "Last update: 5 Mar 2022  \n",
    "annual report: 2021  \n",
    "share price data from: 1/10/20211  \n",
    "\n",
    "## Abstract\n",
    "This notebook was developed to use as a template to analyze dividend paying companies as potential investments. This company was selected for analysis because it is on the Dividend Aristocrat list and passes the quick look tests.  \n",
    "\n",
    "## Introduction\n",
    "[Bristol-Myers Squibb](https://www.bms.com/investors.html) develops, licenses, manufactures, and markets biopharmaceutical products worldwide. The company offers products in hematology, oncology, cardiovascular, and immunology therapeutic classes.\n",
    "\n",
    "Sector(s): Healthcare  \n",
    "Industry: Drug Manufacturers—General  \n",
    "Earnings Date: Feb 04, 2022      \n",
    "Ex-Dividend Date: Jan 06, 2022\n",
    "\n",
    "## Bottom line up front\n",
    "Do not buy. DCF valuation scenario 1 is below current price. The company has taken on a lot of debt in recent acquisitions. Follow the link to the [Conclusion](#section11).\n",
    "\n",
    "## Company description\n",
    "[Bristol-Myers Squibb](https://en.wikipedia.org/wiki/Bristol_Myers_Squibb) is an American multinational pharmaceutical company, headquartered in New York City. BMS is one of the world's largest pharmaceutical companies, and is consistently ranked on the Fortune 500 list of the largest U.S. corporations.\n",
    "\n",
    "BMS manufactures prescription pharmaceuticals and biologics in several therapeutic areas, including cancer, HIV/AIDS, cardiovascular disease, diabetes, hepatitis, rheumatoid arthritis, and psychiatric disorders.\n",
    "\n",
    "BMS's primary R&D sites are located in Lawrence, New Jersey (formerly Squibb, near Princeton), Summit, New Jersey, formerly HQ of Celgene, New Brunswick, New Jersey, Redwood City, California, and Boudry in Switzerland, with other sites in Devens and Cambridge, Massachusetts, East Syracuse, New York, Braine-l'Alleud, Belgium, Tokyo, Japan, Bangalore, India, and Wirral, United Kingdom. BMS previously had an R&D site in Wallingford, Connecticut (formerly Bristol-Myers).\n",
    "\n",
    "**Revision history:**  \n",
    "- 1/10/2022: Copied from VZ notebook and reorganized \n",
    "- Feb 2022: updated quick look, reorganized flow of calculations, corrected usage of financial rates, organized end sections\n",
    "\n",
    "## Analysis\n",
    "The following sections of this notebook contain the financial analysis for the company.  \n",
    "\n",
    "**Contents** <a id=\"section0\"></a>  \n",
    "\n",
    "1. [Stock screener results](#section1)\n",
    "2. [Load financial spreadsheet](#section2)\n",
    "3. [Discounted cash flow analysis, baseline](#section3)\n",
    "4. [DCF Scenarios](#section4)\n",
    "5. [NACI stock selection guide analysis](#section5)\n",
    "6. [Future stock price](#section6)\n",
    "7. [Dividend payout](#section7)\n",
    "8. [Management performance](#section8)\n",
    "9. [Conclusion](#section9)\n",
    "10. [Notes](#section10)\n",
    "11. [References](#section11)"
   ]
  },
  {
   "cell_type": "code",
   "execution_count": 1,
   "metadata": {},
   "outputs": [],
   "source": [
    "from datetime import datetime, timedelta\n",
    "from dateutil.relativedelta import relativedelta\n",
    "from dateutil.parser import parse\n",
    "import pandas as pd\n",
    "import numpy as np\n",
    "import matplotlib.pyplot as plt\n",
    "import matplotlib.dates as mdates\n",
    "from dateutil import parser\n",
    "import os\n",
    "from pandas.plotting import register_matplotlib_converters\n",
    "register_matplotlib_converters()"
   ]
  },
  {
   "cell_type": "markdown",
   "metadata": {},
   "source": [
    "## 1) Stock screener results <a id=\"section1\"></a>\n",
    "This company was selected from the Fidelity stock screener results. The search results are based on Dividend yield (high and very high, 2.83% and higher), Volume 90 average (high and very high. 535k and higher) and Revenue Growth 5 years (0 or higher). \n",
    "\n",
    "**Current news**  \n",
    "A review of the financial news sites from [yahoo](https://finance.yahoo.com/quote/BMY/?p=BMY) and [google](https://www.google.com/finance/quote/BMY:NYSE) showed the following:   \n",
    "\n",
    "- February 09, 2022: Bristol Myers Squibb today announced that it has entered into accelerated share repurchase transactions under agreements with Morgan Stanley & Co. LLC, Barclays Bank PLC, Citibank, N.A. and JPMorgan Chase Bank, N.A., to repurchase, in aggregate, \\\\$5 billion of Bristol Myers Squibb common stock. Under the ASR Agreements, the ASR transactions will be completed under a previously announced \\\\$15 billion board-authorized...\n",
    "- Feb 4 (Reuters): Drugmaker Bristol Myers Squibb Co (BMY) on Friday posted slightly better than expected fourth-quarter earnings on strong sales of blood thinner Eliquis and cancer drug Opdivo.\n",
    "- 02/04/2022: Bristol Myers Squibb (BMY) offered better-than-expected sales guidance Friday, and BMY stock rose despite looming competition for two of its biggest cancer drugs. Bristol Myers Expects $10.5 Billion Shortfall This Year As Generics Loom. Revlimid and Abraxane are among Bristol's blockbuster drugs, and both are due to lose patent protection this year. Guidance for \\\\$47 billion in overall full-year sales for the company accounts for roughly \\\\$10.5 billion in lost revenue between the two drugs.\n",
    "\n",
    "**Review quarterly results**  \n",
    "Since this analysis mainly looks at the annual reports, a review of the quarterly reports and the most recent 12 months is needed to see if the recent quarterly trends match the yearly trends.\n",
    "- [yahoo finance](https://finance.yahoo.com/quote/BMY/financials?p=BMY) shows TTM Total Revenue is about equal to the most current 10K revenue.\n",
    "- The Compustat Company Research from Fidelity (from Sep. 29, 2021) shows: not examined, since final recommendation is do not buy.\n",
    "\n",
    "**Average daily volume**  \n",
    "Average daily volume: 12,779,274   \n",
    "\n",
    "**Dividend yield**  \n",
    "Forward dividend yield: 3.51%"
   ]
  },
  {
   "cell_type": "code",
   "execution_count": null,
   "metadata": {},
   "outputs": [],
   "source": []
  },
  {
   "cell_type": "markdown",
   "metadata": {},
   "source": [
    "## 2) Load financial spreadsheet <a id=\"section2\"></a>\n",
    "Data from consolidated financial statements and annual reports was collected and entered into a spreadsheet. All numerical data is converted from thousands or millions of dollars to dollars.  The stock share price history was obtained from yahoo and is included as a tab in the spreadsheet.  Other tabs in the spreadsheet are various worksheets. "
   ]
  },
  {
   "cell_type": "code",
   "execution_count": 2,
   "metadata": {},
   "outputs": [],
   "source": [
    "ticker = 'BMY' # company ticker symbol\n",
    "os.chdir('/home/jim/Documents/Dividend Investing/DCF data/')\n",
    "\n",
    "file_name = ticker+'_Financials.xlsx'\n",
    "df_financials = pd.read_excel(file_name,sheet_name='DCF data')\n",
    "df_NAIC_financials = pd.read_excel(file_name,sheet_name='NAIC data')\n",
    "df_metrics = pd.read_excel(file_name,sheet_name='metrics')\n",
    "df_price_history = pd.read_excel(file_name,sheet_name='Historical Prices')\n",
    "\n",
    "# change the working director back to the Jupyter folder\n",
    "os.chdir('/home/jim/Documents/JupyterLab/Discount Cash Flow Analysis/')"
   ]
  },
  {
   "cell_type": "code",
   "execution_count": 3,
   "metadata": {},
   "outputs": [],
   "source": [
    "# convert dates from string to datetime format\n",
    "price_date_list = []\n",
    "for i in range(len(df_price_history)):\n",
    "    price_date_list.append(datetime.strptime(str(df_price_history['Date'][i]), '%Y-%m-%d'))\n",
    "\n",
    "df_price_history.insert(0, 'datetime', price_date_list)  # insert a new column with datetime data\n",
    "df_price_history.sort_values(by=['datetime'], inplace=True) # sort data frame by datetime\n",
    "\n",
    "df_price_history.set_index('datetime',inplace=True)\n",
    "\n",
    "#df_price_history.head()"
   ]
  },
  {
   "cell_type": "markdown",
   "metadata": {},
   "source": [
    "### 2.1) Format data frame <a id=\"section2-1\"></a>\n",
    "Generate a new data frame that holds the financial data needed for the DCF model.  Data from financial statements is copied into a spreadsheet which contains the data used in the analysis.  The data in the DCF_data tab is in a consistent format for ease of use by this notebook.  Standard names are used for the rows and columns."
   ]
  },
  {
   "cell_type": "code",
   "execution_count": 4,
   "metadata": {},
   "outputs": [],
   "source": [
    "#column names: fiscal years \n",
    "fy_data = df_financials.columns[1:].values.astype('datetime64[Y]')-1970\n",
    "#line 0: Total revenue  \n",
    "revenue_data = df_financials.iloc[0].to_numpy()[1:].astype('float')\n",
    "#line 1: Cost of goods sold\n",
    "Cost_of_goods_sold_data = df_financials.iloc[1].to_numpy()[1:].astype('float')\n",
    "#line 2: General and administrative\n",
    "General_and_administrative_data = df_financials.iloc[2].to_numpy()[1:].astype('float')\n",
    "#line 3: Research and development\n",
    "Research_and_development_data = df_financials.iloc[3].to_numpy()[1:].astype('float')\n",
    "#line 4: Depreciation and amortization\n",
    "Depreciation_and_amortization_data = df_financials.iloc[4].to_numpy()[1:].astype('float')\n",
    "#line 5: Investment\n",
    "Investment_data = df_financials.iloc[5].to_numpy()[1:].astype('float')\n",
    "# line 6: Income before income taxes\n",
    "Income_before_income_taxes_data = df_financials.iloc[6].to_numpy()[1:].astype('float')\n",
    "# line 7: Income tax\n",
    "Income_tax_data = df_financials.iloc[7].to_numpy()[1:].astype('float')\n",
    "# line 8: Accounts receivable\n",
    "Accounts_receivable_data = df_financials.iloc[8].to_numpy()[1:].astype('float')\n",
    "# line 9: Inventories\n",
    "Inventories_data = df_financials.iloc[9].to_numpy()[1:].astype('float')\n",
    "# line 10: Accounts payable\n",
    "Accounts_payable_data = df_financials.iloc[10].to_numpy()[1:].astype('float')\n",
    "# line 11: Current assets\n",
    "Current_assets_data = df_financials.iloc[11].to_numpy()[1:].astype('float')\n",
    "# line 12: Current liabilities\n",
    "Current_liabilities_data = df_financials.iloc[12].to_numpy()[1:].astype('float')\n",
    "# line 13: Long term debt\n",
    "Long_term_debt_data = df_financials.iloc[13].to_numpy()[1:].astype('float')\n",
    "# line 14: Shares outstanding\n",
    "Shares_outstanding_data = df_financials.iloc[14].to_numpy()[1:].astype('float')"
   ]
  },
  {
   "cell_type": "code",
   "execution_count": 5,
   "metadata": {},
   "outputs": [],
   "source": [
    "# make a new data frame to store selected financial data\n",
    "df_dcf_data = pd.DataFrame(data={\n",
    "    'FY':fy_data[::-1],\n",
    "    'revenue':revenue_data[::-1],\n",
    "    'cost_of_goods_sold':Cost_of_goods_sold_data[::-1],\n",
    "    'general_and_administrative':General_and_administrative_data[::-1],\n",
    "    'research_and_development':Research_and_development_data[::-1],\n",
    "    'depreciation':Depreciation_and_amortization_data[::-1],\n",
    "    'investment':Investment_data[::-1],\n",
    "    'income_before_income_taxes':Income_before_income_taxes_data[::-1],\n",
    "    'income_tax':Income_tax_data[::-1],\n",
    "    'accounts_receivable':Accounts_receivable_data[::-1],\n",
    "    'inventories':Inventories_data[::-1],\n",
    "    'accounts_payable':Accounts_payable_data[::-1], \n",
    "    'current_assets':Current_assets_data[::-1],\n",
    "    'current_liabilities':Current_liabilities_data[::-1],\n",
    "    'long_term_debt':Long_term_debt_data[::-1],\n",
    "    'shares_outstanding':Shares_outstanding_data[::-1]\n",
    "    })\n",
    "\n",
    "#df_dcf_data"
   ]
  },
  {
   "cell_type": "code",
   "execution_count": null,
   "metadata": {},
   "outputs": [],
   "source": []
  },
  {
   "cell_type": "markdown",
   "metadata": {},
   "source": [
    "## 3) Discounted cash flow analysis, baseline <a id=\"section3\"></a>\n",
    "Discounted cash flow (DCF) is a valuation method used to estimate the value of an investment based on its expected future cash flows. DCF analysis attempts to figure out the value of an investment today, based on projections of how much money it will generate in the future. In finance, discounted cash flow (DCF) analysis is a method of valuing a security, project, company, or asset using the concepts of the time value of money. The DCF method used in this notebook follows [1].  \n",
    "\n",
    "The value of any financial investment equals the present value of the expected future cash flows, discounted for risk and timing of these cash flows. The DCF method to value stocks is a four step process.  \n",
    "1. Develop a set of future free cash flows for the corporation based on revenue growth, net operating profit margin, income tax rate and fix and working capital requirements.\n",
    "2. Estimate the discount rate for the cash flows based on expected timing and risk.\n",
    "3. Discount the cash flows and total them to calculate the value for the corporation as a whole.\n",
    "4. Subtract the debt, preferred stock value and other claims and divide by the number of shares outstanding to get the intrinsic value.\n",
    "\n",
    "Sections\n",
    "- [Revenue growth rate](#section3-1) \n",
    "- [Net operating profit margin](#section3-2)\n",
    "- [Tax rate](#section3-3)\n",
    "- [Depreciation Rate](#section3-4)\n",
    "- [Investment Rate](#section3-5)\n",
    "- [Working Capital Rate](#section3-6)\n",
    "- [Current Assets](#section3-7)\n",
    "- [Current Liabilities](#section3-8)\n",
    "- [Value of Debt Outstanding](#section3-9)\n",
    "- [Current stock price](#section3-10)\n",
    "- [Shares outstanding](#section3-11)\n",
    "- [10 year treasury bond yield](#section3-12)\n",
    "- [Bond yield spread to treasury](#section3-13)\n",
    "- [Preferred stock yield](#section3-14)\n",
    "- [Equity risk premium](#section3-15)\n",
    "- [Company specific beta](#section3-16)\n",
    "- [DCF model inputs](#section3-17)\n",
    "- [Future cash flows](#section3-18)"
   ]
  },
  {
   "cell_type": "markdown",
   "metadata": {},
   "source": [
    "### Revenue growth rate <a id=\"section3-1\"></a>\n",
    "The revenue growth rate (also sometimes called net sales) of the corporation plus any other revenues associated with the main operations of the business. It does not include dividends, interest income or non-operating income. Historic revenue data is obtained from consolidated income statements. The year over year change in revenue is calculated and converted to a percent, then an average revenue growth rate is calculated. \n",
    "\n",
    "**Adjustments**  \n",
    "No adjustments for this company."
   ]
  },
  {
   "cell_type": "code",
   "execution_count": 6,
   "metadata": {},
   "outputs": [
    {
     "data": {
      "image/png": "[encoded data removed]",
      "text/plain": [
       "<Figure size 432x288 with 2 Axes>"
      ]
     },
     "metadata": {
      "needs_background": "light"
     },
     "output_type": "display_data"
    }
   ],
   "source": [
    "# calculate the percent change in revenue\n",
    "pcr = np.zeros(len(df_dcf_data['revenue'].to_numpy())) # percent change in revenue\n",
    "for i in range(len(df_dcf_data['revenue'].to_numpy()[0:-1])):\n",
    "    pcr[i+1] = ((df_dcf_data['revenue'].to_numpy()[i+1] - df_dcf_data['revenue'].to_numpy()[i])/\n",
    "                df_dcf_data['revenue'].to_numpy()[i+1])*100\n",
    "\n",
    "width = 100\n",
    "\n",
    "# Set the locator\n",
    "locator = mdates.YearLocator()  # every year\n",
    "fmt = mdates.DateFormatter('%Y')\n",
    "\n",
    "fig, ax1 = plt.subplots()\n",
    "ax1.set_ylabel('Revenue, $B')\n",
    "\n",
    "# plot revenue as single bar\n",
    "plt.bar(df_dcf_data['FY'],df_dcf_data['revenue']/1e9, width,color='k')\n",
    "\n",
    "ax1.tick_params(axis='y')\n",
    "plt.grid()\n",
    "\n",
    "# instantiate a second y-axes that shares the same x-axis\n",
    "ax2 = ax1.twinx()\n",
    "color = 'tab:green'\n",
    "\n",
    "ax2.plot(df_dcf_data['FY'],pcr,'+-g')\n",
    "    \n",
    "ax2.set_ylabel('% Change in revenue',color=color)\n",
    "ax2.tick_params(axis='y', labelcolor=color)\n",
    "ax2.set_ylim((0,50))\n",
    "\n",
    "X = plt.gca().xaxis\n",
    "X.set_major_locator(locator)\n",
    "# Specify formatter\n",
    "X.set_major_formatter(fmt)\n",
    "plt.gcf().autofmt_xdate()\n",
    "\n",
    "plt.title('Revenue')\n",
    "plt.show()"
   ]
  },
  {
   "cell_type": "markdown",
   "metadata": {},
   "source": [
    "**Observation:**  \n",
    "Since 2014, the revenues have been increasing every year. In 2020, revenues increased 63% as a result of the Celgene acquisition, which contributed \\\\$15.7 billion of revenues or 60% of the growth, and higher demand for Eliquis. Acquisitions of Celgene in 2019 and MyoKardia in 2020 contributed to the increase in revenue."
   ]
  },
  {
   "cell_type": "code",
   "execution_count": 7,
   "metadata": {},
   "outputs": [
    {
     "name": "stdout",
     "output_type": "stream",
     "text": [
      "average revenue growth rate: 14.99%\n"
     ]
    }
   ],
   "source": [
    "rgr_avg = pcr[-5:].mean()/100 # last five years\n",
    "print('average revenue growth rate: {:.2f}%'.format(rgr_avg*100))"
   ]
  },
  {
   "cell_type": "markdown",
   "metadata": {},
   "source": [
    "### Net operating profit margin <a id=\"section3-2\"></a>\n",
    "Net Operating Profit should reflect the future revenue generating ability and expense requirements of the operating business that comprise the ongoing operations of the company.\n",
    "\n",
    "$\\text{NOPM} = \\frac{\\text{Revenue} - \\text{Expenses}}{\\text{Revenue}}$  \n",
    " \n",
    "$\\text{Expenses} = \\text{Cost of Goods Sold (CGS)} + \\text{General and Administrative (G&A)} + \\text{Research and Development (R&D)}$\n",
    "\n",
    "General and Administrative (G&A) is also called Sales, General and Administrative (SG&A)\n",
    "\n",
    "**Adjustments**  \n",
    "No adjustments for this company."
   ]
  },
  {
   "cell_type": "code",
   "execution_count": 8,
   "metadata": {},
   "outputs": [
    {
     "data": {
      "image/png": "[encoded data removed]",
      "text/plain": [
       "<Figure size 432x288 with 2 Axes>"
      ]
     },
     "metadata": {},
     "output_type": "display_data"
    }
   ],
   "source": [
    "# NOP = (Revenue - Expenses)\n",
    "nop = (df_dcf_data['revenue'].to_numpy() - \\\n",
    "    (df_dcf_data['cost_of_goods_sold'].to_numpy() + \\\n",
    "    df_dcf_data['general_and_administrative'].to_numpy() + \\\n",
    "    df_dcf_data['research_and_development'].to_numpy()) )\n",
    "\n",
    "# net operating profit margin as percent of revenue\n",
    "nopm = nop/df_dcf_data['revenue'].to_numpy()\n",
    "\n",
    "# plot as four grouped bar chart with labels on right and working capital rate on left\n",
    "# calculate position of bars\n",
    "x1_bar_position = []\n",
    "x2_bar_position = []\n",
    "x3_bar_position = []\n",
    "x4_bar_position = []\n",
    "for i in df_dcf_data['FY']:\n",
    "    x1_bar_position.append(i-relativedelta(months=3))\n",
    "    x2_bar_position.append(i-relativedelta(months=1))\n",
    "    x3_bar_position.append(i+relativedelta(months=1))\n",
    "    x4_bar_position.append(i+relativedelta(months=3))\n",
    "    \n",
    "width = 40  # the width of the bars\n",
    "    \n",
    "# Set the locator\n",
    "locator = mdates.YearLocator()  # every year\n",
    "fmt = mdates.DateFormatter('%Y')\n",
    "\n",
    "fig, ax1 = plt.subplots()\n",
    "ax1.set_ylabel('Net operating profit, \\\\$B')\n",
    "\n",
    "ax1.bar(x1_bar_position,df_dcf_data['cost_of_goods_sold'].to_numpy()/1e9, width,label='CGS')\n",
    "ax1.bar(x2_bar_position,df_dcf_data['general_and_administrative'].to_numpy()/1e9, width,label='G&A')\n",
    "ax1.bar(x3_bar_position,df_dcf_data['research_and_development'].to_numpy()/1e9, width,label='R&D')\n",
    "ax1.bar(x4_bar_position,nop/1e9, width,label='NOP')\n",
    "\n",
    "ax1.tick_params(axis='y')\n",
    "#ax1.set_ylim((0,4))\n",
    "ax1.legend()\n",
    "plt.grid()\n",
    "\n",
    "# instantiate a second y-axes that shares the same x-axis\n",
    "ax2 = ax1.twinx()\n",
    "color = 'tab:cyan'\n",
    "\n",
    "ax2.plot(df_dcf_data['FY'],nopm*100,'+-c')\n",
    "    \n",
    "ax2.set_ylabel('% NOPM',color=color)\n",
    "ax2.tick_params(axis='y', labelcolor=color)\n",
    "ax2.set_ylim((0,40))\n",
    "\n",
    "X = plt.gca().xaxis\n",
    "X.set_major_locator(locator)\n",
    "# Specify formatter\n",
    "X.set_major_formatter(fmt)\n",
    "plt.gcf().autofmt_xdate()\n",
    "\n",
    "plt.title('Net Operating Profit')\n",
    "plt.show()"
   ]
  },
  {
   "cell_type": "markdown",
   "metadata": {},
   "source": [
    "**Observation**  \n",
    "The NOP has been between 2 and 7 billion dollars during the past few years. The average net operating profit margin for the last 5 years is calculated below.  "
   ]
  },
  {
   "cell_type": "code",
   "execution_count": 9,
   "metadata": {},
   "outputs": [
    {
     "name": "stdout",
     "output_type": "stream",
     "text": [
      "average net operating profit margin: 25.64%\n"
     ]
    }
   ],
   "source": [
    "#Average net operating profit margin\n",
    "nopm_avg = nopm[-5:].mean()\n",
    "print('average net operating profit margin: {:.2f}%'.format(nopm_avg*100))"
   ]
  },
  {
   "cell_type": "markdown",
   "metadata": {},
   "source": [
    "### Tax rate <a id=\"section3-3\"></a>\n",
    "Tax payments are taken from the consolidated income statement, provision for income taxes.  The effect of taxes on profits is accounted for. \n",
    "\n",
    "$\\text{Tax rate} = \\frac{\\text{Income taxes}}{\\text{Income before income taxes}}$\n",
    "\n",
    "**Adjustments**  \n",
    "No adjustments for this company."
   ]
  },
  {
   "cell_type": "code",
   "execution_count": 10,
   "metadata": {},
   "outputs": [
    {
     "data": {
      "image/png": "[encoded data removed]",
      "text/plain": [
       "<Figure size 432x288 with 2 Axes>"
      ]
     },
     "metadata": {
      "needs_background": "light"
     },
     "output_type": "display_data"
    }
   ],
   "source": [
    "# plot as Grouped bar chart with labels on right and tax rate on left\n",
    "# calculate position of bars\n",
    "x1_bar_position = []\n",
    "x2_bar_position = []\n",
    "for i in df_dcf_data['FY']:\n",
    "    x1_bar_position.append(i-relativedelta(months=1))\n",
    "    x2_bar_position.append(i+relativedelta(months=1))\n",
    "\n",
    "# calculate tax rate\n",
    "tax_rate = df_dcf_data['income_tax']/df_dcf_data['income_before_income_taxes']\n",
    "\n",
    "width = 50  # the width of the bars\n",
    "\n",
    "# Set the locator\n",
    "locator = mdates.YearLocator()  # every year\n",
    "fmt = mdates.DateFormatter('%Y')\n",
    "\n",
    "fig, ax1 = plt.subplots()\n",
    "ax1.set_ylabel('dollars, \\\\$M')\n",
    "\n",
    "rects1 = ax1.bar(x1_bar_position,df_dcf_data['income_before_income_taxes']/1e6, width,\n",
    "    label='Income before income taxes')\n",
    "rects2 = ax1.bar(x2_bar_position,df_dcf_data['income_tax']/1e6, width,\n",
    "    label='Income taxes')\n",
    "\n",
    "ax1.tick_params(axis='y')\n",
    "#ax1.set_ylim((-2e3,2e3))\n",
    "ax1.legend()\n",
    "plt.grid()\n",
    "\n",
    "# instantiate a second y-axes that shares the same x-axis\n",
    "ax2 = ax1.twinx()\n",
    "color = 'tab:green'\n",
    "\n",
    "ax2.plot(df_dcf_data['FY'],tax_rate * 100,'+-g')\n",
    "    \n",
    "ax2.set_ylabel('% Tax rate',color=color)\n",
    "ax2.tick_params(axis='y', labelcolor=color)\n",
    "#ax2.set_ylim((-40,100))\n",
    "\n",
    "X = plt.gca().xaxis\n",
    "X.set_major_locator(locator)\n",
    "# Specify formatter\n",
    "X.set_major_formatter(fmt)\n",
    "plt.gcf().autofmt_xdate()\n",
    "\n",
    "plt.title('Tax Rate')\n",
    "plt.show()"
   ]
  },
  {
   "cell_type": "markdown",
   "metadata": {},
   "source": [
    "**Observation:**  \n",
    "For most years the income tax paid has been a positive number, however income before income taxes was negative for 2020 primarily due to Amortization of acquired intangible assets of 9.688 billion dollars."
   ]
  },
  {
   "cell_type": "code",
   "execution_count": 11,
   "metadata": {},
   "outputs": [
    {
     "name": "stdout",
     "output_type": "stream",
     "text": [
      "average tax rate: 22.21%\n"
     ]
    }
   ],
   "source": [
    "# Average tax rate\n",
    "tax_rate_avg = tax_rate[-5:].mean()\n",
    "print('average tax rate: {:.2f}%'.format(tax_rate_avg*100))"
   ]
  },
  {
   "cell_type": "code",
   "execution_count": null,
   "metadata": {},
   "outputs": [],
   "source": []
  },
  {
   "cell_type": "markdown",
   "metadata": {},
   "source": [
    "### Depreciation Rate <a id=\"section3-4\"></a>\n",
    "The depreciation rate is used to project the future net investment cash flows.  The effect is to reduce the amount of FCFF. Depreciation amounts are from the Consolidated Statement of Cash Flows, Depreciation and Amortization.  \n",
    "\n",
    "$\\text{Depreciation Rate}=\\frac{\\text{Depreciation and Amortization}}{\\text{Revenues}}$\n",
    "\n",
    "Depreciation is the write off or expensing of a percentage of the historical cost of an asset over the asset's useful life.  Property, plant and equipment (PP&E) are long term or non current assets owned or controlled by the company and used to manufacture and or sell the company's products.  The balance sheet typically shows all categories of PP&E grouped together, net of accumulated depreciation.  Depreciation represents wear and tear on an asset or the fact that an asset gets used up over time.  Companies record depreciation expense in the income statement every year for all depreciable assets in service or used by the company during the year.  The difference between GAAP and Tax Accounting methods is handled through deferred taxes.\n",
    "\n",
    "Amortization is the write off or expensing of the cost of a financial instrument or an intangible asset over the shorter of its useful life or legal life.  Amortization is similar to depreciation and reflects the declining useful life and value of the intangible asset over time.  Companies in research and development intensive fields typically have many patents.  Such industries include high technology, pharmaceuticals and chemicals. "
   ]
  },
  {
   "cell_type": "code",
   "execution_count": 12,
   "metadata": {},
   "outputs": [
    {
     "data": {
      "image/png": "[encoded data removed]",
      "text/plain": [
       "<Figure size 432x288 with 2 Axes>"
      ]
     },
     "metadata": {
      "needs_background": "light"
     },
     "output_type": "display_data"
    }
   ],
   "source": [
    "# depreciation rate\n",
    "depreciation_rate = df_dcf_data['depreciation'] / df_dcf_data['revenue'].to_numpy()\n",
    "\n",
    "# plot depreciation on left and rate on right\n",
    "# Set the locator\n",
    "locator = mdates.YearLocator()  # every year\n",
    "fmt = mdates.DateFormatter('%Y')\n",
    "\n",
    "fig, ax1 = plt.subplots()\n",
    "ax1.set_ylabel('dollars, $B')\n",
    "\n",
    "ax1.bar(df_dcf_data['FY'],df_dcf_data['depreciation']/1e9, width=100,color='k')\n",
    "\n",
    "ax1.tick_params(axis='y')\n",
    "plt.grid()\n",
    "\n",
    "# instantiate a second y-axes that shares the same x-axis\n",
    "ax2 = ax1.twinx()\n",
    "color = 'tab:Blue'\n",
    "\n",
    "ax2.plot(df_dcf_data['FY'],depreciation_rate*100,'+-')\n",
    "    \n",
    "ax2.set_ylabel('% Depreciation rate',color=color)\n",
    "ax2.tick_params(axis='y', labelcolor=color)\n",
    "#ax2.set_ylim((0,30))\n",
    "\n",
    "X = plt.gca().xaxis\n",
    "X.set_major_locator(locator)\n",
    "# Specify formatter\n",
    "X.set_major_formatter(fmt)\n",
    "plt.gcf().autofmt_xdate()\n",
    "\n",
    "plt.title('Depreciation')\n",
    "plt.show()"
   ]
  },
  {
   "cell_type": "markdown",
   "metadata": {},
   "source": [
    "**Observation:**  \n",
    "There was a large increase in depreciation following the acquisitions of Celgene in 2019 and MyoKardia in 2020. "
   ]
  },
  {
   "cell_type": "code",
   "execution_count": 13,
   "metadata": {},
   "outputs": [
    {
     "name": "stdout",
     "output_type": "stream",
     "text": [
      "average depreciation rate: 12.15%\n"
     ]
    }
   ],
   "source": [
    "# average depreciation rate\n",
    "depreciation_rate_avg = depreciation_rate[-5:].mean()\n",
    "print('average depreciation rate: {:.2f}%'.format(depreciation_rate_avg*100))"
   ]
  },
  {
   "cell_type": "code",
   "execution_count": null,
   "metadata": {},
   "outputs": [],
   "source": []
  },
  {
   "cell_type": "markdown",
   "metadata": {},
   "source": [
    "### Investment Rate <a id=\"section3-5\"></a>\n",
    "Taken from Consolidated Statement of Cash Flows, Cash used for investing activities.  Net investment in the dollar amount needed to support the growth of the firm.  Included investments in properties, plant equipment in excess of the depreciation expenses associated with past investments.  Net investment decreases the amount of money available to the stockholders.  Investment in property, plant and equipment is necessary to both maintain service and sales and also to grow revenues and profits.  Investment amounts should include capital expenditures and research and development. \n",
    "\n",
    "$Ir=\\frac {\\text {Capital Expenditures}}{\\text{Revenues}}$ \n",
    "\n",
    "For this company, the yearly investment amounts are taken from the Consolidated Statements of Cash Flows, \n",
    "Net Cash Used in Investing Activities.\n",
    "\n",
    "**Adjustments**  \n",
    "No adjustments for this comapany."
   ]
  },
  {
   "cell_type": "code",
   "execution_count": 14,
   "metadata": {},
   "outputs": [
    {
     "data": {
      "image/png": "[encoded data removed]",
      "text/plain": [
       "<Figure size 432x288 with 2 Axes>"
      ]
     },
     "metadata": {
      "needs_background": "light"
     },
     "output_type": "display_data"
    }
   ],
   "source": [
    "# investment rate\n",
    "investment_rate = df_dcf_data['investment'] / df_dcf_data['revenue'].to_numpy()\n",
    "\n",
    "# plot investment on left and rate on right\n",
    "# Set the locator\n",
    "locator = mdates.YearLocator()  # every year\n",
    "fmt = mdates.DateFormatter('%Y')\n",
    "\n",
    "fig, ax1 = plt.subplots()\n",
    "ax1.set_ylabel('dollars, \\\\$B')\n",
    "\n",
    "ax1.bar(df_dcf_data['FY'],df_dcf_data['investment']/1e9, width=100,color='k')\n",
    "\n",
    "ax1.tick_params(axis='y')\n",
    "plt.grid()\n",
    "\n",
    "# instantiate a second y-axes that shares the same x-axis\n",
    "ax2 = ax1.twinx()\n",
    "color = 'tab:Blue'\n",
    "\n",
    "ax2.plot(df_dcf_data['FY'],investment_rate*100,'+-')\n",
    "    \n",
    "ax2.set_ylabel('% New Investment Rate',color=color)\n",
    "ax2.tick_params(axis='y', labelcolor=color)\n",
    "#ax2.set_ylim((-10,40))\n",
    "\n",
    "X = plt.gca().xaxis\n",
    "X.set_major_locator(locator)\n",
    "# Specify formatter\n",
    "X.set_major_formatter(fmt)\n",
    "plt.gcf().autofmt_xdate()\n",
    "\n",
    "plt.title('New Investment')\n",
    "plt.show()"
   ]
  },
  {
   "cell_type": "markdown",
   "metadata": {},
   "source": [
    "**Observation:**  \n",
    "In 2016 and 2014 a combination of sale and maturities of marketable debt securities and divestiture and other proceeds led to net inflow of cash used in investing activities. Acquisitions of Celgene in 2019 and MyoKardia in 2020 contributed to the increase in new investment."
   ]
  },
  {
   "cell_type": "code",
   "execution_count": 15,
   "metadata": {},
   "outputs": [
    {
     "name": "stdout",
     "output_type": "stream",
     "text": [
      "average investment rate: 14.76%\n"
     ]
    }
   ],
   "source": [
    "# average investment rate\n",
    "investment_rate_avg = investment_rate[-5:].mean()\n",
    "print('average investment rate: {:.2f}%'.format(investment_rate_avg*100))"
   ]
  },
  {
   "cell_type": "code",
   "execution_count": null,
   "metadata": {},
   "outputs": [],
   "source": []
  },
  {
   "cell_type": "markdown",
   "metadata": {},
   "source": [
    "### Working Capital Rate <a id=\"section3-6\"></a>\n",
    "Working capital is needed to support the corporate sales effort of any company.  Often a company’s incremental change in net working capital either positive or negative is approximately proportional to its change in revenue.\n",
    "\n",
    "$\\text{Working capital} = \\text{Accounts Receivable} + \\text{Inventories} - \\text{Accounts Payable}$  \n",
    "\n",
    "Working capital is a company’s net investment in its accounts receivable and its inventories (cash outflows), minus its accounts payable (a cash inflow).  Working capital and taxes are cash outflows from the corporation that are not available to pay debts and stockholders.\n",
    "\n",
    "**Adjustments**  \n",
    "No adjustments for this company."
   ]
  },
  {
   "cell_type": "code",
   "execution_count": 16,
   "metadata": {},
   "outputs": [
    {
     "data": {
      "image/png": "[encoded data removed]",
      "text/plain": [
       "<Figure size 432x288 with 2 Axes>"
      ]
     },
     "metadata": {
      "needs_background": "light"
     },
     "output_type": "display_data"
    }
   ],
   "source": [
    "# plot as four grouped bar chart with labels on right and working capital rate on left\n",
    "# calculate position of bars\n",
    "x1_bar_position = []\n",
    "x2_bar_position = []\n",
    "x3_bar_position = []\n",
    "x4_bar_position = []\n",
    "for i in df_dcf_data['FY']:\n",
    "    x1_bar_position.append(i-relativedelta(months=3))\n",
    "    x2_bar_position.append(i-relativedelta(months=1))\n",
    "    x3_bar_position.append(i+relativedelta(months=1))\n",
    "    x4_bar_position.append(i+relativedelta(months=3))\n",
    "\n",
    "# calculate working capital rate\n",
    "working_capital = (df_dcf_data['accounts_receivable'] + df_dcf_data['inventories']) - \\\n",
    "    df_dcf_data['accounts_payable']\n",
    "working_capital_rate = working_capital / df_dcf_data['revenue']\n",
    "\n",
    "width = 40  # the width of the bars\n",
    "\n",
    "# Set the locator\n",
    "locator = mdates.YearLocator()  # every year\n",
    "fmt = mdates.DateFormatter('%Y')\n",
    "\n",
    "fig, ax1 = plt.subplots()\n",
    "ax1.set_ylabel('dollars, \\\\$B')\n",
    "\n",
    "rects1 = ax1.bar(x1_bar_position,df_dcf_data['accounts_receivable']/1e9, width,\\\n",
    "    label='Accounts Receivable')\n",
    "rects2 = ax1.bar(x2_bar_position,df_dcf_data['inventories']/1e9, width, label='Inventory')\n",
    "\n",
    "rects2 = ax1.bar(x3_bar_position,df_dcf_data['accounts_payable']/1e9, width, label='Accounts Payable')\n",
    "rects2 = ax1.bar(x4_bar_position,working_capital/1e9, width, label='Working Capital')\n",
    "\n",
    "ax1.tick_params(axis='y')\n",
    "#ax1.set_ylim((-50,200))\n",
    "ax1.legend()\n",
    "plt.grid()\n",
    "\n",
    "# instantiate a second y-axes that shares the same x-axis\n",
    "ax2 = ax1.twinx()\n",
    "color = 'tab:Blue'\n",
    "\n",
    "ax2.plot(df_dcf_data['FY'],working_capital_rate * 100,'+-')\n",
    "    \n",
    "ax2.set_ylabel('% Working Capital Rate',color=color)\n",
    "ax2.tick_params(axis='y', labelcolor=color)\n",
    "ax2.set_ylim((0,50))\n",
    "\n",
    "X = plt.gca().xaxis\n",
    "X.set_major_locator(locator)\n",
    "# Specify formatter\n",
    "X.set_major_formatter(fmt)\n",
    "plt.gcf().autofmt_xdate()\n",
    "\n",
    "plt.title('Working Capital')\n",
    "plt.show()"
   ]
  },
  {
   "cell_type": "markdown",
   "metadata": {},
   "source": [
    "**Observation:**  \n",
    "Working capital spiked in 2020.  In 2021, it seemed to have returned to a historical level."
   ]
  },
  {
   "cell_type": "code",
   "execution_count": 17,
   "metadata": {},
   "outputs": [
    {
     "name": "stdout",
     "output_type": "stream",
     "text": [
      "average working capital rate: 24.36%\n"
     ]
    }
   ],
   "source": [
    "# average working capital rate\n",
    "working_capital_rate_avg = working_capital_rate[-5:].mean()\n",
    "print('average working capital rate: {:.2f}%'.format(working_capital_rate_avg*100))"
   ]
  },
  {
   "cell_type": "markdown",
   "metadata": {},
   "source": [
    "### Current assets <a id=\"section3-7\"></a>\n",
    "Total Current Assets from the most recent balance sheet statement of the company.  Current assets include inventory, cash and accounts receivables.\n",
    "\n",
    "**Adjustments**  \n",
    "None for this company."
   ]
  },
  {
   "cell_type": "code",
   "execution_count": 18,
   "metadata": {},
   "outputs": [
    {
     "data": {
      "image/png": "[encoded data removed]",
      "text/plain": [
       "<Figure size 432x288 with 1 Axes>"
      ]
     },
     "metadata": {
      "needs_background": "light"
     },
     "output_type": "display_data"
    }
   ],
   "source": [
    "# plot Short Term Assets\n",
    "width = 100  # the width of the bars\n",
    "\n",
    "# Set the locator\n",
    "locator = mdates.YearLocator()  # every year\n",
    "fmt = mdates.DateFormatter('%Y')\n",
    "\n",
    "plt.bar(df_dcf_data['FY'],df_dcf_data['current_assets']/1e9, width)\n",
    "\n",
    "X = plt.gca().xaxis\n",
    "X.set_major_locator(locator)\n",
    "# Specify formatter\n",
    "X.set_major_formatter(fmt)\n",
    "plt.gcf().autofmt_xdate()\n",
    "\n",
    "plt.title('Current assets')\n",
    "plt.ylabel('dollars, \\\\$B')\n",
    "\n",
    "plt.grid()\n",
    "plt.show()"
   ]
  },
  {
   "cell_type": "markdown",
   "metadata": {},
   "source": [
    "**Observation:**  \n",
    "An increase in cash and cash equivalents for 2019 and 2020 is noted."
   ]
  },
  {
   "cell_type": "code",
   "execution_count": 19,
   "metadata": {},
   "outputs": [
    {
     "name": "stdout",
     "output_type": "stream",
     "text": [
      "Current assets: $33.26B\n"
     ]
    }
   ],
   "source": [
    "sta = df_dcf_data['current_assets'].iloc[-1]\n",
    "print('Current assets: ${:.2f}B'.format(sta/1e9))"
   ]
  },
  {
   "cell_type": "markdown",
   "metadata": {},
   "source": [
    "### Current liabilities <a id=\"section3-8\"></a>\n",
    "Total Current Liabilities from the most recent balance sheet consolidated statement.\n",
    "\n",
    "**Adjustments**  \n",
    "None for this company."
   ]
  },
  {
   "cell_type": "code",
   "execution_count": 20,
   "metadata": {},
   "outputs": [
    {
     "data": {
      "image/png": "[encoded data removed]",
      "text/plain": [
       "<Figure size 432x288 with 1 Axes>"
      ]
     },
     "metadata": {
      "needs_background": "light"
     },
     "output_type": "display_data"
    }
   ],
   "source": [
    "# plot Short Term Liabilities\n",
    "\n",
    "width = 100  # the width of the bars\n",
    "\n",
    "# Set the locator\n",
    "locator = mdates.YearLocator()  # every year\n",
    "fmt = mdates.DateFormatter('%Y')\n",
    "\n",
    "plt.bar(df_dcf_data['FY'],df_dcf_data['current_liabilities']/1e9, width)\n",
    "\n",
    "X = plt.gca().xaxis\n",
    "X.set_major_locator(locator)\n",
    "# Specify formatter\n",
    "X.set_major_formatter(fmt)\n",
    "plt.gcf().autofmt_xdate()\n",
    "\n",
    "plt.title('Current liabilities')\n",
    "plt.ylabel('dollars, \\\\$B')\n",
    "\n",
    "plt.grid()\n",
    "plt.show()"
   ]
  },
  {
   "cell_type": "code",
   "execution_count": 21,
   "metadata": {},
   "outputs": [
    {
     "name": "stdout",
     "output_type": "stream",
     "text": [
      "Average of current liabilities: $11.67B\n"
     ]
    }
   ],
   "source": [
    "print('Average of current liabilities: ${:.2f}B'.format(df_dcf_data['current_liabilities'].mean()/1e9))"
   ]
  },
  {
   "cell_type": "markdown",
   "metadata": {},
   "source": [
    "**Observation**:  \n",
    "Other current liabilities increased in 2019 and 2020."
   ]
  },
  {
   "cell_type": "code",
   "execution_count": 22,
   "metadata": {},
   "outputs": [
    {
     "name": "stdout",
     "output_type": "stream",
     "text": [
      "Current liabilities: $21.87B\n"
     ]
    }
   ],
   "source": [
    "stl = df_dcf_data['current_liabilities'].iloc[-1]\n",
    "print('Current liabilities: ${:.2f}B'.format(stl/1e9))"
   ]
  },
  {
   "cell_type": "markdown",
   "metadata": {},
   "source": [
    "### Value of Debt Outstanding <a id=\"section3-9\"></a>\n",
    "Amount of debt outstanding from the most recent balance sheet of the company.\n",
    "\n",
    "\n",
    "**Adjustments**  \n",
    "None for this company."
   ]
  },
  {
   "cell_type": "code",
   "execution_count": 23,
   "metadata": {},
   "outputs": [
    {
     "data": {
      "image/png": "[encoded data removed]",
      "text/plain": [
       "<Figure size 432x288 with 2 Axes>"
      ]
     },
     "metadata": {
      "needs_background": "light"
     },
     "output_type": "display_data"
    }
   ],
   "source": [
    "# calculate the percent change in debt, pcd\n",
    "pcd = np.zeros(len(df_dcf_data['long_term_debt'].to_numpy())) # percent change in debt\n",
    "for i in range(len(df_dcf_data['long_term_debt'].to_numpy()[0:-1])):\n",
    "    pcd[i+1] = ((df_dcf_data['long_term_debt'].to_numpy()[i+1] - df_dcf_data['long_term_debt'].to_numpy()[i])/\n",
    "                df_dcf_data['long_term_debt'].to_numpy()[i+1])*100\n",
    "\n",
    "width = 100\n",
    "\n",
    "# Set the locator\n",
    "locator = mdates.YearLocator()  # every year\n",
    "fmt = mdates.DateFormatter('%Y')\n",
    "\n",
    "fig, ax1 = plt.subplots()\n",
    "ax1.set_ylabel('Dollars, $B')\n",
    "\n",
    "# plot revenue as single bar\n",
    "plt.bar(df_dcf_data['FY'],df_dcf_data['long_term_debt']/1e9, width,color='k')\n",
    "\n",
    "ax1.tick_params(axis='y')\n",
    "plt.grid()\n",
    "\n",
    "# instantiate a second y-axes that shares the same x-axis\n",
    "ax2 = ax1.twinx()\n",
    "color = 'tab:green'\n",
    "\n",
    "ax2.plot(df_dcf_data['FY'],pcd,'+-g')\n",
    "    \n",
    "ax2.set_ylabel('% Change in debt',color=color)\n",
    "ax2.tick_params(axis='y', labelcolor=color)\n",
    "#ax2.set_ylim((-40,100))\n",
    "\n",
    "X = plt.gca().xaxis\n",
    "X.set_major_locator(locator)\n",
    "# Specify formatter\n",
    "X.set_major_formatter(fmt)\n",
    "plt.gcf().autofmt_xdate()\n",
    "\n",
    "plt.title('debt')\n",
    "plt.show()"
   ]
  },
  {
   "cell_type": "code",
   "execution_count": 24,
   "metadata": {},
   "outputs": [
    {
     "name": "stdout",
     "output_type": "stream",
     "text": [
      "average debt growth rate: 6.44%\n"
     ]
    }
   ],
   "source": [
    "dgr_avg = pcr[1:].mean()/100\n",
    "print('average debt growth rate: {:.2f}%'.format(dgr_avg*100))"
   ]
  },
  {
   "cell_type": "markdown",
   "metadata": {},
   "source": [
    "**Observation:**  \n",
    "Acquisitions of Celgene in 2019 and MyoKardia in 2020 contributed to the increase in debt.\n",
    "\n",
    "In 2020, BMS issued an aggregate principal amount of \\\\$7.0 billion of fixed rate unsecured senior notes with proceeds net of discount and deferred loan issuance costs of \\\\$6.9 billion.\n",
    "\n",
    "In 2019, BMS issued an aggregate principal amount of approximately \\\\$19.0 billion of floating rate and fixed rate unsecured senior notes with proceeds net of discount and deferred loan issuance costs of \\\\$18.8 billion.\n",
    "\n",
    "In connection with the Celgene acquisition, BMS commenced offers to exchange outstanding notes issued by Celgene of approximately \\\\$19.9 billion for a like-amount of new notes to be issued by BMS (the “exchange offers”). This exchange transaction was accounted for as a modification of the assumed debt instruments.  Following the settlement of the exchange offers, BMS issued approximately \\\\$18.5 billion of new notes in exchange for the Celgene notes tendered in the exchange offers. The aggregate principal amount of Celgene notes that remained outstanding following the settlement of the exchange offers was approximately \\\\$1.3 billion.\n",
    "\n",
    "The fair value of long-term debt was \\\\$58.5 billion and \\\\$50.7 billion at December 31, 2020 and 2019, respectively, valued using Level 2 inputs which are based upon the quoted market prices for the same or similar debt instruments. The fair value of short-term borrowings approximates the carrying value due to the short maturities of the debt instruments."
   ]
  },
  {
   "cell_type": "code",
   "execution_count": 25,
   "metadata": {},
   "outputs": [
    {
     "name": "stdout",
     "output_type": "stream",
     "text": [
      "Total long term debt and other: $39.60B\n"
     ]
    }
   ],
   "source": [
    "vod = df_dcf_data['long_term_debt'].iloc[-1]\n",
    "print('Total long term debt and other: ${:.2f}B'.format(vod/1e9))"
   ]
  },
  {
   "cell_type": "markdown",
   "metadata": {},
   "source": [
    "### Current stock price <a id=\"section3-10\"></a>\n",
    "Most recent stock price for the [company](https://finance.yahoo.com/quote/BMY?p=BMY).  The current stock price is used to calculate the market value of the firm. Use the market value when looking at market capitalization for common stock. "
   ]
  },
  {
   "cell_type": "code",
   "execution_count": 26,
   "metadata": {},
   "outputs": [
    {
     "name": "stdout",
     "output_type": "stream",
     "text": [
      "current stock price: $64.12\n"
     ]
    }
   ],
   "source": [
    "csp = 64.12 # current stock price\n",
    "print('current stock price: ${:,.2f}'.format(csp))"
   ]
  },
  {
   "cell_type": "markdown",
   "metadata": {},
   "source": [
    "### Shares outstanding <a id=\"section4-11\"></a>\n",
    "The number of shares outstanding is used to calculate the intrinsic stock value.  \n"
   ]
  },
  {
   "cell_type": "code",
   "execution_count": 27,
   "metadata": {},
   "outputs": [
    {
     "name": "stdout",
     "output_type": "stream",
     "text": [
      "shares outstanding, basic: 2,179,000,000\n"
     ]
    }
   ],
   "source": [
    "so = df_dcf_data['shares_outstanding'].iloc[-1] # shares outstanding\n",
    "print('shares outstanding, basic: {:,.0f}'.format(so))"
   ]
  },
  {
   "cell_type": "code",
   "execution_count": 28,
   "metadata": {},
   "outputs": [
    {
     "data": {
      "image/png": "[encoded data removed]",
      "text/plain": [
       "<Figure size 432x288 with 2 Axes>"
      ]
     },
     "metadata": {
      "needs_background": "light"
     },
     "output_type": "display_data"
    }
   ],
   "source": [
    "# calculate the percent change in shares outstanding, pcso\n",
    "pcso = np.zeros(len(df_dcf_data['shares_outstanding'].to_numpy())) # percent change in debt\n",
    "for i in range(len(df_dcf_data['shares_outstanding'].to_numpy()[0:-1])):\n",
    "    pcso[i+1] = ((df_dcf_data['shares_outstanding'].to_numpy()[i+1] - df_dcf_data['shares_outstanding'].to_numpy()[i])/\n",
    "                df_dcf_data['shares_outstanding'].to_numpy()[i+1])*100\n",
    "\n",
    "width = 100\n",
    "\n",
    "# Set the locator\n",
    "locator = mdates.YearLocator()  # every year\n",
    "fmt = mdates.DateFormatter('%Y')\n",
    "\n",
    "fig, ax1 = plt.subplots()\n",
    "ax1.set_ylabel('shares outstanding, M')\n",
    "\n",
    "# plot revenue as single bar\n",
    "plt.bar(df_dcf_data['FY'],df_dcf_data['shares_outstanding']/1e6, width,color='k')\n",
    "\n",
    "ax1.tick_params(axis='y')\n",
    "plt.grid()\n",
    "\n",
    "# instantiate a second y-axes that shares the same x-axis\n",
    "ax2 = ax1.twinx()\n",
    "color = 'tab:green'\n",
    "\n",
    "ax2.plot(df_dcf_data['FY'],pcso,'+-g')\n",
    "    \n",
    "ax2.set_ylabel('% Change in shares outstanding',color=color)\n",
    "ax2.tick_params(axis='y', labelcolor=color)\n",
    "#ax2.set_ylim((-5,25))\n",
    "\n",
    "X = plt.gca().xaxis\n",
    "X.set_major_locator(locator)\n",
    "# Specify formatter\n",
    "X.set_major_formatter(fmt)\n",
    "plt.gcf().autofmt_xdate()\n",
    "\n",
    "plt.title('Shares outstanding')\n",
    "plt.show()"
   ]
  },
  {
   "cell_type": "code",
   "execution_count": 29,
   "metadata": {},
   "outputs": [
    {
     "name": "stdout",
     "output_type": "stream",
     "text": [
      "average shares outstanding growth rate: 1.84%\n"
     ]
    }
   ],
   "source": [
    "print('average shares outstanding growth rate: {:.2f}%'.format(pcso[1:].mean()))"
   ]
  },
  {
   "cell_type": "markdown",
   "metadata": {},
   "source": [
    "**Observation:**  \n",
    "On November 20, 2019, BMS completed the Celgene acquisition. Each share of Celgene common stock was converted into a right to receive one share of BMS common stock and \\\\$50.00 in cash. Celgene shareholders also received one tradeable contingent value right (“CVR”) for each share of Celgene common stock representing the right to receive \\\\$9.00 in cash, subject to the achievement of future regulatory milestones."
   ]
  },
  {
   "cell_type": "code",
   "execution_count": null,
   "metadata": {},
   "outputs": [],
   "source": []
  },
  {
   "cell_type": "markdown",
   "metadata": {},
   "source": [
    "### 10 year treasury bond yield <a id=\"section3-12\"></a>\n",
    "The [10 year treasury yield](https://finance.yahoo.com/quote/%5ETNX?p=^TNX&.tsrc=fin-srch) is used as a measure of the risk free rate.   "
   ]
  },
  {
   "cell_type": "code",
   "execution_count": 30,
   "metadata": {},
   "outputs": [
    {
     "name": "stdout",
     "output_type": "stream",
     "text": [
      "10 year treasury bond yield: 1.38%\n"
     ]
    }
   ],
   "source": [
    "tby = 1.38/100  # 10 year treasury bond yield\n",
    "print('10 year treasury bond yield: {:,.2f}%'.format(tby*100))"
   ]
  },
  {
   "cell_type": "markdown",
   "metadata": {},
   "source": [
    "### Bond yield spread to treasury <a id=\"section3-13\"></a>\n",
    "The spread to treasury implies that all corporate debt will have a higher yield than yields associated with comparable maturity US Treasury Bonds.  The best way to determine default risk is to see how a particular company's debt is trading in the market and compare it on a spread basis with comparable maturity yields.  \n",
    "\n",
    "Look at [PIMCO Active Bond Exchange-Traded Fund (BOND)](https://finance.yahoo.com/quote/BOND?p=BOND) or use a default rating systems that are published by the three major rating agencies, Standards and Poors Corp, Moody’s Investor Services and Fitch & Company.\n",
    "\n",
    "Web resources:\n",
    "- http://www.standardpoor.com/  \n",
    "- http://bond.yahoo.com/rates.html  \n",
    "- http://www.moodys.com/cust/default.asp  \n",
    "- http://www.fitchibca.com/corporate/index.cfm  "
   ]
  },
  {
   "cell_type": "code",
   "execution_count": 31,
   "metadata": {},
   "outputs": [
    {
     "name": "stdout",
     "output_type": "stream",
     "text": [
      "Bond yield spread to treasury: 1.15%\n"
     ]
    }
   ],
   "source": [
    "bystt = (2.53-1.38)/100           # bond yield spread to treasury spread\n",
    "print('Bond yield spread to treasury: {:,.2f}%'.format(bystt*100))"
   ]
  },
  {
   "cell_type": "markdown",
   "metadata": {},
   "source": [
    "### Preferred stock yield <a id=\"section3-14\"></a>\n",
    "Amount of preferred stock outstanding from the most recent balance sheet of the company.\n",
    "\n",
    "**Adjustments for Bristol-Myers Squibb**  \n",
    "\n",
    "As of December 31, 2019, out of the 10,000,000 shares of authorized preferred stock, 1,300,188 shares have been designated as \\\\$2.00 convertible preferred stock (of which 3,568 shares have been issued and are outstanding).\n",
    "\n",
    "Preferred stock, \\\\$2 convertible series, par value \\\\$1 per share: Authorized 10 million shares; issued and outstanding 3,484 in 2020 and 3,568 in 2019, liquidation value of \\\\$50 per share.\n"
   ]
  },
  {
   "cell_type": "code",
   "execution_count": 32,
   "metadata": {},
   "outputs": [
    {
     "name": "stdout",
     "output_type": "stream",
     "text": [
      "preferred stock yield: 1.00%\n",
      "value of preferred stock: 174,200.00\n"
     ]
    }
   ],
   "source": [
    "psy = 1/100  # preferred stock yield\n",
    "print('preferred stock yield: {:,.2f}%'.format(psy*100))\n",
    "\n",
    "vps = 3484*50 # value of preferred stock\n",
    "print('value of preferred stock: {:,.2f}'.format(vps))"
   ]
  },
  {
   "cell_type": "markdown",
   "metadata": {},
   "source": [
    "### Equity risk premium <a id=\"section4-15\"></a>\n",
    "The expected excess return a hypothetical average investor would require of a diversified portfolio of stock (assumed beta = 1.0) over the yield on the 10-year Treasury Bond.  The equity risk premium has been going down over the years.  \n",
    "- 1926 to 1990: 5.5%   \n",
    "- 1962 to 1990: 3.25%   \n",
    "- 1981 to 1990: 0.19%   \n",
    "\n",
    "In times of sustained economic growth the risk premium demanded by investors generally declines.   \n",
    "\n",
    "I'm going to use 3% as the equity risk premium."
   ]
  },
  {
   "cell_type": "code",
   "execution_count": 33,
   "metadata": {},
   "outputs": [
    {
     "name": "stdout",
     "output_type": "stream",
     "text": [
      "Equity risk premium: 3.00%\n"
     ]
    }
   ],
   "source": [
    "eq_rp = 3.0/100             # equity risk premium\n",
    "print('Equity risk premium: {:,.2f}%'.format(eq_rp*100))"
   ]
  },
  {
   "cell_type": "markdown",
   "metadata": {},
   "source": [
    "### Company specific beta <a id=\"section3-16\"></a>\n",
    "The Beta used is Beta of Equity. Beta is the monthly price change of a particular company relative to the monthly price change of the S&P 500. The time period for Beta is 5 years when available. This value can be obtained at [yahoo finance](https://finance.yahoo.com/quote/BMY/?p=BMY).  \n",
    "\n",
    "A measure of risk of an individual stock. It measures volatility of return - a higher beta means a higher risk. A financial model that uses Beta as its sole measure of risk (signal factor model) is called a Capital Asset Pricing Model (CAPM).\n",
    " "
   ]
  },
  {
   "cell_type": "code",
   "execution_count": 34,
   "metadata": {},
   "outputs": [
    {
     "name": "stdout",
     "output_type": "stream",
     "text": [
      "Company specific beta: 0.53\n"
     ]
    }
   ],
   "source": [
    "beta = 0.53 # company specific beta\n",
    "print('Company specific beta: {:,.2f}'.format(beta))"
   ]
  },
  {
   "cell_type": "markdown",
   "metadata": {},
   "source": [
    "### DCF model inputs <a id=\"section3-17\"></a>\n",
    "Below are the DCF model inputs.  These values were calculated above."
   ]
  },
  {
   "cell_type": "code",
   "execution_count": 35,
   "metadata": {},
   "outputs": [
    {
     "name": "stdout",
     "output_type": "stream",
     "text": [
      "revenue growth rate: 14.99%\n",
      "net operating profit margin: 25.64%\n",
      "tax rate: 22.21%\n",
      "depreciation rate: 12.15%\n",
      "investment rate: 14.76%\n",
      "working capital rate: 24.36%\n"
     ]
    }
   ],
   "source": [
    "# various rates\n",
    "rgr = rgr_avg              # revenue growth rate\n",
    "print('revenue growth rate: {:,.2f}%'.format(rgr*100))\n",
    "nopm = nopm_avg             # net operating profit margin\n",
    "print('net operating profit margin: {:,.2f}%'.format(nopm*100))\n",
    "tr = tax_rate_avg               # tax rate\n",
    "print('tax rate: {:,.2f}%'.format(tr*100))\n",
    "dr = depreciation_rate_avg              # depreciation rate (% of revenue)\n",
    "print('depreciation rate: {:,.2f}%'.format(dr*100))\n",
    "ir = investment_rate_avg              # investment rate (% of revenue)\n",
    "print('investment rate: {:,.2f}%'.format(ir*100))\n",
    "wcr = working_capital_rate_avg            # working capital rate (% of revenue)\n",
    "print('working capital rate: {:,.2f}%'.format(wcr*100))"
   ]
  },
  {
   "cell_type": "markdown",
   "metadata": {},
   "source": [
    "**Excess return period**  \n",
    "The excess return period is based on a judgment call.  The authors of [1] use the 1-5-7-10 rule. They group companies into one of four general categories and excess return periods. They use a 10 year excess return period to calculate what they would consider the maximum value. They use a more conservative 1 year, 5 year or 7 year return period to calculate a more reasonable or minimum value.  \n",
    "- 1 year: Boring companies that operate in a highly competitive, low margin industry in which they have nothing particular going for them.\n",
    "- 5 year: Decent companies that have a recognizable name and decent reputation and perhaps a regulatory benefit (utility company), but can’t control pricing or growth.\n",
    "- 7 year: Good companies with good brand names, large companies of scale, good marketing channels and consumer identification (e.g. McDonald’s)\n",
    "- 10 year: Great companies with great growth potential, tremendous marketing power, band names and in-place benefits (e.g. Intel, Microsoft, Coca Cola, Disney)  \n",
    "\n",
    "The excess return period used for the base case is ten years, which should lead to a higher calculated intrinsic value."
   ]
  },
  {
   "cell_type": "code",
   "execution_count": 36,
   "metadata": {},
   "outputs": [
    {
     "name": "stdout",
     "output_type": "stream",
     "text": [
      "starting year: 2021\n",
      "excess return period: 10 years\n",
      "starting revenues: $46.38B\n",
      "shares outstanding: 2,179,000,000\n"
     ]
    }
   ],
   "source": [
    "# General Inputs\n",
    "fy_start = df_dcf_data['FY'].iloc[-1].year # fiscal year to start excess return period\n",
    "erp = 10 # excess return period, years\n",
    "rev_start = df_dcf_data['revenue'].to_numpy()[-1] # starting revenues for excess return period\n",
    "print('starting year: {:.0f}'.format(fy_start))\n",
    "print('excess return period: {:.0f} years'.format(erp))\n",
    "print('starting revenues: ${:,.2f}B'.format(rev_start/1e9))\n",
    "print('shares outstanding: {:,.0f}'.format(so))"
   ]
  },
  {
   "cell_type": "code",
   "execution_count": 37,
   "metadata": {},
   "outputs": [
    {
     "name": "stdout",
     "output_type": "stream",
     "text": [
      "preferred stock, market value : $0.00B\n",
      "common stock, market value: $139.72B\n"
     ]
    }
   ],
   "source": [
    "ps_mv = vps               # preferred stock, market value \n",
    "print('preferred stock, market value : ${:,.2f}B'.format(ps_mv/1e9))\n",
    "cs_mv = csp*so            # common stock, market value \n",
    "print('common stock, market value: ${:,.2f}B'.format(cs_mv/1e9))"
   ]
  },
  {
   "cell_type": "markdown",
   "metadata": {},
   "source": [
    "**Long Term Debt, Market Value, ltd_mv**  \n",
    "Use the book value for long term debt.  Various online resources can be used to research this item.\n",
    "These include, [Bondsonline](http://www.bondsonline.com/) and [Bloomberg](http://www.bloomberg.com/).  The book value of debt and preferred stock is an accounting measure that relates to how much money was raised by the company when each security was issued.  The market value of debt and the preferred and common stock is the price that specific obligations would trade at in today’s market. \n",
    "\n",
    "Long term debt for firms can take one of two forms.  It can be a long-term loan from a bank or other financial institution or it can be a long-term bond issued to financial markets, in which case the creditors are the investors in the bond.  Firms often have long term obligations that are not captured in the long term debt item.  These include obligations to lessors on assets that firms have leased, to employees in the form of pension fund and health care benefits yet to be paid, and to the government in the form of taxes deferred.  In the last two decades, accountants have increasingly moved towards quantifying these liabilities and showing them as long term liabilities."
   ]
  },
  {
   "cell_type": "code",
   "execution_count": 38,
   "metadata": {},
   "outputs": [
    {
     "name": "stdout",
     "output_type": "stream",
     "text": [
      "total market value: $179.32B\n"
     ]
    }
   ],
   "source": [
    "ltd_mv = vod              # market value of long term debt\n",
    "tmv = ltd_mv+ps_mv+cs_mv  # total market value \n",
    "print('total market value: ${:,.2f}B'.format(tmv/1e9))"
   ]
  },
  {
   "cell_type": "markdown",
   "metadata": {},
   "source": [
    "**Cost of Common Equity, cce**  \n",
    "The expected excess return a hypothetical average investor would require of a diversified portfolio of stock (assumed beta = 1.0) over the yield on the 10-year Treasury Bond.  The annual rate of return that an investor expects to earn when investing in shares of a company is known as the cost of common equity.  It includes dividends and increases in the market value."
   ]
  },
  {
   "cell_type": "code",
   "execution_count": 39,
   "metadata": {},
   "outputs": [
    {
     "name": "stdout",
     "output_type": "stream",
     "text": [
      "cost of common equity: 2.97%\n"
     ]
    }
   ],
   "source": [
    "cce = tby+beta*eq_rp      # cost of common equity or the expected return for the stock\n",
    "print('cost of common equity: {:,.2f}%'.format(cce*100))"
   ]
  },
  {
   "cell_type": "markdown",
   "metadata": {},
   "source": [
    "**Long Term Debt, Average Yield, ltd_ay**  \n",
    "The total cost of long term debt."
   ]
  },
  {
   "cell_type": "code",
   "execution_count": 40,
   "metadata": {},
   "outputs": [
    {
     "name": "stdout",
     "output_type": "stream",
     "text": [
      "long term debt average yield: 2.53%\n"
     ]
    }
   ],
   "source": [
    "ltd_ay = tby+bystt        # long term debt average yield\n",
    "print('long term debt average yield: {:,.2f}%'.format(ltd_ay*100))"
   ]
  },
  {
   "cell_type": "markdown",
   "metadata": {},
   "source": [
    "**Long Term Debt, After Tax Yield, ltd_aty**  \n",
    "The tax benefits of long term debt.  Interest payments are tax deductible for the company."
   ]
  },
  {
   "cell_type": "code",
   "execution_count": 41,
   "metadata": {},
   "outputs": [
    {
     "name": "stdout",
     "output_type": "stream",
     "text": [
      "long term debt after tax yield: 1.97%\n",
      "preferred stock, average yield: 1.00%\n",
      "common stock, after tax yield: 2.97%\n",
      "common stock, after tax effet: 2.31%\n",
      "total after tax effect: 2.75%\n",
      "total % Capital: 100.00%\n"
     ]
    }
   ],
   "source": [
    "ltd_aty = ltd_ay*(1-tr)   # long term debt after tax yield\n",
    "print('long term debt after tax yield: {:,.2f}%'.format(ltd_aty*100))\n",
    "\n",
    "ltd_pc = vod/tmv          # weight for long term debt \n",
    "ltd_ate = ltd_aty*ltd_pc  # after tax effect of long term debt \n",
    "ps_ay = psy               # preferred stock, average yield \n",
    "ps_aty = ps_ay            # preferred stock, average yield \n",
    "print('preferred stock, average yield: {:,.2f}%'.format(ps_aty*100))\n",
    "\n",
    "ps_pc = ps_mv/tmv         # preferred stock, % capital \n",
    "ps_ate = ps_aty*ps_pc     # preferred stock, after tax effect \n",
    "cs_ay = cce               # common stock, average yield \n",
    "cs_aty = cce              # common stock, after tax yield \n",
    "print('common stock, after tax yield: {:,.2f}%'.format(cs_aty*100))\n",
    "\n",
    "cs_pc = cs_mv/tmv         # common stock, % capital \n",
    "cs_ate = cs_aty*cs_pc     # common stock, after tax effect \n",
    "print('common stock, after tax effet: {:,.2f}%'.format(cs_ate*100))\n",
    "\n",
    "tate = ltd_ate+ps_ate+cs_ate # total after tax effect \n",
    "print('total after tax effect: {:,.2f}%'.format(tate*100))\n",
    "tpc = ltd_pc+ps_pc+cs_pc     # total % Capital\n",
    "print('total % Capital: {:,.2f}%'.format(tpc*100))"
   ]
  },
  {
   "cell_type": "markdown",
   "metadata": {},
   "source": [
    "**Weighted average cost of capital**  \n",
    "A company's weighted average cost of capital (WACC) is the weighted average of the company's current cost of debt and equity calculated by using current debt, preferred stock and common stock market values.  The WACC of the company, calculated after tax, is the discount rate used in the DCF valuation procedures. The WACC, which is the cost of the different components of financing used by the firm, weighted by their market value proportions.  These include debt, preferred stock, and common stock.\n",
    "\n",
    "WACC: Weighted Average Cost of Capital, the rate used to discount cash flows, based on the following three factors.\n",
    "1. Base rate of return.\n",
    "2. Expected return based on debt and preferred stock.\n",
    "3. Expected return on common stock and Beta.\n",
    "\n",
    "All adjusted for the tax advantage of interest payments and the percentage of debt, preferred stock and common stock."
   ]
  },
  {
   "cell_type": "code",
   "execution_count": 42,
   "metadata": {},
   "outputs": [
    {
     "name": "stdout",
     "output_type": "stream",
     "text": [
      "weighted average cost of capital: 2.7%\n"
     ]
    }
   ],
   "source": [
    "wacc = tate\n",
    "print('weighted average cost of capital: {:.1f}%'.format(wacc*100))"
   ]
  },
  {
   "cell_type": "markdown",
   "metadata": {},
   "source": [
    "### Future cash flows <a id=\"section3-18\"></a>\n",
    "The future cash flows to the firm are projected based on revenue growth.  The cash flows are then discounted using the WACC and the ISV is calculated."
   ]
  },
  {
   "cell_type": "code",
   "execution_count": 43,
   "metadata": {},
   "outputs": [
    {
     "name": "stdout",
     "output_type": "stream",
     "text": [
      "Year       Rev       NOP  AdjTaxes     NOPAT   Invest.   Deprec.  dInvest.       dWC      FCFF        DF   DF*FCFF\n",
      "2021    46,385         0         0         0         0         0         0         0         0    0.0000         0\n",
      "2022    53,339    13,675     3,037    10,638     7,873     6,481     1,392     1,694     7,553    0.9732     7,351\n",
      "2023    61,335    15,725     3,492    12,233     9,053     7,452     1,601     1,948     8,685    0.9472     8,226\n",
      "2024    70,530    18,082     4,015    14,067    10,410     8,569     1,841     2,239     9,987    0.9219     9,207\n",
      "2025    81,104    20,793     4,617    16,176    11,971     9,854     2,116     2,575    11,484    0.8972    10,304\n",
      "2026    93,263    23,910     5,310    18,601    13,765    11,331     2,434     2,961    13,206    0.8732    11,531\n",
      "2027   107,245    27,495     6,106    21,389    15,829    13,030     2,799     3,405    15,186    0.8498    12,905\n",
      "2028   123,322    31,617     7,021    24,596    18,202    14,984     3,218     3,916    17,462    0.8271    14,443\n",
      "2029   141,810    36,357     8,074    28,283    20,931    17,230     3,701     4,503    20,080    0.8050    16,164\n",
      "2030   163,070    41,807     9,284    32,524    24,068    19,813     4,255     5,178    23,090    0.7835    18,090\n",
      "2031   187,517    48,075    10,676    37,399    27,677    22,783     4,893     5,954    26,552    0.7625    20,246\n"
     ]
    }
   ],
   "source": [
    "# make a list of the fiscal years in excess return period \n",
    "fy = np.zeros(erp+1)\n",
    "fy[0] = fy_start\n",
    "for i in range(1,erp+1): \n",
    "    fy[i]=fy_start+i\n",
    "\n",
    "rev = np.zeros(len(fy))\n",
    "ciwc = np.zeros(len(fy))\n",
    "rev[0] = rev_start  #*rgr+rev_start   # find the future revenue using constant revenue growth rate \n",
    "\n",
    "for i in range(1,len(fy)): \n",
    "    rev[i] = rev[i-1]*rgr+rev[i-1]  # find the future revenue \n",
    "    ciwc[i] = (rev[i]-rev[i-1])*wcr  # find the change in working capital \n",
    "\n",
    "net_op = np.zeros(len(fy)) # net operating profit\n",
    "adj_taxes = np.zeros(len(fy))\n",
    "nopat = np.zeros(len(fy))\n",
    "invest = np.zeros(len(fy))\n",
    "depre = np.zeros(len(fy))\n",
    "net_invest = np.zeros(len(fy))\n",
    "fcff = np.zeros(len(fy))\n",
    "disc_fact = np.zeros(len(fy))\n",
    "disc_fcff = np.zeros(len(fy))                \n",
    "\n",
    "# calculate values in table \n",
    "for i in range(1,len(fy)):\n",
    "    net_op[i] = rev[i]*nopm # net operating profit margin\n",
    "    adj_taxes[i] = net_op[i]*tr # net operating profit adjusted for taxes\n",
    "    nopat[i] = net_op[i]-adj_taxes[i] # after tax net operating profit\n",
    "    invest[i] = rev[i]*ir # future investments\n",
    "    depre[i] = rev[i]*dr # future depreciations\n",
    "    net_invest[i] = invest[i]-depre[i] # net investments\n",
    "    fcff[i] = nopat[i]-net_invest[i]-ciwc[i] # free cash flow to the firm\n",
    "    disc_fact[i] = 1/((1+wacc)**i) # discount factor\n",
    "    disc_fcff[i] = disc_fact[i]*fcff[i] # discounted free cash flow to the firm\n",
    "    \n",
    "dcrv = nopat[-1]/wacc*disc_fact[-1] # discounted corporate residual value\n",
    "derp_fcff = disc_fcff.sum() # discounted excess return period FCFF\n",
    "\n",
    "tcv = derp_fcff+dcrv+sta # total corporate value\n",
    "tvce = tcv-vod-vps-stl # total value of common equity\n",
    "isv = tvce/so # intrinsic stock value\n",
    "\n",
    "# print cash flows in a table\n",
    "print('{:4s}{:>10s}{:>10s}{:>10s}{:>10s}{:>10s}{:>10s}{:>10s}{:>10s}{:>10s}{:>10s}{:>10s}'.format('Year','Rev','NOP','AdjTaxes',\n",
    "    'NOPAT','Invest.','Deprec.','dInvest.','dWC','FCFF','DF','DF*FCFF'))\n",
    "for i in range(len(fy)):\n",
    "    print('{:4.0f}{:10,.0f}{:10,.0f}{:10,.0f}{:10,.0f}{:10,.0f}{:10,.0f}{:10,.0f}{:10,.0f}{:10,.0f}{:10,.4f}{:10,.0f}'.format(fy[i],\n",
    "        rev[i]/1e6,net_op[i]/1e6,adj_taxes[i]/1e6,nopat[i]/1e6,invest[i]/1e6,depre[i]/1e6,(invest[i]-depre[i])/1e6,ciwc[i]/1e6,\n",
    "        fcff[i]/1e6,disc_fact[i],disc_fcff[i]/1e6))"
   ]
  },
  {
   "cell_type": "code",
   "execution_count": 44,
   "metadata": {},
   "outputs": [
    {
     "name": "stdout",
     "output_type": "stream",
     "text": [
      "discounted excess return period FCFF: $128.47B\n",
      "discounted corporate residual value: $1,037.45B\n",
      "total corporate value: $1,199.18B\n",
      "total value of common equity: $1,137.70B\n",
      "intrinsic stock value, baseline case: $522.12\n",
      "current stock price: $64.12\n"
     ]
    }
   ],
   "source": [
    "# Intrinsic Value\n",
    "print('discounted excess return period FCFF: ${:,.2f}B'.format(derp_fcff/1e9))\n",
    "print('discounted corporate residual value: ${:,.2f}B'.format(dcrv/1e9))\n",
    "print('total corporate value: ${:,.2f}B'.format(tcv/1e9))\n",
    "print('total value of common equity: ${:,.2f}B'.format(tvce/1e9))\n",
    "tvce_baseline = tvce # save value as baseline case\n",
    "isv_baseline = isv # save the isv for the baseline case\n",
    "print('intrinsic stock value, baseline case: ${:,.2f}'.format(isv_baseline))\n",
    "print('current stock price: ${:,.2f}'.format(csp))"
   ]
  },
  {
   "cell_type": "markdown",
   "metadata": {},
   "source": [
    "**Observation:**  \n",
    "The base line DCF analysis produces an intrinsic stock value of \\\\$492. This is not realistic since revenue growth rate is high based in part on recent acquisitions. Some adjustments will be made in the scenario 1 case. \n",
    "\n",
    "The calculations used here can be verified by using the [Valuepro](http://www.valuepro.net/index.shtml) web site, which calculates ISV based on the same method (not working as of 2/5/2022)."
   ]
  },
  {
   "cell_type": "markdown",
   "metadata": {},
   "source": [
    "### List of all inputs to the DCF model\n",
    "The following print statements format the inputs to the model similar to how they are presented on the Valuepro page."
   ]
  },
  {
   "cell_type": "code",
   "execution_count": 45,
   "metadata": {},
   "outputs": [
    {
     "name": "stdout",
     "output_type": "stream",
     "text": [
      "       Excess return period, years: 10                       Depreciation rate, %: 12.150\n",
      "             Starting revenues, $B: 46.38                      Investment rate, %: 14.760\n",
      "            Revenue growth rate, %: 14.992                Working capital rate, %: 24.355\n",
      "    Net operating profit margin, %: 25.638                     Current assets, $B: 33.262\n",
      "                       Tax rate, %: 22.206                Current liabilities, $B: 21.868\n",
      "            Current stock price, $: 64.12                  Equity risk premium, %: 3.00\n",
      "      Shares outstanding, basic, M: 2,179                   Company specific beta: 0.53\n",
      "    10 year treasury bond yield, %: 1.38       Total long term debt and other, $B: 39.605\n",
      "  Bond yield spread to treasury, %: 1.15             Value of preferred stock, $B: 0.000\n",
      "          Preferred stock yield, %: 1.00      \n"
     ]
    }
   ],
   "source": [
    "print('{:>35s} {:<10.0f} {:>35s} {:,.3f}'.format('Excess return period, years:',erp,'Depreciation rate, %:',dr*100))\n",
    "print('{:>35s} {:<10,.2f} {:>35s} {:,.3f}'.format('Starting revenues, $B:',\n",
    "    rev_start/1e9,'Investment rate, %:',ir*100))\n",
    "print('{:>35s} {:<10,.3f} {:>35s} {:,.3f}'.format('Revenue growth rate, %:',\n",
    "    rgr*100,'Working capital rate, %:',wcr*100))\n",
    "print('{:>35s} {:<10,.3f} {:>35s} {:,.3f}'.format('Net operating profit margin, %:',\n",
    "    nopm*100,'Current assets, $B:',sta/1e9))\n",
    "print('{:>35s} {:<10,.3f} {:>35s} {:.3f}'.format('Tax rate, %:',\n",
    "    tr*100,'Current liabilities, $B:',stl/1e9))\n",
    "print('{:>35s} {:<10,.2f} {:>35s} {:,.2f}'.format('Current stock price, $:',\n",
    "    csp,'Equity risk premium, %:',eq_rp*100))\n",
    "print('{:>35s} {:<10,.0f} {:>35s} {:,.2f}'.format('Shares outstanding, basic, M:',\n",
    "    so/1e6,'Company specific beta:',beta))\n",
    "print('{:>35s} {:<10,.2f} {:>35s} {:.3f}'.format('10 year treasury bond yield, %:',\n",
    "    tby*100,'Total long term debt and other, $B:',vod/1e9))\n",
    "print('{:>35s} {:<10,.2f} {:>35s} {:,.3f}'.format('Bond yield spread to treasury, %:',\n",
    "    bystt*100,'Value of preferred stock, $B:',vps/1e9))\n",
    "print('{:>35s} {:<10,.2f}'.format('Preferred stock yield, %:',psy*100))"
   ]
  },
  {
   "cell_type": "code",
   "execution_count": 46,
   "metadata": {},
   "outputs": [
    {
     "name": "stdout",
     "output_type": "stream",
     "text": [
      "Weighted Average Cost of Capital\n",
      "Cost of common equity\n",
      "-------------------------------------\n",
      " 10 year treasury bond yield, %: 1.38\n",
      "          Company specific beta: 0.53\n",
      "         Equity risk premium, %: 3.00\n",
      "-------------------------------------\n",
      "       Cost of common equity, %: 2.97\n",
      "\n",
      "Market Capitalization and After-Tax Weighted Average Cost of Capital\n",
      "\n",
      "                     Current  After-Tax   Market         %       Weighted After-\n",
      "                      Yield     Yield     Value   Capitalization    Tax Yield   \n",
      "--------------------------------------------------------------------------------\n",
      "Long term debt         2.53      3.41        40       22.09           0.43\n",
      "Preferred stock        1.00      0.00         0        0.00           0.00\n",
      "Common stock           2.97      2.97       140       77.91           2.97\n",
      "--------------------------------------------------------------------------------\n",
      "                                            179      100.00           2.75\n"
     ]
    }
   ],
   "source": [
    "# weighted average cost of capital inputs\n",
    "print('Weighted Average Cost of Capital')\n",
    "print('Cost of common equity')\n",
    "print('{:s}'.format('-'*37))\n",
    "print('{:>32s} {:,.2f}'.format('10 year treasury bond yield, %:',tby*100))\n",
    "print('{:>32s} {:,.2f}'.format('Company specific beta:',beta))\n",
    "print('{:>32s} {:,.2f}'.format('Equity risk premium, %:',eq_rp*100))\n",
    "print('{:s}'.format('-'*37))\n",
    "print('{:>32s} {:,.2f}'.format('Cost of common equity, %:',cce*100))\n",
    "print()\n",
    "\n",
    "print('Market Capitalization and After-Tax Weighted Average Cost of Capital')\n",
    "print()\n",
    "print('{:s}{:^10s}{:^10s}{:^10s}{:^15s}{:^15s}'.format(' '*20,'Current','After-Tax','Market','%','Weighted After-'))\n",
    "print('{:s}{:^10s}{:^10s}{:^10s}{:^15s}{:^15s}'.format(' '*20,'Yield','Yield','Value','Capitalization','Tax Yield'))\n",
    "\n",
    "print('{:s}'.format('-'*80))\n",
    "print('{:<15s}{:>12.2f}{:>10.2f}{:>10,.0f}{:>12.2f}{:>15.2f}'.format('Long term debt',\n",
    "    ltd_ay*100,(tby+eq_rp)*(1-tr)*100,vod/1e9,ltd_pc*100,ltd_ate*100))\n",
    "print('{:<15s}{:>12.2f}{:>10.2f}{:>10,.0f}{:>12.2f}{:>15.2f}'.format('Preferred stock',\n",
    "     psy*100,ps_ate*100,vps/1e9,ps_pc*100,ps_ate*100))\n",
    "print('{:<15s}{:>12.2f}{:>10.2f}{:>10,.0f}{:>12.2f}{:>15.2f}'.format('Common stock',\n",
    "     cs_ay*100,cs_aty*100,cs_mv/1e9,cs_pc*100,cs_aty*100))\n",
    "print('{:s}'.format('-'*80))\n",
    "print('{:<37s}{:>10,.0f}{:>12.2f}{:>15.2f}'.format('',tmv/1e9,tpc*100,wacc*100))"
   ]
  },
  {
   "cell_type": "markdown",
   "metadata": {},
   "source": [
    "## 4) DCF Scenarios <a id=\"section4\"></a>\n",
    "The following adjustments were made to various model parameters.\n",
    "- excess return period was adjusted to a more conservative 5 years\n",
    "- revenue growth rate was adjusted to 10% (base case = 14.99%)\n",
    "- net operating profit margin was adjusted to 20% (base case = 25.64%)\n",
    "- tax rate was adjusted to 20% (base case = 22.21%)\n",
    "- depreciation rate was adjusted to 10% (base case = 12.15%)\n",
    "- investment rate was adjust to 10% (base case = 14.76%)\n",
    "- working capital rate was set to an even 20% (base case = 24.36%)\n",
    "- weighted average cost of capital was adjusted to 8% to reflect higher interest rates (base case = 2.9%)\n",
    "\n",
    "Adjusting the weighted average cost of capital to 8.0% to reflect possible higher interest and inflation in the future."
   ]
  },
  {
   "cell_type": "code",
   "execution_count": 47,
   "metadata": {},
   "outputs": [
    {
     "name": "stdout",
     "output_type": "stream",
     "text": [
      "adjusted DCF input values and rates\n",
      "excess return period: 5 years\n",
      "revenue growth rate: 10.0%\n",
      "net operating profit margin: 20.00%\n",
      "tax rate: 20.00%\n",
      "depreciation rate: 10.00%\n",
      "investment rate: 10.00%\n",
      "working capital rate: 20.0%\n",
      "weighted average cost of capital: 8.0%\n"
     ]
    }
   ],
   "source": [
    "print('adjusted DCF input values and rates')\n",
    "erp = 5\n",
    "print('excess return period: {:,.0f} years'.format(erp))\n",
    "rgr = 10/100\n",
    "print('revenue growth rate: {:,.1f}%'.format(rgr*100))\n",
    "nopm = 20/100\n",
    "print('net operating profit margin: {:.2f}%'.format(nopm*100))\n",
    "tr = 20/100\n",
    "print('tax rate: {:.2f}%'.format(tr*100))\n",
    "dr = 10/100\n",
    "print('depreciation rate: {:,.2f}%'.format(dr*100))\n",
    "ir = 10/100              # investment rate (% of revenue)\n",
    "print('investment rate: {:,.2f}%'.format(ir*100))\n",
    "wcr = 20/100\n",
    "print('working capital rate: {:,.1f}%'.format(wcr*100))\n",
    "wacc = 8/100 # weighted average cost of capital\n",
    "print('weighted average cost of capital: {:.1f}%'.format(wacc*100))"
   ]
  },
  {
   "cell_type": "code",
   "execution_count": 48,
   "metadata": {},
   "outputs": [
    {
     "name": "stdout",
     "output_type": "stream",
     "text": [
      "Year       Rev       NOP  AdjTaxes     NOPAT   Invest.   Deprec.  dInvest.       dWC      FCFF        DF   DF*FCFF\n",
      "2021    46,385         0         0         0         0         0         0         0         0    0.0000         0\n",
      "2022    51,024    10,205     2,041     8,164     5,102     5,102         0       928     7,236    0.9259     6,700\n",
      "2023    56,126    11,225     2,245     8,980     5,613     5,613         0     1,020     7,960    0.8573     6,824\n",
      "2024    61,738    12,348     2,470     9,878     6,174     6,174         0     1,123     8,756    0.7938     6,951\n",
      "2025    67,912    13,582     2,716    10,866     6,791     6,791         0     1,235     9,631    0.7350     7,079\n",
      "2026    74,704    14,941     2,988    11,953     7,470     7,470         0     1,358    10,594    0.6806     7,210\n"
     ]
    }
   ],
   "source": [
    "# make a list of the fiscal years in excess return period \n",
    "fy = np.zeros(erp+1)\n",
    "fy[0] = fy_start\n",
    "for i in range(1,erp+1): \n",
    "    fy[i]=fy_start+i\n",
    "\n",
    "rev = np.zeros(len(fy))\n",
    "ciwc = np.zeros(len(fy))\n",
    "rev[0] = rev_start  #*rgr+rev_start   # find the future revenue using constant revenue growth rate \n",
    "\n",
    "for i in range(1,len(fy)): \n",
    "    rev[i] = rev[i-1]*rgr+rev[i-1]  # find the future revenue \n",
    "    ciwc[i] = (rev[i]-rev[i-1])*wcr  # find the change in working capital \n",
    "\n",
    "net_op = np.zeros(len(fy))\n",
    "adj_taxes = np.zeros(len(fy))\n",
    "nopat = np.zeros(len(fy))\n",
    "invest = np.zeros(len(fy))\n",
    "depre = np.zeros(len(fy))\n",
    "net_invest = np.zeros(len(fy))\n",
    "fcff = np.zeros(len(fy))\n",
    "disc_fact = np.zeros(len(fy))\n",
    "disc_fcff = np.zeros(len(fy))                \n",
    "\n",
    "# calculate values in table \n",
    "for i in range(1,len(fy)): \n",
    "    net_op[i] = rev[i]*nopm # net operating profit\n",
    "    adj_taxes[i] = net_op[i]*tr # net operating profit adjusted for taxes\n",
    "    nopat[i] = net_op[i]-adj_taxes[i] # after tax net operating profit\n",
    "    invest[i] = rev[i]*ir # future investments\n",
    "    depre[i] = rev[i]*dr # future depreciations\n",
    "    net_invest[i] = invest[i]-depre[i] # net investments\n",
    "    fcff[i] = nopat[i]-net_invest[i]-ciwc[i] # free cash flow to the firm\n",
    "    disc_fact[i] = 1/((1+wacc)**i) # discount factor\n",
    "    disc_fcff[i] = disc_fact[i]*fcff[i] # discounted free cash flow to the firm\n",
    "    \n",
    "dcrv = nopat[-1]/wacc*disc_fact[-1] # discounted corporate residual value\n",
    "derp_fcff = disc_fcff.sum() # discounted excess return period FCFF\n",
    "\n",
    "tcv = derp_fcff+dcrv+sta # total corporate value\n",
    "tvce = tcv-vod-vps-stl # total value of common equity\n",
    "isv = tvce/so # intrinsic stock value\n",
    "\n",
    "# print cash flows in a table\n",
    "print('{:4s}{:>10s}{:>10s}{:>10s}{:>10s}{:>10s}{:>10s}{:>10s}{:>10s}{:>10s}{:>10s}{:>10s}'.format('Year','Rev','NOP','AdjTaxes',\n",
    "    'NOPAT','Invest.','Deprec.','dInvest.','dWC','FCFF','DF','DF*FCFF'))\n",
    "for i in range(len(fy)):\n",
    "    print('{:4.0f}{:10,.0f}{:10,.0f}{:10,.0f}{:10,.0f}{:10,.0f}{:10,.0f}{:10,.0f}{:10,.0f}{:10,.0f}{:10,.4f}{:10,.0f}'.format(fy[i],\n",
    "        rev[i]/1e6,net_op[i]/1e6,adj_taxes[i]/1e6,nopat[i]/1e6,invest[i]/1e6,depre[i]/1e6,(invest[i]-depre[i])/1e6,ciwc[i]/1e6,\n",
    "        fcff[i]/1e6,disc_fact[i],disc_fcff[i]/1e6))"
   ]
  },
  {
   "cell_type": "code",
   "execution_count": 49,
   "metadata": {},
   "outputs": [
    {
     "name": "stdout",
     "output_type": "stream",
     "text": [
      "discounted excess return period FCFF: $34.76B\n",
      "discounted corporate residual value: $101.68B\n",
      "total corporate value: $169.71B\n",
      "total value of common equity: $108.24B\n",
      "intrinsic stock value, scenario 1 case: $49.67\n",
      "current stock price: $64.12\n"
     ]
    }
   ],
   "source": [
    "# Intrinsic Value\n",
    "print('discounted excess return period FCFF: ${:,.2f}B'.format(derp_fcff/1e9))\n",
    "print('discounted corporate residual value: ${:,.2f}B'.format(dcrv/1e9))\n",
    "print('total corporate value: ${:,.2f}B'.format(tcv/1e9))\n",
    "print('total value of common equity: ${:,.2f}B'.format(tvce/1e9))\n",
    "tvce_S1 = tvce # save value as scenario 1\n",
    "isv_S1 = isv # save the isv for scenario 1 case\n",
    "print('intrinsic stock value, scenario 1 case: ${:,.2f}'.format(isv_S1))\n",
    "print('current stock price: ${:,.2f}'.format(csp))"
   ]
  },
  {
   "cell_type": "markdown",
   "metadata": {},
   "source": [
    "The DCF model calculates with adjustments an intrinsic stock value of \\\\$49, which is less than the current stock price. Adjusting the WACC to 6% would make the ISV about equal to the current stock price. WACC of 8% is used to provide a margin of safety."
   ]
  },
  {
   "cell_type": "code",
   "execution_count": null,
   "metadata": {},
   "outputs": [],
   "source": []
  },
  {
   "cell_type": "markdown",
   "metadata": {},
   "source": [
    "## 5) NACI stock selection guide analysis <a id=\"section5\"></a>\n",
    "This analysis follows the NAIC stock selection guide (SSG) [2].  The SSG relates revenue growth, EPS and share price history and makes a prediction about the future share price.    \n",
    "\n",
    "The National Association of Investors Clubs (NAIC) is a nonprofit organization dedicated to educating individual investors and investment clubs to become successful lifelong investors.  NAIC's Stock Selection Guide (SSG) is used in the following cells to analyze the company's growth and whether the stock is selling at a reasonable price.\n",
    "\n",
    "The SSG was originally developed in the 1950s as a paper worksheet by the not-for-profit National Association of Investors Corporation (NAIC). The SSG aims to aid individual investors in the fundamental analysis and selection of common stocks by reviewing components of a company's growth, quality, and value."
   ]
  },
  {
   "cell_type": "code",
   "execution_count": 50,
   "metadata": {},
   "outputs": [],
   "source": [
    "#column names: fiscal years \n",
    "years_list = df_NAIC_financials.columns[1:].values.astype('str')[::-1]\n",
    "\n",
    "# convert years to datetime format\n",
    "year_ended_list = []\n",
    "for i in years_list:\n",
    "    year_ended_list.append(datetime.strptime(i, '%Y'))\n",
    "\n",
    "#line 0: revenue  \n",
    "revenue = df_NAIC_financials.iloc[0].to_numpy()[1:].astype('float')[::-1]\n",
    "#line 1: earnings per share\n",
    "EPS = df_NAIC_financials.iloc[1].to_numpy()[1:].astype('float')[::-1]"
   ]
  },
  {
   "cell_type": "markdown",
   "metadata": {},
   "source": [
    "### NAIC section 1: Visual analysis\n",
    "\n",
    "**High and low price history for each year**  \n",
    "From the daily price history obtained from yahoo finance, the high and low closing price for each is obtained and the data saved to the financial data frame as new columns."
   ]
  },
  {
   "cell_type": "code",
   "execution_count": 51,
   "metadata": {},
   "outputs": [],
   "source": [
    "fy_open = []\n",
    "fy_close = []\n",
    "fy_high = []\n",
    "fy_low = []\n",
    "\n",
    "for i in year_ended_list:\n",
    "    start = i\n",
    "    end = i + relativedelta(years=1)\n",
    "    p1 = df_price_history.truncate(before=start, after=end)\n",
    "    if len(p1) == 0:\n",
    "        fy_open.append(np.nan)\n",
    "        fy_close.append(np.nan)        \n",
    "        fy_high.append(np.nan)\n",
    "        fy_low.append(np.nan)\n",
    "    else:\n",
    "        fy_open.append(p1['Open'].iloc[0])\n",
    "        fy_close.append(p1['Close'].iloc[-1])        \n",
    "        fy_high.append(p1['Close'].max())\n",
    "        fy_low.append(p1['Close'].min())\n",
    "\n",
    "# convert from list to numpy array\n",
    "fy_open = np.asarray(fy_open)\n",
    "fy_close = np.asarray(fy_close)\n",
    "fy_high = np.asarray(fy_high)\n",
    "fy_low = np.asarray(fy_low)"
   ]
  },
  {
   "cell_type": "markdown",
   "metadata": {},
   "source": [
    "**Plotting the data**  \n",
    "The annual sales, EPS and the high and low share price is plotted on a semilog plot. A consistent percentage change in the data will plot on the semi-log chart as a straight line.\n",
    "\n",
    "The stock price is plotted separately from the sales and earnings for clarity.\n"
   ]
  },
  {
   "cell_type": "code",
   "execution_count": 52,
   "metadata": {},
   "outputs": [
    {
     "data": {
      "image/png": "[encoded data removed]",
      "text/plain": [
       "<Figure size 1080x360 with 2 Axes>"
      ]
     },
     "metadata": {
      "needs_background": "light"
     },
     "output_type": "display_data"
    }
   ],
   "source": [
    "# Set the locator\n",
    "locator = mdates.YearLocator()  # every year\n",
    "fmt = mdates.DateFormatter('%Y')\n",
    "\n",
    "# figsize() function to adjust the size\n",
    "plt.subplots(figsize=(15, 5))\n",
    "\n",
    "# using subplot function and creating\n",
    "# plot one\n",
    "plt.subplot(1, 2, 1)\n",
    "width = 3  # the width of the bars\n",
    "#plt.bar(year_ended_list,fy_high-fy_low, width,bottom=fy_low,label='price')\n",
    "j = 0\n",
    "for i in year_ended_list:\n",
    "    color = 'green'\n",
    "    if fy_open[j] > fy_close[j]: color= 'red'\n",
    "    # high/low lines\n",
    "    plt.plot([i,i],[fy_low[j],fy_high[j]],color=color, linewidth=width)\n",
    "    # open marker\n",
    "    plt.plot([i,i-relativedelta(months=1)], [fy_open[j],fy_open[j]], color=color, linewidth=width)\n",
    "    # close marker\n",
    "    plt.plot([i,i+relativedelta(months=1)], [fy_close[j],fy_close[j]], color=color, linewidth=width)\n",
    "    j += 1\n",
    "\n",
    "X = plt.gca().xaxis\n",
    "X.set_major_locator(locator)\n",
    "# Specify formatter\n",
    "X.set_major_formatter(fmt)\n",
    "plt.gcf().autofmt_xdate()\n",
    "\n",
    "plt.ylim((20,80))\n",
    "plt.title('Yearly stock high and low price range')\n",
    "plt.ylabel('stock price, $')\n",
    "#plt.legend()\n",
    "plt.grid()\n",
    "\n",
    "# using subplot function and creating plot two\n",
    "plt.subplot(1, 2, 2)\n",
    "\n",
    "plt.plot(year_ended_list,revenue/1e9,'+-',label='revenue, $B')\n",
    "plt.plot(year_ended_list,EPS,'+-',label='EPS, $')\n",
    "\n",
    "X = plt.gca().xaxis\n",
    "X.set_major_locator(locator)\n",
    "# Specify formatter\n",
    "X.set_major_formatter(fmt)\n",
    "plt.gcf().autofmt_xdate()\n",
    "\n",
    "#plt.yscale('log')\n",
    "#plt.yticks([0.1,1,10,100,1000,10000],['0.1','1','10','100','1000','10000'])\n",
    "#plt.ylim((0.1,1000))\n",
    "plt.title('Revenue and EPS')\n",
    "plt.ylabel('Revenue and EPS')\n",
    "plt.legend()\n",
    "\n",
    "plt.grid()\n",
    "\n",
    "# space between the plots\n",
    "plt.tight_layout(4)\n",
    "\n",
    "# show plot\n",
    "plt.show()"
   ]
  },
  {
   "cell_type": "markdown",
   "metadata": {},
   "source": [
    "**Observation:**  \n",
    "Share price has been trading in the 50 to 78 dollar range the last 7 years, indicating that the market is not impressed with the company. Average EPS (ignoring 2020) has been flat.  \n",
    "\n",
    "The GAAP loss per share of \\\\$3.99 in 2020 as compared to the GAAP EPS of \\\\$2.01 in 2019 was primarily due to the IPRD charge resulting from the MyoKardia asset acquisition and charges relating to the Celgene acquisition including: \n",
    "1. amortization of acquired intangible assets\n",
    "2. the unwinding of inventory fair value adjustments\n",
    "3. tax charges resulting from an internal transfer of certain intangible assets and the Otezla* divestiture, partially offset by higher revenues and fair value adjustments to contingent value rights and equity investments\n",
    "\n",
    "After adjusting for specified items, non-GAAP EPS increased \\\\$1.75 as result of the Celgene acquisition."
   ]
  },
  {
   "cell_type": "code",
   "execution_count": null,
   "metadata": {},
   "outputs": [],
   "source": []
  },
  {
   "cell_type": "markdown",
   "metadata": {},
   "source": [
    "### NAIC section 3, Price earnings history\n",
    "Section 3 of the SSG is the Price-Earnings history.  The following table is built from the high and low prices each year and the earnings per share. The high and low Price/Earnings ratios are calculated for each year and are listed in the columns labeled h-per and l-per."
   ]
  },
  {
   "cell_type": "code",
   "execution_count": 53,
   "metadata": {},
   "outputs": [
    {
     "name": "stdout",
     "output_type": "stream",
     "text": [
      "year      high       low       eps     h-per     l-per\n",
      "2010     27.93     22.44      1.80     15.52     12.47\n",
      "2011     35.29     24.97      2.18     16.19     11.45\n",
      "2012     36.15     30.81      1.17     30.90     26.33\n",
      "2013     53.84     32.71      1.56     34.51     20.97\n",
      "2014     61.30     46.59      1.21     50.66     38.50\n",
      "2015     70.71     57.30      0.94     75.22     60.96\n",
      "2016     76.77     49.23      2.67     28.75     18.44\n",
      "2017     65.35     46.82      0.61    107.13     76.75\n",
      "2018     68.98     48.76      3.01     22.92     16.20\n",
      "2019     64.19     42.77      2.02     31.78     21.17\n",
      "2020     67.43     46.40     -3.99    -16.90    -11.63\n",
      "2021     69.31     53.63      3.15     22.00     17.03\n"
     ]
    }
   ],
   "source": [
    "print('{:4s}{:>10s}{:>10s}{:>10s}{:>10s}{:>10s}'.format('year','high','low','eps',\n",
    "    'h-per','l-per'))\n",
    "for i in range(len(year_ended_list)):\n",
    "    print('{:s}{:10,.2f}{:10,.2f}{:10,.2f}{:10,.2f}{:10,.2f}'.format(year_ended_list[i].strftime(\"%Y\"),\n",
    "        fy_high[i], fy_low[i],EPS[i],\n",
    "        fy_high[i]/EPS[i],\n",
    "        fy_low[i]/EPS[i]))"
   ]
  },
  {
   "cell_type": "markdown",
   "metadata": {},
   "source": [
    "**Average high and P/E for select years**   \n",
    "The average price to earning ratio based on high and low stock prices is calculated."
   ]
  },
  {
   "cell_type": "code",
   "execution_count": 54,
   "metadata": {},
   "outputs": [
    {
     "name": "stdout",
     "output_type": "stream",
     "text": [
      "average high P/E 34.89\n",
      "average low P/E 25.72\n"
     ]
    }
   ],
   "source": [
    "#Average high P/E for years \n",
    "pe_avg_high = (fy_high/EPS).mean()\n",
    "print('average high P/E {:.2f}'.format(pe_avg_high))\n",
    "#Average low P/E for years \n",
    "pe_avg_low = (fy_low/EPS).mean()\n",
    "print('average low P/E {:.2f}'.format(pe_avg_low))"
   ]
  },
  {
   "cell_type": "markdown",
   "metadata": {},
   "source": [
    "#### Estimate future EPS\n",
    "A least squares fit is used to get the slope of the EPS data points."
   ]
  },
  {
   "cell_type": "code",
   "execution_count": 55,
   "metadata": {},
   "outputs": [
    {
     "name": "stdout",
     "output_type": "stream",
     "text": [
      "EPS slope: -0.10\n"
     ]
    }
   ],
   "source": [
    "# get linear fit for eps\n",
    "y = EPS\n",
    "x = np.arange(len(y))\n",
    "A = np.vstack([x, np.ones(len(x))]).T\n",
    "m, c = np.linalg.lstsq(A, y, rcond=None)[0]\n",
    "print('EPS slope: {:.2f}'.format(m))\n",
    "\n",
    "lstsq_fit = m*x + c  # data points for each year"
   ]
  },
  {
   "cell_type": "code",
   "execution_count": 56,
   "metadata": {},
   "outputs": [
    {
     "data": {
      "image/png": "[encoded data removed]",
      "text/plain": [
       "<Figure size 432x288 with 1 Axes>"
      ]
     },
     "metadata": {
      "needs_background": "light"
     },
     "output_type": "display_data"
    }
   ],
   "source": [
    "# Set the locator\n",
    "locator = mdates.YearLocator()  # every year\n",
    "fmt = mdates.DateFormatter('%Y')\n",
    "\n",
    "fig, ax1 = plt.subplots()\n",
    "ax1.set_ylabel('EPS')\n",
    "\n",
    "ax1.plot(year_ended_list,EPS, 'o',label='EPS')\n",
    "ax1.plot(year_ended_list,lstsq_fit, '-',label='least squares fit')\n",
    "\n",
    "ax1.tick_params(axis='y')\n",
    "#ax1.set_ylim((0,4))\n",
    "ax1.legend()\n",
    "plt.grid()\n",
    "\n",
    "X = plt.gca().xaxis\n",
    "X.set_major_locator(locator)\n",
    "# Specify formatter\n",
    "X.set_major_formatter(fmt)\n",
    "plt.gcf().autofmt_xdate()\n",
    "\n",
    "plt.title('EPS and least squares fit')\n",
    "plt.show()"
   ]
  },
  {
   "cell_type": "markdown",
   "metadata": {},
   "source": [
    "Using the equation for the best fit line, find the y value for the eps point at five years in the future."
   ]
  },
  {
   "cell_type": "code",
   "execution_count": 57,
   "metadata": {},
   "outputs": [
    {
     "name": "stdout",
     "output_type": "stream",
     "text": [
      "estimated eps in 5 years: 0.3\n"
     ]
    }
   ],
   "source": [
    "# estimated eps in 5 years\n",
    "eps_5yr_est = m*(x[-1]+5) + c\n",
    "print('estimated eps in 5 years: {:.1f}'.format(eps_5yr_est))"
   ]
  },
  {
   "cell_type": "markdown",
   "metadata": {},
   "source": [
    "Using the high and low price to earning ratio from above and the projected eps, calculate the range of stock price in five years."
   ]
  },
  {
   "cell_type": "code",
   "execution_count": 58,
   "metadata": {},
   "outputs": [
    {
     "name": "stdout",
     "output_type": "stream",
     "text": [
      "estimated price range in 5 years: $8.99 to $12.19\n"
     ]
    }
   ],
   "source": [
    "naic_price_eps_low = eps_5yr_est*pe_avg_low\n",
    "naic_price_eps_high = eps_5yr_est*pe_avg_high\n",
    "print('estimated price range in 5 years: ${:.2f} to ${:.2f}'.format(naic_price_eps_low,naic_price_eps_high))"
   ]
  },
  {
   "cell_type": "markdown",
   "metadata": {},
   "source": [
    "This is the estimated price range of the stock based on projected EPS and is a guide for what the stock price might be if conditions remain the same. Since the slope of the EPS history is negative, the projected stock price is negative. "
   ]
  },
  {
   "cell_type": "code",
   "execution_count": null,
   "metadata": {},
   "outputs": [],
   "source": []
  },
  {
   "cell_type": "markdown",
   "metadata": {},
   "source": [
    "**Load financial data from metrics sheet**"
   ]
  },
  {
   "cell_type": "code",
   "execution_count": 59,
   "metadata": {},
   "outputs": [],
   "source": [
    "#column names: fiscal years \n",
    "years_list = df_metrics.columns[1:].values.astype('str')[::-1]\n",
    "\n",
    "# convert years to datetime format\n",
    "year_ended_list = []\n",
    "for i in years_list:\n",
    "    year_ended_list.append(datetime.strptime(i, '%Y'))"
   ]
  },
  {
   "cell_type": "code",
   "execution_count": 60,
   "metadata": {},
   "outputs": [],
   "source": [
    "#line 0: Total revenue\n",
    "total_revenue = df_metrics.iloc[0].to_numpy()[1:].astype('float')[::-1]\n",
    "#line 1: Net income\n",
    "net_income = df_metrics.iloc[1].to_numpy()[1:].astype('float')[::-1]\n",
    "# line 2: Shareholder equity\n",
    "shareholder_equity =  df_metrics.iloc[2].to_numpy()[1:].astype('float')[::-1]\n",
    "#line 3: Total liabilities\n",
    "total_liabilities = df_metrics.iloc[3].to_numpy()[1:].astype('float')[::-1]\n",
    "# line 4: Free cash flow, Net cash provided by operating activities \n",
    "free_cash_flow =  df_metrics.iloc[4].to_numpy()[1:].astype('float')[::-1]\n",
    "# line 5: Dividends\n",
    "dividends =  df_metrics.iloc[5].to_numpy()[1:].astype('float')[::-1]\n",
    "#line 6: Total assets\n",
    "total_assets = df_metrics.iloc[6].to_numpy()[1:].astype('float')[::-1]\n",
    "#line 8: Dividends per share  \n",
    "dps = df_metrics.iloc[8].to_numpy()[1:].astype('float')[::-1]\n",
    "#line 9: Total tangible assets\n",
    "total_tangible_assets = df_metrics.iloc[9].to_numpy()[1:].astype('float')[::-1]"
   ]
  },
  {
   "cell_type": "markdown",
   "metadata": {},
   "source": [
    "#### NAIC section 3: 5 year estimated EPS, preferred method\n",
    "See page 87 and figure 10-1, Need the following data:  \n",
    "- estimate sales in 5 years based on sales growth\n",
    "- NOPM\n",
    "- Tax rate\n",
    "- shares outstanding  \n",
    "\n",
    "Net Operating Profit should reflect the future revenue generating ability and expense requirements of the operating business that comprise the ongoing operations of the company.\n",
    "\n",
    "$\\text{NOPM} = \\frac{\\text{Revenue} - \\text{Expenses}}{\\text{Revenue}}$  \n",
    " \n",
    "Tax payments are taken from the consolidated income statement, provision for income taxes.  The effect of taxes on profits is accounted for. \n",
    "\n",
    "$\\text{Tax rate} = \\frac{\\text{Income taxes}}{\\text{Income before income taxes}}$\n",
    "\n",
    "To get future EPS\n",
    "\n",
    "$\\text{future EPS} = \\frac {\\text{future revenue} \\times  \\text{NOPM} \\times \\text{(1-tax rate)}}{\\text{number of shares}}$\n",
    "\n",
    "\n",
    "**Revenue and least square fit**"
   ]
  },
  {
   "cell_type": "code",
   "execution_count": 61,
   "metadata": {},
   "outputs": [
    {
     "name": "stdout",
     "output_type": "stream",
     "text": [
      "revenue slope: 2082.11\n"
     ]
    }
   ],
   "source": [
    "# get linear fit for revenue\n",
    "y = df_dcf_data['revenue']/1e6\n",
    "x = np.arange(len(y))\n",
    "A = np.vstack([x, np.ones(len(x))]).T\n",
    "m, c = np.linalg.lstsq(A, y, rcond=None)[0]\n",
    "print('revenue slope: {:.2f}'.format(m))\n",
    "\n",
    "lstsq_fit = m*x + c  # data points for each year"
   ]
  },
  {
   "cell_type": "code",
   "execution_count": 62,
   "metadata": {},
   "outputs": [
    {
     "data": {
      "image/png": "[encoded data removed]",
      "text/plain": [
       "<Figure size 432x288 with 1 Axes>"
      ]
     },
     "metadata": {
      "needs_background": "light"
     },
     "output_type": "display_data"
    }
   ],
   "source": [
    "# Set the locator\n",
    "locator = mdates.YearLocator()  # every year\n",
    "fmt = mdates.DateFormatter('%Y')\n",
    "\n",
    "fig, ax1 = plt.subplots()\n",
    "ax1.set_ylabel('dollars, $M')\n",
    "\n",
    "ax1.plot(year_ended_list,df_dcf_data['revenue']/1e6, 'o',label='revenue')\n",
    "ax1.plot(year_ended_list,lstsq_fit, '-',label='least squares fit')\n",
    "\n",
    "ax1.tick_params(axis='y')\n",
    "#ax1.set_ylim((0,4))\n",
    "ax1.legend()\n",
    "plt.grid()\n",
    "\n",
    "X = plt.gca().xaxis\n",
    "X.set_major_locator(locator)\n",
    "# Specify formatter\n",
    "X.set_major_formatter(fmt)\n",
    "plt.gcf().autofmt_xdate()\n",
    "\n",
    "plt.title('Revenue and least squares fit')\n",
    "plt.show()"
   ]
  },
  {
   "cell_type": "markdown",
   "metadata": {},
   "source": [
    "Using the equation for the best fit line, find the y value for the EPS point at five years in the future."
   ]
  },
  {
   "cell_type": "code",
   "execution_count": 63,
   "metadata": {},
   "outputs": [
    {
     "name": "stdout",
     "output_type": "stream",
     "text": [
      "estimated rev in 5 years: $45,610.9M\n"
     ]
    }
   ],
   "source": [
    "# estimated revenue in 5 years\n",
    "rev_5yr_est = m*(x[-1]+5) + c\n",
    "print('estimated rev in 5 years: ${:,.1f}M'.format(rev_5yr_est))"
   ]
  },
  {
   "cell_type": "markdown",
   "metadata": {},
   "source": [
    "need to include estimate of number of shares outstanding in 5 years"
   ]
  },
  {
   "cell_type": "code",
   "execution_count": 64,
   "metadata": {},
   "outputs": [
    {
     "name": "stdout",
     "output_type": "stream",
     "text": [
      "starting revenues: $46.38\n"
     ]
    }
   ],
   "source": [
    "print('starting revenues: ${:,.2f}'.format(rev_start/1e9))"
   ]
  },
  {
   "cell_type": "markdown",
   "metadata": {},
   "source": [
    "Using the adjusted NOPM and tax rate from scenario 1.  \n",
    "adjusted DCF input values and rates  \n",
    "- excess return period: 5 years\n",
    "- revenue growth rate: 10.0%\n",
    "- net operating profit margin: 20.00%\n",
    "- tax rate: 20.00%\n",
    "- depreciation rate: 10.00%\n",
    "- investment rate: 10.00%\n",
    "- working capital rate: 20.0%\n",
    "- weighted average cost of capital: 8.0%"
   ]
  },
  {
   "cell_type": "code",
   "execution_count": 65,
   "metadata": {},
   "outputs": [],
   "source": [
    "pm_nopm = 20/100\n",
    "pm_tax_rate = 20/100"
   ]
  },
  {
   "cell_type": "code",
   "execution_count": 66,
   "metadata": {},
   "outputs": [
    {
     "name": "stdout",
     "output_type": "stream",
     "text": [
      "using preferred method: estimated eps in 5 years: $3.35\n"
     ]
    }
   ],
   "source": [
    "pm_eps_5yr_est = rev_5yr_est*pm_nopm*(1-pm_tax_rate)*1e6/df_dcf_data['shares_outstanding'].iloc[-1] \n",
    "#pm_eps_5yr_est = rev_5yr_est*nopm_avg*1e6/df_dcf_data['shares_outstanding'].iloc[-1] \n",
    "print('using preferred method: estimated eps in 5 years: ${:.2f}'.format(pm_eps_5yr_est))"
   ]
  },
  {
   "cell_type": "markdown",
   "metadata": {},
   "source": [
    "Using the high and low price to earning ratio from above and the projected EPS, calculate the range of stock price in five years."
   ]
  },
  {
   "cell_type": "code",
   "execution_count": 67,
   "metadata": {},
   "outputs": [
    {
     "name": "stdout",
     "output_type": "stream",
     "text": [
      "estimated price range in 5 years from preferred method: 86.14 to 116.85\n"
     ]
    }
   ],
   "source": [
    "naic_price_pm_low = pm_eps_5yr_est*pe_avg_low\n",
    "naic_price_pm_high = pm_eps_5yr_est*pe_avg_high\n",
    "print('estimated price range in 5 years from preferred method: {:.2f} to {:.2f}'.format(naic_price_pm_low,naic_price_pm_high))"
   ]
  },
  {
   "cell_type": "markdown",
   "metadata": {},
   "source": [
    "**Observation:** \n",
    "Based on revenue growth, the projected stock price is a bit higher than the current price. However, based on price history, the stock is not expected to appreciate."
   ]
  },
  {
   "cell_type": "markdown",
   "metadata": {},
   "source": [
    "## 6) Future stock price <a id=\"section6\"></a>\n",
    "The projected future stock price is estimated from the results shown in this notebook based on DCF intrinsic stock value, the NAIC method or a combination of both. The DCF method does not consider market sentiment or popularity of the stock, whereas the NAIC method looks at the PE and EPS to develop the historical consensus that the market has put on the price of the stock. Both the NAIC and the DCF valuation should be considered. The DCF valuation is of the current ISV which is used as an indication of the future value, since it is assumed that the market price will converge eventually to the intrinsic value. \n",
    "\n",
    "The estimated future stock price considers the following:  \n",
    "- base case ISV\n",
    "- Senario ISV\n",
    "- NAIC EPS growth\n",
    "- NAIC preferred method\n",
    "\n",
    "Using 5 year NAIC as a conservative estimate for the 10 year value and the analysis results, a judgment call is made concerning the price to put on the future value of the stock.  "
   ]
  },
  {
   "cell_type": "code",
   "execution_count": 68,
   "metadata": {},
   "outputs": [
    {
     "name": "stdout",
     "output_type": "stream",
     "text": [
      "estimated price range in 5 years from EPS: $8.99 to $12.19\n",
      "estimated price range in 5 years from preferred method: $86.14 to $116.85\n",
      "intrinsic stock value, baseline case: $522.12\n",
      "intrinsic stock value, scenario 1 case: $49.67\n",
      "current stock price: $64.12\n"
     ]
    }
   ],
   "source": [
    "print('estimated price range in 5 years from EPS: ${:.2f} to ${:.2f}'.format(naic_price_eps_low,naic_price_eps_high))\n",
    "print('estimated price range in 5 years from preferred method: ${:.2f} to ${:.2f}'.format(naic_price_pm_low,naic_price_pm_high))\n",
    "\n",
    "print('intrinsic stock value, baseline case: ${:,.2f}'.format(isv_baseline))\n",
    "print('intrinsic stock value, scenario 1 case: ${:,.2f}'.format(isv_S1))\n",
    "\n",
    "print('current stock price: ${:,.2f}'.format(csp))"
   ]
  },
  {
   "cell_type": "markdown",
   "metadata": {},
   "source": [
    "The estimated price range in 5 years from the preferred method is \\\\$86.14 to \\\\$116.85. Taking the average and using that value on the IRR calculations.   "
   ]
  },
  {
   "cell_type": "code",
   "execution_count": 69,
   "metadata": {},
   "outputs": [
    {
     "name": "stdout",
     "output_type": "stream",
     "text": [
      "estimated future stock price: $101.50\n"
     ]
    }
   ],
   "source": [
    "fsp = (86.14 + 116.85)/2 # final stock price, $\n",
    "print('estimated future stock price: ${:,.2f}'.format(fsp))"
   ]
  },
  {
   "cell_type": "code",
   "execution_count": null,
   "metadata": {},
   "outputs": [],
   "source": []
  },
  {
   "cell_type": "markdown",
   "metadata": {},
   "source": [
    "## 7) Dividend payout <a id=\"section7\"></a>\n",
    "The dividend payout examines the amount shareholders are getting from the company relative to earnings or revenue. It is an important metric to determine how the business is operating and whether it has enough growth potential.\n",
    "\n",
    "### Dividend history"
   ]
  },
  {
   "cell_type": "code",
   "execution_count": 70,
   "metadata": {},
   "outputs": [
    {
     "data": {
      "image/png": "[encoded data removed]",
      "text/plain": [
       "<Figure size 432x288 with 2 Axes>"
      ]
     },
     "metadata": {
      "needs_background": "light"
     },
     "output_type": "display_data"
    }
   ],
   "source": [
    "# calculate the percent change in dividends\n",
    "pcd = np.zeros(len(dps)) # percent change in dividend\n",
    "for i in range(len(dps[0:-1])):\n",
    "    pcd[i+1] = ((dps[i+1] - dps[i])/\n",
    "                dps[i+1])*100\n",
    "\n",
    "width = 100\n",
    "\n",
    "# Set the locator\n",
    "locator = mdates.YearLocator()  # every year\n",
    "fmt = mdates.DateFormatter('%Y')\n",
    "\n",
    "fig, ax1 = plt.subplots()\n",
    "ax1.set_ylabel('Dividend per share, $')\n",
    "\n",
    "# plot revenue as single bar\n",
    "plt.bar(year_ended_list,dps, width,color='k')\n",
    "\n",
    "ax1.tick_params(axis='y')\n",
    "plt.grid()\n",
    "\n",
    "# instantiate a second y-axes that shares the same x-axis\n",
    "ax2 = ax1.twinx()\n",
    "color = 'tab:green'\n",
    "\n",
    "ax2.plot(year_ended_list,pcd,'+-g')\n",
    "    \n",
    "ax2.set_ylabel('% Change in dividend',color=color)\n",
    "ax2.tick_params(axis='y', labelcolor=color)\n",
    "ax2.set_ylim((0,20))\n",
    "\n",
    "X = plt.gca().xaxis\n",
    "X.set_major_locator(locator)\n",
    "# Specify formatter\n",
    "X.set_major_formatter(fmt)\n",
    "plt.gcf().autofmt_xdate()\n",
    "\n",
    "plt.title('Dividend history per share')\n",
    "plt.show()"
   ]
  },
  {
   "cell_type": "code",
   "execution_count": 71,
   "metadata": {},
   "outputs": [
    {
     "name": "stdout",
     "output_type": "stream",
     "text": [
      "average dividend growth rate: 4.83%\n"
     ]
    }
   ],
   "source": [
    "adgr = pcd[-6:].mean() #last 6 years\n",
    "print('average dividend growth rate: {:.2f}%'.format(adgr))"
   ]
  },
  {
   "cell_type": "code",
   "execution_count": null,
   "metadata": {},
   "outputs": [],
   "source": []
  },
  {
   "cell_type": "markdown",
   "metadata": {},
   "source": [
    "### Dividend yield\n",
    "Dividend yield equals the annual dividend per share divided by the stock's price per share. The plot below shows the history of dividend yield over the evaluation period."
   ]
  },
  {
   "cell_type": "code",
   "execution_count": 72,
   "metadata": {},
   "outputs": [
    {
     "data": {
      "image/png": "[encoded data removed]",
      "text/plain": [
       "<Figure size 432x288 with 1 Axes>"
      ]
     },
     "metadata": {
      "needs_background": "light"
     },
     "output_type": "display_data"
    }
   ],
   "source": [
    "# Set the locator\n",
    "locator = mdates.YearLocator()  # every year\n",
    "fmt = mdates.DateFormatter('%Y')\n",
    "\n",
    "width = 50  # the width of the bars\n",
    "plt.bar(year_ended_list,(dps/fy_high-dps/fy_low)*100, width,bottom=dps/fy_low*100,label='yield')\n",
    "X = plt.gca().xaxis\n",
    "X.set_major_locator(locator)\n",
    "# Specify formatter\n",
    "X.set_major_formatter(fmt)\n",
    "plt.gcf().autofmt_xdate()\n",
    "\n",
    "plt.ylim((1,6))\n",
    "plt.title('Range of dividend yield each year')\n",
    "plt.ylabel('dividend yield, %')\n",
    "#plt.legend()\n",
    "plt.grid()\n",
    "\n",
    "# show plot\n",
    "plt.show()"
   ]
  },
  {
   "cell_type": "markdown",
   "metadata": {},
   "source": [
    "The dividend yield for the past five years has been in the 2.5 to 3.5 percent range."
   ]
  },
  {
   "cell_type": "markdown",
   "metadata": {},
   "source": [
    "### Dividend payout ratio\n",
    "The dividend payout ratio is a relative measure of how much the company is paying to shareholders in dividends compared to other metrics such as revenue, earnings or cash flow. The dividend payout ratio is plotted as a ratio of dividends to net income, free cash flow (Net cash provided by operating activities) and NOP.  The payout ratio is useful for assessing a dividend's sustainability. Companies are extremely reluctant to cut dividends since it can drive the stock price down and reflect poorly on management's abilities.\n",
    "\n",
    "**Payout ratio using net income**  \n",
    "Payout ratio using net income plots the ratio of dividend payout divided by net income:  \n",
    "$\\frac {\\text{Dividends}}{\\text{Net income}}$  \n",
    "Depending on how net income is listed in the financial statements, it may include large other charges.  \n",
    "\n",
    "**Payout ratio using cash flow**  \n",
    "Payout ratio using net cash flow plots the ratio of dividend payout divided by cash flow:  \n",
    "$\\frac {\\text{Dividends}}{\\text{cash flow}}$  \n",
    "Cash flow from operating activities usually includes a long list of items. Some insight might be obtained from this ratio. The trend should be consistent. \n",
    "\n",
    "**Payout ratio using NOP**  \n",
    "Payout ratio using NOP plots the ratio of dividend payout divided by NOP:  \n",
    "$\\frac {\\text{Dividends}}{\\text{NOP}}$  \n",
    "NOP is calculated above and might be different from net income listed in the financial statements. This ratio should be the lowest numerically of the three plots. "
   ]
  },
  {
   "cell_type": "code",
   "execution_count": 73,
   "metadata": {},
   "outputs": [
    {
     "data": {
      "image/png": "[encoded data removed]",
      "text/plain": [
       "<Figure size 432x288 with 1 Axes>"
      ]
     },
     "metadata": {
      "needs_background": "light"
     },
     "output_type": "display_data"
    }
   ],
   "source": [
    "# Set the locator\n",
    "locator = mdates.YearLocator()  # every year\n",
    "fmt = mdates.DateFormatter('%Y')\n",
    "\n",
    "fig, ax1 = plt.subplots()\n",
    "ax1.set_ylabel('Payout ratio')\n",
    "\n",
    "ax1.plot(year_ended_list,dividends/net_income, '-+',label='Payout ratio using net income')\n",
    "ax1.plot(year_ended_list,dividends/free_cash_flow, '-*',label='Payout ratio using cash flow')\n",
    "ax1.plot(year_ended_list,dividends/nop, '-+',label='dividends/NOP')\n",
    "\n",
    "ax1.tick_params(axis='y')\n",
    "#ax1.set_ylim((0,5))\n",
    "ax1.legend()\n",
    "plt.grid()\n",
    "\n",
    "X = plt.gca().xaxis\n",
    "X.set_major_locator(locator)\n",
    "# Specify formatter\n",
    "X.set_major_formatter(fmt)\n",
    "plt.gcf().autofmt_xdate()\n",
    "\n",
    "plt.title('Payout ratio')\n",
    "plt.show()"
   ]
  },
  {
   "cell_type": "code",
   "execution_count": 74,
   "metadata": {},
   "outputs": [
    {
     "name": "stdout",
     "output_type": "stream",
     "text": [
      "Dividends are paid at 31.9% of net income\n",
      "Dividends are paid at 29.6% of cash flow\n",
      "Dividends are paid at 33.7% of NOP\n"
     ]
    }
   ],
   "source": [
    "# average the last three years\n",
    "print('Dividends are paid at {:.1f}% of net income'.format((dividends/net_income)[-3:].mean()*100))\n",
    "print('Dividends are paid at {:.1f}% of cash flow'.format((dividends/free_cash_flow)[-3:].mean()*100))\n",
    "print('Dividends are paid at {:.1f}% of NOP'.format((dividends/nop)[-3:].mean()*100))"
   ]
  },
  {
   "cell_type": "markdown",
   "metadata": {},
   "source": [
    "Payout ratio using net income: Net income includes large other charges and Amortization of acquired intangible assets.  Large swings in ratio for net income indicates various charges against net income.  \n",
    "Payout ratio using cash flow: A ratio of greater than 1 for 2015. Currently below 33%.     \n",
    "Payout ratio using NOP: Follows ratio based on cash flow.     \n",
    "Dividend pay ratios for the last 3 years are near or below 50%."
   ]
  },
  {
   "cell_type": "code",
   "execution_count": null,
   "metadata": {},
   "outputs": [],
   "source": []
  },
  {
   "cell_type": "markdown",
   "metadata": {},
   "source": [
    "### Internal Rate of Return (IRR) calculations\n",
    "The internal rate of return (IRR) is the discount rate that makes the net present value (NPV) of all cash flows equal to zero in a discounted cash flow analysis. Generally speaking, the higher an internal rate of return, the more desirable an investment is to undertake.\n",
    "\n",
    "As explained above, the stock price has not changed by much over the years, even though the revenue and dividends have been increasing. The final stock price is set equal to the current price."
   ]
  },
  {
   "cell_type": "markdown",
   "metadata": {},
   "source": [
    "Using the average dividend growth rate calculated above, a series of estimated future dividend payments are generated. "
   ]
  },
  {
   "cell_type": "code",
   "execution_count": 75,
   "metadata": {},
   "outputs": [],
   "source": [
    "#adgr = 1/100 # changing the dividend growth rate to 1%\n",
    "\n",
    "fdp = np.zeros(len(dps)) # future dividend payments\n",
    "fdp[0] = dps[-1]\n",
    "for i in range(len(dps[0:-1])):\n",
    "    fdp[i+1] = fdp[i]+fdp[i]*adgr/100"
   ]
  },
  {
   "cell_type": "code",
   "execution_count": 76,
   "metadata": {},
   "outputs": [
    {
     "name": "stdout",
     "output_type": "stream",
     "text": [
      "current stock price: $64.12\n",
      "final stock price: $101.50\n"
     ]
    }
   ],
   "source": [
    "print('current stock price: ${:,.2f}'.format(csp))\n",
    "\n",
    "#fsp = 100 #csp #500 #(csp + 102.05 + 138.82)/3 # final stock price, $\n",
    "print('final stock price: ${:,.2f}'.format(fsp))"
   ]
  },
  {
   "cell_type": "code",
   "execution_count": 77,
   "metadata": {},
   "outputs": [],
   "source": [
    "est_cf = np.copy(fdp) # make a copy of the estimated cash flow\n",
    "\n",
    "# cash flows, initial purchase, dividend payments and final sale\n",
    "est_cf[0] = est_cf[0] - csp # subtract purchase price from the first dividend payment\n",
    "est_cf[-1] = est_cf[-1] + fsp # include the sale price with the final dividend payment"
   ]
  },
  {
   "cell_type": "code",
   "execution_count": 78,
   "metadata": {},
   "outputs": [
    {
     "name": "stdout",
     "output_type": "stream",
     "text": [
      "IRR: 8.01%\n"
     ]
    }
   ],
   "source": [
    "print('IRR: {:.2f}%'.format(np.irr(est_cf)*100))"
   ]
  },
  {
   "cell_type": "markdown",
   "metadata": {},
   "source": [
    "According to global investment bank Goldman Sachs, 10-year stock market returns have averaged 9.2% over the past 140 years. and according to [10-Year Annualized Rolling Returns](https://static.fmgsuite.com/media/documents/bc618705-6161-4c00-be7f-c667c90c61b5.pdf), the long term average is about 10%. However there are many years where the rolling 10 year average return is below 4%.\n",
    "\n",
    "The calculated IRR is 8%, which is a decent return and significantly higher than current interest rates.  "
   ]
  },
  {
   "cell_type": "code",
   "execution_count": null,
   "metadata": {},
   "outputs": [],
   "source": []
  },
  {
   "cell_type": "markdown",
   "metadata": {},
   "source": [
    "## 8) Management performance <a id=\"section8\"></a>\n",
    "The following analysis somewhat follows the Warren Buffett strategy as outlined in [3]. This strategy is essentially value investing where companies are chosen that meet a set of criteria and who's stock price is below the intrinsic value plus a margin of safety. These investments are usually held for the long term.  \n",
    "\n",
    "- [Financial metrics](#section8-1)  \n",
    "The following analysis looks at financial ratios over the evaluation period. Financial ratios can be used to judge management performance. Consistent favorable trends are an indication that management is taking care of the company.\n",
    " - Total liabilities to total assets ratio\n",
    " - Debt to equity and debt to NOP ratios\n",
    " - Financial ratios: RoE, RoA and PM\n",
    " - NAIC section 2: Evaluating management\n",
    " - Normalized data from consolidated statements\n",
    "- [Market metrics](#section8-2)\n",
    " - One dollar premise\n",
    " - Share price vs EPS\n",
    " - Market capitalization\n",
    "- [Qualitative metrics](#section8-3)\n",
    " - Simple and understandable business model\n",
    " - Favorable long term prospects\n",
    " - Commodity reliance\n",
    " - Consistent operating history\n",
    " - rationality:  \n",
    "    1. focus on core aspects\n",
    "    2. only invest in high ROE businesses\n",
    "    3. focus on shareholder equity"
   ]
  },
  {
   "cell_type": "code",
   "execution_count": null,
   "metadata": {},
   "outputs": [],
   "source": []
  },
  {
   "cell_type": "markdown",
   "metadata": {},
   "source": [
    "### Financial metrics <a id=\"section8-1\"></a>\n",
    "The following financial metrics are examined over the evaluation period. We are looking for favorable trends and evidence of consistent operations. Some red flags will also be evident in the plots.\n",
    "\n",
    "Red flags:  \n",
    "- Shrinking gross profit margin\n",
    "- Receivables growing faster than sales\n",
    "- Rising debt-to-equity ratio\n",
    "- Several years of revenue trending down\n",
    "- Unsteady cash flow\n",
    "- Rising accounts receivable or inventory in relation to sales\n",
    "- Rising outstanding share count\n",
    "- Consistently higher liabilities than assets\n",
    "- Decreasing gross profit margin\n",
    "- Increasing revenue while cash flow remains the same\n",
    "- Unusual changes in key financial ratios\n"
   ]
  },
  {
   "cell_type": "code",
   "execution_count": null,
   "metadata": {},
   "outputs": [],
   "source": []
  },
  {
   "cell_type": "markdown",
   "metadata": {},
   "source": [
    "#### Total liabilities to total assets ratio\n",
    "The ratio of liabilities to assets is plotted over the evaluation period.  For most companies examined the liabilities are the total liabilities and the ratio is calculated using total assets and total tangible assets.  Total tangible assets have goodwill and intangibles removed from the total. The ratio gives an indication of how much the company is worth versus how much the company owes. Ideally the ratio of liabilities to assets should be less than one."
   ]
  },
  {
   "cell_type": "code",
   "execution_count": 79,
   "metadata": {},
   "outputs": [
    {
     "data": {
      "image/png": "[encoded data removed]",
      "text/plain": [
       "<Figure size 432x288 with 2 Axes>"
      ]
     },
     "metadata": {
      "needs_background": "light"
     },
     "output_type": "display_data"
    }
   ],
   "source": [
    "# Set the locator\n",
    "locator = mdates.YearLocator()  # every year\n",
    "fmt = mdates.DateFormatter('%Y')\n",
    "\n",
    "fig, ax1 = plt.subplots()\n",
    "ax1.set_ylabel('ratio')\n",
    "\n",
    "# plot revenue as single bar\n",
    "ax1.plot(year_ended_list,total_liabilities/total_assets, '-+',label='total liabilities to total assets')\n",
    "ax1.plot(year_ended_list,total_liabilities/total_tangible_assets, '-*',label='total liabilities to total tangible assets')\n",
    "\n",
    "ax1.tick_params(axis='y')\n",
    "ax1.legend(bbox_to_anchor=(1.8, 1))\n",
    "plt.grid()\n",
    "\n",
    "# instantiate a second y-axes that shares the same x-axis\n",
    "ax2 = ax1.twinx()\n",
    "color = 'tab:green'\n",
    "\n",
    "#ax2.plot(year_ended_list,pcd,'+-g')\n",
    "ax2.plot(year_ended_list,(total_assets-total_tangible_assets)/total_assets*100, ':',color=color,\n",
    "    label='intangible assets to total assets')\n",
    "    \n",
    "ax2.set_ylabel('% intangible assets',color=color)\n",
    "ax2.tick_params(axis='y', labelcolor=color)\n",
    "ax2.set_ylim((0,100))\n",
    "ax2.legend(bbox_to_anchor=(1.7, 0))\n",
    "\n",
    "X = plt.gca().xaxis\n",
    "X.set_major_locator(locator)\n",
    "# Specify formatter\n",
    "X.set_major_formatter(fmt)\n",
    "plt.gcf().autofmt_xdate()\n",
    "\n",
    "plt.title('Total liabilities to total assets ratio')\n",
    "plt.show()"
   ]
  },
  {
   "cell_type": "markdown",
   "metadata": {},
   "source": [
    "For the years 2019 and 2020, the ratio of total liabilities to total tangible assets is greater than one at 1.8 on account of acquisitions. The value assigned to goodwill and intangibles is about \\\\$1 billion. The percentage of intangible assets to total assets is also plotted. The ratio indicates the company has taken on a lot of debt relative to assets and is something of concern. 60% of the total assets are intangible is of concern. "
   ]
  },
  {
   "cell_type": "code",
   "execution_count": null,
   "metadata": {},
   "outputs": [],
   "source": []
  },
  {
   "cell_type": "markdown",
   "metadata": {},
   "source": [
    "#### Debt to equity and debt to NOP ratios\n",
    "\n",
    "The debt-to-equity ratio (D/E) is another key characteristic Buffett considers carefully. Buffett prefers to see a small amount of debt so that earnings growth is being generated from shareholders' equity as opposed to borrowed money. The D/E ratio is calculated as follows:\n",
    "\n",
    "$\\text{Debt-to-Equity Ratio} = \\frac {\\text{Total Liabilities}} {\\text{Shareholders' Equity}} \\text{  OR  } \\frac {\\text{Long term debt}} {\\text{Shareholders' Equity}}$\n",
    "\n",
    "This ratio shows the proportion of equity and debt the company uses to finance its assets, and the higher the ratio, the more debt—rather than equity—is financing the company. A high debt level compared to equity can result in volatile earnings and large interest expenses. For a more stringent test, investors sometimes use only long-term debt instead of total liabilities in the calculation above.\n",
    "\n",
    "D/E is the traditional way to look at a company's debt.  Some rules of thumb say that the D/E should not be above 2 or 3.  However the D/E company's typically vary by industry. The ratio of LT debt to NOP gives the number of years it would take the company to pay back debt from NOP, the lower the number the shorter amount of time.\n",
    "\n",
    "$\\text{Debt-to-NOP Ratio} = \\frac {\\text{Total Liabilities}} {\\text{NOP}}$  "
   ]
  },
  {
   "cell_type": "code",
   "execution_count": 80,
   "metadata": {},
   "outputs": [
    {
     "data": {
      "image/png": "[encoded data removed]",
      "text/plain": [
       "<Figure size 432x288 with 1 Axes>"
      ]
     },
     "metadata": {
      "needs_background": "light"
     },
     "output_type": "display_data"
    }
   ],
   "source": [
    "tangible_equity = total_tangible_assets - total_liabilities\n",
    "\n",
    "# Set the locator\n",
    "locator = mdates.YearLocator()  # every year\n",
    "fmt = mdates.DateFormatter('%Y')\n",
    "\n",
    "fig, ax1 = plt.subplots()\n",
    "ax1.set_ylabel('ratio')\n",
    "\n",
    "ax1.plot(year_ended_list,df_dcf_data['long_term_debt']/shareholder_equity, '-^',label='(LT debt)/Equity')\n",
    "#ax1.plot(year_ended_list,df_dcf_data['long_term_debt']/tangible_equity, '-',label='(LT debt)/(Tangible Equity)')\n",
    "ax1.plot(year_ended_list,total_liabilities/shareholder_equity, '-*',label='(total liabilities)/Equity')\n",
    "#ax1.plot(year_ended_list,total_liabilities/BV, '-^',label='(total liabilities)/BV')\n",
    "ax1.plot(year_ended_list,total_liabilities/nop, '-+',label='(total liabilities)/NOP')\n",
    "#ax1.plot(year_ended_list,total_liabilities/net_income, '-+',label='(total liabilities)/(net income)')\n",
    "#ax1.plot(year_ended_list,df_dcf_data['current_liabilities']/nop, '-*',label='(current liabilities)/NOP')\n",
    "#ax1.plot(year_ended_list,Liabilities_wo_deposits/nop, '-+',label='(Liabilities w/o deposits)/NOP')\n",
    "\n",
    "ax1.tick_params(axis='y')\n",
    "#ax1.set_ylim((0,10))\n",
    "#ax1.legend()\n",
    "ax1.legend(bbox_to_anchor=(1.6, 1))\n",
    "plt.grid()\n",
    "\n",
    "X = plt.gca().xaxis\n",
    "X.set_major_locator(locator)\n",
    "# Specify formatter\n",
    "X.set_major_formatter(fmt)\n",
    "plt.gcf().autofmt_xdate()\n",
    "\n",
    "plt.title('Various debt ratios')\n",
    "plt.show()"
   ]
  },
  {
   "cell_type": "markdown",
   "metadata": {},
   "source": [
    "(LT debt)/Equity is plotted and is below 2 for each year in the evaluation period. A threshold of 2 is traditionally the upper limit for a reasonable amount of debt that a company should carry.\n",
    "\n",
    "(total liabilities)/Equity is plotted and except for 2020 has been below the threshold of 2.  \n",
    "\n",
    "(total liabilities)/NOP to is plotted for each year in the evaluation period and except for 2019 is below 10.  A value of 10 has been chosen as the threshold for this ratio and indicates how many years it would take the company to pay off total liabilities from the NOP generated each year. A threshold of ten seems like a reasonable level of debt measured against NOP."
   ]
  },
  {
   "cell_type": "code",
   "execution_count": null,
   "metadata": {},
   "outputs": [],
   "source": []
  },
  {
   "cell_type": "markdown",
   "metadata": {},
   "source": [
    "#### Financial ratios\n",
    "Various ratios can be used to judge management performance. Consistent favorable trends are an indication that management is taking care of the company.\n",
    "\n",
    "**Return on equity**  \n",
    "Sometimes return on equity (RoE) is referred to as stockholder's return on investment. It reveals the rate at which shareholders earn income on their shares. Buffett always looks at RoE to see whether a company has consistently performed well compared to other companies in the same industry. RoE is calculated as follows:\n",
    "\n",
    "$\\text{Return on Equity} = \\frac {\\text{Net Income}} {\\text{Shareholder's Equity}}$\n",
    "\n",
    "Looking at the RoE in just the last year isn't enough. The investor should view the RoE from the past five to 10 years to analyze historical performance.\n",
    "\n",
    "$\\text{Shareholders’ Equity} = \\text{Total Assets} − \\text{Total Liabilities}$    \n",
    "\n",
    "For this company, this method of getting Shareholders’ Equity gives negative values.  On the Consolidated Balance Sheets, there is a line for Total stockholders’ equity, which is used.\n",
    "\n",
    "**Return on Assets**   \n",
    "Return on assets is a profitability ratio that provides how much profit a company is able to generate from its assets. In other words, return on assets (RoA) measures how efficient a company's management is in generating earnings from their economic resources or assets on their balance sheet.\n",
    "\n",
    "$\\text{Return on assets} = \\frac {\\text{Net Income}} {\\text{Total Assets}}$\n",
    "\n",
    "Calculating the RoA of a company can be helpful in comparing a company's profitability over multiple quarters and years as well as comparing to similar companies. However, it's important to compare companies of similar size and industry.\n",
    "\n",
    "For example, banks tend to have a large number of total assets on their books in the form of loans, cash, and investments. A large bank could easily have over \\\\$2 trillion in assets while putting up a net income that's similar to companies in other industries. Although the bank's net income or profit might be similar to an unrelated company and the bank might have high-quality assets, the bank's RoA will be lower. The larger number of total assets must be divided into the net income, creating a lower RoA for the bank.\n",
    "\n",
    "Similarly, auto manufacturing requires huge facilities and specialized equipment. A lucrative software company that sells downloadable programs online may generate the same net profits, but it could have a significantly higher RoA than its more asset-heavy counterparts. When utilizing this metric to compare productivity across businesses, it's important to take into account what types of assets are required to function in a given industry, rather than simply comparing the figures.\n",
    "\n",
    "**Profit Margin**  \n",
    "A company's profitability depends not only on having a good profit margin, but also on consistently increasing it. This margin is calculated by dividing net income by net sales. For a good indication of historical profit margins, investors should look back at least five years. A high-profit margin indicates the company is executing its business well, but increasing margins mean management has been extremely efficient and successful at controlling expenses.\n",
    "\n",
    "$\\text{Profit Margin} = \\frac {\\text{Net Income}} {\\text{Revenue}}$\n"
   ]
  },
  {
   "cell_type": "code",
   "execution_count": 81,
   "metadata": {},
   "outputs": [
    {
     "data": {
      "image/png": "[encoded data removed]",
      "text/plain": [
       "<Figure size 432x288 with 1 Axes>"
      ]
     },
     "metadata": {
      "needs_background": "light"
     },
     "output_type": "display_data"
    }
   ],
   "source": [
    "# Set the locator\n",
    "locator = mdates.YearLocator()  # every year\n",
    "fmt = mdates.DateFormatter('%Y')\n",
    "\n",
    "fig, ax1 = plt.subplots()\n",
    "ax1.set_ylabel('percent')\n",
    "\n",
    "ax1.plot(year_ended_list,net_income/shareholder_equity*100, '-+',label='RoE')\n",
    "ax1.plot(year_ended_list,net_income/total_assets*100, '-*',label='RoA')\n",
    "#ax1.plot(year_ended_list,total_liabilities/shareholder_equity, '-^',label='D/E')\n",
    "ax1.plot(year_ended_list,net_income/total_revenue*100, '-^',label='Profit margin')\n",
    "\n",
    "ax1.tick_params(axis='y')\n",
    "#ax1.set_ylim((0,14))\n",
    "#ax1.legend()\n",
    "ax1.legend(bbox_to_anchor=(1.05, 1))\n",
    "plt.grid()\n",
    "\n",
    "X = plt.gca().xaxis\n",
    "X.set_major_locator(locator)\n",
    "# Specify formatter\n",
    "X.set_major_formatter(fmt)\n",
    "plt.gcf().autofmt_xdate()\n",
    "\n",
    "plt.title('Various ratios')\n",
    "plt.show()"
   ]
  },
  {
   "cell_type": "markdown",
   "metadata": {},
   "source": [
    "**Observation:**  \n",
    "The trends for RoE, RoA and profit margin are shown above. The effect of the acquisition of Celgene has caused these ratios to go negative in 2020. From 2016 to 2019, these ratios had wide variation year to year, with 2017 showing a decline followed by a large increase the following year.  Normally steady performance is better than the erratic variation shown here."
   ]
  },
  {
   "cell_type": "code",
   "execution_count": null,
   "metadata": {},
   "outputs": [],
   "source": []
  },
  {
   "cell_type": "markdown",
   "metadata": {},
   "source": [
    "### NAIC section 2: Evaluating management\n",
    "See page 86, figure 9-1.  \n",
    "- % pretax profit on sales, (net before taxes)/rev\n",
    "- % earned on equity (another way of saying RoE, using calculated equity)\n",
    "\n",
    "Percent earned on equity is a measure of financial performance calculated by dividing net income by equity. Because equity is equal to a company’s assets minus its debt, percent earned on equity is considered the return on net assets. Percent earned on equity is considered a gauge of a corporation's profitability and how efficient it is in generating profits.  "
   ]
  },
  {
   "cell_type": "code",
   "execution_count": 82,
   "metadata": {},
   "outputs": [
    {
     "data": {
      "image/png": "[encoded data removed]",
      "text/plain": [
       "<Figure size 432x288 with 1 Axes>"
      ]
     },
     "metadata": {
      "needs_background": "light"
     },
     "output_type": "display_data"
    }
   ],
   "source": [
    "# Set the locator\n",
    "locator = mdates.YearLocator()  # every year\n",
    "fmt = mdates.DateFormatter('%Y')\n",
    "\n",
    "fig, ax1 = plt.subplots()\n",
    "ax1.set_ylabel('percent')\n",
    "#ax1.plot(year_ended_list,net_income, '-+',label='net income')\n",
    "ax1.plot(year_ended_list,df_dcf_data['income_before_income_taxes']/df_dcf_data['revenue']*100, '-+',\n",
    "         label='income before taxes/rev')\n",
    "#ax1.plot(year_ended_list,df_dcf_data['revenue'], '-+',label='revenue')\n",
    "#ax1.plot(year_ended_list,free_cash_flow, '-*',label='free cash flow')\n",
    "\n",
    "ax1.tick_params(axis='y')\n",
    "#ax1.set_ylim((0,18))\n",
    "#ax1.legend()\n",
    "plt.grid()\n",
    "\n",
    "X = plt.gca().xaxis\n",
    "X.set_major_locator(locator)\n",
    "# Specify formatter\n",
    "X.set_major_formatter(fmt)\n",
    "plt.gcf().autofmt_xdate()\n",
    "\n",
    "plt.title('% pretax profit on sales')\n",
    "plt.show()"
   ]
  },
  {
   "cell_type": "markdown",
   "metadata": {},
   "source": [
    "Over the years 2016 to 2020, pretax profit on sales has a downward trend. Ideally this trend should be increasing or at least flat."
   ]
  },
  {
   "cell_type": "code",
   "execution_count": 83,
   "metadata": {},
   "outputs": [
    {
     "data": {
      "image/png": "[encoded data removed]",
      "text/plain": [
       "<Figure size 432x288 with 1 Axes>"
      ]
     },
     "metadata": {
      "needs_background": "light"
     },
     "output_type": "display_data"
    }
   ],
   "source": [
    "# Set the locator\n",
    "locator = mdates.YearLocator()  # every year\n",
    "fmt = mdates.DateFormatter('%Y')\n",
    "\n",
    "fig, ax1 = plt.subplots()\n",
    "ax1.set_ylabel('percent')\n",
    "\n",
    "#ax1.plot(year_ended_list,shareholder_equity/df_dcf_data['revenue']*100, '-+k',\n",
    "#        label='shareholder equity/rev')\n",
    "#ax1.plot(year_ended_list,net_income/shareholder_equity*100, '-+',label='RoE')\n",
    "ax1.plot(year_ended_list,net_income/(total_assets-total_liabilities)*100, '-+',label='RoE')\n",
    "\n",
    "ax1.tick_params(axis='y')\n",
    "#ax1.set_ylim((0,12))\n",
    "#ax1.legend()\n",
    "plt.grid()\n",
    "\n",
    "X = plt.gca().xaxis\n",
    "X.set_major_locator(locator)\n",
    "# Specify formatter\n",
    "X.set_major_formatter(fmt)\n",
    "plt.gcf().autofmt_xdate()\n",
    "\n",
    "plt.title('% earned on equity')\n",
    "plt.show()"
   ]
  },
  {
   "cell_type": "markdown",
   "metadata": {},
   "source": [
    "Percent earned on equity (another way of saying RoE). Percent earned on equity trend has been flat up to 2015, then became erratic.\n",
    "\n",
    "Percent earned on equity is a measure of financial performance calculated by dividing net income by equity. Because equity is equal to a company’s assets minus its debt, percent earned on equity is considered the return on net assets. Percent earned on equity is considered a gauge of a corporation's profitability and how efficient it is in generating profits.  "
   ]
  },
  {
   "cell_type": "markdown",
   "metadata": {},
   "source": [
    "### Plot normalized data from consolidated statements\n",
    "The following charts examine data from the consolidated financial statements and compare normalized trends over the evaluation period. The first chart plots normalized revenue along with normalized EPS, NOP and free cash flow.  All values are normalized to the starting value in the series. Change relative to the normalized starting value can be seen over the evaluation period. Ideally the normalized parameters plotted should track revenue. Any large departures indicate an area of concern. \n",
    "\n",
    "#### Normalized consolidated statement of income\n",
    "The following chart shows normalized revenue plotted with normalized parameters from the consolidated statement of income."
   ]
  },
  {
   "cell_type": "code",
   "execution_count": 84,
   "metadata": {},
   "outputs": [
    {
     "data": {
      "image/png": "[encoded data removed]",
      "text/plain": [
       "<Figure size 432x288 with 1 Axes>"
      ]
     },
     "metadata": {
      "needs_background": "light"
     },
     "output_type": "display_data"
    }
   ],
   "source": [
    "# Set the locator\n",
    "locator = mdates.YearLocator()  # every year\n",
    "fmt = mdates.DateFormatter('%Y')\n",
    "\n",
    "plt.plot(year_ended_list,revenue/revenue[0],'^-',label='revenue')\n",
    "plt.plot(year_ended_list,EPS/EPS[0],'-.',label='EPS')\n",
    "plt.plot(year_ended_list,nop/nop[0], '-.',label='NOP')\n",
    "plt.plot(year_ended_list,free_cash_flow/free_cash_flow[0], '-.',label='free cash flow')\n",
    "\n",
    "X = plt.gca().xaxis\n",
    "X.set_major_locator(locator)\n",
    "# Specify formatter\n",
    "X.set_major_formatter(fmt)\n",
    "plt.gcf().autofmt_xdate()\n",
    "\n",
    "#plt.ylim((0,3))\n",
    "plt.title('Normalized income data')\n",
    "plt.ylabel('normaized')\n",
    "#plt.legend()\n",
    "plt.legend(bbox_to_anchor=(1.1, 1))\n",
    "\n",
    "plt.grid()\n",
    "\n",
    "# space between the plots\n",
    "#plt.tight_layout(4)\n",
    "\n",
    "# show plot\n",
    "plt.show()"
   ]
  },
  {
   "cell_type": "markdown",
   "metadata": {},
   "source": [
    "The plot above shows a large departure of EPS in 2020 from the trends that were generally following revenue. In 2020 the company acquired Celgene which was the reason given for the negative EPS. Free cash flow and NOP did follow the revenue trend, with free cash flow increasing over revenue for the last four years. "
   ]
  },
  {
   "cell_type": "markdown",
   "metadata": {},
   "source": [
    "#### Normalized consolidated balance sheet\n",
    "The following chart shows normalized revenue plotted with normalized parameters from the consolidated balance sheet."
   ]
  },
  {
   "cell_type": "code",
   "execution_count": 85,
   "metadata": {},
   "outputs": [
    {
     "data": {
      "image/png": "[encoded data removed]",
      "text/plain": [
       "<Figure size 432x288 with 1 Axes>"
      ]
     },
     "metadata": {
      "needs_background": "light"
     },
     "output_type": "display_data"
    }
   ],
   "source": [
    "# Set the locator\n",
    "locator = mdates.YearLocator()  # every year\n",
    "fmt = mdates.DateFormatter('%Y')\n",
    "\n",
    "# set look back range, left_yr is the index into the date range\n",
    "left_yr = 0 #look back to 1st year in the series\n",
    "\n",
    "plt.plot(year_ended_list[left_yr:],revenue[left_yr:]/revenue[left_yr],'^-',label='revenue')\n",
    "plt.plot(year_ended_list[left_yr:],\n",
    "         total_liabilities[left_yr:]/total_liabilities[left_yr],\n",
    "         '-.',label='total liabilities')\n",
    "plt.plot(year_ended_list[left_yr:],\n",
    "         df_dcf_data['current_assets'][left_yr:]/df_dcf_data['current_assets'].iloc[left_yr],\n",
    "         '-.',label='current_assets')\n",
    "plt.plot(year_ended_list[left_yr:],\n",
    "         df_dcf_data['current_liabilities'][left_yr:]/df_dcf_data['current_liabilities'].iloc[left_yr],\n",
    "         '-.',label='current_liabilities')\n",
    "plt.plot(year_ended_list[left_yr:],\n",
    "         df_dcf_data['accounts_receivable'][left_yr:]/df_dcf_data['accounts_receivable'].iloc[left_yr],\n",
    "         '-.',label='accounts_receivable')\n",
    "plt.plot(year_ended_list[left_yr:],\n",
    "         df_dcf_data['inventories'][left_yr:]/df_dcf_data['inventories'].iloc[left_yr],\n",
    "         '-.',label='inventories')\n",
    "\n",
    "X = plt.gca().xaxis\n",
    "X.set_major_locator(locator)\n",
    "# Specify formatter\n",
    "X.set_major_formatter(fmt)\n",
    "\n",
    "plt.gcf().autofmt_xdate()\n",
    "\n",
    "# Changes x-axis range\n",
    "plt.gca().set_xbound(year_ended_list[left_yr], year_ended_list[-1])\n",
    "\n",
    "#plt.ylim((0,4))\n",
    "#plt.xlim([datetime.date(2014, 1, 26), datetime.date(2014, 2, 1)])\n",
    "plt.title('Normalized balance sheet data')\n",
    "plt.ylabel('normalized')\n",
    "#plt.legend()\n",
    "plt.legend(bbox_to_anchor=(1.1, 1))\n",
    "plt.grid()\n",
    "\n",
    "# space between the plots\n",
    "#plt.tight_layout(4)\n",
    "\n",
    "# show plot\n",
    "plt.show()"
   ]
  },
  {
   "cell_type": "markdown",
   "metadata": {},
   "source": [
    "The plot above shows the divergence of several metrics from the revenue trend. Total and current liabilities are outpacing revenue from 2019. The acquisition of Celgene is given as the reason. This divergence is a concern."
   ]
  },
  {
   "cell_type": "code",
   "execution_count": 86,
   "metadata": {},
   "outputs": [
    {
     "data": {
      "image/png": "[encoded data removed]",
      "text/plain": [
       "<Figure size 432x288 with 1 Axes>"
      ]
     },
     "metadata": {
      "needs_background": "light"
     },
     "output_type": "display_data"
    }
   ],
   "source": [
    "# Set the locator\n",
    "locator = mdates.YearLocator()  # every year\n",
    "fmt = mdates.DateFormatter('%Y')\n",
    "\n",
    "# set look back range, left_yr is the index into the date range\n",
    "left_yr = -6\n",
    "\n",
    "plt.plot(year_ended_list[left_yr:],\n",
    "         revenue[left_yr:]/revenue[left_yr],'^-',label='revenue')\n",
    "plt.plot(year_ended_list[left_yr:],\n",
    "         total_liabilities[left_yr:]/total_liabilities[left_yr], '-.',label='total liabilities')\n",
    "plt.plot(year_ended_list[left_yr:],\n",
    "         df_dcf_data['current_assets'][left_yr:]/df_dcf_data['current_assets'].iloc[left_yr],\n",
    "         '-.',label='current_assets')\n",
    "plt.plot(year_ended_list[left_yr:],\n",
    "         df_dcf_data['current_liabilities'][left_yr:]/df_dcf_data['current_liabilities'].iloc[left_yr],\n",
    "         '-.',label='current_liabilities')\n",
    "plt.plot(year_ended_list[left_yr:],\n",
    "         df_dcf_data['accounts_receivable'][left_yr:]/df_dcf_data['accounts_receivable'].iloc[left_yr],\n",
    "         '-.',label='accounts_receivable')\n",
    "plt.plot(year_ended_list[left_yr:],\n",
    "         df_dcf_data['inventories'][left_yr:]/df_dcf_data['inventories'].iloc[left_yr],\n",
    "         '-.',label='inventories')\n",
    "\n",
    "X = plt.gca().xaxis\n",
    "X.set_major_locator(locator)\n",
    "# Specify formatter\n",
    "X.set_major_formatter(fmt)\n",
    "plt.gcf().autofmt_xdate()\n",
    "# Changes x-axis range\n",
    "plt.gca().set_xbound(year_ended_list[left_yr], year_ended_list[-1])\n",
    "\n",
    "#plt.ylim((0,4))\n",
    "plt.title('Normalized balance sheet data')\n",
    "plt.ylabel('normalized')\n",
    "#plt.legend()\n",
    "plt.legend(bbox_to_anchor=(1.6, 1))\n",
    "\n",
    "plt.grid()\n",
    "\n",
    "# space between the plots\n",
    "#plt.tight_layout(4)\n",
    "\n",
    "# show plot\n",
    "plt.show()"
   ]
  },
  {
   "cell_type": "markdown",
   "metadata": {},
   "source": [
    "Looking back over a six year period, total liabilities has diverged from revenue. "
   ]
  },
  {
   "cell_type": "code",
   "execution_count": null,
   "metadata": {},
   "outputs": [],
   "source": []
  },
  {
   "cell_type": "markdown",
   "metadata": {},
   "source": [
    "### Market metrics <a id=\"section8-2\"></a>\n",
    "The share price is determined by the market. The value is determined by the analyst.\n",
    "\n",
    "#### One dollar premise\n",
    "This is a financial test that shows the strength of the business and how well management has rationality allocated to the company's business.\n",
    "\n",
    "From a company's income, subtract all dividends paid to shareholders.  What is left over is the company's retained earnings.  Now add the company's retained earnings over a 10 year period.  Next determine the difference between the company's current market value and its market value 10 years ago.  If the business has employed retained earnings unproductively over this ten year period, the market eventually catches up and will set a lower price on the business. "
   ]
  },
  {
   "cell_type": "code",
   "execution_count": 87,
   "metadata": {},
   "outputs": [
    {
     "name": "stdout",
     "output_type": "stream",
     "text": [
      "retained earnings: $-6.11B\n"
     ]
    }
   ],
   "source": [
    "retained_earnings = net_income.sum() - dividends.sum()\n",
    "print('retained earnings: ${:,.2f}B'.format(retained_earnings/1e9))"
   ]
  },
  {
   "cell_type": "markdown",
   "metadata": {},
   "source": [
    "Retained earnings are negative. This indicates either some bad data or something fundamentally wrong. \n",
    "\n",
    "Net income data is from the income statement under Net (Loss)/Earnings Attributable to BMY and Dividend data is from the cash flow sheet under financial activities. For this company,the net income for many years is less than the dividends paid, which results in negative retained earnings. I think this is an item of concern.  "
   ]
  },
  {
   "cell_type": "code",
   "execution_count": 88,
   "metadata": {},
   "outputs": [
    {
     "name": "stdout",
     "output_type": "stream",
     "text": [
      "Current market value: $116.86B to $151.03B\n"
     ]
    }
   ],
   "source": [
    "# Current market value, share price multiplied by number of shares\n",
    "cmv_high = df_dcf_data['shares_outstanding'].iloc[-1]*fy_high[-1]\n",
    "cmv_low = df_dcf_data['shares_outstanding'].iloc[-1]*fy_low[-1]\n",
    "print('Current market value: ${:,.2f}B to ${:,.2f}B'.format(cmv_low/1e9,cmv_high/1e9))"
   ]
  },
  {
   "cell_type": "code",
   "execution_count": 89,
   "metadata": {},
   "outputs": [
    {
     "name": "stdout",
     "output_type": "stream",
     "text": [
      "Past market value: $38B to $48B\n"
     ]
    }
   ],
   "source": [
    "# Past market value, share price multiplied by number of shares\n",
    "pmv_high = df_dcf_data['shares_outstanding'].iloc[0]*fy_high[0]\n",
    "pmv_low = df_dcf_data['shares_outstanding'].iloc[0]*fy_low[0]\n",
    "print('Past market value: ${:,.0f}B to ${:,.0f}B'.format(pmv_low/1e9,pmv_high/1e9))"
   ]
  },
  {
   "cell_type": "code",
   "execution_count": 90,
   "metadata": {},
   "outputs": [
    {
     "name": "stdout",
     "output_type": "stream",
     "text": [
      "Difference in market value: $78B to $103B\n"
     ]
    }
   ],
   "source": [
    "print('Difference in market value: ${:,.0f}B to ${:,.0f}B'.format((cmv_low-pmv_low)/1e9,(cmv_high-pmv_high)/1e9))"
   ]
  },
  {
   "cell_type": "markdown",
   "metadata": {},
   "source": [
    "This difference in market value is greater than the retained earnings."
   ]
  },
  {
   "cell_type": "markdown",
   "metadata": {},
   "source": [
    "#### Share price vs EPS\n",
    "Looking at the one dollar premise in terms of share price and EPS.  \n",
    "\n",
    "The one dollar premise: one dollar of earning should translate into one dollar of market value - this seems the same as a plot of EPS versus share price."
   ]
  },
  {
   "cell_type": "code",
   "execution_count": 91,
   "metadata": {},
   "outputs": [
    {
     "data": {
      "image/png": "[encoded data removed]",
      "text/plain": [
       "<Figure size 432x288 with 1 Axes>"
      ]
     },
     "metadata": {
      "needs_background": "light"
     },
     "output_type": "display_data"
    }
   ],
   "source": [
    "# plotting the eps data points\n",
    "ax = plt.bar(EPS,fy_high-fy_low,width = .05,bottom=fy_low)\n",
    "plt.grid()\n",
    "plt.ylim((20,100))\n",
    "plt.ylabel('high and low share price range')\n",
    "plt.xlabel('EPS')\n",
    "plt.title('years from 2010 to 2021')\n",
    "\n",
    "rects = ax.patches\n",
    "\n",
    "# Make some labels.\n",
    "labels = [year_ended_list[i].strftime(\"%Y\") for i in range(len(year_ended_list))]\n",
    "for rect, label in zip(rects, labels):\n",
    "    y_top =  rect.get_y() + rect.get_height()\n",
    "    plt.text(rect.get_x(), y_top+1, label, rotation=90,va='bottom')    \n",
    "\n",
    "plt.show()"
   ]
  },
  {
   "cell_type": "markdown",
   "metadata": {},
   "source": [
    "**Observations:**   \n",
    "The range in share price is roughly the same across the range of EPS. This means that investors are not valuing the company's EPS."
   ]
  },
  {
   "cell_type": "markdown",
   "metadata": {},
   "source": [
    "#### Market capitalization\n",
    "Total value of common equity is calculated using the DCF model from scenario 1 inputs and it is a constant value for the year. The daily market capitalization is calculated from the formula:  \n",
    "\n",
    "$\\text{Market capitalization} = \\text{(daily closing share price)} \\times \\text{(number of shares outstanding)}$  \n",
    "\n",
    "Market capitalization refers to the total dollar market value of a company's outstanding shares of stock. It measures the cost of buying all of a company's shares. Comparing this value to the intrinsic value calculated from the DCF model shows whether the company can be purchased at a discount to its value."
   ]
  },
  {
   "cell_type": "code",
   "execution_count": 92,
   "metadata": {},
   "outputs": [
    {
     "name": "stdout",
     "output_type": "stream",
     "text": [
      "shares outstanding, basic: 2,179,000,000\n",
      "total value of common equity, baseline case: $1,137.70B\n",
      "total value of common equity, scenario 1: $108.24B\n"
     ]
    }
   ],
   "source": [
    "#so = df_dcf_data['shares_outstanding'].iloc[-1] # shares outstanding\n",
    "print('shares outstanding, basic: {:,.0f}'.format(so))\n",
    "\n",
    "# get starting and ending dates for last calendar year in datetime format\n",
    "start = year_ended_list[-1]\n",
    "end = start + relativedelta(years=1)\n",
    "p1 = df_price_history.truncate(before=start, after=end)\n",
    "\n",
    "# print total value of common equity for base case and scenario\n",
    "print('total value of common equity, baseline case: ${:,.2f}B'.format(tvce_baseline/1e9))\n",
    "print('total value of common equity, scenario 1: ${:,.2f}B'.format(tvce_S1/1e9))\n",
    "#print('average value of common equity (base & scenario): ${:,.2f}B'.format((tvce_S1+tvce_base)/2/1e9))\n",
    "\n",
    "# make an array \n",
    "total_value_S1 = np.ones(len(p1))*tvce_S1 # the value is constant across all dates\n",
    "\n",
    "# add scenario 1 total value of common equity data to dataframe\n",
    "#p1['total value avg'] = total_value_avg\n",
    "p1['total value S1'] = total_value_S1"
   ]
  },
  {
   "cell_type": "code",
   "execution_count": 93,
   "metadata": {},
   "outputs": [
    {
     "data": {
      "image/png": "[encoded data removed]",
      "text/plain": [
       "<Figure size 432x288 with 1 Axes>"
      ]
     },
     "metadata": {
      "needs_background": "light"
     },
     "output_type": "display_data"
    }
   ],
   "source": [
    "# Set the locator\n",
    "locator = mdates.MonthLocator()  # every month\n",
    "fmt = mdates.DateFormatter('%b-%Y')\n",
    "\n",
    "plt.plot(p1['Close']*so/1e9,label='Market capitalization')\n",
    "#plt.plot(p1['total value base']/1e9,label='total value of common equity, base')\n",
    "plt.plot(p1['total value S1']/1e9,label='Total value of common equity, scenario 1')\n",
    "\n",
    "X = plt.gca().xaxis\n",
    "X.set_major_locator(locator)\n",
    "# Specify formatter\n",
    "X.set_major_formatter(fmt)\n",
    "plt.gcf().autofmt_xdate()\n",
    "\n",
    "#plt.ylim((2,8))\n",
    "plt.title('Market Cap and total value of common equity')\n",
    "plt.ylabel('dollars, $B')\n",
    "plt.legend()\n",
    "plt.grid()\n",
    "\n",
    "# show plot\n",
    "plt.show()"
   ]
  },
  {
   "cell_type": "markdown",
   "metadata": {},
   "source": [
    "As shown in the plot, the company's market capitalization is higher than the total value of common equity as calculated using scenario 1 DCF data. This implies that the company is overvalued. "
   ]
  },
  {
   "cell_type": "code",
   "execution_count": null,
   "metadata": {},
   "outputs": [],
   "source": []
  },
  {
   "cell_type": "markdown",
   "metadata": {},
   "source": [
    "### Qualitative metrics <a id=\"section8-3\"></a>\n",
    "Beyond the numbers in the financial statements, there are metrics that are qualitative in nature that are important to the investor. These are subjective measures of business and management operations that influence value. In this section a few qualitative metrics are discussed below. \n",
    "\n",
    "- **Simple and understandable business model**  \n",
    "BMY is a pharmaceutical company that manufactures drugs in several therapeutic areas. Although the science is not simple, the business framework of R&D, patent protection, manufacturing and distribution is typical of other manufacturing firms operating in the technology sector.   \n",
    "\n",
    "- **Favorable long term prospects**  \n",
    "The company has a long history and the recent trends are favorable, except for the acquisition in 2019, which upset the trends.  \n",
    "\n",
    "- **Commodity reliance**  \n",
    "By commodity is meant a product or service that is easily reproducible by a competitor. Pharmaceuticals are the result of R&D and protected by patents. The barrier to entry is high for Pharmaceutical companies.  \n",
    "\n",
    "- **Consistent operating history**  \n",
    "The trends for RoE, RoA and profit margin have been plotted above. The effect of the acquisition of Celgene has caused these ratios to go negative in 2020. From 2016 to 2019, these ratios had wide variation year to year, with 2017 showing a decline followed by a large increase the following year.  Normally steady performance is better than the erratic variation shown here. (LT debt)/Equity and (total liabilities)/Equity have been steady and below 2. (total liabilities)/NOP have been erratic over the evaluation period.   \n",
    "\n",
    "- **Rationality**  \n",
    "Do comments and discussion made by the management in the annual reports reflect an optimal level of benefit or utility to the company over the long term?  \n",
    " 1. **Focus on core aspects**  \n",
    "The company operates in one segment engaged in the discovery, development, licensing, manufacturing, marketing, distribution and sale of biopharmaceutical products on a global basis.   \n",
    " 2. **Only invest in high ROE businesses**  \n",
    "The principal strategy is to combine the resources, scale and capability of a pharmaceutical company with the speed and focus on innovation of the biotech industry. The acquisitions of Celgene in 2019 and MyoKardia in 2020 will further position us as a leading biopharmaceutical company, expanding our oncology, hematology, immunology and cardiovascular portfolios with several near-term assets and additional external partnerships.\n",
    " 3. **Focus on shareholder equity**  \n",
    "Adding value to the company  The priorities are to continue to renew and diversify our portfolio through launching our new product portfolio, advancing our early, mid and late-stage pipeline, and executing disciplined business development. They remain committed to reducing our debt and returning capital to shareholders.\n",
    "\n",
    "Back to [**Contents**](#section0)  "
   ]
  },
  {
   "cell_type": "code",
   "execution_count": null,
   "metadata": {},
   "outputs": [],
   "source": []
  },
  {
   "cell_type": "markdown",
   "metadata": {},
   "source": [
    "## 9) Conclusion  <a id=\"section9\"></a>\n",
    "The following is a summary of the results described above:  \n",
    "- Stock screener results: This company was selected from the Fidelity stock screener results. The company had increasing revenues and a dividend yield above 2.38%.\n",
    " - Current news: A few new articles were noted, nothing of significance found.\n",
    " - Review quarterly results: Not applicable since 10K was just released.\n",
    " - Average daily volume: Above 1M per day.\n",
    " - Dividend yield: Above 3%.\n",
    "- Discounted cash flow analysis, baseline: The baseline DCF analysis yielded a very high ISV, driven primarily by revenue growth rate and low WACC.  The baseline ISV doesn't seem realistic.\n",
    "- DCF Scenarios: Adjustments were made and the ISV is now below the current price.  \n",
    "- NACI stock selection guide analysis: Share price has been trading in the 50 to 70 dollar range the last 7 years, indicating that the market is not impressed with the company. Average EPS (ignoring 2020) has been flat. Based on EPS growth, the estimated price range in 5 years is \\\\$8.99 to \\\\$12.19 per share. Based on NAIC's preferred method, the estimated price range in 5 years is \\\\$86.14 to \\\\$116.85 per share.\n",
    "- Dividend payout: Dividend payout has been increasing over the years. The dividend yield for the past five years has been in the 2.5 to 3.5 percent range.\n",
    "Dividend pay ratios for the last 3 years are near or below 50%. Dividend cash flow IRR is 8.01%.\n",
    "- Management performance:  \n",
    " - Financial metrics: The value assigned to goodwill and intangibles is about \\\\$1 billion. The ratio indicates the company has taken on a lot of debt relative to assets and is something of concern. Various debt ratios seem OK. Except for 2020 performance ratios and trends are acceptable. The divergence of total liabilities from revenue is of concern.\n",
    " - Market metrics: The range in share price is roughly the same across the range of EPS. This means that investors are not valuing the company's EPS. The company's market capitalization is higher than the total value of common equity as calculated using scenario 1 DCF data. This implies that the company is overvalued. \n",
    " - Qualitative metrics: see above\n",
    "\n",
    "Concerns: increasing total liabilities, low ISV, negative retained earnings, 60% of the total assets are intangible.\n",
    "\n",
    "Summary: The analysis presented in this report is based on the company’s fundamentals and tries to establish the value of the company. This strategy is essentially value investing where companies are chosen that meet a set of criteria and who's stock price is below the intrinsic value plus a margin of safety. These investments are usually held for the long term. Company revenue, earnings, debt and dividends were examined. Adjustments were made to the DCF and the ISV is below the current price. The share price has been trading in the 50 to 70 dollar range the last 7 years, indicating that the market is not impressed with the company. The dividend payout has been increasing over the years and the dividend cash flow IRR is 8.01%. The value assigned to goodwill and intangibles is about $1 billion. The ratio indicates the company has taken on a lot of debt relative to assets. The divergence of total liabilities from revenue is of concern. Negative retained earnings is a concern.\n",
    "\n",
    "Recommendation: Don’t buy above $50 per share.\n",
    "\n",
    "## 10) Notes  <a id=\"section10\"></a>\n",
    "The following notes outline the changes to the DCF model for financial and REIT companies.  \n",
    "\n",
    "**Valuing a REIT**  \n",
    "Notes from Valuepro Book, page 237  \n",
    "\n",
    "- NOPM: To calculate operating income take rental revenue and subtracted total real estate expenses and G&A expenses. To arrive at the NOPM divide the adjusted income from real estate by real estate rental revenue. For the REIT, take income from real estate, which includes depreciation and amortization, and subtract GSA. Exclude other income, gains on sale of real estate and interest expenses.\n",
    "- REIT has no traditional R&D costs\n",
    "\n",
    "REIT is not taxed at the corporate level, tax rate: should be near zero.\n",
    "\n",
    "Depreciation and capital expenditures are significantly higher for REITs than in other companies.\n",
    "\n",
    "New property acquisitions are not directly accounted for in the DCF model for a REIT.\n",
    "\n",
    "- Working capitol: accounts payable, rents and security deposits\n",
    " - Short term assets: cash, rents and other receivables and prepaid expenses\n",
    " - Short term liabilities: accounts payable, advance rents security deposits\n",
    " \n",
    "Working capital is almost zero, which is similar to other financial companies.\n",
    "\n",
    "The consolidated balance sheet lists the assets as: \n",
    "- Real estate held for investment, at cost:\n",
    " - Land\n",
    " - Buildings and improvements\n",
    " - Total real estate held for investment, at cost\n",
    " - Less accumulated depreciation and amortization\n",
    " - Real estate held for investment, net\n",
    "- Real estate and lease intangibles held for sale, net\n",
    "- Cash and cash equivalents <- current asset\n",
    "- Accounts receivable, net <- current asset\n",
    "- Lease intangible assets, net\n",
    "- Other assets, net\n",
    "\n",
    "The line items indicated above have been taken to be the current assets. Intangibles and long term items have been excluded.\n",
    "\n",
    "The consolidated balance sheet lists the liabilities as: \n",
    "- Distributions payable <- current liabilities\n",
    "- Accounts payable and accrued expenses <- current liabilities\n",
    "- Lease intangible liabilities, net\n",
    "- Other liabilities\n",
    "- Line of credit payable and commercial paper <- current liabilities\n",
    "- Term loans, net\n",
    "- Mortgages payable, net <- current liabilities\n",
    "- Notes payable, net\n",
    "\n",
    "The line items indicated above have been taken to be the current liabilities.\n",
    "\n",
    "**Valuing a financial company**  \n",
    "Notes from Valuepro Book, page 206  \n",
    "\n",
    "- Total revenue comes from the total interest and dividend income line on the income statement.  The calculation of operating income is more inclusive for a financial company than for an industrial or high tech company.  For financial companies, operating revenue includes all normal revenue items plus interest income, dividends received and other investment income.\n",
    "\n",
    "- Cost of Goods Sold (CGS) comes from the Total interest expense line on the statement of income. \n",
    "- General and Administrative (G&A) are set to zero since they are included in the interest expense line\n",
    "- A financial company has no traditional R&D costs\n",
    "\n",
    "- $\\text{Cost of Goods Sold (CGS)} = \\text{Total interest expense} + \\text{Total non-interest expense}$  \n",
    "- General and Administrative (G&A) are set to zero since they are included in the interest expense line\n",
    "- A financial company has no traditional R&D costs\n",
    "\n",
    "- Depreciation and amortization of premises and equipment from Consolidated Statements of Cash Flows.  \n",
    "- Amortization of other acquisition-related intangible assets is not included.\n",
    "\n",
    "- New investment and Depreciation: Property, plant and equipment expenditures and depreciation charges are significantly lower for a financial company.  A typical manufacturing company, in order to grow its business, invests a significant portion of its revenues in plant, property and equipment (PPE).  Financial companies invest very little in the way of PPE.  However, software, risk management systems and acquisitions of other businesses, need to be included.\n",
    "\n",
    "From the Consolidated Statements of Cash Flows, under Cash Flows from Investing Activities\n",
    "- Purchases of premises and equipment\n",
    "- Purchases of leased equipment, net\n",
    "\n",
    "- Working capital supports manufacturing and service activities of nonfinancial companies.  For financial companies, their principal liabilities  and assets are financial claims that take the place of working capital.  Because there is no differentiation between current and long term assets and liabilities for a financial company, we adjust working capital charges to zero.  A financial company generally invests all of its funds in other financial assets, which have characteristics of current assets rather than PP&E.  \n",
    "$\\text{Accounts Receivable} = 0$  \n",
    "$\\text{Inventories} = 0$  \n",
    "$\\text{Accounts Payable} = 0$  \n",
    "$\\text{working capital} = 0$ \n",
    "\n",
    "- Short term assets:  The balance sheets of most financial companies do not separate assets and liabilities into current and long term categories.  When calculating the short term assets take the total assets and subtract goodwill and intangible assets also subtract other assets of questionable value.  Subtract long term assets such as PP&E from total assets.  \n",
    "\n",
    "$\\text{Short term assets} = \\text{Total assets} - \\text{good will and others of questionable value} - \\text{Premises and equipment}$\n",
    "\n",
    "- A financial company's principal liabilities are deposits, Federal funds purchased, trading account liabilities, insurance policy and claims reserves, contract holder funds and short term borrowing.  To be consistent with the treatment of interest and an operating expense for financial companies, include long term debt in the short term liability category.  \n",
    "- Short term liabilities:  Include long term debt.  \n",
    "\n",
    "$\\text{Long term debt} = 0$\n",
    "\n",
    "**Excess return period**  \n",
    "The excess return period is based on a judgment call.  The authors of [2] use the 1-5-7-10 rule. They group companies into one of four general categories and excess return periods.  They use a 10 year excess return period to calculate what they would consider the maximum value. They use a more conservative 1 year, 5 year or 7 year return period to calculate a more reasonable or minimum value.  \n",
    "- 1 year: Boring companies that operate in a highly competitive, low margin industry in which they have nothing particular going for them.  \n",
    "- 5 year: Decent companies that have a recognizable name and decent reputation and perhaps a regulatory benefit (utility company), but can’t control pricing or growth.  \n",
    "- 7 year: Good companies with good brand names, large companies of scale, good marketing channels and consumer identification (e.g. McDonald’s)  \n",
    "- 10 year: Great companies with great growth potential, tremendous marketing power, band names and in-place benefits (e.g. Intel, Microsoft, Coca Cola, Disney)  \n",
    "\n",
    "**Notes about negative working capital**  \n",
    "The company has a negative working capital rate. Negative working capital describes a situation where a company's current liabilities exceed its current assets as stated on the firm's balance sheet. In other words, there is more short-term debt than there are short-term assets. \n",
    "\n",
    "Negative working capital most often arises when a business generates cash very quickly because it can sell products to its customers before it has to pay the bills to its vendors for the original goods or raw materials. In this way, the company is effectively using the vendor's money to grow. \n",
    "\n",
    "**Dividend Aristocrat, Achiever & Champion**  \n",
    "This company was selected for analysis because it is on the Dividend Aristocrat list and passes the quick look tests.  This notebook will be used as a template when analyzing other companies.\n",
    "\n",
    "- Aristocrat: S&P 500 Dividend Aristocrats is designed to measure the performance of S&P 500 index constituents that have followed a policy of consistently increasing dividends every year for at least 25 consecutive years.\n",
    "- Achiever: The Broad Dividend Achievers Index. Eligible companies must be incorporated in the U.S. or its territories, trade on the NYSE, NASDAQ or AMEX, and have increased its annual regular dividend payments for the last 10 or more consecutive years.\n",
    " - https://dividendvaluebuilder.com/dividend-achievers-list/\n",
    " - https://www.marketbeat.com/dividends/achievers/\n",
    "- Champion: This list includes companies that had increased their dividend for at least 25 consecutive years, and includes additional companies that had paid higher dividends without having increased the payout in every calendar year.\n",
    " - https://dividendvaluebuilder.com/dividend-champions-list/\n",
    " - https://www.dividendgrowthinvestor.com/p/dividend-champions-list.html"
   ]
  },
  {
   "cell_type": "code",
   "execution_count": null,
   "metadata": {},
   "outputs": [],
   "source": []
  },
  {
   "cell_type": "markdown",
   "metadata": {},
   "source": [
    "## 11) References  <a id=\"section11\"></a>\n",
    "\n",
    "1. Gray, Gary, et al. Streetsmart Guide to Valuing a Stock: the Savvy Investors Key to Beating the Market. McGraw-Hill, 2004.\n",
    "2. O'Hara, Thomas E., and Ken Janke. Starting and Running a Profitable Investment Club: the Official Guide from the National Association of Investors Corporation. Times Business, 1998. \n",
    "3. Robert G. Hagstrom, The Warren Buffett Way, Wiley, 2013"
   ]
  },
  {
   "cell_type": "code",
   "execution_count": null,
   "metadata": {},
   "outputs": [],
   "source": []
  }
 ],
 "metadata": {
  "kernelspec": {
   "display_name": "Python 3",
   "language": "python",
   "name": "python3"
  },
  "language_info": {
   "codemirror_mode": {
    "name": "ipython",
    "version": 3
   },
   "file_extension": ".py",
   "mimetype": "text/x-python",
   "name": "python",
   "nbconvert_exporter": "python",
   "pygments_lexer": "ipython3",
   "version": "3.7.3"
  }
 },
 "nbformat": 4,
 "nbformat_minor": 2
}
