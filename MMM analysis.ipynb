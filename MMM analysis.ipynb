{
 "cells": [
  {
   "cell_type": "markdown",
   "metadata": {},
   "source": [
    "# 3M Company (MMM)\n",
    "Last update: 20 May 2022  <<< FIX DATE when finished  \n",
    "annual report: 2021   \n",
    "Stock price of 4-20-2022 151.75\n",
    "\n",
    "## Abstract\n",
    "This notebook was developed to use as a template to analyze dividend paying companies as potential investments. This company was selected for analysis because it is on the Dividend Aristocrat list and passes the quick look tests.  \n",
    "\n",
    "## Introduction\n",
    "[3M Company develops](https://investors.3m.com/ir-home/default.aspx ), manufactures, and markets various products worldwide. It operates through four business segments: Safety and Industrial, Transportation and Electronics, Health Care, and Consumer.\n",
    "\n",
    "## Bottom line up front\n",
    "Follow the link to the [Conclusion](#section11).\n",
    "\n",
    "## Company description\n",
    "[The 3M Company](https://en.wikipedia.org/wiki/3M) is an American multinational conglomerate corporation operating in the fields of industry, worker safety, US health care, and consumer goods. The company produces over 60,000 products under several brands, including adhesives, abrasives, laminates, passive fire protection, personal protective equipment, window films, paint protection films, dental and orthodontic products, electrical and electronic connecting and insulating materials, medical products, car-care products, electronic circuits, healthcare software and optical films. It is based in Maplewood, a suburb of Saint Paul, Minnesota.\n",
    "\n",
    "3M made \\\\$32.8 billion in total sales in 2018, and ranked number 95 in the Fortune 500 list of the largest United States corporations by total revenue. As of 2018, the company had approximately 93,500 employees, and had operations in more than 70 countries.\n",
    "\n",
    "**Revision history:**  \n",
    "- 1/10/2022: Copied from VZ notebook and reorganized \n",
    "- Feb 2022: updated quick look, reorganized flow of calculations, corrected usage of financial rates, organized end sections\n",
    "- 23 Mar 2022: Cleaning up financial data spreadsheet. Removed NAIC tab. Removed duplicate reveneu data.\n",
    "- 27 Mar 2022: MFG template copied from BMY\n",
    "\n",
    "## Analysis\n",
    "The following sections of this notebook contain the financial analysis for the company.  \n",
    "\n",
    "**Contents** <a id=\"section0\"></a>  \n",
    "\n",
    "1. [Stock screener results](#section1)\n",
    "2. [Load financial spreadsheet](#section2)\n",
    "3. [Discounted cash flow analysis, baseline](#section3)\n",
    "4. [DCF Scenarios](#section4)\n",
    "5. [NACI stock selection guide analysis](#section5)\n",
    "6. [Future stock price](#section6)\n",
    "7. [Dividend payout](#section7)\n",
    "8. [Management performance](#section8)\n",
    "9. [Conclusion](#section9)\n",
    "10. [Notes](#section10)\n",
    "11. [References](#section11)"
   ]
  },
  {
   "cell_type": "code",
   "execution_count": null,
   "metadata": {},
   "outputs": [],
   "source": []
  },
  {
   "cell_type": "markdown",
   "metadata": {},
   "source": [
    "# Todo:\n",
    "- clean up commented code\n",
    "- check one dollar premise\n",
    "- fix outline levels\n",
    "- add fix it marks\n",
    "- review most recent quarterly results\n",
    "- write analysis and commentary\n",
    "- write conclusions\n",
    "- spell check\n",
    "- upload updated files to github\n",
    "- write blog report and post\n",
    "- review blog report to make more interesting\n",
    " - why should I care about this company\n",
    " - why the key features are important, what are key features\n",
    " - add some \"because of this...that\" flow between and linking the key features"
   ]
  },
  {
   "cell_type": "code",
   "execution_count": null,
   "metadata": {},
   "outputs": [],
   "source": []
  },
  {
   "cell_type": "code",
   "execution_count": 100,
   "metadata": {},
   "outputs": [],
   "source": [
    "from datetime import datetime, timedelta\n",
    "from dateutil.relativedelta import relativedelta\n",
    "from dateutil.parser import parse\n",
    "import pandas as pd\n",
    "import numpy as np\n",
    "import matplotlib.pyplot as plt\n",
    "import matplotlib.dates as mdates\n",
    "from dateutil import parser\n",
    "import os\n",
    "from pandas.plotting import register_matplotlib_converters\n",
    "register_matplotlib_converters()"
   ]
  },
  {
   "cell_type": "markdown",
   "metadata": {},
   "source": [
    "## 1) Stock screener results <a id=\"section1\"></a>\n",
    "This company was selected from the Fidelity stock screener results. The search results are based on Dividend yield (high and very high, 2.83% and higher), Volume 90 average (high and very high. 535k and higher) and Revenue Growth 5 years (0 or higher). \n",
    "\n",
    "**Current news**  \n",
    "A review of the financial news sites from [yahoo](https://finance.yahoo.com/quote/MMM/?p=MMM) and [google](https://www.google.com/finance/quote/MMM:NYSE) showed the following:   \n",
    "\n",
    "**Review quarterly results**  \n",
    "Since this analysis mainly looks at the annual reports, a review of the quarterly reports and the most recent 12 months is needed to see if the recent quarterly trends match the yearly trends.\n",
    "- [yahoo finance](https://finance.yahoo.com/quote/MMM/financials?p=MMM) shows\n",
    "- The Compustat Company Research from Fidelity (from Sep. 29, 2021) shows:\n",
    "\n",
    "**Average daily volume**  \n",
    "Average daily volume: 3,472,396   \n",
    "\n",
    "**Dividend yield**  \n",
    "Forward dividend yield: 4.07%%"
   ]
  },
  {
   "cell_type": "code",
   "execution_count": null,
   "metadata": {},
   "outputs": [],
   "source": []
  },
  {
   "cell_type": "markdown",
   "metadata": {},
   "source": [
    "## 2) Load financial spreadsheet <a id=\"section2\"></a>\n",
    "Data from consolidated financial statements and annual reports was collected and entered into a spreadsheet. All numerical data is converted from thousands or millions of dollars to dollars.  The stock share price history was obtained from yahoo and is included as a tab in the spreadsheet.  Other tabs in the spreadsheet are various worksheets. "
   ]
  },
  {
   "cell_type": "code",
   "execution_count": 101,
   "metadata": {},
   "outputs": [],
   "source": [
    "ticker = 'MMM' # company ticker symbol\n",
    "os.chdir('/home/jim/Documents/Dividend Investing/DCF data/')\n",
    "\n",
    "file_name = ticker+'_Financials.xlsx'\n",
    "df_dcf_sheet = pd.read_excel(file_name,sheet_name='DCF data')\n",
    "#df_NAIC_financials = pd.read_excel(file_name,sheet_name='NAIC data')\n",
    "df_metrics_sheet = pd.read_excel(file_name,sheet_name='metrics')\n",
    "df_price_history = pd.read_excel(file_name,sheet_name='Historical Prices')\n",
    "\n",
    "# change the working director back to the Jupyter folder\n",
    "os.chdir('/home/jim/Documents/JupyterLab/Discount Cash Flow Analysis/')"
   ]
  },
  {
   "cell_type": "code",
   "execution_count": 102,
   "metadata": {},
   "outputs": [],
   "source": [
    "# convert dates from string to datetime format in stock price history\n",
    "price_date_list = []\n",
    "for i in range(len(df_price_history)):\n",
    "    price_date_list.append(datetime.strptime(str(df_price_history['Date'][i]), '%Y-%m-%d'))\n",
    "\n",
    "df_price_history.insert(0, 'datetime', price_date_list)  # insert a new column with datetime data\n",
    "df_price_history.sort_values(by=['datetime'], inplace=True) # sort data frame by datetime\n",
    "\n",
    "df_price_history.set_index('datetime',inplace=True)\n",
    "\n",
    "#df_price_history.head()"
   ]
  },
  {
   "cell_type": "markdown",
   "metadata": {},
   "source": [
    "### 2.1) Format data frame <a id=\"section2-1\"></a>\n",
    "Generate a new data frame that holds the financial data needed for the DCF model.  Data from financial statements is copied into a spreadsheet which contains the data used in the analysis.  The data in the DCF_data tab is in a consistent format for ease of use by this notebook.  Standard names are used for the rows and columns."
   ]
  },
  {
   "cell_type": "code",
   "execution_count": 103,
   "metadata": {},
   "outputs": [],
   "source": [
    "#column names: fiscal years \n",
    "fy_data = df_dcf_sheet.columns[1:].values.astype('datetime64[Y]')-1970\n",
    "#line 0: Total revenue  \n",
    "revenue_data = df_dcf_sheet.iloc[0].to_numpy()[1:].astype('float')\n",
    "#line 1: Cost of goods sold\n",
    "Cost_of_goods_sold_data = df_dcf_sheet.iloc[1].to_numpy()[1:].astype('float')\n",
    "#line 2: General and administrative\n",
    "General_and_administrative_data = df_dcf_sheet.iloc[2].to_numpy()[1:].astype('float')\n",
    "#line 3: Research and development\n",
    "Research_and_development_data = df_dcf_sheet.iloc[3].to_numpy()[1:].astype('float')\n",
    "#line 4: Depreciation and amortization\n",
    "Depreciation_and_amortization_data = df_dcf_sheet.iloc[4].to_numpy()[1:].astype('float')\n",
    "#line 5: Investment\n",
    "Investment_data = df_dcf_sheet.iloc[5].to_numpy()[1:].astype('float')\n",
    "# line 6: Income before income taxes\n",
    "Income_before_income_taxes_data = df_dcf_sheet.iloc[6].to_numpy()[1:].astype('float')\n",
    "# line 7: Income tax\n",
    "Income_tax_data = df_dcf_sheet.iloc[7].to_numpy()[1:].astype('float')\n",
    "# line 8: Accounts receivable\n",
    "Accounts_receivable_data = df_dcf_sheet.iloc[8].to_numpy()[1:].astype('float')\n",
    "# line 9: Inventories\n",
    "Inventories_data = df_dcf_sheet.iloc[9].to_numpy()[1:].astype('float')\n",
    "# line 10: Accounts payable\n",
    "Accounts_payable_data = df_dcf_sheet.iloc[10].to_numpy()[1:].astype('float')\n",
    "# line 11: Current assets\n",
    "Current_assets_data = df_dcf_sheet.iloc[11].to_numpy()[1:].astype('float')\n",
    "# line 12: Current liabilities\n",
    "Current_liabilities_data = df_dcf_sheet.iloc[12].to_numpy()[1:].astype('float')\n",
    "# line 13: Long term debt\n",
    "Long_term_debt_data = df_dcf_sheet.iloc[13].to_numpy()[1:].astype('float')\n",
    "# line 14: Shares outstanding\n",
    "Shares_outstanding_data = df_dcf_sheet.iloc[14].to_numpy()[1:].astype('float')"
   ]
  },
  {
   "cell_type": "code",
   "execution_count": 104,
   "metadata": {},
   "outputs": [],
   "source": [
    "# make a new data frame to store selected financial data\n",
    "df_dcf_data = pd.DataFrame(data={\n",
    "    'FY':fy_data[::-1],\n",
    "    'revenue':revenue_data[::-1],\n",
    "    'cost_of_goods_sold':Cost_of_goods_sold_data[::-1],\n",
    "    'general_and_administrative':General_and_administrative_data[::-1],\n",
    "    'research_and_development':Research_and_development_data[::-1],\n",
    "    'depreciation':Depreciation_and_amortization_data[::-1],\n",
    "    'investment':Investment_data[::-1],\n",
    "    'income_before_income_taxes':Income_before_income_taxes_data[::-1],\n",
    "    'income_tax':Income_tax_data[::-1],\n",
    "    'accounts_receivable':Accounts_receivable_data[::-1],\n",
    "    'inventories':Inventories_data[::-1],\n",
    "    'accounts_payable':Accounts_payable_data[::-1], \n",
    "    'current_assets':Current_assets_data[::-1],\n",
    "    'current_liabilities':Current_liabilities_data[::-1],\n",
    "    'long_term_debt':Long_term_debt_data[::-1],\n",
    "    'shares_outstanding':Shares_outstanding_data[::-1]\n",
    "    })\n",
    "\n",
    "#df_dcf_data.head()"
   ]
  },
  {
   "cell_type": "code",
   "execution_count": null,
   "metadata": {},
   "outputs": [],
   "source": []
  },
  {
   "cell_type": "markdown",
   "metadata": {},
   "source": [
    "## 3) Discounted cash flow analysis, baseline <a id=\"section3\"></a>\n",
    "Discounted cash flow (DCF) is a valuation method used to estimate the value of an investment based on its expected future cash flows. DCF analysis attempts to figure out the value of an investment today, based on projections of how much money it will generate in the future. In finance, discounted cash flow (DCF) analysis is a method of valuing a security, project, company, or asset using the concepts of the time value of money. The DCF method used in this notebook follows [1].  \n",
    "\n",
    "The value of any financial investment equals the present value of the expected future cash flows, discounted for risk and timing of these cash flows. The DCF method to value stocks is a four step process.  \n",
    "1. Develop a set of future free cash flows for the corporation based on revenue growth, net operating profit margin, income tax rate and fix and working capital requirements.\n",
    "2. Estimate the discount rate for the cash flows based on expected timing and risk.\n",
    "3. Discount the cash flows and total them to calculate the value for the corporation as a whole.\n",
    "4. Subtract the debt, preferred stock value and other claims and divide by the number of shares outstanding to get the intrinsic value.\n",
    "\n",
    "Sections\n",
    "- [Revenue growth rate](#section3-1) \n",
    "- [Net operating profit margin](#section3-2)\n",
    "- [Tax rate](#section3-3)\n",
    "- [Depreciation Rate](#section3-4)\n",
    "- [Investment Rate](#section3-5)\n",
    "- [Working Capital Rate](#section3-6)\n",
    "- [Current Assets](#section3-7)\n",
    "- [Current Liabilities](#section3-8)\n",
    "- [Value of Debt Outstanding](#section3-9)\n",
    "- [Current stock price](#section3-10)\n",
    "- [Shares outstanding](#section3-11)\n",
    "- [10 year treasury bond yield](#section3-12)\n",
    "- [Bond yield spread to treasury](#section3-13)\n",
    "- [Preferred stock yield](#section3-14)\n",
    "- [Equity risk premium](#section3-15)\n",
    "- [Company specific beta](#section3-16)\n",
    "- [DCF model inputs](#section3-17)\n",
    "- [Future cash flows](#section3-18)\n",
    "\n",
    "### Future forecast based on historical data\n",
    "The DCF model uses historical financial data to estimate future cash flows. However, future changes are largely unpredictable, so we assume that the past record can be used as a rough guide to the future. The more questionable this assumption is, the less valuable is the analysis. So the DCF model is more useful when applied to stable well established companies, since companies with stable earnings are easier to forecast."
   ]
  },
  {
   "cell_type": "markdown",
   "metadata": {},
   "source": [
    "### Revenue growth rate <a id=\"section3-1\"></a>\n",
    "The revenue growth rate (also sometimes called net sales) of the corporation plus any other revenues associated with the main operations of the business. It does not include dividends, interest income or non-operating income. Historic revenue data is obtained from consolidated income statements. The year over year change in revenue is calculated and converted to a percent, then an average revenue growth rate is calculated. \n",
    "\n",
    "**Adjustments**  \n",
    "No adjustments for this company."
   ]
  },
  {
   "cell_type": "code",
   "execution_count": 105,
   "metadata": {},
   "outputs": [
    {
     "data": {
      "image/png": "[encoded data removed]",
      "text/plain": [
       "<Figure size 432x288 with 2 Axes>"
      ]
     },
     "metadata": {
      "needs_background": "light"
     },
     "output_type": "display_data"
    }
   ],
   "source": [
    "# calculate the percent change in revenue\n",
    "pcr = np.zeros(len(df_dcf_data['revenue'].to_numpy())) # percent change in revenue\n",
    "for i in range(len(df_dcf_data['revenue'].to_numpy()[0:-1])):\n",
    "    pcr[i+1] = ((df_dcf_data['revenue'].to_numpy()[i+1] - df_dcf_data['revenue'].to_numpy()[i])/\n",
    "                df_dcf_data['revenue'].to_numpy()[i+1])*100\n",
    "\n",
    "width = 100\n",
    "\n",
    "# Set the locator\n",
    "locator = mdates.YearLocator()  # every year\n",
    "fmt = mdates.DateFormatter('%Y')\n",
    "\n",
    "fig, ax1 = plt.subplots()\n",
    "ax1.set_ylabel('Revenue, $B')\n",
    "\n",
    "# plot revenue as single bar\n",
    "plt.bar(df_dcf_data['FY'],df_dcf_data['revenue']/1e9, width,color='k')\n",
    "\n",
    "ax1.tick_params(axis='y')\n",
    "plt.grid()\n",
    "\n",
    "# instantiate a second y-axes that shares the same x-axis\n",
    "ax2 = ax1.twinx()\n",
    "color = 'tab:green'\n",
    "\n",
    "ax2.plot(df_dcf_data['FY'],pcr,'+-g')\n",
    "    \n",
    "ax2.set_ylabel('% Change in revenue',color=color)\n",
    "ax2.tick_params(axis='y', labelcolor=color)\n",
    "ax2.set_ylim((0,50))\n",
    "\n",
    "X = plt.gca().xaxis\n",
    "X.set_major_locator(locator)\n",
    "# Specify formatter\n",
    "X.set_major_formatter(fmt)\n",
    "plt.gcf().autofmt_xdate()\n",
    "\n",
    "plt.title('Revenue')\n",
    "plt.show()"
   ]
  },
  {
   "cell_type": "markdown",
   "metadata": {},
   "source": [
    "**Observation:**  \n"
   ]
  },
  {
   "cell_type": "code",
   "execution_count": 106,
   "metadata": {},
   "outputs": [
    {
     "name": "stdout",
     "output_type": "stream",
     "text": [
      "average revenue growth rate: 3.09%\n"
     ]
    }
   ],
   "source": [
    "rgr_avg = pcr[-5:].mean()/100 # last five years\n",
    "print('average revenue growth rate: {:.2f}%'.format(rgr_avg*100))"
   ]
  },
  {
   "cell_type": "markdown",
   "metadata": {},
   "source": [
    "### Net operating profit margin <a id=\"section3-2\"></a>\n",
    "Net Operating Profit should reflect the future revenue generating ability and expense requirements of the operating business that comprise the ongoing operations of the company.\n",
    "\n",
    "$\\text{NOPM} = \\frac{\\text{Revenue} - \\text{Expenses}}{\\text{Revenue}}$  \n",
    " \n",
    "$\\text{Expenses} = \\text{Cost of Goods Sold (CGS)} + \\text{General and Administrative (G&A)} + \\text{Research and Development (R&D)}$\n",
    "\n",
    "General and Administrative (G&A) is also called Sales, General and Administrative (SG&A)\n",
    "\n",
    "**Adjustments**  \n",
    "No adjustments for this company."
   ]
  },
  {
   "cell_type": "code",
   "execution_count": 107,
   "metadata": {},
   "outputs": [
    {
     "data": {
      "image/png": "[encoded data removed]",
      "text/plain": [
       "<Figure size 432x288 with 2 Axes>"
      ]
     },
     "metadata": {},
     "output_type": "display_data"
    }
   ],
   "source": [
    "# NOP = (Revenue - Expenses)\n",
    "nop = (df_dcf_data['revenue'].to_numpy() - \\\n",
    "    (df_dcf_data['cost_of_goods_sold'].to_numpy() + \\\n",
    "    df_dcf_data['general_and_administrative'].to_numpy() + \\\n",
    "    df_dcf_data['research_and_development'].to_numpy()) )\n",
    "\n",
    "# net operating profit margin as percent of revenue\n",
    "nopm = nop/df_dcf_data['revenue'].to_numpy()\n",
    "\n",
    "# plot as four grouped bar chart with labels on right and working capital rate on left\n",
    "# calculate position of bars\n",
    "x1_bar_position = []\n",
    "x2_bar_position = []\n",
    "x3_bar_position = []\n",
    "x4_bar_position = []\n",
    "for i in df_dcf_data['FY']:\n",
    "    x1_bar_position.append(i-relativedelta(months=3))\n",
    "    x2_bar_position.append(i-relativedelta(months=1))\n",
    "    x3_bar_position.append(i+relativedelta(months=1))\n",
    "    x4_bar_position.append(i+relativedelta(months=3))\n",
    "    \n",
    "width = 40  # the width of the bars\n",
    "    \n",
    "# Set the locator\n",
    "locator = mdates.YearLocator()  # every year\n",
    "fmt = mdates.DateFormatter('%Y')\n",
    "\n",
    "fig, ax1 = plt.subplots()\n",
    "ax1.set_ylabel('Net operating profit, \\\\$B')\n",
    "\n",
    "ax1.bar(x1_bar_position,df_dcf_data['cost_of_goods_sold'].to_numpy()/1e9, width,label='CGS')\n",
    "ax1.bar(x2_bar_position,df_dcf_data['general_and_administrative'].to_numpy()/1e9, width,label='G&A')\n",
    "ax1.bar(x3_bar_position,df_dcf_data['research_and_development'].to_numpy()/1e9, width,label='R&D')\n",
    "ax1.bar(x4_bar_position,nop/1e9, width,label='NOP')\n",
    "\n",
    "ax1.tick_params(axis='y')\n",
    "#ax1.set_ylim((0,4))\n",
    "ax1.legend()\n",
    "plt.grid()\n",
    "\n",
    "# instantiate a second y-axes that shares the same x-axis\n",
    "ax2 = ax1.twinx()\n",
    "color = 'tab:cyan'\n",
    "\n",
    "ax2.plot(df_dcf_data['FY'],nopm*100,'+-c')\n",
    "    \n",
    "ax2.set_ylabel('% NOPM',color=color)\n",
    "ax2.tick_params(axis='y', labelcolor=color)\n",
    "ax2.set_ylim((0,40))\n",
    "\n",
    "X = plt.gca().xaxis\n",
    "X.set_major_locator(locator)\n",
    "# Specify formatter\n",
    "X.set_major_formatter(fmt)\n",
    "plt.gcf().autofmt_xdate()\n",
    "\n",
    "plt.title('Net Operating Profit')\n",
    "plt.show()"
   ]
  },
  {
   "cell_type": "markdown",
   "metadata": {},
   "source": [
    "**Observation**  \n",
    "Cost of Sales:  \n",
    "Cost of sales includes manufacturing, engineering and freight costs. Cost of sales, measured as a percent of sales, increased in 2021 when compared to 2020 due to higher raw material, logistics and outsourced manufacturing costs; manufacturing productivity impacts from global supply chain challenges; increased compensation and benefit costs; increased adjustments to other environmental liabilities; and increased investments in growth, productivity and sustainability. Cost of sales was also impacted by year-over-year changes in restructuring charges, net of restructuring benefits. Year-over-year cost increases were partially offset by lower COVID-related net impacts taken in 2021\n",
    "versus last year, including period expenses of unabsorbed manufacturing costs taken in 2020.\n",
    "\n",
    "Pension and postretirement service cost expense is recorded in cost of sales, SG&A, and R&D. Refer to Note 13 (Pension and Postretirement Plans) for the service cost components of net periodic benefit costs. The Company is continuing the ongoing deployment of an enterprise resource planning (ERP) system on a worldwide basis, with these investments impacting cost of sales, SG&A, and R&D.\n",
    "\n",
    "Selling, General and Administrative Expenses:  \n",
    "SG&A, measured as a percent of sales, decreased in 2021 when compared to 2020. SG&A was impacted by increased litigation-related costs, compensation and benefit costs, and spending on key growth initiatives. SG&A was also impacted by year-over-year changes in restructuring charges, net of restructuring benefits. Cost increases were partially offset by the impact of the favorable decision of the Brazilian Supreme Court in the second quarter of 2021 regarding the calculation of past social taxes and ongoing general 3M cost management. Prior year also included a number of COVID-related net impacts as described in the Overview- Consideration of COVID-19 section above.\n",
    "\n",
    "Research, development and related expenses:  \n",
    "These costs are charged to operations in the period incurred and are shown on a separate line of the Consolidated Statement of Income. Research, development and related expenses totaled \\\\$1.994 billion in 2021, \\\\$1.878 billion in 2020 and \\\\$1.911 billion in 2019. Research and development expenses, covering basic scientific research and the application of scientific advances in the development of new and improved products and their uses, totaled $1.243 billion in 2021, \\\\$1.146 billion in 2020 and \\\\$1.253 billion in 2019. Related expenses primarily include technical support; internally developed patent costs, which include costs and fees incurred to prepare, file, secure and maintain patents; amortization of externally acquired patents and externally acquired in-process research and development; and gains/losses associated with certain corporate approved investments in R&D-related ventures.  "
   ]
  },
  {
   "cell_type": "code",
   "execution_count": 108,
   "metadata": {},
   "outputs": [
    {
     "name": "stdout",
     "output_type": "stream",
     "text": [
      "average net operating profit margin: 21.80%\n"
     ]
    }
   ],
   "source": [
    "#Average net operating profit margin\n",
    "nopm_avg = nopm[-5:].mean()\n",
    "print('average net operating profit margin: {:.2f}%'.format(nopm_avg*100))"
   ]
  },
  {
   "cell_type": "markdown",
   "metadata": {},
   "source": [
    "### Tax rate <a id=\"section3-3\"></a>\n",
    "Tax payments are taken from the consolidated income statement, provision for income taxes.  The effect of taxes on profits is accounted for. \n",
    "\n",
    "$\\text{Tax rate} = \\frac{\\text{Income taxes}}{\\text{Income before income taxes}}$\n",
    "\n",
    "**Adjustments**  \n",
    "No adjustments for this company."
   ]
  },
  {
   "cell_type": "code",
   "execution_count": 109,
   "metadata": {},
   "outputs": [
    {
     "data": {
      "image/png": "[encoded data removed]",
      "text/plain": [
       "<Figure size 432x288 with 2 Axes>"
      ]
     },
     "metadata": {
      "needs_background": "light"
     },
     "output_type": "display_data"
    }
   ],
   "source": [
    "# plot as Grouped bar chart with labels on right and tax rate on left\n",
    "# calculate position of bars\n",
    "x1_bar_position = []\n",
    "x2_bar_position = []\n",
    "for i in df_dcf_data['FY']:\n",
    "    x1_bar_position.append(i-relativedelta(months=1))\n",
    "    x2_bar_position.append(i+relativedelta(months=1))\n",
    "\n",
    "# calculate tax rate\n",
    "tax_rate = df_dcf_data['income_tax']/df_dcf_data['income_before_income_taxes']\n",
    "\n",
    "width = 50  # the width of the bars\n",
    "\n",
    "# Set the locator\n",
    "locator = mdates.YearLocator()  # every year\n",
    "fmt = mdates.DateFormatter('%Y')\n",
    "\n",
    "fig, ax1 = plt.subplots()\n",
    "ax1.set_ylabel('dollars, \\\\$M')\n",
    "\n",
    "rects1 = ax1.bar(x1_bar_position,df_dcf_data['income_before_income_taxes']/1e6, width,\n",
    "    label='Income before income taxes')\n",
    "rects2 = ax1.bar(x2_bar_position,df_dcf_data['income_tax']/1e6, width,\n",
    "    label='Income taxes')\n",
    "\n",
    "ax1.tick_params(axis='y')\n",
    "#ax1.set_ylim((-2e3,2e3))\n",
    "ax1.legend()\n",
    "plt.grid()\n",
    "\n",
    "# instantiate a second y-axes that shares the same x-axis\n",
    "ax2 = ax1.twinx()\n",
    "color = 'tab:green'\n",
    "\n",
    "ax2.plot(df_dcf_data['FY'],tax_rate * 100,'+-g')\n",
    "    \n",
    "ax2.set_ylabel('% Tax rate',color=color)\n",
    "ax2.tick_params(axis='y', labelcolor=color)\n",
    "#ax2.set_ylim((-40,100))\n",
    "\n",
    "X = plt.gca().xaxis\n",
    "X.set_major_locator(locator)\n",
    "# Specify formatter\n",
    "X.set_major_formatter(fmt)\n",
    "plt.gcf().autofmt_xdate()\n",
    "\n",
    "plt.title('Tax Rate')\n",
    "plt.show()"
   ]
  },
  {
   "cell_type": "markdown",
   "metadata": {},
   "source": [
    "**Observation:**  \n"
   ]
  },
  {
   "cell_type": "code",
   "execution_count": 110,
   "metadata": {},
   "outputs": [
    {
     "name": "stdout",
     "output_type": "stream",
     "text": [
      "average tax rate: 23.23%\n"
     ]
    }
   ],
   "source": [
    "# Average tax rate\n",
    "tax_rate_avg = tax_rate[-5:].mean()\n",
    "print('average tax rate: {:.2f}%'.format(tax_rate_avg*100))"
   ]
  },
  {
   "cell_type": "code",
   "execution_count": null,
   "metadata": {},
   "outputs": [],
   "source": []
  },
  {
   "cell_type": "markdown",
   "metadata": {},
   "source": [
    "### Depreciation Rate <a id=\"section3-4\"></a>\n",
    "The depreciation rate is used to project the future net investment cash flows.  The effect is to reduce the amount of FCFF. Depreciation amounts are from the Consolidated Statement of Cash Flows, Depreciation and Amortization.  \n",
    "\n",
    "$\\text{Depreciation Rate}=\\frac{\\text{Depreciation and Amortization}}{\\text{Revenues}}$\n",
    "\n",
    "Depreciation is the write off or expensing of a percentage of the historical cost of an asset over the asset's useful life.  Property, plant and equipment (PP&E) are long term or non current assets owned or controlled by the company and used to manufacture and or sell the company's products.  The balance sheet typically shows all categories of PP&E grouped together, net of accumulated depreciation.  Depreciation represents wear and tear on an asset or the fact that an asset gets used up over time.  Companies record depreciation expense in the income statement every year for all depreciable assets in service or used by the company during the year.  The difference between GAAP and Tax Accounting methods is handled through deferred taxes.\n",
    "\n",
    "Amortization is the write off or expensing of the cost of a financial instrument or an intangible asset over the shorter of its useful life or legal life.  Amortization is similar to depreciation and reflects the declining useful life and value of the intangible asset over time.  Companies in research and development intensive fields typically have many patents.  Such industries include high technology, pharmaceuticals and chemicals. "
   ]
  },
  {
   "cell_type": "code",
   "execution_count": 111,
   "metadata": {},
   "outputs": [
    {
     "data": {
      "image/png": "[encoded data removed]",
      "text/plain": [
       "<Figure size 432x288 with 2 Axes>"
      ]
     },
     "metadata": {
      "needs_background": "light"
     },
     "output_type": "display_data"
    }
   ],
   "source": [
    "# depreciation rate\n",
    "depreciation_rate = df_dcf_data['depreciation'] / df_dcf_data['revenue'].to_numpy()\n",
    "\n",
    "# plot depreciation on left and rate on right\n",
    "# Set the locator\n",
    "locator = mdates.YearLocator()  # every year\n",
    "fmt = mdates.DateFormatter('%Y')\n",
    "\n",
    "fig, ax1 = plt.subplots()\n",
    "ax1.set_ylabel('dollars, $B')\n",
    "\n",
    "ax1.bar(df_dcf_data['FY'],df_dcf_data['depreciation']/1e9, width=100,color='k')\n",
    "\n",
    "ax1.tick_params(axis='y')\n",
    "plt.grid()\n",
    "\n",
    "# instantiate a second y-axes that shares the same x-axis\n",
    "ax2 = ax1.twinx()\n",
    "color = 'tab:Blue'\n",
    "\n",
    "ax2.plot(df_dcf_data['FY'],depreciation_rate*100,'+-')\n",
    "    \n",
    "ax2.set_ylabel('% Depreciation rate',color=color)\n",
    "ax2.tick_params(axis='y', labelcolor=color)\n",
    "#ax2.set_ylim((0,30))\n",
    "\n",
    "X = plt.gca().xaxis\n",
    "X.set_major_locator(locator)\n",
    "# Specify formatter\n",
    "X.set_major_formatter(fmt)\n",
    "plt.gcf().autofmt_xdate()\n",
    "\n",
    "plt.title('Depreciation')\n",
    "plt.show()"
   ]
  },
  {
   "cell_type": "markdown",
   "metadata": {},
   "source": [
    "**Observation:**  \n"
   ]
  },
  {
   "cell_type": "code",
   "execution_count": 112,
   "metadata": {},
   "outputs": [
    {
     "name": "stdout",
     "output_type": "stream",
     "text": [
      "average depreciation rate: 5.15%\n"
     ]
    }
   ],
   "source": [
    "# average depreciation rate\n",
    "depreciation_rate_avg = depreciation_rate[-5:].mean()\n",
    "print('average depreciation rate: {:.2f}%'.format(depreciation_rate_avg*100))"
   ]
  },
  {
   "cell_type": "code",
   "execution_count": null,
   "metadata": {},
   "outputs": [],
   "source": []
  },
  {
   "cell_type": "markdown",
   "metadata": {},
   "source": [
    "### Investment Rate <a id=\"section3-5\"></a>\n",
    "Taken from Consolidated Statement of Cash Flows, Cash used for investing activities.  Net investment in the dollar amount needed to support the growth of the firm.  Included investments in properties, plant equipment in excess of the depreciation expenses associated with past investments.  Net investment decreases the amount of money available to the stockholders.  Investment in property, plant and equipment is necessary to both maintain service and sales and also to grow revenues and profits.  Investment amounts should include capital expenditures and research and development. \n",
    "\n",
    "$Ir=\\frac {\\text {Capital Expenditures}}{\\text{Revenues}}$ \n",
    "\n",
    "For this company, the yearly investment amounts are taken from the Consolidated Statements of Cash Flows, \n",
    "Net Cash Used in Investing Activities.\n",
    "\n",
    "**Adjustments**  \n",
    "No adjustments for this comapany."
   ]
  },
  {
   "cell_type": "code",
   "execution_count": 113,
   "metadata": {},
   "outputs": [
    {
     "data": {
      "image/png": "[encoded data removed]",
      "text/plain": [
       "<Figure size 432x288 with 2 Axes>"
      ]
     },
     "metadata": {
      "needs_background": "light"
     },
     "output_type": "display_data"
    }
   ],
   "source": [
    "# investment rate\n",
    "investment_rate = df_dcf_data['investment'] / df_dcf_data['revenue'].to_numpy()\n",
    "\n",
    "# plot investment on left and rate on right\n",
    "# Set the locator\n",
    "locator = mdates.YearLocator()  # every year\n",
    "fmt = mdates.DateFormatter('%Y')\n",
    "\n",
    "fig, ax1 = plt.subplots()\n",
    "ax1.set_ylabel('dollars, \\\\$B')\n",
    "\n",
    "ax1.bar(df_dcf_data['FY'],df_dcf_data['investment']/1e9, width=100,color='k')\n",
    "\n",
    "ax1.tick_params(axis='y')\n",
    "plt.grid()\n",
    "\n",
    "# instantiate a second y-axes that shares the same x-axis\n",
    "ax2 = ax1.twinx()\n",
    "color = 'tab:Blue'\n",
    "\n",
    "ax2.plot(df_dcf_data['FY'],investment_rate*100,'+-')\n",
    "    \n",
    "ax2.set_ylabel('% New Investment Rate',color=color)\n",
    "ax2.tick_params(axis='y', labelcolor=color)\n",
    "#ax2.set_ylim((-10,40))\n",
    "\n",
    "X = plt.gca().xaxis\n",
    "X.set_major_locator(locator)\n",
    "# Specify formatter\n",
    "X.set_major_formatter(fmt)\n",
    "plt.gcf().autofmt_xdate()\n",
    "\n",
    "plt.title('New Investment')\n",
    "plt.show()"
   ]
  },
  {
   "cell_type": "markdown",
   "metadata": {},
   "source": [
    "**Observation:**  \n",
    "\n",
    "Proforma information related to these acquisitions has not been included as the impact on the Company’s consolidated results\n",
    "of operations was not considered material.\n",
    "\n",
    "Page 61 - Acquisitions:  \n",
    "3M makes acquisitions of certain businesses from time to time that are aligned with its strategic intent with respect to, among\n",
    "other factors, growth markets and adjacent product lines or technologies. Goodwill resulting from business combinations is\n",
    "largely attributable to the existing workforce of the acquired businesses and synergies expected to arise after 3M’s acquisition\n",
    "of these businesses. \n",
    "\n",
    "2021 acquisitions:  \n",
    "There were no acquisitions that closed during the year ended December 31, 2021.\n",
    "\n",
    "2020 acquisitions:  \n",
    "There were no acquisitions that closed during the year ended December 31, 2020.\n",
    "\n",
    "2019 acquisitions:  \n",
    "In February 2019, 3M completed the acquisition of the technology business of M\\*Modal for \\\\$0.7 billion of cash, net of cash\n",
    "acquired, and assumption of \\\\$0.3 billion of M\\*Modal’s debt. Based in Pittsburgh, Pennsylvania, M\\*Modal is a leading\n",
    "healthcare technology provider of cloud-based, conversational artificial intelligence-powered systems that help physicians\n",
    "efficiently capture and improve the patient narrative. The allocation of purchase consideration related to M\\*Modal was\n",
    "completed in the fourth quarter of 2019. Net sales and operating loss (inclusive of transaction and integration costs) of this\n",
    "business included in 3M’s consolidated results of operations in 2019 were approximately \\\\$300 million and \\\\$25 million,\n",
    "respectively. M\\*Modal is reported within the Company’s Health Care business.  \n",
    "\n",
    "In October 2019, the Company completed the acquisition of all of the ownership interests of Acelity Inc. and its KCI\n",
    "subsidiaries. Acelity is a leading global medical technology company focused on advanced wound care and specialty surgical\n",
    "applications marketed under the KCI brand. In the first quarter of 2020, the Company paid certain considerations previously\n",
    "accrued under the terms of related agreements. Adjustments in 2020 to the purchase price allocation were approximately \\\\$34\n",
    "million and related to identification and valuation of certain acquired assets and liabilities. The change to provisional amounts\n",
    "did not result in material impacts to results of operations in 2020 or any portion related to earlier quarters in the measurement\n",
    "period. The allocation of purchase consideration related to Acelity was completed in the third quarter of 2020. Net sales and\n",
    "operating loss (inclusive of transaction and integration costs) of this business included in 3M’s consolidated results of\n",
    "operations in the fourth quarter of 2019 were approximately \\\\$350 million and \\\\$45 million, respectively. Acelity is reported\n",
    "within the Company’s Health Care business.\n"
   ]
  },
  {
   "cell_type": "code",
   "execution_count": 114,
   "metadata": {},
   "outputs": [
    {
     "name": "stdout",
     "output_type": "stream",
     "text": [
      "average investment rate: 8.74%\n"
     ]
    }
   ],
   "source": [
    "# average investment rate\n",
    "investment_rate_avg = investment_rate[-5:].mean()\n",
    "print('average investment rate: {:.2f}%'.format(investment_rate_avg*100))"
   ]
  },
  {
   "cell_type": "code",
   "execution_count": null,
   "metadata": {},
   "outputs": [],
   "source": []
  },
  {
   "cell_type": "markdown",
   "metadata": {},
   "source": [
    "### Working Capital Rate <a id=\"section3-6\"></a>\n",
    "Working capital is needed to support the corporate sales effort of any company.  Often a company’s incremental change in net working capital either positive or negative is approximately proportional to its change in revenue.\n",
    "\n",
    "$\\text{Working capital} = \\text{Accounts Receivable} + \\text{Inventories} - \\text{Accounts Payable}$  \n",
    "\n",
    "Working capital is a company’s net investment in its accounts receivable and its inventories (cash outflows), minus its accounts payable (a cash inflow).  Working capital and taxes are cash outflows from the corporation that are not available to pay debts and stockholders.\n",
    "\n",
    "**Adjustments**  \n",
    "No adjustments for this company."
   ]
  },
  {
   "cell_type": "code",
   "execution_count": 115,
   "metadata": {},
   "outputs": [
    {
     "data": {
      "image/png": "[encoded data removed]",
      "text/plain": [
       "<Figure size 432x288 with 2 Axes>"
      ]
     },
     "metadata": {
      "needs_background": "light"
     },
     "output_type": "display_data"
    }
   ],
   "source": [
    "# plot as four grouped bar chart with labels on right and working capital rate on left\n",
    "# calculate position of bars\n",
    "x1_bar_position = []\n",
    "x2_bar_position = []\n",
    "x3_bar_position = []\n",
    "x4_bar_position = []\n",
    "for i in df_dcf_data['FY']:\n",
    "    x1_bar_position.append(i-relativedelta(months=3))\n",
    "    x2_bar_position.append(i-relativedelta(months=1))\n",
    "    x3_bar_position.append(i+relativedelta(months=1))\n",
    "    x4_bar_position.append(i+relativedelta(months=3))\n",
    "\n",
    "# calculate working capital rate\n",
    "working_capital = (df_dcf_data['accounts_receivable'] + df_dcf_data['inventories']) - \\\n",
    "    df_dcf_data['accounts_payable']\n",
    "working_capital_rate = working_capital / df_dcf_data['revenue']\n",
    "\n",
    "width = 40  # the width of the bars\n",
    "\n",
    "# Set the locator\n",
    "locator = mdates.YearLocator()  # every year\n",
    "fmt = mdates.DateFormatter('%Y')\n",
    "\n",
    "fig, ax1 = plt.subplots()\n",
    "ax1.set_ylabel('dollars, \\\\$B')\n",
    "\n",
    "rects1 = ax1.bar(x1_bar_position,df_dcf_data['accounts_receivable']/1e9, width,\\\n",
    "    label='Accounts Receivable')\n",
    "rects2 = ax1.bar(x2_bar_position,df_dcf_data['inventories']/1e9, width, label='Inventory')\n",
    "\n",
    "rects2 = ax1.bar(x3_bar_position,df_dcf_data['accounts_payable']/1e9, width, label='Accounts Payable')\n",
    "rects2 = ax1.bar(x4_bar_position,working_capital/1e9, width, label='Working Capital')\n",
    "\n",
    "ax1.tick_params(axis='y')\n",
    "#ax1.set_ylim((-50,200))\n",
    "ax1.legend()\n",
    "plt.grid()\n",
    "\n",
    "# instantiate a second y-axes that shares the same x-axis\n",
    "ax2 = ax1.twinx()\n",
    "color = 'tab:Blue'\n",
    "\n",
    "ax2.plot(df_dcf_data['FY'],working_capital_rate * 100,'+-')\n",
    "    \n",
    "ax2.set_ylabel('% Working Capital Rate',color=color)\n",
    "ax2.tick_params(axis='y', labelcolor=color)\n",
    "ax2.set_ylim((0,50))\n",
    "\n",
    "X = plt.gca().xaxis\n",
    "X.set_major_locator(locator)\n",
    "# Specify formatter\n",
    "X.set_major_formatter(fmt)\n",
    "plt.gcf().autofmt_xdate()\n",
    "\n",
    "plt.title('Working Capital')\n",
    "plt.show()"
   ]
  },
  {
   "cell_type": "markdown",
   "metadata": {},
   "source": [
    "**Observation:**  \n"
   ]
  },
  {
   "cell_type": "code",
   "execution_count": 116,
   "metadata": {},
   "outputs": [
    {
     "name": "stdout",
     "output_type": "stream",
     "text": [
      "average working capital rate: 20.67%\n"
     ]
    }
   ],
   "source": [
    "# average working capital rate\n",
    "working_capital_rate_avg = working_capital_rate[-5:].mean()\n",
    "print('average working capital rate: {:.2f}%'.format(working_capital_rate_avg*100))"
   ]
  },
  {
   "cell_type": "markdown",
   "metadata": {},
   "source": [
    "### Current assets <a id=\"section3-7\"></a>\n",
    "Total Current Assets from the most recent balance sheet statement of the company.  Current assets include inventory, cash and accounts receivables.\n",
    "\n",
    "**Adjustments**  \n",
    "None for this company."
   ]
  },
  {
   "cell_type": "code",
   "execution_count": 117,
   "metadata": {},
   "outputs": [
    {
     "data": {
      "image/png": "[encoded data removed]",
      "text/plain": [
       "<Figure size 432x288 with 1 Axes>"
      ]
     },
     "metadata": {
      "needs_background": "light"
     },
     "output_type": "display_data"
    }
   ],
   "source": [
    "# plot Short Term Assets\n",
    "width = 100  # the width of the bars\n",
    "\n",
    "# Set the locator\n",
    "locator = mdates.YearLocator()  # every year\n",
    "fmt = mdates.DateFormatter('%Y')\n",
    "\n",
    "plt.bar(df_dcf_data['FY'],df_dcf_data['current_assets']/1e9, width)\n",
    "\n",
    "X = plt.gca().xaxis\n",
    "X.set_major_locator(locator)\n",
    "# Specify formatter\n",
    "X.set_major_formatter(fmt)\n",
    "plt.gcf().autofmt_xdate()\n",
    "\n",
    "plt.title('Current assets')\n",
    "plt.ylabel('dollars, \\\\$B')\n",
    "\n",
    "plt.grid()\n",
    "plt.show()"
   ]
  },
  {
   "cell_type": "markdown",
   "metadata": {},
   "source": [
    "**Observation:**  \n"
   ]
  },
  {
   "cell_type": "code",
   "execution_count": 118,
   "metadata": {},
   "outputs": [
    {
     "name": "stdout",
     "output_type": "stream",
     "text": [
      "Current assets: $15.40B\n"
     ]
    }
   ],
   "source": [
    "sta = df_dcf_data['current_assets'].iloc[-1]\n",
    "print('Current assets: ${:.2f}B'.format(sta/1e9))"
   ]
  },
  {
   "cell_type": "markdown",
   "metadata": {},
   "source": [
    "### Current liabilities <a id=\"section3-8\"></a>\n",
    "Total Current Liabilities from the most recent balance sheet consolidated statement.\n",
    "\n",
    "**Adjustments**  \n",
    "None for this company."
   ]
  },
  {
   "cell_type": "code",
   "execution_count": 119,
   "metadata": {},
   "outputs": [
    {
     "data": {
      "image/png": "[encoded data removed]",
      "text/plain": [
       "<Figure size 432x288 with 1 Axes>"
      ]
     },
     "metadata": {
      "needs_background": "light"
     },
     "output_type": "display_data"
    }
   ],
   "source": [
    "# plot Short Term Liabilities\n",
    "\n",
    "width = 100  # the width of the bars\n",
    "\n",
    "# Set the locator\n",
    "locator = mdates.YearLocator()  # every year\n",
    "fmt = mdates.DateFormatter('%Y')\n",
    "\n",
    "plt.bar(df_dcf_data['FY'],df_dcf_data['current_liabilities']/1e9, width)\n",
    "\n",
    "X = plt.gca().xaxis\n",
    "X.set_major_locator(locator)\n",
    "# Specify formatter\n",
    "X.set_major_formatter(fmt)\n",
    "plt.gcf().autofmt_xdate()\n",
    "\n",
    "plt.title('Current liabilities')\n",
    "plt.ylabel('dollars, \\\\$B')\n",
    "\n",
    "plt.grid()\n",
    "plt.show()"
   ]
  },
  {
   "cell_type": "code",
   "execution_count": 120,
   "metadata": {},
   "outputs": [
    {
     "name": "stdout",
     "output_type": "stream",
     "text": [
      "Average of current liabilities: $7.14B\n"
     ]
    }
   ],
   "source": [
    "print('Average of current liabilities: ${:.2f}B'.format(df_dcf_data['current_liabilities'].mean()/1e9))"
   ]
  },
  {
   "cell_type": "markdown",
   "metadata": {},
   "source": [
    "**Observation**:  \n"
   ]
  },
  {
   "cell_type": "code",
   "execution_count": 121,
   "metadata": {},
   "outputs": [
    {
     "name": "stdout",
     "output_type": "stream",
     "text": [
      "Current liabilities: $9.04B\n"
     ]
    }
   ],
   "source": [
    "stl = df_dcf_data['current_liabilities'].iloc[-1]\n",
    "print('Current liabilities: ${:.2f}B'.format(stl/1e9))"
   ]
  },
  {
   "cell_type": "markdown",
   "metadata": {},
   "source": [
    "### Value of Debt Outstanding <a id=\"section3-9\"></a>\n",
    "Amount of debt outstanding from the most recent balance sheet of the company.\n",
    "\n",
    "\n",
    "**Adjustments**  \n",
    "None for this company."
   ]
  },
  {
   "cell_type": "code",
   "execution_count": 122,
   "metadata": {},
   "outputs": [
    {
     "data": {
      "image/png": "[encoded data removed]",
      "text/plain": [
       "<Figure size 432x288 with 2 Axes>"
      ]
     },
     "metadata": {
      "needs_background": "light"
     },
     "output_type": "display_data"
    }
   ],
   "source": [
    "# calculate the percent change in debt, pcd\n",
    "pcd = np.zeros(len(df_dcf_data['long_term_debt'].to_numpy())) # percent change in debt\n",
    "for i in range(len(df_dcf_data['long_term_debt'].to_numpy()[0:-1])):\n",
    "    pcd[i+1] = ((df_dcf_data['long_term_debt'].to_numpy()[i+1] - df_dcf_data['long_term_debt'].to_numpy()[i])/\n",
    "                df_dcf_data['long_term_debt'].to_numpy()[i+1])*100\n",
    "\n",
    "width = 100\n",
    "\n",
    "# Set the locator\n",
    "locator = mdates.YearLocator()  # every year\n",
    "fmt = mdates.DateFormatter('%Y')\n",
    "\n",
    "fig, ax1 = plt.subplots()\n",
    "ax1.set_ylabel('Dollars, $B')\n",
    "\n",
    "# plot revenue as single bar\n",
    "plt.bar(df_dcf_data['FY'],df_dcf_data['long_term_debt']/1e9, width,color='k')\n",
    "\n",
    "ax1.tick_params(axis='y')\n",
    "plt.grid()\n",
    "\n",
    "# instantiate a second y-axes that shares the same x-axis\n",
    "ax2 = ax1.twinx()\n",
    "color = 'tab:green'\n",
    "\n",
    "ax2.plot(df_dcf_data['FY'],pcd,'+-g')\n",
    "    \n",
    "ax2.set_ylabel('% Change in debt',color=color)\n",
    "ax2.tick_params(axis='y', labelcolor=color)\n",
    "#ax2.set_ylim((-40,100))\n",
    "\n",
    "X = plt.gca().xaxis\n",
    "X.set_major_locator(locator)\n",
    "# Specify formatter\n",
    "X.set_major_formatter(fmt)\n",
    "plt.gcf().autofmt_xdate()\n",
    "\n",
    "plt.title('debt')\n",
    "plt.show()"
   ]
  },
  {
   "cell_type": "code",
   "execution_count": 123,
   "metadata": {},
   "outputs": [
    {
     "name": "stdout",
     "output_type": "stream",
     "text": [
      "average debt growth rate: 10.39%\n"
     ]
    }
   ],
   "source": [
    "dgr_avg = pcd[1:].mean()/100\n",
    "print('average debt growth rate: {:.2f}%'.format(dgr_avg*100))"
   ]
  },
  {
   "cell_type": "markdown",
   "metadata": {},
   "source": [
    "**Observation:**  \n"
   ]
  },
  {
   "cell_type": "code",
   "execution_count": 124,
   "metadata": {},
   "outputs": [
    {
     "name": "stdout",
     "output_type": "stream",
     "text": [
      "Total long term debt and other: $16.06B\n"
     ]
    }
   ],
   "source": [
    "vod = df_dcf_data['long_term_debt'].iloc[-1]\n",
    "print('Total long term debt and other: ${:.2f}B'.format(vod/1e9))"
   ]
  },
  {
   "cell_type": "markdown",
   "metadata": {},
   "source": [
    "### Current stock price <a id=\"section3-10\"></a>\n",
    "Most recent stock price for the [company](https://finance.yahoo.com/quote/BMY?p=BMY).  The current stock price is used to calculate the market value of the firm. Use the market value when looking at market capitalization for common stock. "
   ]
  },
  {
   "cell_type": "code",
   "execution_count": 125,
   "metadata": {},
   "outputs": [
    {
     "name": "stdout",
     "output_type": "stream",
     "text": [
      "current stock price: $146.41\n"
     ]
    }
   ],
   "source": [
    "csp = 146.41 # current stock price\n",
    "print('current stock price: ${:,.2f}'.format(csp))"
   ]
  },
  {
   "cell_type": "markdown",
   "metadata": {},
   "source": [
    "### Shares outstanding <a id=\"section4-11\"></a>\n",
    "The number of shares outstanding is used to calculate the intrinsic stock value.  \n",
    "\n",
    "**Adjustments for MMM**  \n",
    "Using the Weighted average 3M common shares outstanding — basic in the DCF analysis.  \n",
    "Weighted average 3M common shares outstanding — basic 579.0 million  \n",
    "Shares of common stock outstanding at January 31, 2022: 571.1 million"
   ]
  },
  {
   "cell_type": "code",
   "execution_count": 126,
   "metadata": {},
   "outputs": [
    {
     "name": "stdout",
     "output_type": "stream",
     "text": [
      "shares outstanding, basic: 579,000,000\n"
     ]
    }
   ],
   "source": [
    "so = df_dcf_data['shares_outstanding'].iloc[-1] # shares outstanding\n",
    "print('shares outstanding, basic: {:,.0f}'.format(so))"
   ]
  },
  {
   "cell_type": "code",
   "execution_count": 127,
   "metadata": {},
   "outputs": [
    {
     "data": {
      "image/png": "[encoded data removed]",
      "text/plain": [
       "<Figure size 432x288 with 2 Axes>"
      ]
     },
     "metadata": {
      "needs_background": "light"
     },
     "output_type": "display_data"
    }
   ],
   "source": [
    "# calculate the percent change in shares outstanding, pcso\n",
    "pcso = np.zeros(len(df_dcf_data['shares_outstanding'].to_numpy())) # percent change in debt\n",
    "for i in range(len(df_dcf_data['shares_outstanding'].to_numpy()[0:-1])):\n",
    "    pcso[i+1] = ((df_dcf_data['shares_outstanding'].to_numpy()[i+1] - df_dcf_data['shares_outstanding'].to_numpy()[i])/\n",
    "                df_dcf_data['shares_outstanding'].to_numpy()[i+1])*100\n",
    "\n",
    "width = 100\n",
    "\n",
    "# Set the locator\n",
    "locator = mdates.YearLocator()  # every year\n",
    "fmt = mdates.DateFormatter('%Y')\n",
    "\n",
    "fig, ax1 = plt.subplots()\n",
    "ax1.set_ylabel('shares outstanding, M')\n",
    "\n",
    "# plot revenue as single bar\n",
    "plt.bar(df_dcf_data['FY'],df_dcf_data['shares_outstanding']/1e6, width,color='k')\n",
    "\n",
    "ax1.tick_params(axis='y')\n",
    "plt.grid()\n",
    "\n",
    "# instantiate a second y-axes that shares the same x-axis\n",
    "ax2 = ax1.twinx()\n",
    "color = 'tab:green'\n",
    "\n",
    "ax2.plot(df_dcf_data['FY'],pcso,'+-g')\n",
    "    \n",
    "ax2.set_ylabel('% Change in shares outstanding',color=color)\n",
    "ax2.tick_params(axis='y', labelcolor=color)\n",
    "#ax2.set_ylim((-5,25))\n",
    "\n",
    "X = plt.gca().xaxis\n",
    "X.set_major_locator(locator)\n",
    "# Specify formatter\n",
    "X.set_major_formatter(fmt)\n",
    "plt.gcf().autofmt_xdate()\n",
    "\n",
    "plt.title('Shares outstanding')\n",
    "plt.show()"
   ]
  },
  {
   "cell_type": "code",
   "execution_count": 128,
   "metadata": {},
   "outputs": [
    {
     "name": "stdout",
     "output_type": "stream",
     "text": [
      "average shares outstanding growth rate: -1.93%\n"
     ]
    }
   ],
   "source": [
    "print('average shares outstanding growth rate: {:.2f}%'.format(pcso[1:].mean()))"
   ]
  },
  {
   "cell_type": "markdown",
   "metadata": {},
   "source": [
    "**Observation:**  \n",
    "Repurchases of 3M common stock are made to support the Company’s stock-based employee compensation plans and for other\n",
    "corporate purposes. In November 2018, 3M’s Board of Directors replaced the Company’s February 2016 repurchase program\n",
    "with a new repurchase program. This new program authorizes the repurchase of up to \\\\$10 billion of 3M’s outstanding common\n",
    "stock, with no pre-established end date."
   ]
  },
  {
   "cell_type": "markdown",
   "metadata": {},
   "source": [
    "### Dilution\n",
    "Dilution occurs when a company issues new shares that result in a decrease in existing stockholders' ownership percentage of that company. Stock dilution can also occur when holders of stock options, such as company employees, or holders of other optionable securities exercise their options. When the number of shares outstanding increases, each existing stockholder owns a smaller, or diluted, percentage of the company, making each share less valuable.\n",
    "\n",
    "Investigate why there is a historic growth trend in number of shares outstanding. Search annual report for dilutive actions:\n",
    "- share sales\n",
    "- convertable debt\n",
    "- employee options\n",
    "\n",
    "**Search results:**  \n",
    "Page 54: Earnings per share: The difference in the weighted average 3M shares outstanding for calculating basic and diluted earnings per share attributable to 3M common shareholders is the result of the dilution associated with the Company’s stock-based compensation plans. Certain options outstanding under these stock-based compensation plans during the years 2021, 2020 and\n",
    "2019 were not included in the computation of diluted earnings per share attributable to 3M common shareholders because they would have had an anti-dilutive effect (7.8 million average options for 2021, 18.1 million average options for 2020, and 8.9 million average options for 2019).\n",
    "\n",
    "Dilution associated with the Company’s stock-based compensation plans:  \n",
    "2021 6.3 million shares  \n",
    "2020 4.6 million shares  \n",
    "2019 8.1 million shares  \n",
    "\n",
    "Stock-based compensation: The Company recognizes compensation expense for its stock-based compensation programs, which include stock options, restricted stock, restricted stock units (RSUs), performance shares, and the General Employees’ Stock Purchase Plan (GESPP). Under applicable accounting standards, the fair value of share-based compensation is determined at the grant date and the recognition of the related expense is recorded over the period in which the share-based compensation vests. However, with respect to income taxes, the related deduction from taxes payable is based on the award’s intrinsic value at the time of exercise (for an option) or on the fair value upon vesting of the award (for RSUs), which can be either greater (creating an excess tax benefit) or less (creating a tax deficiency) than the deferred tax benefit recognized as compensation cost is recognized in the financial statements. These excess tax benefits/deficiencies are recognized as income tax benefit/expense in the statement of income and, within the statement of cash flows, are classified in operating activities in the same manner as other cash flows related to income taxes. The extent of excess tax benefits/deficiencies is subject to variation in 3M stock price and timing/extent of RSU vestings and employee stock option exercises.\n",
    "\n",
    "Page 120: As of December 31, 2021, there was \\\\$94 million of compensation expense that has yet to be recognized related to non-vested restricted stock and restricted stock units. This expense is expected to be recognized over the remaining weighted-average vesting period of 24 months. The total fair value of restricted stock and restricted stock units that vested during December 31, 2021, 2020 and 2019 was \\\\$83 million, \\\\$91 million and \\\\$144 million, respectively. The Company’s actual tax benefits realized for the tax deductions related to the vesting of restricted stock and restricted stock units for 2021, 2020 and 2019 was \\\\$16 million, \\\\$17 million and $28 million, respectively.  \n",
    "\n",
    "Restricted stock units granted generally vest three years following the grant date assuming continued employment. Dividend equivalents equal to the dividends payable on the same number of shares of 3M common stock accrue on these restricted stock units during the vesting period, although no dividend equivalents are paid on any of these restricted stock units that are forfeited prior to the vesting date. Dividends are paid out in cash at the vest date on restricted stock units. Since the rights to dividends are forfeitable, there is no impact on basic earnings per share calculations. Weighted average restricted stock unit shares outstanding are included in the computation of diluted earnings per share.\n",
    "\n",
    "Instead of restricted stock units, the Company makes annual grants of performance shares to members of its executive management. The 2021 performance criteria for these performance shares (organic volume growth, return on invested capital, free cash flow conversion, and earnings per share growth) were selected because the Company believes that they are important drivers of long-term stockholder value. The number of shares of 3M common stock that could actually be delivered at the end of the three year performance period may be anywhere from 0% to 200% of each performance share granted, depending on the performance of the Company during such performance period. When granted, these performance shares are awarded at 100% of the estimated number of shares at the end of the three-year performance period and are reflected under “Granted” in the table below. Non-substantive vesting requires that expense for the performance shares be recognized over one or three years depending on when each individual became a 3M executive. The performance share grants accrue dividends; therefore, the grant date fair value is equal to the closing stock price on the date of grant. Since the rights to dividends are forfeitable, there is no impact on basic earnings per share calculations. Weighted average performance shares whose performance period is complete are included in computation of diluted earnings per share."
   ]
  },
  {
   "cell_type": "code",
   "execution_count": null,
   "metadata": {},
   "outputs": [],
   "source": []
  },
  {
   "cell_type": "markdown",
   "metadata": {},
   "source": [
    "### 10 year treasury bond yield <a id=\"section3-12\"></a>\n",
    "The [10 year treasury yield](https://finance.yahoo.com/quote/%5ETNX?p=^TNX&.tsrc=fin-srch) is used as a measure of the risk free rate.    \n",
    "Yield: 2.327%\n",
    "\n",
    "iShares 7-10 Year Treasury Bond ETF ([IEF](https://www.ishares.com/us/products/239456/ishares-710-year-treasury-bond-etf))  \n",
    "Average Yield to Maturity: 2.49%"
   ]
  },
  {
   "cell_type": "code",
   "execution_count": 129,
   "metadata": {},
   "outputs": [
    {
     "name": "stdout",
     "output_type": "stream",
     "text": [
      "10 year treasury bond yield: 2.41%\n"
     ]
    }
   ],
   "source": [
    "tby = (2.327 + 2.49)/2/100  # 10 year treasury bond yield, average of data from sources listed above\n",
    "print('10 year treasury bond yield: {:,.2f}%'.format(tby*100))"
   ]
  },
  {
   "cell_type": "markdown",
   "metadata": {},
   "source": [
    "### Bond yield spread to treasury <a id=\"section3-13\"></a>\n",
    "The spread to treasury implies that all corporate debt will have a higher yield than yields associated with comparable maturity US Treasury Bonds.  The best way to determine default risk is to see how a particular company's debt is trading in the market and compare it on a spread basis with comparable maturity yields.  \n",
    "\n",
    "Look at the following or use a default rating systems that are published by the three major rating agencies, Standards and Poors Corp, Moody’s Investor Services and Fitch & Company.\n",
    "\n",
    "[PIMCO Active Bond Exchange-Traded Fund (BOND)](https://finance.yahoo.com/quote/BOND?p=BOND)  \n",
    "Yield: 2.53%\n",
    "\n",
    "iShares 5-10 Year Investment Grade Corporate Bond ETF ([IGIB](https://www.ishares.com/us/products/239463/ishares-intermediate-credit-bond-etf))  \n",
    "Average Yield to Maturity: 3.84%\n",
    " \n",
    "iShares 10+ Year Investment Grade Corporate Bond ETF ([IGLB](https://www.ishares.com/us/products/239423/ishares-10-year-credit-bond-etf))  \n",
    "Average Yield to Maturity: 4.23%\n",
    "\n",
    "Web resources:\n",
    "- http://www.standardpoor.com/  \n",
    "- http://bond.yahoo.com/rates.html  \n",
    "- http://www.moodys.com/cust/default.asp  \n",
    "- http://www.fitchibca.com/corporate/index.cfm  "
   ]
  },
  {
   "cell_type": "code",
   "execution_count": 130,
   "metadata": {},
   "outputs": [
    {
     "name": "stdout",
     "output_type": "stream",
     "text": [
      "Bond yield spread to treasury: 3.51%\n"
     ]
    }
   ],
   "source": [
    "bystt = ((2.53 + 3.84 + 4.23)/3-tby)/100           # bond yield spread (average) to treasury spread\n",
    "print('Bond yield spread to treasury: {:,.2f}%'.format(bystt*100))"
   ]
  },
  {
   "cell_type": "markdown",
   "metadata": {},
   "source": [
    "### Preferred stock yield <a id=\"section3-14\"></a>\n",
    "Amount of preferred stock outstanding from the most recent balance sheet of the company.\n",
    "\n",
    "**Adjustments for MMM**  \n",
    "NOTE 8. Supplemental Equity and Comprehensive Income Information, pdf page 70 of 2022 10K  \n",
    "Preferred stock, without par value, of 10 million shares is authorized but unissued."
   ]
  },
  {
   "cell_type": "code",
   "execution_count": 131,
   "metadata": {},
   "outputs": [
    {
     "name": "stdout",
     "output_type": "stream",
     "text": [
      "preferred stock yield: 0.00%\n",
      "value of preferred stock: 0.00\n"
     ]
    }
   ],
   "source": [
    "psy = 0/100  # preferred stock yield\n",
    "print('preferred stock yield: {:,.2f}%'.format(psy*100))\n",
    "\n",
    "vps = 0 # value of preferred stock\n",
    "print('value of preferred stock: {:,.2f}'.format(vps))"
   ]
  },
  {
   "cell_type": "markdown",
   "metadata": {},
   "source": [
    "### Equity risk premium <a id=\"section4-15\"></a>\n",
    "The expected excess return a hypothetical average investor would require of a diversified portfolio of stock (assumed beta = 1.0) over the yield on the 10-year Treasury Bond.  The equity risk premium has been going down over the years.  \n",
    "- 1926 to 1990: 5.5%   \n",
    "- 1962 to 1990: 3.25%   \n",
    "- 1981 to 1990: 0.19%   \n",
    "\n",
    "In times of sustained economic growth the risk premium demanded by investors generally declines.   \n",
    "\n",
    "I'm going to use 3% as the equity risk premium."
   ]
  },
  {
   "cell_type": "code",
   "execution_count": 132,
   "metadata": {},
   "outputs": [
    {
     "name": "stdout",
     "output_type": "stream",
     "text": [
      "Equity risk premium: 3.00%\n"
     ]
    }
   ],
   "source": [
    "eq_rp = 3.0/100             # equity risk premium\n",
    "print('Equity risk premium: {:,.2f}%'.format(eq_rp*100))"
   ]
  },
  {
   "cell_type": "markdown",
   "metadata": {},
   "source": [
    "### Company specific beta <a id=\"section3-16\"></a>\n",
    "The Beta used is Beta of Equity. Beta is the monthly price change of a particular company relative to the monthly price change of the S&P 500. The time period for Beta is 5 years when available. This value can be obtained at [yahoo finance](https://finance.yahoo.com/quote/BMY/?p=BMY).  \n",
    "\n",
    "A measure of risk of an individual stock. It measures volatility of return - a higher beta means a higher risk. A financial model that uses Beta as its sole measure of risk (signal factor model) is called a Capital Asset Pricing Model (CAPM).\n",
    " "
   ]
  },
  {
   "cell_type": "code",
   "execution_count": 133,
   "metadata": {},
   "outputs": [
    {
     "name": "stdout",
     "output_type": "stream",
     "text": [
      "Company specific beta: 0.97\n"
     ]
    }
   ],
   "source": [
    "beta = 0.97 # company specific beta\n",
    "print('Company specific beta: {:,.2f}'.format(beta))"
   ]
  },
  {
   "cell_type": "markdown",
   "metadata": {},
   "source": [
    "### DCF model inputs <a id=\"section3-17\"></a>\n",
    "Below are the DCF model inputs.  These values were calculated above."
   ]
  },
  {
   "cell_type": "code",
   "execution_count": 134,
   "metadata": {},
   "outputs": [
    {
     "name": "stdout",
     "output_type": "stream",
     "text": [
      "revenue growth rate: 3.09%\n",
      "net operating profit margin: 21.80%\n",
      "tax rate: 23.23%\n",
      "depreciation rate: 5.15%\n",
      "investment rate: 8.74%\n",
      "working capital rate: 20.67%\n"
     ]
    }
   ],
   "source": [
    "# various rates\n",
    "rgr = rgr_avg              # revenue growth rate\n",
    "print('revenue growth rate: {:,.2f}%'.format(rgr*100))\n",
    "nopm = nopm_avg             # net operating profit margin\n",
    "print('net operating profit margin: {:,.2f}%'.format(nopm*100))\n",
    "tr = tax_rate_avg               # tax rate\n",
    "print('tax rate: {:,.2f}%'.format(tr*100))\n",
    "dr = depreciation_rate_avg              # depreciation rate (% of revenue)\n",
    "print('depreciation rate: {:,.2f}%'.format(dr*100))\n",
    "ir = investment_rate_avg              # investment rate (% of revenue)\n",
    "print('investment rate: {:,.2f}%'.format(ir*100))\n",
    "wcr = working_capital_rate_avg            # working capital rate (% of revenue)\n",
    "print('working capital rate: {:,.2f}%'.format(wcr*100))"
   ]
  },
  {
   "cell_type": "markdown",
   "metadata": {},
   "source": [
    "**Excess return period**  \n",
    "The excess return period is based on a judgment call.  The authors of [1] use the 1-5-7-10 rule. They group companies into one of four general categories and excess return periods. They use a 10 year excess return period to calculate what they would consider the maximum value. They use a more conservative 1 year, 5 year or 7 year return period to calculate a more reasonable or minimum value.  \n",
    "- 1 year: Boring companies that operate in a highly competitive, low margin industry in which they have nothing particular going for them.\n",
    "- 5 year: Decent companies that have a recognizable name and decent reputation and perhaps a regulatory benefit (utility company), but can’t control pricing or growth.\n",
    "- 7 year: Good companies with good brand names, large companies of scale, good marketing channels and consumer identification (e.g. McDonald’s)\n",
    "- 10 year: Great companies with great growth potential, tremendous marketing power, band names and in-place benefits (e.g. Intel, Microsoft, Coca Cola, Disney)  \n",
    "\n",
    "The excess return period used for the base case is ten years, which should lead to a higher calculated intrinsic value."
   ]
  },
  {
   "cell_type": "code",
   "execution_count": 135,
   "metadata": {},
   "outputs": [
    {
     "name": "stdout",
     "output_type": "stream",
     "text": [
      "starting year: 2021\n",
      "excess return period: 10 years\n",
      "starting revenues: $35.35B\n",
      "shares outstanding: 579,000,000\n"
     ]
    }
   ],
   "source": [
    "# General Inputs\n",
    "fy_start = df_dcf_data['FY'].iloc[-1].year # fiscal year to start excess return period\n",
    "erp = 10 # excess return period, years\n",
    "rev_start = df_dcf_data['revenue'].to_numpy()[-1] # starting revenues for excess return period\n",
    "print('starting year: {:.0f}'.format(fy_start))\n",
    "print('excess return period: {:.0f} years'.format(erp))\n",
    "print('starting revenues: ${:,.2f}B'.format(rev_start/1e9))\n",
    "print('shares outstanding: {:,.0f}'.format(so))"
   ]
  },
  {
   "cell_type": "code",
   "execution_count": 136,
   "metadata": {},
   "outputs": [
    {
     "name": "stdout",
     "output_type": "stream",
     "text": [
      "preferred stock, market value : $0.00B\n",
      "common stock, market value: $84.77B\n"
     ]
    }
   ],
   "source": [
    "ps_mv = vps               # preferred stock, market value \n",
    "print('preferred stock, market value : ${:,.2f}B'.format(ps_mv/1e9))\n",
    "cs_mv = csp*so            # common stock, market value \n",
    "print('common stock, market value: ${:,.2f}B'.format(cs_mv/1e9))"
   ]
  },
  {
   "cell_type": "markdown",
   "metadata": {},
   "source": [
    "**Long Term Debt, Market Value, ltd_mv**  \n",
    "Use the book value for long term debt.  Various online resources can be used to research this item.\n",
    "These include, [Bondsonline](http://www.bondsonline.com/) and [Bloomberg](http://www.bloomberg.com/).  The book value of debt and preferred stock is an accounting measure that relates to how much money was raised by the company when each security was issued.  The market value of debt and the preferred and common stock is the price that specific obligations would trade at in today’s market. \n",
    "\n",
    "Long term debt for firms can take one of two forms.  It can be a long-term loan from a bank or other financial institution or it can be a long-term bond issued to financial markets, in which case the creditors are the investors in the bond.  Firms often have long term obligations that are not captured in the long term debt item.  These include obligations to lessors on assets that firms have leased, to employees in the form of pension fund and health care benefits yet to be paid, and to the government in the form of taxes deferred.  In the last two decades, accountants have increasingly moved towards quantifying these liabilities and showing them as long term liabilities."
   ]
  },
  {
   "cell_type": "code",
   "execution_count": 137,
   "metadata": {},
   "outputs": [
    {
     "name": "stdout",
     "output_type": "stream",
     "text": [
      "total market value: $100.83B\n"
     ]
    }
   ],
   "source": [
    "ltd_mv = vod              # market value of long term debt\n",
    "tmv = ltd_mv+ps_mv+cs_mv  # total market value \n",
    "print('total market value: ${:,.2f}B'.format(tmv/1e9))"
   ]
  },
  {
   "cell_type": "markdown",
   "metadata": {},
   "source": [
    "**Cost of Common Equity, cce**  \n",
    "The expected excess return a hypothetical average investor would require of a diversified portfolio of stock (assumed beta = 1.0) over the yield on the 10-year Treasury Bond.  The annual rate of return that an investor expects to earn when investing in shares of a company is known as the cost of common equity.  It includes dividends and increases in the market value."
   ]
  },
  {
   "cell_type": "code",
   "execution_count": 138,
   "metadata": {},
   "outputs": [
    {
     "name": "stdout",
     "output_type": "stream",
     "text": [
      "cost of common equity: 5.32%\n"
     ]
    }
   ],
   "source": [
    "cce = tby+beta*eq_rp      # cost of common equity or the expected return for the stock\n",
    "print('cost of common equity: {:,.2f}%'.format(cce*100))"
   ]
  },
  {
   "cell_type": "markdown",
   "metadata": {},
   "source": [
    "**Long Term Debt, Average Yield, ltd_ay**  \n",
    "The total cost of long term debt."
   ]
  },
  {
   "cell_type": "code",
   "execution_count": 139,
   "metadata": {},
   "outputs": [
    {
     "name": "stdout",
     "output_type": "stream",
     "text": [
      "long term debt average yield: 5.92%\n"
     ]
    }
   ],
   "source": [
    "ltd_ay = tby+bystt        # long term debt average yield\n",
    "print('long term debt average yield: {:,.2f}%'.format(ltd_ay*100))"
   ]
  },
  {
   "cell_type": "markdown",
   "metadata": {},
   "source": [
    "**Long Term Debt, After Tax Yield, ltd_aty**  \n",
    "The tax benefits of long term debt.  Interest payments are tax deductible for the company."
   ]
  },
  {
   "cell_type": "code",
   "execution_count": 140,
   "metadata": {},
   "outputs": [
    {
     "name": "stdout",
     "output_type": "stream",
     "text": [
      "long term debt after tax yield: 4.54%\n",
      "preferred stock, average yield: 0.00%\n",
      "common stock, after tax yield: 5.32%\n",
      "common stock, after tax effet: 4.47%\n",
      "total after tax effect: 5.20%\n",
      "total % Capital: 100.00%\n"
     ]
    }
   ],
   "source": [
    "ltd_aty = ltd_ay*(1-tr)   # long term debt after tax yield\n",
    "print('long term debt after tax yield: {:,.2f}%'.format(ltd_aty*100))\n",
    "\n",
    "ltd_pc = vod/tmv          # weight for long term debt \n",
    "ltd_ate = ltd_aty*ltd_pc  # after tax effect of long term debt \n",
    "ps_ay = psy               # preferred stock, average yield \n",
    "ps_aty = ps_ay            # preferred stock, average yield \n",
    "print('preferred stock, average yield: {:,.2f}%'.format(ps_aty*100))\n",
    "\n",
    "ps_pc = ps_mv/tmv         # preferred stock, % capital \n",
    "ps_ate = ps_aty*ps_pc     # preferred stock, after tax effect \n",
    "cs_ay = cce               # common stock, average yield \n",
    "cs_aty = cce              # common stock, after tax yield \n",
    "print('common stock, after tax yield: {:,.2f}%'.format(cs_aty*100))\n",
    "\n",
    "cs_pc = cs_mv/tmv         # common stock, % capital \n",
    "cs_ate = cs_aty*cs_pc     # common stock, after tax effect \n",
    "print('common stock, after tax effet: {:,.2f}%'.format(cs_ate*100))\n",
    "\n",
    "tate = ltd_ate+ps_ate+cs_ate # total after tax effect \n",
    "print('total after tax effect: {:,.2f}%'.format(tate*100))\n",
    "tpc = ltd_pc+ps_pc+cs_pc     # total % Capital\n",
    "print('total % Capital: {:,.2f}%'.format(tpc*100))"
   ]
  },
  {
   "cell_type": "markdown",
   "metadata": {},
   "source": [
    "**Weighted average cost of capital**  \n",
    "A company's weighted average cost of capital (WACC) is the weighted average of the company's current cost of debt and equity calculated by using current debt, preferred stock and common stock market values.  The WACC of the company, calculated after tax, is the discount rate used in the DCF valuation procedures. The WACC, which is the cost of the different components of financing used by the firm, weighted by their market value proportions.  These include debt, preferred stock, and common stock.\n",
    "\n",
    "WACC: Weighted Average Cost of Capital, the rate used to discount cash flows, based on the following three factors.\n",
    "1. Base rate of return.\n",
    "2. Expected return based on debt and preferred stock.\n",
    "3. Expected return on common stock and Beta.\n",
    "\n",
    "All adjusted for the tax advantage of interest payments and the percentage of debt, preferred stock and common stock."
   ]
  },
  {
   "cell_type": "code",
   "execution_count": 141,
   "metadata": {},
   "outputs": [
    {
     "name": "stdout",
     "output_type": "stream",
     "text": [
      "weighted average cost of capital: 5.2%\n"
     ]
    }
   ],
   "source": [
    "wacc = tate\n",
    "print('weighted average cost of capital: {:.1f}%'.format(wacc*100))"
   ]
  },
  {
   "cell_type": "markdown",
   "metadata": {},
   "source": [
    "### Future cash flows <a id=\"section3-18\"></a>\n",
    "The future cash flows to the firm are projected based on revenue growth.  The cash flows are then discounted using the WACC and the ISV is calculated."
   ]
  },
  {
   "cell_type": "code",
   "execution_count": 142,
   "metadata": {},
   "outputs": [
    {
     "name": "stdout",
     "output_type": "stream",
     "text": [
      "Year       Rev       NOP  AdjTaxes     NOPAT   Invest.   Deprec.  dInvest.       dWC      FCFF        DF   DF*FCFF\n",
      "2021    35,355         0         0         0         0         0         0         0         0    0.0000         0\n",
      "2022    36,446     7,946     1,846     6,100     3,185     1,876     1,309       226     4,565    0.9506     4,340\n",
      "2023    37,571     8,191     1,903     6,288     3,283     1,933     1,350       232     4,706    0.9037     4,253\n",
      "2024    38,731     8,444     1,961     6,482     3,385     1,993     1,391       240     4,851    0.8590     4,167\n",
      "2025    39,926     8,704     2,022     6,682     3,489     2,055     1,434       247     5,001    0.8166     4,084\n",
      "2026    41,159     8,973     2,084     6,889     3,597     2,118     1,479       255     5,155    0.7763     4,002\n",
      "2027    42,429     9,250     2,149     7,101     3,708     2,183     1,524       263     5,314    0.7380     3,922\n",
      "2028    43,738     9,535     2,215     7,320     3,822     2,251     1,571       271     5,478    0.7015     3,843\n",
      "2029    45,088     9,830     2,283     7,546     3,940     2,320     1,620       279     5,648    0.6669     3,766\n",
      "2030    46,480    10,133     2,354     7,779     4,062     2,392     1,670       288     5,822    0.6339     3,691\n",
      "2031    47,915    10,446     2,426     8,019     4,187     2,466     1,721       296     6,002    0.6026     3,617\n"
     ]
    }
   ],
   "source": [
    "# make a list of the fiscal years in excess return period \n",
    "fy = np.zeros(erp+1)\n",
    "fy[0] = fy_start\n",
    "for i in range(1,erp+1): \n",
    "    fy[i]=fy_start+i\n",
    "\n",
    "rev = np.zeros(len(fy))\n",
    "ciwc = np.zeros(len(fy))\n",
    "rev[0] = rev_start  #*rgr+rev_start   # find the future revenue using constant revenue growth rate \n",
    "\n",
    "for i in range(1,len(fy)): \n",
    "    rev[i] = rev[i-1]*rgr+rev[i-1]  # find the future revenue \n",
    "    ciwc[i] = (rev[i]-rev[i-1])*wcr  # find the change in working capital \n",
    "\n",
    "net_op = np.zeros(len(fy)) # net operating profit\n",
    "adj_taxes = np.zeros(len(fy))\n",
    "nopat = np.zeros(len(fy))\n",
    "invest = np.zeros(len(fy))\n",
    "depre = np.zeros(len(fy))\n",
    "net_invest = np.zeros(len(fy))\n",
    "fcff = np.zeros(len(fy))\n",
    "disc_fact = np.zeros(len(fy))\n",
    "disc_fcff = np.zeros(len(fy))                \n",
    "\n",
    "# calculate values in table \n",
    "for i in range(1,len(fy)):\n",
    "    net_op[i] = rev[i]*nopm # net operating profit margin\n",
    "    adj_taxes[i] = net_op[i]*tr # net operating profit adjusted for taxes\n",
    "    nopat[i] = net_op[i]-adj_taxes[i] # after tax net operating profit\n",
    "    invest[i] = rev[i]*ir # future investments\n",
    "    depre[i] = rev[i]*dr # future depreciations\n",
    "    net_invest[i] = invest[i]-depre[i] # net investments\n",
    "    fcff[i] = nopat[i]-net_invest[i]-ciwc[i] # free cash flow to the firm\n",
    "    disc_fact[i] = 1/((1+wacc)**i) # discount factor\n",
    "    disc_fcff[i] = disc_fact[i]*fcff[i] # discounted free cash flow to the firm\n",
    "    \n",
    "dcrv = nopat[-1]/wacc*disc_fact[-1] # discounted corporate residual value\n",
    "derp_fcff = disc_fcff.sum() # discounted excess return period FCFF\n",
    "\n",
    "tcv = derp_fcff+dcrv+sta # total corporate value\n",
    "tvce = tcv-vod-vps-stl # total value of common equity\n",
    "isv = tvce/so # intrinsic stock value\n",
    "\n",
    "# print cash flows in a table\n",
    "print('{:4s}{:>10s}{:>10s}{:>10s}{:>10s}{:>10s}{:>10s}{:>10s}{:>10s}{:>10s}{:>10s}{:>10s}'.format('Year','Rev','NOP','AdjTaxes',\n",
    "    'NOPAT','Invest.','Deprec.','dInvest.','dWC','FCFF','DF','DF*FCFF'))\n",
    "for i in range(len(fy)):\n",
    "    print('{:4.0f}{:10,.0f}{:10,.0f}{:10,.0f}{:10,.0f}{:10,.0f}{:10,.0f}{:10,.0f}{:10,.0f}{:10,.0f}{:10,.4f}{:10,.0f}'.format(fy[i],\n",
    "        rev[i]/1e6,net_op[i]/1e6,adj_taxes[i]/1e6,nopat[i]/1e6,invest[i]/1e6,depre[i]/1e6,(invest[i]-depre[i])/1e6,ciwc[i]/1e6,\n",
    "        fcff[i]/1e6,disc_fact[i],disc_fcff[i]/1e6))"
   ]
  },
  {
   "cell_type": "code",
   "execution_count": 143,
   "metadata": {},
   "outputs": [
    {
     "name": "stdout",
     "output_type": "stream",
     "text": [
      "discounted excess return period FCFF: $39.68B\n",
      "discounted corporate residual value: $93.03B\n",
      "total corporate value: $148.11B\n",
      "total value of common equity: $123.02B\n",
      "intrinsic stock value, baseline case: $212.47\n",
      "current stock price: $146.41\n"
     ]
    }
   ],
   "source": [
    "# Intrinsic Value\n",
    "print('discounted excess return period FCFF: ${:,.2f}B'.format(derp_fcff/1e9))\n",
    "print('discounted corporate residual value: ${:,.2f}B'.format(dcrv/1e9))\n",
    "print('total corporate value: ${:,.2f}B'.format(tcv/1e9))\n",
    "print('total value of common equity: ${:,.2f}B'.format(tvce/1e9))\n",
    "tvce_baseline = tvce # save value as baseline case\n",
    "isv_baseline = isv # save the isv for the baseline case\n",
    "print('intrinsic stock value, baseline case: ${:,.2f}'.format(isv_baseline))\n",
    "print('current stock price: ${:,.2f}'.format(csp))"
   ]
  },
  {
   "cell_type": "markdown",
   "metadata": {},
   "source": [
    "**Observation:**  \n",
    "The base line DCF analysis produces an intrinsic stock value of \\\\$. "
   ]
  },
  {
   "cell_type": "markdown",
   "metadata": {},
   "source": [
    "### List of all inputs to the DCF model\n",
    "The following print statements format the inputs to the model similar to how they are presented on the Valuepro page."
   ]
  },
  {
   "cell_type": "code",
   "execution_count": 144,
   "metadata": {},
   "outputs": [
    {
     "name": "stdout",
     "output_type": "stream",
     "text": [
      "       Excess return period, years: 10                       Depreciation rate, %: 5.146\n",
      "             Starting revenues, $B: 35.35                      Investment rate, %: 8.739\n",
      "            Revenue growth rate, %: 3.086                 Working capital rate, %: 20.665\n",
      "    Net operating profit margin, %: 21.801                     Current assets, $B: 15.403\n",
      "                       Tax rate, %: 23.228                Current liabilities, $B: 9.035\n",
      "            Current stock price, $: 146.41                 Equity risk premium, %: 3.00\n",
      "      Shares outstanding, basic, M: 579                     Company specific beta: 0.97\n",
      "    10 year treasury bond yield, %: 2.41       Total long term debt and other, $B: 16.056\n",
      "  Bond yield spread to treasury, %: 3.51             Value of preferred stock, $B: 0.000\n",
      "          Preferred stock yield, %: 0.00      \n"
     ]
    }
   ],
   "source": [
    "print('{:>35s} {:<10.0f} {:>35s} {:,.3f}'.format('Excess return period, years:',erp,'Depreciation rate, %:',dr*100))\n",
    "print('{:>35s} {:<10,.2f} {:>35s} {:,.3f}'.format('Starting revenues, $B:',\n",
    "    rev_start/1e9,'Investment rate, %:',ir*100))\n",
    "print('{:>35s} {:<10,.3f} {:>35s} {:,.3f}'.format('Revenue growth rate, %:',\n",
    "    rgr*100,'Working capital rate, %:',wcr*100))\n",
    "print('{:>35s} {:<10,.3f} {:>35s} {:,.3f}'.format('Net operating profit margin, %:',\n",
    "    nopm*100,'Current assets, $B:',sta/1e9))\n",
    "print('{:>35s} {:<10,.3f} {:>35s} {:.3f}'.format('Tax rate, %:',\n",
    "    tr*100,'Current liabilities, $B:',stl/1e9))\n",
    "print('{:>35s} {:<10,.2f} {:>35s} {:,.2f}'.format('Current stock price, $:',\n",
    "    csp,'Equity risk premium, %:',eq_rp*100))\n",
    "print('{:>35s} {:<10,.0f} {:>35s} {:,.2f}'.format('Shares outstanding, basic, M:',\n",
    "    so/1e6,'Company specific beta:',beta))\n",
    "print('{:>35s} {:<10,.2f} {:>35s} {:.3f}'.format('10 year treasury bond yield, %:',\n",
    "    tby*100,'Total long term debt and other, $B:',vod/1e9))\n",
    "print('{:>35s} {:<10,.2f} {:>35s} {:,.3f}'.format('Bond yield spread to treasury, %:',\n",
    "    bystt*100,'Value of preferred stock, $B:',vps/1e9))\n",
    "print('{:>35s} {:<10,.2f}'.format('Preferred stock yield, %:',psy*100))"
   ]
  },
  {
   "cell_type": "code",
   "execution_count": 145,
   "metadata": {},
   "outputs": [
    {
     "name": "stdout",
     "output_type": "stream",
     "text": [
      "Weighted Average Cost of Capital\n",
      "Cost of common equity\n",
      "-------------------------------------\n",
      " 10 year treasury bond yield, %: 2.41\n",
      "          Company specific beta: 0.97\n",
      "         Equity risk premium, %: 3.00\n",
      "-------------------------------------\n",
      "       Cost of common equity, %: 5.32\n",
      "\n",
      "Market Capitalization and After-Tax Weighted Average Cost of Capital\n",
      "\n",
      "                     Current  After-Tax   Market         %       Weighted After-\n",
      "                      Yield     Yield     Value   Capitalization    Tax Yield   \n",
      "--------------------------------------------------------------------------------\n",
      "Long term debt         5.92      4.15        16       15.92           0.72\n",
      "Preferred stock        0.00      0.00         0        0.00           0.00\n",
      "Common stock           5.32      5.32        85       84.08           5.32\n",
      "--------------------------------------------------------------------------------\n",
      "                                            101      100.00           5.20\n"
     ]
    }
   ],
   "source": [
    "# weighted average cost of capital inputs\n",
    "print('Weighted Average Cost of Capital')\n",
    "print('Cost of common equity')\n",
    "print('{:s}'.format('-'*37))\n",
    "print('{:>32s} {:,.2f}'.format('10 year treasury bond yield, %:',tby*100))\n",
    "print('{:>32s} {:,.2f}'.format('Company specific beta:',beta))\n",
    "print('{:>32s} {:,.2f}'.format('Equity risk premium, %:',eq_rp*100))\n",
    "print('{:s}'.format('-'*37))\n",
    "print('{:>32s} {:,.2f}'.format('Cost of common equity, %:',cce*100))\n",
    "print()\n",
    "\n",
    "print('Market Capitalization and After-Tax Weighted Average Cost of Capital')\n",
    "print()\n",
    "print('{:s}{:^10s}{:^10s}{:^10s}{:^15s}{:^15s}'.format(' '*20,'Current','After-Tax','Market','%','Weighted After-'))\n",
    "print('{:s}{:^10s}{:^10s}{:^10s}{:^15s}{:^15s}'.format(' '*20,'Yield','Yield','Value','Capitalization','Tax Yield'))\n",
    "\n",
    "print('{:s}'.format('-'*80))\n",
    "print('{:<15s}{:>12.2f}{:>10.2f}{:>10,.0f}{:>12.2f}{:>15.2f}'.format('Long term debt',\n",
    "    ltd_ay*100,(tby+eq_rp)*(1-tr)*100,vod/1e9,ltd_pc*100,ltd_ate*100))\n",
    "print('{:<15s}{:>12.2f}{:>10.2f}{:>10,.0f}{:>12.2f}{:>15.2f}'.format('Preferred stock',\n",
    "     psy*100,ps_ate*100,vps/1e9,ps_pc*100,ps_ate*100))\n",
    "print('{:<15s}{:>12.2f}{:>10.2f}{:>10,.0f}{:>12.2f}{:>15.2f}'.format('Common stock',\n",
    "     cs_ay*100,cs_aty*100,cs_mv/1e9,cs_pc*100,cs_aty*100))\n",
    "print('{:s}'.format('-'*80))\n",
    "print('{:<37s}{:>10,.0f}{:>12.2f}{:>15.2f}'.format('',tmv/1e9,tpc*100,wacc*100))"
   ]
  },
  {
   "cell_type": "markdown",
   "metadata": {},
   "source": [
    "## 4) DCF Scenarios <a id=\"section4\"></a>\n",
    "The following adjustments were made to various model parameters.\n",
    "- excess return period was adjusted to a more conservative 5 years\n",
    "- revenue growth rate was adjusted to 3% (base case = 3.086%)\n",
    "- net operating profit margin was adjusted to 21% (base case = 21.801%)\n",
    "- tax rate was adjusted to 23% (base case = 23.228%)\n",
    "- depreciation rate was adjusted to 5% (base case = 5.146%)\n",
    "- investment rate was adjust to 6% (base case = 8.739%)\n",
    "- working capital rate was set to an even 20% (base case = 20.665%)\n",
    "- weighted average cost of capital was adjusted up by 2% to reflect higher interest rates and provide a margin of safety (base case = 3.8%)"
   ]
  },
  {
   "cell_type": "code",
   "execution_count": 146,
   "metadata": {},
   "outputs": [
    {
     "name": "stdout",
     "output_type": "stream",
     "text": [
      "adjusted DCF input values and rates\n",
      "excess return period: 5 years\n",
      "revenue growth rate: 3.0%\n",
      "net operating profit margin: 21.00%\n",
      "tax rate: 23.00%\n",
      "depreciation rate: 5.00%\n",
      "investment rate: 6.00%\n",
      "working capital rate: 20.0%\n",
      "weighted average cost of capital: 7.2%\n"
     ]
    }
   ],
   "source": [
    "print('adjusted DCF input values and rates')\n",
    "erp = 5\n",
    "print('excess return period: {:,.0f} years'.format(erp))\n",
    "rgr = 3/100\n",
    "print('revenue growth rate: {:,.1f}%'.format(rgr*100))\n",
    "nopm = 21/100\n",
    "print('net operating profit margin: {:.2f}%'.format(nopm*100))\n",
    "tr = 23/100\n",
    "print('tax rate: {:.2f}%'.format(tr*100))\n",
    "dr = 5/100\n",
    "print('depreciation rate: {:,.2f}%'.format(dr*100))\n",
    "ir = 6/100              # investment rate (% of revenue)\n",
    "print('investment rate: {:,.2f}%'.format(ir*100))\n",
    "wcr = 20/100\n",
    "print('working capital rate: {:,.1f}%'.format(wcr*100))\n",
    "wacc = (wacc+0.02) # weighted average cost of capital, increased by 2%\n",
    "print('weighted average cost of capital: {:.1f}%'.format(wacc*100))"
   ]
  },
  {
   "cell_type": "code",
   "execution_count": 147,
   "metadata": {},
   "outputs": [
    {
     "name": "stdout",
     "output_type": "stream",
     "text": [
      "Year       Rev       NOP  AdjTaxes     NOPAT   Invest.   Deprec.  dInvest.       dWC      FCFF        DF   DF*FCFF\n",
      "2021    35,355         0         0         0         0         0         0         0         0    0.0000         0\n",
      "2022    36,416     7,647     1,759     5,888     2,185     1,821       364       212     5,312    0.9329     4,956\n",
      "2023    37,508     7,877     1,812     6,065     2,250     1,875       375       218     5,471    0.8703     4,762\n",
      "2024    38,633     8,113     1,866     6,247     2,318     1,932       386       225     5,636    0.8119     4,575\n",
      "2025    39,792     8,356     1,922     6,434     2,388     1,990       398       232     5,805    0.7574     4,396\n",
      "2026    40,986     8,607     1,980     6,627     2,459     2,049       410       239     5,979    0.7065     4,224\n"
     ]
    }
   ],
   "source": [
    "# make a list of the fiscal years in excess return period \n",
    "fy = np.zeros(erp+1)\n",
    "fy[0] = fy_start\n",
    "for i in range(1,erp+1): \n",
    "    fy[i]=fy_start+i\n",
    "\n",
    "rev = np.zeros(len(fy))\n",
    "ciwc = np.zeros(len(fy))\n",
    "rev[0] = rev_start  #*rgr+rev_start   # find the future revenue using constant revenue growth rate \n",
    "\n",
    "for i in range(1,len(fy)): \n",
    "    rev[i] = rev[i-1]*rgr+rev[i-1]  # find the future revenue \n",
    "    ciwc[i] = (rev[i]-rev[i-1])*wcr  # find the change in working capital \n",
    "\n",
    "net_op = np.zeros(len(fy))\n",
    "adj_taxes = np.zeros(len(fy))\n",
    "nopat = np.zeros(len(fy))\n",
    "invest = np.zeros(len(fy))\n",
    "depre = np.zeros(len(fy))\n",
    "net_invest = np.zeros(len(fy))\n",
    "fcff = np.zeros(len(fy))\n",
    "disc_fact = np.zeros(len(fy))\n",
    "disc_fcff = np.zeros(len(fy))                \n",
    "\n",
    "# calculate values in table \n",
    "for i in range(1,len(fy)): \n",
    "    net_op[i] = rev[i]*nopm # net operating profit\n",
    "    adj_taxes[i] = net_op[i]*tr # net operating profit adjusted for taxes\n",
    "    nopat[i] = net_op[i]-adj_taxes[i] # after tax net operating profit\n",
    "    invest[i] = rev[i]*ir # future investments\n",
    "    depre[i] = rev[i]*dr # future depreciations\n",
    "    net_invest[i] = invest[i]-depre[i] # net investments\n",
    "    fcff[i] = nopat[i]-net_invest[i]-ciwc[i] # free cash flow to the firm\n",
    "    disc_fact[i] = 1/((1+wacc)**i) # discount factor\n",
    "    disc_fcff[i] = disc_fact[i]*fcff[i] # discounted free cash flow to the firm\n",
    "    \n",
    "dcrv = nopat[-1]/wacc*disc_fact[-1] # discounted corporate residual value\n",
    "derp_fcff = disc_fcff.sum() # discounted excess return period FCFF\n",
    "\n",
    "tcv = derp_fcff+dcrv+sta # total corporate value\n",
    "tvce = tcv-vod-vps-stl # total value of common equity\n",
    "isv = tvce/so # intrinsic stock value\n",
    "\n",
    "# print cash flows in a table\n",
    "print('{:4s}{:>10s}{:>10s}{:>10s}{:>10s}{:>10s}{:>10s}{:>10s}{:>10s}{:>10s}{:>10s}{:>10s}'.format(\n",
    "    'Year','Rev','NOP','AdjTaxes',\n",
    "    'NOPAT','Invest.','Deprec.','dInvest.','dWC','FCFF','DF','DF*FCFF'))\n",
    "for i in range(len(fy)):\n",
    "    print('{:4.0f}{:10,.0f}{:10,.0f}{:10,.0f}{:10,.0f}{:10,.0f}{:10,.0f}{:10,.0f}{:10,.0f}{:10,.0f}{:10,.4f}{:10,.0f}'.\n",
    "        format(fy[i],rev[i]/1e6,net_op[i]/1e6,adj_taxes[i]/1e6,nopat[i]/1e6,invest[i]/1e6,depre[i]/1e6,\n",
    "        (invest[i]-depre[i])/1e6,ciwc[i]/1e6,fcff[i]/1e6,disc_fact[i],disc_fcff[i]/1e6))"
   ]
  },
  {
   "cell_type": "code",
   "execution_count": 148,
   "metadata": {},
   "outputs": [
    {
     "name": "stdout",
     "output_type": "stream",
     "text": [
      "discounted excess return period FCFF: $22.91B\n",
      "discounted corporate residual value: $65.08B\n",
      "total corporate value: $103.39B\n",
      "total value of common equity: $78.30B\n",
      "intrinsic stock value, scenario 1 case: $135.24\n",
      "current stock price: $146.41\n"
     ]
    }
   ],
   "source": [
    "# Intrinsic Value\n",
    "print('discounted excess return period FCFF: ${:,.2f}B'.format(derp_fcff/1e9))\n",
    "print('discounted corporate residual value: ${:,.2f}B'.format(dcrv/1e9))\n",
    "print('total corporate value: ${:,.2f}B'.format(tcv/1e9))\n",
    "print('total value of common equity: ${:,.2f}B'.format(tvce/1e9))\n",
    "tvce_S1 = tvce # save value as scenario 1\n",
    "isv_S1 = isv # save the isv for scenario 1 case\n",
    "print('intrinsic stock value, scenario 1 case: ${:,.2f}'.format(isv_S1))\n",
    "print('current stock price: ${:,.2f}'.format(csp))"
   ]
  },
  {
   "cell_type": "markdown",
   "metadata": {},
   "source": [
    "The DCF model calculates with adjustments an intrinsic stock value of \\\\$, which is less than the current stock price. Adjusting the WACC to % would make the ISV about equal to the current stock price."
   ]
  },
  {
   "cell_type": "code",
   "execution_count": null,
   "metadata": {},
   "outputs": [],
   "source": []
  },
  {
   "cell_type": "markdown",
   "metadata": {},
   "source": [
    "## 5) NACI stock selection guide analysis <a id=\"section5\"></a>\n",
    "This analysis follows the NAIC stock selection guide (SSG) [2].  The SSG relates revenue growth, EPS and share price history and makes a prediction about the future share price.    \n",
    "\n",
    "The National Association of Investors Clubs (NAIC) is a nonprofit organization dedicated to educating individual investors and investment clubs to become successful lifelong investors.  NAIC's Stock Selection Guide (SSG) is used in the following cells to analyze the company's growth and whether the stock is selling at a reasonable price.\n",
    "\n",
    "The SSG was originally developed in the 1950s as a paper worksheet by the not-for-profit National Association of Investors Corporation (NAIC). The SSG aims to aid individual investors in the fundamental analysis and selection of common stocks by reviewing components of a company's growth, quality, and value.\n",
    "\n",
    "### Load data from metrics sheet"
   ]
  },
  {
   "cell_type": "code",
   "execution_count": 149,
   "metadata": {},
   "outputs": [],
   "source": [
    "# column names: fiscal years \n",
    "fy_data = df_metrics_sheet.columns[1:].values.astype('datetime64[Y]')-1970\n",
    "# line 0: Net income\n",
    "net_income_data = df_metrics_sheet.iloc[0].to_numpy()[1:].astype('float')\n",
    "# line 1: Shareholder equity\n",
    "shareholder_equity_data =  df_metrics_sheet.iloc[1].to_numpy()[1:].astype('float')\n",
    "# line 2: Total liabilities\n",
    "total_liabilities_data = df_metrics_sheet.iloc[2].to_numpy()[1:].astype('float')\n",
    "# line 3: Free cash flow, Net cash provided by operating activities \n",
    "free_cash_flow_data =  df_metrics_sheet.iloc[3].to_numpy()[1:].astype('float')\n",
    "# line 4: Dividends\n",
    "dividends_data =  df_metrics_sheet.iloc[4].to_numpy()[1:].astype('float')\n",
    "# line 5: Total assets\n",
    "total_assets_data = df_metrics_sheet.iloc[5].to_numpy()[1:].astype('float')\n",
    "# line 6: Earnings per share\n",
    "eps_data = df_metrics_sheet.iloc[6].to_numpy()[1:].astype('float')\n",
    "# line 7: Dividends per share  \n",
    "dps_data = df_metrics_sheet.iloc[7].to_numpy()[1:].astype('float')\n",
    "# line 8: Total tangible assets\n",
    "total_tangible_assets_data = df_metrics_sheet.iloc[8].to_numpy()[1:].astype('float')\n",
    "# line 9: Liabilities w/o deposits\n",
    "liabilities_wo_deposits_data = df_metrics_sheet.iloc[9].to_numpy()[1:].astype('float')\n",
    "# line 10: Provision for credit losses\n",
    "provision_for_credit_losses_data = df_metrics_sheet.iloc[10].to_numpy()[1:].astype('float')\n",
    "# line 11: Short-term borrowings\n",
    "short_term_borrowings_data = df_metrics_sheet.iloc[11].to_numpy()[1:].astype('float')\n",
    "# line 12: Preferred stock\n",
    "preferred_stock_data = df_metrics_sheet.iloc[12].to_numpy()[1:].astype('float')\n",
    "# line 13: Net cash used in investing activities \n",
    "net_cash_used_in_investing_activities_data = df_metrics_sheet.iloc[13].to_numpy()[1:].astype('float')"
   ]
  },
  {
   "cell_type": "code",
   "execution_count": 150,
   "metadata": {},
   "outputs": [],
   "source": [
    "# make a new data frame to store data from metrics sheet\n",
    "df_metrics_data = pd.DataFrame(data={\n",
    "    'FY':fy_data[::-1],\n",
    "    'net_income':net_income_data[::-1],\n",
    "    'shareholder_equity':shareholder_equity_data[::-1],\n",
    "    'total_liabilities':total_liabilities_data[::-1],\n",
    "    'free_cash_flow':free_cash_flow_data[::-1],\n",
    "    'dividends':dividends_data[::-1],\n",
    "    'total_assets':total_assets_data[::-1],\n",
    "    'eps':eps_data[::-1],    \n",
    "    'dps':dps_data[::-1],\n",
    "    'total_tangible_assets':total_tangible_assets_data[::-1],\n",
    "    'liabilities_wo_deposits':liabilities_wo_deposits_data[::-1],    \n",
    "    'provision_for_credit_losses':provision_for_credit_losses_data[::-1],\n",
    "    'short_term_borrowings':short_term_borrowings_data[::-1], \n",
    "    'preferred_stock':preferred_stock_data[::-1],\n",
    "    'net_cash_used_in_investing_activities':net_cash_used_in_investing_activities_data[::-1]\n",
    "    })\n",
    "\n",
    "#df_metrics_data"
   ]
  },
  {
   "cell_type": "markdown",
   "metadata": {},
   "source": [
    "check for matching years in both data frames"
   ]
  },
  {
   "cell_type": "code",
   "execution_count": 151,
   "metadata": {},
   "outputs": [
    {
     "name": "stdout",
     "output_type": "stream",
     "text": [
      "OK, years in data frame match\n"
     ]
    }
   ],
   "source": [
    "if all(df_dcf_data['FY'] == df_metrics_data['FY']) != True:\n",
    "    print('error, years in data frame don\\'t match')\n",
    "    stop # this is not python code, so jupyterlab will throw an error\n",
    "else:\n",
    "    print('OK, years in data frame match')"
   ]
  },
  {
   "cell_type": "code",
   "execution_count": null,
   "metadata": {},
   "outputs": [],
   "source": []
  },
  {
   "cell_type": "markdown",
   "metadata": {},
   "source": [
    "### NAIC section 1: Visual analysis\n",
    "\n",
    "**High and low price history for each year**  \n",
    "From the daily price history obtained from yahoo finance, the high and low closing price for each is obtained and the data saved to the financial data frame as new columns."
   ]
  },
  {
   "cell_type": "code",
   "execution_count": 152,
   "metadata": {},
   "outputs": [],
   "source": [
    "#column names: fiscal years \n",
    "years_list = df_metrics_sheet.columns[1:].values.astype('str')[::-1]\n",
    "\n",
    "# convert years to datetime format\n",
    "year_ended_list = []\n",
    "for i in years_list:\n",
    "    year_ended_list.append(datetime.strptime(i, '%Y'))\n",
    "\n",
    "# make emnpy lists to store open, close, high and low price data for each fiscal year\n",
    "fy_open = []\n",
    "fy_close = []\n",
    "fy_high = []\n",
    "fy_low = []\n",
    "\n",
    "for i in year_ended_list:\n",
    "    start = i\n",
    "    end = i + relativedelta(years=1)\n",
    "    p1 = df_price_history.truncate(before=start, after=end)\n",
    "    if len(p1) == 0:\n",
    "        fy_open.append(np.nan)\n",
    "        fy_close.append(np.nan)        \n",
    "        fy_high.append(np.nan)\n",
    "        fy_low.append(np.nan)\n",
    "    else:\n",
    "        fy_open.append(p1['Open'].iloc[0])\n",
    "        fy_close.append(p1['Close'].iloc[-1])        \n",
    "        fy_high.append(p1['Close'].max())\n",
    "        fy_low.append(p1['Close'].min())\n",
    "\n",
    "# convert from list to numpy array\n",
    "fy_open = np.asarray(fy_open)\n",
    "fy_close = np.asarray(fy_close)\n",
    "fy_high = np.asarray(fy_high)\n",
    "fy_low = np.asarray(fy_low)"
   ]
  },
  {
   "cell_type": "markdown",
   "metadata": {},
   "source": [
    "**Plotting the data**  \n",
    "The annual sales, EPS and the high and low share price is plotted on a semilog plot. A consistent percentage change in the data will plot on the semi-log chart as a straight line.\n",
    "\n",
    "The stock price is plotted separately from the sales and earnings for clarity.\n"
   ]
  },
  {
   "cell_type": "code",
   "execution_count": 153,
   "metadata": {},
   "outputs": [
    {
     "data": {
      "image/png": "[encoded data removed]",
      "text/plain": [
       "<Figure size 1080x360 with 2 Axes>"
      ]
     },
     "metadata": {
      "needs_background": "light"
     },
     "output_type": "display_data"
    }
   ],
   "source": [
    "# Set the locator\n",
    "locator = mdates.YearLocator()  # every year\n",
    "fmt = mdates.DateFormatter('%Y')\n",
    "\n",
    "# figsize() function to adjust the size\n",
    "plt.subplots(figsize=(15, 5))\n",
    "\n",
    "# using subplot function and creating\n",
    "# plot one\n",
    "plt.subplot(1, 2, 1)\n",
    "width = 3  # the width of the bars\n",
    "#plt.bar(year_ended_list,fy_high-fy_low, width,bottom=fy_low,label='price')\n",
    "j = 0\n",
    "for i in year_ended_list:\n",
    "    color = 'green'\n",
    "    if fy_open[j] > fy_close[j]: color= 'red'\n",
    "    # high/low lines\n",
    "    plt.plot([i,i],[fy_low[j],fy_high[j]],color=color, linewidth=width)\n",
    "    # open marker\n",
    "    plt.plot([i,i-relativedelta(months=1)], [fy_open[j],fy_open[j]], color=color, linewidth=width)\n",
    "    # close marker\n",
    "    plt.plot([i,i+relativedelta(months=1)], [fy_close[j],fy_close[j]], color=color, linewidth=width)\n",
    "    j += 1\n",
    "\n",
    "X = plt.gca().xaxis\n",
    "X.set_major_locator(locator)\n",
    "# Specify formatter\n",
    "X.set_major_formatter(fmt)\n",
    "plt.gcf().autofmt_xdate()\n",
    "\n",
    "#plt.ylim((20,80))\n",
    "plt.title('Yearly stock high and low price range')\n",
    "plt.ylabel('stock price, $')\n",
    "#plt.legend()\n",
    "plt.grid()\n",
    "\n",
    "# using subplot function and creating plot two\n",
    "plt.subplot(1, 2, 2)\n",
    "\n",
    "plt.plot(df_metrics_data['FY'],df_dcf_data['revenue']/1e9,'+-',label='revenue, $B')\n",
    "plt.plot(df_metrics_data['FY'],df_metrics_data['eps'],'+-',label='EPS, $')\n",
    "\n",
    "X = plt.gca().xaxis\n",
    "X.set_major_locator(locator)\n",
    "# Specify formatter\n",
    "X.set_major_formatter(fmt)\n",
    "plt.gcf().autofmt_xdate()\n",
    "\n",
    "#plt.yscale('log')\n",
    "#plt.yticks([0.1,1,10,100,1000,10000],['0.1','1','10','100','1000','10000'])\n",
    "#plt.ylim((0.1,1000))\n",
    "plt.title('Revenue and EPS')\n",
    "plt.ylabel('Revenue and EPS')\n",
    "plt.legend()\n",
    "\n",
    "plt.grid()\n",
    "\n",
    "# space between the plots\n",
    "plt.tight_layout(4)\n",
    "\n",
    "# show plot\n",
    "plt.show()"
   ]
  },
  {
   "cell_type": "markdown",
   "metadata": {},
   "source": [
    "**Observation:**  \n"
   ]
  },
  {
   "cell_type": "code",
   "execution_count": null,
   "metadata": {},
   "outputs": [],
   "source": []
  },
  {
   "cell_type": "markdown",
   "metadata": {},
   "source": [
    "### NAIC section 3, Price earnings history\n",
    "Section 3 of the SSG is the Price-Earnings history.  The following table is built from the high and low prices each year and the earnings per share. The high and low Price/Earnings ratios are calculated for each year and are listed in the columns labeled h-per and l-per."
   ]
  },
  {
   "cell_type": "code",
   "execution_count": 154,
   "metadata": {},
   "outputs": [
    {
     "name": "stdout",
     "output_type": "stream",
     "text": [
      "year      high       low       eps     h-per     l-per\n",
      "2010     90.90     74.74      5.72     15.89     13.07\n",
      "2011     97.97     70.93      6.05     16.19     11.72\n",
      "2012     95.37     82.51      6.83     13.96     12.08\n",
      "2013    140.25     94.67      6.83     20.53     13.86\n",
      "2014    167.27    123.90      7.63     21.92     16.24\n",
      "2015    170.50    137.58      7.72     22.09     17.82\n",
      "2016    181.42    136.96      8.35     21.73     16.40\n",
      "2017    243.14    174.18      8.13     29.91     21.42\n",
      "2018    258.63    178.62      9.09     28.45     19.65\n",
      "2019    219.50    150.74      7.92     27.71     19.03\n",
      "2020    181.37    117.87      9.32     19.46     12.65\n",
      "2021    207.33    165.20     10.12     20.49     16.32\n"
     ]
    }
   ],
   "source": [
    "print('{:4s}{:>10s}{:>10s}{:>10s}{:>10s}{:>10s}'.format('year','high','low','eps',\n",
    "    'h-per','l-per'))\n",
    "for i in range(len(year_ended_list)):\n",
    "    print('{:s}{:10,.2f}{:10,.2f}{:10,.2f}{:10,.2f}{:10,.2f}'.format(year_ended_list[i].strftime(\"%Y\"),\n",
    "        fy_high[i], fy_low[i],df_metrics_data['eps'][i],\n",
    "        fy_high[i]/df_metrics_data['eps'][i],\n",
    "        fy_low[i]/df_metrics_data['eps'][i]))"
   ]
  },
  {
   "cell_type": "markdown",
   "metadata": {},
   "source": [
    "**Average high and P/E for select years**   \n",
    "The average price to earning ratio based on high and low stock prices is calculated."
   ]
  },
  {
   "cell_type": "code",
   "execution_count": 155,
   "metadata": {},
   "outputs": [
    {
     "name": "stdout",
     "output_type": "stream",
     "text": [
      "average high P/E 21.53\n",
      "average low P/E 15.86\n"
     ]
    }
   ],
   "source": [
    "#Average high P/E for years \n",
    "pe_avg_high = (fy_high/df_metrics_data['eps']).mean()\n",
    "print('average high P/E {:.2f}'.format(pe_avg_high))\n",
    "#Average low P/E for years \n",
    "pe_avg_low = (fy_low/df_metrics_data['eps']).mean()\n",
    "print('average low P/E {:.2f}'.format(pe_avg_low))"
   ]
  },
  {
   "cell_type": "markdown",
   "metadata": {},
   "source": [
    "#### Estimate future EPS\n",
    "A least squares fit is used to get the slope of the EPS data points."
   ]
  },
  {
   "cell_type": "code",
   "execution_count": 156,
   "metadata": {},
   "outputs": [
    {
     "name": "stdout",
     "output_type": "stream",
     "text": [
      "EPS slope: 0.35\n",
      "EPS intercept: 5.91\n"
     ]
    }
   ],
   "source": [
    "y = df_metrics_data['eps']\n",
    "x = np.arange(len(y))\n",
    "m, c = np.polyfit(x, y, 1)\n",
    "print('EPS slope: {:.2f}'.format(m))\n",
    "print('EPS intercept: {:.2f}'.format(c))\n",
    "lstsq_fit = m*x + c  # data points for each year"
   ]
  },
  {
   "cell_type": "code",
   "execution_count": 157,
   "metadata": {},
   "outputs": [
    {
     "data": {
      "image/png": "[encoded data removed]",
      "text/plain": [
       "<Figure size 432x288 with 1 Axes>"
      ]
     },
     "metadata": {
      "needs_background": "light"
     },
     "output_type": "display_data"
    }
   ],
   "source": [
    "# Set the locator\n",
    "locator = mdates.YearLocator()  # every year\n",
    "fmt = mdates.DateFormatter('%Y')\n",
    "\n",
    "fig, ax1 = plt.subplots()\n",
    "ax1.set_ylabel('EPS')\n",
    "\n",
    "ax1.plot(df_metrics_data['FY'],df_metrics_data['eps'], 'o',label='EPS')\n",
    "ax1.plot(df_metrics_data['FY'],lstsq_fit, '-',label='least squares fit')\n",
    "\n",
    "ax1.tick_params(axis='y')\n",
    "#ax1.set_ylim((0,4))\n",
    "ax1.legend()\n",
    "plt.grid()\n",
    "\n",
    "X = plt.gca().xaxis\n",
    "X.set_major_locator(locator)\n",
    "# Specify formatter\n",
    "X.set_major_formatter(fmt)\n",
    "plt.gcf().autofmt_xdate()\n",
    "\n",
    "plt.title('EPS and least squares fit')\n",
    "plt.show()"
   ]
  },
  {
   "cell_type": "markdown",
   "metadata": {},
   "source": [
    "Using the equation for the best fit line, find the y value for the eps point at five years in the future."
   ]
  },
  {
   "cell_type": "code",
   "execution_count": 158,
   "metadata": {},
   "outputs": [
    {
     "name": "stdout",
     "output_type": "stream",
     "text": [
      "estimated eps in 5 years: 11.4\n"
     ]
    }
   ],
   "source": [
    "# estimated eps in 5 years\n",
    "eps_5yr_est = m*(x[-1]+5) + c\n",
    "print('estimated eps in 5 years: {:.1f}'.format(eps_5yr_est))"
   ]
  },
  {
   "cell_type": "markdown",
   "metadata": {},
   "source": [
    "Using the high and low price to earning ratio from above and the projected eps, calculate the range of stock price in five years."
   ]
  },
  {
   "cell_type": "code",
   "execution_count": 159,
   "metadata": {},
   "outputs": [
    {
     "name": "stdout",
     "output_type": "stream",
     "text": [
      "estimated price range in 5 years: $181.39 to $246.28\n"
     ]
    }
   ],
   "source": [
    "naic_price_eps_low = eps_5yr_est*pe_avg_low\n",
    "naic_price_eps_high = eps_5yr_est*pe_avg_high\n",
    "print('estimated price range in 5 years: ${:.2f} to ${:.2f}'.format(naic_price_eps_low,naic_price_eps_high))"
   ]
  },
  {
   "cell_type": "markdown",
   "metadata": {},
   "source": [
    "This is the estimated price range of the stock based on projected EPS and is a guide for what the stock price might be if conditions remain the same. Since the slope of the EPS history is negative, the projected stock price is negative. "
   ]
  },
  {
   "cell_type": "code",
   "execution_count": null,
   "metadata": {},
   "outputs": [],
   "source": []
  },
  {
   "cell_type": "markdown",
   "metadata": {},
   "source": [
    "#### NAIC section 3: 5 year estimated EPS, preferred method\n",
    "See page 87 and figure 10-1, Need the following data:  \n",
    "- estimate sales in 5 years based on sales growth\n",
    "- NOPM\n",
    "- Tax rate\n",
    "- shares outstanding  \n",
    "\n",
    "Net Operating Profit should reflect the future revenue generating ability and expense requirements of the operating business that comprise the ongoing operations of the company.\n",
    "\n",
    "$\\text{NOPM} = \\frac{\\text{Revenue} - \\text{Expenses}}{\\text{Revenue}}$  \n",
    " \n",
    "Tax payments are taken from the consolidated income statement, provision for income taxes.  The effect of taxes on profits is accounted for. \n",
    "\n",
    "$\\text{Tax rate} = \\frac{\\text{Income taxes}}{\\text{Income before income taxes}}$\n",
    "\n",
    "To get future EPS\n",
    "\n",
    "$\\text{future EPS} = \\frac {\\text{future revenue} \\times  \\text{NOPM} \\times \\text{(1-tax rate)}}{\\text{number of shares}}$\n",
    "\n",
    "\n",
    "**Revenue and least square fit**"
   ]
  },
  {
   "cell_type": "code",
   "execution_count": 160,
   "metadata": {},
   "outputs": [
    {
     "name": "stdout",
     "output_type": "stream",
     "text": [
      "revenue slope: 500.76\n",
      "revenue intercept: 28358.24\n"
     ]
    }
   ],
   "source": [
    "y = df_dcf_data['revenue']/1e6\n",
    "x = np.arange(len(y))\n",
    "m, c = np.polyfit(x, y, 1)\n",
    "print('revenue slope: {:.2f}'.format(m))\n",
    "print('revenue intercept: {:.2f}'.format(c))\n",
    "lstsq_fit = m*x + c  # data points for each year"
   ]
  },
  {
   "cell_type": "code",
   "execution_count": 161,
   "metadata": {},
   "outputs": [
    {
     "data": {
      "image/png": "[encoded data removed]",
      "text/plain": [
       "<Figure size 432x288 with 1 Axes>"
      ]
     },
     "metadata": {
      "needs_background": "light"
     },
     "output_type": "display_data"
    }
   ],
   "source": [
    "# Set the locator\n",
    "locator = mdates.YearLocator()  # every year\n",
    "fmt = mdates.DateFormatter('%Y')\n",
    "\n",
    "fig, ax1 = plt.subplots()\n",
    "ax1.set_ylabel('dollars, $M')\n",
    "\n",
    "ax1.plot(df_metrics_data['FY'],df_dcf_data['revenue']/1e6, 'o',label='revenue')\n",
    "ax1.plot(df_metrics_data['FY'],lstsq_fit, '-',label='least squares fit')\n",
    "\n",
    "ax1.tick_params(axis='y')\n",
    "#ax1.set_ylim((0,4))\n",
    "ax1.legend()\n",
    "plt.grid()\n",
    "\n",
    "X = plt.gca().xaxis\n",
    "X.set_major_locator(locator)\n",
    "# Specify formatter\n",
    "X.set_major_formatter(fmt)\n",
    "plt.gcf().autofmt_xdate()\n",
    "\n",
    "plt.title('Revenue and least squares fit')\n",
    "plt.show()"
   ]
  },
  {
   "cell_type": "markdown",
   "metadata": {},
   "source": [
    "Using the equation for the best fit line, find the y value for the EPS point at five years in the future."
   ]
  },
  {
   "cell_type": "code",
   "execution_count": 162,
   "metadata": {},
   "outputs": [
    {
     "name": "stdout",
     "output_type": "stream",
     "text": [
      "estimated rev in 5 years: $36,370.4M\n"
     ]
    }
   ],
   "source": [
    "# estimated revenue in 5 years\n",
    "rev_5yr_est = m*(x[-1]+5) + c\n",
    "print('estimated rev in 5 years: ${:,.1f}M'.format(rev_5yr_est))"
   ]
  },
  {
   "cell_type": "markdown",
   "metadata": {},
   "source": [
    "need to include estimate of number of shares outstanding in 5 years"
   ]
  },
  {
   "cell_type": "code",
   "execution_count": 163,
   "metadata": {},
   "outputs": [
    {
     "name": "stdout",
     "output_type": "stream",
     "text": [
      "starting revenues: $35.35\n"
     ]
    }
   ],
   "source": [
    "print('starting revenues: ${:,.2f}'.format(rev_start/1e9))"
   ]
  },
  {
   "cell_type": "markdown",
   "metadata": {},
   "source": [
    "Using the adjusted NOPM and tax rate from scenario 1.  \n",
    "adjusted DCF input values and rates  "
   ]
  },
  {
   "cell_type": "code",
   "execution_count": 164,
   "metadata": {},
   "outputs": [],
   "source": [
    "pm_nopm = 20/100\n",
    "pm_tax_rate = 23/100"
   ]
  },
  {
   "cell_type": "code",
   "execution_count": 165,
   "metadata": {},
   "outputs": [
    {
     "name": "stdout",
     "output_type": "stream",
     "text": [
      "using preferred method: estimated eps in 5 years: $9.67\n"
     ]
    }
   ],
   "source": [
    "pm_eps_5yr_est = rev_5yr_est*pm_nopm*(1-pm_tax_rate)*1e6/df_dcf_data['shares_outstanding'].iloc[-1] \n",
    "#pm_eps_5yr_est = rev_5yr_est*nopm_avg*1e6/df_dcf_data['shares_outstanding'].iloc[-1] \n",
    "print('using preferred method: estimated eps in 5 years: ${:.2f}'.format(pm_eps_5yr_est))"
   ]
  },
  {
   "cell_type": "markdown",
   "metadata": {},
   "source": [
    "Using the high and low price to earning ratio from above and the projected EPS, calculate the range of stock price in five years."
   ]
  },
  {
   "cell_type": "code",
   "execution_count": 166,
   "metadata": {},
   "outputs": [
    {
     "name": "stdout",
     "output_type": "stream",
     "text": [
      "estimated price range in 5 years from preferred method: 153.39 to 208.26\n"
     ]
    }
   ],
   "source": [
    "naic_price_pm_low = pm_eps_5yr_est*pe_avg_low\n",
    "naic_price_pm_high = pm_eps_5yr_est*pe_avg_high\n",
    "print('estimated price range in 5 years from preferred method: {:.2f} to {:.2f}'.format(\n",
    "    naic_price_pm_low,naic_price_pm_high))"
   ]
  },
  {
   "cell_type": "markdown",
   "metadata": {},
   "source": [
    "**Observation:** \n",
    "Based on revenue growth, the projected stock price is a bit higher than the current price. However, based on price history, the stock is not expected to appreciate."
   ]
  },
  {
   "cell_type": "markdown",
   "metadata": {},
   "source": [
    "## 6) Future stock price <a id=\"section6\"></a>\n",
    "The projected future stock price is estimated from the results shown in this notebook based on DCF intrinsic stock value, the NAIC method or a combination of both. The DCF method does not consider market sentiment or popularity of the stock, whereas the NAIC method looks at the PE and EPS to develop the historical consensus that the market has put on the price of the stock. Both the NAIC and the DCF valuation should be considered. The DCF valuation is of the current ISV which is used as an indication of the future value, since it is assumed that the market price will converge eventually to the intrinsic value. \n",
    "\n",
    "The estimated future stock price considers the following:  \n",
    "- base case ISV\n",
    "- Senario ISV\n",
    "- NAIC EPS growth\n",
    "- NAIC preferred method\n",
    "\n",
    "Using 5 year NAIC as a conservative estimate for the 10 year value and the analysis results, a judgment call is made concerning the price to put on the future value of the stock.  "
   ]
  },
  {
   "cell_type": "code",
   "execution_count": 167,
   "metadata": {},
   "outputs": [
    {
     "name": "stdout",
     "output_type": "stream",
     "text": [
      "estimated price range in 5 years from EPS: $181.39 to $246.28\n",
      "estimated price range in 5 years from preferred method: $153.39 to $208.26\n",
      "intrinsic stock value, baseline case: $212.47\n",
      "intrinsic stock value, scenario 1 case: $135.24\n",
      "current stock price: $146.41\n"
     ]
    }
   ],
   "source": [
    "print('estimated price range in 5 years from EPS: ${:.2f} to ${:.2f}'.format(naic_price_eps_low,naic_price_eps_high))\n",
    "print('estimated price range in 5 years from preferred method: ${:.2f} to ${:.2f}'.format(\n",
    "    naic_price_pm_low,naic_price_pm_high))\n",
    "\n",
    "print('intrinsic stock value, baseline case: ${:,.2f}'.format(isv_baseline))\n",
    "print('intrinsic stock value, scenario 1 case: ${:,.2f}'.format(isv_S1))\n",
    "\n",
    "print('current stock price: ${:,.2f}'.format(csp))"
   ]
  },
  {
   "cell_type": "markdown",
   "metadata": {},
   "source": [
    "The estimated price range in 5 years from the NAIC preferred method is \\\\$153.39 to \\\\$208.26. Taking the low value averaged with senario 1 ISV for use in the IRR calculations.   "
   ]
  },
  {
   "cell_type": "code",
   "execution_count": 168,
   "metadata": {},
   "outputs": [
    {
     "name": "stdout",
     "output_type": "stream",
     "text": [
      "estimated future stock price: $144.31\n"
     ]
    }
   ],
   "source": [
    "fsp = (isv_S1 + naic_price_pm_low)/2\n",
    "print('estimated future stock price: ${:,.2f}'.format(fsp))"
   ]
  },
  {
   "cell_type": "code",
   "execution_count": null,
   "metadata": {},
   "outputs": [],
   "source": []
  },
  {
   "cell_type": "markdown",
   "metadata": {},
   "source": [
    "## 7) Dividend payout <a id=\"section7\"></a>\n",
    "The dividend payout examines the amount shareholders are getting from the company relative to earnings or revenue. It is an important metric to determine how the business is operating and whether it has enough growth potential.\n",
    "\n",
    "### Dividend history"
   ]
  },
  {
   "cell_type": "code",
   "execution_count": 169,
   "metadata": {},
   "outputs": [
    {
     "data": {
      "image/png": "[encoded data removed]",
      "text/plain": [
       "<Figure size 432x288 with 2 Axes>"
      ]
     },
     "metadata": {
      "needs_background": "light"
     },
     "output_type": "display_data"
    }
   ],
   "source": [
    "# calculate the percent change in dividends\n",
    "pcd = np.zeros(len(df_metrics_data['dps'])) # percent change in dividend\n",
    "for i in range(len(df_metrics_data['dps'][0:-1])):\n",
    "    pcd[i+1] = ((df_metrics_data['dps'][i+1] - df_metrics_data['dps'][i])/\n",
    "                df_metrics_data['dps'][i+1])*100\n",
    "\n",
    "width = 100\n",
    "\n",
    "# Set the locator\n",
    "locator = mdates.YearLocator()  # every year\n",
    "fmt = mdates.DateFormatter('%Y')\n",
    "\n",
    "fig, ax1 = plt.subplots()\n",
    "ax1.set_ylabel('Dividend per share, $')\n",
    "\n",
    "# plot revenue as single bar\n",
    "plt.bar(df_metrics_data['FY'],df_metrics_data['dps'], width,color='k')\n",
    "\n",
    "ax1.tick_params(axis='y')\n",
    "plt.grid()\n",
    "\n",
    "# instantiate a second y-axes that shares the same x-axis\n",
    "ax2 = ax1.twinx()\n",
    "color = 'tab:green'\n",
    "\n",
    "ax2.plot(year_ended_list,pcd,'+-g')\n",
    "    \n",
    "ax2.set_ylabel('% Change in dividend',color=color)\n",
    "ax2.tick_params(axis='y', labelcolor=color)\n",
    "ax2.set_ylim((0,20))\n",
    "\n",
    "X = plt.gca().xaxis\n",
    "X.set_major_locator(locator)\n",
    "# Specify formatter\n",
    "X.set_major_formatter(fmt)\n",
    "plt.gcf().autofmt_xdate()\n",
    "\n",
    "plt.title('Dividend history per share')\n",
    "plt.show()"
   ]
  },
  {
   "cell_type": "code",
   "execution_count": 170,
   "metadata": {},
   "outputs": [
    {
     "name": "stdout",
     "output_type": "stream",
     "text": [
      "average dividend growth rate: 5.83%\n"
     ]
    }
   ],
   "source": [
    "adgr = pcd[-6:].mean() #last 6 years\n",
    "print('average dividend growth rate: {:.2f}%'.format(adgr))"
   ]
  },
  {
   "cell_type": "markdown",
   "metadata": {},
   "source": [
    "### Dividend yield\n",
    "Dividend yield equals the annual dividend per share divided by the stock's price per share. The plot below shows the history of dividend yield over the evaluation period."
   ]
  },
  {
   "cell_type": "code",
   "execution_count": 171,
   "metadata": {},
   "outputs": [
    {
     "data": {
      "image/png": "[encoded data removed]",
      "text/plain": [
       "<Figure size 432x288 with 1 Axes>"
      ]
     },
     "metadata": {
      "needs_background": "light"
     },
     "output_type": "display_data"
    }
   ],
   "source": [
    "# Set the locator\n",
    "locator = mdates.YearLocator()  # every year\n",
    "fmt = mdates.DateFormatter('%Y')\n",
    "\n",
    "width = 50  # the width of the bars\n",
    "plt.bar(df_metrics_data['FY'],(df_metrics_data['dps']/fy_high-df_metrics_data['dps']/fy_low)*100, \n",
    "        width,bottom=df_metrics_data['dps']/fy_low*100,label='yield')\n",
    "X = plt.gca().xaxis\n",
    "X.set_major_locator(locator)\n",
    "# Specify formatter\n",
    "X.set_major_formatter(fmt)\n",
    "plt.gcf().autofmt_xdate()\n",
    "\n",
    "plt.ylim((1,6))\n",
    "plt.title('Range of dividend yield each year')\n",
    "plt.ylabel('dividend yield, %')\n",
    "#plt.legend()\n",
    "plt.grid()\n",
    "\n",
    "# show plot\n",
    "plt.show()"
   ]
  },
  {
   "cell_type": "markdown",
   "metadata": {},
   "source": [
    "The dividend yield for the past five years has been in the ??? percent range."
   ]
  },
  {
   "cell_type": "markdown",
   "metadata": {},
   "source": [
    "### Dividend payout ratio\n",
    "The dividend payout ratio is a relative measure of how much the company is paying to shareholders in dividends compared to other metrics such as revenue, earnings or cash flow. The dividend payout ratio is plotted as a ratio of dividends to net income, free cash flow (Net cash provided by operating activities) and NOP.  The payout ratio is useful for assessing a dividend's sustainability. Companies are extremely reluctant to cut dividends since it can drive the stock price down and reflect poorly on management's abilities.\n",
    "\n",
    "**Payout ratio using net income**  \n",
    "Payout ratio using net income plots the ratio of dividend payout divided by net income:  \n",
    "$\\frac {\\text{Dividends}}{\\text{Net income}}$  \n",
    "Depending on how net income is listed in the financial statements, it may include large other charges.  \n",
    "\n",
    "**Payout ratio using cash flow**  \n",
    "Payout ratio using net cash flow plots the ratio of dividend payout divided by cash flow:  \n",
    "$\\frac {\\text{Dividends}}{\\text{cash flow}}$  \n",
    "Cash flow from operating activities usually includes a long list of items. Some insight might be obtained from this ratio. The trend should be consistent. \n",
    "\n",
    "**Payout ratio using NOP**  \n",
    "Payout ratio using NOP plots the ratio of dividend payout divided by NOP:  \n",
    "$\\frac {\\text{Dividends}}{\\text{NOP}}$  \n",
    "NOP is calculated above and might be different from net income listed in the financial statements. This ratio should be the lowest numerically of the three plots. "
   ]
  },
  {
   "cell_type": "code",
   "execution_count": 172,
   "metadata": {},
   "outputs": [
    {
     "data": {
      "image/png": "[encoded data removed]",
      "text/plain": [
       "<Figure size 432x288 with 1 Axes>"
      ]
     },
     "metadata": {
      "needs_background": "light"
     },
     "output_type": "display_data"
    }
   ],
   "source": [
    "# Set the locator\n",
    "locator = mdates.YearLocator()  # every year\n",
    "fmt = mdates.DateFormatter('%Y')\n",
    "\n",
    "fig, ax1 = plt.subplots()\n",
    "ax1.set_ylabel('Payout ratio')\n",
    "\n",
    "ax1.plot(df_metrics_data['FY'],df_metrics_data['dividends']/df_metrics_data['net_income'], '-+',\n",
    "    label='Payout ratio using net income')\n",
    "ax1.plot(df_metrics_data['FY'],df_metrics_data['dividends']/df_metrics_data['free_cash_flow'], '-*',\n",
    "    label='Payout ratio using cash flow')\n",
    "ax1.plot(df_metrics_data['FY'],df_metrics_data['dividends']/nop, '-+',\n",
    "    label='dividends/NOP')\n",
    "\n",
    "ax1.tick_params(axis='y')\n",
    "#ax1.set_ylim((0,5))\n",
    "ax1.legend()\n",
    "plt.grid()\n",
    "\n",
    "X = plt.gca().xaxis\n",
    "X.set_major_locator(locator)\n",
    "# Specify formatter\n",
    "X.set_major_formatter(fmt)\n",
    "plt.gcf().autofmt_xdate()\n",
    "\n",
    "plt.title('Payout ratio')\n",
    "plt.show()"
   ]
  },
  {
   "cell_type": "code",
   "execution_count": 173,
   "metadata": {},
   "outputs": [
    {
     "name": "stdout",
     "output_type": "stream",
     "text": [
      "Dividends are paid at 64.4% of net income\n",
      "Dividends are paid at 44.8% of cash flow\n",
      "Dividends are paid at 49.1% of NOP\n"
     ]
    }
   ],
   "source": [
    "# average the last three years\n",
    "print('Dividends are paid at {:.1f}% of net income'.format(\n",
    "    (df_metrics_data['dividends']/df_metrics_data['net_income'])[-3:].mean()*100))\n",
    "print('Dividends are paid at {:.1f}% of cash flow'.format(\n",
    "    (df_metrics_data['dividends']/df_metrics_data['free_cash_flow'])[-3:].mean()*100))\n",
    "print('Dividends are paid at {:.1f}% of NOP'.format((df_metrics_data['dividends']/nop)[-3:].mean()*100))"
   ]
  },
  {
   "cell_type": "markdown",
   "metadata": {},
   "source": [
    "# update comments\n",
    "Payout ratio using net income: Net income includes large other charges and Amortization of acquired intangible assets.  Large swings in ratio for net income indicates various charges against net income.  \n",
    "Payout ratio using cash flow: A ratio of greater than 1 for 2015. Currently below 33%.     \n",
    "Payout ratio using NOP: Follows ratio based on cash flow.     \n",
    "Dividend pay ratios for the last 3 years are near or below 50%."
   ]
  },
  {
   "cell_type": "code",
   "execution_count": null,
   "metadata": {},
   "outputs": [],
   "source": []
  },
  {
   "cell_type": "markdown",
   "metadata": {},
   "source": [
    "### Internal Rate of Return (IRR) calculations\n",
    "The internal rate of return (IRR) is the discount rate that makes the net present value (NPV) of all cash flows equal to zero in a discounted cash flow analysis. Generally speaking, the higher an internal rate of return, the more desirable an investment is to undertake.\n",
    "\n",
    "As explained above, the stock price has not changed by much over the years, even though the revenue and dividends have been increasing. The final stock price is set equal to the current price."
   ]
  },
  {
   "cell_type": "markdown",
   "metadata": {},
   "source": [
    "Using the average dividend growth rate calculated above, a series of estimated future dividend payments are generated. "
   ]
  },
  {
   "cell_type": "code",
   "execution_count": 174,
   "metadata": {},
   "outputs": [],
   "source": [
    "fdp = np.zeros(len(df_metrics_data['dps'])) # future dividend payments\n",
    "fdp[0] = df_metrics_data['dps'].iat[-1]\n",
    "for i in range(len(df_metrics_data['dps'][0:-1])):\n",
    "    fdp[i+1] = fdp[i]+fdp[i]*adgr/100"
   ]
  },
  {
   "cell_type": "code",
   "execution_count": 175,
   "metadata": {},
   "outputs": [
    {
     "name": "stdout",
     "output_type": "stream",
     "text": [
      "current stock price: $146.41\n",
      "final stock price: $144.31\n"
     ]
    }
   ],
   "source": [
    "print('current stock price: ${:,.2f}'.format(csp))\n",
    "\n",
    "#fsp = 100 #csp #500 #(csp + 102.05 + 138.82)/3 # final stock price, $\n",
    "print('final stock price: ${:,.2f}'.format(fsp))"
   ]
  },
  {
   "cell_type": "code",
   "execution_count": 176,
   "metadata": {},
   "outputs": [],
   "source": [
    "est_cf = np.copy(fdp) # make a copy of the estimated cash flow\n",
    "\n",
    "# cash flows, initial purchase, dividend payments and final sale\n",
    "est_cf[0] = est_cf[0] - csp # subtract purchase price from the first dividend payment\n",
    "est_cf[-1] = est_cf[-1] + fsp # include the sale price with the final dividend payment"
   ]
  },
  {
   "cell_type": "code",
   "execution_count": 177,
   "metadata": {},
   "outputs": [
    {
     "name": "stdout",
     "output_type": "stream",
     "text": [
      "IRR: 5.99%\n"
     ]
    }
   ],
   "source": [
    "dividend_irr = np.irr(est_cf)\n",
    "print('IRR: {:.2f}%'.format(dividend_irr*100))"
   ]
  },
  {
   "cell_type": "markdown",
   "metadata": {},
   "source": [
    "According to global investment bank Goldman Sachs, 10-year stock market returns have averaged 9.2% over the past 140 years. and according to [10-Year Annualized Rolling Returns](https://static.fmgsuite.com/media/documents/bc618705-6161-4c00-be7f-c667c90c61b5.pdf), the long term average is about 10%. However there are many years where the rolling 10 year average return is below 4%.\n",
    "\n",
    "The calculated IRR is 8%, which is a decent return and significantly higher than current interest rates.  "
   ]
  },
  {
   "cell_type": "code",
   "execution_count": null,
   "metadata": {},
   "outputs": [],
   "source": []
  },
  {
   "cell_type": "markdown",
   "metadata": {},
   "source": [
    "## 8) Management performance <a id=\"section8\"></a>\n",
    "The following analysis somewhat follows the Warren Buffett strategy as outlined in [3]. This strategy is essentially value investing where companies are chosen that meet a set of criteria and who's stock price is below the intrinsic value plus a margin of safety. These investments are usually held for the long term.  \n",
    "\n",
    "- [Financial metrics](#section8-1)  \n",
    "The following analysis looks at financial ratios over the evaluation period. Financial ratios can be used to judge management performance. Consistent favorable trends are an indication that management is taking care of the company.\n",
    " - Total liabilities to total assets ratio\n",
    " - Debt to equity and debt to NOP ratios\n",
    " - Financial ratios: RoE, RoA and PM\n",
    " - NAIC section 2: Evaluating management\n",
    " - Normalized data from consolidated statements\n",
    "- [Market metrics](#section8-2)\n",
    " - One dollar premise\n",
    " - Share price vs EPS\n",
    " - Market capitalization\n",
    "- [Qualitative metrics](#section8-3)\n",
    " - Simple and understandable business model\n",
    " - Favorable long term prospects\n",
    " - Commodity reliance\n",
    " - Consistent operating history\n",
    " - rationality:  \n",
    "    1. focus on core aspects\n",
    "    2. only invest in high ROE businesses\n",
    "    3. focus on shareholder equity"
   ]
  },
  {
   "cell_type": "code",
   "execution_count": null,
   "metadata": {},
   "outputs": [],
   "source": []
  },
  {
   "cell_type": "markdown",
   "metadata": {},
   "source": [
    "### Financial metrics <a id=\"section8-1\"></a>\n",
    "The following financial metrics are examined over the evaluation period. We are looking for favorable trends and evidence of consistent operations. Some red flags will also be evident in the plots.\n",
    "\n",
    "Red flags:  \n",
    "- Shrinking gross profit margin\n",
    "- Receivables growing faster than sales\n",
    "- Rising debt-to-equity ratio\n",
    "- Several years of revenue trending down\n",
    "- Unsteady cash flow\n",
    "- Rising accounts receivable or inventory in relation to sales\n",
    "- Rising outstanding share count\n",
    "- Consistently higher liabilities than assets\n",
    "- Decreasing gross profit margin\n",
    "- Increasing revenue while cash flow remains the same\n",
    "- Unusual changes in key financial ratios\n"
   ]
  },
  {
   "cell_type": "code",
   "execution_count": null,
   "metadata": {},
   "outputs": [],
   "source": []
  },
  {
   "cell_type": "markdown",
   "metadata": {},
   "source": [
    "#### Total liabilities to total assets ratio\n",
    "The ratio of liabilities to assets is plotted over the evaluation period.  For most companies examined the liabilities are the total liabilities and the ratio is calculated using total assets and total tangible assets.  Total tangible assets have goodwill and intangibles removed from the total. The ratio gives an indication of how much the company is worth versus how much the company owes. Ideally the ratio of liabilities to assets should be less than one."
   ]
  },
  {
   "cell_type": "code",
   "execution_count": 178,
   "metadata": {},
   "outputs": [
    {
     "data": {
      "image/png": "[encoded data removed]",
      "text/plain": [
       "<Figure size 432x288 with 2 Axes>"
      ]
     },
     "metadata": {
      "needs_background": "light"
     },
     "output_type": "display_data"
    }
   ],
   "source": [
    "# Set the locator\n",
    "locator = mdates.YearLocator()  # every year\n",
    "fmt = mdates.DateFormatter('%Y')\n",
    "\n",
    "fig, ax1 = plt.subplots()\n",
    "ax1.set_ylabel('ratio')\n",
    "\n",
    "# plot revenue as single bar\n",
    "ax1.plot(df_metrics_data['FY'],df_metrics_data['total_liabilities']/df_metrics_data['total_assets'], '-+',\n",
    "    label='total liabilities to total assets')\n",
    "ax1.plot(df_metrics_data['FY'],df_metrics_data['total_liabilities']/df_metrics_data['total_tangible_assets'], '-*',\n",
    "    label='total liabilities to total tangible assets')\n",
    "\n",
    "ax1.tick_params(axis='y')\n",
    "ax1.legend(bbox_to_anchor=(1.8, 1))\n",
    "plt.grid()\n",
    "\n",
    "# instantiate a second y-axes that shares the same x-axis\n",
    "ax2 = ax1.twinx()\n",
    "color = 'tab:green'\n",
    "\n",
    "#ax2.plot(year_ended_list,pcd,'+-g')\n",
    "ax2.plot(df_metrics_data['FY'],\n",
    "    (df_metrics_data['total_assets']-df_metrics_data['total_tangible_assets'])/df_metrics_data['total_assets']*100,\n",
    "    ':',color=color,label='intangible assets to total assets')\n",
    "    \n",
    "ax2.set_ylabel('% intangible assets',color=color)\n",
    "ax2.tick_params(axis='y', labelcolor=color)\n",
    "ax2.set_ylim((0,100))\n",
    "ax2.legend(bbox_to_anchor=(1.7, 0))\n",
    "\n",
    "X = plt.gca().xaxis\n",
    "X.set_major_locator(locator)\n",
    "# Specify formatter\n",
    "X.set_major_formatter(fmt)\n",
    "plt.gcf().autofmt_xdate()\n",
    "\n",
    "plt.title('Total liabilities to total assets ratio')\n",
    "plt.show()"
   ]
  },
  {
   "cell_type": "markdown",
   "metadata": {},
   "source": [
    "**Observation:**  "
   ]
  },
  {
   "cell_type": "code",
   "execution_count": null,
   "metadata": {},
   "outputs": [],
   "source": []
  },
  {
   "cell_type": "markdown",
   "metadata": {},
   "source": [
    "#### Debt to equity and debt to NOP ratios\n",
    "\n",
    "The debt-to-equity ratio (D/E) is another key characteristic Buffett considers carefully. Buffett prefers to see a small amount of debt so that earnings growth is being generated from shareholders' equity as opposed to borrowed money. The D/E ratio is calculated as follows:\n",
    "\n",
    "$\\text{Debt-to-Equity Ratio} = \\frac {\\text{Total Liabilities}} {\\text{Shareholders' Equity}} \\text{  OR  } \\frac {\\text{Long term debt}} {\\text{Shareholders' Equity}}$\n",
    "\n",
    "This ratio shows the proportion of equity and debt the company uses to finance its assets, and the higher the ratio, the more debt—rather than equity—is financing the company. A high debt level compared to equity can result in volatile earnings and large interest expenses. For a more stringent test, investors sometimes use only long-term debt instead of total liabilities in the calculation above.\n",
    "\n",
    "D/E is the traditional way to look at a company's debt.  Some rules of thumb say that the D/E should not be above 2 or 3.  However the D/E company's typically vary by industry. The ratio of LT debt to NOP gives the number of years it would take the company to pay back debt from NOP, the lower the number the shorter amount of time.\n",
    "\n",
    "$\\text{Debt-to-NOP Ratio} = \\frac {\\text{Total Liabilities}} {\\text{NOP}}$  "
   ]
  },
  {
   "cell_type": "code",
   "execution_count": 179,
   "metadata": {},
   "outputs": [
    {
     "data": {
      "image/png": "[encoded data removed]",
      "text/plain": [
       "<Figure size 432x288 with 1 Axes>"
      ]
     },
     "metadata": {
      "needs_background": "light"
     },
     "output_type": "display_data"
    }
   ],
   "source": [
    "tangible_equity = df_metrics_data['total_tangible_assets'] - df_metrics_data['total_liabilities']\n",
    "\n",
    "# Set the locator\n",
    "locator = mdates.YearLocator()  # every year\n",
    "fmt = mdates.DateFormatter('%Y')\n",
    "\n",
    "fig, ax1 = plt.subplots()\n",
    "ax1.set_ylabel('ratio')\n",
    "\n",
    "ax1.plot(df_metrics_data['FY'],df_dcf_data['long_term_debt']/df_metrics_data['shareholder_equity'],\n",
    "    '-^',label='(LT debt)/Equity')\n",
    "#ax1.plot(year_ended_list,df_dcf_data['long_term_debt']/tangible_equity, '-',label='(LT debt)/(Tangible Equity)')\n",
    "ax1.plot(df_metrics_data['FY'],df_metrics_data['total_liabilities']/df_metrics_data['shareholder_equity'],\n",
    "    '-*',label='(total liabilities)/Equity')\n",
    "#ax1.plot(year_ended_list,total_liabilities/BV, '-^',label='(total liabilities)/BV')\n",
    "ax1.plot(df_metrics_data['FY'],df_metrics_data['total_liabilities']/nop, '-+',label='(total liabilities)/NOP')\n",
    "#ax1.plot(year_ended_list,total_liabilities/net_income, '-+',label='(total liabilities)/(net income)')\n",
    "#ax1.plot(year_ended_list,df_dcf_data['current_liabilities']/nop, '-*',label='(current liabilities)/NOP')\n",
    "#ax1.plot(year_ended_list,Liabilities_wo_deposits/nop, '-+',label='(Liabilities w/o deposits)/NOP')\n",
    "\n",
    "ax1.tick_params(axis='y')\n",
    "#ax1.set_ylim((0,10))\n",
    "#ax1.legend()\n",
    "ax1.legend(bbox_to_anchor=(1.6, 1))\n",
    "plt.grid()\n",
    "\n",
    "X = plt.gca().xaxis\n",
    "X.set_major_locator(locator)\n",
    "# Specify formatter\n",
    "X.set_major_formatter(fmt)\n",
    "plt.gcf().autofmt_xdate()\n",
    "\n",
    "plt.title('Various debt ratios')\n",
    "plt.show()"
   ]
  },
  {
   "cell_type": "markdown",
   "metadata": {},
   "source": [
    "**Observation:**    \n",
    "# update comments\n",
    "\n",
    "(LT debt)/Equity is plotted and is below 2 for each year in the evaluation period. A threshold of 2 is traditionally the upper limit for a reasonable amount of debt that a company should carry.\n",
    "\n",
    "(total liabilities)/Equity is plotted and except for 2020 has been below the threshold of 2.  \n",
    "\n",
    "(total liabilities)/NOP to is plotted for each year in the evaluation period and except for 2019 is below 10.  A value of 10 has been chosen as the threshold for this ratio and indicates how many years it would take the company to pay off total liabilities from the NOP generated each year. A threshold of ten seems like a reasonable level of debt measured against NOP."
   ]
  },
  {
   "cell_type": "code",
   "execution_count": null,
   "metadata": {},
   "outputs": [],
   "source": []
  },
  {
   "cell_type": "markdown",
   "metadata": {},
   "source": [
    "#### Financial ratios\n",
    "Various ratios can be used to judge management performance. Consistent favorable trends are an indication that management is taking care of the company.\n",
    "\n",
    "**Return on equity**  \n",
    "Sometimes return on equity (RoE) is referred to as stockholder's return on investment. It reveals the rate at which shareholders earn income on their shares. Buffett always looks at RoE to see whether a company has consistently performed well compared to other companies in the same industry. RoE is calculated as follows:\n",
    "\n",
    "$\\text{Return on Equity} = \\frac {\\text{Net Income}} {\\text{Shareholder's Equity}}$\n",
    "\n",
    "Looking at the RoE in just the last year isn't enough. The investor should view the RoE from the past five to 10 years to analyze historical performance.\n",
    "\n",
    "$\\text{Shareholders’ Equity} = \\text{Total Assets} − \\text{Total Liabilities}$    \n",
    "\n",
    "For this company, this method of getting Shareholders’ Equity gives negative values.  On the Consolidated Balance Sheets, there is a line for Total stockholders’ equity, which is used.\n",
    "\n",
    "**Return on Assets**   \n",
    "Return on assets is a profitability ratio that provides how much profit a company is able to generate from its assets. In other words, return on assets (RoA) measures how efficient a company's management is in generating earnings from their economic resources or assets on their balance sheet.\n",
    "\n",
    "$\\text{Return on assets} = \\frac {\\text{Net Income}} {\\text{Total Assets}}$\n",
    "\n",
    "Calculating the RoA of a company can be helpful in comparing a company's profitability over multiple quarters and years as well as comparing to similar companies. However, it's important to compare companies of similar size and industry.\n",
    "\n",
    "For example, banks tend to have a large number of total assets on their books in the form of loans, cash, and investments. A large bank could easily have over \\\\$2 trillion in assets while putting up a net income that's similar to companies in other industries. Although the bank's net income or profit might be similar to an unrelated company and the bank might have high-quality assets, the bank's RoA will be lower. The larger number of total assets must be divided into the net income, creating a lower RoA for the bank.\n",
    "\n",
    "Similarly, auto manufacturing requires huge facilities and specialized equipment. A lucrative software company that sells downloadable programs online may generate the same net profits, but it could have a significantly higher RoA than its more asset-heavy counterparts. When utilizing this metric to compare productivity across businesses, it's important to take into account what types of assets are required to function in a given industry, rather than simply comparing the figures.\n",
    "\n",
    "**Profit Margin**  \n",
    "A company's profitability depends not only on having a good profit margin, but also on consistently increasing it. This margin is calculated by dividing net income by net sales. For a good indication of historical profit margins, investors should look back at least five years. A high-profit margin indicates the company is executing its business well, but increasing margins mean management has been extremely efficient and successful at controlling expenses.\n",
    "\n",
    "$\\text{Profit Margin} = \\frac {\\text{Net Income}} {\\text{Revenue}}$\n"
   ]
  },
  {
   "cell_type": "code",
   "execution_count": 180,
   "metadata": {},
   "outputs": [
    {
     "data": {
      "image/png": "[encoded data removed]",
      "text/plain": [
       "<Figure size 432x288 with 1 Axes>"
      ]
     },
     "metadata": {
      "needs_background": "light"
     },
     "output_type": "display_data"
    }
   ],
   "source": [
    "# Set the locator\n",
    "locator = mdates.YearLocator()  # every year\n",
    "fmt = mdates.DateFormatter('%Y')\n",
    "\n",
    "fig, ax1 = plt.subplots()\n",
    "ax1.set_ylabel('percent')\n",
    "\n",
    "ax1.plot(df_metrics_data['FY'],df_metrics_data['net_income']/df_metrics_data['shareholder_equity']*100,\n",
    "    '-+',label='RoE')\n",
    "ax1.plot(df_metrics_data['FY'],df_metrics_data['net_income']/df_metrics_data['total_assets']*100,\n",
    "    '-*',label='RoA')\n",
    "#ax1.plot(df_metrics_data['FY'],total_liabilities/shareholder_equity, '-^',label='D/E')\n",
    "ax1.plot(df_metrics_data['FY'],df_metrics_data['net_income']/df_dcf_data['revenue']*100,\n",
    "    '-^',label='Profit margin')\n",
    "\n",
    "ax1.tick_params(axis='y')\n",
    "#ax1.set_ylim((0,14))\n",
    "#ax1.legend()\n",
    "ax1.legend(bbox_to_anchor=(1.05, 1))\n",
    "plt.grid()\n",
    "\n",
    "X = plt.gca().xaxis\n",
    "X.set_major_locator(locator)\n",
    "# Specify formatter\n",
    "X.set_major_formatter(fmt)\n",
    "plt.gcf().autofmt_xdate()\n",
    "\n",
    "plt.title('Various ratios')\n",
    "plt.show()"
   ]
  },
  {
   "cell_type": "markdown",
   "metadata": {},
   "source": [
    "**Observation:**  \n",
    "The trends for RoE, RoA and profit margin are shown above."
   ]
  },
  {
   "cell_type": "code",
   "execution_count": null,
   "metadata": {},
   "outputs": [],
   "source": []
  },
  {
   "cell_type": "markdown",
   "metadata": {},
   "source": [
    "### NAIC section 2: Evaluating management\n",
    "See page 86, figure 9-1.  \n",
    "- % pretax profit on sales, (net before taxes)/rev\n",
    "- % earned on equity (another way of saying RoE, using calculated equity)\n",
    "\n",
    "Percent earned on equity is a measure of financial performance calculated by dividing net income by equity. Because equity is equal to a company’s assets minus its debt, percent earned on equity is considered the return on net assets. Percent earned on equity is considered a gauge of a corporation's profitability and how efficient it is in generating profits.  "
   ]
  },
  {
   "cell_type": "code",
   "execution_count": 181,
   "metadata": {},
   "outputs": [
    {
     "data": {
      "image/png": "[encoded data removed]",
      "text/plain": [
       "<Figure size 432x288 with 1 Axes>"
      ]
     },
     "metadata": {
      "needs_background": "light"
     },
     "output_type": "display_data"
    }
   ],
   "source": [
    "# Set the locator\n",
    "locator = mdates.YearLocator()  # every year\n",
    "fmt = mdates.DateFormatter('%Y')\n",
    "\n",
    "fig, ax1 = plt.subplots()\n",
    "ax1.set_ylabel('percent')\n",
    "#ax1.plot(year_ended_list,net_income, '-+',label='net income')\n",
    "ax1.plot(df_metrics_data['FY'],df_dcf_data['income_before_income_taxes']/df_dcf_data['revenue']*100, '-+',\n",
    "         label='income before taxes/rev')\n",
    "#ax1.plot(year_ended_list,df_dcf_data['revenue'], '-+',label='revenue')\n",
    "#ax1.plot(year_ended_list,free_cash_flow, '-*',label='free cash flow')\n",
    "\n",
    "ax1.tick_params(axis='y')\n",
    "ax1.set_ylim((0,50))\n",
    "#ax1.legend()\n",
    "plt.grid()\n",
    "\n",
    "X = plt.gca().xaxis\n",
    "X.set_major_locator(locator)\n",
    "# Specify formatter\n",
    "X.set_major_formatter(fmt)\n",
    "plt.gcf().autofmt_xdate()\n",
    "\n",
    "plt.title('% pretax profit on sales')\n",
    "plt.show()"
   ]
  },
  {
   "cell_type": "markdown",
   "metadata": {},
   "source": [
    "Over the years 2016 to 2020, pretax profit on sales has a downward trend. Ideally this trend should be increasing or at least flat."
   ]
  },
  {
   "cell_type": "code",
   "execution_count": 182,
   "metadata": {},
   "outputs": [
    {
     "data": {
      "image/png": "[encoded data removed]",
      "text/plain": [
       "<Figure size 432x288 with 1 Axes>"
      ]
     },
     "metadata": {
      "needs_background": "light"
     },
     "output_type": "display_data"
    }
   ],
   "source": [
    "# Set the locator\n",
    "locator = mdates.YearLocator()  # every year\n",
    "fmt = mdates.DateFormatter('%Y')\n",
    "\n",
    "fig, ax1 = plt.subplots()\n",
    "ax1.set_ylabel('percent')\n",
    "\n",
    "#ax1.plot(year_ended_list,shareholder_equity/df_dcf_data['revenue']*100, '-+k',\n",
    "#        label='shareholder equity/rev')\n",
    "#ax1.plot(year_ended_list,net_income/shareholder_equity*100, '-+',label='RoE')\n",
    "ax1.plot(df_metrics_data['FY'],\n",
    "    df_metrics_data['net_income']/(df_metrics_data['total_assets']-df_metrics_data['total_liabilities'])*100,\n",
    "    '-+',label='RoE')\n",
    "\n",
    "ax1.tick_params(axis='y')\n",
    "ax1.set_ylim((0,60))\n",
    "#ax1.legend()\n",
    "plt.grid()\n",
    "\n",
    "X = plt.gca().xaxis\n",
    "X.set_major_locator(locator)\n",
    "# Specify formatter\n",
    "X.set_major_formatter(fmt)\n",
    "plt.gcf().autofmt_xdate()\n",
    "\n",
    "plt.title('% earned on equity')\n",
    "plt.show()"
   ]
  },
  {
   "cell_type": "markdown",
   "metadata": {},
   "source": [
    "Percent earned on equity (another way of saying RoE). Percent earned on equity trend has been flat up to 2015, then became erratic.\n",
    "\n",
    "Percent earned on equity is a measure of financial performance calculated by dividing net income by equity. Because equity is equal to a company’s assets minus its debt, percent earned on equity is considered the return on net assets. Percent earned on equity is considered a gauge of a corporation's profitability and how efficient it is in generating profits.  "
   ]
  },
  {
   "cell_type": "markdown",
   "metadata": {},
   "source": [
    "### Plot normalized data from consolidated statements\n",
    "The following charts examine data from the consolidated financial statements and compare normalized trends over the evaluation period. The first chart plots normalized revenue along with normalized EPS, NOP and free cash flow.  All values are normalized to the starting value in the series. Change relative to the normalized starting value can be seen over the evaluation period. Ideally the normalized parameters plotted should track revenue. Any large departures indicate an area of concern. \n",
    "\n",
    "#### Normalized consolidated statement of income\n",
    "The following chart shows normalized revenue plotted with normalized parameters from the consolidated statement of income."
   ]
  },
  {
   "cell_type": "code",
   "execution_count": 183,
   "metadata": {},
   "outputs": [
    {
     "data": {
      "image/png": "[encoded data removed]",
      "text/plain": [
       "<Figure size 432x288 with 1 Axes>"
      ]
     },
     "metadata": {
      "needs_background": "light"
     },
     "output_type": "display_data"
    }
   ],
   "source": [
    "# Set the locator\n",
    "locator = mdates.YearLocator()  # every year\n",
    "fmt = mdates.DateFormatter('%Y')\n",
    "\n",
    "# set look back range, left_yr is the index into the date range\n",
    "left_yr = -11\n",
    "\n",
    "plt.plot(df_metrics_data['FY'][left_yr:],\n",
    "    df_dcf_data['revenue'][left_yr:]/df_dcf_data['revenue'].iloc[left_yr],'^-',label='Revenue')\n",
    "plt.plot(df_metrics_data['FY'][left_yr:],\n",
    "    df_metrics_data['eps'][left_yr:]/df_metrics_data['eps'].iloc[left_yr],\n",
    "    '-.',label='EPS')\n",
    "plt.plot(df_metrics_data['FY'][left_yr:],\n",
    "    nop[left_yr:]/nop[left_yr],\n",
    "    '-.',label='NOP')\n",
    "plt.plot(df_metrics_data['FY'][left_yr:],\n",
    "    df_metrics_data['free_cash_flow'][left_yr:]/df_metrics_data['free_cash_flow'].iloc[left_yr],\n",
    "    '-.',label='Free cash flow')\n",
    "# net income\n",
    "plt.plot(df_metrics_data['FY'][left_yr:],\n",
    "    df_metrics_data['net_income'][left_yr:]/df_metrics_data['net_income'].iloc[left_yr],\n",
    "    '-.',label='Net income')\n",
    "\n",
    "X = plt.gca().xaxis\n",
    "X.set_major_locator(locator)\n",
    "# Specify formatter\n",
    "X.set_major_formatter(fmt)\n",
    "plt.gcf().autofmt_xdate()\n",
    "# Changes x-axis range\n",
    "plt.gca().set_xbound(year_ended_list[left_yr], year_ended_list[-1])\n",
    "\n",
    "#plt.ylim((0,4))\n",
    "plt.title('Normalized income statement data')\n",
    "plt.ylabel('normalized')\n",
    "#plt.legend()\n",
    "plt.legend(bbox_to_anchor=(1.6, 1))\n",
    "\n",
    "plt.grid()\n",
    "\n",
    "# space between the plots\n",
    "#plt.tight_layout(4)\n",
    "\n",
    "# show plot\n",
    "plt.show()"
   ]
  },
  {
   "cell_type": "markdown",
   "metadata": {},
   "source": [
    "**Observation:**  \n"
   ]
  },
  {
   "cell_type": "markdown",
   "metadata": {},
   "source": [
    "#### Normalized income statement 5 year look back"
   ]
  },
  {
   "cell_type": "code",
   "execution_count": 184,
   "metadata": {},
   "outputs": [
    {
     "data": {
      "image/png": "[encoded data removed]",
      "text/plain": [
       "<Figure size 432x288 with 1 Axes>"
      ]
     },
     "metadata": {
      "needs_background": "light"
     },
     "output_type": "display_data"
    }
   ],
   "source": [
    "# Set the locator\n",
    "locator = mdates.YearLocator()  # every year\n",
    "fmt = mdates.DateFormatter('%Y')\n",
    "\n",
    "# set look back range, left_yr is the index into the date range\n",
    "left_yr = -6\n",
    "\n",
    "plt.plot(df_metrics_data['FY'][left_yr:],\n",
    "    df_dcf_data['revenue'][left_yr:]/df_dcf_data['revenue'].iloc[left_yr],'^-',label='Revenue')\n",
    "plt.plot(df_metrics_data['FY'][left_yr:],\n",
    "    df_metrics_data['eps'][left_yr:]/df_metrics_data['eps'].iloc[left_yr],\n",
    "    '-.',label='EPS')\n",
    "plt.plot(df_metrics_data['FY'][left_yr:],\n",
    "    nop[left_yr:]/nop[left_yr],\n",
    "    '-.',label='NOP')\n",
    "plt.plot(df_metrics_data['FY'][left_yr:],\n",
    "    df_metrics_data['free_cash_flow'][left_yr:]/df_metrics_data['free_cash_flow'].iloc[left_yr],\n",
    "    '-.',label='Free cash flow')\n",
    "# net income\n",
    "plt.plot(df_metrics_data['FY'][left_yr:],\n",
    "    df_metrics_data['net_income'][left_yr:]/df_metrics_data['net_income'].iloc[left_yr],\n",
    "    '-.',label='Net income')\n",
    "\n",
    "X = plt.gca().xaxis\n",
    "X.set_major_locator(locator)\n",
    "# Specify formatter\n",
    "X.set_major_formatter(fmt)\n",
    "plt.gcf().autofmt_xdate()\n",
    "# Changes x-axis range\n",
    "plt.gca().set_xbound(year_ended_list[left_yr], year_ended_list[-1])\n",
    "\n",
    "#plt.ylim((0,4))\n",
    "plt.title('Normalized income statement data')\n",
    "plt.ylabel('normalized')\n",
    "#plt.legend()\n",
    "plt.legend(bbox_to_anchor=(1.6, 1))\n",
    "\n",
    "plt.grid()\n",
    "\n",
    "# space between the plots\n",
    "#plt.tight_layout(4)\n",
    "\n",
    "# show plot\n",
    "plt.show()"
   ]
  },
  {
   "cell_type": "markdown",
   "metadata": {},
   "source": [
    "**Observation:**  \n"
   ]
  },
  {
   "cell_type": "markdown",
   "metadata": {},
   "source": [
    "#### Normalized consolidated balance sheet\n",
    "The following chart shows normalized revenue plotted with normalized parameters from the consolidated balance sheet."
   ]
  },
  {
   "cell_type": "code",
   "execution_count": 185,
   "metadata": {},
   "outputs": [
    {
     "data": {
      "image/png": "[encoded data removed]",
      "text/plain": [
       "<Figure size 432x288 with 1 Axes>"
      ]
     },
     "metadata": {
      "needs_background": "light"
     },
     "output_type": "display_data"
    }
   ],
   "source": [
    "# Set the locator\n",
    "locator = mdates.YearLocator()  # every year\n",
    "fmt = mdates.DateFormatter('%Y')\n",
    "\n",
    "# set look back range, left_yr is the index into the date range\n",
    "left_yr = 0\n",
    "\n",
    "plt.plot(df_metrics_data['FY'][left_yr:],\n",
    "    df_dcf_data['revenue'][left_yr:]/df_dcf_data['revenue'].iloc[left_yr],'^-',label='revenue')\n",
    "plt.plot(df_metrics_data['FY'][left_yr:],\n",
    "    df_metrics_data['total_liabilities'][left_yr:]/df_metrics_data['total_liabilities'].iloc[left_yr],\n",
    "    '-.',label='total liabilities')\n",
    "plt.plot(df_metrics_data['FY'][left_yr:],\n",
    "    df_dcf_data['current_assets'][left_yr:]/df_dcf_data['current_assets'].iloc[left_yr],\n",
    "    '-.',label='current_assets')\n",
    "plt.plot(df_metrics_data['FY'][left_yr:],\n",
    "    df_dcf_data['current_liabilities'][left_yr:]/df_dcf_data['current_liabilities'].iloc[left_yr],\n",
    "    '-.',label='current_liabilities')\n",
    "plt.plot(df_metrics_data['FY'][left_yr:],\n",
    "    df_dcf_data['accounts_receivable'][left_yr:]/df_dcf_data['accounts_receivable'].iloc[left_yr],\n",
    "    '-.',label='accounts_receivable')\n",
    "plt.plot(df_metrics_data['FY'][left_yr:],\n",
    "    df_dcf_data['inventories'][left_yr:]/df_dcf_data['inventories'].iloc[left_yr],\n",
    "    '-.',label='inventories')\n",
    "\n",
    "X = plt.gca().xaxis\n",
    "X.set_major_locator(locator)\n",
    "# Specify formatter\n",
    "X.set_major_formatter(fmt)\n",
    "plt.gcf().autofmt_xdate()\n",
    "# Changes x-axis range\n",
    "plt.gca().set_xbound(year_ended_list[left_yr], year_ended_list[-1])\n",
    "\n",
    "#plt.ylim((0,4))\n",
    "plt.title('Normalized balance sheet data')\n",
    "plt.ylabel('normalized')\n",
    "#plt.legend()\n",
    "plt.legend(bbox_to_anchor=(1.6, 1))\n",
    "\n",
    "plt.grid()\n",
    "\n",
    "# space between the plots\n",
    "#plt.tight_layout(4)\n",
    "\n",
    "# show plot\n",
    "plt.show()"
   ]
  },
  {
   "cell_type": "markdown",
   "metadata": {},
   "source": [
    "**Observation:**  \n"
   ]
  },
  {
   "cell_type": "code",
   "execution_count": 186,
   "metadata": {},
   "outputs": [
    {
     "data": {
      "image/png": "[encoded data removed]",
      "text/plain": [
       "<Figure size 432x288 with 1 Axes>"
      ]
     },
     "metadata": {
      "needs_background": "light"
     },
     "output_type": "display_data"
    }
   ],
   "source": [
    "# Set the locator\n",
    "locator = mdates.YearLocator()  # every year\n",
    "fmt = mdates.DateFormatter('%Y')\n",
    "\n",
    "# set look back range, left_yr is the index into the date range\n",
    "left_yr = -6\n",
    "\n",
    "plt.plot(df_metrics_data['FY'][left_yr:],\n",
    "    df_dcf_data['revenue'][left_yr:]/df_dcf_data['revenue'].iloc[left_yr],'^-',label='revenue')\n",
    "plt.plot(df_metrics_data['FY'][left_yr:],\n",
    "    df_metrics_data['total_liabilities'][left_yr:]/df_metrics_data['total_liabilities'].iloc[left_yr],\n",
    "    '-.',label='total liabilities')\n",
    "plt.plot(df_metrics_data['FY'][left_yr:],\n",
    "    df_dcf_data['current_assets'][left_yr:]/df_dcf_data['current_assets'].iloc[left_yr],\n",
    "    '-.',label='current_assets')\n",
    "plt.plot(df_metrics_data['FY'][left_yr:],\n",
    "    df_dcf_data['current_liabilities'][left_yr:]/df_dcf_data['current_liabilities'].iloc[left_yr],\n",
    "    '-.',label='current_liabilities')\n",
    "plt.plot(df_metrics_data['FY'][left_yr:],\n",
    "    df_dcf_data['accounts_receivable'][left_yr:]/df_dcf_data['accounts_receivable'].iloc[left_yr],\n",
    "    '-.',label='accounts_receivable')\n",
    "plt.plot(df_metrics_data['FY'][left_yr:],\n",
    "    df_dcf_data['inventories'][left_yr:]/df_dcf_data['inventories'].iloc[left_yr],\n",
    "    '-.',label='inventories')\n",
    "\n",
    "X = plt.gca().xaxis\n",
    "X.set_major_locator(locator)\n",
    "# Specify formatter\n",
    "X.set_major_formatter(fmt)\n",
    "plt.gcf().autofmt_xdate()\n",
    "# Changes x-axis range\n",
    "plt.gca().set_xbound(year_ended_list[left_yr], year_ended_list[-1])\n",
    "\n",
    "#plt.ylim((0,4))\n",
    "plt.title('Normalized balance sheet data')\n",
    "plt.ylabel('normalized')\n",
    "#plt.legend()\n",
    "plt.legend(bbox_to_anchor=(1.6, 1))\n",
    "\n",
    "plt.grid()\n",
    "\n",
    "# space between the plots\n",
    "#plt.tight_layout(4)\n",
    "\n",
    "# show plot\n",
    "plt.show()"
   ]
  },
  {
   "cell_type": "markdown",
   "metadata": {},
   "source": [
    "**Observation:**  \n"
   ]
  },
  {
   "cell_type": "code",
   "execution_count": null,
   "metadata": {},
   "outputs": [],
   "source": []
  },
  {
   "cell_type": "markdown",
   "metadata": {},
   "source": [
    "### Market metrics <a id=\"section8-2\"></a>\n",
    "The share price is determined by the market. The value is determined by the analyst.\n",
    "\n",
    "#### One dollar premise\n",
    "This is a financial test that shows the strength of the business and how well management has rationality allocated to the company's business.\n",
    "\n",
    "From a company's income, subtract all dividends paid to shareholders.  What is left over is the company's retained earnings.  Now add the company's retained earnings over a 10 year period.  Next determine the difference between the company's current market value and its market value 10 years ago.  If the business has employed retained earnings unproductively over this ten year period, the market eventually catches up and will set a lower price on the business. "
   ]
  },
  {
   "cell_type": "code",
   "execution_count": 187,
   "metadata": {},
   "outputs": [
    {
     "name": "stdout",
     "output_type": "stream",
     "text": [
      "retained earnings: $28.40B\n"
     ]
    }
   ],
   "source": [
    "retained_earnings = df_metrics_data['net_income'].sum() - df_metrics_data['dividends'].sum()\n",
    "print('retained earnings: ${:,.2f}B'.format(retained_earnings/1e9))"
   ]
  },
  {
   "cell_type": "markdown",
   "metadata": {},
   "source": [
    "Retained earnings are negative. This indicates either some bad data or something fundamentally wrong. \n",
    "\n",
    "Net income data is from the income statement under Net (Loss)/Earnings Attributable to BMY and Dividend data is from the cash flow sheet under financial activities. For this company,the net income for many years is less than the dividends paid, which results in negative retained earnings. I think this is an item of concern.  "
   ]
  },
  {
   "cell_type": "code",
   "execution_count": 188,
   "metadata": {},
   "outputs": [
    {
     "name": "stdout",
     "output_type": "stream",
     "text": [
      "Current market value: $95.65B to $120.04B\n"
     ]
    }
   ],
   "source": [
    "# Current market value, share price multiplied by number of shares\n",
    "cmv_high = df_dcf_data['shares_outstanding'].iloc[-1]*fy_high[-1]\n",
    "cmv_low = df_dcf_data['shares_outstanding'].iloc[-1]*fy_low[-1]\n",
    "print('Current market value: ${:,.2f}B to ${:,.2f}B'.format(cmv_low/1e9,cmv_high/1e9))"
   ]
  },
  {
   "cell_type": "code",
   "execution_count": 189,
   "metadata": {},
   "outputs": [
    {
     "name": "stdout",
     "output_type": "stream",
     "text": [
      "Past market value: $53B to $65B\n"
     ]
    }
   ],
   "source": [
    "# Past market value, share price multiplied by number of shares\n",
    "pmv_high = df_dcf_data['shares_outstanding'].iloc[0]*fy_high[0]\n",
    "pmv_low = df_dcf_data['shares_outstanding'].iloc[0]*fy_low[0]\n",
    "print('Past market value: ${:,.0f}B to ${:,.0f}B'.format(pmv_low/1e9,pmv_high/1e9))"
   ]
  },
  {
   "cell_type": "code",
   "execution_count": 190,
   "metadata": {},
   "outputs": [
    {
     "name": "stdout",
     "output_type": "stream",
     "text": [
      "Difference in market value: $42B to $55B\n"
     ]
    }
   ],
   "source": [
    "print('Difference in market value: ${:,.0f}B to ${:,.0f}B'.format((cmv_low-pmv_low)/1e9,(cmv_high-pmv_high)/1e9))"
   ]
  },
  {
   "cell_type": "markdown",
   "metadata": {},
   "source": [
    "This difference in market value is greater than the retained earnings."
   ]
  },
  {
   "cell_type": "markdown",
   "metadata": {},
   "source": [
    "#### Share price vs EPS\n",
    "Looking at the one dollar premise in terms of share price and EPS.  \n",
    "\n",
    "The one dollar premise: one dollar of earning should translate into one dollar of market value - this seems the same as a plot of EPS versus share price."
   ]
  },
  {
   "cell_type": "code",
   "execution_count": 191,
   "metadata": {},
   "outputs": [
    {
     "data": {
      "image/png": "[encoded data removed]",
      "text/plain": [
       "<Figure size 432x288 with 1 Axes>"
      ]
     },
     "metadata": {
      "needs_background": "light"
     },
     "output_type": "display_data"
    }
   ],
   "source": [
    "# plotting the eps data points\n",
    "ax = plt.bar(df_metrics_data['eps'],fy_high-fy_low,width = .05,bottom=fy_low)\n",
    "plt.grid()\n",
    "#plt.ylim((20,100))\n",
    "plt.ylabel('high and low share price range')\n",
    "plt.xlabel('EPS')\n",
    "plt.title('years from 2010 to 2021')\n",
    "\n",
    "rects = ax.patches\n",
    "\n",
    "# Make some labels.\n",
    "labels = [year_ended_list[i].strftime(\"%Y\") for i in range(len(year_ended_list))]\n",
    "for rect, label in zip(rects, labels):\n",
    "    y_top =  rect.get_y() + rect.get_height()\n",
    "    plt.text(rect.get_x(), y_top+1, label, rotation=90,va='bottom')    \n",
    "\n",
    "plt.show()"
   ]
  },
  {
   "cell_type": "markdown",
   "metadata": {},
   "source": [
    "**Observations:**   \n"
   ]
  },
  {
   "cell_type": "markdown",
   "metadata": {},
   "source": [
    "#### Market capitalization\n",
    "Total value of common equity is calculated using the DCF model from scenario 1 inputs and it is a constant value for the year. The daily market capitalization is calculated from the formula:  \n",
    "\n",
    "$\\text{Market capitalization} = \\text{(daily closing share price)} \\times \\text{(number of shares outstanding)}$  \n",
    "\n",
    "Market capitalization refers to the total dollar market value of a company's outstanding shares of stock. It measures the cost of buying all of a company's shares. Comparing this value to the intrinsic value calculated from the DCF model shows whether the company can be purchased at a discount to its value."
   ]
  },
  {
   "cell_type": "code",
   "execution_count": 192,
   "metadata": {},
   "outputs": [
    {
     "name": "stdout",
     "output_type": "stream",
     "text": [
      "shares outstanding, basic: 579,000,000\n",
      "total value of common equity, baseline case: $123.02B\n",
      "total value of common equity, scenario 1: $78.30B\n"
     ]
    }
   ],
   "source": [
    "#so = df_dcf_data['shares_outstanding'].iloc[-1] # shares outstanding\n",
    "print('shares outstanding, basic: {:,.0f}'.format(so))\n",
    "\n",
    "# get starting and ending dates for last calendar year in datetime format\n",
    "start = year_ended_list[-1]\n",
    "end = start + relativedelta(years=1)\n",
    "p1 = df_price_history.truncate(before=start, after=end)\n",
    "\n",
    "# print total value of common equity for base case and scenario\n",
    "print('total value of common equity, baseline case: ${:,.2f}B'.format(tvce_baseline/1e9))\n",
    "print('total value of common equity, scenario 1: ${:,.2f}B'.format(tvce_S1/1e9))\n",
    "#print('average value of common equity (base & scenario): ${:,.2f}B'.format((tvce_S1+tvce_base)/2/1e9))\n",
    "\n",
    "# make an array \n",
    "total_value_S1 = np.ones(len(p1))*tvce_S1 # the value is constant across all dates\n",
    "\n",
    "# add scenario 1 total value of common equity data to dataframe\n",
    "#p1['total value avg'] = total_value_avg\n",
    "p1['total value S1'] = total_value_S1"
   ]
  },
  {
   "cell_type": "code",
   "execution_count": 193,
   "metadata": {},
   "outputs": [
    {
     "data": {
      "image/png": "[encoded data removed]",
      "text/plain": [
       "<Figure size 432x288 with 1 Axes>"
      ]
     },
     "metadata": {
      "needs_background": "light"
     },
     "output_type": "display_data"
    }
   ],
   "source": [
    "# Set the locator\n",
    "locator = mdates.MonthLocator()  # every month\n",
    "fmt = mdates.DateFormatter('%b-%Y')\n",
    "\n",
    "plt.plot(p1['Close']*so/1e9,label='Market capitalization')\n",
    "#plt.plot(p1['total value base']/1e9,label='total value of common equity, base')\n",
    "plt.plot(p1['total value S1']/1e9,label='Total value of common equity, scenario 1')\n",
    "\n",
    "X = plt.gca().xaxis\n",
    "X.set_major_locator(locator)\n",
    "# Specify formatter\n",
    "X.set_major_formatter(fmt)\n",
    "plt.gcf().autofmt_xdate()\n",
    "\n",
    "#plt.ylim((2,8))\n",
    "plt.title('Market Cap and total value of common equity')\n",
    "plt.ylabel('dollars, $B')\n",
    "plt.legend()\n",
    "plt.grid()\n",
    "\n",
    "# show plot\n",
    "plt.show()"
   ]
  },
  {
   "cell_type": "markdown",
   "metadata": {},
   "source": [
    "**Observation:**  \n"
   ]
  },
  {
   "cell_type": "code",
   "execution_count": null,
   "metadata": {},
   "outputs": [],
   "source": []
  },
  {
   "cell_type": "markdown",
   "metadata": {},
   "source": [
    "### Qualitative metrics <a id=\"section8-3\"></a>\n",
    "Beyond the numbers in the financial statements, there are metrics that are qualitative in nature that are important to the investor. These are subjective measures of business and management operations that influence value. In this section a few qualitative metrics are discussed below. \n",
    "\n",
    "- **Simple and understandable business model**  \n",
    "BMY is a pharmaceutical company that manufactures drugs in several therapeutic areas. Although the science is not simple, the business framework of R&D, patent protection, manufacturing and distribution is typical of other manufacturing firms operating in the technology sector.   \n",
    "\n",
    "- **Favorable long term prospects**  \n",
    "The company has a long history and the recent trends are favorable, except for the acquisition in 2019, which upset the trends.  \n",
    "\n",
    "- **Commodity reliance**  \n",
    "By commodity is meant a product or service that is easily reproducible by a competitor. Pharmaceuticals are the result of R&D and protected by patents. The barrier to entry is high for Pharmaceutical companies.  \n",
    "\n",
    "- **Consistent operating history**  \n",
    "The trends for RoE, RoA and profit margin have been plotted above. The effect of the acquisition of Celgene has caused these ratios to go negative in 2020. From 2016 to 2019, these ratios had wide variation year to year, with 2017 showing a decline followed by a large increase the following year.  Normally steady performance is better than the erratic variation shown here. (LT debt)/Equity and (total liabilities)/Equity have been steady and below 2. (total liabilities)/NOP have been erratic over the evaluation period.   \n",
    "\n",
    "- **Rationality**  \n",
    "Do comments and discussion made by the management in the annual reports reflect an optimal level of benefit or utility to the company over the long term?  \n",
    " 1. **Focus on core aspects**  \n",
    "The company operates in one segment engaged in the discovery, development, licensing, manufacturing, marketing, distribution and sale of biopharmaceutical products on a global basis.   \n",
    " 2. **Only invest in high ROE businesses**  \n",
    "The principal strategy is to combine the resources, scale and capability of a pharmaceutical company with the speed and focus on innovation of the biotech industry. The acquisitions of Celgene in 2019 and MyoKardia in 2020 will further position us as a leading biopharmaceutical company, expanding our oncology, hematology, immunology and cardiovascular portfolios with several near-term assets and additional external partnerships.\n",
    " 3. **Focus on shareholder equity**  \n",
    "Adding value to the company  The priorities are to continue to renew and diversify our portfolio through launching our new product portfolio, advancing our early, mid and late-stage pipeline, and executing disciplined business development. They remain committed to reducing our debt and returning capital to shareholders.\n",
    "\n",
    "Back to [**Contents**](#section0)  "
   ]
  },
  {
   "cell_type": "code",
   "execution_count": null,
   "metadata": {},
   "outputs": [],
   "source": []
  },
  {
   "cell_type": "markdown",
   "metadata": {},
   "source": [
    "## 9) Decision model  <a id=\"section9\"></a>\n",
    "The decision model establishes thresholds that are to used in the purchase decision. There are three hard decision thresholds in this model which are:  \n",
    "1. Intrinic value\n",
    "2. Debt\n",
    "3. Dividend payout ratio\n",
    "4. Dividend IIR\n",
    "\n",
    "The first threshold is based on the intrinisic value of the company as calculated by the DCF model semario 1. Reconizing that absolute intrinsic value is an elusive concept, judgement, justified by facts (assets, earnings, dividends, debt and cash flow), establishes the value by adjusting various rates, based on judgement and using a five year forward projection period. This should give a intrinsic value that is based on the historical data, modified by judgement.\n",
    "\n",
    "I'm using a threshold of the intrinsic value calculated in senario 1 (isv_S1) that is greater than 70% of the current stock price, provided that the NAIC valuation is above the current stock price. This accounts for the inadequacy or incorrectness of the data, the uncertainties of the future, and considers the behavior of the market.\n",
    "\n",
    "The second threshold is the level of debt. The ratios of (LT debt)/Equity, (total liabilities)/Equity and (total liabilities)/NOP are ploted for the evaluation period. Over the evaluation period the (LT debt)/Equity and (total liabilities)/Equity should be less than 2 and stable. \n",
    "A threshold of 2 has been discussed in the litureture as a level of debt that a company can reasonably take on. \n",
    "\n",
    "The thereshold for (total liabilities)/NOP is set at 10. This means that the company can pay off all the liabilities with tens years worth of NOP, which seems like a reasonable timeframe for an established and stable company.  \n",
    "\n",
    "The third threshold is the dividend payout ratio and is a relative measure of how much the company is paying to shareholders in dividends compared to the metrics of NOP and free cash flow (Net cash provided by operating activities). The payout ratio is useful for assessing a dividend's sustainability. Payout ratio for a REIT is established by tax law and not used as an evaluation criteria. For other industries a threshold of 50% has been set as the limit.\n",
    "\n",
    "The dividend IRR threshold is the internal rate of return for investor dividend cash flow (divident_irr) should be greater than 10 year treasury bond yield (tby) plus the equity risk premium (eq_rp). Otherwise, other investment operatunities should be looked at.\n",
    "\n",
    "In the decision model there are soft thresholds based on judgement. Soft thresholds are a collection of ratios and analysis that taken together tell a story of the performance of the conmpany and manatgments ability to run the company and support dividends over the long term. Use judgement and make an evalaution.\n",
    "\n",
    "The third critiera is a collection of ratios and analysis that taken together tell a story of the performance of the conmpany and manatgments ability to run the company and support dividends over the long term. Use judgement and make an evalaution. These are the following:  \n",
    "1. Financial metrics\n",
    "2. Market metrics\n",
    "3. Qualitative metrics\n",
    "\n",
    "The soft thresholds are discused in section 10.\n",
    "\n",
    "### Check hard thresholds"
   ]
  },
  {
   "cell_type": "code",
   "execution_count": 194,
   "metadata": {},
   "outputs": [
    {
     "name": "stdout",
     "output_type": "stream",
     "text": [
      "PASS, DCF score is above 0.7 at 0.9\n",
      "PASS, NAIC score is above 1.0 at 1.0\n",
      "Both DCF and NAIC scores pass\n"
     ]
    }
   ],
   "source": [
    "# check DCF senario 1\n",
    "dcf_score = isv_S1/csp #ratio of isv to csp\n",
    "dcf_threshold = 0.7\n",
    "if dcf_score < 0.7:\n",
    "    print('FAIL, DCF score is less than {:.1f} at {:.1f}'.format(dcf_threshold,dcf_score))\n",
    "else:\n",
    "    print('PASS, DCF score is above {:.1f} at {:.1f}'.format(dcf_threshold,dcf_score))\n",
    "\n",
    "# check NAIC\n",
    "naic_score = np.array([naic_price_eps_low,naic_price_pm_low]).min()/csp\n",
    "naic_threshold = 1\n",
    "if naic_score < 1:\n",
    "    print('FAIL, NAIC score is less than {:.1f} at {:.1f}'.format(naic_threshold,naic_score))\n",
    "else:\n",
    "    print('PASS, NAIC score is above {:.1f} at {:.1f}'.format(naic_threshold,naic_score))\n",
    "\n",
    "# check both scores\n",
    "if naic_score < 1 and dcf_score < 0.7:\n",
    "    print('One or both DCF and NAIC scores failed')\n",
    "else:\n",
    "    print('Both DCF and NAIC scores pass')"
   ]
  },
  {
   "cell_type": "markdown",
   "metadata": {},
   "source": [
    "# comments"
   ]
  },
  {
   "cell_type": "code",
   "execution_count": 195,
   "metadata": {},
   "outputs": [
    {
     "name": "stdout",
     "output_type": "stream",
     "text": [
      "Dividends are paid at 44.8% of cash flow\n",
      "Dividends are paid at 49.1% of NOP\n"
     ]
    }
   ],
   "source": [
    "# check dividend payout ratio average the last three years\n",
    "print('Dividends are paid at {:.1f}% of cash flow'.format(\n",
    "    (df_metrics_data['dividends']/df_metrics_data['free_cash_flow'])[-3:].mean()*100))\n",
    "print('Dividends are paid at {:.1f}% of NOP'.format((df_metrics_data['dividends']/nop)[-3:].mean()*100))"
   ]
  },
  {
   "cell_type": "markdown",
   "metadata": {},
   "source": [
    "# What about adding a limit here of not to exceed 50%???"
   ]
  },
  {
   "cell_type": "code",
   "execution_count": 196,
   "metadata": {},
   "outputs": [
    {
     "name": "stdout",
     "output_type": "stream",
     "text": [
      "PASS, dividend IRR is above 5.41 at 5.99\n"
     ]
    }
   ],
   "source": [
    "# Check dividend IRR limit\n",
    "if dividend_irr < (tby+eq_rp):\n",
    "    print('FAIL, dividend IRR is less than {:.2f} at {:.2f}'.format((tby+eq_rp)*100,dividend_irr*100))\n",
    "else:\n",
    "    print('PASS, dividend IRR is above {:.2f} at {:.2f}'.format((tby+eq_rp)*100,dividend_irr*100))"
   ]
  },
  {
   "cell_type": "markdown",
   "metadata": {},
   "source": [
    "# add a debt threshold??"
   ]
  },
  {
   "cell_type": "markdown",
   "metadata": {},
   "source": [
    "## 9) Conclusion  <a id=\"section9\"></a>\n",
    "The following is a summary of the results described above:  \n",
    "- Stock screener results: \n",
    " - Current news:\n",
    " - Review quarterly results:\n",
    " - Average daily volume: Above 1M per day.\n",
    " - Dividend yield: Above 3%.\n",
    "- Discounted cash flow analysis, baseline: \n",
    "- DCF Scenarios: \n",
    "- NACI stock selection guide analysis: \n",
    "- Dividend payout:  percent range.\n",
    "- Management performance:  \n",
    " - Financial metrics: \n",
    " - Market metrics:  \n",
    " - Qualitative metrics: \n",
    "\n",
    "Concerns:\n",
    "\n",
    "Summary: The analysis presented in this report is based on the company’s fundamentals and tries to establish the value of the company. This strategy is essentially value investing where companies are chosen that meet a set of criteria and who's stock price is below the intrinsic value plus a margin of safety. These investments are usually held for the long term. Company revenue, earnings, debt and dividends were examined. Adjustments were made to the DCF and the ISV is below the current price. The share price has been trading in the ?? to ?? dollar range the last 7 years, indicating that the market is not impressed with the company. The dividend payout has been increasing over the years and the dividend cash flow IRR is ??%. The value assigned to goodwill and intangibles is about \\\\$?? billion. The ratio indicates the company has taken on a lot of debt relative to assets. The divergence of total liabilities from revenue is of concern. Negative retained earnings is a concern.\n",
    "\n",
    "Recommendation:\n",
    "\n",
    "## 10) Notes  <a id=\"section10\"></a>\n",
    "The following notes outline the changes to the DCF model for financial and REIT companies.  \n",
    "\n",
    "**Valuing a REIT**  \n",
    "Notes from Valuepro Book, page 237  \n",
    "\n",
    "- NOPM: To calculate operating income take rental revenue and subtracted total real estate expenses and G&A expenses. To arrive at the NOPM divide the adjusted income from real estate by real estate rental revenue. For the REIT, take income from real estate, which includes depreciation and amortization, and subtract GSA. Exclude other income, gains on sale of real estate and interest expenses.\n",
    "- REIT has no traditional R&D costs\n",
    "\n",
    "REIT is not taxed at the corporate level, tax rate: should be near zero.\n",
    "\n",
    "Depreciation and capital expenditures are significantly higher for REITs than in other companies.\n",
    "\n",
    "New property acquisitions are not directly accounted for in the DCF model for a REIT.\n",
    "\n",
    "- Working capitol: accounts payable, rents and security deposits\n",
    " - Short term assets: cash, rents and other receivables and prepaid expenses\n",
    " - Short term liabilities: accounts payable, advance rents security deposits\n",
    " \n",
    "Working capital is almost zero, which is similar to other financial companies.\n",
    "\n",
    "The consolidated balance sheet lists the assets as: \n",
    "- Real estate held for investment, at cost:\n",
    " - Land\n",
    " - Buildings and improvements\n",
    " - Total real estate held for investment, at cost\n",
    " - Less accumulated depreciation and amortization\n",
    " - Real estate held for investment, net\n",
    "- Real estate and lease intangibles held for sale, net\n",
    "- Cash and cash equivalents <- current asset\n",
    "- Accounts receivable, net <- current asset\n",
    "- Lease intangible assets, net\n",
    "- Other assets, net\n",
    "\n",
    "The line items indicated above have been taken to be the current assets. Intangibles and long term items have been excluded.\n",
    "\n",
    "The consolidated balance sheet lists the liabilities as: \n",
    "- Distributions payable <- current liabilities\n",
    "- Accounts payable and accrued expenses <- current liabilities\n",
    "- Lease intangible liabilities, net\n",
    "- Other liabilities\n",
    "- Line of credit payable and commercial paper <- current liabilities\n",
    "- Term loans, net\n",
    "- Mortgages payable, net <- current liabilities\n",
    "- Notes payable, net\n",
    "\n",
    "The line items indicated above have been taken to be the current liabilities.\n",
    "\n",
    "**Valuing a financial company**  \n",
    "Notes from Valuepro Book, page 206  \n",
    "\n",
    "- Total revenue comes from the total interest and dividend income line on the income statement.  The calculation of operating income is more inclusive for a financial company than for an industrial or high tech company.  For financial companies, operating revenue includes all normal revenue items plus interest income, dividends received and other investment income.\n",
    "\n",
    "- Cost of Goods Sold (CGS) comes from the Total interest expense line on the statement of income. \n",
    "- General and Administrative (G&A) are set to zero since they are included in the interest expense line\n",
    "- A financial company has no traditional R&D costs\n",
    "\n",
    "- $\\text{Cost of Goods Sold (CGS)} = \\text{Total interest expense} + \\text{Total non-interest expense}$  \n",
    "- General and Administrative (G&A) are set to zero since they are included in the interest expense line\n",
    "- A financial company has no traditional R&D costs\n",
    "\n",
    "- Depreciation and amortization of premises and equipment from Consolidated Statements of Cash Flows.  \n",
    "- Amortization of other acquisition-related intangible assets is not included.\n",
    "\n",
    "- New investment and Depreciation: Property, plant and equipment expenditures and depreciation charges are significantly lower for a financial company.  A typical manufacturing company, in order to grow its business, invests a significant portion of its revenues in plant, property and equipment (PPE).  Financial companies invest very little in the way of PPE.  However, software, risk management systems and acquisitions of other businesses, need to be included.\n",
    "\n",
    "From the Consolidated Statements of Cash Flows, under Cash Flows from Investing Activities\n",
    "- Purchases of premises and equipment\n",
    "- Purchases of leased equipment, net\n",
    "\n",
    "- Working capital supports manufacturing and service activities of nonfinancial companies.  For financial companies, their principal liabilities  and assets are financial claims that take the place of working capital.  Because there is no differentiation between current and long term assets and liabilities for a financial company, we adjust working capital charges to zero.  A financial company generally invests all of its funds in other financial assets, which have characteristics of current assets rather than PP&E.  \n",
    "$\\text{Accounts Receivable} = 0$  \n",
    "$\\text{Inventories} = 0$  \n",
    "$\\text{Accounts Payable} = 0$  \n",
    "$\\text{working capital} = 0$ \n",
    "\n",
    "- Short term assets:  The balance sheets of most financial companies do not separate assets and liabilities into current and long term categories.  When calculating the short term assets take the total assets and subtract goodwill and intangible assets also subtract other assets of questionable value.  Subtract long term assets such as PP&E from total assets.  \n",
    "\n",
    "$\\text{Short term assets} = \\text{Total assets} - \\text{good will and others of questionable value} - \\text{Premises and equipment}$\n",
    "\n",
    "- A financial company's principal liabilities are deposits, Federal funds purchased, trading account liabilities, insurance policy and claims reserves, contract holder funds and short term borrowing.  To be consistent with the treatment of interest and an operating expense for financial companies, include long term debt in the short term liability category.  \n",
    "- Short term liabilities:  Include long term debt.  \n",
    "\n",
    "$\\text{Long term debt} = 0$\n",
    "\n",
    "**Excess return period**  \n",
    "The excess return period is based on a judgment call.  The authors of [2] use the 1-5-7-10 rule. They group companies into one of four general categories and excess return periods.  They use a 10 year excess return period to calculate what they would consider the maximum value. They use a more conservative 1 year, 5 year or 7 year return period to calculate a more reasonable or minimum value.  \n",
    "- 1 year: Boring companies that operate in a highly competitive, low margin industry in which they have nothing particular going for them.  \n",
    "- 5 year: Decent companies that have a recognizable name and decent reputation and perhaps a regulatory benefit (utility company), but can’t control pricing or growth.  \n",
    "- 7 year: Good companies with good brand names, large companies of scale, good marketing channels and consumer identification (e.g. McDonald’s)  \n",
    "- 10 year: Great companies with great growth potential, tremendous marketing power, band names and in-place benefits (e.g. Intel, Microsoft, Coca Cola, Disney)  \n",
    "\n",
    "**Notes about negative working capital**  \n",
    "The company has a negative working capital rate. Negative working capital describes a situation where a company's current liabilities exceed its current assets as stated on the firm's balance sheet. In other words, there is more short-term debt than there are short-term assets. \n",
    "\n",
    "Negative working capital most often arises when a business generates cash very quickly because it can sell products to its customers before it has to pay the bills to its vendors for the original goods or raw materials. In this way, the company is effectively using the vendor's money to grow. \n",
    "\n",
    "**Dividend Aristocrat, Achiever & Champion**  \n",
    "This company was selected for analysis because it is on the Dividend Aristocrat list and passes the quick look tests.  This notebook will be used as a template when analyzing other companies.\n",
    "\n",
    "- Aristocrat: S&P 500 Dividend Aristocrats is designed to measure the performance of S&P 500 index constituents that have followed a policy of consistently increasing dividends every year for at least 25 consecutive years.\n",
    "- Achiever: The Broad Dividend Achievers Index. Eligible companies must be incorporated in the U.S. or its territories, trade on the NYSE, NASDAQ or AMEX, and have increased its annual regular dividend payments for the last 10 or more consecutive years.\n",
    " - https://dividendvaluebuilder.com/dividend-achievers-list/\n",
    " - https://www.marketbeat.com/dividends/achievers/\n",
    "- Champion: This list includes companies that had increased their dividend for at least 25 consecutive years, and includes additional companies that had paid higher dividends without having increased the payout in every calendar year.\n",
    " - https://dividendvaluebuilder.com/dividend-champions-list/\n",
    " - https://www.dividendgrowthinvestor.com/p/dividend-champions-list.html"
   ]
  },
  {
   "cell_type": "code",
   "execution_count": null,
   "metadata": {},
   "outputs": [],
   "source": []
  },
  {
   "cell_type": "markdown",
   "metadata": {},
   "source": [
    "## 11) References  <a id=\"section11\"></a>\n",
    "\n",
    "1. Gray, Gary, et al. Streetsmart Guide to Valuing a Stock: the Savvy Investors Key to Beating the Market. McGraw-Hill, 2004.\n",
    "2. O'Hara, Thomas E., and Ken Janke. Starting and Running a Profitable Investment Club: the Official Guide from the National Association of Investors Corporation. Times Business, 1998. \n",
    "3. Robert G. Hagstrom, The Warren Buffett Way, Wiley, 2013"
   ]
  },
  {
   "cell_type": "code",
   "execution_count": null,
   "metadata": {},
   "outputs": [],
   "source": []
  }
 ],
 "metadata": {
  "kernelspec": {
   "display_name": "Python 3",
   "language": "python",
   "name": "python3"
  },
  "language_info": {
   "codemirror_mode": {
    "name": "ipython",
    "version": 3
   },
   "file_extension": ".py",
   "mimetype": "text/x-python",
   "name": "python",
   "nbconvert_exporter": "python",
   "pygments_lexer": "ipython3",
   "version": "3.7.3"
  }
 },
 "nbformat": 4,
 "nbformat_minor": 2
}
