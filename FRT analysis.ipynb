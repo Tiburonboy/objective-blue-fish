{
 "cells": [
  {
   "cell_type": "markdown",
   "metadata": {},
   "source": [
    "# Federal Realty Investment Trust\n",
    "Last update: 28 Nov 2021  \n",
    "Annual report: 2020  \n",
    "Stock price used in analysis is from 10 Oct 2021   \n",
    "\n",
    "## Abstract\n",
    "This notebook was developed to use as a template to analyze dividend paying companies as potential investments. This company was selected for analysis because it is on the Dividend Aristocrat list and passes the quick look tests.  \n",
    "\n",
    "## Introduction\n",
    "[Federal Realty](https://www.federalrealty.com/investors/overview/) is a recognized leader in the ownership, operation and redevelopment of high-quality retail-based properties located primarily in major coastal markets from Washington, D.C. to Boston as well as San Francisco and Los Angeles.\n",
    "\n",
    "The stated primary business objective is to own, manage, acquire and redevelop a portfolio of high quality retail focused properties that will:\n",
    "- provide increasing cash flow for distribution to shareholders;\n",
    "- generate higher internal growth than the shopping center industry over the long term;\n",
    "- provide potential for capital appreciation; and\n",
    "- protect investor capital.\n",
    "\n",
    "The company specializes in the ownership, management, and redevelopment of high quality retail and mixed-use\n",
    "properties located primarily in densely populated and affluent communities in strategically selected metropolitan markets in the Northeast and Mid-Atlantic regions of the United States, as well as in California and South Florida. As of December 31, 2020, the company owned or had a majority interest in community and neighborhood shopping centers and mixed-use properties which are operated as 101 predominantly retail real estate projects comprising approximately\n",
    "23.4 million square feet.\n",
    "\n",
    "Sector(s): Real Estate  \n",
    "Industry: REIT—Retail  \n",
    "Earnings Date: Nov 04, 2021  \n",
    "Ex-Dividend Date: Sep 21, 2021  \n",
    "\n",
    "## Bottom line up front\n",
    "Recommendation: buy  \n",
    "Follow the link to the [Conclusion](#section11).  \n",
    "\n",
    "## Company description\n",
    "[Federal Realty Investment Trust](https://en.wikipedia.org/wiki/Federal_Realty_Investment_Trust#cite_note-10K-1) is a real estate investment trust that invests in shopping centers in the Northeastern United States, the Mid-Atlantic states, California, and South Florida.\n",
    "\n",
    "**Revision history:**  \n",
    "- 10/9/2021: Copied from ESS notebook\n",
    "- 11/27/2021: removed ValuePro section, re-wrote dividend discount section, add plots to new section 14.\n",
    "\n",
    "## Analysis\n",
    "The following sections of this notebook contain the financial analysis for the company.  \n",
    "\n",
    "**Contents** <a id=\"section0\"></a>  \n",
    "\n",
    "1. [Quick look](#section1)\n",
    "2. [Blank](#section2)\n",
    "3. [Load financial statement data](#section3)\n",
    "4. [NACI stock selection guide analysis](#section4)\n",
    "5. [Format financial statements data](#section5)\n",
    "6. [Discounted cash flow analysis, baseline](#section6)\n",
    "7. [DCF Scenarios](#section7)\n",
    "8. [Dividend Discount Model](#section8)\n",
    "9. [Value analysis](#section9)\n",
    "10. [Peer analysis](#section10) \n",
    "11. [Conclusion](#section11)\n",
    "12. [Notes](#section12)\n",
    "13. [References](#section13)\n",
    "14. [Additional plots](#section14)"
   ]
  },
  {
   "cell_type": "code",
   "execution_count": 1,
   "metadata": {},
   "outputs": [],
   "source": [
    "from datetime import datetime, timedelta\n",
    "from dateutil.relativedelta import relativedelta\n",
    "from dateutil.parser import parse\n",
    "import pandas as pd\n",
    "import numpy as np\n",
    "import matplotlib.pyplot as plt\n",
    "import matplotlib.dates as mdates\n",
    "from dateutil import parser\n",
    "import os\n",
    "from pandas.plotting import register_matplotlib_converters\n",
    "register_matplotlib_converters()"
   ]
  },
  {
   "cell_type": "markdown",
   "metadata": {},
   "source": [
    "## 1) Quick look <a id=\"section1\"></a>\n",
    "This section is completed first since the effort involved is much less compared to the other analysis sections in this notebook.  Some of the data looked at in this section is also available from the Fidelity company report.    \n",
    "\n",
    "**Current news**  \n",
    "\n",
    "\n",
    "**Review quarterly results**  \n",
    "Take a look at recent quarterly results to see if trends from the previous annual report are in line.\n",
    "- https://finance.yahoo.com/quote/FRT?p=FRT\n",
    "- The Fidelity report shows\n",
    "\n",
    "Need a method to do quarterly review\n",
    "\n",
    "**Average daily volume**  \n",
    "The average daily volume in the stock market needs to be high enough to be liquid and should be over 1 million.  \n",
    "Average daily volume: 462,839  \n",
    "The average daily volume is below 1 million shares per day, but if other criteria are acceptable, then the average daily volume can be given a pass.\n",
    "\n",
    "**Dividend yield**  \n",
    "Looking for a dividend yield between 2% to 6%."
   ]
  },
  {
   "cell_type": "code",
   "execution_count": 2,
   "metadata": {},
   "outputs": [
    {
     "name": "stdout",
     "output_type": "stream",
     "text": [
      "dividend yield: 3.5 %\n"
     ]
    }
   ],
   "source": [
    "# data from yahoo finance, on 9-26-2021\n",
    "share_price = 121.92\n",
    "dividend = 4.28 # Forward Dividend\n",
    "print('dividend yield: {:.1f} %'.format(dividend/share_price*100))"
   ]
  },
  {
   "cell_type": "markdown",
   "metadata": {},
   "source": [
    "**Debt to equity ratio**  \n",
    "The debt to equity ratio shows the proportion of equity and debt a company is using to finance its assets and signals the extent to which shareholder's equity can fulfill obligations to creditors, in the event of a business decline.\n",
    "\n",
    "The debt to equity ratio compares a company’s total liabilities to its shareholder equity and can be used to evaluate how much leverage a company is using. Higher-leverage ratios tend to indicate a company with higher risk to shareholders. However, the D/E ratio is difficult to compare across industry groups where ideal amounts of debt will vary. Investors will often modify the D/E ratio to focus on long-term debt only because the risks associated with long-term liabilities are different than short-term debt and payables.\n",
    "\n",
    "A good debt to equity ratio is around 1 to 1.5. However, the ideal debt to equity ratio will vary depending on the industry because some industries use more debt financing than others.  Here I'm looking for a value less than 2."
   ]
  },
  {
   "cell_type": "code",
   "execution_count": 3,
   "metadata": {},
   "outputs": [
    {
     "name": "stdout",
     "output_type": "stream",
     "text": [
      "debt to equity ratio: 1.74\n"
     ]
    }
   ],
   "source": [
    "# data from yahoo finance, on 10-10-2021\n",
    "debt = 4291375 # Long term Debt\n",
    "equity = 2464157 # Stockholders' Equity\n",
    "print('debt to equity ratio: {:.2f}'.format(debt/equity))"
   ]
  },
  {
   "cell_type": "markdown",
   "metadata": {},
   "source": [
    "The Fidelity report gives the Total Debt to Equity: 193.9x.  D/E is explored in more detail later.  "
   ]
  },
  {
   "cell_type": "markdown",
   "metadata": {},
   "source": [
    "**Dividend Payout Ratio Using Earnings**  \n",
    "The Dividend Payout Ratio (DPR) is the amount of dividends paid to shareholders in relation to the total amount of net income the company generates. In other words, the dividend payout ratio measures the percentage of net income that is distributed to shareholders in the form of dividends.\n",
    "\n",
    "$\\text{DPR} = \\frac {\\text{Total dividends}} {\\text{Net income}}$  \n",
    "\n",
    "For financially strong companies in these industries, a good dividend payout ratio is less than 75% of their earnings. However, companies in fast-growing sectors or those with more volatile cash flows and weaker balance sheets need a lower dividend payout ratio. Ideally, it should be below 50%.\n",
    "\n",
    "Therefore, a 25% dividend payout ratio shows that Company A is paying out 25% of its net income to shareholders. The remaining 75% of net income that is kept by the company for growth is called retained earnings.\n",
    "\n",
    "For a REIT, Dividend Payout Ratio does not apply since REIT is required to payout 95%.  "
   ]
  },
  {
   "cell_type": "code",
   "execution_count": 4,
   "metadata": {},
   "outputs": [
    {
     "name": "stdout",
     "output_type": "stream",
     "text": [
      "Dividend Payout Ratio Using Earnings: 2.46\n"
     ]
    }
   ],
   "source": [
    "dividend = 324596 # Common Stock Dividend Paid\n",
    "earnings = 131706 # Net income\n",
    "print('Dividend Payout Ratio Using Earnings: {:.2f}'.format(dividend/earnings))"
   ]
  },
  {
   "cell_type": "markdown",
   "metadata": {},
   "source": [
    "**Dividend Payout Ratio Using Cash Flow**  \n",
    "Free Cash Flow Payout is simply Annual Dividend divided by Free Cash Flow.\n",
    "\n",
    "$\\text{FCFP} = \\frac {\\text{Dividends}} {\\text{Free Cash Flow}}$  \n",
    "\n",
    "It should be 70% or less. However, this does not apply to a REIT since they are required to pay out 95%.\n",
    "\n",
    "https://seekingalpha.com/article/3148576-dividend-payout-vs-free-cash-flow-payout  \n",
    "https://www.dividend-growth-stocks.com/2007/10/dividend-stock-and-etfcef-holdings.html  \n",
    "https://dividendcultivator.com/2020/09/08/choose-your-dividend-payout-ratio-wisely-free-cash-flow-vs-income/  "
   ]
  },
  {
   "cell_type": "code",
   "execution_count": 5,
   "metadata": {},
   "outputs": [
    {
     "name": "stdout",
     "output_type": "stream",
     "text": [
      "Dividend Payout Ratio Using Cash Flow: 2.46\n"
     ]
    }
   ],
   "source": [
    "# Dividend Payout Ratio Using Cash Flow\n",
    "Cash_Flow = 132007 # Cash, cash equivalents and restricted cash, end of year\n",
    "print('Dividend Payout Ratio Using Cash Flow: {:.2f}'.format(dividend/Cash_Flow))"
   ]
  },
  {
   "cell_type": "markdown",
   "metadata": {},
   "source": [
    "For a REIT, Dividend Payout Ratio does not apply since REIT is required to payout 95%.  "
   ]
  },
  {
   "cell_type": "markdown",
   "metadata": {},
   "source": [
    "## 2) Blank <a id=\"section1\"></a>\n",
    "This has been deleted. It was about [ValuePro](http://www.valuepro.net/index.shtml), an online intrinsic value calculator based on the discounted free cash to the firm model.  The calculations follow the method described in [2].  The results are useful as a quick look, but I've sometimes found the inputs to the model to be very different from what I would use and the calculated intrinsic value is suspect."
   ]
  },
  {
   "cell_type": "code",
   "execution_count": null,
   "metadata": {},
   "outputs": [],
   "source": []
  },
  {
   "cell_type": "markdown",
   "metadata": {},
   "source": [
    "## 3) Load financial statement data <a id=\"section3\"></a>\n",
    "Data from consolidated financial statements and annual reports was collected and entered into a spreadsheet. All numerical data is converted from thousands or millions of dollars to dollars.  The stock share price history was obtained from yahoo and is included as a tab in the spreadsheet.  Other tabs in the spreadsheet are various worksheets. "
   ]
  },
  {
   "cell_type": "code",
   "execution_count": 6,
   "metadata": {},
   "outputs": [],
   "source": [
    "ticker = 'FRT' # company ticker symbol\n",
    "os.chdir('/home/jim/Documents/Dividend Investing/DCF data/')\n",
    "\n",
    "file_name = ticker+'_Financials.xlsx'\n",
    "df_financials = pd.read_excel(file_name,sheet_name='DCF data')\n",
    "df_NAIC_financials = pd.read_excel(file_name,sheet_name='NAIC data')\n",
    "df_metrics = pd.read_excel(file_name,sheet_name='metrics')\n",
    "df_price_history = pd.read_excel(file_name,sheet_name='Historical Prices')\n",
    "\n",
    "# change the working director back to the Jupyter folder\n",
    "os.chdir('/home/jim/Documents/JupyterLab/Discount Cash Flow Analysis/')"
   ]
  },
  {
   "cell_type": "code",
   "execution_count": 7,
   "metadata": {},
   "outputs": [],
   "source": [
    "# convert dates from string to datetime format\n",
    "price_date_list = []\n",
    "for i in range(len(df_price_history)):\n",
    "    price_date_list.append(datetime.strptime(str(df_price_history['Date'][i]), '%Y-%m-%d'))\n",
    "\n",
    "df_price_history.insert(0, 'datetime', price_date_list)  # insert a new column with datetime data\n",
    "df_price_history.sort_values(by=['datetime'], inplace=True) # sort data frame by datetime\n",
    "\n",
    "df_price_history.set_index('datetime',inplace=True)\n",
    "\n",
    "#df_price_history.head()"
   ]
  },
  {
   "cell_type": "code",
   "execution_count": null,
   "metadata": {},
   "outputs": [],
   "source": []
  },
  {
   "cell_type": "markdown",
   "metadata": {},
   "source": [
    "## 4) NACI stock selection guide analysis <a id=\"section4\"></a>\n",
    "This analysis follows the NAIC stock selection guide (SSG) [1].  The SSG relates revenue growth, EPS and share price history and makes a prediction about the future share price.    \n",
    "\n",
    "The National Association of Investors Clubs (NAIC) is a nonprofit organization dedicated to educating individual investors and investment clubs to become successful lifelong investors.  NAIC's Stock Selection Guide (SSG) is used in the following cells to analyze the company's growth and whether the stock is selling at a reasonable price.\n",
    "\n",
    "The SSG was originally developed in the 1950s as a paper worksheet by the not-for-profit National Association of Investors Corporation (NAIC). The SSG aims to aid individual investors in the fundamental analysis and selection of common stocks by reviewing components of a company's growth, quality, and value."
   ]
  },
  {
   "cell_type": "code",
   "execution_count": 8,
   "metadata": {},
   "outputs": [],
   "source": [
    "#column names: fiscal years \n",
    "years_list = df_NAIC_financials.columns[1:].values.astype('str')[::-1]\n",
    "\n",
    "# convert years to datetime format\n",
    "year_ended_list = []\n",
    "for i in years_list:\n",
    "    year_ended_list.append(datetime.strptime(i, '%Y'))\n",
    "\n",
    "#line 0: revenue  \n",
    "revenue = df_NAIC_financials.iloc[0].to_numpy()[1:].astype('float')[::-1]\n",
    "#line 1: earnings per share\n",
    "EPS = df_NAIC_financials.iloc[1].to_numpy()[1:].astype('float')[::-1]"
   ]
  },
  {
   "cell_type": "markdown",
   "metadata": {},
   "source": [
    "**High and low price history for each year**  \n",
    "From the daily price history obtained from yahoo finance, the high and low closing price for each is obtained and the data saved to the financial data frame as new columns."
   ]
  },
  {
   "cell_type": "code",
   "execution_count": 9,
   "metadata": {},
   "outputs": [],
   "source": [
    "fy_open = []\n",
    "fy_close = []\n",
    "fy_high = []\n",
    "fy_low = []\n",
    "\n",
    "for i in year_ended_list:\n",
    "    start = i\n",
    "    end = i + relativedelta(years=1)\n",
    "    p1 = df_price_history.truncate(before=start, after=end)\n",
    "    if len(p1) == 0:\n",
    "        fy_open.append(np.nan)\n",
    "        fy_close.append(np.nan)        \n",
    "        fy_high.append(np.nan)\n",
    "        fy_low.append(np.nan)\n",
    "    else:\n",
    "        fy_open.append(p1['Open'].iloc[0])\n",
    "        fy_close.append(p1['Close'].iloc[-1])        \n",
    "        fy_high.append(p1['High'].max())\n",
    "        fy_low.append(p1['Low'].min())\n",
    "\n",
    "# convert from list to numpy array\n",
    "fy_open = np.asarray(fy_open)\n",
    "fy_close = np.asarray(fy_close)\n",
    "fy_high = np.asarray(fy_high)\n",
    "fy_low = np.asarray(fy_low)"
   ]
  },
  {
   "cell_type": "markdown",
   "metadata": {},
   "source": [
    "**Plotting the data**  \n",
    "The annual sales, EPS and the high and low share price are traditionally plotted on a semilog plot. A consistent percentage change in the data will plot on the semi-log chart as a straight line, but for a company having a modest growth rate, a linear scale works better to show the year to variation. \n",
    "\n",
    "The stock price is plotted separately from the sales and earnings for clarity."
   ]
  },
  {
   "cell_type": "code",
   "execution_count": 10,
   "metadata": {},
   "outputs": [
    {
     "data": {
      "image/png": "[encoded data removed]",
      "text/plain": [
       "<Figure size 1080x360 with 2 Axes>"
      ]
     },
     "metadata": {
      "needs_background": "light"
     },
     "output_type": "display_data"
    }
   ],
   "source": [
    "# Set the locator\n",
    "locator = mdates.YearLocator()  # every year\n",
    "fmt = mdates.DateFormatter('%Y')\n",
    "\n",
    "# figsize() function to adjust the size\n",
    "plt.subplots(figsize=(15, 5))\n",
    "\n",
    "# using subplot function and creating\n",
    "# plot one\n",
    "plt.subplot(1, 2, 1)\n",
    "width = 3  # the width of the bars\n",
    "#plt.bar(year_ended_list,fy_high-fy_low, width,bottom=fy_low,label='price')\n",
    "j = 0\n",
    "for i in year_ended_list:\n",
    "    color = 'green'\n",
    "    if fy_open[j] > fy_close[j]: color= 'red'\n",
    "    # high/low lines\n",
    "    plt.plot([i,i],[fy_low[j],fy_high[j]],color=color, linewidth=width)\n",
    "    # open marker\n",
    "    plt.plot([i,i-relativedelta(months=1)], [fy_open[j],fy_open[j]], color=color, linewidth=width)\n",
    "    # close marker\n",
    "    plt.plot([i,i+relativedelta(months=1)], [fy_close[j],fy_close[j]], color=color, linewidth=width)\n",
    "    j += 1\n",
    "\n",
    "X = plt.gca().xaxis\n",
    "X.set_major_locator(locator)\n",
    "# Specify formatter\n",
    "X.set_major_formatter(fmt)\n",
    "plt.gcf().autofmt_xdate()\n",
    "\n",
    "plt.ylim((50,200))\n",
    "plt.title('Yearly stock high and low price range')\n",
    "plt.ylabel('stock price, dollars')\n",
    "#plt.legend()\n",
    "plt.grid()\n",
    "\n",
    "# using subplot function and creating plot two\n",
    "plt.subplot(1, 2, 2)\n",
    "\n",
    "plt.plot(year_ended_list,revenue/1e9,'+-',label='revenue, $B')\n",
    "plt.plot(year_ended_list,EPS,'+-',label='EPS, $')\n",
    "\n",
    "X = plt.gca().xaxis\n",
    "X.set_major_locator(locator)\n",
    "# Specify formatter\n",
    "X.set_major_formatter(fmt)\n",
    "plt.gcf().autofmt_xdate()\n",
    "\n",
    "#plt.yscale('log')\n",
    "#plt.yticks([0.1,1,10,100,1000,10000],['0.1','1','10','100','1000','10000'])\n",
    "#plt.ylim((0.1,1000))\n",
    "plt.title('Revenue and EPS')\n",
    "plt.ylabel('Revenue and EPS, \\\\$ or \\\\$B')\n",
    "plt.legend()\n",
    "\n",
    "plt.grid()\n",
    "\n",
    "# space between the plots\n",
    "plt.tight_layout(4)\n",
    "\n",
    "# show plot\n",
    "plt.show()"
   ]
  },
  {
   "cell_type": "markdown",
   "metadata": {},
   "source": [
    "**Observations:**  \n",
    "Share price is trading in an upward trend from 2010 to 2016, then reversed for the years 2017 to 2019. The effects of Covid-19 are in the 2020 financial results.  Revenues are increasing a bit, except for 2020 and earnings are slowing increasing, except for 2020.  "
   ]
  },
  {
   "cell_type": "code",
   "execution_count": null,
   "metadata": {},
   "outputs": [],
   "source": []
  },
  {
   "cell_type": "markdown",
   "metadata": {},
   "source": [
    "**Price earnings history**  \n",
    "Section 3 of the SSG is the Price-Earnings history.  The following table is built from the high and low prices each year and the earnings per share. The high and low Price/Earnings ratios are calculated for each year and are listed in the columns labeled h-per and l-per."
   ]
  },
  {
   "cell_type": "code",
   "execution_count": 11,
   "metadata": {},
   "outputs": [
    {
     "name": "stdout",
     "output_type": "stream",
     "text": [
      "year      high       low       eps     h-per     l-per\n",
      "2010     85.00     61.93      1.99     42.71     31.12\n",
      "2011     93.18     75.31      2.29     40.69     32.89\n",
      "2012    110.51     88.79      2.36     46.83     37.62\n",
      "2013    118.52     94.35      2.47     47.98     38.20\n",
      "2014    137.80    100.37      2.42     56.94     41.48\n",
      "2015    151.11    124.87      3.04     49.71     41.08\n",
      "2016    171.08    134.39      3.51     48.74     38.29\n",
      "2017    145.80    119.37      3.97     36.73     30.07\n",
      "2018    135.68    106.41      3.18     42.67     33.46\n",
      "2019    141.35    115.09      4.61     30.66     24.97\n",
      "2020    131.56     64.11      1.62     81.21     39.57\n"
     ]
    }
   ],
   "source": [
    "print('{:4s}{:>10s}{:>10s}{:>10s}{:>10s}{:>10s}'.format('year','high','low','eps',\n",
    "    'h-per','l-per'))\n",
    "for i in range(len(year_ended_list)):\n",
    "    print('{:s}{:10,.2f}{:10,.2f}{:10,.2f}{:10,.2f}{:10,.2f}'.format(year_ended_list[i].strftime(\"%Y\"),\n",
    "        fy_high[i], fy_low[i],EPS[i],\n",
    "        fy_high[i]/EPS[i],\n",
    "        fy_low[i]/EPS[i]))"
   ]
  },
  {
   "cell_type": "markdown",
   "metadata": {},
   "source": [
    "**Average high and P/E for select years**   \n",
    "The average price to earning ratio based on high and low stock prices is calculated."
   ]
  },
  {
   "cell_type": "code",
   "execution_count": 12,
   "metadata": {},
   "outputs": [
    {
     "name": "stdout",
     "output_type": "stream",
     "text": [
      "average high P/E 48.00\n",
      "average low P/E 33.27\n"
     ]
    }
   ],
   "source": [
    "#Average high P/E for last 5 years \n",
    "pe_avg_high = (fy_high/EPS)[-5:].mean()\n",
    "print('average high P/E {:.2f}'.format(pe_avg_high))\n",
    "#Average low P/E for years \n",
    "pe_avg_low = (fy_low/EPS)[-5:].mean()\n",
    "print('average low P/E {:.2f}'.format(pe_avg_low))"
   ]
  },
  {
   "cell_type": "markdown",
   "metadata": {},
   "source": [
    "**Estimate future EPS**  \n",
    "A least squares fit is used to get the slope of the EPS data points."
   ]
  },
  {
   "cell_type": "code",
   "execution_count": 13,
   "metadata": {},
   "outputs": [
    {
     "name": "stdout",
     "output_type": "stream",
     "text": [
      "EPS slope: 0.13\n"
     ]
    }
   ],
   "source": [
    "# get linear fit for eps\n",
    "y = EPS\n",
    "x = np.arange(len(y))\n",
    "A = np.vstack([x, np.ones(len(x))]).T\n",
    "m, c = np.linalg.lstsq(A, y, rcond=None)[0]\n",
    "print('EPS slope: {:.2f}'.format(m))\n",
    "\n",
    "lstsq_fit = m*x + c  # data points for each year"
   ]
  },
  {
   "cell_type": "code",
   "execution_count": 14,
   "metadata": {},
   "outputs": [
    {
     "data": {
      "image/png": "[encoded data removed]",
      "text/plain": [
       "<Figure size 432x288 with 1 Axes>"
      ]
     },
     "metadata": {
      "needs_background": "light"
     },
     "output_type": "display_data"
    }
   ],
   "source": [
    "# Set the locator\n",
    "locator = mdates.YearLocator()  # every year\n",
    "fmt = mdates.DateFormatter('%Y')\n",
    "\n",
    "fig, ax1 = plt.subplots()\n",
    "ax1.set_ylabel('EPS')\n",
    "\n",
    "ax1.plot(year_ended_list,EPS, 'o',label='EPS')\n",
    "ax1.plot(year_ended_list,lstsq_fit, '-',label='least squares fit')\n",
    "\n",
    "ax1.tick_params(axis='y')\n",
    "#ax1.set_ylim((0,4))\n",
    "ax1.legend()\n",
    "plt.grid()\n",
    "\n",
    "X = plt.gca().xaxis\n",
    "X.set_major_locator(locator)\n",
    "# Specify formatter\n",
    "X.set_major_formatter(fmt)\n",
    "plt.gcf().autofmt_xdate()\n",
    "\n",
    "plt.title('EPS and least squares fit')\n",
    "plt.show()"
   ]
  },
  {
   "cell_type": "markdown",
   "metadata": {},
   "source": [
    "Using the equation for the best fit line, find the y value for the eps point at five years in the future."
   ]
  },
  {
   "cell_type": "code",
   "execution_count": 15,
   "metadata": {},
   "outputs": [
    {
     "name": "stdout",
     "output_type": "stream",
     "text": [
      "estimated eps in 5 years: 4.1\n"
     ]
    }
   ],
   "source": [
    "# estimated eps in 5 years\n",
    "eps_5yr_est = m*(x[-1]+5) + c\n",
    "print('estimated eps in 5 years: {:.1f}'.format(eps_5yr_est))"
   ]
  },
  {
   "cell_type": "markdown",
   "metadata": {},
   "source": [
    "Using the high and low price to earning ratio from above and the projected eps, calculate the range of stock price in five years."
   ]
  },
  {
   "cell_type": "code",
   "execution_count": 16,
   "metadata": {},
   "outputs": [
    {
     "name": "stdout",
     "output_type": "stream",
     "text": [
      "estimated price range in 5 years: 137.44 to 198.29\n"
     ]
    }
   ],
   "source": [
    "#eps_5yr_est = 5  # user inputed value\n",
    "print('estimated price range in 5 years: {:.2f} to {:.2f}'.format(eps_5yr_est*pe_avg_low,eps_5yr_est*pe_avg_high))"
   ]
  },
  {
   "cell_type": "markdown",
   "metadata": {},
   "source": [
    "This is the estimated price range of the stock based on projected EPS and is a guide for what the stock price might be if conditions remain the same.  \n",
    "\n",
    "Current stock price is \\\\$121.92 at the time of writing this report."
   ]
  },
  {
   "cell_type": "code",
   "execution_count": null,
   "metadata": {},
   "outputs": [],
   "source": []
  },
  {
   "cell_type": "markdown",
   "metadata": {},
   "source": [
    "## 5) Format financial statements data <a id=\"section5\"></a>\n",
    "Generate a new data frame that holds the financial data needed for the DCF model.  Data from financial statements is copied into a spreadsheet which contains the data used in the analysis.  The data in the DCF_data tab is in a consistent format for ease of use by this notebook.  Standard names are used for the rows and columns."
   ]
  },
  {
   "cell_type": "code",
   "execution_count": 17,
   "metadata": {},
   "outputs": [],
   "source": [
    "#column names: fiscal years \n",
    "fy_data = df_financials.columns[1:].values.astype('datetime64[Y]')-1970\n",
    "#line 0: Total revenue  \n",
    "revenue_data = df_financials.iloc[0].to_numpy()[1:].astype('float')\n",
    "#line 1: Cost of goods sold\n",
    "Cost_of_goods_sold_data = df_financials.iloc[1].to_numpy()[1:].astype('float')\n",
    "#line 2: General and administrative\n",
    "General_and_administrative_data = df_financials.iloc[2].to_numpy()[1:].astype('float')\n",
    "#line 3: Research and development\n",
    "Research_and_development_data = df_financials.iloc[3].to_numpy()[1:].astype('float')\n",
    "#line 4: Depreciation and amortization\n",
    "Depreciation_and_amortization_data = df_financials.iloc[4].to_numpy()[1:].astype('float')\n",
    "#line 5: Investment\n",
    "Investment_data = df_financials.iloc[5].to_numpy()[1:].astype('float')\n",
    "# line 6: Income before income taxes\n",
    "Income_before_income_taxes_data = df_financials.iloc[6].to_numpy()[1:].astype('float')\n",
    "# line 7: Income tax\n",
    "Income_tax_data = df_financials.iloc[7].to_numpy()[1:].astype('float')\n",
    "# line 8: Accounts receivable\n",
    "Accounts_receivable_data = df_financials.iloc[8].to_numpy()[1:].astype('float')\n",
    "# line 9: Inventories\n",
    "Inventories_data = df_financials.iloc[9].to_numpy()[1:].astype('float')\n",
    "# line 10: Accounts payable\n",
    "Accounts_payable_data = df_financials.iloc[10].to_numpy()[1:].astype('float')\n",
    "# line 11: Current assets\n",
    "Current_assets_data = df_financials.iloc[11].to_numpy()[1:].astype('float')\n",
    "# line 12: Current liabilities\n",
    "Current_liabilities_data = df_financials.iloc[12].to_numpy()[1:].astype('float')\n",
    "# line 13: Long term debt\n",
    "Long_term_debt_data = df_financials.iloc[13].to_numpy()[1:].astype('float')\n",
    "# line 14: Shares outstanding\n",
    "Shares_outstanding_data = df_financials.iloc[14].to_numpy()[1:].astype('float')"
   ]
  },
  {
   "cell_type": "code",
   "execution_count": 18,
   "metadata": {},
   "outputs": [],
   "source": [
    "# make a new data frame to store selected financial data\n",
    "df_dcf_data = pd.DataFrame(data={\n",
    "    'FY':fy_data[::-1],\n",
    "    'revenue':revenue_data[::-1],\n",
    "    'cost_of_goods_sold':Cost_of_goods_sold_data[::-1],\n",
    "    'general_and_administrative':General_and_administrative_data[::-1],\n",
    "    'research_and_development':Research_and_development_data[::-1],\n",
    "    'depreciation':Depreciation_and_amortization_data[::-1],\n",
    "    'investment':Investment_data[::-1],\n",
    "    'income_before_income_taxes':Income_before_income_taxes_data[::-1],\n",
    "    'income_tax':Income_tax_data[::-1],\n",
    "    'accounts_receivable':Accounts_receivable_data[::-1],\n",
    "    'inventories':Inventories_data[::-1],\n",
    "    'accounts_payable':Accounts_payable_data[::-1], \n",
    "    'current_assets':Current_assets_data[::-1],\n",
    "    'current_liabilities':Current_liabilities_data[::-1],\n",
    "    'long_term_debt':Long_term_debt_data[::-1],\n",
    "    'shares_outstanding':Shares_outstanding_data[::-1]\n",
    "    })\n",
    "\n",
    "#df_dcf_data"
   ]
  },
  {
   "cell_type": "code",
   "execution_count": null,
   "metadata": {},
   "outputs": [],
   "source": []
  },
  {
   "cell_type": "markdown",
   "metadata": {},
   "source": [
    "## 6) Discounted cash flow analysis, baseline <a id=\"section6\"></a>\n",
    "Discounted cash flow (DCF) is a valuation method used to estimate the value of an investment based on its expected future cash flows. DCF analysis attempts to figure out the value of an investment today, based on projections of how much money it will generate in the future. In finance, discounted cash flow (DCF) analysis is a method of valuing a security, project, company, or asset using the concepts of the time value of money. The DCF method used in this notebook follows [2].  \n",
    "\n",
    "The value of any financial investment equals the present value of the expected future cash flows, discounted for risk and timing of these cash flows. The DCF method to value stocks is a four step process.  \n",
    "1. Develop a set of future free cash flows for the corporation based on revenue growth, net operating profit margin, income tax rate and fix and working capital requirements.\n",
    "2. Estimate the discount rate for the cash flows based on expected timing and risk.\n",
    "3. Discount the cash flows and total them to calculate the value for the corporation as a whole.\n",
    "4. Subtract the debt, preferred stock value and other claims and divide by the number of shares outstanding to get the intrinsic value.\n",
    "\n",
    "Sections\n",
    "- [Revenue growth rate](#section6-1) \n",
    "- [Net operating profit margin](#section6-2)\n",
    "- [Tax rate](#section6-3)\n",
    "- [Depreciation Rate](#section6-4)\n",
    "- [Investment Rate](#section6-5)\n",
    "- [Working Capital Rate](#section6-6)\n",
    "- [Current Assets](#section6-7)\n",
    "- [Current Liabilities](#section6-8)\n",
    "- [Value of Debt Outstanding](#section6-9)\n",
    "- [Current stock price](#section6-10)\n",
    "- [Shares outstanding](#section6-11)\n",
    "- [10 year treasury bond yield](#section6-12)\n",
    "- [Bond yield spread to treasury](#section6-13)\n",
    "- [Preferred stock yield](#section6-14)\n",
    "- [Equity risk premium](#section6-15)\n",
    "- [Company specific beta](#section6-16)\n",
    "- [DCF model inputs](#section6-17)\n",
    "- [Future cash flows](#section6-18)"
   ]
  },
  {
   "cell_type": "markdown",
   "metadata": {},
   "source": [
    "### Revenue growth rate <a id=\"section6-1\"></a>\n",
    "The revenue growth rate (also sometimes called net sales) of the corporation plus any other revenues associated with the main operations of the business. It does not include dividends, interest income or non-operating income. Historic revenue data is obtained from consolidated income statements. The year over year change in revenue is calculated and converted to a percent, then an average revenue growth rate is calculated. "
   ]
  },
  {
   "cell_type": "code",
   "execution_count": 19,
   "metadata": {},
   "outputs": [
    {
     "data": {
      "image/png": "[encoded data removed]",
      "text/plain": [
       "<Figure size 432x288 with 2 Axes>"
      ]
     },
     "metadata": {
      "needs_background": "light"
     },
     "output_type": "display_data"
    }
   ],
   "source": [
    "# calculate the percent change in revenue\n",
    "pcr = np.zeros(len(df_dcf_data['revenue'].to_numpy())) # percent change in revenue\n",
    "for i in range(len(df_dcf_data['revenue'].to_numpy()[0:-1])):\n",
    "    pcr[i+1] = ((df_dcf_data['revenue'].to_numpy()[i+1] - df_dcf_data['revenue'].to_numpy()[i])/\n",
    "                df_dcf_data['revenue'].to_numpy()[i+1])*100\n",
    "\n",
    "width = 100\n",
    "\n",
    "# Set the locator\n",
    "locator = mdates.YearLocator()  # every year\n",
    "fmt = mdates.DateFormatter('%Y')\n",
    "\n",
    "fig, ax1 = plt.subplots()\n",
    "ax1.set_ylabel('dollars, $B')\n",
    "\n",
    "# plot revenue as single bar\n",
    "plt.bar(df_dcf_data['FY'],df_dcf_data['revenue']/1e9, width,color='k')\n",
    "\n",
    "ax1.tick_params(axis='y')\n",
    "plt.grid()\n",
    "\n",
    "# instantiate a second y-axes that shares the same x-axis\n",
    "ax2 = ax1.twinx()\n",
    "color = 'tab:green'\n",
    "\n",
    "ax2.plot(df_dcf_data['FY'],pcr,'+-g')\n",
    "    \n",
    "ax2.set_ylabel('% Change in revenue',color=color)\n",
    "ax2.tick_params(axis='y', labelcolor=color)\n",
    "ax2.set_ylim((0,20))\n",
    "\n",
    "X = plt.gca().xaxis\n",
    "X.set_major_locator(locator)\n",
    "# Specify formatter\n",
    "X.set_major_formatter(fmt)\n",
    "plt.gcf().autofmt_xdate()\n",
    "\n",
    "plt.title('Revenue')\n",
    "plt.show()"
   ]
  },
  {
   "cell_type": "markdown",
   "metadata": {},
   "source": [
    "**Observation:**  \n",
    "Revenue over the last ten years has been growing, except for 2020.  "
   ]
  },
  {
   "cell_type": "code",
   "execution_count": 20,
   "metadata": {},
   "outputs": [
    {
     "name": "stdout",
     "output_type": "stream",
     "text": [
      "average revenue growth rate: 4.31%\n"
     ]
    }
   ],
   "source": [
    "rgr_avg = pcr[2:].mean()/100\n",
    "print('average revenue growth rate: {:.2f}%'.format(rgr_avg*100))"
   ]
  },
  {
   "cell_type": "markdown",
   "metadata": {},
   "source": [
    "### Net operating profit margin <a id=\"section6-2\"></a>\n",
    "Net Operating Profit should reflect the future revenue generating ability and expense requirements of the operating business that comprise the ongoing operations of the company.\n",
    "\n",
    "$\\text{NOPM} = \\frac{\\text{Revenue} - \\text{Expenses}}{\\text{Revenue}}$  \n",
    " \n",
    "$\\text{Expenses} = \\text{Cost of Goods Sold (CGS)} + \\text{General and Administrative (G&A)} + \\text{Research and Development (R&D)}$\n",
    "\n",
    "General and Administrative (G&A) is also called Sales, General and Administrative (SG&A)"
   ]
  },
  {
   "cell_type": "code",
   "execution_count": 21,
   "metadata": {},
   "outputs": [
    {
     "data": {
      "image/png": "[encoded data removed]",
      "text/plain": [
       "<Figure size 432x288 with 2 Axes>"
      ]
     },
     "metadata": {},
     "output_type": "display_data"
    }
   ],
   "source": [
    "# NOP = (Revenue - Expenses)\n",
    "nop = (df_dcf_data['revenue'].to_numpy() - \\\n",
    "    (df_dcf_data['cost_of_goods_sold'].to_numpy() + \\\n",
    "    df_dcf_data['general_and_administrative'].to_numpy() + \\\n",
    "    df_dcf_data['research_and_development'].to_numpy()) )\n",
    "\n",
    "# net operating profit margin as percent of revenue\n",
    "nopm = nop/df_dcf_data['revenue'].to_numpy()\n",
    "\n",
    "# plot as four grouped bar chart with labels on right and working capital rate on left\n",
    "# calculate position of bars\n",
    "x1_bar_position = []\n",
    "x2_bar_position = []\n",
    "x3_bar_position = []\n",
    "x4_bar_position = []\n",
    "for i in df_dcf_data['FY']:\n",
    "    x1_bar_position.append(i-relativedelta(months=3))\n",
    "    x2_bar_position.append(i-relativedelta(months=1))\n",
    "    x3_bar_position.append(i+relativedelta(months=1))\n",
    "    x4_bar_position.append(i+relativedelta(months=3))\n",
    "    \n",
    "width = 40  # the width of the bars\n",
    "    \n",
    "# Set the locator\n",
    "locator = mdates.YearLocator()  # every year\n",
    "fmt = mdates.DateFormatter('%Y')\n",
    "\n",
    "fig, ax1 = plt.subplots()\n",
    "ax1.set_ylabel('dollars, $B')\n",
    "\n",
    "ax1.bar(x1_bar_position,df_dcf_data['cost_of_goods_sold'].to_numpy()/1e9, width,label='CGS')\n",
    "ax1.bar(x2_bar_position,df_dcf_data['general_and_administrative'].to_numpy()/1e9, width,label='G&A')\n",
    "ax1.bar(x3_bar_position,df_dcf_data['research_and_development'].to_numpy()/1e9, width,label='R&D')\n",
    "ax1.bar(x4_bar_position,nop/1e9, width,label='NOP')\n",
    "\n",
    "ax1.tick_params(axis='y')\n",
    "#ax1.set_ylim((0,4))\n",
    "ax1.legend()\n",
    "plt.grid()\n",
    "\n",
    "# instantiate a second y-axes that shares the same x-axis\n",
    "ax2 = ax1.twinx()\n",
    "color = 'tab:cyan'\n",
    "\n",
    "ax2.plot(df_dcf_data['FY'],nopm*100,'+-c')\n",
    "    \n",
    "ax2.set_ylabel('% NOPM',color=color)\n",
    "ax2.tick_params(axis='y', labelcolor=color)\n",
    "ax2.set_ylim((20,80))\n",
    "\n",
    "X = plt.gca().xaxis\n",
    "X.set_major_locator(locator)\n",
    "# Specify formatter\n",
    "X.set_major_formatter(fmt)\n",
    "plt.gcf().autofmt_xdate()\n",
    "\n",
    "plt.title('Net Operating Profit')\n",
    "plt.show()"
   ]
  },
  {
   "cell_type": "markdown",
   "metadata": {},
   "source": [
    "**Observation**  \n",
    "The NOPM has been steady over the years 2010 to 2018, but for 2019 and 2020 a decline.\n",
    "\n",
    "Calculate the average net operating profit margin for the last 5 years.  "
   ]
  },
  {
   "cell_type": "code",
   "execution_count": 22,
   "metadata": {},
   "outputs": [
    {
     "name": "stdout",
     "output_type": "stream",
     "text": [
      "average net operating profit margin: 63.36%\n"
     ]
    }
   ],
   "source": [
    "#Average net operating profit margin\n",
    "nopm_avg = nopm[-5:].mean()\n",
    "print('average net operating profit margin: {:.2f}%'.format(nopm_avg*100))"
   ]
  },
  {
   "cell_type": "markdown",
   "metadata": {},
   "source": [
    "### Tax rate <a id=\"section6-3\"></a>\n",
    "Tax payments are taken from the consolidated income statement, provision for income taxes.  The effect of taxes on profits is accounted for. \n",
    "\n",
    "$\\text{Tax rate} = \\frac{\\text{Income taxes}}{\\text{Income before income taxes}}$"
   ]
  },
  {
   "cell_type": "code",
   "execution_count": 23,
   "metadata": {},
   "outputs": [
    {
     "data": {
      "image/png": "[encoded data removed]",
      "text/plain": [
       "<Figure size 432x288 with 2 Axes>"
      ]
     },
     "metadata": {
      "needs_background": "light"
     },
     "output_type": "display_data"
    }
   ],
   "source": [
    "# plot as Grouped bar chart with labels on right and tax rate on left\n",
    "# calculate position of bars\n",
    "x1_bar_position = []\n",
    "x2_bar_position = []\n",
    "for i in df_dcf_data['FY']:\n",
    "    x1_bar_position.append(i-relativedelta(months=1))\n",
    "    x2_bar_position.append(i+relativedelta(months=1))\n",
    "\n",
    "# calculate tax rate\n",
    "tax_rate = df_dcf_data['income_tax']/df_dcf_data['income_before_income_taxes']\n",
    "\n",
    "width = 50  # the width of the bars\n",
    "\n",
    "# Set the locator\n",
    "locator = mdates.YearLocator()  # every year\n",
    "fmt = mdates.DateFormatter('%Y')\n",
    "\n",
    "fig, ax1 = plt.subplots()\n",
    "ax1.set_ylabel('dollars, \\\\$M')\n",
    "\n",
    "rects1 = ax1.bar(x1_bar_position,df_dcf_data['income_before_income_taxes']/1e6, width,\n",
    "    label='Income before income taxes')\n",
    "rects2 = ax1.bar(x2_bar_position,df_dcf_data['income_tax']/1e6, width,\n",
    "    label='Income taxes')\n",
    "\n",
    "ax1.tick_params(axis='y')\n",
    "#ax1.set_ylim((-2e3,2e3))\n",
    "ax1.legend()\n",
    "plt.grid()\n",
    "\n",
    "# instantiate a second y-axes that shares the same x-axis\n",
    "ax2 = ax1.twinx()\n",
    "color = 'tab:green'\n",
    "\n",
    "ax2.plot(df_dcf_data['FY'],tax_rate * 100,'+-g')\n",
    "    \n",
    "ax2.set_ylabel('% Tax rate',color=color)\n",
    "ax2.tick_params(axis='y', labelcolor=color)\n",
    "#ax2.set_ylim((0,50))\n",
    "\n",
    "X = plt.gca().xaxis\n",
    "X.set_major_locator(locator)\n",
    "# Specify formatter\n",
    "X.set_major_formatter(fmt)\n",
    "plt.gcf().autofmt_xdate()\n",
    "\n",
    "plt.title('Tax Rate')\n",
    "plt.show()"
   ]
  },
  {
   "cell_type": "markdown",
   "metadata": {},
   "source": [
    "**Observations**:  \n",
    "Tax rate for REIT is usually near zero."
   ]
  },
  {
   "cell_type": "code",
   "execution_count": 24,
   "metadata": {},
   "outputs": [
    {
     "name": "stdout",
     "output_type": "stream",
     "text": [
      "average tax rate: 0.00%\n"
     ]
    }
   ],
   "source": [
    "# Average tax rate\n",
    "tax_rate_avg = 0 #tax_rate.mean()\n",
    "print('average tax rate: {:.2f}%'.format(tax_rate_avg*100))"
   ]
  },
  {
   "cell_type": "code",
   "execution_count": null,
   "metadata": {},
   "outputs": [],
   "source": []
  },
  {
   "cell_type": "markdown",
   "metadata": {},
   "source": [
    "### Depreciation Rate <a id=\"section6-4\"></a>\n",
    "The depreciation rate is used to project the future net investment cash flows.  The effect is to reduce the amount of FCFF. Depreciation amounts are from the Consolidated Statement of Cash Flows, Depreciation and Amortization.  \n",
    "\n",
    "$\\text{Depreciation Rate}=\\frac{\\text{Depreciation and Amortization}}{\\text{Revenues}}$\n",
    "\n",
    "Depreciation is the write off or expensing of a percentage of the historical cost of an asset over the asset's useful life.  Property, plant and equipment (PP&E) are long term or non current assets owned or controlled by the company and used to manufacture and or sell the company's products.  The balance sheet typically shows all categories of PP&E grouped together, net of accumulated depreciation.  Depreciation represents wear and tear on an asset or the fact that an asset gets used up over time.  Companies record depreciation expense in the income statement every year for all depreciable assets in service or used by the company during the year.  The difference between GAAP and Tax Accounting methods is handled through deferred taxes.\n",
    "\n",
    "Amortization is the write off or expensing of the cost of a financial instrument or an intangible asset over the shorter of its useful life or legal life.  Amortization is similar to depreciation and reflects the declining useful life and value of the intangible asset over time.  Companies in research and development intensive fields typically have many patents.  Such industries include high technology, pharmaceuticals and chemicals. "
   ]
  },
  {
   "cell_type": "code",
   "execution_count": 25,
   "metadata": {},
   "outputs": [
    {
     "data": {
      "image/png": "[encoded data removed]",
      "text/plain": [
       "<Figure size 432x288 with 2 Axes>"
      ]
     },
     "metadata": {
      "needs_background": "light"
     },
     "output_type": "display_data"
    }
   ],
   "source": [
    "# depreciation rate\n",
    "depreciation_rate = df_dcf_data['depreciation'] / df_dcf_data['revenue'].to_numpy()\n",
    "\n",
    "# plot depreciation on left and rate on right\n",
    "# Set the locator\n",
    "locator = mdates.YearLocator()  # every year\n",
    "fmt = mdates.DateFormatter('%Y')\n",
    "\n",
    "fig, ax1 = plt.subplots()\n",
    "ax1.set_ylabel('dollars, $B')\n",
    "\n",
    "ax1.bar(df_dcf_data['FY'],df_dcf_data['depreciation']/1e9, width=100,color='k')\n",
    "\n",
    "ax1.tick_params(axis='y')\n",
    "plt.grid()\n",
    "\n",
    "# instantiate a second y-axes that shares the same x-axis\n",
    "ax2 = ax1.twinx()\n",
    "color = 'tab:Blue'\n",
    "\n",
    "ax2.plot(df_dcf_data['FY'],depreciation_rate*100,'+-')\n",
    "    \n",
    "ax2.set_ylabel('% Depreciation rate',color=color)\n",
    "ax2.tick_params(axis='y', labelcolor=color)\n",
    "#ax2.set_ylim((0,20))\n",
    "\n",
    "X = plt.gca().xaxis\n",
    "X.set_major_locator(locator)\n",
    "# Specify formatter\n",
    "X.set_major_formatter(fmt)\n",
    "plt.gcf().autofmt_xdate()\n",
    "\n",
    "plt.title('Depreciation')\n",
    "plt.show()"
   ]
  },
  {
   "cell_type": "markdown",
   "metadata": {},
   "source": [
    "**Observations**:  \n",
    "The depreciation rate has been increasing over the years.  "
   ]
  },
  {
   "cell_type": "code",
   "execution_count": 26,
   "metadata": {},
   "outputs": [
    {
     "name": "stdout",
     "output_type": "stream",
     "text": [
      "average depreciation rate: 25.47%\n"
     ]
    }
   ],
   "source": [
    "# average depreciation rate\n",
    "depreciation_rate_avg = depreciation_rate[2:].mean()\n",
    "print('average depreciation rate: {:.2f}%'.format(depreciation_rate_avg*100))"
   ]
  },
  {
   "cell_type": "code",
   "execution_count": null,
   "metadata": {},
   "outputs": [],
   "source": []
  },
  {
   "cell_type": "markdown",
   "metadata": {},
   "source": [
    "### Investment Rate <a id=\"section6-5\"></a>\n",
    "Taken from Consolidated Statement of Cash Flows, Cash used for investing activities.  Net investment in the dollar amount needed to support the growth of the firm. Included investments in properties, plant equipment in excess of the depreciation expenses associated with past investments.  Net investment decreases the amount of money available to the stockholders. Investment in property, plant and equipment is necessary to both maintain service and sales and also to grow revenues and profits. Investment amounts should include capital expenditures and research and development. \n",
    "\n",
    "$Ir=\\frac {\\text {Capital Expenditures}}{\\text{Revenues}}$ \n",
    "\n",
    "For this company, the yearly investment amounts are taken from the Consolidated Statements of Cash Flows, \n",
    "Net Cash Used in Investing Activities."
   ]
  },
  {
   "cell_type": "code",
   "execution_count": 27,
   "metadata": {},
   "outputs": [
    {
     "data": {
      "image/png": "[encoded data removed]",
      "text/plain": [
       "<Figure size 432x288 with 2 Axes>"
      ]
     },
     "metadata": {
      "needs_background": "light"
     },
     "output_type": "display_data"
    }
   ],
   "source": [
    "# investment rate\n",
    "investment_rate = df_dcf_data['investment'] / df_dcf_data['revenue'].to_numpy()\n",
    "\n",
    "# plot investment on left and rate on right\n",
    "# Set the locator\n",
    "locator = mdates.YearLocator()  # every year\n",
    "fmt = mdates.DateFormatter('%Y')\n",
    "\n",
    "fig, ax1 = plt.subplots()\n",
    "ax1.set_ylabel('dollars, \\\\$B')\n",
    "\n",
    "ax1.bar(df_dcf_data['FY'],df_dcf_data['investment']/1e9, width=100,color='k')\n",
    "\n",
    "ax1.tick_params(axis='y')\n",
    "plt.grid()\n",
    "\n",
    "# instantiate a second y-axes that shares the same x-axis\n",
    "ax2 = ax1.twinx()\n",
    "color = 'tab:Blue'\n",
    "\n",
    "ax2.plot(df_dcf_data['FY'],investment_rate*100,'+-')\n",
    "    \n",
    "ax2.set_ylabel('% New Investment Rate',color=color)\n",
    "ax2.tick_params(axis='y', labelcolor=color)\n",
    "#ax2.set_ylim((0,50))\n",
    "\n",
    "X = plt.gca().xaxis\n",
    "X.set_major_locator(locator)\n",
    "# Specify formatter\n",
    "X.set_major_formatter(fmt)\n",
    "plt.gcf().autofmt_xdate()\n",
    "\n",
    "plt.title('New Investment')\n",
    "plt.show()"
   ]
  },
  {
   "cell_type": "markdown",
   "metadata": {},
   "source": [
    "**Observations**:  \n",
    "The funds used for new investments has been variable over the years.  "
   ]
  },
  {
   "cell_type": "code",
   "execution_count": 28,
   "metadata": {},
   "outputs": [
    {
     "name": "stdout",
     "output_type": "stream",
     "text": [
      "average investment rate: 49.53%\n"
     ]
    }
   ],
   "source": [
    "# average investment rate\n",
    "investment_rate_avg = investment_rate.mean()\n",
    "print('average investment rate: {:.2f}%'.format(investment_rate_avg*100))"
   ]
  },
  {
   "cell_type": "code",
   "execution_count": null,
   "metadata": {},
   "outputs": [],
   "source": []
  },
  {
   "cell_type": "markdown",
   "metadata": {},
   "source": [
    "### Working Capital Rate <a id=\"section6-6\"></a>\n",
    "Working capital is needed to support the corporate sales effort of any company.  Often a company’s incremental change in net working capital either positive or negative is approximately proportional to its change in revenue.\n",
    "\n",
    "$\\text{Working capital} = \\text{Accounts Receivable} + \\text{Inventories} - \\text{Accounts Payable}$  \n",
    "\n",
    "Working capital is a company’s net investment in its accounts receivable and its inventories (cash outflows), minus its accounts payable (a cash inflow).  Working capital and taxes are cash outflows from the corporation that are not available to pay debts and stockholders.\n"
   ]
  },
  {
   "cell_type": "code",
   "execution_count": 29,
   "metadata": {},
   "outputs": [
    {
     "data": {
      "image/png": "[encoded data removed]",
      "text/plain": [
       "<Figure size 432x288 with 2 Axes>"
      ]
     },
     "metadata": {
      "needs_background": "light"
     },
     "output_type": "display_data"
    }
   ],
   "source": [
    "# plot as four grouped bar chart with labels on right and working capital rate on left\n",
    "# calculate position of bars\n",
    "x1_bar_position = []\n",
    "x2_bar_position = []\n",
    "x3_bar_position = []\n",
    "x4_bar_position = []\n",
    "for i in df_dcf_data['FY']:\n",
    "    x1_bar_position.append(i-relativedelta(months=3))\n",
    "    x2_bar_position.append(i-relativedelta(months=1))\n",
    "    x3_bar_position.append(i+relativedelta(months=1))\n",
    "    x4_bar_position.append(i+relativedelta(months=3))\n",
    "\n",
    "# calculate working capital rate\n",
    "working_capital = (df_dcf_data['accounts_receivable'] + df_dcf_data['inventories']) - \\\n",
    "    df_dcf_data['accounts_payable']\n",
    "working_capital_rate = working_capital / df_dcf_data['revenue']\n",
    "\n",
    "width = 40  # the width of the bars\n",
    "\n",
    "# Set the locator\n",
    "locator = mdates.YearLocator()  # every year\n",
    "fmt = mdates.DateFormatter('%Y')\n",
    "\n",
    "fig, ax1 = plt.subplots()\n",
    "ax1.set_ylabel('dollars, \\\\$M')\n",
    "\n",
    "rects1 = ax1.bar(x1_bar_position,df_dcf_data['accounts_receivable']/1e9, width,\\\n",
    "    label='Accounts Receivable')\n",
    "rects2 = ax1.bar(x2_bar_position,df_dcf_data['inventories']/1e9, width, label='Inventory')\n",
    "\n",
    "rects2 = ax1.bar(x3_bar_position,df_dcf_data['accounts_payable']/1e9, width, label='Accounts Payable')\n",
    "rects2 = ax1.bar(x4_bar_position,working_capital/1e9, width, label='Working Capital')\n",
    "\n",
    "ax1.tick_params(axis='y')\n",
    "#ax1.set_ylim((-50,200))\n",
    "ax1.legend()\n",
    "plt.grid()\n",
    "\n",
    "# instantiate a second y-axes that shares the same x-axis\n",
    "ax2 = ax1.twinx()\n",
    "color = 'tab:Blue'\n",
    "\n",
    "ax2.plot(df_dcf_data['FY'],working_capital_rate * 100,'+-')\n",
    "    \n",
    "ax2.set_ylabel('% Working Capital Rate',color=color)\n",
    "ax2.tick_params(axis='y', labelcolor=color)\n",
    "#ax2.set_ylim((-5,5))\n",
    "\n",
    "X = plt.gca().xaxis\n",
    "X.set_major_locator(locator)\n",
    "# Specify formatter\n",
    "X.set_major_formatter(fmt)\n",
    "plt.gcf().autofmt_xdate()\n",
    "\n",
    "plt.title('Working Capital')\n",
    "plt.show()"
   ]
  },
  {
   "cell_type": "markdown",
   "metadata": {},
   "source": [
    "**Observations:**  \n",
    "The company has a negative working capital rate. Negative working capital describes a situation where a company's current liabilities exceed its current assets as stated on the firm's balance sheet. In other words, there is more short-term debt than there are short-term assets. \n",
    "\n",
    "Negative working capital most often arises when a business generates cash very quickly because it can sell products to its customers before it has to pay the bills to its vendors for the original goods or raw materials. In this way, the company is effectively using the vendor's money to grow. \n",
    "\n",
    "For a REIT, the working capital rate is set to zero."
   ]
  },
  {
   "cell_type": "code",
   "execution_count": 30,
   "metadata": {},
   "outputs": [
    {
     "name": "stdout",
     "output_type": "stream",
     "text": [
      "average working capital rate: 0.00%\n"
     ]
    }
   ],
   "source": [
    "# average working capital rate\n",
    "working_capital_rate_avg = 0 # working_capital_rate[-5:].mean()\n",
    "print('average working capital rate: {:.2f}%'.format(working_capital_rate_avg*100))"
   ]
  },
  {
   "cell_type": "markdown",
   "metadata": {},
   "source": [
    "### Current assets <a id=\"section6-7\"></a>\n",
    "Total Current Assets from the most recent balance sheet statement of the company.  Current assets include inventory, cash and accounts receivables."
   ]
  },
  {
   "cell_type": "code",
   "execution_count": 31,
   "metadata": {},
   "outputs": [
    {
     "data": {
      "image/png": "[encoded data removed]",
      "text/plain": [
       "<Figure size 432x288 with 1 Axes>"
      ]
     },
     "metadata": {
      "needs_background": "light"
     },
     "output_type": "display_data"
    }
   ],
   "source": [
    "# plot Short Term Assets\n",
    "width = 100  # the width of the bars\n",
    "\n",
    "# Set the locator\n",
    "locator = mdates.YearLocator()  # every year\n",
    "fmt = mdates.DateFormatter('%Y')\n",
    "\n",
    "plt.bar(df_dcf_data['FY'],df_dcf_data['current_assets']/1e9, width)\n",
    "\n",
    "X = plt.gca().xaxis\n",
    "X.set_major_locator(locator)\n",
    "# Specify formatter\n",
    "X.set_major_formatter(fmt)\n",
    "plt.gcf().autofmt_xdate()\n",
    "\n",
    "plt.title('Current assets')\n",
    "plt.ylabel('dollars, \\\\$B')\n",
    "\n",
    "plt.grid()\n",
    "plt.show()"
   ]
  },
  {
   "cell_type": "markdown",
   "metadata": {},
   "source": [
    "**Observations:**  \n",
    "Cash and cash equivalents increased to \\\\$798,329 from \\\\$127,432 the prior year.  The company took actions to raise money to ride out covid's effect on the rental market.  \n",
    "\n",
    "Throughout the last three quarters of 2020, the company maintained levels of cash significantly in excess of the cash balances they have historically maintained which has adversely impacted our financial results.  They believe that such action was prudent to position them with what they expect to be sufficient liquidity to allow them to continue fully\n",
    "operating until their operating revenues return to more typical levels. \n",
    "\n",
    "Those actions included raising \\\\$1.1 billion in May 2020 through a \\\\$400.0 million term loan and the issuance of \\\\$700.0 million of senior unsecured notes, amending the covenants on our revolving credit facility to provide them operating flexibility during the expected period during which their cash flow will be impacted, and raising an additional \\\\$400.0 million of senior unsecured notes in October 2020. \n",
    "\n",
    "As of December 31, 2020, there is no outstanding balance on their \\\\$1.0 billion revolving credit facility, and they have cash and cash equivalents of \\\\$798.3 million."
   ]
  },
  {
   "cell_type": "code",
   "execution_count": 32,
   "metadata": {},
   "outputs": [
    {
     "name": "stdout",
     "output_type": "stream",
     "text": [
      "Current assets: $1.00B\n"
     ]
    }
   ],
   "source": [
    "sta = df_dcf_data['current_assets'].iloc[-1]\n",
    "print('Current assets: ${:.2f}B'.format(sta/1e9))"
   ]
  },
  {
   "cell_type": "markdown",
   "metadata": {},
   "source": [
    "### Current liabilities <a id=\"section6-8\"></a>\n",
    "Total Current Liabilities from the most recent balance sheet consolidated statement."
   ]
  },
  {
   "cell_type": "code",
   "execution_count": 33,
   "metadata": {},
   "outputs": [
    {
     "data": {
      "image/png": "[encoded data removed]",
      "text/plain": [
       "<Figure size 432x288 with 1 Axes>"
      ]
     },
     "metadata": {
      "needs_background": "light"
     },
     "output_type": "display_data"
    }
   ],
   "source": [
    "# plot Short Term Liabilities\n",
    "\n",
    "width = 100  # the width of the bars\n",
    "\n",
    "# Set the locator\n",
    "locator = mdates.YearLocator()  # every year\n",
    "fmt = mdates.DateFormatter('%Y')\n",
    "\n",
    "plt.bar(df_dcf_data['FY'],df_dcf_data['current_liabilities']/1e9, width)\n",
    "\n",
    "X = plt.gca().xaxis\n",
    "X.set_major_locator(locator)\n",
    "# Specify formatter\n",
    "X.set_major_formatter(fmt)\n",
    "plt.gcf().autofmt_xdate()\n",
    "\n",
    "plt.title('Current liabilities')\n",
    "plt.ylabel('dollars, \\\\$B')\n",
    "\n",
    "plt.grid()\n",
    "plt.show()"
   ]
  },
  {
   "cell_type": "code",
   "execution_count": 34,
   "metadata": {},
   "outputs": [
    {
     "name": "stdout",
     "output_type": "stream",
     "text": [
      "Average of current liabilities: $0.51B\n"
     ]
    }
   ],
   "source": [
    "print('Average of current liabilities: ${:.2f}B'.format(df_dcf_data['current_liabilities'].mean()/1e9))"
   ]
  },
  {
   "cell_type": "markdown",
   "metadata": {},
   "source": [
    "**Observations**:  \n",
    "Senior notes and debentures, net increased to \\\\$3,404,488 from \\\\$2,807,134."
   ]
  },
  {
   "cell_type": "code",
   "execution_count": 35,
   "metadata": {},
   "outputs": [
    {
     "name": "stdout",
     "output_type": "stream",
     "text": [
      "Current liabilities: $0.74B\n"
     ]
    }
   ],
   "source": [
    "stl = df_dcf_data['current_liabilities'].iloc[-1]\n",
    "print('Current liabilities: ${:.2f}B'.format(stl/1e9))"
   ]
  },
  {
   "cell_type": "markdown",
   "metadata": {},
   "source": [
    "### Value of Debt Outstanding <a id=\"section6-9\"></a>\n",
    "Amount of debt outstanding from the most recent balance sheet of the company.\n"
   ]
  },
  {
   "cell_type": "code",
   "execution_count": 36,
   "metadata": {},
   "outputs": [
    {
     "data": {
      "image/png": "[encoded data removed]",
      "text/plain": [
       "<Figure size 432x288 with 2 Axes>"
      ]
     },
     "metadata": {
      "needs_background": "light"
     },
     "output_type": "display_data"
    }
   ],
   "source": [
    "# calculate the percent change in debt, pcd\n",
    "pcd = np.zeros(len(df_dcf_data['long_term_debt'].to_numpy())) # percent change in debt\n",
    "for i in range(len(df_dcf_data['long_term_debt'].to_numpy()[0:-1])):\n",
    "    pcd[i+1] = ((df_dcf_data['long_term_debt'].to_numpy()[i+1] - df_dcf_data['long_term_debt'].to_numpy()[i])/\n",
    "                df_dcf_data['long_term_debt'].to_numpy()[i+1])*100\n",
    "\n",
    "width = 100\n",
    "\n",
    "# Set the locator\n",
    "locator = mdates.YearLocator()  # every year\n",
    "fmt = mdates.DateFormatter('%Y')\n",
    "\n",
    "fig, ax1 = plt.subplots()\n",
    "ax1.set_ylabel('dollars, $B')\n",
    "\n",
    "# plot revenue as single bar\n",
    "plt.bar(df_dcf_data['FY'],df_dcf_data['long_term_debt']/1e9, width,color='k')\n",
    "\n",
    "ax1.tick_params(axis='y')\n",
    "plt.grid()\n",
    "\n",
    "# instantiate a second y-axes that shares the same x-axis\n",
    "ax2 = ax1.twinx()\n",
    "color = 'tab:green'\n",
    "\n",
    "ax2.plot(df_dcf_data['FY'],pcd,'+-g')\n",
    "    \n",
    "ax2.set_ylabel('% Change in debt',color=color)\n",
    "ax2.tick_params(axis='y', labelcolor=color)\n",
    "ax2.set_ylim((-10,50))\n",
    "\n",
    "X = plt.gca().xaxis\n",
    "X.set_major_locator(locator)\n",
    "# Specify formatter\n",
    "X.set_major_formatter(fmt)\n",
    "plt.gcf().autofmt_xdate()\n",
    "\n",
    "plt.title('debt')\n",
    "plt.show()"
   ]
  },
  {
   "cell_type": "code",
   "execution_count": 37,
   "metadata": {},
   "outputs": [
    {
     "name": "stdout",
     "output_type": "stream",
     "text": [
      "average debt growth rate: 4.08%\n"
     ]
    }
   ],
   "source": [
    "dgr_avg = pcr[1:].mean()/100\n",
    "print('average debt growth rate: {:.2f}%'.format(dgr_avg*100))"
   ]
  },
  {
   "cell_type": "markdown",
   "metadata": {},
   "source": [
    "**Observations:**  \n",
    "Senior notes and debentures increased in 2019 to 2,807,134 from 2,404,279 in 2018. \n",
    "\n",
    "On June 7, 2019, the company issued \\\\$300.0 million of fixed rate senior unsecured notes that mature on June 15, 2029 and bear interest at 3.20%. On August 21, 2019, they issued an additional \\\\$100.0 million senior notes of the same series and with the same terms."
   ]
  },
  {
   "cell_type": "code",
   "execution_count": 38,
   "metadata": {},
   "outputs": [
    {
     "name": "stdout",
     "output_type": "stream",
     "text": [
      "Total long term debt and other: $4.19B\n"
     ]
    }
   ],
   "source": [
    "vod = df_dcf_data['long_term_debt'].iloc[-1]\n",
    "print('Total long term debt and other: ${:.2f}B'.format(vod/1e9))"
   ]
  },
  {
   "cell_type": "markdown",
   "metadata": {},
   "source": [
    "### Current stock price <a id=\"section6-10\"></a>\n",
    "Most recent stock price for the [company](https://finance.yahoo.com/quote/T/?p=T).  The current stock price is used to calculate the market value of the firm. Use the market value when looking at market capitalization for common stock. "
   ]
  },
  {
   "cell_type": "code",
   "execution_count": 39,
   "metadata": {},
   "outputs": [
    {
     "name": "stdout",
     "output_type": "stream",
     "text": [
      "current stock price: $121.92\n"
     ]
    }
   ],
   "source": [
    "csp = 121.92 # current stock price, $\n",
    "print('current stock price: ${:,.2f}'.format(csp))"
   ]
  },
  {
   "cell_type": "markdown",
   "metadata": {},
   "source": [
    "### Shares outstanding <a id=\"section6-11\"></a>\n",
    "The number of shares outstanding is used to calculate the intrinsic stock value.  \n"
   ]
  },
  {
   "cell_type": "code",
   "execution_count": 40,
   "metadata": {},
   "outputs": [
    {
     "name": "stdout",
     "output_type": "stream",
     "text": [
      "shares_outstanding, basic: 75,515,000\n"
     ]
    }
   ],
   "source": [
    "so = df_dcf_data['shares_outstanding'].iloc[-1]               # shares outstanding\n",
    "print('shares_outstanding, basic: {:,.0f}'.format(so))"
   ]
  },
  {
   "cell_type": "code",
   "execution_count": 41,
   "metadata": {},
   "outputs": [
    {
     "data": {
      "image/png": "[encoded data removed]",
      "text/plain": [
       "<Figure size 432x288 with 2 Axes>"
      ]
     },
     "metadata": {
      "needs_background": "light"
     },
     "output_type": "display_data"
    }
   ],
   "source": [
    "# calculate the percent change in shares outstanding, pcso\n",
    "pcso = np.zeros(len(df_dcf_data['shares_outstanding'].to_numpy())) # percent change in debt\n",
    "for i in range(len(df_dcf_data['shares_outstanding'].to_numpy()[0:-1])):\n",
    "    pcso[i+1] = ((df_dcf_data['shares_outstanding'].to_numpy()[i+1] - df_dcf_data['shares_outstanding'].to_numpy()[i])/\n",
    "                df_dcf_data['shares_outstanding'].to_numpy()[i+1])*100\n",
    "\n",
    "width = 100\n",
    "\n",
    "# Set the locator\n",
    "locator = mdates.YearLocator()  # every year\n",
    "fmt = mdates.DateFormatter('%Y')\n",
    "\n",
    "fig, ax1 = plt.subplots()\n",
    "ax1.set_ylabel('shares outstanding, M')\n",
    "\n",
    "# plot revenue as single bar\n",
    "plt.bar(df_dcf_data['FY'],df_dcf_data['shares_outstanding']/1e6, width,color='k')\n",
    "\n",
    "ax1.tick_params(axis='y')\n",
    "plt.grid()\n",
    "\n",
    "# instantiate a second y-axes that shares the same x-axis\n",
    "ax2 = ax1.twinx()\n",
    "color = 'tab:green'\n",
    "\n",
    "ax2.plot(df_dcf_data['FY'],pcso,'+-g')\n",
    "    \n",
    "ax2.set_ylabel('% Change in shares outstanding',color=color)\n",
    "ax2.tick_params(axis='y', labelcolor=color)\n",
    "ax2.set_ylim((-1,10))\n",
    "\n",
    "X = plt.gca().xaxis\n",
    "X.set_major_locator(locator)\n",
    "# Specify formatter\n",
    "X.set_major_formatter(fmt)\n",
    "plt.gcf().autofmt_xdate()\n",
    "\n",
    "plt.title('Shares outstanding')\n",
    "plt.show()"
   ]
  },
  {
   "cell_type": "code",
   "execution_count": 42,
   "metadata": {},
   "outputs": [
    {
     "name": "stdout",
     "output_type": "stream",
     "text": [
      "average shares outstanding growth rate: 2.08%\n"
     ]
    }
   ],
   "source": [
    "print('average shares outstanding growth rate: {:.2f}%'.format(pcso[1:].mean()))"
   ]
  },
  {
   "cell_type": "markdown",
   "metadata": {},
   "source": [
    "**Observation:**  \n",
    "The basic share outstanding have been increasing at a small rate."
   ]
  },
  {
   "cell_type": "code",
   "execution_count": null,
   "metadata": {},
   "outputs": [],
   "source": []
  },
  {
   "cell_type": "markdown",
   "metadata": {},
   "source": [
    "### 10 year treasury bond yield <a id=\"section6-12\"></a>\n",
    "The [10 year treasury yield](https://finance.yahoo.com/quote/%5ETNX?p=^TNX&.tsrc=fin-srch) is used as a measure of the risk free rate.   "
   ]
  },
  {
   "cell_type": "code",
   "execution_count": 43,
   "metadata": {},
   "outputs": [
    {
     "name": "stdout",
     "output_type": "stream",
     "text": [
      "10 year treasury bond yield: 1.38%\n"
     ]
    }
   ],
   "source": [
    "tby = 1.38/100             # 10 year treasury bond yield\n",
    "print('10 year treasury bond yield: {:,.2f}%'.format(tby*100))"
   ]
  },
  {
   "cell_type": "markdown",
   "metadata": {},
   "source": [
    "### Bond yield spread to treasury <a id=\"section6-13\"></a>\n",
    "The spread to treasury implies that all corporate debt will have a higher yield than yields associated with comparable maturity US Treasury Bonds.  The best way to determine default risk is to see how a particular company's debt is trading in the market and compare it on a spread basis with comparable maturity yields.  \n",
    "\n",
    "Look at [PIMCO Active Bond Exchange-Traded Fund (BOND)](https://finance.yahoo.com/quote/BOND?p=BOND) or use a default rating systems that are published by the three major rating agencies, Standards and Poors Corp, Moody’s Investor Services and Fitch & Company.\n",
    "\n",
    "Web resources:\n",
    "- http://www.standardpoor.com/  \n",
    "- http://bond.yahoo.com/rates.html  \n",
    "- http://www.moodys.com/cust/default.asp  \n",
    "- http://www.fitchibca.com/corporate/index.cfm  "
   ]
  },
  {
   "cell_type": "code",
   "execution_count": 44,
   "metadata": {},
   "outputs": [
    {
     "name": "stdout",
     "output_type": "stream",
     "text": [
      "Bond yield spread to treasury: 1.15%\n"
     ]
    }
   ],
   "source": [
    "bystt = (2.53-1.38)/100           # bond yield spread to treasury spread\n",
    "print('Bond yield spread to treasury: {:,.2f}%'.format(bystt*100))"
   ]
  },
  {
   "cell_type": "markdown",
   "metadata": {},
   "source": [
    "### Preferred stock yield <a id=\"section6-14\"></a>\n",
    "Amount of preferred stock outstanding from the most recent balance sheet of the company.\n",
    "\n",
    "From the balance sheet:  \n",
    "- Preferred shares, authorized 15,000,000 shares, \\\\$.01 par: 5.0% Series C Cumulative Redeemable Preferred Shares, (stated at liquidation preference $25,000 per share), 6,000 shares issued and outstanding\n",
    "- 5.417% Series 1 Cumulative Convertible Preferred Shares, (stated at liquidation preference \\\\$25 per share), 399,896 shares issued and outstanding\n",
    "\n",
    "See below for inputs to model."
   ]
  },
  {
   "cell_type": "code",
   "execution_count": 45,
   "metadata": {},
   "outputs": [
    {
     "name": "stdout",
     "output_type": "stream",
     "text": [
      "preferred stock yield: 5.21%\n",
      "value of preferred stock: 159,997,400.00\n"
     ]
    }
   ],
   "source": [
    "psay = (5+5.417)/2 # preferred stock average yield \n",
    "psy = psay/100  # preferred stock yield\n",
    "print('preferred stock yield: {:,.2f}%'.format(psy*100))\n",
    "\n",
    "vps = 6000*25000 + 399896*25 # value of preferred stock\n",
    "print('value of preferred stock: {:,.2f}'.format(vps))"
   ]
  },
  {
   "cell_type": "markdown",
   "metadata": {},
   "source": [
    "### Equity risk premium <a id=\"section6-15\"></a>\n",
    "The expected excess return a hypothetical average investor would require of a diversified portfolio of stock (assumed beta = 1.0) over the yield on the 10-year Treasury Bond.  The equity risk premium has been going down over the years.  \n",
    "- 1926 to 1990: 5.5%   \n",
    "- 1962 to 1990: 3.25%   \n",
    "- 1981 to 1990: 0.19%   \n",
    "\n",
    "In times of sustained economic growth the risk premium demanded by investors generally declines.   \n",
    "\n",
    "I'm going to use 3% as the equity risk premium."
   ]
  },
  {
   "cell_type": "code",
   "execution_count": 46,
   "metadata": {},
   "outputs": [
    {
     "name": "stdout",
     "output_type": "stream",
     "text": [
      "Equity risk premium: 3.00%\n"
     ]
    }
   ],
   "source": [
    "eq_rp = 3.0/100             # equity risk premium\n",
    "print('Equity risk premium: {:,.2f}%'.format(eq_rp*100))"
   ]
  },
  {
   "cell_type": "markdown",
   "metadata": {},
   "source": [
    "### Company specific beta <a id=\"section6-16\"></a>\n",
    "The Beta used is Beta of Equity. Beta is the monthly price change of a particular company relative to the monthly price change of the S&P 500. The time period for Beta is 5 years when available. This value can be obtained at [yahoo finance](https://finance.yahoo.com/quote/ED/?p=ED).  \n",
    "\n",
    "A measure of risk of an individual stock. It measures volatility of return - a higher beta means a higher risk. A financial model that uses Beta as its sole measure of risk (signal factor model) is called a Capital Asset Pricing Model (CAPM).\n",
    " "
   ]
  },
  {
   "cell_type": "code",
   "execution_count": 47,
   "metadata": {},
   "outputs": [
    {
     "name": "stdout",
     "output_type": "stream",
     "text": [
      "Company specific beta: 1.15\n"
     ]
    }
   ],
   "source": [
    "beta = 1.15 # company specific beta\n",
    "print('Company specific beta: {:,.2f}'.format(beta))"
   ]
  },
  {
   "cell_type": "markdown",
   "metadata": {},
   "source": [
    "### DCF model inputs <a id=\"section6-17\"></a>\n",
    "Below are the DCF model inputs.  These values were calculated above."
   ]
  },
  {
   "cell_type": "code",
   "execution_count": 48,
   "metadata": {},
   "outputs": [
    {
     "name": "stdout",
     "output_type": "stream",
     "text": [
      "revenue growth rate: 4.31%\n",
      "net operating profit margin: 63.36%\n",
      "tax rate: 0.00%\n",
      "depreciation rate: 25.47%\n",
      "investment rate: 49.53%\n",
      "working capital rate: 0.00%\n"
     ]
    }
   ],
   "source": [
    "# various rates\n",
    "rgr = rgr_avg              # revenue growth rate\n",
    "print('revenue growth rate: {:,.2f}%'.format(rgr*100))\n",
    "nopm = nopm_avg             # net operating profit margin\n",
    "print('net operating profit margin: {:,.2f}%'.format(nopm*100))\n",
    "tr = tax_rate_avg               # tax rate\n",
    "print('tax rate: {:,.2f}%'.format(tr*100))\n",
    "dr = depreciation_rate_avg              # depreciation rate (% of revenue)\n",
    "print('depreciation rate: {:,.2f}%'.format(dr*100))\n",
    "ir = investment_rate_avg              # investment rate (% of revenue)\n",
    "print('investment rate: {:,.2f}%'.format(ir*100))\n",
    "wcr = working_capital_rate_avg            # working capital rate (% of revenue)\n",
    "print('working capital rate: {:,.2f}%'.format(wcr*100))"
   ]
  },
  {
   "cell_type": "code",
   "execution_count": 49,
   "metadata": {},
   "outputs": [
    {
     "name": "stdout",
     "output_type": "stream",
     "text": [
      "starting revenues: $0.84B\n",
      "shares outstanding: 75,515,000\n"
     ]
    }
   ],
   "source": [
    "# General Inputs\n",
    "fy_start = df_dcf_data['FY'].iloc[-1].year # fiscal year to start excess return period\n",
    "erp = 10                  # excess return period, years\n",
    "rev_start = df_dcf_data['revenue'].to_numpy()[-1] # starting revenues for excess return period\n",
    "print('starting revenues: ${:,.2f}B'.format(rev_start/1e9))\n",
    "print('shares outstanding: {:,.0f}'.format(so))"
   ]
  },
  {
   "cell_type": "code",
   "execution_count": 50,
   "metadata": {},
   "outputs": [
    {
     "name": "stdout",
     "output_type": "stream",
     "text": [
      "preferred stock, market value : $0.16B\n",
      "common stock, market value: $9.21B\n"
     ]
    }
   ],
   "source": [
    "ps_mv = vps               # preferred stock, market value \n",
    "print('preferred stock, market value : ${:,.2f}B'.format(ps_mv/1e9))\n",
    "cs_mv = csp*so            # common stock, market value \n",
    "print('common stock, market value: ${:,.2f}B'.format(cs_mv/1e9))"
   ]
  },
  {
   "cell_type": "markdown",
   "metadata": {},
   "source": [
    "**Long Term Debt, Market Value, ltd_mv**  \n",
    "Use the book value for long term debt.  Various online resources can be used to research this item.\n",
    "These include, [Bondsonline](http://www.bondsonline.com/) and [Bloomberg](http://www.bloomberg.com/).  The book value of debt and preferred stock is an accounting measure that relates to how much money was raised by the company when each security was issued.  The market value of debt and the preferred and common stock is the price that specific obligations would trade at in today’s market. \n",
    "\n",
    "Long term debt for firms can take one of two forms.  It can be a long-term loan from a bank or other financial institution or it can be a long-term bond issued to financial markets, in which case the creditors are the investors in the bond.  Firms often have long term obligations that are not captured in the long term debt item.  These include obligations to lessors on assets that firms have leased, to employees in the form of pension fund and health care benefits yet to be paid, and to the government in the form of taxes deferred.  In the last two decades, accountants have increasingly moved towards quantifying these liabilities and showing them as long term liabilities."
   ]
  },
  {
   "cell_type": "code",
   "execution_count": 51,
   "metadata": {},
   "outputs": [
    {
     "name": "stdout",
     "output_type": "stream",
     "text": [
      "total market value: $13.55B\n"
     ]
    }
   ],
   "source": [
    "ltd_mv = vod              # market value of long term debt\n",
    "tmv = ltd_mv+ps_mv+cs_mv  # total market value \n",
    "print('total market value: ${:,.2f}B'.format(tmv/1e9))"
   ]
  },
  {
   "cell_type": "markdown",
   "metadata": {},
   "source": [
    "**Cost of Common Equity, cce**  \n",
    "The expected excess return a hypothetical average investor would require of a diversified portfolio of stock (assumed beta = 1.0) over the yield on the 10-year Treasury Bond.  The annual rate of return that an investor expects to earn when investing in shares of a company is known as the cost of common equity.  It includes dividends and increases in the market value."
   ]
  },
  {
   "cell_type": "code",
   "execution_count": 52,
   "metadata": {},
   "outputs": [
    {
     "name": "stdout",
     "output_type": "stream",
     "text": [
      "cost of common equity: 4.83%\n"
     ]
    }
   ],
   "source": [
    "cce = tby+beta*eq_rp      # cost of common equity or the expected return for the stock\n",
    "print('cost of common equity: {:,.2f}%'.format(cce*100))"
   ]
  },
  {
   "cell_type": "markdown",
   "metadata": {},
   "source": [
    "**Long Term Debt, Average Yield, ltd_ay**  \n",
    "The total cost of long term debt."
   ]
  },
  {
   "cell_type": "code",
   "execution_count": 53,
   "metadata": {},
   "outputs": [
    {
     "name": "stdout",
     "output_type": "stream",
     "text": [
      "long term debt average yield: 2.53%\n"
     ]
    }
   ],
   "source": [
    "ltd_ay = tby+bystt        # long term debt average yield\n",
    "print('long term debt average yield: {:,.2f}%'.format(ltd_ay*100))"
   ]
  },
  {
   "cell_type": "markdown",
   "metadata": {},
   "source": [
    "**Long Term Debt, After Tax Yield, ltd_aty**  \n",
    "The tax benefits of long term debt.  Interest payments are tax deductible for the company."
   ]
  },
  {
   "cell_type": "code",
   "execution_count": 54,
   "metadata": {},
   "outputs": [
    {
     "name": "stdout",
     "output_type": "stream",
     "text": [
      "long term debt after tax yield: 2.53%\n",
      "preferred stock, average yield: 5.21%\n",
      "common stock, after tax yield: 4.83%\n",
      "common stock, after tax effet: 3.28%\n",
      "total after tax effect: 4.12%\n",
      "total % Capital: 100.00%\n"
     ]
    }
   ],
   "source": [
    "ltd_aty = ltd_ay*(1-tr)   # long term debt after tax yield\n",
    "print('long term debt after tax yield: {:,.2f}%'.format(ltd_aty*100))\n",
    "\n",
    "ltd_pc = vod/tmv          # weight for long term debt \n",
    "ltd_ate = ltd_aty*ltd_pc  # after tax effect of long term debt \n",
    "ps_ay = psy               # preferred stock, average yield \n",
    "ps_aty = ps_ay            # preferred stock, average yield \n",
    "print('preferred stock, average yield: {:,.2f}%'.format(ps_aty*100))\n",
    "\n",
    "ps_pc = ps_mv/tmv         # preferred stock, % capital \n",
    "ps_ate = ps_aty*ps_pc     # preferred stock, after tax effect \n",
    "cs_ay = cce               # common stock, average yield \n",
    "cs_aty = cce              # common stock, after tax yield \n",
    "print('common stock, after tax yield: {:,.2f}%'.format(cs_aty*100))\n",
    "\n",
    "cs_pc = cs_mv/tmv         # common stock, % capital \n",
    "cs_ate = cs_aty*cs_pc     # common stock, after tax effect \n",
    "print('common stock, after tax effet: {:,.2f}%'.format(cs_ate*100))\n",
    "\n",
    "tate = ltd_ate+ps_ate+cs_ate # total after tax effect \n",
    "print('total after tax effect: {:,.2f}%'.format(tate*100))\n",
    "tpc = ltd_pc+ps_pc+cs_pc     # total % Capital\n",
    "print('total % Capital: {:,.2f}%'.format(tpc*100))"
   ]
  },
  {
   "cell_type": "markdown",
   "metadata": {},
   "source": [
    "**Weighted average cost of capital**  \n",
    "A company's weighted average cost of capital (WACC) is the weighted average of the company's current cost of debt and equity calculated by using current debt, preferred stock and common stock market values.  The WACC of the company, calculated after tax, is the discount rate used in the DCF valuation procedures. The WACC, which is the cost of the different components of financing used by the firm, weighted by their market value proportions.  These include debt, preferred stock, and common stock.\n",
    "\n",
    "WACC: Weighted Average Cost of Capital, the rate used to discount cash flows, based on the following three factors.\n",
    "1. Base rate of return.\n",
    "2. Expected return based on debt and preferred stock.\n",
    "3. Expected return on common stock and Beta.\n",
    "\n",
    "All adjusted for the tax advantage of interest payments and the percentage of debt, preferred stock and common stock."
   ]
  },
  {
   "cell_type": "code",
   "execution_count": 55,
   "metadata": {},
   "outputs": [
    {
     "name": "stdout",
     "output_type": "stream",
     "text": [
      "weighted average cost of capital: 4.1%\n"
     ]
    }
   ],
   "source": [
    "wacc = tate\n",
    "print('weighted average cost of capital: {:.1f}%'.format(wacc*100))"
   ]
  },
  {
   "cell_type": "markdown",
   "metadata": {},
   "source": [
    "### Future cash flows <a id=\"section6-18\"></a>\n",
    "The future cash flows to the firm are projected based on revenue growth.  The cash flows are then discounted using the WACC and the ISV is calculated."
   ]
  },
  {
   "cell_type": "code",
   "execution_count": 56,
   "metadata": {},
   "outputs": [
    {
     "name": "stdout",
     "output_type": "stream",
     "text": [
      "year       rev       nop        at     nopat    invest     depre        ci      ciwc      FCFF      disc     dFCFF\n",
      "2020       835         0         0         0         0         0         0         0         0    0.0000         0\n",
      "2021       871       552         0       552       432       222       210         0       343    0.9604       329\n",
      "2022       909       576         0       576       450       231       219         0       357    0.9224       330\n",
      "2023       948       601         0       601       470       241       228         0       373    0.8858       330\n",
      "2024       989       627         0       627       490       252       238         0       389    0.8507       331\n",
      "2025     1,032       654         0       654       511       263       248         0       405    0.8170       331\n",
      "2026     1,076       682         0       682       533       274       259         0       423    0.7847       332\n",
      "2027     1,122       711         0       711       556       286       270         0       441    0.7536       332\n",
      "2028     1,171       742         0       742       580       298       282         0       460    0.7238       333\n",
      "2029     1,221       774         0       774       605       311       294         0       480    0.6951       334\n",
      "2030     1,274       807         0       807       631       324       306         0       501    0.6676       334\n"
     ]
    }
   ],
   "source": [
    "# make a list of the fiscal years in excess return period \n",
    "fy = np.zeros(erp+1)\n",
    "fy[0] = fy_start\n",
    "for i in range(1,erp+1): \n",
    "    fy[i]=fy_start+i\n",
    "\n",
    "rev = np.zeros(len(fy))\n",
    "ciwc = np.zeros(len(fy))\n",
    "rev[0] = rev_start  #*rgr+rev_start   # find the future revenue using constant revenue growth rate \n",
    "\n",
    "for i in range(1,len(fy)): \n",
    "    rev[i] = rev[i-1]*rgr+rev[i-1]  # find the future revenue \n",
    "    ciwc[i] = (rev[i]-rev[i-1])*wcr  # find the change in working capital \n",
    "\n",
    "nop = np.zeros(len(fy))\n",
    "adj_taxes = np.zeros(len(fy))\n",
    "nopat = np.zeros(len(fy))\n",
    "invest = np.zeros(len(fy))\n",
    "depre = np.zeros(len(fy))\n",
    "net_invest = np.zeros(len(fy))\n",
    "fcff = np.zeros(len(fy))\n",
    "disc_fact = np.zeros(len(fy))\n",
    "disc_fcff = np.zeros(len(fy))                \n",
    "\n",
    "# calculate values in table \n",
    "for i in range(1,len(fy)): \n",
    "    nop[i] = rev[i]*nopm # net operating profit\n",
    "    adj_taxes[i] = nop[i]*tr # net operating profit adjusted for taxes\n",
    "    nopat[i] = nop[i]-adj_taxes[i] # after tax net operating profit\n",
    "    invest[i] = rev[i]*ir # future investments\n",
    "    depre[i] = rev[i]*dr # future depreciations\n",
    "    net_invest[i] = invest[i]-depre[i] # net investments\n",
    "    fcff[i] = nopat[i]-net_invest[i]-ciwc[i] # free cash flow to the firm\n",
    "    disc_fact[i] = 1/((1+wacc)**i) # discount factor\n",
    "    disc_fcff[i] = disc_fact[i]*fcff[i] # discounted free cash flow to the firm\n",
    "    \n",
    "dcrv = nopat[-1]/wacc*disc_fact[-1] # discounted corporate residual value\n",
    "derp_fcff = disc_fcff.sum() # discounted excess return period FCFF\n",
    "\n",
    "tcv = derp_fcff+dcrv+sta # total corporate value\n",
    "tvce = tcv-vod-vps-stl # total value of common equity\n",
    "isv = tvce/so # intrinsic stock value\n",
    "\n",
    "# print cash flows in a table\n",
    "print('{:4s}{:>10s}{:>10s}{:>10s}{:>10s}{:>10s}{:>10s}{:>10s}{:>10s}{:>10s}{:>10s}{:>10s}'.format('year','rev','nop','at',\n",
    "    'nopat','invest','depre','ci','ciwc','FCFF','disc','dFCFF'))\n",
    "for i in range(len(fy)):\n",
    "    print('{:4.0f}{:10,.0f}{:10,.0f}{:10,.0f}{:10,.0f}{:10,.0f}{:10,.0f}{:10,.0f}{:10,.0f}{:10,.0f}{:10,.4f}{:10,.0f}'.format(fy[i],\n",
    "        rev[i]/1e6,nop[i]/1e6,adj_taxes[i]/1e6,nopat[i]/1e6,invest[i]/1e6,depre[i]/1e6,(invest[i]-depre[i])/1e6,ciwc[i]/1e6,\n",
    "        fcff[i]/1e6,disc_fact[i],disc_fcff[i]/1e6))"
   ]
  },
  {
   "cell_type": "code",
   "execution_count": 57,
   "metadata": {},
   "outputs": [
    {
     "name": "stdout",
     "output_type": "stream",
     "text": [
      "discounted excess return period FCFF: $3.32B\n",
      "discounted corporate residual value: $13.06B\n",
      "total corporate value: $17.38B\n",
      "total value of common equity: $12.29B\n",
      "intrinsic stock value: $162.81\n",
      "current stock price: $121.92\n"
     ]
    }
   ],
   "source": [
    "# Intrinsic Value\n",
    "print('discounted excess return period FCFF: ${:,.2f}B'.format(derp_fcff/1e9))\n",
    "print('discounted corporate residual value: ${:,.2f}B'.format(dcrv/1e9))\n",
    "print('total corporate value: ${:,.2f}B'.format(tcv/1e9))\n",
    "print('total value of common equity: ${:,.2f}B'.format(tvce/1e9))\n",
    "print('intrinsic stock value: ${:,.2f}'.format(isv))\n",
    "print('current stock price: ${:,.2f}'.format(csp))"
   ]
  },
  {
   "cell_type": "markdown",
   "metadata": {},
   "source": [
    "**Observations:**  \n",
    "The base line DCF analysis produces an intrinsic stock value of \\\\$165.72.\n",
    "\n",
    "The calculations used here can be verified by using the [Valuepro](http://www.valuepro.net/index.shtml) web site, which calculates ISV based on the same method.\n"
   ]
  },
  {
   "cell_type": "code",
   "execution_count": null,
   "metadata": {},
   "outputs": [],
   "source": []
  },
  {
   "cell_type": "markdown",
   "metadata": {},
   "source": [
    "## 7) DCF Scenarios <a id=\"section7\"></a>\n",
    "Adjusting the weighted average cost of capital to 8.0% to reflect possible higher interest and inflation in the future and changing the revenue growth rate to a modest 3.00%."
   ]
  },
  {
   "cell_type": "code",
   "execution_count": 58,
   "metadata": {},
   "outputs": [
    {
     "name": "stdout",
     "output_type": "stream",
     "text": [
      "weighted average cost of capital: 8.0%\n",
      "revenue growth rate: 3.00%\n"
     ]
    }
   ],
   "source": [
    "wacc = 0.08 # weighted average cost of capital\n",
    "print('weighted average cost of capital: {:.1f}%'.format(wacc*100))\n",
    "\n",
    "rgr = 0.03  # revenue growth rate\n",
    "print('revenue growth rate: {:,.2f}%'.format(rgr*100))\n",
    "\n",
    "#nopm = 0.03             # net operating profit margin\n",
    "#print('net operating profit margin: {:,.2f}%'.format(nopm*100))"
   ]
  },
  {
   "cell_type": "code",
   "execution_count": 59,
   "metadata": {},
   "outputs": [
    {
     "name": "stdout",
     "output_type": "stream",
     "text": [
      "year       rev       nop        at     nopat    invest     depre        ci      ciwc      FCFF      disc     dFCFF\n",
      "2020       835         0         0         0         0         0         0         0         0    0.0000         0\n",
      "2021       861       545         0       545       426       219       207         0       338    0.9259       313\n",
      "2022       886       562         0       562       439       226       213         0       348    0.8573       299\n",
      "2023       913       578         0       578       452       232       220         0       359    0.7938       285\n",
      "2024       940       596         0       596       466       239       226         0       370    0.7350       272\n",
      "2025       969       614         0       614       480       247       233         0       381    0.6806       259\n",
      "2026       998       632         0       632       494       254       240         0       392    0.6302       247\n",
      "2027     1,028       651         0       651       509       262       247         0       404    0.5835       236\n",
      "2028     1,058       671         0       671       524       270       255         0       416    0.5403       225\n",
      "2029     1,090       691         0       691       540       278       262         0       428    0.5002       214\n",
      "2030     1,123       711         0       711       556       286       270         0       441    0.4632       204\n"
     ]
    }
   ],
   "source": [
    "# make a list of the fiscal years in excess return period \n",
    "fy = np.zeros(erp+1)\n",
    "fy[0] = fy_start\n",
    "for i in range(1,erp+1): \n",
    "    fy[i]=fy_start+i\n",
    "\n",
    "rev = np.zeros(len(fy))\n",
    "ciwc = np.zeros(len(fy))\n",
    "rev[0] = rev_start  #*rgr+rev_start   # find the future revenue using constant revenue growth rate \n",
    "\n",
    "for i in range(1,len(fy)): \n",
    "    rev[i] = rev[i-1]*rgr+rev[i-1]  # find the future revenue \n",
    "    ciwc[i] = (rev[i]-rev[i-1])*wcr  # find the change in working capital \n",
    "\n",
    "nop = np.zeros(len(fy))\n",
    "adj_taxes = np.zeros(len(fy))\n",
    "nopat = np.zeros(len(fy))\n",
    "invest = np.zeros(len(fy))\n",
    "depre = np.zeros(len(fy))\n",
    "net_invest = np.zeros(len(fy))\n",
    "fcff = np.zeros(len(fy))\n",
    "disc_fact = np.zeros(len(fy))\n",
    "disc_fcff = np.zeros(len(fy))                \n",
    "\n",
    "# calculate values in table \n",
    "for i in range(1,len(fy)): \n",
    "    nop[i] = rev[i]*nopm # net operating profit\n",
    "    adj_taxes[i] = nop[i]*tr # net operating profit adjusted for taxes\n",
    "    nopat[i] = nop[i]-adj_taxes[i] # after tax net operating profit\n",
    "    invest[i] = rev[i]*ir # future investments\n",
    "    depre[i] = rev[i]*dr # future depreciations\n",
    "    net_invest[i] = invest[i]-depre[i] # net investments\n",
    "    fcff[i] = nopat[i]-net_invest[i]-ciwc[i] # free cash flow to the firm\n",
    "    disc_fact[i] = 1/((1+wacc)**i) # discount factor\n",
    "    disc_fcff[i] = disc_fact[i]*fcff[i] # discounted free cash flow to the firm\n",
    "    \n",
    "dcrv = nopat[-1]/wacc*disc_fact[-1] # discounted corporate residual value\n",
    "derp_fcff = disc_fcff.sum() # discounted excess return period FCFF\n",
    "\n",
    "tcv = derp_fcff+dcrv+sta # total corporate value\n",
    "tvce = tcv-vod-vps-stl # total value of common equity\n",
    "isv = tvce/so # intrinsic stock value\n",
    "\n",
    "# print cash flows in a table\n",
    "print('{:4s}{:>10s}{:>10s}{:>10s}{:>10s}{:>10s}{:>10s}{:>10s}{:>10s}{:>10s}{:>10s}{:>10s}'.format('year','rev','nop','at',\n",
    "    'nopat','invest','depre','ci','ciwc','FCFF','disc','dFCFF'))\n",
    "for i in range(len(fy)):\n",
    "    print('{:4.0f}{:10,.0f}{:10,.0f}{:10,.0f}{:10,.0f}{:10,.0f}{:10,.0f}{:10,.0f}{:10,.0f}{:10,.0f}{:10,.4f}{:10,.0f}'.format(fy[i],\n",
    "        rev[i]/1e6,nop[i]/1e6,adj_taxes[i]/1e6,nopat[i]/1e6,invest[i]/1e6,depre[i]/1e6,(invest[i]-depre[i])/1e6,ciwc[i]/1e6,\n",
    "        fcff[i]/1e6,disc_fact[i],disc_fcff[i]/1e6))"
   ]
  },
  {
   "cell_type": "code",
   "execution_count": 60,
   "metadata": {},
   "outputs": [
    {
     "name": "stdout",
     "output_type": "stream",
     "text": [
      "discounted excess return period FCFF: $2.55B\n",
      "discounted corporate residual value: $4.12B\n",
      "total corporate value: $7.67B\n",
      "total value of common equity: $2.59B\n",
      "intrinsic stock value: $34.30\n"
     ]
    }
   ],
   "source": [
    "# Intrinsic Value\n",
    "print('discounted excess return period FCFF: ${:,.2f}B'.format(derp_fcff/1e9))\n",
    "print('discounted corporate residual value: ${:,.2f}B'.format(dcrv/1e9))\n",
    "print('total corporate value: ${:,.2f}B'.format(tcv/1e9))\n",
    "print('total value of common equity: ${:,.2f}B'.format(tvce/1e9))\n",
    "print('intrinsic stock value: ${:,.2f}'.format(isv))"
   ]
  },
  {
   "cell_type": "markdown",
   "metadata": {},
   "source": [
    "The DCF model calculates with adjustments an intrinsic stock value of \\\\$36. This is about 70% of the current price of \\\\$52.30. There is no safety margin when considering future inflation and higher interest rates."
   ]
  },
  {
   "cell_type": "code",
   "execution_count": null,
   "metadata": {},
   "outputs": [],
   "source": []
  },
  {
   "cell_type": "markdown",
   "metadata": {},
   "source": [
    "### 8) Dividend Discount Model <a id=\"section8\"></a>\n",
    "In this section I look at the dividends paid as a series of cash flows. The historical dividends are plotted below and the average growth in dividend payments are calculated.    \n",
    "\n",
    "Since a dividend stock is primarily purchased for the stream of dividends, the present value and internal rate of return of the cash flows can be calculated. "
   ]
  },
  {
   "cell_type": "code",
   "execution_count": 61,
   "metadata": {},
   "outputs": [],
   "source": [
    "#column names: fiscal years \n",
    "years_list = df_metrics.columns[1:].values.astype('str')[::-1]\n",
    "\n",
    "# convert years to datetime format\n",
    "year_ended_list = []\n",
    "for i in years_list:\n",
    "    year_ended_list.append(datetime.strptime(i, '%Y'))"
   ]
  },
  {
   "cell_type": "code",
   "execution_count": 62,
   "metadata": {},
   "outputs": [],
   "source": [
    "#line 8: Dividends per share  \n",
    "dps = df_metrics.iloc[8].to_numpy()[1:].astype('float')[::-1]"
   ]
  },
  {
   "cell_type": "code",
   "execution_count": 63,
   "metadata": {},
   "outputs": [
    {
     "data": {
      "image/png": "[encoded data removed]",
      "text/plain": [
       "<Figure size 432x288 with 2 Axes>"
      ]
     },
     "metadata": {
      "needs_background": "light"
     },
     "output_type": "display_data"
    }
   ],
   "source": [
    "# calculate the percent change in dividends\n",
    "pcd = np.zeros(len(dps)) # percent change in dividend\n",
    "for i in range(len(dps[0:-1])):\n",
    "    pcd[i+1] = ((dps[i+1] - dps[i])/\n",
    "                dps[i+1])*100\n",
    "\n",
    "width = 100\n",
    "\n",
    "# Set the locator\n",
    "locator = mdates.YearLocator()  # every year\n",
    "fmt = mdates.DateFormatter('%Y')\n",
    "\n",
    "fig, ax1 = plt.subplots()\n",
    "ax1.set_ylabel('Dividend per share, $')\n",
    "\n",
    "# plot revenue as single bar\n",
    "plt.bar(year_ended_list,dps, width,color='k')\n",
    "\n",
    "ax1.tick_params(axis='y')\n",
    "plt.grid()\n",
    "\n",
    "# instantiate a second y-axes that shares the same x-axis\n",
    "ax2 = ax1.twinx()\n",
    "color = 'tab:green'\n",
    "\n",
    "ax2.plot(year_ended_list,pcd,'+-g')\n",
    "    \n",
    "ax2.set_ylabel('% Change in dividend',color=color)\n",
    "ax2.tick_params(axis='y', labelcolor=color)\n",
    "ax2.set_ylim((0,20))\n",
    "\n",
    "X = plt.gca().xaxis\n",
    "X.set_major_locator(locator)\n",
    "# Specify formatter\n",
    "X.set_major_formatter(fmt)\n",
    "plt.gcf().autofmt_xdate()\n",
    "\n",
    "plt.title('Dividend per share')\n",
    "plt.show()"
   ]
  },
  {
   "cell_type": "code",
   "execution_count": 64,
   "metadata": {},
   "outputs": [
    {
     "name": "stdout",
     "output_type": "stream",
     "text": [
      "average dividend growth rate: 4.63%\n"
     ]
    }
   ],
   "source": [
    "adgr = pcd[1:].mean()\n",
    "print('average dividend growth rate: {:.2f}%'.format(adgr))"
   ]
  },
  {
   "cell_type": "markdown",
   "metadata": {},
   "source": [
    "### Future dividend estimate\n",
    "Using the average dividend growth rate calculated above, a series of estimated future dividend payments are generated. "
   ]
  },
  {
   "cell_type": "code",
   "execution_count": 65,
   "metadata": {},
   "outputs": [],
   "source": [
    "fdp = np.zeros(len(dps)) # future dividend payments\n",
    "fdp[0] = dps[-1]\n",
    "for i in range(len(dps[0:-1])):\n",
    "    fdp[i+1] = fdp[i]+fdp[i]*adgr/100"
   ]
  },
  {
   "cell_type": "markdown",
   "metadata": {},
   "source": [
    "### Net Present Value (NPV) calculation\n",
    "Using the series of estimated future dividend payments and including the stock purchase price and the final sale price, the NPV is calculated using the discount rate. In the case when all future cash flows are positive, the only outflow of cash is the purchase price, the NPV is simply the PV of future cash flows minus the purchase price.\n",
    "\n",
    "As seen elsewhere in this report, the company's stock price is not growing with revenues or earnings. I would expect that over the long term, the share price would rise as investors see the value in the company. For the NPV analysis presented here, I will assume that the final stock price is equal to the current stock price and this amount is added to the final dividend payment.  "
   ]
  },
  {
   "cell_type": "code",
   "execution_count": 66,
   "metadata": {},
   "outputs": [
    {
     "name": "stdout",
     "output_type": "stream",
     "text": [
      "current stock price: $121.92\n",
      "final stock price: $121.92\n"
     ]
    }
   ],
   "source": [
    "#csp = 23.81 # current stock price, $\n",
    "print('current stock price: ${:,.2f}'.format(csp))\n",
    "\n",
    "fsp = csp # final stock price, $\n",
    "print('final stock price: ${:,.2f}'.format(fsp))"
   ]
  },
  {
   "cell_type": "code",
   "execution_count": 67,
   "metadata": {},
   "outputs": [],
   "source": [
    "est_cf = np.copy(fdp) # make a copy of the estimated cash flow\n",
    "\n",
    "# cash flows, initial purchase, dividend payments and final sale\n",
    "est_cf[0] = est_cf[0] - csp # subtract purchase price from the first dividend payment\n",
    "est_cf[-1] = est_cf[-1] + fsp # include the sale price with the final dividend payment"
   ]
  },
  {
   "cell_type": "markdown",
   "metadata": {},
   "source": [
    "The discount rate used in the NPV calculation is the rate of return that I would currently expect a safe investment such as an investment grade corporate bond. This can be the current rate or an estimated future rate.  "
   ]
  },
  {
   "cell_type": "code",
   "execution_count": 68,
   "metadata": {},
   "outputs": [
    {
     "name": "stdout",
     "output_type": "stream",
     "text": [
      "net present value of cash flows: $20.01\n"
     ]
    }
   ],
   "source": [
    "dr = 3/100 # discount rate\n",
    "print('net present value of cash flows: ${:.2f}'.format(np.npv(dr, est_cf)))"
   ]
  },
  {
   "cell_type": "markdown",
   "metadata": {},
   "source": [
    "Since the NPV is greater than zero, this would indicate that the stock and future dividends is trading below the fair price."
   ]
  },
  {
   "cell_type": "markdown",
   "metadata": {},
   "source": [
    "### Internal Rate of Return (IRR) calculations\n",
    "The internal rate of return (IRR) is the discount rate that makes the net present value (NPV) of all cash flows equal to zero in a discounted cash flow analysis. Generally speaking, the higher an internal rate of return, the more desirable an investment is to undertake.\n",
    "\n",
    "As explained above, the stock price has not changed by much over the years, even though the revenue and dividends have been increasing. The final stock price is set equal to the current price."
   ]
  },
  {
   "cell_type": "code",
   "execution_count": 69,
   "metadata": {},
   "outputs": [
    {
     "name": "stdout",
     "output_type": "stream",
     "text": [
      "IRR: 4.93%\n"
     ]
    }
   ],
   "source": [
    "print('IRR: {:.2f}%'.format(np.irr(est_cf)*100))"
   ]
  },
  {
   "cell_type": "markdown",
   "metadata": {},
   "source": [
    "According to global investment bank Goldman Sachs, 10-year stock market returns have averaged 9.2% over the past 140 years. and according to [10-Year Annualized Rolling Returns](https://static.fmgsuite.com/media/documents/bc618705-6161-4c00-be7f-c667c90c61b5.pdf), the long term average is about 10%. However there are many years where the rolling 10 year average return is below 4%.\n",
    "\n",
    "The calculated IRR is about half the long term S&P average rate of return, but significantly higher than current interest rates.  "
   ]
  },
  {
   "cell_type": "markdown",
   "metadata": {},
   "source": [
    "### The Gordon Growth Model\n",
    "The Gordon growth model can be used to value a firm that is in 'steady state' with dividends growing at a rate that can be sustained forever. Using a more conservative dividend growth rate, the value of the stock is calculated. "
   ]
  },
  {
   "cell_type": "code",
   "execution_count": 70,
   "metadata": {},
   "outputs": [
    {
     "name": "stdout",
     "output_type": "stream",
     "text": [
      "value of the stock: $219.22\n"
     ]
    }
   ],
   "source": [
    "# The Gordon Growth Model\n",
    "ke = 4/100 # Required rate of return for equity investors\n",
    "g = 2/100 # Growth rate in dividends forever\n",
    "DPS1 = dps[-1] + dps[-1]*g # Expected Dividends one year from now (next period)\n",
    "print('value of the stock: ${:.2f}'.format(DPS1/(ke-g)))"
   ]
  },
  {
   "cell_type": "markdown",
   "metadata": {},
   "source": [
    "**Observations:**  \n",
    "The Gordon growth model values the stock above the current price."
   ]
  },
  {
   "cell_type": "code",
   "execution_count": null,
   "metadata": {},
   "outputs": [],
   "source": []
  },
  {
   "cell_type": "markdown",
   "metadata": {},
   "source": [
    "## 9) Value analysis  <a id=\"section9\"></a>\n",
    "The following analysis follows the Warren Buffett strategy as outlined in [3].  This strategy is essentially value investing where companies are chosen that meet a set of criteria and who's stock price is below the intrinsic value plus a margin of safety.  These investments are usually held for the long term.  \n",
    "\n",
    "Outline:   \n",
    "- [Business metrics](#section9-1)\n",
    " - simple and understandable\n",
    " - favorable long term prospects\n",
    "- [Management metrics](#section9-2)\n",
    " - consistent operating history\n",
    " - candor\n",
    " - rationality: focus on core aspects, only invest in high ROE businesses, focus on shareholder equity\n",
    "- [Financial metrics](#section9-3)\n",
    " - Dividend yield  \n",
    " - Payout ratio  \n",
    " - Return on equity  \n",
    " - Return on Assets  \n",
    " - Debt to equity  \n",
    " - Profit Margin  \n",
    " - Safety margin \n",
    " - One dollar premise\n",
    "- [Market metrics](#section9-4)\n",
    " - The price is determined by the market. The value is determined by the analyst.\n",
    " - What is the value of the business?\n",
    " - Can the business be purchased at a discount to it's value?"
   ]
  },
  {
   "cell_type": "code",
   "execution_count": null,
   "metadata": {},
   "outputs": [],
   "source": []
  },
  {
   "cell_type": "markdown",
   "metadata": {},
   "source": [
    "### Business metrics <a id=\"section9-1\"></a>\n",
    "\n",
    "**Simple and understandable**  \n",
    "The company is a REIT that invests in shopping centers. Collecting rent is a simple and understandable concept.  \n",
    "\n",
    "The stated primary business objective is to own, manage, acquire and redevelop a portfolio of high quality retail focused properties that will:\n",
    "- provide increasing cash flow for distribution to shareholders;\n",
    "- generate higher internal growth than the shopping center industry over the long term;\n",
    "- provide potential for capital appreciation; and\n",
    "- protect investor capital.\n",
    "\n",
    "**Favorable long term prospects**  \n",
    "Starting on page 8 of the 2020 annual report, various risks are discussed. Shopping malls have struggled for years with the rise of Amazon and many other e-commerce platforms. On average, the U.S. shopping mall management industry declined 4.4% between 2016 and 2021, according to data from IBISWorld, a market research company.\n",
    "\n",
    "Also see the video [Why U.S. Malls Are Disappearing](https://www.youtube.com/watch?v=C_JiP-j2FwM).\n",
    "\n",
    "Our net income depends on the success and continued presence of our “anchor” tenants.\n",
    "\n",
    "A shift in retail shopping from brick and mortar stores to online shopping may have an adverse impact on our cash flow, financial condition and results of operations.\n",
    "\n",
    "**Commodity Reliance**  \n",
    "The company's economic moat is in the type of properties owned. \n",
    "\n",
    "### Management metrics <a id=\"section9-2\"></a>\n",
    "\n",
    "**Consistent operating history**  \n",
    "This company is primarily a dividend generating company and the dividends have been steadily growing over the years.  Debt and shares outstanding have remained at reasonable levels. \n",
    "\n",
    "**Candor**  \n",
    "Not examined.\n",
    "\n",
    "**Rationality**  \n",
    "Not examined.\n",
    "\n",
    "\n",
    "Back to [**Contents**](#section0)  \n"
   ]
  },
  {
   "cell_type": "code",
   "execution_count": null,
   "metadata": {},
   "outputs": [],
   "source": []
  },
  {
   "cell_type": "markdown",
   "metadata": {},
   "source": [
    "### Financial metrics <a id=\"section9-3\"></a>\n",
    "The following financial metrics are looked at over the evaluation period.  \n",
    "- Dividend yield  \n",
    "- Payout ratio  \n",
    "- Return on equity  \n",
    "- Return on Assets  \n",
    "- Debt to equity  \n",
    "- Profit Margin  \n",
    "- Safety margin \n",
    "- One dollar premise"
   ]
  },
  {
   "cell_type": "markdown",
   "metadata": {},
   "source": [
    "**Dividend yield**  \n",
    "Plot the dividend yield history over the evaluation period."
   ]
  },
  {
   "cell_type": "code",
   "execution_count": 71,
   "metadata": {},
   "outputs": [
    {
     "data": {
      "image/png": "[encoded data removed]",
      "text/plain": [
       "<Figure size 432x288 with 1 Axes>"
      ]
     },
     "metadata": {
      "needs_background": "light"
     },
     "output_type": "display_data"
    }
   ],
   "source": [
    "# Set the locator\n",
    "locator = mdates.YearLocator()  # every year\n",
    "fmt = mdates.DateFormatter('%Y')\n",
    "\n",
    "width = 50  # the width of the bars\n",
    "plt.bar(year_ended_list,(dps/fy_high-dps/fy_low)*100, width,bottom=dps/fy_low*100,label='yield')\n",
    "X = plt.gca().xaxis\n",
    "X.set_major_locator(locator)\n",
    "# Specify formatter\n",
    "X.set_major_formatter(fmt)\n",
    "plt.gcf().autofmt_xdate()\n",
    "\n",
    "plt.ylim((2,7))\n",
    "plt.title('Range of dividend yield each year')\n",
    "plt.ylabel('dividend yield, %')\n",
    "#plt.legend()\n",
    "plt.grid()\n",
    "\n",
    "# show plot\n",
    "plt.show()"
   ]
  },
  {
   "cell_type": "markdown",
   "metadata": {},
   "source": [
    "The dividend yield has varied over the evaluation period.  IN 2020 the stock price has fallen and the yields have risen on account of this. Historically between 2 and 4 percent dividend yield has been observed. "
   ]
  },
  {
   "cell_type": "markdown",
   "metadata": {},
   "source": [
    "**Payout ratio**  \n",
    "The payout ratio is plotted using net income and free cash flow (Net cash provided by operating activities)."
   ]
  },
  {
   "cell_type": "code",
   "execution_count": 72,
   "metadata": {},
   "outputs": [],
   "source": [
    "#line 0: Net income\n",
    "net_income = df_metrics.iloc[1].to_numpy()[1:].astype('float')[::-1]\n",
    "# line 3: Free cash flow, Net cash provided by operating activities \n",
    "free_cash_flow =  df_metrics.iloc[4].to_numpy()[1:].astype('float')[::-1]\n",
    "# line 4: Dividends\n",
    "dividends =  df_metrics.iloc[5].to_numpy()[1:].astype('float')[::-1]"
   ]
  },
  {
   "cell_type": "code",
   "execution_count": 73,
   "metadata": {},
   "outputs": [
    {
     "data": {
      "image/png": "[encoded data removed]",
      "text/plain": [
       "<Figure size 432x288 with 1 Axes>"
      ]
     },
     "metadata": {
      "needs_background": "light"
     },
     "output_type": "display_data"
    }
   ],
   "source": [
    "# Set the locator\n",
    "locator = mdates.YearLocator()  # every year\n",
    "fmt = mdates.DateFormatter('%Y')\n",
    "\n",
    "fig, ax1 = plt.subplots()\n",
    "ax1.set_ylabel('Payout ratio')\n",
    "\n",
    "ax1.plot(year_ended_list,dividends/net_income, '-+',label='Payout ratio using net income')\n",
    "ax1.plot(year_ended_list,dividends/free_cash_flow, '-*',label='Payout ratio using cash flow')\n",
    "\n",
    "ax1.tick_params(axis='y')\n",
    "ax1.set_ylim((0,5))\n",
    "ax1.legend()\n",
    "plt.grid()\n",
    "\n",
    "X = plt.gca().xaxis\n",
    "X.set_major_locator(locator)\n",
    "# Specify formatter\n",
    "X.set_major_formatter(fmt)\n",
    "plt.gcf().autofmt_xdate()\n",
    "\n",
    "plt.title('Payout ratio')\n",
    "plt.show()"
   ]
  },
  {
   "cell_type": "markdown",
   "metadata": {},
   "source": [
    "As can bee seen in the plot, the payout ratio using cash flow is less than one and using net income is less than two except for 2020.  This metric is not that useful for a REIT because of the 90% payout requirement."
   ]
  },
  {
   "cell_type": "markdown",
   "metadata": {},
   "source": [
    "**Return on equity**  \n",
    "Sometimes return on equity (RoE) is referred to as stockholder's return on investment. It reveals the rate at which shareholders earn income on their shares. Buffett always looks at RoE to see whether a company has consistently performed well compared to other companies in the same industry. RoE is calculated as follows:\n",
    "\n",
    "$\\text{Return on Equity (RoE)} = \\frac {\\text{Net Income}} {\\text{Shareholder's Equity}}$\n",
    "\n",
    "Looking at the RoE in just the last year isn't enough. The investor should view the RoE from the past five to 10 years to analyze historical performance.\n",
    "\n",
    "$\\text{Shareholders’ Equity} = \\text{Total Assets} − \\text{Total Liabilities}$    \n",
    "\n",
    "For this company, this method of getting Shareholders’ Equity gives negative values.  On the Consolidated Balance Sheets, there is a line for Total stockholders’ equity, which is used."
   ]
  },
  {
   "cell_type": "code",
   "execution_count": 74,
   "metadata": {},
   "outputs": [],
   "source": [
    "# line 1: Shareholder equity\n",
    "shareholder_equity =  df_metrics.iloc[2].to_numpy()[1:].astype('float')[::-1]"
   ]
  },
  {
   "cell_type": "code",
   "execution_count": 75,
   "metadata": {},
   "outputs": [
    {
     "data": {
      "image/png": "[encoded data removed]",
      "text/plain": [
       "<Figure size 432x288 with 1 Axes>"
      ]
     },
     "metadata": {
      "needs_background": "light"
     },
     "output_type": "display_data"
    }
   ],
   "source": [
    "# Set the locator\n",
    "locator = mdates.YearLocator()  # every year\n",
    "fmt = mdates.DateFormatter('%Y')\n",
    "\n",
    "fig, ax1 = plt.subplots()\n",
    "ax1.set_ylabel('RoE %')\n",
    "\n",
    "ax1.plot(year_ended_list,net_income/shareholder_equity*100, '-+k')\n",
    "\n",
    "ax1.tick_params(axis='y')\n",
    "ax1.set_ylim((0,20))\n",
    "#ax1.legend()\n",
    "plt.grid()\n",
    "\n",
    "X = plt.gca().xaxis\n",
    "X.set_major_locator(locator)\n",
    "# Specify formatter\n",
    "X.set_major_formatter(fmt)\n",
    "plt.gcf().autofmt_xdate()\n",
    "\n",
    "plt.title('Return on equity')\n",
    "plt.show()"
   ]
  },
  {
   "cell_type": "markdown",
   "metadata": {},
   "source": [
    "**Observation**  \n",
    "The RoE has been about 12%, except for 2020. Reviewing the Fidelity report, the RoE is above industry average, except for 2020."
   ]
  },
  {
   "cell_type": "code",
   "execution_count": null,
   "metadata": {},
   "outputs": [],
   "source": []
  },
  {
   "cell_type": "markdown",
   "metadata": {},
   "source": [
    "**Return on Assets**   \n",
    "Return on assets is a profitability ratio that provides how much profit a company is able to generate from its assets. In other words, return on assets (RoA) measures how efficient a company's management is in generating earnings from their economic resources or assets on their balance sheet.\n",
    "\n",
    "$\\text{Return on assets (RoA)} = \\frac {\\text{Net Income}} {\\text{Average Total Assets}}$\n",
    "\n",
    "Calculating the RoA of a company can be helpful in comparing a company's profitability over multiple quarters and years as well as comparing to similar companies. However, it's important to compare companies of similar size and industry.\n",
    "\n",
    "For example, banks tend to have a large number of total assets on their books in the form of loans, cash, and investments. A large bank could easily have over \\\\$2 trillion in assets while putting up a net income that's similar to companies in other industries. Although the bank's net income or profit might be similar to an unrelated company and the bank might have high-quality assets, the bank's ROA will be lower. The larger number of total assets must be divided into the net income, creating a lower ROA for the bank.\n",
    "\n",
    "Similarly, auto manufacturing requires huge facilities and specialized equipment. A lucrative software company that sells downloadable programs online may generate the same net profits, but it could have a significantly higher ROA than its more asset-heavy counterparts. When utilizing this metric to compare productivity across businesses, it's important to take into account what types of assets are required to function in a given industry, rather than simply comparing the figures."
   ]
  },
  {
   "cell_type": "code",
   "execution_count": 76,
   "metadata": {},
   "outputs": [],
   "source": [
    "#line 6: Total assets\n",
    "total_assets = df_metrics.iloc[6].to_numpy()[1:].astype('float')[::-1]"
   ]
  },
  {
   "cell_type": "code",
   "execution_count": 77,
   "metadata": {},
   "outputs": [
    {
     "data": {
      "image/png": "[encoded data removed]",
      "text/plain": [
       "<Figure size 432x288 with 1 Axes>"
      ]
     },
     "metadata": {
      "needs_background": "light"
     },
     "output_type": "display_data"
    }
   ],
   "source": [
    "# Set the locator\n",
    "locator = mdates.YearLocator()  # every year\n",
    "fmt = mdates.DateFormatter('%Y')\n",
    "\n",
    "fig, ax1 = plt.subplots()\n",
    "ax1.set_ylabel('RoA, %')\n",
    "\n",
    "ax1.plot(year_ended_list,net_income/total_assets*100, '-+k')\n",
    "\n",
    "ax1.tick_params(axis='y')\n",
    "ax1.set_ylim((0,10))\n",
    "#ax1.legend()\n",
    "plt.grid()\n",
    "\n",
    "X = plt.gca().xaxis\n",
    "X.set_major_locator(locator)\n",
    "# Specify formatter\n",
    "X.set_major_formatter(fmt)\n",
    "plt.gcf().autofmt_xdate()\n",
    "\n",
    "plt.title('Return on assets')\n",
    "plt.show()"
   ]
  },
  {
   "cell_type": "markdown",
   "metadata": {},
   "source": [
    "**Observation:**  \n",
    "The RoA is about 4.5%, except for 2020. Reviewing the Fidelity report, the RoA is above industry average, except for 2020."
   ]
  },
  {
   "cell_type": "code",
   "execution_count": null,
   "metadata": {},
   "outputs": [],
   "source": []
  },
  {
   "cell_type": "markdown",
   "metadata": {},
   "source": [
    "**Debt to equity**   \n",
    "The debt to equity ratio (D/E) is another key characteristic Buffett considers carefully. Buffett prefers to see a small amount of debt so that earnings growth is being generated from shareholders' equity as opposed to borrowed money. The D/E ratio is calculated as follows:\n",
    "\n",
    "$\\text{Debt-to-Equity Ratio} = \\frac {\\text{Total Liabilities}} {\\text{Shareholders' Equity}}$\n",
    "\n",
    "This ratio shows the proportion of equity and debt the company uses to finance its assets, and the higher the ratio, the more debt—rather than equity—is financing the company. A high debt level compared to equity can result in volatile earnings and large interest expenses. For a more stringent test, investors sometimes use only long-term debt instead of total liabilities in the calculation above."
   ]
  },
  {
   "cell_type": "code",
   "execution_count": 78,
   "metadata": {},
   "outputs": [],
   "source": [
    "#line 2: Total liabilities\n",
    "total_liabilities = df_metrics.iloc[3].to_numpy()[1:].astype('float')[::-1]"
   ]
  },
  {
   "cell_type": "code",
   "execution_count": 79,
   "metadata": {},
   "outputs": [
    {
     "data": {
      "image/png": "[encoded data removed]",
      "text/plain": [
       "<Figure size 432x288 with 1 Axes>"
      ]
     },
     "metadata": {
      "needs_background": "light"
     },
     "output_type": "display_data"
    }
   ],
   "source": [
    "# Set the locator\n",
    "locator = mdates.YearLocator()  # every year\n",
    "fmt = mdates.DateFormatter('%Y')\n",
    "\n",
    "fig, ax1 = plt.subplots()\n",
    "ax1.set_ylabel('D/E')\n",
    "\n",
    "#ax1.plot(year_ended_list,dividends/net_income, '-+',label='Payout ratio using net income')\n",
    "ax1.plot(year_ended_list,total_liabilities/shareholder_equity, '-*',label='D/E')\n",
    "\n",
    "ax1.tick_params(axis='y')\n",
    "ax1.set_ylim((0,3.0))\n",
    "ax1.legend()\n",
    "plt.grid()\n",
    "\n",
    "X = plt.gca().xaxis\n",
    "X.set_major_locator(locator)\n",
    "# Specify formatter\n",
    "X.set_major_formatter(fmt)\n",
    "plt.gcf().autofmt_xdate()\n",
    "\n",
    "plt.title('D/E')\n",
    "plt.show()"
   ]
  },
  {
   "cell_type": "markdown",
   "metadata": {},
   "source": [
    "**Observation:**  \n",
    "D/E is below 2 and has been falling every year from 2013 to 2019.  Reviewing the Fidelity report, the D/E is above industry average."
   ]
  },
  {
   "cell_type": "code",
   "execution_count": null,
   "metadata": {},
   "outputs": [],
   "source": []
  },
  {
   "cell_type": "markdown",
   "metadata": {},
   "source": [
    "**Profit Margin**  \n",
    "A company's profitability depends not only on having a good profit margin, but also on consistently increasing it. This margin is calculated by dividing net income by net sales. For a good indication of historical profit margins, investors should look back at least five years. A high-profit margin indicates the company is executing its business well, but increasing margins mean management has been extremely efficient and successful at controlling expenses.\n",
    "\n",
    "$\\text{Profit margin} = \\frac {\\text{net income}} {\\text{net sales}}$\n"
   ]
  },
  {
   "cell_type": "code",
   "execution_count": 80,
   "metadata": {},
   "outputs": [],
   "source": [
    "#line 0: Total revenue\n",
    "total_revenue = df_metrics.iloc[0].to_numpy()[1:].astype('float')[::-1]"
   ]
  },
  {
   "cell_type": "code",
   "execution_count": 81,
   "metadata": {},
   "outputs": [
    {
     "data": {
      "image/png": "[encoded data removed]",
      "text/plain": [
       "<Figure size 432x288 with 1 Axes>"
      ]
     },
     "metadata": {
      "needs_background": "light"
     },
     "output_type": "display_data"
    }
   ],
   "source": [
    "# Set the locator\n",
    "locator = mdates.YearLocator()  # every year\n",
    "fmt = mdates.DateFormatter('%Y')\n",
    "\n",
    "fig, ax1 = plt.subplots()\n",
    "ax1.set_ylabel('Profit margin %')\n",
    "\n",
    "ax1.plot(year_ended_list,net_income/total_revenue*100, '-+k')\n",
    "\n",
    "ax1.tick_params(axis='y')\n",
    "ax1.set_ylim((0,50))\n",
    "#ax1.legend()\n",
    "plt.grid()\n",
    "\n",
    "X = plt.gca().xaxis\n",
    "X.set_major_locator(locator)\n",
    "# Specify formatter\n",
    "X.set_major_formatter(fmt)\n",
    "plt.gcf().autofmt_xdate()\n",
    "\n",
    "plt.title('Profit margin')\n",
    "plt.show()"
   ]
  },
  {
   "cell_type": "markdown",
   "metadata": {},
   "source": [
    "**Observation:**  \n",
    "Over the years 2010 to 2019, the profit margin trend is increasing. Reviewing the Fidelity report, the profit margin is in line with the industry average."
   ]
  },
  {
   "cell_type": "markdown",
   "metadata": {},
   "source": [
    "**Safety margin**  \n",
    "A safety margin is the difference between the intrinsic stock value and the market price of the stock.  The margin accounts for uncertainty in the estimations and methods used in the analysis.  The safety margin doesn't alway have to be the same number and can vary from company to company."
   ]
  },
  {
   "cell_type": "code",
   "execution_count": null,
   "metadata": {},
   "outputs": [],
   "source": []
  },
  {
   "cell_type": "markdown",
   "metadata": {},
   "source": [
    "**One dollar premise**  \n",
    "This is a financial test that shows the strength of the business and how well management has rationality allocated to the company's business.\n",
    "\n",
    "From a company's income, subtract all dividends paid to shareholders.  What is left over is the company's retained earnings.  Now add the company's retained earnings over a 10 year period.  Next determine the difference between the company's current market value and its market value 10 years ago.  If the business has employed retained earnings unproductively over this ten year period, the market eventually catches up and will set a lower price on the business. "
   ]
  },
  {
   "cell_type": "code",
   "execution_count": 82,
   "metadata": {},
   "outputs": [
    {
     "name": "stdout",
     "output_type": "stream",
     "text": [
      "retained_earnings: $-0.36B\n"
     ]
    }
   ],
   "source": [
    "retained_earnings = net_income.sum() - dividends.sum()\n",
    "print('retained_earnings: ${:,.2f}B'.format(retained_earnings/1e9))"
   ]
  },
  {
   "cell_type": "markdown",
   "metadata": {},
   "source": [
    "This metric does not apply to a REIT."
   ]
  },
  {
   "cell_type": "code",
   "execution_count": 83,
   "metadata": {},
   "outputs": [
    {
     "name": "stdout",
     "output_type": "stream",
     "text": [
      "Current market value: $4.84B to $9.93B\n"
     ]
    }
   ],
   "source": [
    "# Current market value, share price multiplied by number of shares\n",
    "cmv_high = df_dcf_data['shares_outstanding'].iloc[-1]*fy_high[-1]\n",
    "cmv_low = df_dcf_data['shares_outstanding'].iloc[-1]*fy_low[-1]\n",
    "print('Current market value: ${:,.2f}B to ${:,.2f}B'.format(cmv_low/1e9,cmv_high/1e9))"
   ]
  },
  {
   "cell_type": "code",
   "execution_count": 84,
   "metadata": {},
   "outputs": [
    {
     "name": "stdout",
     "output_type": "stream",
     "text": [
      "Past market value: $4B to $5B\n"
     ]
    }
   ],
   "source": [
    "# Past market value, share price multiplied by number of shares\n",
    "pmv_high = df_dcf_data['shares_outstanding'].iloc[0]*fy_high[0]\n",
    "pmv_low = df_dcf_data['shares_outstanding'].iloc[0]*fy_low[0]\n",
    "print('Past market value: ${:,.0f}B to ${:,.0f}B'.format(pmv_low/1e9,pmv_high/1e9))"
   ]
  },
  {
   "cell_type": "code",
   "execution_count": 85,
   "metadata": {},
   "outputs": [
    {
     "name": "stdout",
     "output_type": "stream",
     "text": [
      "Difference in market value: $1B to $5B\n"
     ]
    }
   ],
   "source": [
    "print('Difference in market value: ${:,.0f}B to ${:,.0f}B'.format((cmv_low-pmv_low)/1e9,(cmv_high-pmv_high)/1e9))"
   ]
  },
  {
   "cell_type": "markdown",
   "metadata": {},
   "source": [
    "This different in market value is greater than the retained earnings."
   ]
  },
  {
   "cell_type": "markdown",
   "metadata": {},
   "source": [
    "**Plot share price vs EPS**  \n",
    "Looking at the one dollar premise in terms of share price and EPS.  \n",
    "\n",
    "The one dollar premise: one dollar of earning should translate into one dollar of market value - this seems the same as a plot of EPS versus share price."
   ]
  },
  {
   "cell_type": "raw",
   "metadata": {},
   "source": [
    "# plotting the eps data points\n",
    "plt.bar(EPS,fy_high-fy_low,width = .05,bottom=fy_low)\n",
    "plt.grid()\n",
    "plt.ylim((40,100))\n",
    "plt.ylabel('high and low share price range')\n",
    "plt.xlabel('EPS')\n",
    "plt.title('years from 2013 to 2020')\n",
    "plt.show()"
   ]
  },
  {
   "cell_type": "markdown",
   "metadata": {},
   "source": [
    "**Observations:**  \n",
    "The range in share price is roughly the same across the range of EPS.  This means that investors are not valuing the company's EPS."
   ]
  },
  {
   "cell_type": "code",
   "execution_count": 86,
   "metadata": {},
   "outputs": [
    {
     "data": {
      "image/png": "[encoded data removed]",
      "text/plain": [
       "<Figure size 432x288 with 1 Axes>"
      ]
     },
     "metadata": {
      "needs_background": "light"
     },
     "output_type": "display_data"
    }
   ],
   "source": [
    "# plotting the eps data points\n",
    "ax = plt.bar(EPS,fy_high-fy_low,width = .05,bottom=fy_low)\n",
    "plt.grid()\n",
    "plt.ylim((50,200))\n",
    "plt.ylabel('high and low share price range')\n",
    "plt.xlabel('EPS')\n",
    "plt.title('years from 2010 to 2020')\n",
    "\n",
    "rects = ax.patches\n",
    "\n",
    "# Make some labels.\n",
    "labels = [year_ended_list[i].strftime(\"%Y\") for i in range(len(year_ended_list))]\n",
    "for rect, label in zip(rects, labels):\n",
    "    y_top =  rect.get_y() + rect.get_height()\n",
    "    plt.text(rect.get_x(), y_top+1, label, rotation=90,va='bottom')    \n",
    "\n",
    "plt.show()"
   ]
  },
  {
   "cell_type": "raw",
   "metadata": {},
   "source": [
    "As can been seen in the plot above, the range of share prices for each year is somewhat independent of EPS.\n",
    "\n",
    "What does yearly stock price range vs (CFO or EBITDA or ?)/shares look like?"
   ]
  },
  {
   "cell_type": "markdown",
   "metadata": {},
   "source": [
    "### Market metrics <a id=\"section9-4\"></a>\n",
    "The share price is determined by the market. The value is determined by the analyst.\n",
    "\n",
    "The ISV has been estimated by various methods above and the range is from \\\\$63 to \\\\$95.  A 20% discount on this range is \\\\$50 to \\\\$76. As of 19 Sept, 2021, the stock price is \\\\$67.68, which is within this range.  "
   ]
  },
  {
   "cell_type": "code",
   "execution_count": null,
   "metadata": {},
   "outputs": [],
   "source": []
  },
  {
   "cell_type": "markdown",
   "metadata": {},
   "source": [
    "## 10) Peer analysis <a id=\"section10\"></a>\n",
    "See the Fidelity report, the company seems to be in the middle of its peers."
   ]
  },
  {
   "cell_type": "code",
   "execution_count": null,
   "metadata": {},
   "outputs": [],
   "source": []
  },
  {
   "cell_type": "markdown",
   "metadata": {},
   "source": [
    "## 11) Conclusion  <a id=\"section11\"></a>\n",
    "Conclusions from each of the sections    \n",
    "\n",
    "- Quick look:\n",
    " - Current news: A search for news on the internet did not discover anything of significance. The company’s fiscal year is the same as the calendar year, January to December. The company’s financial results for most of 2020 and 2021 are impacted by the pandemic.  With the wide availability of the vaccine, some segments of the economy are starting to open up in the fourth quarter of 2021, however inflation, vaccine hesitancy and labor shortages present indications that the economy is in transition.  \n",
    " - Review quarterly results: No surprises. Covide variants are ongoing. \n",
    " - Average daily volume: 462,839.  Doesn’t meet my 1M per day threshold, but I’m going to give it a pass since it’s a REIT and therefore smaller than large industrial companies. Realty Income Corporation, a well known REIT has an average daily volume of 4,831,218.\n",
    " - Dividend yield: 3.5%\n",
    " - Debt to equity ratio: 1.74\n",
    " - Dividend Payout Ratio: 2.46\n",
    "- NACI stock selection guide analysis: Share price is trading in an upward trend from 2010 to 2016, then reversed for the years 2017 to 2019. The effects of Covid-19 are in the 2020 financial results. Revenues are increasing a bit, except for 2020 and earnings are slowing increasing, except for 2020.\n",
    " - estimated price range in 5 years: 147.69 to 196.23 and the current stock price is \\\\$121.92, which implies that the stock has room to grow.\n",
    "- Discounted cash flow analysis, base line:\n",
    " - rev growth at 4.31%, debt increasing at 4.08%, shares increasing at 2.08% \n",
    " - intrinsic stock value: \\\\$165.72, the current stock price is \\\\$121.92, which means that it is in the value range.\n",
    "- DCF Scenarios: Adjusting the weighted average cost of capital to 8.0% to reflect possible higher interest and inflation in the future and changing the revenue growth rate to a modest 3.00%, the intrinsic value drops to $36.42.\n",
    "- Dividend Discount Model: The average dividend growth rate is 4.63%.\n",
    " - NPV: Using the current share price and an ending share price equal to the current price, the NPV is \\\\$20.01.\n",
    " - IIR: 4.93%.  \n",
    " - Gordon growth model: Using a rate of 4% for the rate of return for equity investors and a growth rate in dividends of 2%, the value of the stock is \\\\$219.22\n",
    "- Value analysis:\n",
    " - Return on equity: flat except for 2020\n",
    " - Return on Assets:  flat except for 2020\n",
    " - Debt to equity: D/E < 2, trending down except for 2020\n",
    " - Profit Margin: variable, trending sideways except for 2020\n",
    " - One dollar premise: no retained earning being a REIT, difference in market value: \\\\$1B to \\\\$5B\n",
    " - Plot share price vs EPS: flat\n",
    "- Peer analysis: See the Fidelity report, the company seems to be in the middle of its peers.\n",
    "\n",
    "Recommendation: Except for 2020, looks good.  Buy"
   ]
  },
  {
   "cell_type": "markdown",
   "metadata": {},
   "source": [
    "## 12) Notes  <a id=\"section12\"></a>\n",
    "The following notes outline the changes to the DCF model for financial and REIT companies.  \n",
    "\n",
    "**Valuing a REIT**  \n",
    "Notes from Valuepro Book, page 237  \n",
    "\n",
    "- NOPM: To calculate operating income take rental revenue and subtracted total real estate expenses and G&A expenses. To arrive at the NOPM divide the adjusted income from real estate by real estate rental revenue. For the REIT, take income from real estate, which includes depreciation and amortization, and subtract GSA. Exclude other income, gains on sale of real estate and interest expenses.\n",
    "- REIT has no traditional R&D costs\n",
    "\n",
    "REIT is not taxed at the corporate level, tax rate: should be near zero.\n",
    "\n",
    "Depreciation and capital expenditures are significantly higher for REITs than in other companies.\n",
    "\n",
    "New property acquisitions are not directly accounted for in the DCF model for a REIT.\n",
    "\n",
    "- Working capitol: accounts payable, rents and security deposits\n",
    " - Short term assets: cash, rents and other receivables and prepaid expenses\n",
    " - Short term liabilities: accounts payable, advance rents security deposits\n",
    " \n",
    "Working capital is almost zero, which is similar to other financial companies.\n",
    "\n",
    "The consolidated balance sheet lists the assets as: \n",
    "- Real estate held for investment, at cost:\n",
    " - Land\n",
    " - Buildings and improvements\n",
    " - Total real estate held for investment, at cost\n",
    " - Less accumulated depreciation and amortization\n",
    " - Real estate held for investment, net\n",
    "- Real estate and lease intangibles held for sale, net\n",
    "- Cash and cash equivalents <- current asset\n",
    "- Accounts receivable, net <- current asset\n",
    "- Lease intangible assets, net\n",
    "- Other assets, net\n",
    "\n",
    "The line items indicated above have been taken to be the current assets. Intangibles and long term items have been excluded.\n",
    "\n",
    "The consolidated balance sheet lists the liabilities as: \n",
    "- Distributions payable <- current liabilities\n",
    "- Accounts payable and accrued expenses <- current liabilities\n",
    "- Lease intangible liabilities, net\n",
    "- Other liabilities\n",
    "- Line of credit payable and commercial paper <- current liabilities\n",
    "- Term loans, net\n",
    "- Mortgages payable, net <- current liabilities\n",
    "- Notes payable, net\n",
    "\n",
    "The line items indicated above have been taken to be the current liabilities.\n",
    "\n",
    "**Valuing a financial company**  \n",
    "Notes from Valuepro Book, page 206  \n",
    "\n",
    "- Total revenue comes from the total interest and dividend income line on the income statement.  The calculation of operating income is more inclusive for a financial company than for an industrial or high tech company.  For financial companies, operating revenue includes all normal revenue items plus interest income, dividends received and other investment income.\n",
    "\n",
    "- Cost of Goods Sold (CGS) comes from the Total interest expense line on the statement of income. \n",
    "- General and Administrative (G&A) are set to zero since they are included in the interest expense line\n",
    "- A financial company has no traditional R&D costs\n",
    "\n",
    "- $\\text{Cost of Goods Sold (CGS)} = \\text{Total interest expense} + \\text{Total non-interest expense}$  \n",
    "- General and Administrative (G&A) are set to zero since they are included in the interest expense line\n",
    "- A financial company has no traditional R&D costs\n",
    "\n",
    "- Depreciation and amortization of premises and equipment from Consolidated Statements of Cash Flows.  \n",
    "- Amortization of other acquisition-related intangible assets is not included.\n",
    "\n",
    "- New investment and Depreciation: Property, plant and equipment expenditures and depreciation charges are significantly lower for a financial company.  A typical manufacturing company, in order to grow its business, invests a significant portion of its revenues in plant, property and equipment (PPE).  Financial companies invest very little in the way of PPE.  However, software, risk management systems and acquisitions of other businesses, need to be included.\n",
    "\n",
    "From the Consolidated Statements of Cash Flows, under Cash Flows from Investing Activities\n",
    "- Purchases of premises and equipment\n",
    "- Purchases of leased equipment, net\n",
    "\n",
    "- Working capital supports manufacturing and service activities of nonfinancial companies.  For financial companies, their principal liabilities  and assets are financial claims that take the place of working capital.  Because there is no differentiation between current and long term assets and liabilities for a financial company, we adjust working capital charges to zero.  A financial company generally invests all of its funds in other financial assets, which have characteristics of current assets rather than PP&E.  \n",
    "$\\text{Accounts Receivable} = 0$  \n",
    "$\\text{Inventories} = 0$  \n",
    "$\\text{Accounts Payable} = 0$  \n",
    "$\\text{working capital} = 0$ \n",
    "\n",
    "- Short term assets:  The balance sheets of most financial companies do not separate assets and liabilities into current and long term categories.  When calculating the short term assets take the total assets and subtract goodwill and intangible assets also subtract other assets of questionable value.  Subtract long term assets such as PP&E from total assets.  \n",
    "\n",
    "$\\text{Short term assets} = \\text{Total assets} - \\text{good will and others of questionable value} - \\text{Premises and equipment}$\n",
    "\n",
    "- A financial company's principal liabilities are deposits, Federal funds purchased, trading account liabilities, insurance policy and claims reserves, contract holder funds and short term borrowing.  To be consistent with the treatment of interest and an operating expense for financial companies, include long term debt in the short term liability category.  \n",
    "- Short term liabilities:  Include long term debt.  \n",
    "\n",
    "$\\text{Long term debt} = 0$\n",
    "\n",
    "This company was selected for analysis because it is on the Dividend Aristocrat list and passes the quick look tests.  This notebook will be used as a template when analyzing other companies.\n",
    "\n",
    "Dividend: Aristocrat, Achiever & Champion\n",
    "- Aristocrat: S&P 500 Dividend Aristocrats is designed to measure the performance of S&P 500 index constituents that have followed a policy of consistently increasing dividends every year for at least 25 consecutive years.\n",
    "- Achiever: The Broad Dividend Achievers Index. Eligible companies must be incorporated in the U.S. or its territories, trade on the NYSE, NASDAQ or AMEX, and have increased its annual regular dividend payments for the last 10 or more consecutive years.\n",
    " - https://dividendvaluebuilder.com/dividend-achievers-list/\n",
    " - https://www.marketbeat.com/dividends/achievers/\n",
    "- Champion: This list includes companies that had increased their dividend for at least 25 consecutive years, and includes additional companies that had paid higher dividends without having increased the payout in every calendar year.\n",
    " - https://dividendvaluebuilder.com/dividend-champions-list/\n",
    " - https://www.dividendgrowthinvestor.com/p/dividend-champions-list.html"
   ]
  },
  {
   "cell_type": "code",
   "execution_count": null,
   "metadata": {},
   "outputs": [],
   "source": []
  },
  {
   "cell_type": "markdown",
   "metadata": {},
   "source": [
    "## 13) References  <a id=\"section13\"></a>\n",
    "\n",
    "1. O'Hara, Thomas E., and Ken Janke. Starting and Running a Profitable Investment Club: the Official Guide from the National Association of Investors Corporation. Times Business, 1998. \n",
    "2. Gray, Gary, et al. Streetsmart Guide to Valuing a Stock: the Savvy Investors Key to Beating the Market. McGraw-Hill, 2004. \n",
    "3. Robert G. Hagstrom, The Warren Buffett Way, Wiley, 2013"
   ]
  },
  {
   "cell_type": "code",
   "execution_count": null,
   "metadata": {},
   "outputs": [],
   "source": []
  },
  {
   "cell_type": "markdown",
   "metadata": {},
   "source": [
    "## 14) Additional plots <a id=\"section14\"></a>\n",
    "\n",
    "### NAIC section 2: Evaluating management\n",
    "See page 86, figure 9-1.  \n",
    "- % pretax profit on sales, net before taxes/rev\n",
    "- % earned on equity (E/S divided by Book value), use equity"
   ]
  },
  {
   "cell_type": "code",
   "execution_count": 87,
   "metadata": {},
   "outputs": [
    {
     "data": {
      "image/png": "[encoded data removed]",
      "text/plain": [
       "<Figure size 432x288 with 1 Axes>"
      ]
     },
     "metadata": {
      "needs_background": "light"
     },
     "output_type": "display_data"
    }
   ],
   "source": [
    "# Set the locator\n",
    "locator = mdates.YearLocator()  # every year\n",
    "fmt = mdates.DateFormatter('%Y')\n",
    "\n",
    "fig, ax1 = plt.subplots()\n",
    "ax1.set_ylabel('percent')\n",
    "#ax1.plot(year_ended_list,net_income, '-+',label='net income')\n",
    "ax1.plot(year_ended_list,df_dcf_data['income_before_income_taxes']/df_dcf_data['revenue']*100, '-+',\n",
    "         label='income before taxes/rev')\n",
    "#ax1.plot(year_ended_list,df_dcf_data['revenue'], '-+',label='revenue')\n",
    "#ax1.plot(year_ended_list,free_cash_flow, '-*',label='free cash flow')\n",
    "\n",
    "ax1.tick_params(axis='y')\n",
    "ax1.set_ylim((0,75))\n",
    "ax1.legend()\n",
    "plt.grid()\n",
    "\n",
    "X = plt.gca().xaxis\n",
    "X.set_major_locator(locator)\n",
    "# Specify formatter\n",
    "X.set_major_formatter(fmt)\n",
    "plt.gcf().autofmt_xdate()\n",
    "\n",
    "plt.title('% pretax profit on sales')\n",
    "plt.show()"
   ]
  },
  {
   "cell_type": "markdown",
   "metadata": {},
   "source": [
    "Over the years 2010 to 2018, pretax profit on sales has a downward trend.  \n",
    "\n",
    "In 20219 there was a gain on sale of real estate, net of tax, of \\\\$116,393k. The \\\\$116.4 million gain on sale of real estate, net for the year ended December 31 2019 is primarily due to the following:\n",
    "- \\\\$85.1 million related to the sale under the threat of condemnation of 11.7 acres of San Antonio Center,\n",
    "- \\\\$28.3 million related to the sale of three properties and one land parcel,\n",
    "- \\\\$2.6 million net gain related to condominium unit sales that have closed at our Assembly Row and Pike & Rose properties."
   ]
  },
  {
   "cell_type": "code",
   "execution_count": 88,
   "metadata": {},
   "outputs": [],
   "source": [
    "# line 1: Shareholder equity\n",
    "shareholder_equity =  df_metrics.iloc[2].to_numpy()[1:].astype('float')[::-1]"
   ]
  },
  {
   "cell_type": "code",
   "execution_count": 89,
   "metadata": {},
   "outputs": [
    {
     "data": {
      "image/png": "[encoded data removed]",
      "text/plain": [
       "<Figure size 432x288 with 1 Axes>"
      ]
     },
     "metadata": {
      "needs_background": "light"
     },
     "output_type": "display_data"
    }
   ],
   "source": [
    "# Set the locator\n",
    "locator = mdates.YearLocator()  # every year\n",
    "fmt = mdates.DateFormatter('%Y')\n",
    "\n",
    "fig, ax1 = plt.subplots()\n",
    "ax1.set_ylabel('RoE %')\n",
    "\n",
    "ax1.plot(year_ended_list,shareholder_equity/df_dcf_data['revenue']*100, '-+k',\n",
    "        label='shareholder equity/rev')\n",
    "\n",
    "ax1.tick_params(axis='y')\n",
    "#ax1.set_ylim((0,20))\n",
    "ax1.legend()\n",
    "plt.grid()\n",
    "\n",
    "X = plt.gca().xaxis\n",
    "X.set_major_locator(locator)\n",
    "# Specify formatter\n",
    "X.set_major_formatter(fmt)\n",
    "plt.gcf().autofmt_xdate()\n",
    "\n",
    "plt.title('% earned on equity')\n",
    "plt.show()"
   ]
  },
  {
   "cell_type": "markdown",
   "metadata": {},
   "source": [
    "Percent earned on equity has been increasing over the evaluation period.  "
   ]
  },
  {
   "cell_type": "markdown",
   "metadata": {},
   "source": [
    "### NAIC section 3: 5 year estimated EPS, preferred method\n",
    "See page 87 and figure 10-1, Need the following data:  \n",
    "- estimate sales in 5 years based on sales growth\n",
    "- NOPM\n",
    "- Tax rate\n",
    "- shares outstanding  \n",
    "\n",
    "To get future EPS\n",
    "\n",
    "#### Revenue and least square fit"
   ]
  },
  {
   "cell_type": "code",
   "execution_count": 90,
   "metadata": {},
   "outputs": [
    {
     "name": "stdout",
     "output_type": "stream",
     "text": [
      "revenue slope: 40.76\n"
     ]
    }
   ],
   "source": [
    "# get linear fit for eps\n",
    "y = df_dcf_data['revenue']/1e6\n",
    "x = np.arange(len(y))\n",
    "A = np.vstack([x, np.ones(len(x))]).T\n",
    "m, c = np.linalg.lstsq(A, y, rcond=None)[0]\n",
    "print('revenue slope: {:.2f}'.format(m))\n",
    "\n",
    "lstsq_fit = m*x + c  # data points for each year"
   ]
  },
  {
   "cell_type": "code",
   "execution_count": 91,
   "metadata": {},
   "outputs": [
    {
     "data": {
      "image/png": "[encoded data removed]",
      "text/plain": [
       "<Figure size 432x288 with 1 Axes>"
      ]
     },
     "metadata": {
      "needs_background": "light"
     },
     "output_type": "display_data"
    }
   ],
   "source": [
    "# Set the locator\n",
    "locator = mdates.YearLocator()  # every year\n",
    "fmt = mdates.DateFormatter('%Y')\n",
    "\n",
    "fig, ax1 = plt.subplots()\n",
    "ax1.set_ylabel('dollars, $M')\n",
    "\n",
    "ax1.plot(year_ended_list,df_dcf_data['revenue']/1e6, 'o',label='revenue')\n",
    "ax1.plot(year_ended_list,lstsq_fit, '-',label='least squares fit')\n",
    "\n",
    "ax1.tick_params(axis='y')\n",
    "#ax1.set_ylim((0,4))\n",
    "ax1.legend()\n",
    "plt.grid()\n",
    "\n",
    "X = plt.gca().xaxis\n",
    "X.set_major_locator(locator)\n",
    "# Specify formatter\n",
    "X.set_major_formatter(fmt)\n",
    "plt.gcf().autofmt_xdate()\n",
    "\n",
    "plt.title('Revenue and least squares fit')\n",
    "plt.show()"
   ]
  },
  {
   "cell_type": "markdown",
   "metadata": {},
   "source": [
    "Using the equation for the best fit line, find the y value for the eps point at five years in the future."
   ]
  },
  {
   "cell_type": "code",
   "execution_count": 92,
   "metadata": {},
   "outputs": [
    {
     "name": "stdout",
     "output_type": "stream",
     "text": [
      "estimated rev in 5 years: $1145.2M\n"
     ]
    }
   ],
   "source": [
    "# estimated revenue in 5 years\n",
    "rev_5yr_est = m*(x[-1]+5) + c\n",
    "print('estimated rev in 5 years: ${:.1f}M'.format(rev_5yr_est))"
   ]
  },
  {
   "cell_type": "code",
   "execution_count": 93,
   "metadata": {},
   "outputs": [
    {
     "name": "stdout",
     "output_type": "stream",
     "text": [
      "using preferred method: estimated eps in 5 years: $9.61\n"
     ]
    }
   ],
   "source": [
    "#pm_eps_5yr_est = rev_5yr_est*nopm_avg*tax_rate_avg*1e6/df_dcf_data['shares_outstanding'].iloc[-1] \n",
    "pm_eps_5yr_est = rev_5yr_est*nopm_avg*1e6/df_dcf_data['shares_outstanding'].iloc[-1] \n",
    "print('using preferred method: estimated eps in 5 years: ${:.2f}'.format(pm_eps_5yr_est))"
   ]
  },
  {
   "cell_type": "code",
   "execution_count": 94,
   "metadata": {},
   "outputs": [
    {
     "name": "stdout",
     "output_type": "stream",
     "text": [
      "using historical eps trend: estimated eps in 5 years: $4.13\n"
     ]
    }
   ],
   "source": [
    "print('using historical eps trend: estimated eps in 5 years: ${:.2f}'.format(eps_5yr_est))"
   ]
  },
  {
   "cell_type": "code",
   "execution_count": null,
   "metadata": {},
   "outputs": [],
   "source": []
  },
  {
   "cell_type": "markdown",
   "metadata": {},
   "source": [
    "### NOP and net income\n",
    "Comparing NOP with net income.  These should have the same trend."
   ]
  },
  {
   "cell_type": "code",
   "execution_count": 95,
   "metadata": {},
   "outputs": [],
   "source": [
    "#line 0: Net income\n",
    "net_income = df_metrics.iloc[1].to_numpy()[1:].astype('float')[::-1]\n",
    "# line 3: Free cash flow, Net cash provided by operating activities \n",
    "free_cash_flow =  df_metrics.iloc[4].to_numpy()[1:].astype('float')[::-1]\n",
    "# line 4: Dividends\n",
    "dividends =  df_metrics.iloc[5].to_numpy()[1:].astype('float')[::-1]\n",
    "\n",
    "# NOP = (Revenue - Expenses)\n",
    "nop = (df_dcf_data['revenue'].to_numpy() - \\\n",
    "    (df_dcf_data['cost_of_goods_sold'].to_numpy() + \\\n",
    "    df_dcf_data['general_and_administrative'].to_numpy() + \\\n",
    "    df_dcf_data['research_and_development'].to_numpy()) )"
   ]
  },
  {
   "cell_type": "code",
   "execution_count": 96,
   "metadata": {},
   "outputs": [
    {
     "data": {
      "image/png": "[encoded data removed]",
      "text/plain": [
       "<Figure size 432x288 with 1 Axes>"
      ]
     },
     "metadata": {
      "needs_background": "light"
     },
     "output_type": "display_data"
    }
   ],
   "source": [
    "# Set the locator\n",
    "locator = mdates.YearLocator()  # every year\n",
    "fmt = mdates.DateFormatter('%Y')\n",
    "\n",
    "fig, ax1 = plt.subplots()\n",
    "ax1.set_ylabel('dollars, $M')\n",
    "\n",
    "#ax1.plot(year_ended_list,EBITDA/1e6, '-+',label='EBITDA')\n",
    "ax1.plot(year_ended_list,net_income/1e6, '-+',label='net income')\n",
    "\n",
    "ax1.plot(year_ended_list,nop/1e6, '-+',label='NOP')\n",
    "#ax1.plot(year_ended_list,investment/1e6, '-+',label='investment')\n",
    "\n",
    "ax1.tick_params(axis='y')\n",
    "#ax1.set_ylim((0,600))\n",
    "ax1.legend()\n",
    "plt.grid()\n",
    "\n",
    "X = plt.gca().xaxis\n",
    "X.set_major_locator(locator)\n",
    "# Specify formatter\n",
    "X.set_major_formatter(fmt)\n",
    "plt.gcf().autofmt_xdate()\n",
    "\n",
    "plt.title('NOP and net income')\n",
    "plt.show()"
   ]
  },
  {
   "cell_type": "markdown",
   "metadata": {},
   "source": [
    "NOP and net income were different in 2018 and 2019. The decrease in net income for 2018 was due to the loss of a partnership and the gain in 2019 was for the sale of properties."
   ]
  },
  {
   "cell_type": "markdown",
   "metadata": {},
   "source": [
    "### Debt and NOP\n",
    "Comparing D/E and LT debt/NOP.  D/E is the traditional way to look at a company's debt.  Some rules of thumb say that the D/E should not be above 2 or 3.  However the D/E company's typically vary by industry. The ratio of LT debt to NOP gives the number of years it would take the company to pay back debt from NOP, the lower the number the shorter amount of time."
   ]
  },
  {
   "cell_type": "code",
   "execution_count": 97,
   "metadata": {},
   "outputs": [
    {
     "data": {
      "image/png": "[encoded data removed]",
      "text/plain": [
       "<Figure size 432x288 with 1 Axes>"
      ]
     },
     "metadata": {
      "needs_background": "light"
     },
     "output_type": "display_data"
    }
   ],
   "source": [
    "# Set the locator\n",
    "locator = mdates.YearLocator()  # every year\n",
    "fmt = mdates.DateFormatter('%Y')\n",
    "\n",
    "fig, ax1 = plt.subplots()\n",
    "ax1.set_ylabel('ratio')\n",
    "\n",
    "ax1.plot(year_ended_list,df_dcf_data['long_term_debt']/nop, '-+',label='(LT debt)/NOP')\n",
    "#ax1.plot(year_ended_list,total_liabilities/nop, '-+',label='(total_liabilities)/NOP')\n",
    "ax1.plot(year_ended_list,total_liabilities/shareholder_equity, '-*',label='D/E')\n",
    "\n",
    "ax1.tick_params(axis='y')\n",
    "#ax1.set_ylim((-1,3))\n",
    "ax1.legend()\n",
    "plt.grid()\n",
    "\n",
    "X = plt.gca().xaxis\n",
    "X.set_major_locator(locator)\n",
    "# Specify formatter\n",
    "X.set_major_formatter(fmt)\n",
    "plt.gcf().autofmt_xdate()\n",
    "\n",
    "plt.title('Long term debt to earnings ratio')\n",
    "plt.show()"
   ]
  },
  {
   "cell_type": "markdown",
   "metadata": {},
   "source": [
    "In 2018 the ratio of LT debt to NOP started to increase, with a substantial jump in 2020.  This is because the company took financial measures against Covid effects on their tenants."
   ]
  },
  {
   "cell_type": "code",
   "execution_count": null,
   "metadata": {},
   "outputs": [],
   "source": []
  },
  {
   "cell_type": "markdown",
   "metadata": {},
   "source": [
    "### NOP/shares and EPS\n",
    "Plotting EPS and NOP/shares should show any differences in the trend.  "
   ]
  },
  {
   "cell_type": "code",
   "execution_count": 98,
   "metadata": {},
   "outputs": [],
   "source": [
    "#line 1: earnings per share\n",
    "EPS = df_NAIC_financials.iloc[1].to_numpy()[1:].astype('float')[::-1]"
   ]
  },
  {
   "cell_type": "code",
   "execution_count": 99,
   "metadata": {},
   "outputs": [
    {
     "data": {
      "image/png": "[encoded data removed]",
      "text/plain": [
       "<Figure size 432x288 with 1 Axes>"
      ]
     },
     "metadata": {
      "needs_background": "light"
     },
     "output_type": "display_data"
    }
   ],
   "source": [
    "# Set the locator\n",
    "locator = mdates.YearLocator()  # every year\n",
    "fmt = mdates.DateFormatter('%Y')\n",
    "\n",
    "fig, ax1 = plt.subplots()\n",
    "ax1.set_ylabel('dollars')\n",
    "\n",
    "ax1.plot(year_ended_list,nop/df_dcf_data['shares_outstanding'], '-+',label='NOP/shares')\n",
    "plt.plot(year_ended_list,EPS,'+-',label='EPS, $')\n",
    "\n",
    "ax1.tick_params(axis='y')\n",
    "#ax1.set_ylim((0,3))\n",
    "ax1.legend()\n",
    "plt.grid()\n",
    "\n",
    "X = plt.gca().xaxis\n",
    "X.set_major_locator(locator)\n",
    "# Specify formatter\n",
    "X.set_major_formatter(fmt)\n",
    "plt.gcf().autofmt_xdate()\n",
    "\n",
    "plt.title('NOP & Earnings per share')\n",
    "plt.show()"
   ]
  },
  {
   "cell_type": "markdown",
   "metadata": {},
   "source": [
    "The plot above shows that from 2010 to 2017, both NOP and EPS were increasing.  Then in 2018 the EPS fell by almost one dollar while the NOP/Shares increased. Loss from real estate partnerships increased to \\\\$3.4 million in 2018 compared to \\\\$0.4 million in 2017. This increase is due primarily to our share of losses related to the hotel joint ventures at Assembly Row (hotel opened in August 2018) and Pike & Rose (hotel opened in March 2018).\n",
    "\n",
    "### NAIC plot that includes NOP\n",
    "NOP & Earnings per share is plotted on the SSG NAIC chart."
   ]
  },
  {
   "cell_type": "code",
   "execution_count": 100,
   "metadata": {},
   "outputs": [
    {
     "data": {
      "image/png": "[encoded data removed]",
      "text/plain": [
       "<Figure size 1080x360 with 2 Axes>"
      ]
     },
     "metadata": {
      "needs_background": "light"
     },
     "output_type": "display_data"
    }
   ],
   "source": [
    "# Set the locator\n",
    "locator = mdates.YearLocator()  # every year\n",
    "fmt = mdates.DateFormatter('%Y')\n",
    "\n",
    "# figsize() function to adjust the size\n",
    "plt.subplots(figsize=(15, 5))\n",
    "\n",
    "# using subplot function and creating\n",
    "# plot one\n",
    "plt.subplot(1, 2, 1)\n",
    "width = 3  # the width of the bars\n",
    "#plt.bar(year_ended_list,fy_high-fy_low, width,bottom=fy_low,label='price')\n",
    "j = 0\n",
    "for i in year_ended_list:\n",
    "    color = 'green'\n",
    "    if fy_open[j] > fy_close[j]: color= 'red'\n",
    "    # high/low lines\n",
    "    plt.plot([i,i],[fy_low[j],fy_high[j]],color=color, linewidth=width)\n",
    "    # open marker\n",
    "    plt.plot([i,i-relativedelta(months=1)], [fy_open[j],fy_open[j]], color=color, linewidth=width)\n",
    "    # close marker\n",
    "    plt.plot([i,i+relativedelta(months=1)], [fy_close[j],fy_close[j]], color=color, linewidth=width)\n",
    "    j += 1\n",
    "\n",
    "X = plt.gca().xaxis\n",
    "X.set_major_locator(locator)\n",
    "# Specify formatter\n",
    "X.set_major_formatter(fmt)\n",
    "plt.gcf().autofmt_xdate()\n",
    "\n",
    "plt.ylim((50,200))\n",
    "plt.title('Yearly stock high and low price range')\n",
    "plt.ylabel('stock price, dollars')\n",
    "#plt.legend()\n",
    "plt.grid()\n",
    "\n",
    "# using subplot function and creating plot two\n",
    "plt.subplot(1, 2, 2)\n",
    "\n",
    "plt.plot(year_ended_list,revenue/1e9,'+-',label='revenue, $B')\n",
    "plt.plot(year_ended_list,EPS,'+-',label='EPS, $')\n",
    "plt.plot(year_ended_list,nop/df_dcf_data['shares_outstanding'], '-+',label='NOP/shares, $')\n",
    "\n",
    "X = plt.gca().xaxis\n",
    "X.set_major_locator(locator)\n",
    "# Specify formatter\n",
    "X.set_major_formatter(fmt)\n",
    "plt.gcf().autofmt_xdate()\n",
    "\n",
    "#plt.yscale('log')\n",
    "#plt.yticks([0.1,1,10,100,1000,10000],['0.1','1','10','100','1000','10000'])\n",
    "#plt.ylim((0.1,1000))\n",
    "plt.title('Revenue, EPS & NOP/shares')\n",
    "plt.ylabel('Revenue, EPS & NOP/shares, \\\\$ or \\\\$B')\n",
    "plt.legend()\n",
    "\n",
    "plt.grid()\n",
    "\n",
    "# space between the plots\n",
    "plt.tight_layout(4)\n",
    "\n",
    "# show plot\n",
    "plt.show()"
   ]
  },
  {
   "cell_type": "markdown",
   "metadata": {},
   "source": [
    "Revenue, EPS & NOP/shares are plotted on the right.  NOP/shares and EPS should have the same trend.  "
   ]
  },
  {
   "cell_type": "code",
   "execution_count": null,
   "metadata": {},
   "outputs": [],
   "source": []
  },
  {
   "cell_type": "markdown",
   "metadata": {},
   "source": [
    "### NOP/Dividends  \n",
    "Another way to look at dividend payout and the ability of the company to support dividend payments is to look at the ratio of NOP to dividends.  Ratio should be high and never below 1.  "
   ]
  },
  {
   "cell_type": "code",
   "execution_count": 101,
   "metadata": {},
   "outputs": [],
   "source": [
    "dividends = df_metrics.iloc[5].to_numpy()[1:].astype('float')[::-1]"
   ]
  },
  {
   "cell_type": "code",
   "execution_count": 102,
   "metadata": {},
   "outputs": [
    {
     "data": {
      "image/png": "[encoded data removed]",
      "text/plain": [
       "<Figure size 432x288 with 1 Axes>"
      ]
     },
     "metadata": {
      "needs_background": "light"
     },
     "output_type": "display_data"
    }
   ],
   "source": [
    "# Set the locator\n",
    "locator = mdates.YearLocator()  # every year\n",
    "fmt = mdates.DateFormatter('%Y')\n",
    "\n",
    "fig, ax1 = plt.subplots()\n",
    "ax1.set_ylabel('ratio')\n",
    "\n",
    "ax1.plot(year_ended_list,nop/dividends, '-+',label='NOP/dividends')\n",
    "\n",
    "ax1.tick_params(axis='y')\n",
    "ax1.set_ylim((0,3))\n",
    "ax1.legend()\n",
    "plt.grid()\n",
    "\n",
    "X = plt.gca().xaxis\n",
    "X.set_major_locator(locator)\n",
    "# Specify formatter\n",
    "X.set_major_formatter(fmt)\n",
    "plt.gcf().autofmt_xdate()\n",
    "\n",
    "plt.title('NOP per dividends')\n",
    "plt.show()"
   ]
  },
  {
   "cell_type": "markdown",
   "metadata": {},
   "source": [
    "The ratio of NOP per total dividends is shown above.  For most years NOP is two times the dividends, except for 2020."
   ]
  },
  {
   "cell_type": "code",
   "execution_count": null,
   "metadata": {},
   "outputs": [],
   "source": []
  }
 ],
 "metadata": {
  "kernelspec": {
   "display_name": "Python 3",
   "language": "python",
   "name": "python3"
  },
  "language_info": {
   "codemirror_mode": {
    "name": "ipython",
    "version": 3
   },
   "file_extension": ".py",
   "mimetype": "text/x-python",
   "name": "python",
   "nbconvert_exporter": "python",
   "pygments_lexer": "ipython3",
   "version": "3.7.3"
  }
 },
 "nbformat": 4,
 "nbformat_minor": 2
}
