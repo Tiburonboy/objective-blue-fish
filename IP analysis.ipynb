{
 "cells": [
  {
   "cell_type": "markdown",
   "metadata": {},
   "source": [
    "# International Paper Company (IP)\n",
    "Last update: 9 Oct 2021  \n",
    "\n",
    "Todo:\n",
    "- ~~read annual report~~\n",
    "- ~~research preferred stock~~\n",
    "- ~~research new investment for 2012, 15, and 16 were bigger years. Why?~~\n",
    "- ~~why is tax rate for 2013 and 2017 neg?~~\n",
    "- ~~review Current news~~\n",
    "- ~~review most reccient quarterly results~~\n",
    "- ~~Need to verify year price plot for NAIC~~\n",
    "- code up NAIC perfered method\n",
    "- ~~Think about adding OHLC for each year~~\n",
    "- ~~include preferred stock~~ none issued\n",
    "- ~~under Accounts payable, see if anything else should be included.~~\n",
    "- ~~need to fix some items in metrics section, look at excluding goodwill~~\n",
    "- ~~copy items from blog write up~~\n",
    "- ~~add comentary to blank observation sections.~~\n",
    "- ~~spell check~~\n",
    "- ~~update plots in the blog write up~~\n",
    "- backup files\n",
    "\n",
    "\n",
    "## Abstract\n",
    "This notebook was developed to use as a template to analyze dividend paying companies as potential investments. This company was selected for analysis because it is on the Dividend Aristocrat list and passes the quick look tests.  \n",
    "\n",
    "## Introduction\n",
    "[International Paper Company](https://www.internationalpaper.com/performance) operates as a paper and packaging company primarily in the United States, the Middle East, Europe, Africa, Pacific Rim, Asia, and the rest of the Americas. It operates through three segments: Industrial Packaging, Global Cellulose Fibers, and Printing Papers.\n",
    "\n",
    "Sector(s): Materials and Consumer Cyclical  \n",
    "Industry: Packaging & Containers  \n",
    "Earnings Date: Oct 27, 2021    \n",
    "Ex-Dividend Date: Aug 13, 2021  \n",
    "\n",
    "## Bottom line up front\n",
    "Follow the link to the [Conclusion](#section11).\n",
    "\n",
    "## Company description\n",
    "[The International Paper Company (NYSE: IP)](https://en.wikipedia.org/wiki/International_Paper) is an American pulp and paper company, the largest such company in the world. It has approximately 56,000 employees, and is headquartered in Memphis, Tennessee.\n",
    "\n",
    "**Revision history:**  \n",
    "- 10/9/2021: Copied from APD notebook\n",
    "- 10/16/2021: updating comments in this report \n",
    "\n",
    "## Analysis\n",
    "The following sections of this notebook contain the financial analysis for the company.  \n",
    "\n",
    "**Contents** <a id=\"section0\"></a>  \n",
    "\n",
    "1. [Quick look](#section1)\n",
    "2. [ValuePro](#section2)\n",
    "3. [Load financial statement data](#section3)\n",
    "4. [NACI stock selection guide analysis](#section4)\n",
    "5. [Format financial statements data](#section5)\n",
    "6. [Discounted cash flow analysis, baseline](#section6)\n",
    "7. [DCF Scenarios](#section7)\n",
    "8. [Dividend Discount Model](#section8)\n",
    "9. [Value analysis](#section9)\n",
    "10. [Peer analysis](#section10) \n",
    "11. [Conclusion](#section11)\n",
    "12. [Notes](#section12)\n",
    "13. [References](#section13)"
   ]
  },
  {
   "cell_type": "code",
   "execution_count": 1,
   "metadata": {},
   "outputs": [],
   "source": [
    "from datetime import datetime, timedelta\n",
    "from dateutil.relativedelta import relativedelta\n",
    "from dateutil.parser import parse\n",
    "import pandas as pd\n",
    "import numpy as np\n",
    "import matplotlib.pyplot as plt\n",
    "import matplotlib.dates as mdates\n",
    "from dateutil import parser\n",
    "import os\n",
    "from pandas.plotting import register_matplotlib_converters\n",
    "register_matplotlib_converters()"
   ]
  },
  {
   "cell_type": "markdown",
   "metadata": {},
   "source": [
    "## 1) Quick look <a id=\"section1\"></a>\n",
    "This section is completed first since the effort involved is much less compared to the other analysis sections in this notebook.  Some of the data looked at in this section is also available from the Fidelity company report.    \n",
    "\n",
    "**Current news**  \n",
    "Wed, October 13, 2021, International Paper Co (NYSE: IP) board of directors has approved a share repurchase program to acquire up to \\\\$2 billion of the company's common stock.  The company's board of directors also decreased the quarterly dividend by \\\\$0.05 per share or 9.8%, bringing the per-share dividend to \\\\$1.85 annually.\n",
    "\n",
    "The dividend is being decreased by 9.8% from \\\\$0.5125 to \\\\$0.4625 per share for the period October 1 - December 31, inclusive, on the company's common stock, par value \\\\$1.00. This dividend is payable on December 15, 2021, to record holders on November 15, 2021.\n",
    "\n",
    "**Review quarterly results**  \n",
    "Take a look at recent quarterly results to see if trends from the previous annual report are in line.\n",
    "\n",
    "TTM revenue (\\\\$21,341,000) is higher than for 2020 (\\\\$20,580,000), but lower than for 2019 (\\\\$22,376,000). Last 8 quarters show Gross Profit (Loss) trending down on the Fidelity Quarterly Income Statement page.  \n",
    "\n",
    "Given the two red flags in the quick look, I normally would have stop the analysis of the company and moved on to consider a different company.  However, in this case I pressed on with my full analysis.\n",
    "\n",
    "**Average daily volume**  \n",
    "The average daily volume in the stock market needs to be high enough to be liquid and should be over 1 million.  \n",
    "Average daily volume: 2,257,076 \n",
    "\n",
    "**Dividend yield**  \n",
    "Looking for a dividend yield between 2% to 6%."
   ]
  },
  {
   "cell_type": "code",
   "execution_count": 2,
   "metadata": {},
   "outputs": [
    {
     "name": "stdout",
     "output_type": "stream",
     "text": [
      "dividend yield: 3.8 %\n"
     ]
    }
   ],
   "source": [
    "# data from yahoo finance, on 9-26-2021\n",
    "share_price = 54.39\n",
    "dividend = 2.05 # Forward Dividend\n",
    "print('dividend yield: {:.1f} %'.format(dividend/share_price*100))"
   ]
  },
  {
   "cell_type": "markdown",
   "metadata": {},
   "source": [
    "**Debt to equity ratio**  \n",
    "The debt to equity ratio shows the proportion of equity and debt a company is using to finance its assets and signals the extent to which shareholder's equity can fulfill obligations to creditors, in the event of a business decline.\n",
    "\n",
    "The debt to equity ratio compares a company’s total liabilities to its shareholder equity and can be used to evaluate how much leverage a company is using. Higher-leverage ratios tend to indicate a company with higher risk to shareholders. However, the D/E ratio is difficult to compare across industry groups where ideal amounts of debt will vary. Investors will often modify the D/E ratio to focus on long-term debt only because the risks associated with long-term liabilities are different than short-term debt and payables.\n",
    "\n",
    "A good debt to equity ratio is around 1 to 1.5. However, the ideal debt to equity ratio will vary depending on the industry because some industries use more debt financing than others.\n",
    "\n",
    "The industries that have the highest D/E ratios include utilities and financial services (D/E typically of 8).  Other industries that have a relatively higher ratio are capital-intensive industries, such as the airline industry or large manufacturing companies, which utilize a high level of debt financing as a common practice."
   ]
  },
  {
   "cell_type": "code",
   "execution_count": 3,
   "metadata": {},
   "outputs": [
    {
     "name": "stdout",
     "output_type": "stream",
     "text": [
      "debt to equity ratio: 1.29\n"
     ]
    }
   ],
   "source": [
    "# data from yahoo finance, on 10-8-2021\n",
    "debt = 10156000 # Long term Debt\n",
    "equity = 7854000 # Stockholders' Equity\n",
    "print('debt to equity ratio: {:.2f}'.format(debt/equity))"
   ]
  },
  {
   "cell_type": "markdown",
   "metadata": {},
   "source": [
    "The Fidelity report gives the Total Debt to Equity: 108.5x\n",
    "\n",
    "A D/E less than 2 is acceptable."
   ]
  },
  {
   "cell_type": "markdown",
   "metadata": {},
   "source": [
    "**Dividend Payout Ratio Using Earnings**  \n",
    "The Dividend Payout Ratio (DPR) is the amount of dividends paid to shareholders in relation to the total amount of net income the company generates. In other words, the dividend payout ratio measures the percentage of net income that is distributed to shareholders in the form of dividends.\n",
    "\n",
    "$\\text{DPR} = \\frac {\\text{Total dividends}} {\\text{Net income}}$  \n",
    "\n",
    "The payout ratio is also useful for assessing a dividend's sustainability. Companies are extremely reluctant to cut dividends since it can drive the stock price down and reflect poorly on management's abilities. If a company's payout ratio is over 100%, it is returning more money to shareholders than it is earning and will probably be forced to lower the dividend or stop paying it altogether. That result is not inevitable, however.\n",
    "\n",
    "For financially strong companies in these industries, a good dividend payout ratio is less than 75% of their earnings. However, companies in fast-growing sectors or those with more volatile cash flows and weaker balance sheets need a lower dividend payout ratio. Ideally, it should be below 50%.\n"
   ]
  },
  {
   "cell_type": "code",
   "execution_count": 4,
   "metadata": {},
   "outputs": [
    {
     "name": "stdout",
     "output_type": "stream",
     "text": [
      "Dividend Payout Ratio Using Earnings: 1.67\n"
     ]
    }
   ],
   "source": [
    "dividend = 806000 # Common Stock Dividend Paid\n",
    "earnings = 482000 # Net income\n",
    "print('Dividend Payout Ratio Using Earnings: {:.2f}'.format(dividend/earnings))"
   ]
  },
  {
   "cell_type": "markdown",
   "metadata": {},
   "source": [
    "The net earnings for 2020 is less than half the net earnings for 2019.  This is why the payout ratio is above 1."
   ]
  },
  {
   "cell_type": "code",
   "execution_count": 5,
   "metadata": {},
   "outputs": [
    {
     "name": "stdout",
     "output_type": "stream",
     "text": [
      "Dividend Payout Ratio for 2019 Using Earnings: 0.65\n"
     ]
    }
   ],
   "source": [
    "dividend = 796000  # Common Stock Dividend Paid, 2019\n",
    "earnings = 1220000 # Net income, 2019\n",
    "print('Dividend Payout Ratio for 2019 Using Earnings: {:.2f}'.format(dividend/earnings))"
   ]
  },
  {
   "cell_type": "markdown",
   "metadata": {},
   "source": [
    "**Dividend Payout Ratio Using Cash Flow**  \n",
    "Free Cash Flow Payout is simply Annual Dividend divided by Free Cash Flow.\n",
    "\n",
    "$\\text{FCFP} = \\frac {\\text{Dividends}} {\\text{Free Cash Flow}}$  \n",
    "\n",
    "It should be 70% or less.\n",
    "\n",
    "https://seekingalpha.com/article/3148576-dividend-payout-vs-free-cash-flow-payout  \n",
    "https://www.dividend-growth-stocks.com/2007/10/dividend-stock-and-etfcef-holdings.html  \n",
    "https://dividendcultivator.com/2020/09/08/choose-your-dividend-payout-ratio-wisely-free-cash-flow-vs-income/  "
   ]
  },
  {
   "cell_type": "code",
   "execution_count": 6,
   "metadata": {},
   "outputs": [
    {
     "name": "stdout",
     "output_type": "stream",
     "text": [
      "Dividend Payout Ratio Using Cash Flow: 0.34\n"
     ]
    }
   ],
   "source": [
    "# Dividend Payout Ratio Using Cash Flow\n",
    "Cash_Flow = 2312000 # Cash, cash equivalents and restricted cash, end of year\n",
    "print('Dividend Payout Ratio Using Cash Flow: {:.2f}'.format(dividend/Cash_Flow))"
   ]
  },
  {
   "cell_type": "code",
   "execution_count": null,
   "metadata": {},
   "outputs": [],
   "source": []
  },
  {
   "cell_type": "markdown",
   "metadata": {},
   "source": [
    "## 2) ValuePro <a id=\"section1\"></a>\n",
    "[ValuePro](http://www.valuepro.net/index.shtml) is an online intrinsic value calculator based on the discounted free cash to the firm model.  The calculations follow the method described in [2].  The results are useful as a quick look, but I've sometimes found the inputs to the model to be very different from what I would use and the calculated intrinsic value is suspect.\n",
    "\n",
    "Online valuation for the company on 10/3/2021 was: \\\\$26.93  \n",
    "Share price is \\\\$54.39.  "
   ]
  },
  {
   "cell_type": "code",
   "execution_count": null,
   "metadata": {},
   "outputs": [],
   "source": []
  },
  {
   "cell_type": "markdown",
   "metadata": {},
   "source": [
    "## 3) Load financial statement data <a id=\"section3\"></a>\n",
    "Data from consolidated financial statements and annual reports was collected and entered into a spreadsheet. All numerical data is converted from thousands or millions of dollars to dollars.  The stock share price history was obtained from yahoo and is included as a tab in the spreadsheet.  Other tabs in the spreadsheet are various worksheets. "
   ]
  },
  {
   "cell_type": "code",
   "execution_count": 7,
   "metadata": {},
   "outputs": [],
   "source": [
    "ticker = 'IP' # company ticker symbol\n",
    "os.chdir('/home/jim/Documents/Dividend Investing/DCF data/')\n",
    "\n",
    "file_name = ticker+'_Financials.xlsx'\n",
    "df_financials = pd.read_excel(file_name,sheet_name='DCF data')\n",
    "df_NAIC_financials = pd.read_excel(file_name,sheet_name='NAIC data')\n",
    "df_metrics = pd.read_excel(file_name,sheet_name='metrics')\n",
    "df_price_history = pd.read_excel(file_name,sheet_name='Historical Prices')\n",
    "\n",
    "# change the working director back to the Jupyter folder\n",
    "os.chdir('/home/jim/Documents/JupyterLab/Discount Cash Flow Analysis/')"
   ]
  },
  {
   "cell_type": "code",
   "execution_count": 8,
   "metadata": {},
   "outputs": [],
   "source": [
    "# convert dates from string to datetime format\n",
    "price_date_list = []\n",
    "for i in range(len(df_price_history)):\n",
    "    price_date_list.append(datetime.strptime(str(df_price_history['Date'][i]), '%Y-%m-%d'))\n",
    "\n",
    "df_price_history.insert(0, 'datetime', price_date_list)  # insert a new column with datetime data\n",
    "df_price_history.sort_values(by=['datetime'], inplace=True) # sort data frame by datetime\n",
    "\n",
    "df_price_history.set_index('datetime',inplace=True)\n",
    "\n",
    "#df_price_history.head()"
   ]
  },
  {
   "cell_type": "code",
   "execution_count": null,
   "metadata": {},
   "outputs": [],
   "source": []
  },
  {
   "cell_type": "markdown",
   "metadata": {},
   "source": [
    "## 4) NACI stock selection guide analysis <a id=\"section4\"></a>\n",
    "This analysis follows the NAIC stock selection guide (SSG) [1].  The SSG relates revenue growth, EPS and share price history and makes a prediction about the future share price.    \n",
    "\n",
    "The National Association of Investors Clubs (NAIC) is a nonprofit organization dedicated to educating individual investors and investment clubs to become successful lifelong investors.  NAIC's Stock Selection Guide (SSG) is used in the following cells to analyze the company's growth and whether the stock is selling at a reasonable price.\n",
    "\n",
    "The SSG was originally developed in the 1950s as a paper worksheet by the not-for-profit National Association of Investors Corporation (NAIC). The SSG aims to aid individual investors in the fundamental analysis and selection of common stocks by reviewing components of a company's growth, quality, and value."
   ]
  },
  {
   "cell_type": "code",
   "execution_count": 9,
   "metadata": {},
   "outputs": [],
   "source": [
    "#column names: fiscal years \n",
    "years_list = df_NAIC_financials.columns[1:].values.astype('str')[::-1]\n",
    "\n",
    "# convert years to datetime format\n",
    "year_ended_list = []\n",
    "for i in years_list:\n",
    "    year_ended_list.append(datetime.strptime(i, '%Y'))\n",
    "\n",
    "#line 0: revenue  \n",
    "revenue = df_NAIC_financials.iloc[0].to_numpy()[1:].astype('float')[::-1]\n",
    "#line 1: earnings per share\n",
    "EPS = df_NAIC_financials.iloc[1].to_numpy()[1:].astype('float')[::-1]"
   ]
  },
  {
   "cell_type": "markdown",
   "metadata": {},
   "source": [
    "**High and low price history for each year**  \n",
    "From the daily price history obtained from yahoo finance, the high and low closing price for each is obtained and the data saved to the financial data frame as new columns."
   ]
  },
  {
   "cell_type": "code",
   "execution_count": 10,
   "metadata": {},
   "outputs": [],
   "source": [
    "fy_open = []\n",
    "fy_close = []\n",
    "fy_high = []\n",
    "fy_low = []\n",
    "\n",
    "for i in year_ended_list:\n",
    "    start = i\n",
    "    end = i + relativedelta(years=1)\n",
    "    p1 = df_price_history.truncate(before=start, after=end)\n",
    "    if len(p1) == 0:\n",
    "        fy_open.append(np.nan)\n",
    "        fy_close.append(np.nan)        \n",
    "        fy_high.append(np.nan)\n",
    "        fy_low.append(np.nan)\n",
    "    else:\n",
    "        fy_open.append(p1['Open'].iloc[0])\n",
    "        fy_close.append(p1['Close'].iloc[-1])\n",
    "        # use the closing price for each day  <<<--- changed to high, low\n",
    "        fy_high.append(p1['High'].max())\n",
    "        fy_low.append(p1['Low'].min())\n",
    "\n",
    "# convert from list to numpy array\n",
    "fy_open = np.asarray(fy_open)\n",
    "fy_close = np.asarray(fy_close)\n",
    "fy_high = np.asarray(fy_high)\n",
    "fy_low = np.asarray(fy_low)"
   ]
  },
  {
   "cell_type": "markdown",
   "metadata": {},
   "source": [
    "**Plotting the data**  \n",
    "Page 1 of the SSG plots the price record of the stock, the past sales and past earnings per share on a semilog graph.  This was done to aid the investor in determining the rate of earnings growth.  Since the company is not in a rapid growth phase, the revenue from year to year is basically flat and the EPS varies from year to year.  The data is plotted on a linear scale. "
   ]
  },
  {
   "cell_type": "code",
   "execution_count": 11,
   "metadata": {},
   "outputs": [
    {
     "data": {
      "image/png": "[encoded data removed]",
      "text/plain": [
       "<Figure size 1080x360 with 2 Axes>"
      ]
     },
     "metadata": {
      "needs_background": "light"
     },
     "output_type": "display_data"
    }
   ],
   "source": [
    "# Set the locator\n",
    "locator = mdates.YearLocator()  # every year\n",
    "fmt = mdates.DateFormatter('%Y')\n",
    "\n",
    "# figsize() function to adjust the size\n",
    "plt.subplots(figsize=(15, 5))\n",
    "\n",
    "# using subplot function and creating\n",
    "# plot one\n",
    "plt.subplot(1, 2, 1)\n",
    "width = 3  # the width of the bars\n",
    "# plt.bar(year_ended_list,fy_high-fy_low, width,bottom=fy_low,label='price')\n",
    "j = 0\n",
    "for i in year_ended_list:\n",
    "    color = 'green'\n",
    "    if fy_open[j] > fy_close[j]: color= 'red'\n",
    "    # high/low lines\n",
    "    plt.plot([i,i],[fy_low[j],fy_high[j]],color=color, linewidth=width)\n",
    "    # open marker\n",
    "    plt.plot([i,i-relativedelta(months=1)], [fy_open[j],fy_open[j]], color=color, linewidth=width)\n",
    "    # close marker\n",
    "    plt.plot([i,i+relativedelta(months=1)], [fy_close[j],fy_close[j]], color=color, linewidth=width)\n",
    "    j += 1\n",
    "\n",
    "X = plt.gca().xaxis\n",
    "X.set_major_locator(locator)\n",
    "# Specify formatter\n",
    "X.set_major_formatter(fmt)\n",
    "plt.gcf().autofmt_xdate()\n",
    "\n",
    "plt.ylim((10,80))\n",
    "plt.title('Yearly stock high and low price range')\n",
    "plt.ylabel('stock price, dollars')\n",
    "#plt.legend()\n",
    "plt.grid()\n",
    "\n",
    "# using subplot function and creating plot two\n",
    "plt.subplot(1, 2, 2)\n",
    "\n",
    "plt.plot(year_ended_list,revenue/1e9,'+-',label='revenue, $B')\n",
    "plt.plot(year_ended_list,EPS,'+-',label='EPS, $')\n",
    "\n",
    "X = plt.gca().xaxis\n",
    "X.set_major_locator(locator)\n",
    "# Specify formatter\n",
    "X.set_major_formatter(fmt)\n",
    "plt.gcf().autofmt_xdate()\n",
    "\n",
    "#plt.yscale('log')\n",
    "#plt.yticks([0.1,1,10,100,1000],['0.1','1','10','100','1000'])\n",
    "#plt.ylim((1,100))\n",
    "plt.title('Revenue and EPS')\n",
    "plt.ylabel('Revenue \\\\$B and EPS \\\\$')\n",
    "plt.legend()\n",
    "\n",
    "plt.grid()\n",
    "\n",
    "# space between the plots\n",
    "plt.tight_layout(4)\n",
    "\n",
    "# show plot\n",
    "plt.show()"
   ]
  },
  {
   "cell_type": "markdown",
   "metadata": {},
   "source": [
    "**Observations:**  \n",
    "The open, close, high and low prices for each year are plotted on the left. Since 2014, the stock has traded in a flat range from the mid 20’s to the low 60’s. Revenue (net sales) for the past ten years has varied between \\\\$19B and \\\\$25B, with a slight downward trend over the 10 year period.  Earnings per share (EPS) ranged from \\\\$1.23 to \\\\$5.19 (basic EPS attributable to the company, common shareholders) with a downward trend over the past four years.  "
   ]
  },
  {
   "cell_type": "code",
   "execution_count": null,
   "metadata": {},
   "outputs": [],
   "source": []
  },
  {
   "cell_type": "markdown",
   "metadata": {},
   "source": [
    "**Price earnings history**  \n",
    "Section 3 of the SSG is the Price-Earnings history.  The following table is built from the high and low prices each year and the earnings per share. The high and low Price/Earnings ratios are calculated for each year and are listed in the columns labeled high P/E and low P/E."
   ]
  },
  {
   "cell_type": "code",
   "execution_count": 12,
   "metadata": {},
   "outputs": [
    {
     "name": "stdout",
     "output_type": "stream",
     "text": [
      "year      high       low       EPS  high P/E   low P/E\n",
      "2010     27.32     18.05      1.50     18.21     12.03\n",
      "2011     30.83     20.13      3.10      9.94      6.49\n",
      "2012     37.24     25.49      1.82     20.46     14.00\n",
      "2013     47.00     36.86      3.15     14.92     11.70\n",
      "2014     52.77     41.32      1.30     40.60     31.78\n",
      "2015     54.83     34.81      2.25     24.37     15.47\n",
      "2016     51.78     30.78      2.20     23.54     13.99\n",
      "2017     55.83     46.97      5.19     10.76      9.05\n",
      "2018     63.39     35.56      4.91     12.91      7.24\n",
      "2019     45.68     34.52      3.10     14.74     11.13\n",
      "2020     49.23     24.98      1.23     40.03     20.31\n"
     ]
    }
   ],
   "source": [
    "print('{:4s}{:>10s}{:>10s}{:>10s}{:>10s}{:>10s}'.format('year','high','low','EPS',\n",
    "    'high P/E','low P/E'))\n",
    "for i in range(len(year_ended_list)):\n",
    "    print('{:s}{:10,.2f}{:10,.2f}{:10,.2f}{:10,.2f}{:10,.2f}'.format(year_ended_list[i].strftime(\"%Y\"),\n",
    "        fy_high[i], fy_low[i],EPS[i],\n",
    "        fy_high[i]/EPS[i],\n",
    "        fy_low[i]/EPS[i]))"
   ]
  },
  {
   "cell_type": "markdown",
   "metadata": {},
   "source": [
    "**Average high and P/E for select years**   \n",
    "The average price to earnings ratio based on high and low stock prices is calculated."
   ]
  },
  {
   "cell_type": "code",
   "execution_count": 13,
   "metadata": {},
   "outputs": [
    {
     "name": "stdout",
     "output_type": "stream",
     "text": [
      "average high P/E 20.39\n",
      "average low P/E 12.35\n"
     ]
    }
   ],
   "source": [
    "#Average high P/E for last five years \n",
    "pe_avg_high = (fy_high/EPS)[-5:].mean()\n",
    "print('average high P/E {:.2f}'.format(pe_avg_high))\n",
    "#Average low P/E for years \n",
    "pe_avg_low = (fy_low/EPS)[-5:].mean()\n",
    "print('average low P/E {:.2f}'.format(pe_avg_low))"
   ]
  },
  {
   "cell_type": "markdown",
   "metadata": {},
   "source": [
    "From the table above the average price to earnings ratio based on high and low stock prices are calculated.  The average high P/E is 20.39 and the average low P/E 12.35.\n",
    "\n",
    "The method uses the average low and high P/E since the company will want to grow the earnings and the stock will probably not trade for a lower P/E that it has in the past 5 years.   An extreme severe market price may not have occurred in the past 5 years, so that possibility should also be considered. \n",
    "\n",
    "The preferred method for estimating future earnings per share is to use revenue growth, profit margin and tax rate.  Since this method requires additional data, the future EPS will be estimated from historical data trends.\n",
    "\n",
    "To estimate the future EPS, a least squares fit is used to get the slope of the EPS data points.\n",
    "\n",
    "**Estimate future EPS**  \n",
    "A least squares fit is used to get the slope of the EPS data points."
   ]
  },
  {
   "cell_type": "code",
   "execution_count": 14,
   "metadata": {},
   "outputs": [
    {
     "name": "stdout",
     "output_type": "stream",
     "text": [
      "EPS slope: 0.12\n"
     ]
    }
   ],
   "source": [
    "# get linear fit for EPS\n",
    "y = EPS\n",
    "x = np.arange(len(y))\n",
    "A = np.vstack([x, np.ones(len(x))]).T\n",
    "m, c = np.linalg.lstsq(A, y, rcond=None)[0]\n",
    "print('EPS slope: {:.2f}'.format(m))\n",
    "\n",
    "lstsq_fit = m*x + c  # data points for each year"
   ]
  },
  {
   "cell_type": "code",
   "execution_count": 15,
   "metadata": {},
   "outputs": [
    {
     "data": {
      "image/png": "[encoded data removed]",
      "text/plain": [
       "<Figure size 432x288 with 1 Axes>"
      ]
     },
     "metadata": {
      "needs_background": "light"
     },
     "output_type": "display_data"
    }
   ],
   "source": [
    "# Set the locator\n",
    "locator = mdates.YearLocator()  # every year\n",
    "fmt = mdates.DateFormatter('%Y')\n",
    "\n",
    "fig, ax1 = plt.subplots()\n",
    "ax1.set_ylabel('EPS')\n",
    "\n",
    "ax1.plot(year_ended_list,EPS, 'o',label='EPS')\n",
    "ax1.plot(year_ended_list,lstsq_fit, '-',label='least squares fit')\n",
    "\n",
    "ax1.tick_params(axis='y')\n",
    "#ax1.set_ylim((0,4))\n",
    "ax1.legend()\n",
    "plt.grid()\n",
    "\n",
    "X = plt.gca().xaxis\n",
    "X.set_major_locator(locator)\n",
    "# Specify formatter\n",
    "X.set_major_formatter(fmt)\n",
    "plt.gcf().autofmt_xdate()\n",
    "\n",
    "plt.title('EPS and least squares fit')\n",
    "plt.show()"
   ]
  },
  {
   "cell_type": "markdown",
   "metadata": {},
   "source": [
    "Using the equation for the best fit line, find the y value for the EPS point at five years in the future."
   ]
  },
  {
   "cell_type": "code",
   "execution_count": 16,
   "metadata": {},
   "outputs": [
    {
     "name": "stdout",
     "output_type": "stream",
     "text": [
      "estimated eps in 5 years: 3.9\n"
     ]
    }
   ],
   "source": [
    "# estimated eps in 5 years\n",
    "eps_5yr_est = m*(x[-1]+5) + c\n",
    "print('estimated eps in 5 years: {:.1f}'.format(eps_5yr_est))"
   ]
  },
  {
   "cell_type": "markdown",
   "metadata": {},
   "source": [
    "Using the high and low price to earning ratio from above and the projected EPS, calculate the range of stock price in five years."
   ]
  },
  {
   "cell_type": "code",
   "execution_count": 17,
   "metadata": {},
   "outputs": [
    {
     "name": "stdout",
     "output_type": "stream",
     "text": [
      "estimated price range in 5 years: 47.87 to 79.07\n"
     ]
    }
   ],
   "source": [
    "#eps_5yr_est = 5  # user inputed value\n",
    "print('estimated price range in 5 years: {:.2f} to {:.2f}'.format(eps_5yr_est*pe_avg_low,eps_5yr_est*pe_avg_high))"
   ]
  },
  {
   "cell_type": "markdown",
   "metadata": {},
   "source": [
    "Using the high and low price to earning ratio from above and the projected EPS, the projected range of stock price in five years is estimated to be somewhere from \\\\$47.87 to \\\\$79.07 per share.  At the time of writing this report, the current stock price is \\\\$54 per share.  \n",
    "\n",
    "Since the estimated range of future stock prices is higher than the current price, we can take this as a positive sign that the share price will trend up, if conditions remain reasonably constant.  \n",
    "\n",
    "We are interested in the company primarily for the dividends it generates.  So if revenue and earnings are at least steady, then we can assume that the company can continue to pay dividends.  In any case, working through the NAIC analysis doesn’t raise any red flags, which it would if both revenue and earnings were in a declining trend. "
   ]
  },
  {
   "cell_type": "code",
   "execution_count": null,
   "metadata": {},
   "outputs": [],
   "source": []
  },
  {
   "cell_type": "markdown",
   "metadata": {},
   "source": [
    "## 5) Format financial statements data <a id=\"section5\"></a>\n",
    "Generate a new data frame that holds the financial data needed for the DCF model.  Data from financial statements is copied into a spreadsheet which contains the data used in the analysis.  The data in the DCF_data tab is in a consistent format for ease of use by this notebook.  Standard names are used for the rows and columns."
   ]
  },
  {
   "cell_type": "code",
   "execution_count": 18,
   "metadata": {},
   "outputs": [],
   "source": [
    "#column names: fiscal years \n",
    "fy_data = df_financials.columns[1:].values.astype('datetime64[Y]')-1970\n",
    "#line 0: Total revenue  \n",
    "revenue_data = df_financials.iloc[0].to_numpy()[1:].astype('float')\n",
    "#line 1: Cost of goods sold\n",
    "Cost_of_goods_sold_data = df_financials.iloc[1].to_numpy()[1:].astype('float')\n",
    "#line 2: General and administrative\n",
    "General_and_administrative_data = df_financials.iloc[2].to_numpy()[1:].astype('float')\n",
    "#line 3: Research and development\n",
    "Research_and_development_data = df_financials.iloc[3].to_numpy()[1:].astype('float')\n",
    "#line 4: Depreciation and amortization\n",
    "Depreciation_and_amortization_data = df_financials.iloc[4].to_numpy()[1:].astype('float')\n",
    "#line 5: Investment\n",
    "Investment_data = df_financials.iloc[5].to_numpy()[1:].astype('float')\n",
    "# line 6: Income before income taxes\n",
    "Income_before_income_taxes_data = df_financials.iloc[6].to_numpy()[1:].astype('float')\n",
    "# line 7: Income tax\n",
    "Income_tax_data = df_financials.iloc[7].to_numpy()[1:].astype('float')\n",
    "# line 8: Accounts receivable\n",
    "Accounts_receivable_data = df_financials.iloc[8].to_numpy()[1:].astype('float')\n",
    "# line 9: Inventories\n",
    "Inventories_data = df_financials.iloc[9].to_numpy()[1:].astype('float')\n",
    "# line 10: Accounts payable\n",
    "Accounts_payable_data = df_financials.iloc[10].to_numpy()[1:].astype('float')\n",
    "# line 11: Current assets\n",
    "Current_assets_data = df_financials.iloc[11].to_numpy()[1:].astype('float')\n",
    "# line 12: Current liabilities\n",
    "Current_liabilities_data = df_financials.iloc[12].to_numpy()[1:].astype('float')\n",
    "# line 13: Long term debt\n",
    "Long_term_debt_data = df_financials.iloc[13].to_numpy()[1:].astype('float')\n",
    "# line 14: Shares outstanding\n",
    "Shares_outstanding_data = df_financials.iloc[14].to_numpy()[1:].astype('float')"
   ]
  },
  {
   "cell_type": "code",
   "execution_count": 19,
   "metadata": {},
   "outputs": [],
   "source": [
    "# make a new data frame to store selected financial data\n",
    "df_dcf_data = pd.DataFrame(data={\n",
    "    'FY':fy_data[::-1],\n",
    "    'revenue':revenue_data[::-1],\n",
    "    'cost_of_goods_sold':Cost_of_goods_sold_data[::-1],\n",
    "    'general_and_administrative':General_and_administrative_data[::-1],\n",
    "    'research_and_development':Research_and_development_data[::-1],\n",
    "    'depreciation':Depreciation_and_amortization_data[::-1],\n",
    "    'investment':Investment_data[::-1],\n",
    "    'income_before_income_taxes':Income_before_income_taxes_data[::-1],\n",
    "    'income_tax':Income_tax_data[::-1],\n",
    "    'accounts_receivable':Accounts_receivable_data[::-1],\n",
    "    'inventories':Inventories_data[::-1],\n",
    "    'accounts_payable':Accounts_payable_data[::-1], \n",
    "    'current_assets':Current_assets_data[::-1],\n",
    "    'current_liabilities':Current_liabilities_data[::-1],\n",
    "    'long_term_debt':Long_term_debt_data[::-1],\n",
    "    'shares_outstanding':Shares_outstanding_data[::-1]\n",
    "    })\n",
    "\n",
    "#df_dcf_data"
   ]
  },
  {
   "cell_type": "code",
   "execution_count": null,
   "metadata": {},
   "outputs": [],
   "source": []
  },
  {
   "cell_type": "markdown",
   "metadata": {},
   "source": [
    "## 6) Discounted cash flow analysis, baseline <a id=\"section6\"></a>\n",
    "Discounted cash flow (DCF) is a valuation method used to estimate the value of an investment based on its expected future cash flows. DCF analysis attempts to figure out the value of an investment today, based on projections of how much money it will generate in the future. In finance, discounted cash flow (DCF) analysis is a method of valuing a security, project, company, or asset using the concepts of the time value of money. The DCF method used in this notebook follows [2].  \n",
    "\n",
    "The value of any financial investment equals the present value of the expected future cash flows, discounted for risk and timing of these cash flows. The DCF method to value stocks is a four step process.  \n",
    "1. Develop a set of future free cash flows for the corporation based on revenue growth, net operating profit margin, income tax rate and fix and working capital requirements.\n",
    "2. Estimate the discount rate for the cash flows based on expected timing and risk.\n",
    "3. Discount the cash flows and total them to calculate the value for the corporation as a whole.\n",
    "4. Subtract the debt, preferred stock value and other claims and divide by the number of shares outstanding to get the intrinsic value.\n",
    "\n",
    "Sections\n",
    "- [Revenue growth rate](#section6-1) \n",
    "- [Net operating profit margin](#section6-2)\n",
    "- [Tax rate](#section6-3)\n",
    "- [Depreciation Rate](#section6-4)\n",
    "- [Investment Rate](#section6-5)\n",
    "- [Working Capital Rate](#section6-6)\n",
    "- [Current Assets](#section6-7)\n",
    "- [Current Liabilities](#section6-8)\n",
    "- [Value of Debt Outstanding](#section6-9)\n",
    "- [Current stock price](#section6-10)\n",
    "- [Shares outstanding](#section6-11)\n",
    "- [10 year treasury bond yield](#section6-12)\n",
    "- [Bond yield spread to treasury](#section6-13)\n",
    "- [Preferred stock yield](#section6-14)\n",
    "- [Equity risk premium](#section6-15)\n",
    "- [Company specific beta](#section6-16)\n",
    "- [DCF model inputs](#section6-17)\n",
    "- [Future cash flows](#section6-18)"
   ]
  },
  {
   "cell_type": "markdown",
   "metadata": {},
   "source": [
    "### Revenue growth rate <a id=\"section6-1\"></a>\n",
    "The revenue growth rate (also sometimes called net sales) of the corporation plus any other revenues associated with the main operations of the business. It does not include dividends, interest income or non-operating income. Historic revenue data is obtained from consolidated income statements. The year over year change in revenue is calculated and converted to a percent, then an average revenue growth rate is calculated. "
   ]
  },
  {
   "cell_type": "code",
   "execution_count": 20,
   "metadata": {},
   "outputs": [
    {
     "data": {
      "image/png": "[encoded data removed]",
      "text/plain": [
       "<Figure size 432x288 with 2 Axes>"
      ]
     },
     "metadata": {
      "needs_background": "light"
     },
     "output_type": "display_data"
    }
   ],
   "source": [
    "# calculate the percent change in revenue\n",
    "pcr = np.zeros(len(df_dcf_data['revenue'].to_numpy())) # percent change in revenue\n",
    "for i in range(len(df_dcf_data['revenue'].to_numpy()[0:-1])):\n",
    "    pcr[i+1] = ((df_dcf_data['revenue'].to_numpy()[i+1] - df_dcf_data['revenue'].to_numpy()[i])/\n",
    "                df_dcf_data['revenue'].to_numpy()[i+1])*100\n",
    "\n",
    "width = 100\n",
    "\n",
    "# Set the locator\n",
    "locator = mdates.YearLocator()  # every year\n",
    "fmt = mdates.DateFormatter('%Y')\n",
    "\n",
    "fig, ax1 = plt.subplots()\n",
    "ax1.set_ylabel('dollars, $B')\n",
    "\n",
    "# plot revenue as single bar\n",
    "plt.bar(df_dcf_data['FY'],df_dcf_data['revenue']/1e9, width,color='k')\n",
    "\n",
    "ax1.tick_params(axis='y')\n",
    "plt.grid()\n",
    "\n",
    "# instantiate a second y-axes that shares the same x-axis\n",
    "ax2 = ax1.twinx()\n",
    "color = 'tab:green'\n",
    "\n",
    "ax2.plot(df_dcf_data['FY'],pcr,'+-g')\n",
    "    \n",
    "ax2.set_ylabel('% Change in revenue',color=color)\n",
    "ax2.tick_params(axis='y', labelcolor=color)\n",
    "ax2.set_ylim((-20,20))\n",
    "\n",
    "X = plt.gca().xaxis\n",
    "X.set_major_locator(locator)\n",
    "# Specify formatter\n",
    "X.set_major_formatter(fmt)\n",
    "plt.gcf().autofmt_xdate()\n",
    "\n",
    "plt.title('Revenue')\n",
    "plt.show()"
   ]
  },
  {
   "cell_type": "markdown",
   "metadata": {},
   "source": [
    "**Observation:**  \n",
    "The graph shows that revenue is in a declining trend.  The average growth rate is calculated below."
   ]
  },
  {
   "cell_type": "code",
   "execution_count": 21,
   "metadata": {},
   "outputs": [
    {
     "name": "stdout",
     "output_type": "stream",
     "text": [
      "average revenue growth rate: -3.08%\n"
     ]
    }
   ],
   "source": [
    "rgr_avg = pcr[2:].mean()/100\n",
    "print('average revenue growth rate: {:.2f}%'.format(rgr_avg*100))"
   ]
  },
  {
   "cell_type": "markdown",
   "metadata": {},
   "source": [
    "### Net operating profit margin <a id=\"section6-2\"></a>\n",
    "Net Operating Profit should reflect the future revenue generating ability and expense requirements of the operating business that comprise the ongoing operations of the company.\n",
    "\n",
    "$\\text{NOPM} = \\frac{\\text{Revenue} - \\text{Expenses}}{\\text{Revenue}}$  \n",
    " \n",
    "$\\text{Expenses} = \\text{Cost of Goods Sold (CGS)} + \\text{General and Administrative (G&A)} + \\text{Research and Development (R&D)}$\n",
    "\n",
    "Expenses are the sum of the Cost of Goods Sold (CGS), the General and Administrative (G&A) costs and the Research and Development (R&D) costs.  General and Administrative (G&A) is also sometimes called Sales, General and Administrative (SG&A).  The company has no Research and Development (R&D) expenses provided on the income or cash flow statements."
   ]
  },
  {
   "cell_type": "code",
   "execution_count": 22,
   "metadata": {},
   "outputs": [
    {
     "data": {
      "image/png": "[encoded data removed]",
      "text/plain": [
       "<Figure size 432x288 with 2 Axes>"
      ]
     },
     "metadata": {},
     "output_type": "display_data"
    }
   ],
   "source": [
    "# NOP = (Revenue - Expenses)\n",
    "nop = (df_dcf_data['revenue'].to_numpy() - \\\n",
    "    (df_dcf_data['cost_of_goods_sold'].to_numpy() + \\\n",
    "    df_dcf_data['general_and_administrative'].to_numpy() + \\\n",
    "    df_dcf_data['research_and_development'].to_numpy()) )\n",
    "\n",
    "# net operating profit margin as percent of revenue\n",
    "nopm = nop/df_dcf_data['revenue'].to_numpy()\n",
    "\n",
    "# plot as four grouped bar chart with labels on right and working capital rate on left\n",
    "# calculate position of bars\n",
    "x1_bar_position = []\n",
    "x2_bar_position = []\n",
    "x3_bar_position = []\n",
    "x4_bar_position = []\n",
    "for i in df_dcf_data['FY']:\n",
    "    x1_bar_position.append(i-relativedelta(months=3))\n",
    "    x2_bar_position.append(i-relativedelta(months=1))\n",
    "    x3_bar_position.append(i+relativedelta(months=1))\n",
    "    x4_bar_position.append(i+relativedelta(months=3))\n",
    "    \n",
    "width = 40  # the width of the bars\n",
    "    \n",
    "# Set the locator\n",
    "locator = mdates.YearLocator()  # every year\n",
    "fmt = mdates.DateFormatter('%Y')\n",
    "\n",
    "fig, ax1 = plt.subplots()\n",
    "ax1.set_ylabel('Net operating profit, \\\\$B')\n",
    "\n",
    "ax1.bar(x1_bar_position,df_dcf_data['cost_of_goods_sold'].to_numpy()/1e9, width,label='CGS')\n",
    "ax1.bar(x2_bar_position,df_dcf_data['general_and_administrative'].to_numpy()/1e9, width,label='G&A')\n",
    "ax1.bar(x3_bar_position,df_dcf_data['research_and_development'].to_numpy()/1e9, width,label='R&D')\n",
    "ax1.bar(x4_bar_position,nop/1e9, width,label='NOP')\n",
    "\n",
    "ax1.tick_params(axis='y')\n",
    "#ax1.set_ylim((0,4))\n",
    "ax1.legend()\n",
    "plt.grid()\n",
    "\n",
    "# instantiate a second y-axes that shares the same x-axis\n",
    "ax2 = ax1.twinx()\n",
    "color = 'tab:cyan'\n",
    "\n",
    "ax2.plot(df_dcf_data['FY'],nopm*100,'+-c')\n",
    "    \n",
    "ax2.set_ylabel('% NOPM',color=color)\n",
    "ax2.tick_params(axis='y', labelcolor=color)\n",
    "ax2.set_ylim((0,50))\n",
    "\n",
    "X = plt.gca().xaxis\n",
    "X.set_major_locator(locator)\n",
    "# Specify formatter\n",
    "X.set_major_formatter(fmt)\n",
    "plt.gcf().autofmt_xdate()\n",
    "\n",
    "plt.title('Net Operating Profit')\n",
    "plt.show()"
   ]
  },
  {
   "cell_type": "markdown",
   "metadata": {},
   "source": [
    "**Observation**  \n",
    "The NOPM looks consistent over the years.  \n",
    "\n",
    "Calculate the average net operating profit margin for the last 5 years.  "
   ]
  },
  {
   "cell_type": "code",
   "execution_count": 23,
   "metadata": {},
   "outputs": [
    {
     "name": "stdout",
     "output_type": "stream",
     "text": [
      "average net operating profit margin: 16.24%\n"
     ]
    }
   ],
   "source": [
    "#Average net operating profit margin\n",
    "nopm_avg = nopm[-5:].mean()\n",
    "print('average net operating profit margin: {:.2f}%'.format(nopm_avg*100))"
   ]
  },
  {
   "cell_type": "markdown",
   "metadata": {},
   "source": [
    "The NOPM looks consistent over the years.  The average net operating profit margin for the last 5 years is 16.24%.\n",
    "\n",
    "### Tax rate <a id=\"section6-3\"></a>\n",
    "Tax payments are taken from the consolidated income statement, provision for income taxes. \n",
    "\n",
    "$\\text{Tax rate} = \\frac{\\text{Income taxes}}{\\text{Income before income taxes}}$"
   ]
  },
  {
   "cell_type": "code",
   "execution_count": 24,
   "metadata": {},
   "outputs": [
    {
     "data": {
      "image/png": "[encoded data removed]",
      "text/plain": [
       "<Figure size 432x288 with 2 Axes>"
      ]
     },
     "metadata": {
      "needs_background": "light"
     },
     "output_type": "display_data"
    }
   ],
   "source": [
    "# plot as Grouped bar chart with labels on right and tax rate on left\n",
    "# calculate position of bars\n",
    "x1_bar_position = []\n",
    "x2_bar_position = []\n",
    "for i in df_dcf_data['FY']:\n",
    "    x1_bar_position.append(i-relativedelta(months=1))\n",
    "    x2_bar_position.append(i+relativedelta(months=1))\n",
    "\n",
    "# calculate tax rate\n",
    "tax_rate = df_dcf_data['income_tax']/df_dcf_data['income_before_income_taxes']\n",
    "\n",
    "width = 50  # the width of the bars\n",
    "\n",
    "# Set the locator\n",
    "locator = mdates.YearLocator()  # every year\n",
    "fmt = mdates.DateFormatter('%Y')\n",
    "\n",
    "fig, ax1 = plt.subplots()\n",
    "ax1.set_ylabel('dollars, \\\\$M')\n",
    "\n",
    "rects1 = ax1.bar(x1_bar_position,df_dcf_data['income_before_income_taxes']/1e6, width,\n",
    "    label='Income before income taxes')\n",
    "rects2 = ax1.bar(x2_bar_position,df_dcf_data['income_tax']/1e6, width,\n",
    "    label='Income taxes')\n",
    "\n",
    "ax1.tick_params(axis='y')\n",
    "#ax1.set_ylim((-2e3,2e3))\n",
    "ax1.legend()\n",
    "plt.grid()\n",
    "\n",
    "# instantiate a second y-axes that shares the same x-axis\n",
    "ax2 = ax1.twinx()\n",
    "color = 'tab:green'\n",
    "\n",
    "ax2.plot(df_dcf_data['FY'],tax_rate * 100,'+-g')\n",
    "    \n",
    "ax2.set_ylabel('% Tax rate',color=color)\n",
    "ax2.tick_params(axis='y', labelcolor=color)\n",
    "ax2.set_ylim((-60,100))\n",
    "\n",
    "X = plt.gca().xaxis\n",
    "X.set_major_locator(locator)\n",
    "# Specify formatter\n",
    "X.set_major_formatter(fmt)\n",
    "plt.gcf().autofmt_xdate()\n",
    "\n",
    "plt.title('Tax Rate')\n",
    "plt.show()"
   ]
  },
  {
   "cell_type": "markdown",
   "metadata": {},
   "source": [
    "**Observations**:  \n",
    "Income taxes for years 2013 and 2017:  \n",
    "\n",
    "From the 2013 annual report Income tax provision (523)  \n",
    "The valuation allowance for deferred income tax assets as of December 31, 2013 was \\\\$413 million. The increase is primarily attributable to non-U.S. net operating losses that the Company currently does not foresee utilizing within the statutory carryforward period.\n",
    "\n",
    "From the 2017 annual report, Income tax provision (1,085)  \n",
    "On an unaudited pro forma basis, assuming the acquisition of the newly acquired pulp business had closed January 1, 2015, the consolidated results would have reflected Net sales of \\\\$20.8 billion and \\\\$22.2 billion and Earnings (loss) from continuing operations before income taxes and equity earnings of $942 million and \\\\$1.3 billion for the years ended December 31, 2016 and 2015, respectively.\n",
    "\n",
    "In connection with our initial analysis of the impact of the Tax Act, we have recorded a provisional net tax benefit of \\\\$1.22 billion in the period ending December 31, 2017. The net tax benefit primarily consists of a net tax benefit for the re-measurement of U.S. deferred taxes of \\\\$1.454 billion and an expense for the Transition Tax of \\\\$231 million. For various reasons that are discussed more fully below, we have not completed our accounting for the income tax effects of the Tax Act.\n"
   ]
  },
  {
   "cell_type": "code",
   "execution_count": 25,
   "metadata": {},
   "outputs": [
    {
     "name": "stdout",
     "output_type": "stream",
     "text": [
      "average tax rate: 8.07%\n"
     ]
    }
   ],
   "source": [
    "# Average tax rate\n",
    "tax_rate_avg = tax_rate.mean()\n",
    "print('average tax rate: {:.2f}%'.format(tax_rate_avg*100))"
   ]
  },
  {
   "cell_type": "code",
   "execution_count": null,
   "metadata": {},
   "outputs": [],
   "source": []
  },
  {
   "cell_type": "markdown",
   "metadata": {},
   "source": [
    "### Depreciation Rate <a id=\"section6-4\"></a>\n",
    "The depreciation rate is used to project the future net investment cash flows.  The effect is to reduce the amount of FCFF. Depreciation amounts are from the Consolidated Statement of Cash Flows, Depreciation and Amortization.  \n",
    "\n",
    "$\\text{Depreciation Rate}=\\frac{\\text{Depreciation and Amortization}}{\\text{Revenues}}$\n",
    "\n",
    "Depreciation is the write off or expensing of a percentage of the historical cost of an asset over the asset's useful life.  Property, plant and equipment (PP&E) are long term or non current assets owned or controlled by the company and used to manufacture and or sell the company's products.  The balance sheet typically shows all categories of PP&E grouped together, net of accumulated depreciation.  Depreciation represents wear and tear on an asset or the fact that an asset gets used up over time.  Companies record depreciation expense in the income statement every year for all depreciable assets in service or used by the company during the year.  The difference between GAAP and Tax Accounting methods are handled through deferred taxes.\n",
    "\n",
    "Amortization is the write off or expensing of the cost of a financial instrument or an intangible asset over the shorter of its useful life or legal life.  Amortization is similar to depreciation and reflects the declining useful life and value of the intangible asset over time.  Companies in research and development intensive fields typically have many patents.  Such industries include high technology, pharmaceuticals and chemicals. "
   ]
  },
  {
   "cell_type": "code",
   "execution_count": 26,
   "metadata": {},
   "outputs": [
    {
     "data": {
      "image/png": "[encoded data removed]",
      "text/plain": [
       "<Figure size 432x288 with 2 Axes>"
      ]
     },
     "metadata": {
      "needs_background": "light"
     },
     "output_type": "display_data"
    }
   ],
   "source": [
    "# depreciation rate\n",
    "depreciation_rate = df_dcf_data['depreciation'] / df_dcf_data['revenue'].to_numpy()\n",
    "\n",
    "# plot depreciation on left and rate on right\n",
    "# Set the locator\n",
    "locator = mdates.YearLocator()  # every year\n",
    "fmt = mdates.DateFormatter('%Y')\n",
    "\n",
    "fig, ax1 = plt.subplots()\n",
    "ax1.set_ylabel('dollars, $B')\n",
    "\n",
    "ax1.bar(df_dcf_data['FY'],df_dcf_data['depreciation']/1e9, width=100,color='k')\n",
    "\n",
    "ax1.tick_params(axis='y')\n",
    "plt.grid()\n",
    "\n",
    "# instantiate a second y-axes that shares the same x-axis\n",
    "ax2 = ax1.twinx()\n",
    "color = 'tab:Blue'\n",
    "\n",
    "ax2.plot(df_dcf_data['FY'],depreciation_rate*100,'+-')\n",
    "    \n",
    "ax2.set_ylabel('% Depreciation rate',color=color)\n",
    "ax2.tick_params(axis='y', labelcolor=color)\n",
    "ax2.set_ylim((0,20))\n",
    "\n",
    "X = plt.gca().xaxis\n",
    "X.set_major_locator(locator)\n",
    "# Specify formatter\n",
    "X.set_major_formatter(fmt)\n",
    "plt.gcf().autofmt_xdate()\n",
    "\n",
    "plt.title('Depreciation')\n",
    "plt.show()"
   ]
  },
  {
   "cell_type": "markdown",
   "metadata": {},
   "source": [
    "**Observations**:  \n",
    "The depreciation rate is consistent over the years."
   ]
  },
  {
   "cell_type": "code",
   "execution_count": 27,
   "metadata": {},
   "outputs": [
    {
     "name": "stdout",
     "output_type": "stream",
     "text": [
      "average depreciation rate: 6.07%\n"
     ]
    }
   ],
   "source": [
    "# average depreciation rate\n",
    "depreciation_rate_avg = depreciation_rate[2:].mean()\n",
    "print('average depreciation rate: {:.2f}%'.format(depreciation_rate_avg*100))"
   ]
  },
  {
   "cell_type": "code",
   "execution_count": null,
   "metadata": {},
   "outputs": [],
   "source": []
  },
  {
   "cell_type": "markdown",
   "metadata": {},
   "source": [
    "### Investment Rate <a id=\"section6-5\"></a>\n",
    "Taken from Consolidated Statement of Cash Flows, Cash used for investing activities.  Net investment in the dollar amount needed to support the growth of the firm.  Included investments in properties, plant equipment in excess of the depreciation expenses associated with past investments.  Net investment decreases the amount of money available to the stockholders.  Investment in property, plant and equipment is necessary to both maintain service and sales and also to grow revenues and profits.  Investment amounts should include capital expenditures and research and development. \n",
    "\n",
    "$Ir=\\frac {\\text {Capital Expenditures}}{\\text{Revenues}}$ \n",
    "\n",
    "For this company, the yearly investment amounts are taken from the Consolidated Statements of Cash Flows, \n",
    "Net Cash Used in Investing Activities.\n",
    "\n",
    "The following amounts are taken from the consolidated cash flow statement and summed to get the firm's yearly investment:\n",
    "- Invested in capital projects, net of insurance recoveries\n",
    "- Acquisitions, net of cash acquired\n",
    "- Proceeds from sales of businesses, net of cash divested\n",
    "- Proceeds from sale of fixed assets\n",
    "- Other"
   ]
  },
  {
   "cell_type": "code",
   "execution_count": 28,
   "metadata": {},
   "outputs": [
    {
     "data": {
      "image/png": "[encoded data removed]",
      "text/plain": [
       "<Figure size 432x288 with 2 Axes>"
      ]
     },
     "metadata": {
      "needs_background": "light"
     },
     "output_type": "display_data"
    }
   ],
   "source": [
    "# investment rate\n",
    "investment_rate = df_dcf_data['investment'] / df_dcf_data['revenue'].to_numpy()\n",
    "\n",
    "# plot investment on left and rate on right\n",
    "# Set the locator\n",
    "locator = mdates.YearLocator()  # every year\n",
    "fmt = mdates.DateFormatter('%Y')\n",
    "\n",
    "fig, ax1 = plt.subplots()\n",
    "ax1.set_ylabel('dollars, \\\\$B')\n",
    "\n",
    "ax1.bar(df_dcf_data['FY'],df_dcf_data['investment']/1e9, width=100,color='k')\n",
    "\n",
    "ax1.tick_params(axis='y')\n",
    "plt.grid()\n",
    "\n",
    "# instantiate a second y-axes that shares the same x-axis\n",
    "ax2 = ax1.twinx()\n",
    "color = 'tab:Blue'\n",
    "\n",
    "ax2.plot(df_dcf_data['FY'],investment_rate*100,'+-')\n",
    "    \n",
    "ax2.set_ylabel('% New Investment Rate',color=color)\n",
    "ax2.tick_params(axis='y', labelcolor=color)\n",
    "ax2.set_ylim((0,50))\n",
    "\n",
    "X = plt.gca().xaxis\n",
    "X.set_major_locator(locator)\n",
    "# Specify formatter\n",
    "X.set_major_formatter(fmt)\n",
    "plt.gcf().autofmt_xdate()\n",
    "\n",
    "plt.title('New Investment')\n",
    "plt.show()"
   ]
  },
  {
   "cell_type": "markdown",
   "metadata": {},
   "source": [
    "**Observations**:  \n",
    "The following investments were made for the years 2012, 2015 and 2016.\n",
    "\n",
    "2012 Acquisitions, net of cash acquired \\\\$3.734B  \n",
    "February 13, 2012: completed the acquisition of Temple-Inland, Inc. (Temple-Inland). International Paper acquired all of the outstanding common stock of Temple-Inland.\n",
    "\n",
    "2015 Reduction of debt \\\\$6,947B\n",
    "\n",
    "2016 Acquisitions \\\\$2.228B\n",
    "December 1, 2016: finalized the purchase of Weyerhaeuser's pulp business for approximately $\\\\2.2 billion in cash.\n",
    "June 30, 2016: completed the previously announced acquisition of Holmen Paper's newsprint mill in Madrid, Spain."
   ]
  },
  {
   "cell_type": "code",
   "execution_count": 29,
   "metadata": {},
   "outputs": [
    {
     "name": "stdout",
     "output_type": "stream",
     "text": [
      "average investment rate: 9.16%\n"
     ]
    }
   ],
   "source": [
    "# average investment rate\n",
    "investment_rate_avg = investment_rate.mean()\n",
    "print('average investment rate: {:.2f}%'.format(investment_rate_avg*100))"
   ]
  },
  {
   "cell_type": "code",
   "execution_count": null,
   "metadata": {},
   "outputs": [],
   "source": []
  },
  {
   "cell_type": "markdown",
   "metadata": {},
   "source": [
    "### Working Capital Rate <a id=\"section6-6\"></a>\n",
    "Working capital is needed to support the corporate sales effort of any company.  Often a company’s incremental change in net working capital either positive or negative is approximately proportional to its change in revenue.\n",
    "\n",
    "$\\text{Working capital} = \\text{Accounts Receivable} + \\text{Inventories} - \\text{Accounts Payable}$  \n",
    "\n",
    "Working capital is a company’s net investment in its accounts receivable and its inventories (cash outflows), minus its accounts payable (a cash inflow).  Working capital and taxes are cash outflows from the corporation that are not available to pay debts and stockholders."
   ]
  },
  {
   "cell_type": "code",
   "execution_count": 30,
   "metadata": {},
   "outputs": [
    {
     "data": {
      "image/png": "[encoded data removed]",
      "text/plain": [
       "<Figure size 432x288 with 2 Axes>"
      ]
     },
     "metadata": {
      "needs_background": "light"
     },
     "output_type": "display_data"
    }
   ],
   "source": [
    "# plot as four grouped bar chart with labels on right and working capital rate on left\n",
    "# calculate position of bars\n",
    "x1_bar_position = []\n",
    "x2_bar_position = []\n",
    "x3_bar_position = []\n",
    "x4_bar_position = []\n",
    "for i in df_dcf_data['FY']:\n",
    "    x1_bar_position.append(i-relativedelta(months=3))\n",
    "    x2_bar_position.append(i-relativedelta(months=1))\n",
    "    x3_bar_position.append(i+relativedelta(months=1))\n",
    "    x4_bar_position.append(i+relativedelta(months=3))\n",
    "\n",
    "# calculate working capital rate\n",
    "working_capital = (df_dcf_data['accounts_receivable'] + df_dcf_data['inventories']) - \\\n",
    "    df_dcf_data['accounts_payable']\n",
    "working_capital_rate = working_capital / df_dcf_data['revenue']\n",
    "\n",
    "width = 40  # the width of the bars\n",
    "\n",
    "# Set the locator\n",
    "locator = mdates.YearLocator()  # every year\n",
    "fmt = mdates.DateFormatter('%Y')\n",
    "\n",
    "fig, ax1 = plt.subplots()\n",
    "ax1.set_ylabel('dollars, \\\\$B')\n",
    "\n",
    "rects1 = ax1.bar(x1_bar_position,df_dcf_data['accounts_receivable']/1e9, width,\\\n",
    "    label='Accounts Receivable')\n",
    "rects2 = ax1.bar(x2_bar_position,df_dcf_data['inventories']/1e9, width, label='Inventory')\n",
    "\n",
    "rects2 = ax1.bar(x3_bar_position,df_dcf_data['accounts_payable']/1e9, width, label='Accounts Payable')\n",
    "rects2 = ax1.bar(x4_bar_position,working_capital/1e9, width, label='Working Capital')\n",
    "\n",
    "ax1.tick_params(axis='y')\n",
    "#ax1.set_ylim((-50,200))\n",
    "ax1.legend()\n",
    "plt.grid()\n",
    "\n",
    "# instantiate a second y-axes that shares the same x-axis\n",
    "ax2 = ax1.twinx()\n",
    "color = 'tab:Blue'\n",
    "\n",
    "ax2.plot(df_dcf_data['FY'],working_capital_rate * 100,'+-')\n",
    "    \n",
    "ax2.set_ylabel('% Working Capital Rate',color=color)\n",
    "ax2.tick_params(axis='y', labelcolor=color)\n",
    "ax2.set_ylim((10,20))\n",
    "\n",
    "X = plt.gca().xaxis\n",
    "X.set_major_locator(locator)\n",
    "# Specify formatter\n",
    "X.set_major_formatter(fmt)\n",
    "plt.gcf().autofmt_xdate()\n",
    "\n",
    "plt.title('Working Capital')\n",
    "plt.show()"
   ]
  },
  {
   "cell_type": "markdown",
   "metadata": {},
   "source": [
    "**Observations:**  \n",
    "Working capital rate has some variation, but overall constant over the years."
   ]
  },
  {
   "cell_type": "code",
   "execution_count": 31,
   "metadata": {},
   "outputs": [
    {
     "name": "stdout",
     "output_type": "stream",
     "text": [
      "average working capital rate: 14.18%\n"
     ]
    }
   ],
   "source": [
    "# average working capital rate\n",
    "working_capital_rate_avg = working_capital_rate[-5:].mean()\n",
    "print('average working capital rate: {:.2f}%'.format(working_capital_rate_avg*100))"
   ]
  },
  {
   "cell_type": "markdown",
   "metadata": {},
   "source": [
    "### Current assets <a id=\"section6-7\"></a>\n",
    "Total Current Assets from the most recent balance sheet statement of the company.  Current assets include inventory, cash and accounts receivables."
   ]
  },
  {
   "cell_type": "code",
   "execution_count": 32,
   "metadata": {},
   "outputs": [
    {
     "data": {
      "image/png": "[encoded data removed]",
      "text/plain": [
       "<Figure size 432x288 with 1 Axes>"
      ]
     },
     "metadata": {
      "needs_background": "light"
     },
     "output_type": "display_data"
    }
   ],
   "source": [
    "# plot Short Term Assets\n",
    "width = 100  # the width of the bars\n",
    "\n",
    "# Set the locator\n",
    "locator = mdates.YearLocator()  # every year\n",
    "fmt = mdates.DateFormatter('%Y')\n",
    "\n",
    "plt.bar(df_dcf_data['FY'],df_dcf_data['current_assets']/1e9, width)\n",
    "\n",
    "X = plt.gca().xaxis\n",
    "X.set_major_locator(locator)\n",
    "# Specify formatter\n",
    "X.set_major_formatter(fmt)\n",
    "plt.gcf().autofmt_xdate()\n",
    "\n",
    "plt.title('Current assets')\n",
    "plt.ylabel('dollars, \\\\$B')\n",
    "\n",
    "plt.grid()\n",
    "plt.show()"
   ]
  },
  {
   "cell_type": "markdown",
   "metadata": {},
   "source": [
    "**Observations:**  \n",
    "The plot of current assets for each year shows some variation year to year.  Except for 2020, the current assets have been declining year to year starting in 2011.  In 2020, \\\\$4.85B of assets was claimed for installment notes (the \"Timber Notes\") related to the 2006 sale of approximately 5.6 million acres of forestland. The Timber Notes were used as collateral for borrowings from third party lenders, which effectively monetized the Timber Notes through the creation of newly formed special purpose entities (the \"Entities\")."
   ]
  },
  {
   "cell_type": "code",
   "execution_count": 33,
   "metadata": {},
   "outputs": [
    {
     "name": "stdout",
     "output_type": "stream",
     "text": [
      "Current assets: $11.24B\n"
     ]
    }
   ],
   "source": [
    "sta = df_dcf_data['current_assets'].iloc[-1]\n",
    "print('Current assets: ${:.2f}B'.format(sta/1e9))"
   ]
  },
  {
   "cell_type": "markdown",
   "metadata": {},
   "source": [
    "### Current liabilities <a id=\"section6-8\"></a>\n",
    "Total Current Liabilities from the most recent balance sheet consolidated statement."
   ]
  },
  {
   "cell_type": "code",
   "execution_count": 34,
   "metadata": {},
   "outputs": [
    {
     "data": {
      "image/png": "[encoded data removed]",
      "text/plain": [
       "<Figure size 432x288 with 1 Axes>"
      ]
     },
     "metadata": {
      "needs_background": "light"
     },
     "output_type": "display_data"
    }
   ],
   "source": [
    "# plot Short Term Liabilities\n",
    "\n",
    "width = 100  # the width of the bars\n",
    "\n",
    "# Set the locator\n",
    "locator = mdates.YearLocator()  # every year\n",
    "fmt = mdates.DateFormatter('%Y')\n",
    "\n",
    "plt.bar(df_dcf_data['FY'],df_dcf_data['current_liabilities']/1e9, width)\n",
    "\n",
    "X = plt.gca().xaxis\n",
    "X.set_major_locator(locator)\n",
    "# Specify formatter\n",
    "X.set_major_formatter(fmt)\n",
    "plt.gcf().autofmt_xdate()\n",
    "\n",
    "plt.title('Current liabilities')\n",
    "plt.ylabel('dollars, \\\\$B')\n",
    "\n",
    "plt.grid()\n",
    "plt.show()"
   ]
  },
  {
   "cell_type": "code",
   "execution_count": 35,
   "metadata": {},
   "outputs": [
    {
     "name": "stdout",
     "output_type": "stream",
     "text": [
      "Average of current liabilities: $5.36B\n"
     ]
    }
   ],
   "source": [
    "print('Average of current liabilities: ${:.2f}B'.format(df_dcf_data['current_liabilities'].mean()/1e9))"
   ]
  },
  {
   "cell_type": "markdown",
   "metadata": {},
   "source": [
    "**Observations**:  \n",
    "In 2019 there is a line item on the consolidated balance sheet of \\\\$4.22B for Current nonrecourse financial liabilities of variable interest entities (Note 15).  The explanation in note 15 is as follows: The Extension Loans are shown in Current nonrecourse financial liabilities of variable interest entities on the accompanying consolidated balance sheet and mature in the fourth quarter of 2020. These bank loans, totaling approximately \\\\$4.2 billion, are nonrecourse to the Company, and are secured by approximately \\\\$4.8 billion of Timber Notes."
   ]
  },
  {
   "cell_type": "code",
   "execution_count": 36,
   "metadata": {},
   "outputs": [
    {
     "name": "stdout",
     "output_type": "stream",
     "text": [
      "Current liabilities: $8.28B\n"
     ]
    }
   ],
   "source": [
    "stl = df_dcf_data['current_liabilities'].iloc[-1]\n",
    "print('Current liabilities: ${:.2f}B'.format(stl/1e9))"
   ]
  },
  {
   "cell_type": "markdown",
   "metadata": {},
   "source": [
    "### Value of Debt Outstanding <a id=\"section6-9\"></a>\n",
    "Amount of debt outstanding from the most recent balance sheet of the company.\n"
   ]
  },
  {
   "cell_type": "code",
   "execution_count": 37,
   "metadata": {},
   "outputs": [
    {
     "data": {
      "image/png": "[encoded data removed]",
      "text/plain": [
       "<Figure size 432x288 with 2 Axes>"
      ]
     },
     "metadata": {
      "needs_background": "light"
     },
     "output_type": "display_data"
    }
   ],
   "source": [
    "# calculate the percent change in debt, pcd\n",
    "pcd = np.zeros(len(df_dcf_data['long_term_debt'].to_numpy())) # percent change in debt\n",
    "for i in range(len(df_dcf_data['long_term_debt'].to_numpy()[0:-1])):\n",
    "    pcd[i+1] = ((df_dcf_data['long_term_debt'].to_numpy()[i+1] - df_dcf_data['long_term_debt'].to_numpy()[i])/\n",
    "                df_dcf_data['long_term_debt'].to_numpy()[i+1])*100\n",
    "\n",
    "width = 100\n",
    "\n",
    "# Set the locator\n",
    "locator = mdates.YearLocator()  # every year\n",
    "fmt = mdates.DateFormatter('%Y')\n",
    "\n",
    "fig, ax1 = plt.subplots()\n",
    "ax1.set_ylabel('dollars, \\\\$B')\n",
    "\n",
    "# plot revenue as single bar\n",
    "plt.bar(df_dcf_data['FY'],df_dcf_data['long_term_debt']/1e9, width,color='k')\n",
    "\n",
    "ax1.tick_params(axis='y')\n",
    "plt.grid()\n",
    "\n",
    "# instantiate a second y-axes that shares the same x-axis\n",
    "ax2 = ax1.twinx()\n",
    "color = 'tab:green'\n",
    "\n",
    "ax2.plot(df_dcf_data['FY'],pcd,'+-g')\n",
    "    \n",
    "ax2.set_ylabel('% Change in debt',color=color)\n",
    "ax2.tick_params(axis='y', labelcolor=color)\n",
    "ax2.set_ylim((-10,50))\n",
    "\n",
    "X = plt.gca().xaxis\n",
    "X.set_major_locator(locator)\n",
    "# Specify formatter\n",
    "X.set_major_formatter(fmt)\n",
    "plt.gcf().autofmt_xdate()\n",
    "\n",
    "plt.title('debt')\n",
    "plt.show()"
   ]
  },
  {
   "cell_type": "code",
   "execution_count": 38,
   "metadata": {},
   "outputs": [
    {
     "name": "stdout",
     "output_type": "stream",
     "text": [
      "average debt growth rate: -2.45%\n"
     ]
    }
   ],
   "source": [
    "dgr_avg = pcr[1:].mean()/100\n",
    "print('average debt growth rate: {:.2f}%'.format(dgr_avg*100))"
   ]
  },
  {
   "cell_type": "markdown",
   "metadata": {},
   "source": [
    "**Observations:**  \n",
    "The general level of debt is consistent from year to year with some variation and the debt has been falling the five years. "
   ]
  },
  {
   "cell_type": "code",
   "execution_count": 39,
   "metadata": {},
   "outputs": [
    {
     "name": "stdout",
     "output_type": "stream",
     "text": [
      "Total long term debt and other: $8.06B\n"
     ]
    }
   ],
   "source": [
    "vod = df_dcf_data['long_term_debt'].iloc[-1]\n",
    "print('Total long term debt and other: ${:.2f}B'.format(vod/1e9))"
   ]
  },
  {
   "cell_type": "markdown",
   "metadata": {},
   "source": [
    "### Current stock price <a id=\"section6-10\"></a>\n",
    "Most recent stock price for the [company](https://finance.yahoo.com/quote/T/?p=T).  The current stock price is used to calculate the market value of the firm. Use the market value when looking at market capitalization for common stock. "
   ]
  },
  {
   "cell_type": "code",
   "execution_count": 40,
   "metadata": {},
   "outputs": [
    {
     "name": "stdout",
     "output_type": "stream",
     "text": [
      "current stock price: $54.39\n"
     ]
    }
   ],
   "source": [
    "csp = 54.39 # current stock price, $\n",
    "print('current stock price: ${:,.2f}'.format(csp))"
   ]
  },
  {
   "cell_type": "markdown",
   "metadata": {},
   "source": [
    "### Shares outstanding <a id=\"section6-11\"></a>\n",
    "The number of shares outstanding is used to calculate the intrinsic stock value.  \n"
   ]
  },
  {
   "cell_type": "code",
   "execution_count": 41,
   "metadata": {},
   "outputs": [
    {
     "name": "stdout",
     "output_type": "stream",
     "text": [
      "shares_outstanding, basic: 448,900,000\n"
     ]
    }
   ],
   "source": [
    "so = df_dcf_data['shares_outstanding'].iloc[-1]               # shares outstanding\n",
    "print('shares_outstanding, basic: {:,.0f}'.format(so))"
   ]
  },
  {
   "cell_type": "code",
   "execution_count": 42,
   "metadata": {},
   "outputs": [
    {
     "data": {
      "image/png": "[encoded data removed]",
      "text/plain": [
       "<Figure size 432x288 with 2 Axes>"
      ]
     },
     "metadata": {
      "needs_background": "light"
     },
     "output_type": "display_data"
    }
   ],
   "source": [
    "# calculate the percent change in shares outstanding, pcso\n",
    "pcso = np.zeros(len(df_dcf_data['shares_outstanding'].to_numpy())) # percent change in debt\n",
    "for i in range(len(df_dcf_data['shares_outstanding'].to_numpy()[0:-1])):\n",
    "    pcso[i+1] = ((df_dcf_data['shares_outstanding'].to_numpy()[i+1] - df_dcf_data['shares_outstanding'].to_numpy()[i])/\n",
    "                df_dcf_data['shares_outstanding'].to_numpy()[i+1])*100\n",
    "\n",
    "width = 100\n",
    "\n",
    "# Set the locator\n",
    "locator = mdates.YearLocator()  # every year\n",
    "fmt = mdates.DateFormatter('%Y')\n",
    "\n",
    "fig, ax1 = plt.subplots()\n",
    "ax1.set_ylabel('shares outstanding, M')\n",
    "\n",
    "# plot revenue as single bar\n",
    "plt.bar(df_dcf_data['FY'],df_dcf_data['shares_outstanding']/1e6, width,color='k')\n",
    "\n",
    "ax1.tick_params(axis='y')\n",
    "plt.grid()\n",
    "\n",
    "# instantiate a second y-axes that shares the same x-axis\n",
    "ax2 = ax1.twinx()\n",
    "color = 'tab:green'\n",
    "\n",
    "ax2.plot(df_dcf_data['FY'],pcso,'+-g')\n",
    "    \n",
    "ax2.set_ylabel('% Change in shares outstanding',color=color)\n",
    "ax2.tick_params(axis='y', labelcolor=color)\n",
    "ax2.set_ylim((-1,10))\n",
    "\n",
    "X = plt.gca().xaxis\n",
    "X.set_major_locator(locator)\n",
    "# Specify formatter\n",
    "X.set_major_formatter(fmt)\n",
    "plt.gcf().autofmt_xdate()\n",
    "\n",
    "plt.title('Shares outstanding')\n",
    "plt.show()"
   ]
  },
  {
   "cell_type": "code",
   "execution_count": 43,
   "metadata": {},
   "outputs": [
    {
     "name": "stdout",
     "output_type": "stream",
     "text": [
      "average shares outstanding growth rate: 0.22%\n"
     ]
    }
   ],
   "source": [
    "print('average shares outstanding growth rate: {:.2f}%'.format(pcso[1:].mean()))"
   ]
  },
  {
   "cell_type": "markdown",
   "metadata": {},
   "source": [
    "**Observation:**  \n",
    "The number of shares outstanding is steady from year to year. "
   ]
  },
  {
   "cell_type": "code",
   "execution_count": null,
   "metadata": {},
   "outputs": [],
   "source": []
  },
  {
   "cell_type": "markdown",
   "metadata": {},
   "source": [
    "### 10 year treasury bond yield <a id=\"section6-12\"></a>\n",
    "The [10 year treasury yield](https://finance.yahoo.com/quote/%5ETNX?p=^TNX&.tsrc=fin-srch) is used as a measure of the risk free rate.   "
   ]
  },
  {
   "cell_type": "code",
   "execution_count": 44,
   "metadata": {},
   "outputs": [
    {
     "name": "stdout",
     "output_type": "stream",
     "text": [
      "10 year treasury bond yield: 1.38%\n"
     ]
    }
   ],
   "source": [
    "tby = 1.38/100             # 10 year treasury bond yield\n",
    "print('10 year treasury bond yield: {:,.2f}%'.format(tby*100))"
   ]
  },
  {
   "cell_type": "markdown",
   "metadata": {},
   "source": [
    "### Bond yield spread to treasury <a id=\"section6-13\"></a>\n",
    "The spread to treasury implies that all corporate debt will have a higher yield than yields associated with comparable maturity US Treasury Bonds.  The best way to determine default risk is to see how a particular company's debt is trading in the market and compare it on a spread basis with comparable maturity yields.  \n",
    "\n",
    "Look at [PIMCO Active Bond Exchange-Traded Fund (BOND)](https://finance.yahoo.com/quote/BOND?p=BOND) or use a default rating systems that are published by the three major rating agencies, Standards and Poors Corp, Moody’s Investor Services and Fitch & Company.\n",
    "\n",
    "Web resources:\n",
    "- http://www.standardpoor.com/  \n",
    "- http://bond.yahoo.com/rates.html  \n",
    "- http://www.moodys.com/cust/default.asp  \n",
    "- http://www.fitchibca.com/corporate/index.cfm  "
   ]
  },
  {
   "cell_type": "code",
   "execution_count": 45,
   "metadata": {},
   "outputs": [
    {
     "name": "stdout",
     "output_type": "stream",
     "text": [
      "Bond yield spread to treasury: 1.15%\n"
     ]
    }
   ],
   "source": [
    "bystt = (2.53-1.38)/100           # bond yield spread to treasury spread\n",
    "print('Bond yield spread to treasury: {:,.2f}%'.format(bystt*100))"
   ]
  },
  {
   "cell_type": "markdown",
   "metadata": {},
   "source": [
    "### Preferred stock yield <a id=\"section6-14\"></a>\n",
    "Amount of preferred stock outstanding from the most recent balance sheet of the company.\n",
    "\n",
    "The company has not issued preferred stock."
   ]
  },
  {
   "cell_type": "code",
   "execution_count": 46,
   "metadata": {},
   "outputs": [
    {
     "name": "stdout",
     "output_type": "stream",
     "text": [
      "preferred stock yield: 0.00%\n",
      "value of preferred stock: 0.00\n"
     ]
    }
   ],
   "source": [
    "psy = 0/100  # preferred stock yield\n",
    "print('preferred stock yield: {:,.2f}%'.format(psy*100))\n",
    "\n",
    "vps = 0 # value of preferred stock\n",
    "print('value of preferred stock: {:,.2f}'.format(vps))"
   ]
  },
  {
   "cell_type": "markdown",
   "metadata": {},
   "source": [
    "### Equity risk premium <a id=\"section6-15\"></a>\n",
    "The expected excess return a hypothetical average investor would require of a diversified portfolio of stock (assumed beta = 1.0) over the yield on the 10-year Treasury Bond.  The equity risk premium has been going down over the years.  \n",
    "- 1926 to 1990: 5.5%   \n",
    "- 1962 to 1990: 3.25%   \n",
    "- 1981 to 1990: 0.19%   \n",
    "\n",
    "In times of sustained economic growth the risk premium demanded by investors generally declines.   \n",
    "\n",
    "I'm going to use 3% as the equity risk premium."
   ]
  },
  {
   "cell_type": "code",
   "execution_count": 47,
   "metadata": {},
   "outputs": [
    {
     "name": "stdout",
     "output_type": "stream",
     "text": [
      "Equity risk premium: 3.00%\n"
     ]
    }
   ],
   "source": [
    "eq_rp = 3.0/100             # equity risk premium\n",
    "print('Equity risk premium: {:,.2f}%'.format(eq_rp*100))"
   ]
  },
  {
   "cell_type": "markdown",
   "metadata": {},
   "source": [
    "### Company specific beta <a id=\"section6-16\"></a>\n",
    "The Beta used is Beta of Equity. Beta is the monthly price change of a particular company relative to the monthly price change of the S&P 500. The time period for Beta is 5 years when available. This value can be obtained at [yahoo finance](https://finance.yahoo.com/quote/ED/?p=ED).  \n",
    "\n",
    "A measure of risk of an individual stock. It measures volatility of return - a higher beta means a higher risk. A financial model that uses Beta as its sole measure of risk (signal factor model) is called a Capital Asset Pricing Model (CAPM).\n",
    " "
   ]
  },
  {
   "cell_type": "code",
   "execution_count": 48,
   "metadata": {},
   "outputs": [
    {
     "name": "stdout",
     "output_type": "stream",
     "text": [
      "Company specific beta: 1.05\n"
     ]
    }
   ],
   "source": [
    "beta = 1.05 # company specific beta\n",
    "print('Company specific beta: {:,.2f}'.format(beta))"
   ]
  },
  {
   "cell_type": "markdown",
   "metadata": {},
   "source": [
    "### DCF model inputs <a id=\"section6-17\"></a>\n",
    "Below are the DCF model inputs.  These values were calculated above."
   ]
  },
  {
   "cell_type": "code",
   "execution_count": 49,
   "metadata": {},
   "outputs": [
    {
     "name": "stdout",
     "output_type": "stream",
     "text": [
      "excess return period: 10 years\n",
      "starting revenues: $20.580B\n",
      "current stock price: $54.39\n",
      "Current assets: $11.236B\n",
      "Current liabilities: $8.284B\n",
      "Total long term debt and other: $8.064B\n",
      "current stock price: $54.39\n",
      "shares_outstanding, basic: 448,900,000\n",
      "10 year treasury bond yield: 1.38%\n",
      "Bond yield spread to treasury: 1.15%\n",
      "preferred stock yield: 0.00%\n",
      "value of preferred stock: 0.00\n",
      "Equity risk premium: 3.00%\n",
      "Company specific beta: 1.05\n"
     ]
    }
   ],
   "source": [
    "erp = 10                  # excess return period, years\n",
    "print('excess return period: {:,.0f} years'.format(erp))\n",
    "rev_start = df_dcf_data['revenue'].to_numpy()[-1] # starting revenues for excess return period\n",
    "print('starting revenues: ${:,.3f}B'.format(rev_start/1e9))\n",
    "\n",
    "# various inputs\n",
    "print('current stock price: ${:,.2f}'.format(csp))\n",
    "\n",
    "print('Current assets: ${:.3f}B'.format(sta/1e9))\n",
    "print('Current liabilities: ${:.3f}B'.format(stl/1e9))\n",
    "print('Total long term debt and other: ${:.3f}B'.format(vod/1e9))\n",
    "print('current stock price: ${:,.2f}'.format(csp))\n",
    "print('shares_outstanding, basic: {:,.0f}'.format(so))\n",
    "print('10 year treasury bond yield: {:,.2f}%'.format(tby*100))\n",
    "print('Bond yield spread to treasury: {:,.2f}%'.format(bystt*100))\n",
    "print('preferred stock yield: {:,.2f}%'.format(psy*100))\n",
    "print('value of preferred stock: {:,.2f}'.format(vps))\n",
    "print('Equity risk premium: {:,.2f}%'.format(eq_rp*100))\n",
    "print('Company specific beta: {:,.2f}'.format(beta))"
   ]
  },
  {
   "cell_type": "code",
   "execution_count": 50,
   "metadata": {},
   "outputs": [
    {
     "name": "stdout",
     "output_type": "stream",
     "text": [
      "revenue growth rate: -3.083%\n",
      "net operating profit margin: 16.237%\n",
      "tax rate: 8.071%\n",
      "depreciation rate: 6.065%\n",
      "investment rate: 9.156%\n",
      "working capital rate: 14.180%\n"
     ]
    }
   ],
   "source": [
    "# various rates\n",
    "rgr = rgr_avg              # revenue growth rate\n",
    "print('revenue growth rate: {:,.3f}%'.format(rgr*100))\n",
    "nopm = nopm_avg             # net operating profit margin\n",
    "print('net operating profit margin: {:,.3f}%'.format(nopm*100))\n",
    "tr = tax_rate_avg               # tax rate\n",
    "print('tax rate: {:,.3f}%'.format(tr*100))\n",
    "dr = depreciation_rate_avg              # depreciation rate (% of revenue)\n",
    "print('depreciation rate: {:,.3f}%'.format(dr*100))\n",
    "ir = investment_rate_avg              # investment rate (% of revenue)\n",
    "print('investment rate: {:,.3f}%'.format(ir*100))\n",
    "wcr = working_capital_rate_avg            # working capital rate (% of revenue)\n",
    "print('working capital rate: {:,.3f}%'.format(wcr*100))"
   ]
  },
  {
   "cell_type": "code",
   "execution_count": 51,
   "metadata": {},
   "outputs": [
    {
     "name": "stdout",
     "output_type": "stream",
     "text": [
      "starting revenues: $20.58B\n",
      "shares outstanding: 448,900,000\n"
     ]
    }
   ],
   "source": [
    "# General Inputs\n",
    "fy_start = df_dcf_data['FY'].iloc[-1].year # fiscal year to start excess return period\n",
    "erp = 10                  # excess return period, years\n",
    "rev_start = df_dcf_data['revenue'].to_numpy()[-1] # starting revenues for excess return period\n",
    "print('starting revenues: ${:,.2f}B'.format(rev_start/1e9))\n",
    "print('shares outstanding: {:,.0f}'.format(so))"
   ]
  },
  {
   "cell_type": "code",
   "execution_count": 52,
   "metadata": {},
   "outputs": [
    {
     "name": "stdout",
     "output_type": "stream",
     "text": [
      "preferred stock, market value : $0.00B\n",
      "common stock, market value: $24.42B\n"
     ]
    }
   ],
   "source": [
    "ps_mv = vps               # preferred stock, market value \n",
    "print('preferred stock, market value : ${:,.2f}B'.format(ps_mv/1e9))\n",
    "cs_mv = csp*so            # common stock, market value \n",
    "print('common stock, market value: ${:,.2f}B'.format(cs_mv/1e9))"
   ]
  },
  {
   "cell_type": "markdown",
   "metadata": {},
   "source": [
    "**Long Term Debt, Market Value, ltd_mv**  \n",
    "Use the book value for long term debt.  Various online resources can be used to research this item.\n",
    "These include, [Bondsonline](http://www.bondsonline.com/) and [Bloomberg](http://www.bloomberg.com/).  The book value of debt and preferred stock is an accounting measure that relates to how much money was raised by the company when each security was issued.  The market value of debt and the preferred and common stock is the price that specific obligations would trade at in today’s market. \n",
    "\n",
    "Long term debt for firms can take one of two forms.  It can be a long-term loan from a bank or other financial institution or it can be a long-term bond issued to financial markets, in which case the creditors are the investors in the bond.  Firms often have long term obligations that are not captured in the long term debt item.  These include obligations to lessors on assets that firms have leased, to employees in the form of pension fund and health care benefits yet to be paid, and to the government in the form of taxes deferred.  In the last two decades, accountants have increasingly moved towards quantifying these liabilities and showing them as long term liabilities."
   ]
  },
  {
   "cell_type": "code",
   "execution_count": 53,
   "metadata": {},
   "outputs": [
    {
     "name": "stdout",
     "output_type": "stream",
     "text": [
      "total market value: $32.48B\n"
     ]
    }
   ],
   "source": [
    "ltd_mv = vod              # market value of long term debt\n",
    "tmv = ltd_mv+ps_mv+cs_mv  # total market value \n",
    "print('total market value: ${:,.2f}B'.format(tmv/1e9))"
   ]
  },
  {
   "cell_type": "markdown",
   "metadata": {},
   "source": [
    "**Cost of Common Equity, cce**  \n",
    "The expected excess return a hypothetical average investor would require of a diversified portfolio of stock (assumed beta = 1.0) over the yield on the 10-year Treasury Bond.  The annual rate of return that an investor expects to earn when investing in shares of a company is known as the cost of common equity.  It includes dividends and increases in the market value."
   ]
  },
  {
   "cell_type": "code",
   "execution_count": 54,
   "metadata": {},
   "outputs": [
    {
     "name": "stdout",
     "output_type": "stream",
     "text": [
      "cost of common equity: 4.53%\n"
     ]
    }
   ],
   "source": [
    "cce = tby+beta*eq_rp      # cost of common equity or the expected return for the stock\n",
    "print('cost of common equity: {:,.2f}%'.format(cce*100))"
   ]
  },
  {
   "cell_type": "markdown",
   "metadata": {},
   "source": [
    "**Long Term Debt, Average Yield, ltd_ay**  \n",
    "The total cost of long term debt."
   ]
  },
  {
   "cell_type": "code",
   "execution_count": 55,
   "metadata": {},
   "outputs": [
    {
     "name": "stdout",
     "output_type": "stream",
     "text": [
      "long term debt average yield: 2.53%\n"
     ]
    }
   ],
   "source": [
    "ltd_ay = tby+bystt        # long term debt average yield\n",
    "print('long term debt average yield: {:,.2f}%'.format(ltd_ay*100))"
   ]
  },
  {
   "cell_type": "markdown",
   "metadata": {},
   "source": [
    "**Long Term Debt, After Tax Yield, ltd_aty**  \n",
    "The tax benefits of long term debt.  Interest payments are tax deductible for the company."
   ]
  },
  {
   "cell_type": "code",
   "execution_count": 56,
   "metadata": {},
   "outputs": [
    {
     "name": "stdout",
     "output_type": "stream",
     "text": [
      "long term debt after tax yield: 2.33%\n",
      "preferred stock, average yield: 0.00%\n",
      "common stock, after tax yield: 4.53%\n",
      "common stock, after tax effect: 3.41%\n",
      "total after tax effect: 3.98%\n",
      "total % Capital: 100.00%\n"
     ]
    }
   ],
   "source": [
    "ltd_aty = ltd_ay*(1-tr)   # long term debt after tax yield\n",
    "print('long term debt after tax yield: {:,.2f}%'.format(ltd_aty*100))\n",
    "\n",
    "ltd_pc = vod/tmv          # weight for long term debt \n",
    "ltd_ate = ltd_aty*ltd_pc  # after tax effect of long term debt \n",
    "ps_ay = psy               # preferred stock, average yield \n",
    "ps_aty = ps_ay            # preferred stock, average yield \n",
    "print('preferred stock, average yield: {:,.2f}%'.format(ps_aty*100))\n",
    "\n",
    "ps_pc = ps_mv/tmv         # preferred stock, % capital \n",
    "ps_ate = ps_aty*ps_pc     # preferred stock, after tax effect \n",
    "cs_ay = cce               # common stock, average yield \n",
    "cs_aty = cce              # common stock, after tax yield \n",
    "print('common stock, after tax yield: {:,.2f}%'.format(cs_aty*100))\n",
    "\n",
    "cs_pc = cs_mv/tmv         # common stock, % capital \n",
    "cs_ate = cs_aty*cs_pc     # common stock, after tax effect \n",
    "print('common stock, after tax effect: {:,.2f}%'.format(cs_ate*100))\n",
    "\n",
    "tate = ltd_ate+ps_ate+cs_ate # total after tax effect \n",
    "print('total after tax effect: {:,.2f}%'.format(tate*100))\n",
    "tpc = ltd_pc+ps_pc+cs_pc     # total % Capital\n",
    "print('total % Capital: {:,.2f}%'.format(tpc*100))"
   ]
  },
  {
   "cell_type": "markdown",
   "metadata": {},
   "source": [
    "**Weighted average cost of capital**  \n",
    "A company's weighted average cost of capital (WACC) is the weighted average of the company's current cost of debt and equity calculated by using current debt, preferred stock and common stock market values.  The WACC of the company, calculated after tax, is the discount rate used in the DCF valuation procedures. The WACC, which is the cost of the different components of financing used by the firm, weighted by their market value proportions.  These include debt, preferred stock, and common stock.\n",
    "\n",
    "WACC: Weighted Average Cost of Capital, the rate used to discount cash flows, based on the following three factors.\n",
    "1. Base rate of return.\n",
    "2. Expected return based on debt and preferred stock.\n",
    "3. Expected return on common stock and Beta.\n",
    "\n",
    "All adjusted for the tax advantage of interest payments and the percentage of debt, preferred stock and common stock."
   ]
  },
  {
   "cell_type": "code",
   "execution_count": 57,
   "metadata": {},
   "outputs": [
    {
     "name": "stdout",
     "output_type": "stream",
     "text": [
      "weighted average cost of capital: 4.0%\n"
     ]
    }
   ],
   "source": [
    "wacc = tate\n",
    "print('weighted average cost of capital: {:.1f}%'.format(wacc*100))"
   ]
  },
  {
   "cell_type": "markdown",
   "metadata": {},
   "source": [
    "### Future cash flows <a id=\"section6-18\"></a>\n",
    "The future cash flows to the firm are projected based on revenue growth.  The cash flows are then discounted using the WACC and the ISV is calculated."
   ]
  },
  {
   "cell_type": "code",
   "execution_count": 58,
   "metadata": {},
   "outputs": [
    {
     "name": "stdout",
     "output_type": "stream",
     "text": [
      "Year       Rev       NOP  AdjTaxes     NOPAT   Invest.   Deprec.  dInvest.       dWC      FCFF        DF   DF*FCFF\n",
      "2020    20,580         0         0         0         0         0         0         0         0    0.0000         0\n",
      "2021    19,946     3,239       261     2,977     1,826     1,210       616       -90     2,451    0.9617     2,357\n",
      "2022    19,331     3,139       253     2,885     1,770     1,172       597       -87     2,375    0.9249     2,197\n",
      "2023    18,735     3,042       246     2,796     1,715     1,136       579       -85     2,302    0.8894     2,047\n",
      "2024    18,157     2,948       238     2,710     1,662     1,101       561       -82     2,231    0.8554     1,908\n",
      "2025    17,597     2,857       231     2,627     1,611     1,067       544       -79     2,162    0.8226     1,779\n",
      "2026    17,055     2,769       224     2,546     1,561     1,034       527       -77     2,096    0.7911     1,658\n",
      "2027    16,529     2,684       217     2,467     1,513     1,003       511       -75     2,031    0.7608     1,545\n",
      "2028    16,020     2,601       210     2,391     1,467       972       495       -72     1,968    0.7317     1,440\n",
      "2029    15,526     2,521       203     2,317     1,421       942       480       -70     1,908    0.7036     1,342\n",
      "2030    15,047     2,443       197     2,246     1,378       913       465       -68     1,849    0.6767     1,251\n"
     ]
    }
   ],
   "source": [
    "# make a list of the fiscal years in excess return period \n",
    "fy = np.zeros(erp+1)\n",
    "fy[0] = fy_start\n",
    "for i in range(1,erp+1): \n",
    "    fy[i]=fy_start+i\n",
    "\n",
    "rev = np.zeros(len(fy))\n",
    "ciwc = np.zeros(len(fy))\n",
    "rev[0] = rev_start  #*rgr+rev_start   # find the future revenue using constant revenue growth rate \n",
    "\n",
    "for i in range(1,len(fy)): \n",
    "    rev[i] = rev[i-1]*rgr+rev[i-1]  # find the future revenue \n",
    "    ciwc[i] = (rev[i]-rev[i-1])*wcr  # find the change in working capital \n",
    "\n",
    "nop = np.zeros(len(fy))\n",
    "adj_taxes = np.zeros(len(fy))\n",
    "nopat = np.zeros(len(fy))\n",
    "invest = np.zeros(len(fy))\n",
    "depre = np.zeros(len(fy))\n",
    "net_invest = np.zeros(len(fy))\n",
    "fcff = np.zeros(len(fy))\n",
    "disc_fact = np.zeros(len(fy))\n",
    "disc_fcff = np.zeros(len(fy))                \n",
    "\n",
    "# calculate values in table \n",
    "for i in range(1,len(fy)): \n",
    "    nop[i] = rev[i]*nopm # net operating profit\n",
    "    adj_taxes[i] = nop[i]*tr # net operating profit adjusted for taxes\n",
    "    nopat[i] = nop[i]-adj_taxes[i] # after tax net operating profit\n",
    "    invest[i] = rev[i]*ir # future investments\n",
    "    depre[i] = rev[i]*dr # future depreciations\n",
    "    net_invest[i] = invest[i]-depre[i] # net investments\n",
    "    fcff[i] = nopat[i]-net_invest[i]-ciwc[i] # free cash flow to the firm\n",
    "    disc_fact[i] = 1/((1+wacc)**i) # discount factor\n",
    "    disc_fcff[i] = disc_fact[i]*fcff[i] # discounted free cash flow to the firm\n",
    "    \n",
    "dcrv = nopat[-1]/wacc*disc_fact[-1] # discounted corporate residual value\n",
    "derp_fcff = disc_fcff.sum() # discounted excess return period FCFF\n",
    "\n",
    "tcv = derp_fcff+dcrv+sta # total corporate value\n",
    "tvce = tcv-vod-vps-stl # total value of common equity\n",
    "isv = tvce/so # intrinsic stock value\n",
    "\n",
    "# print cash flows in a table\n",
    "print('{:4s}{:>10s}{:>10s}{:>10s}{:>10s}{:>10s}{:>10s}{:>10s}{:>10s}{:>10s}{:>10s}{:>10s}'.format('Year','Rev','NOP','AdjTaxes',\n",
    "    'NOPAT','Invest.','Deprec.','dInvest.','dWC','FCFF','DF','DF*FCFF'))\n",
    "for i in range(len(fy)):\n",
    "    print('{:4.0f}{:10,.0f}{:10,.0f}{:10,.0f}{:10,.0f}{:10,.0f}{:10,.0f}{:10,.0f}{:10,.0f}{:10,.0f}{:10,.4f}{:10,.0f}'.format(fy[i],\n",
    "        rev[i]/1e6,nop[i]/1e6,adj_taxes[i]/1e6,nopat[i]/1e6,invest[i]/1e6,depre[i]/1e6,(invest[i]-depre[i])/1e6,ciwc[i]/1e6,\n",
    "        fcff[i]/1e6,disc_fact[i],disc_fcff[i]/1e6))"
   ]
  },
  {
   "cell_type": "code",
   "execution_count": 59,
   "metadata": {},
   "outputs": [
    {
     "name": "stdout",
     "output_type": "stream",
     "text": [
      "discounted excess return period FCFF: $17.52B\n",
      "discounted corporate residual value: $38.16B\n",
      "total corporate value: $66.92B\n",
      "total value of common equity: $50.57B\n",
      "intrinsic stock value: $112.66\n",
      "current stock price: $54.39\n"
     ]
    }
   ],
   "source": [
    "# Intrinsic Value\n",
    "print('discounted excess return period FCFF: ${:,.2f}B'.format(derp_fcff/1e9))\n",
    "print('discounted corporate residual value: ${:,.2f}B'.format(dcrv/1e9))\n",
    "print('total corporate value: ${:,.2f}B'.format(tcv/1e9))\n",
    "print('total value of common equity: ${:,.2f}B'.format(tvce/1e9))\n",
    "print('intrinsic stock value: ${:,.2f}'.format(isv))\n",
    "print('current stock price: ${:,.2f}'.format(csp))"
   ]
  },
  {
   "cell_type": "markdown",
   "metadata": {},
   "source": [
    "**Observations:**  \n",
    "The basic DCF analysis produces an intrinsic stock value of \\\\$112, which is about double the current price.  By the DCF method, using the basic inputs to the model we can conclude the stock is selling at a discount to the intrinsic value.  \n",
    "\n",
    "The calculations used here can be verified by using the [Valuepro](http://www.valuepro.net/index.shtml) web site, which calculates ISV based on the same method."
   ]
  },
  {
   "cell_type": "code",
   "execution_count": null,
   "metadata": {},
   "outputs": [],
   "source": []
  },
  {
   "cell_type": "markdown",
   "metadata": {},
   "source": [
    "## 7) DCF Scenarios <a id=\"section7\"></a>\n",
    "Adjusting the weighted average cost of capital to 10.0% to reflect a higher interest and inflation period in the future and changing the revenue growth rate to a modest 1.00%."
   ]
  },
  {
   "cell_type": "code",
   "execution_count": 60,
   "metadata": {},
   "outputs": [
    {
     "name": "stdout",
     "output_type": "stream",
     "text": [
      "weighted average cost of capital: 10.0%\n",
      "revenue growth rate: 1.00%\n"
     ]
    }
   ],
   "source": [
    "wacc = 0.1 # weighted average cost of capital\n",
    "print('weighted average cost of capital: {:.1f}%'.format(wacc*100))\n",
    "\n",
    "rgr = 0.01  # revenue growth rate\n",
    "print('revenue growth rate: {:,.2f}%'.format(rgr*100))\n",
    "\n",
    "#nopm = 0.03             # net operating profit margin\n",
    "#print('net operating profit margin: {:,.2f}%'.format(nopm*100))"
   ]
  },
  {
   "cell_type": "code",
   "execution_count": 61,
   "metadata": {},
   "outputs": [
    {
     "name": "stdout",
     "output_type": "stream",
     "text": [
      "year       rev       nop        at     nopat    invest     depre        ci      ciwc      FCFF      disc     dFCFF\n",
      "2020    20,580         0         0         0         0         0         0         0         0    0.0000         0\n",
      "2021    20,786     3,375       272     3,103     1,903     1,261       642        29     2,431    0.9091     2,210\n",
      "2022    20,994     3,409       275     3,134     1,922     1,273       649        29     2,455    0.8264     2,029\n",
      "2023    21,204     3,443       278     3,165     1,941     1,286       655        30     2,480    0.7513     1,863\n",
      "2024    21,416     3,477       281     3,197     1,961     1,299       662        30     2,505    0.6830     1,711\n",
      "2025    21,630     3,512       283     3,229     1,980     1,312       668        30     2,530    0.6209     1,571\n",
      "2026    21,846     3,547       286     3,261     2,000     1,325       675        31     2,555    0.5645     1,442\n",
      "2027    22,065     3,583       289     3,293     2,020     1,338       682        31     2,581    0.5132     1,324\n",
      "2028    22,285     3,618       292     3,326     2,040     1,352       689        31     2,606    0.4665     1,216\n",
      "2029    22,508     3,655       295     3,360     2,061     1,365       696        32     2,633    0.4241     1,116\n",
      "2030    22,733     3,691       298     3,393     2,081     1,379       702        32     2,659    0.3855     1,025\n"
     ]
    }
   ],
   "source": [
    "# make a list of the fiscal years in excess return period \n",
    "fy = np.zeros(erp+1)\n",
    "fy[0] = fy_start\n",
    "for i in range(1,erp+1): \n",
    "    fy[i]=fy_start+i\n",
    "\n",
    "rev = np.zeros(len(fy))\n",
    "ciwc = np.zeros(len(fy))\n",
    "rev[0] = rev_start  #*rgr+rev_start   # find the future revenue using constant revenue growth rate \n",
    "\n",
    "for i in range(1,len(fy)): \n",
    "    rev[i] = rev[i-1]*rgr+rev[i-1]  # find the future revenue \n",
    "    ciwc[i] = (rev[i]-rev[i-1])*wcr  # find the change in working capital \n",
    "\n",
    "nop = np.zeros(len(fy))\n",
    "adj_taxes = np.zeros(len(fy))\n",
    "nopat = np.zeros(len(fy))\n",
    "invest = np.zeros(len(fy))\n",
    "depre = np.zeros(len(fy))\n",
    "net_invest = np.zeros(len(fy))\n",
    "fcff = np.zeros(len(fy))\n",
    "disc_fact = np.zeros(len(fy))\n",
    "disc_fcff = np.zeros(len(fy))                \n",
    "\n",
    "# calculate values in table \n",
    "for i in range(1,len(fy)): \n",
    "    nop[i] = rev[i]*nopm # net operating profit\n",
    "    adj_taxes[i] = nop[i]*tr # net operating profit adjusted for taxes\n",
    "    nopat[i] = nop[i]-adj_taxes[i] # after tax net operating profit\n",
    "    invest[i] = rev[i]*ir # future investments\n",
    "    depre[i] = rev[i]*dr # future depreciations\n",
    "    net_invest[i] = invest[i]-depre[i] # net investments\n",
    "    fcff[i] = nopat[i]-net_invest[i]-ciwc[i] # free cash flow to the firm\n",
    "    disc_fact[i] = 1/((1+wacc)**i) # discount factor\n",
    "    disc_fcff[i] = disc_fact[i]*fcff[i] # discounted free cash flow to the firm\n",
    "    \n",
    "dcrv = nopat[-1]/wacc*disc_fact[-1] # discounted corporate residual value\n",
    "derp_fcff = disc_fcff.sum() # discounted excess return period FCFF\n",
    "\n",
    "tcv = derp_fcff+dcrv+sta # total corporate value\n",
    "tvce = tcv-vod-vps-stl # total value of common equity\n",
    "isv = tvce/so # intrinsic stock value\n",
    "\n",
    "# print cash flows in a table\n",
    "print('{:4s}{:>10s}{:>10s}{:>10s}{:>10s}{:>10s}{:>10s}{:>10s}{:>10s}{:>10s}{:>10s}{:>10s}'.format('year','rev','nop','at',\n",
    "    'nopat','invest','depre','ci','ciwc','FCFF','disc','dFCFF'))\n",
    "for i in range(len(fy)):\n",
    "    print('{:4.0f}{:10,.0f}{:10,.0f}{:10,.0f}{:10,.0f}{:10,.0f}{:10,.0f}{:10,.0f}{:10,.0f}{:10,.0f}{:10,.4f}{:10,.0f}'.format(fy[i],\n",
    "        rev[i]/1e6,nop[i]/1e6,adj_taxes[i]/1e6,nopat[i]/1e6,invest[i]/1e6,depre[i]/1e6,(invest[i]-depre[i])/1e6,ciwc[i]/1e6,\n",
    "        fcff[i]/1e6,disc_fact[i],disc_fcff[i]/1e6))"
   ]
  },
  {
   "cell_type": "code",
   "execution_count": 62,
   "metadata": {},
   "outputs": [
    {
     "name": "stdout",
     "output_type": "stream",
     "text": [
      "discounted excess return period FCFF: $15.51B\n",
      "discounted corporate residual value: $13.08B\n",
      "total corporate value: $39.83B\n",
      "total value of common equity: $23.48B\n",
      "intrinsic stock value: $52.30\n"
     ]
    }
   ],
   "source": [
    "# Intrinsic Value\n",
    "print('discounted excess return period FCFF: ${:,.2f}B'.format(derp_fcff/1e9))\n",
    "print('discounted corporate residual value: ${:,.2f}B'.format(dcrv/1e9))\n",
    "print('total corporate value: ${:,.2f}B'.format(tcv/1e9))\n",
    "print('total value of common equity: ${:,.2f}B'.format(tvce/1e9))\n",
    "print('intrinsic stock value: ${:,.2f}'.format(isv))"
   ]
  },
  {
   "cell_type": "markdown",
   "metadata": {},
   "source": [
    "The DCF model calculates an intrinsic stock value of \\\\$52.30.  This is inline with the current price.  \n",
    "\n",
    "Since we don’t see a big disparity between the intrinsic value of the basic case and this scenario to the current price, we can assume the company is trading near fair value."
   ]
  },
  {
   "cell_type": "code",
   "execution_count": null,
   "metadata": {},
   "outputs": [],
   "source": []
  },
  {
   "cell_type": "markdown",
   "metadata": {},
   "source": [
    "## 8) Dividend Discount Model <a id=\"section8\"></a>\n",
    "\n",
    "Dividend Discount Model – DDM\n",
    "The dividend discount model (DDM) is a quantitative method used for predicting the price of a company's stock based on the theory that its present-day price is worth the sum of all of its future dividend payments when discounted back to their present value.   \n",
    "https://www.investopedia.com/terms/d/ddm.asp   \n",
    "https://www.fidelity.com/learning-center/trading-investing/fundamental-analysis/dividends-cash-flow-earnings-discount-models   \n",
    "https://en.wikipedia.org/wiki/Dividend_discount_model  \n",
    "\n",
    "#### The Gordon Growth Model\n",
    "The Gordon growth model can be used to value a firm that is in 'steady state' with dividends growing at a rate that can be sustained forever.\n"
   ]
  },
  {
   "cell_type": "code",
   "execution_count": 63,
   "metadata": {},
   "outputs": [],
   "source": [
    "#column names: fiscal years \n",
    "years_list = df_metrics.columns[1:].values.astype('str')[::-1]\n",
    "\n",
    "# convert years to datetime format\n",
    "year_ended_list = []\n",
    "for i in years_list:\n",
    "    year_ended_list.append(datetime.strptime(i, '%Y'))"
   ]
  },
  {
   "cell_type": "code",
   "execution_count": 64,
   "metadata": {},
   "outputs": [],
   "source": [
    "#line 8: Dividends per share  \n",
    "dps = df_metrics.iloc[8].to_numpy()[1:].astype('float')[::-1]"
   ]
  },
  {
   "cell_type": "code",
   "execution_count": 65,
   "metadata": {},
   "outputs": [
    {
     "data": {
      "image/png": "[encoded data removed]",
      "text/plain": [
       "<Figure size 432x288 with 2 Axes>"
      ]
     },
     "metadata": {
      "needs_background": "light"
     },
     "output_type": "display_data"
    }
   ],
   "source": [
    "# calculate the percent change in dividends\n",
    "pcd = np.zeros(len(dps)) # percent change in dividend\n",
    "for i in range(len(dps[0:-1])):\n",
    "    pcd[i+1] = ((dps[i+1] - dps[i])/\n",
    "                dps[i+1])*100\n",
    "\n",
    "width = 100\n",
    "\n",
    "# Set the locator\n",
    "locator = mdates.YearLocator()  # every year\n",
    "fmt = mdates.DateFormatter('%Y')\n",
    "\n",
    "fig, ax1 = plt.subplots()\n",
    "ax1.set_ylabel('Dividend per share, $')\n",
    "\n",
    "# plot revenue as single bar\n",
    "plt.bar(year_ended_list,dps, width,color='k')\n",
    "\n",
    "ax1.tick_params(axis='y')\n",
    "plt.grid()\n",
    "\n",
    "# instantiate a second y-axes that shares the same x-axis\n",
    "ax2 = ax1.twinx()\n",
    "color = 'tab:green'\n",
    "\n",
    "ax2.plot(year_ended_list,pcd,'+-g')\n",
    "    \n",
    "ax2.set_ylabel('% Change in dividend',color=color)\n",
    "ax2.tick_params(axis='y', labelcolor=color)\n",
    "ax2.set_ylim((0,20))\n",
    "\n",
    "X = plt.gca().xaxis\n",
    "X.set_major_locator(locator)\n",
    "# Specify formatter\n",
    "X.set_major_formatter(fmt)\n",
    "plt.gcf().autofmt_xdate()\n",
    "\n",
    "plt.title('Dividend per share')\n",
    "plt.show()"
   ]
  },
  {
   "cell_type": "code",
   "execution_count": 66,
   "metadata": {},
   "outputs": [
    {
     "name": "stdout",
     "output_type": "stream",
     "text": [
      "average dividend growth rate: 11.74%\n"
     ]
    }
   ],
   "source": [
    "print('average dividend growth rate: {:.2f}%'.format(pcd[1:].mean()))"
   ]
  },
  {
   "cell_type": "markdown",
   "metadata": {},
   "source": [
    "For the past ten years dividends have increased every year.  In 2011 there was a large increase based on  strong free cash flow of \\$419 million. The company announced a large dividend increase."
   ]
  },
  {
   "cell_type": "code",
   "execution_count": 67,
   "metadata": {},
   "outputs": [
    {
     "name": "stdout",
     "output_type": "stream",
     "text": [
      "ERROR: ke needs to be greater than g\n"
     ]
    }
   ],
   "source": [
    "# The Gordon Growth Model\n",
    "ke = 3/100 # Required rate of return for equity investors\n",
    "g = pcd[1:].mean()/100 # Growth rate in dividends forever\n",
    "DPS1 = dps[-1] + dps[-1]*g # Expected Dividends one year from now (next period)\n",
    "if ke <= g:\n",
    "    print('ERROR: ke needs to be greater than g')\n",
    "else:\n",
    "    print('value of the stock: ${:.2f}'.format(DPS1/(ke-g)))"
   ]
  },
  {
   "cell_type": "markdown",
   "metadata": {},
   "source": [
    "**Observations:**  Based on current trends, the DDM predicts a high value for the stock.  \n",
    "\n",
    "Since the company is not in steady state, let's use a modest dividend growth rate of 2%, the future value is recalculated."
   ]
  },
  {
   "cell_type": "code",
   "execution_count": 68,
   "metadata": {},
   "outputs": [
    {
     "name": "stdout",
     "output_type": "stream",
     "text": [
      "value of the stock: $100.32\n"
     ]
    }
   ],
   "source": [
    "# The Gordon Growth Model\n",
    "ke = 4/100 # Required rate of return for equity investors\n",
    "g = 2/100 # Growth rate in dividends forever\n",
    "print('value of the stock: ${:.2f}'.format(DPS1/(ke-g)))"
   ]
  },
  {
   "cell_type": "markdown",
   "metadata": {},
   "source": [
    "Looking at a future dividend growth rate of 0.5%."
   ]
  },
  {
   "cell_type": "code",
   "execution_count": 69,
   "metadata": {},
   "outputs": [
    {
     "name": "stdout",
     "output_type": "stream",
     "text": [
      "value of the stock: $57.32\n"
     ]
    }
   ],
   "source": [
    "# The Gordon Growth Model\n",
    "ke = 4/100 # Required rate of return for equity investors\n",
    "g = 0.5/100 # Growth rate in dividends forever\n",
    "print('value of the stock: ${:.2f}'.format(DPS1/(ke-g)))"
   ]
  },
  {
   "cell_type": "code",
   "execution_count": 70,
   "metadata": {},
   "outputs": [
    {
     "name": "stdout",
     "output_type": "stream",
     "text": [
      "dividend yield: 3.9 %\n"
     ]
    }
   ],
   "source": [
    "# data from yahoo finance, on 9-15-2021\n",
    "share_price = 52.06\n",
    "print('dividend yield: {:.1f} %'.format(DPS1/share_price*100))"
   ]
  },
  {
   "cell_type": "markdown",
   "metadata": {},
   "source": [
    "## 9) Value analysis  <a id=\"section9\"></a>\n",
    "The following analysis follows the Warren Buffett strategy as outlined in [3].  This strategy is essentially value investing where companies are chosen that meet a set of criteria and who's stock price is below the intrinsic value plus a margin of safety.  These investments are usually held for the long term.  \n",
    "\n",
    "Outline:   \n",
    "- [Business metrics](#section9-1)\n",
    " - simple and understandable\n",
    " - favorable long term prospects\n",
    "- [Management metrics](#section9-2)\n",
    " - consistent operating history\n",
    " - candor\n",
    " - rationality: focus on core aspects, only invest in high ROE businesses, focus on shareholder equity\n",
    "- [Financial metrics](#section9-3)\n",
    " - Dividend yield  \n",
    " - Payout ratio  \n",
    " - Return on equity  \n",
    " - Return on Assets  \n",
    " - Debt to equity  \n",
    " - Profit Margin  \n",
    " - Safety margin \n",
    " - One dollar premise\n",
    "- [Market metrics](#section9-4)\n",
    " - The price is determined by the market. The value is determined by the analyst.\n",
    " - What is the value of the business?\n",
    " - Can the business be purchased at a discount to it's value?"
   ]
  },
  {
   "cell_type": "code",
   "execution_count": null,
   "metadata": {},
   "outputs": [],
   "source": []
  },
  {
   "cell_type": "markdown",
   "metadata": {},
   "source": [
    "### Business metrics <a id=\"section9-1\"></a>\n",
    "\n",
    "**Simple and understandable**  \n",
    "Not examined.\n",
    "\n",
    "**Favorable long term prospects**  \n",
    "Not examined.\n",
    "\n",
    "**Commodity Reliance**  \n",
    "Not examined.\n",
    "\n",
    "### Management metrics <a id=\"section9-2\"></a>\n",
    "\n",
    "**Consistent operating history**  \n",
    "Not examined. \n",
    "\n",
    "**Candor**  \n",
    "Not examined.\n",
    "\n",
    "**Rationality**  \n",
    "Not examined.\n",
    "\n",
    "Back to [**Contents**](#section0)  "
   ]
  },
  {
   "cell_type": "code",
   "execution_count": null,
   "metadata": {},
   "outputs": [],
   "source": []
  },
  {
   "cell_type": "markdown",
   "metadata": {},
   "source": [
    "### Financial metrics <a id=\"section9-3\"></a>\n",
    "The following financial metrics are looked at over the evaluation period.  \n",
    "- Dividend yield  \n",
    "- Payout ratio  \n",
    "- Return on equity  \n",
    "- Return on Assets  \n",
    "- Debt to equity  \n",
    "- Profit Margin  \n",
    "- Safety margin \n",
    "- One dollar premise"
   ]
  },
  {
   "cell_type": "markdown",
   "metadata": {},
   "source": [
    "**Dividend yield**  \n",
    "Plot the dividend yield history over the evaluation period."
   ]
  },
  {
   "cell_type": "code",
   "execution_count": 71,
   "metadata": {},
   "outputs": [
    {
     "data": {
      "image/png": "[encoded data removed]",
      "text/plain": [
       "<Figure size 432x288 with 1 Axes>"
      ]
     },
     "metadata": {
      "needs_background": "light"
     },
     "output_type": "display_data"
    }
   ],
   "source": [
    "# Set the locator\n",
    "locator = mdates.YearLocator()  # every year\n",
    "fmt = mdates.DateFormatter('%Y')\n",
    "\n",
    "width = 50  # the width of the bars\n",
    "plt.bar(year_ended_list,(dps/fy_high-dps/fy_low)*100, width,bottom=dps/fy_low*100,label='yield')\n",
    "X = plt.gca().xaxis\n",
    "X.set_major_locator(locator)\n",
    "# Specify formatter\n",
    "X.set_major_formatter(fmt)\n",
    "plt.gcf().autofmt_xdate()\n",
    "\n",
    "plt.ylim((1,8))\n",
    "plt.title('Range of dividend yield each year')\n",
    "plt.ylabel('dividend yield, %')\n",
    "#plt.legend()\n",
    "plt.grid()\n",
    "\n",
    "# show plot\n",
    "plt.show()"
   ]
  },
  {
   "cell_type": "markdown",
   "metadata": {},
   "source": [
    "Over the past ten years, the dividend yield has ranged from between 3 and 5 percent, but in 2020 with the stock price falling, the dividend yield has peaked at 7%.  This level of dividend yield would suggest that the stock is reasonably priced."
   ]
  },
  {
   "cell_type": "markdown",
   "metadata": {},
   "source": [
    "**Payout ratio**  \n",
    "The payout ratio is plotted using net income and free cash flow (Net cash provided by operating activities)."
   ]
  },
  {
   "cell_type": "code",
   "execution_count": 72,
   "metadata": {},
   "outputs": [],
   "source": [
    "#line 0: Net income\n",
    "net_income = df_metrics.iloc[1].to_numpy()[1:].astype('float')[::-1]\n",
    "# line 3: Free cash flow, Net cash provided by operating activities \n",
    "free_cash_flow =  df_metrics.iloc[4].to_numpy()[1:].astype('float')[::-1]\n",
    "# line 4: Dividends\n",
    "dividends =  df_metrics.iloc[5].to_numpy()[1:].astype('float')[::-1]"
   ]
  },
  {
   "cell_type": "code",
   "execution_count": 73,
   "metadata": {},
   "outputs": [
    {
     "data": {
      "image/png": "[encoded data removed]",
      "text/plain": [
       "<Figure size 432x288 with 1 Axes>"
      ]
     },
     "metadata": {
      "needs_background": "light"
     },
     "output_type": "display_data"
    }
   ],
   "source": [
    "# Set the locator\n",
    "locator = mdates.YearLocator()  # every year\n",
    "fmt = mdates.DateFormatter('%Y')\n",
    "\n",
    "fig, ax1 = plt.subplots()\n",
    "ax1.set_ylabel('Payout ratio')\n",
    "\n",
    "ax1.plot(year_ended_list,dividends/net_income, '-+',label='Payout ratio using net income')\n",
    "ax1.plot(year_ended_list,dividends/free_cash_flow, '-*',label='Payout ratio using cash flow')\n",
    "\n",
    "ax1.tick_params(axis='y')\n",
    "ax1.set_ylim((0,2))\n",
    "ax1.legend()\n",
    "plt.grid()\n",
    "\n",
    "X = plt.gca().xaxis\n",
    "X.set_major_locator(locator)\n",
    "# Specify formatter\n",
    "X.set_major_formatter(fmt)\n",
    "plt.gcf().autofmt_xdate()\n",
    "\n",
    "plt.title('Payout ratio')\n",
    "plt.show()"
   ]
  },
  {
   "cell_type": "markdown",
   "metadata": {},
   "source": [
    "The payout ratio based on income had risen to above one for 2020.  This is a yellow flag."
   ]
  },
  {
   "cell_type": "markdown",
   "metadata": {},
   "source": [
    "**Return on equity**  \n",
    "Sometimes return on equity (RoE) is referred to as stockholder's return on investment. It reveals the rate at which shareholders earn income on their shares. Buffett always looks at RoE to see whether a company has consistently performed well compared to other companies in the same industry. RoE is calculated as follows:\n",
    "\n",
    "$\\text{Return on Equity (RoE)} = \\frac {\\text{Net Income}} {\\text{Shareholder's Equity}}$\n",
    "\n",
    "Looking at the ROE in just the last year isn't enough. The investor should view the ROE from the past five to 10 years to analyze historical performance.\n",
    "\n",
    "$\\text{Shareholders’ Equity} = \\text{Total Assets} − \\text{Total Liabilities}$    \n",
    "\n",
    "For this company, this method of getting Shareholders’ Equity gives negative values.  On the Consolidated Balance Sheets, there is a line for Total stockholders’ equity, which is used."
   ]
  },
  {
   "cell_type": "code",
   "execution_count": 74,
   "metadata": {},
   "outputs": [],
   "source": [
    "# line 2: Shareholder equity\n",
    "shareholder_equity =  df_metrics.iloc[2].to_numpy()[1:].astype('float')[::-1]"
   ]
  },
  {
   "cell_type": "code",
   "execution_count": 75,
   "metadata": {},
   "outputs": [
    {
     "data": {
      "image/png": "[encoded data removed]",
      "text/plain": [
       "<Figure size 432x288 with 1 Axes>"
      ]
     },
     "metadata": {
      "needs_background": "light"
     },
     "output_type": "display_data"
    }
   ],
   "source": [
    "# Set the locator\n",
    "locator = mdates.YearLocator()  # every year\n",
    "fmt = mdates.DateFormatter('%Y')\n",
    "\n",
    "fig, ax1 = plt.subplots()\n",
    "ax1.set_ylabel('RoE %')\n",
    "\n",
    "ax1.plot(year_ended_list,net_income/shareholder_equity*100, '-+k')\n",
    "\n",
    "ax1.tick_params(axis='y')\n",
    "ax1.set_ylim((0,40))\n",
    "#ax1.legend()\n",
    "plt.grid()\n",
    "\n",
    "X = plt.gca().xaxis\n",
    "X.set_major_locator(locator)\n",
    "# Specify formatter\n",
    "X.set_major_formatter(fmt)\n",
    "plt.gcf().autofmt_xdate()\n",
    "\n",
    "plt.title('Return on equity')\n",
    "plt.show()"
   ]
  },
  {
   "cell_type": "markdown",
   "metadata": {},
   "source": [
    "**Observation**  \n",
    "The RoE has fallen for the past four years, this is a red flag.  However, for 2019 and 2020, a case could be made that revenues have fallen as a result of the pandemic, therefore a declining RoE is expected and not as result of management decisions.  "
   ]
  },
  {
   "cell_type": "code",
   "execution_count": null,
   "metadata": {},
   "outputs": [],
   "source": []
  },
  {
   "cell_type": "markdown",
   "metadata": {},
   "source": [
    "**Return on Assets**   \n",
    "Return on assets is a profitability ratio that provides how much profit a company is able to generate from its assets. In other words, return on assets (RoA) measures how efficient a company's management is in generating earnings from their economic resources or assets on their balance sheet.\n",
    "\n",
    "$\\text{Return on assets (RoA)} = \\frac {\\text{Net Income}} {\\text{Average Total Assets}}$\n",
    "\n",
    "Calculating the RoA of a company can be helpful in comparing a company's profitability over multiple quarters and years as well as comparing to similar companies. However, it's important to compare companies of similar size and industry.\n",
    "\n",
    "For example, banks tend to have a large number of total assets on their books in the form of loans, cash, and investments. A large bank could easily have over \\\\$2 trillion in assets while putting up a net income that's similar to companies in other industries. Although the bank's net income or profit might be similar to an unrelated company and the bank might have high-quality assets, the bank's RoA will be lower. The larger number of total assets must be divided into the net income, creating a lower RoA for the bank.\n",
    "\n",
    "Similarly, auto manufacturing requires huge facilities and specialized equipment. A lucrative software company that sells downloadable programs online may generate the same net profits, but it could have a significantly higher ROA than its more asset-heavy counterparts. When utilizing this metric to compare productivity across businesses, it's important to take into account what types of assets are required to function in a given industry, rather than simply comparing the figures."
   ]
  },
  {
   "cell_type": "code",
   "execution_count": 76,
   "metadata": {},
   "outputs": [],
   "source": [
    "#line 6: Total assets\n",
    "total_assets = df_metrics.iloc[6].to_numpy()[1:].astype('float')[::-1]"
   ]
  },
  {
   "cell_type": "code",
   "execution_count": 77,
   "metadata": {},
   "outputs": [
    {
     "data": {
      "image/png": "[encoded data removed]",
      "text/plain": [
       "<Figure size 432x288 with 1 Axes>"
      ]
     },
     "metadata": {
      "needs_background": "light"
     },
     "output_type": "display_data"
    }
   ],
   "source": [
    "# Set the locator\n",
    "locator = mdates.YearLocator()  # every year\n",
    "fmt = mdates.DateFormatter('%Y')\n",
    "\n",
    "fig, ax1 = plt.subplots()\n",
    "ax1.set_ylabel('RoA, %')\n",
    "\n",
    "ax1.plot(year_ended_list,net_income/total_assets*100, '-+k')\n",
    "\n",
    "ax1.tick_params(axis='y')\n",
    "ax1.set_ylim((0,10))\n",
    "#ax1.legend()\n",
    "plt.grid()\n",
    "\n",
    "X = plt.gca().xaxis\n",
    "X.set_major_locator(locator)\n",
    "# Specify formatter\n",
    "X.set_major_formatter(fmt)\n",
    "plt.gcf().autofmt_xdate()\n",
    "\n",
    "plt.title('Return on assets')\n",
    "plt.show()"
   ]
  },
  {
   "cell_type": "markdown",
   "metadata": {},
   "source": [
    "**Observation:**  \n",
    "The RoA has fallen for the past four years, this would normally be a red flag, however some consideration needs to be made for the pandemic."
   ]
  },
  {
   "cell_type": "code",
   "execution_count": null,
   "metadata": {},
   "outputs": [],
   "source": []
  },
  {
   "cell_type": "markdown",
   "metadata": {},
   "source": [
    "**Debt to equity**   \n",
    "The debt-to-equity ratio (D/E) is another key characteristic Buffett considers carefully. Buffett prefers to see a small amount of debt so that earnings growth is being generated from shareholders' equity as opposed to borrowed money. The D/E ratio is calculated as follows:\n",
    "\n",
    "$\\text{Debt-to-Equity Ratio} = \\frac {\\text{Total Liabilities}} {\\text{Shareholders' Equity}}$\n",
    "\n",
    "This ratio shows the proportion of equity and debt the company uses to finance its assets, and the higher the ratio, the more debt—rather than equity—is financing the company. A high debt level compared to equity can result in volatile earnings and large interest expenses. For a more stringent test, investors sometimes use only long-term debt instead of total liabilities in the calculation above."
   ]
  },
  {
   "cell_type": "code",
   "execution_count": 78,
   "metadata": {},
   "outputs": [],
   "source": [
    "#line 2: Total liabilities\n",
    "total_liabilities = df_metrics.iloc[3].to_numpy()[1:].astype('float')[::-1]"
   ]
  },
  {
   "cell_type": "code",
   "execution_count": 79,
   "metadata": {},
   "outputs": [
    {
     "data": {
      "image/png": "[encoded data removed]",
      "text/plain": [
       "<Figure size 432x288 with 1 Axes>"
      ]
     },
     "metadata": {
      "needs_background": "light"
     },
     "output_type": "display_data"
    }
   ],
   "source": [
    "# Set the locator\n",
    "locator = mdates.YearLocator()  # every year\n",
    "fmt = mdates.DateFormatter('%Y')\n",
    "\n",
    "fig, ax1 = plt.subplots()\n",
    "ax1.set_ylabel('D/E')\n",
    "\n",
    "ax1.plot(year_ended_list,total_liabilities/shareholder_equity, '-*',label='D/E')\n",
    "\n",
    "ax1.tick_params(axis='y')\n",
    "#ax1.set_ylim((0.8,1.0))\n",
    "ax1.legend()\n",
    "plt.grid()\n",
    "\n",
    "X = plt.gca().xaxis\n",
    "X.set_major_locator(locator)\n",
    "# Specify formatter\n",
    "X.set_major_formatter(fmt)\n",
    "plt.gcf().autofmt_xdate()\n",
    "\n",
    "plt.title('D/E')\n",
    "plt.show()"
   ]
  },
  {
   "cell_type": "markdown",
   "metadata": {},
   "source": [
    "**Observation:**  \n",
    "The D/E ratio has been falling for the last four years and is now at two."
   ]
  },
  {
   "cell_type": "code",
   "execution_count": null,
   "metadata": {},
   "outputs": [],
   "source": []
  },
  {
   "cell_type": "markdown",
   "metadata": {},
   "source": [
    "**Profit Margin**  \n",
    "A company's profitability depends not only on having a good profit margin, but also on consistently increasing it. This margin is calculated by dividing net income by net sales. For a good indication of historical profit margins, investors should look back at least five years. A high-profit margin indicates the company is executing its business well, but increasing margins mean management has been extremely efficient and successful at controlling expenses.\n",
    "\n",
    "$\\text{Profit margin} = \\frac {\\text{net income}} {\\text{net sales}}$\n"
   ]
  },
  {
   "cell_type": "code",
   "execution_count": 80,
   "metadata": {},
   "outputs": [],
   "source": [
    "#line 0: Total revenue\n",
    "total_revenue = df_metrics.iloc[0].to_numpy()[1:].astype('float')[::-1]"
   ]
  },
  {
   "cell_type": "code",
   "execution_count": 81,
   "metadata": {},
   "outputs": [
    {
     "data": {
      "image/png": "[encoded data removed]",
      "text/plain": [
       "<Figure size 432x288 with 1 Axes>"
      ]
     },
     "metadata": {
      "needs_background": "light"
     },
     "output_type": "display_data"
    }
   ],
   "source": [
    "# Set the locator\n",
    "locator = mdates.YearLocator()  # every year\n",
    "fmt = mdates.DateFormatter('%Y')\n",
    "\n",
    "fig, ax1 = plt.subplots()\n",
    "ax1.set_ylabel('Profit margin %')\n",
    "\n",
    "ax1.plot(year_ended_list,net_income/total_revenue*100, '-+k')\n",
    "\n",
    "ax1.tick_params(axis='y')\n",
    "ax1.set_ylim((0,10))\n",
    "#ax1.legend()\n",
    "plt.grid()\n",
    "\n",
    "X = plt.gca().xaxis\n",
    "X.set_major_locator(locator)\n",
    "# Specify formatter\n",
    "X.set_major_formatter(fmt)\n",
    "plt.gcf().autofmt_xdate()\n",
    "\n",
    "plt.title('Profit margin')\n",
    "plt.show()"
   ]
  },
  {
   "cell_type": "markdown",
   "metadata": {},
   "source": [
    "**Observation:**  \n",
    "The profit margin has been falling for the past four years, a ref flag, however some consideration needs to be made for the pandemic.  Page 3 of the Fidelity report compares Operating Margin of the company to 5 peers."
   ]
  },
  {
   "cell_type": "markdown",
   "metadata": {},
   "source": [
    "**Safety margin**  \n",
    "A safety margin is the difference between the intrinsic stock value and the market price of the stock.  The margin accounts for uncertainty in the estimations and methods used in the analysis.  The safety margin doesn't always have to be the same number and can vary from company to company."
   ]
  },
  {
   "cell_type": "code",
   "execution_count": null,
   "metadata": {},
   "outputs": [],
   "source": []
  },
  {
   "cell_type": "markdown",
   "metadata": {},
   "source": [
    "**One dollar premise**  \n",
    "This is a financial test that shows the strength of the business and how well management has rationality allocated to the company's business.\n",
    "\n",
    "From a company's income, subtract all dividends paid to shareholders.  What is left over is the company's retained earnings.  Now add the company's retained earnings over a 10 year period.  Next determine the difference between the company's current market value and its market value 10 years ago.  If the business has employed retained earnings unproductively over this ten year period, the market eventually catches up and will set a lower price on the business. "
   ]
  },
  {
   "cell_type": "code",
   "execution_count": 82,
   "metadata": {},
   "outputs": [
    {
     "name": "stdout",
     "output_type": "stream",
     "text": [
      "retained_earnings: $5.60B\n"
     ]
    }
   ],
   "source": [
    "retained_earnings = net_income.sum() - dividends.sum()\n",
    "print('retained_earnings: ${:,.2f}B'.format(retained_earnings/1e9))"
   ]
  },
  {
   "cell_type": "code",
   "execution_count": 83,
   "metadata": {},
   "outputs": [
    {
     "name": "stdout",
     "output_type": "stream",
     "text": [
      "Current market value: $11.21B to $22.10B\n"
     ]
    }
   ],
   "source": [
    "# Current market value, share price multiplied by number of shares\n",
    "cmv_high = df_dcf_data['shares_outstanding'].iloc[-1]*fy_high[-1]\n",
    "cmv_low = df_dcf_data['shares_outstanding'].iloc[-1]*fy_low[-1]\n",
    "print('Current market value: ${:,.2f}B to ${:,.2f}B'.format(cmv_low/1e9,cmv_high/1e9))"
   ]
  },
  {
   "cell_type": "code",
   "execution_count": 84,
   "metadata": {},
   "outputs": [
    {
     "name": "stdout",
     "output_type": "stream",
     "text": [
      "Past market value: $8B to $12B\n"
     ]
    }
   ],
   "source": [
    "# Past market value, share price multiplied by number of shares\n",
    "pmv_high = df_dcf_data['shares_outstanding'].iloc[0]*fy_high[0]\n",
    "pmv_low = df_dcf_data['shares_outstanding'].iloc[0]*fy_low[0]\n",
    "print('Past market value: ${:,.0f}B to ${:,.0f}B'.format(pmv_low/1e9,pmv_high/1e9))"
   ]
  },
  {
   "cell_type": "code",
   "execution_count": 85,
   "metadata": {},
   "outputs": [
    {
     "name": "stdout",
     "output_type": "stream",
     "text": [
      "Difference in market value: $3B to $10B\n"
     ]
    }
   ],
   "source": [
    "print('Difference in market value: ${:,.0f}B to ${:,.0f}B'.format((cmv_low-pmv_low)/1e9,(cmv_high-pmv_high)/1e9))"
   ]
  },
  {
   "cell_type": "markdown",
   "metadata": {},
   "source": [
    "The retained earnings of \\\\$5B produced an increase in market value of $3B to $10B, which is not that impressive."
   ]
  },
  {
   "cell_type": "markdown",
   "metadata": {},
   "source": [
    "**Plot share price vs EPS**  \n",
    "Looking at the one dollar premise in terms of share price and EPS.  "
   ]
  },
  {
   "cell_type": "code",
   "execution_count": 86,
   "metadata": {},
   "outputs": [
    {
     "data": {
      "image/png": "[encoded data removed]",
      "text/plain": [
       "<Figure size 432x288 with 1 Axes>"
      ]
     },
     "metadata": {
      "needs_background": "light"
     },
     "output_type": "display_data"
    }
   ],
   "source": [
    "# plotting the eps data points\n",
    "ax = plt.bar(EPS,fy_high-fy_low,width = .05,bottom=fy_low)\n",
    "plt.grid()\n",
    "plt.ylim((10,80))\n",
    "plt.ylabel('high and low share price range')\n",
    "plt.xlabel('EPS')\n",
    "plt.title('years from 2010 to 2020')\n",
    "\n",
    "rects = ax.patches\n",
    "\n",
    "# Make some labels.\n",
    "labels = [year_ended_list[i].strftime(\"%Y\") for i in range(len(year_ended_list))]\n",
    "for rect, label in zip(rects, labels):\n",
    "    y_top =  rect.get_y() + rect.get_height()\n",
    "    plt.text(rect.get_x(), y_top+1, label, rotation=90,va='bottom')    \n",
    "\n",
    "plt.show()"
   ]
  },
  {
   "cell_type": "markdown",
   "metadata": {},
   "source": [
    "**Observations:**  \n",
    "The range over which the price varies appears to be flat with respect to the EPS.  This indicates the stock market is not following this company’s earnings and the prospect of price appreciation is small."
   ]
  },
  {
   "cell_type": "markdown",
   "metadata": {},
   "source": [
    "### Market metrics <a id=\"section9-4\"></a>\n",
    "The share price is determined by the market. The value is determined by the analyst. "
   ]
  },
  {
   "cell_type": "raw",
   "metadata": {},
   "source": []
  },
  {
   "cell_type": "markdown",
   "metadata": {},
   "source": [
    "## 10) Peer analysis   <a id=\"section10\"></a>\n",
    "See the Fidelity report, the company seems to be in the middle of its peers."
   ]
  },
  {
   "cell_type": "code",
   "execution_count": null,
   "metadata": {},
   "outputs": [],
   "source": []
  },
  {
   "cell_type": "markdown",
   "metadata": {},
   "source": [
    "## 11) Conclusion  <a id=\"section11\"></a>\n",
    "Reviewing the findings from each section\n",
    "\n",
    "Quick look:  the dividend reduction is a red flag\n",
    "- NACI stock selection guide analysis: Revenues are flat, EPS variable a slight positive slope except for the last three years.  The estimated price range in 5 years: 54.63 to 80.60.  This indicates the price is near the fair value.\n",
    "- Discounted cash flow analysis, base line: the average revenue growth rate is -3.08%.  The average debt growth rate is -2.45%.  The intrinsic stock value is \\\\$112.66 which is greater than the current stock price of \\\\$54.39\n",
    "- Dividend Discount Model: dividends paid is increasing every year (except for 2021)\n",
    "- Value analysis: Return on equity is variable but trending down the last 4 years. Return on Assets is variable but trending down the last 4 years. D/E now at 2, but was as high as 6. Profit margin is variable but trending down the last 4 years. One dollar premise shows retained earnings of \\\\$5.60B producing an increase in market value: \\\\$3B to \\\\$10B. The plot share price vs EPS is flat over the years. There are a number of red flags here.  \n",
    "\n",
    "My concerns: The recent revenue growth is mainly flat, but RoE, RoA and PM are trending down.\n",
    "\n",
    "Conclusion: do not buy.  Wait for dust to settle from dividend reduction. \n"
   ]
  },
  {
   "cell_type": "markdown",
   "metadata": {},
   "source": [
    "## 12) Notes  <a id=\"section12\"></a>\n",
    "Various notes that \n",
    "\n",
    "\n",
    "**Negative working capital**  \n",
    "The company has a negative working capital rate. Negative working capital describes a situation where a company's current liabilities exceed its current assets as stated on the firm's balance sheet. In other words, there is more short-term debt than there are short-term assets. \n",
    "\n",
    "Negative working capital most often arises when a business generates cash very quickly because it can sell products to its customers before it has to pay the bills to its vendors for the original goods or raw materials. In this way, the company is effectively using the vendor's money to grow. \n",
    "\n",
    "\n",
    "#### The following notes outline the changes to the DCF model for financial and REIT companies.  \n",
    "\n",
    "**Valuing a REIT**  \n",
    "Notes from Valuepro Book, page 237  \n",
    "\n",
    "- NOPM: To calculate operating income take rental revenue and subtracted total real estate expenses and G&A expenses. To arrive at the NOPM divide the adjusted income from real estate by real estate rental revenue. For the REIT, take income from real estate, which includes depreciation and amortization, and subtract GSA. Exclude other income, gains on sale of real estate and interest expenses.\n",
    "- REIT has no traditional R&D costs\n",
    "\n",
    "REIT is not taxed at the corporate level, tax rate: should be near zero.\n",
    "\n",
    "Depreciation and capital expenditures are significantly higher for REITs than in other companies.\n",
    "\n",
    "New property acquisitions are not directly accounted for in the DCF model for a REIT.\n",
    "\n",
    "- Working capitol: accounts payable, rents and security deposits\n",
    " - Short term assets: cash, rents and other receivables and prepaid expenses\n",
    " - Short term liabilities: accounts payable, advance rents security deposits\n",
    " \n",
    "Working capital is almost zero, which is similar to other financial companies.\n",
    "\n",
    "The consolidated balance sheet lists the assets as: \n",
    "- Real estate held for investment, at cost:\n",
    " - Land\n",
    " - Buildings and improvements\n",
    " - Total real estate held for investment, at cost\n",
    " - Less accumulated depreciation and amortization\n",
    " - Real estate held for investment, net\n",
    "- Real estate and lease intangibles held for sale, net\n",
    "- Cash and cash equivalents <- current asset\n",
    "- Accounts receivable, net <- current asset\n",
    "- Lease intangible assets, net\n",
    "- Other assets, net\n",
    "\n",
    "The line items indicated above have been taken to be the current assets. Intangibles and long term items have been excluded.\n",
    "\n",
    "The consolidated balance sheet lists the liabilities as: \n",
    "- Distributions payable <- current liabilities\n",
    "- Accounts payable and accrued expenses <- current liabilities\n",
    "- Lease intangible liabilities, net\n",
    "- Other liabilities\n",
    "- Line of credit payable and commercial paper <- current liabilities\n",
    "- Term loans, net\n",
    "- Mortgages payable, net <- current liabilities\n",
    "- Notes payable, net\n",
    "\n",
    "The line items indicated above have been taken to be the current liabilities.\n",
    "\n",
    "**Valuing a financial company**  \n",
    "Notes from Valuepro Book, page 206  \n",
    "\n",
    "- Total revenue comes from the total interest and dividend income line on the income statement.  The calculation of operating income is more inclusive for a financial company than for an industrial or high tech company.  For financial companies, operating revenue includes all normal revenue items plus interest income, dividends received and other investment income.\n",
    "\n",
    "- Cost of Goods Sold (CGS) comes from the Total interest expense line on the statement of income. \n",
    "- General and Administrative (G&A) are set to zero since they are included in the interest expense line\n",
    "- A financial company has no traditional R&D costs\n",
    "\n",
    "- $\\text{Cost of Goods Sold (CGS)} = \\text{Total interest expense} + \\text{Total non-interest expense}$  \n",
    "- General and Administrative (G&A) are set to zero since they are included in the interest expense line\n",
    "- A financial company has no traditional R&D costs\n",
    "\n",
    "- Depreciation and amortization of premises and equipment from Consolidated Statements of Cash Flows.  \n",
    "- Amortization of other acquisition-related intangible assets is not included.\n",
    "\n",
    "- New investment and Depreciation: Property, plant and equipment expenditures and depreciation charges are significantly lower for a financial company.  A typical manufacturing company, in order to grow its business, invests a significant portion of its revenues in plant, property and equipment (PPE).  Financial companies invest very little in the way of PPE.  However, software, risk management systems and acquisitions of other businesses, need to be included.\n",
    "\n",
    "From the Consolidated Statements of Cash Flows, under Cash Flows from Investing Activities\n",
    "- Purchases of premises and equipment\n",
    "- Purchases of leased equipment, net\n",
    "\n",
    "- Working capital supports manufacturing and service activities of nonfinancial companies.  For financial companies, their principal liabilities  and assets are financial claims that take the place of working capital.  Because there is no differentiation between current and long term assets and liabilities for a financial company, we adjust working capital charges to zero.  A financial company generally invests all of its funds in other financial assets, which have characteristics of current assets rather than PP&E.  \n",
    "$\\text{Accounts Receivable} = 0$  \n",
    "$\\text{Inventories} = 0$  \n",
    "$\\text{Accounts Payable} = 0$  \n",
    "$\\text{working capital} = 0$ \n",
    "\n",
    "- Short term assets:  The balance sheets of most financial companies do not separate assets and liabilities into current and long term categories.  When calculating the short term assets take the total assets and subtract goodwill and intangible assets also subtract other assets of questionable value.  Subtract long term assets such as PP&E from total assets.  \n",
    "\n",
    "$\\text{Short term assets} = \\text{Total assets} - \\text{good will and others of questionable value} - \\text{Premises and equipment}$\n",
    "\n",
    "- A financial company's principal liabilities are deposits, Federal funds purchased, trading account liabilities, insurance policy and claims reserves, contract holder funds and short term borrowing.  To be consistent with the treatment of interest and an operating expense for financial companies, include long term debt in the short term liability category.  \n",
    "- Short term liabilities:  Include long term debt.  \n",
    "\n",
    "$\\text{Long term debt} = 0$\n",
    "\n",
    "This company was selected for analysis because it is on the Dividend Aristocrat list and passes the quick look tests.  This notebook will be used as a template when analyzing other companies.\n",
    "\n",
    "Dividend: Aristocrat, Achiever & Champion\n",
    "- Aristocrat: S&P 500 Dividend Aristocrats is designed to measure the performance of S&P 500 index constituents that have followed a policy of consistently increasing dividends every year for at least 25 consecutive years.\n",
    "- Achiever: The Broad Dividend Achievers Index. Eligible companies must be incorporated in the U.S. or its territories, trade on the NYSE, NASDAQ or AMEX, and have increased its annual regular dividend payments for the last 10 or more consecutive years.\n",
    " - https://dividendvaluebuilder.com/dividend-achievers-list/\n",
    " - https://www.marketbeat.com/dividends/achievers/\n",
    "- Champion: This list includes companies that had increased their dividend for at least 25 consecutive years, and includes additional companies that had paid higher dividends without having increased the payout in every calendar year.\n",
    " - https://dividendvaluebuilder.com/dividend-champions-list/\n",
    " - https://www.dividendgrowthinvestor.com/p/dividend-champions-list.html"
   ]
  },
  {
   "cell_type": "markdown",
   "metadata": {},
   "source": [
    "## 13) References  <a id=\"section13\"></a>\n",
    "\n",
    "1. O'Hara, Thomas E., and Ken Janke. Starting and Running a Profitable Investment Club: the Official Guide from the National Association of Investors Corporation. Times Business, 1998. \n",
    "2. Gray, Gary, et al. Streetsmart Guide to Valuing a Stock: the Savvy Investors Key to Beating the Market. McGraw-Hill, 2004. \n",
    "3. Robert G. Hagstrom, The Warren Buffett Way, Wiley, 2013"
   ]
  },
  {
   "cell_type": "code",
   "execution_count": null,
   "metadata": {},
   "outputs": [],
   "source": []
  },
  {
   "cell_type": "code",
   "execution_count": null,
   "metadata": {},
   "outputs": [],
   "source": []
  }
 ],
 "metadata": {
  "kernelspec": {
   "display_name": "Python 3",
   "language": "python",
   "name": "python3"
  },
  "language_info": {
   "codemirror_mode": {
    "name": "ipython",
    "version": 3
   },
   "file_extension": ".py",
   "mimetype": "text/x-python",
   "name": "python",
   "nbconvert_exporter": "python",
   "pygments_lexer": "ipython3",
   "version": "3.7.3"
  }
 },
 "nbformat": 4,
 "nbformat_minor": 2
}
